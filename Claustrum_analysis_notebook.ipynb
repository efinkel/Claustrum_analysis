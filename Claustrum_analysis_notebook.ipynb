{
 "cells": [
  {
   "cell_type": "markdown",
   "metadata": {},
   "source": [
    "# Notebook for exploring claustrum data"
   ]
  },
  {
   "cell_type": "markdown",
   "metadata": {},
   "source": [
    "### install and import essential packages and data"
   ]
  },
  {
   "cell_type": "code",
   "execution_count": null,
   "metadata": {
    "ExecuteTime": {
     "end_time": "2017-03-26T15:54:15.036128Z",
     "start_time": "2017-03-26T15:54:10.204240"
    },
    "collapsed": false
   },
   "outputs": [],
   "source": [
    "#!pip install ipywidgets\n",
    "#!jupyter nbextension enable --py widgetsnbextension\n",
    "\n",
    "import scipy as sp\n",
    "import scipy.io\n",
    "import scipy.stats\n",
    "import os\n",
    "import numpy as np\n",
    "import pandas as pd\n",
    "\n",
    "from collections import Iterable\n",
    "import matplotlib.pylab as mpl\n",
    "%load_ext autoreload\n",
    "\n",
    "mat = sp.io.loadmat('allUnitsLog_claus.mat')\n",
    "mat2 = sp.io.loadmat('Opto_log_allUnits_claus.mat')\n",
    "log = mat['fullLog']\n",
    "log_df = pd.DataFrame(log, columns=['mouse_name', 'date', 'block_type', 'trial_type', 'touch_stimulus',\\\n",
    "                                    'vis_stimulus', 'response','trial_num', 'stim_onset', 'stim_offset', 'licks_right',\\\n",
    "                                    'licks_left', 'spike_times', 'cluster_name' ])\n",
    "opto_log = mat2['fullOptoTable']\n",
    "opto_log_df = pd.DataFrame(opto_log, columns=['mouse_name', 'date', 'cluster_name', 'opto_stim_onsets', 'opto_stim_offsets', 'spikes'])"
   ]
  },
  {
   "cell_type": "code",
   "execution_count": null,
   "metadata": {
    "collapsed": false
   },
   "outputs": [],
   "source": [
    "import h5py\n",
    "f = h5py.File('waveform_log.mat')\n",
    "f['waveform_log']\n",
    "\n",
    "data = [f[element[0]][:] for element in f['waveform_log']]\n",
    "    \n",
    "data[3]"
   ]
  },
  {
   "cell_type": "code",
   "execution_count": null,
   "metadata": {
    "ExecuteTime": {
     "end_time": "2017-03-26T15:54:18.753895Z",
     "start_time": "2017-03-26T15:54:15.040134"
    },
    "collapsed": false,
    "scrolled": true
   },
   "outputs": [],
   "source": [
    "mat3 = sp.io.loadmat('waveform_log.mat')"
   ]
  },
  {
   "cell_type": "code",
   "execution_count": null,
   "metadata": {
    "ExecuteTime": {
     "end_time": "2017-03-26T15:54:19.809418Z",
     "start_time": "2017-03-26T15:54:18.755396"
    },
    "collapsed": false,
    "scrolled": true
   },
   "outputs": [],
   "source": [
    "waveforms = mat3['waveform_log']\n",
    "waveforms_df = pd.DataFrame(waveforms, columns = ['mouse_name', 'date', 'tetrode_num', 'spikes', 'waveforms'])\n",
    "\n",
    "waveforms_df.head(3)"
   ]
  },
  {
   "cell_type": "markdown",
   "metadata": {},
   "source": [
    "### clean up data tables"
   ]
  },
  {
   "cell_type": "code",
   "execution_count": null,
   "metadata": {
    "ExecuteTime": {
     "end_time": "2017-03-26T15:54:20.301320Z",
     "start_time": "2017-03-26T15:54:19.813424"
    },
    "collapsed": false
   },
   "outputs": [],
   "source": [
    "\n",
    "for col in [0,1,2,3,4,5,6,6,7,7,7,7,8,8,8,8,9,9,9,9,10,10,11,11,13]:\n",
    "        log_df.ix[:,col] = log_df.ix[:,col].str[0]\n",
    "for col in [0,1,2,3,4]:\n",
    "        opto_log_df.ix[:,col] = opto_log_df.ix[:,col].str[0]\n",
    "for col in [0,1,2]:\n",
    "    waveforms_df.ix[:,col] = waveforms_df.ix[:,col].str[0]\n",
    "    \n"
   ]
  },
  {
   "cell_type": "code",
   "execution_count": null,
   "metadata": {
    "ExecuteTime": {
     "end_time": "2017-03-26T15:54:21.033536Z",
     "start_time": "2017-03-26T15:54:20.304822"
    },
    "collapsed": false
   },
   "outputs": [],
   "source": [
    "waveforms_df['spikes']= waveforms_df['spikes'].apply(lambda y: np.concatenate(y) if len(y) > 0 else y)\n",
    "opto_log_df['spikes'] = opto_log_df['spikes'].apply(lambda y: np.concatenate(y) if len(y) > 0 else y)"
   ]
  },
  {
   "cell_type": "code",
   "execution_count": null,
   "metadata": {
    "ExecuteTime": {
     "end_time": "2017-03-26T15:54:21.058020Z",
     "start_time": "2017-03-26T15:54:21.036006"
    },
    "collapsed": false
   },
   "outputs": [],
   "source": [
    "log_df.head(2)"
   ]
  },
  {
   "cell_type": "code",
   "execution_count": null,
   "metadata": {
    "ExecuteTime": {
     "end_time": "2017-03-26T15:54:21.131581Z",
     "start_time": "2017-03-26T15:54:21.060023"
    },
    "collapsed": false,
    "scrolled": false
   },
   "outputs": [],
   "source": [
    "opto_log_df.head(2)"
   ]
  },
  {
   "cell_type": "code",
   "execution_count": null,
   "metadata": {
    "ExecuteTime": {
     "end_time": "2017-03-26T15:54:22.861502Z",
     "start_time": "2017-03-26T15:54:21.133080"
    },
    "collapsed": false
   },
   "outputs": [],
   "source": [
    "waveforms_df.head(5)"
   ]
  },
  {
   "cell_type": "code",
   "execution_count": null,
   "metadata": {
    "ExecuteTime": {
     "end_time": "2017-03-26T15:54:23.790934Z",
     "start_time": "2017-03-26T15:54:22.863165"
    },
    "collapsed": false
   },
   "outputs": [],
   "source": [
    "clusters = opto_log_df['cluster_name'].copy()\n",
    "clusters = clusters.apply(lambda y: y[:3])\n",
    "\n",
    "opto_log_df['waveforms'] = np.nan\n",
    "opto_log_df['waveforms'] = opto_log_df['waveforms'].astype(object)\n",
    "for unit in range(len(opto_log_df)):\n",
    "    tetrode_idx = pd.concat((opto_log_df.loc[unit,['mouse_name', 'date']] == waveforms_df[['mouse_name', 'date']],\n",
    "           clusters[unit] == waveforms_df['tetrode_num']), axis = 1).all(axis = 1)\n",
    "    tetrode = waveforms_df[tetrode_idx]\n",
    "    \n",
    "    spike_idx = np.in1d(np.around(tetrode['spikes'].iloc[0],4),  np.around(opto_log_df.loc[unit, 'spikes'],4))\n",
    "    wv = tetrode['waveforms'].iloc[0][spike_idx]\n",
    "    opto_log_df.loc[unit,'waveforms'] = wv"
   ]
  },
  {
   "cell_type": "code",
   "execution_count": null,
   "metadata": {
    "ExecuteTime": {
     "end_time": "2017-03-26T15:54:23.806946Z",
     "start_time": "2017-03-26T15:54:23.793436"
    },
    "collapsed": false
   },
   "outputs": [],
   "source": [
    "opto_log_df['waveforms1'] = np.nan\n",
    "opto_log_df['waveforms2'] = np.nan\n",
    "opto_log_df['waveforms3'] = np.nan\n",
    "opto_log_df['waveforms4'] = np.nan\n",
    "\n",
    "opto_log_df['waveforms1'] = opto_log_df['waveforms'].apply(lambda y: y[:,0,:])\n",
    "opto_log_df['waveforms2'] = opto_log_df['waveforms'].apply(lambda y: y[:,1,:])\n",
    "opto_log_df['waveforms3'] = opto_log_df['waveforms'].apply(lambda y: y[:,2,:])\n",
    "opto_log_df['waveforms4'] = opto_log_df['waveforms'].apply(lambda y: y[:,3,:])\n",
    "del opto_log_df['waveforms']"
   ]
  },
  {
   "cell_type": "markdown",
   "metadata": {},
   "source": [
    "### sort optogenetic stimulus pulses into groups based on frequency of stimulation"
   ]
  },
  {
   "cell_type": "code",
   "execution_count": null,
   "metadata": {
    "ExecuteTime": {
     "end_time": "2017-03-26T15:54:23.894544Z",
     "start_time": "2017-03-26T15:54:23.809949"
    },
    "code_folding": [],
    "collapsed": false
   },
   "outputs": [],
   "source": [
    "unique_sessions = opto_log_df[['mouse_name', 'date']].drop_duplicates()\n",
    "\n",
    "opto_log_df['first_last_opto_pulses'] = np.nan\n",
    "opto_log_df['grouped_opto_pulses'] = np.nan\n",
    "\n",
    "for session in range(unique_sessions.shape[0]):\n",
    "    session_row_ind = (opto_log_df.loc[:,['mouse_name', 'date']] == unique_sessions.iloc[session]).all(axis=1)\n",
    "    rows = opto_log_df.loc[session_row_ind]\n",
    "    \n",
    "    ISIs = np.around(rows.iloc[0,3][1:]-rows.iloc[0,3][0:-1], 4)\n",
    "    ISIs = np.concatenate(([ISIs[0]], ISIs, [ISIs[-1]]))\n",
    "    unique_ISIs = np.unique(ISIs, return_counts = True)\n",
    "    ind = unique_ISIs[1]>50\n",
    "    unique_ISIs = unique_ISIs[0][ind]\n",
    "\n",
    "    first_last_opto_pulses = {}\n",
    "    grouped_opto_pulses = {}\n",
    "    for isi in unique_ISIs:\n",
    "        ISI_category = np.where(np.absolute(ISIs-isi) <= 0.001)[0]\n",
    "        opto_pulse_inds= np.array(range(np.min(ISI_category),np.max(ISI_category)))\n",
    "        grouped_opto_pulses[1/isi] = rows.iloc[0,3][opto_pulse_inds]\n",
    "\n",
    "        IBI_ind = ISIs[opto_pulse_inds] != isi\n",
    "        first_pulse_ind = np.concatenate(([opto_pulse_inds[0]],opto_pulse_inds[IBI_ind]))\n",
    "        last_pulse_ind = np.concatenate((first_pulse_ind[1:]-1, [opto_pulse_inds[-1]]))\n",
    "        first_last_opto_pulses[1/isi] = [rows.iloc[0,3][first_pulse_ind],rows.iloc[0,3][last_pulse_ind]]\n",
    "    opto_log_df.loc[session_row_ind,'first_last_opto_pulses'] = [first_last_opto_pulses]\n",
    "    opto_log_df.loc[session_row_ind,'grouped_opto_pulses'] = [grouped_opto_pulses]"
   ]
  },
  {
   "cell_type": "code",
   "execution_count": null,
   "metadata": {
    "ExecuteTime": {
     "end_time": "2017-03-26T15:54:24.958708Z",
     "start_time": "2017-03-26T15:54:23.896048"
    },
    "collapsed": false,
    "scrolled": true
   },
   "outputs": [],
   "source": [
    "opto_log_df.head(3)"
   ]
  },
  {
   "cell_type": "markdown",
   "metadata": {},
   "source": [
    "### plot spike rasters for optogenetic stimulus trials\n",
    "#### define function that will plot rasters"
   ]
  },
  {
   "cell_type": "code",
   "execution_count": null,
   "metadata": {
    "ExecuteTime": {
     "end_time": "2017-03-26T15:54:25.060607Z",
     "start_time": "2017-03-26T15:54:24.960488"
    },
    "code_folding": [],
    "collapsed": false
   },
   "outputs": [],
   "source": [
    "import matplotlib.patches as patches\n",
    "from matplotlib import gridspec\n",
    "font = {'family' : 'sans-serif',\n",
    "        'weight' : 'normal',\n",
    "        'size'   : 18}\n",
    "\n",
    "mpl.rc('font', **font)\n",
    "mpl.rc('xtick', labelsize=16) \n",
    "mpl.rc('ytick', labelsize=16)\n",
    "mpl.rc('axes', labelsize=18)\n",
    "\n",
    "    \n",
    "\n",
    "def opto_identify(unit_num, log):\n",
    "    \n",
    "    unit = opto_log_df.iloc[unit_num]\n",
    "    mpl.close('all')\n",
    "    fig = mpl.figure(figsize=(15, 8))\n",
    "    fig.suptitle(unit['mouse_name'] + ', ' +  unit['date'] + ', ' + unit['cluster_name'])\n",
    "    gs = gridspec.GridSpec(5, 2, height_ratios=[1, 15, 5, 1, 15]) \n",
    "    ax1 = fig.add_subplot(gs[0])\n",
    "    ax2 = fig.add_subplot(gs[1])\n",
    "    ax3 = fig.add_subplot(gs[6])\n",
    "    ax4 = fig.add_subplot(gs[7])\n",
    "\n",
    "    rs1 = fig.add_subplot(gs[2])\n",
    "    rs2 = fig.add_subplot(gs[3])\n",
    "    rs3 = fig.add_subplot(gs[8])\n",
    "    rs4 = fig.add_subplot(gs[9])\n",
    "\n",
    "    rasters = [rs1, rs2, rs3, rs4]\n",
    "    opto_axes = [ax1, ax2, ax3, ax4]\n",
    "    frequencies = [1,5,10,40]\n",
    "\n",
    "    for i, frequency in enumerate(frequencies):\n",
    "        flop = unit['first_last_opto_pulses'][frequency]\n",
    "\n",
    "        trial_dur = flop[1][0] - flop[0][0]\n",
    "        trial_total = 0\n",
    "        for trial in range(len(flop[0])):\n",
    "            trial_spike_inds = (flop[0][trial]-0.5 < unit['spikes']) & (unit['spikes'] < flop[1][trial]+.5)\n",
    "            trial_spikes = unit['spikes'][trial_spike_inds] - flop[0][trial]\n",
    "            rasters[i].vlines(trial_spikes, trial + .5, trial + 1.3, linewidth = 0.5)\n",
    "            trial_total += 1\n",
    "\n",
    "        figure_pulse_inds = [(unit['grouped_opto_pulses'][frequency] >= flop[0][1])\n",
    "                  & (unit['grouped_opto_pulses'][frequency] <= flop[1][1])]\n",
    "        figure_pulses = unit['grouped_opto_pulses'][frequency][figure_pulse_inds] - flop[0][1]\n",
    "        example_pulse_ind = np.where(unit['opto_stim_onsets'] == flop[0][1])\n",
    "        stim_duration = unit['opto_stim_offsets'][example_pulse_ind] - unit['opto_stim_onsets'][example_pulse_ind]\n",
    "\n",
    "        for p in figure_pulses:\n",
    "            opto_axes[i].add_patch(patches.Rectangle((p,0), stim_duration*5, 4, color = 'xkcd:sky blue')) \n",
    "\n",
    "        rasters[i].autoscale(enable=True, tight=True)\n",
    "        rasters[i].spines['right'].set_visible(False)\n",
    "        rasters[i].spines['top'].set_visible(False)\n",
    "        rasters[i].xaxis.set_ticks_position('bottom')\n",
    "        rasters[i].yaxis.set_ticks_position('left')\n",
    "        rasters[i].set_xlim(-trial_dur*0.1, trial_dur + trial_dur*0.1)\n",
    "        rasters[i].set_xlabel('Time(s)')\n",
    "        rasters[i].set_ylabel('Trials')\n",
    "\n",
    "        opto_axes[i].set_ylim(0, 4, )\n",
    "        opto_axes[i].set_xlim(-trial_dur*0.1, trial_dur + trial_dur*0.1 )\n",
    "        opto_axes[i].axis('off')\n",
    "        opto_axes[i].set_title(str(frequency) + ' Hz')\n",
    "\n",
    "    mpl.subplots_adjust(left=0.1, right=.9, top=0.9, bottom=0.1)\n",
    "\n",
    "    return fig"
   ]
  },
  {
   "cell_type": "markdown",
   "metadata": {},
   "source": [
    "#### create widget that will make exploring data easier - drag slider to switch between units"
   ]
  },
  {
   "cell_type": "code",
   "execution_count": null,
   "metadata": {
    "ExecuteTime": {
     "end_time": "2017-03-26T15:54:27.372438Z",
     "start_time": "2017-03-26T15:54:26.042859"
    },
    "collapsed": false
   },
   "outputs": [],
   "source": [
    "from __future__ import print_function\n",
    "from ipywidgets import interact, interactive, fixed, interact_manual\n",
    "from IPython.html import widgets\n",
    "from IPython.display import display\n",
    "import traitlets\n",
    "\n",
    "log = opto_log_df\n",
    "unit_num = 12\n",
    "num = widgets.IntSlider(min = 1, max = opto_log_df.shape[0], step = 1, width='75%', height='30px', \n",
    "                    description= \"Unit\", continuous_update=False)\n",
    "s = interactive(opto_identify, unit_num = num, log = fixed(log), continuous_update=False)\n",
    "display(s)"
   ]
  },
  {
   "cell_type": "markdown",
   "metadata": {},
   "source": [
    "### plot reliability and latency of optogenetic responses\n",
    "#### calculate identification metrics for each unit"
   ]
  },
  {
   "cell_type": "code",
   "execution_count": null,
   "metadata": {
    "ExecuteTime": {
     "end_time": "2017-03-26T17:38:23.037312Z",
     "start_time": "2017-03-26T17:38:08.938122"
    },
    "collapsed": false,
    "scrolled": true
   },
   "outputs": [],
   "source": [
    "all_opto_metrics_df = None\n",
    "for row in range(len(opto_log_df)):\n",
    "    unit = opto_log_df.iloc[row]\n",
    "\n",
    "    first_pulse = np.min(np.concatenate(list(unit['grouped_opto_pulses'].values())))\n",
    "    last_pulse = np.max(np.concatenate(list(unit['grouped_opto_pulses'].values())))\n",
    "    cont_spike_inds = (unit['spikes'] < first_pulse) | (unit['spikes'] > last_pulse)\n",
    "\n",
    "    frequencies = [1,5,10,40]\n",
    "\n",
    "    opto_windows_df = pd.DataFrame(dict([(k,pd.Series(v)) for k,v in unit['grouped_opto_pulses'].items()]))\n",
    "    del opto_windows_df[2]\n",
    "    names = [str(freq) + 'end' for freq in frequencies]\n",
    "    evoked_spike_inds_df = opto_windows_df.applymap(lambda y: np.where((y <= unit['spikes']) & (y+0.01>= unit['spikes']))[0]) \n",
    "\n",
    "    opto_metrics_df= pd.DataFrame(frequencies, columns = ['frequency'])\n",
    "    opto_metrics_df['unit_number'] = row\n",
    "    opto_metrics_df['mouse_name'] = unit['mouse_name']\n",
    "    opto_metrics_df['date'] = unit['date']\n",
    "    opto_metrics_df['cluster_name'] = unit['cluster_name']\n",
    "\n",
    "    spike_inds = []\n",
    "    for freq in frequencies:\n",
    "        spike_inds.append(np.concatenate(evoked_spike_inds_df[freq].as_matrix()))\n",
    "    opto_metrics_df['spike_inds'] = pd.Series(spike_inds)\n",
    "    pulses = pd.DataFrame([[unit['grouped_opto_pulses'][freq]] for freq in frequencies],\n",
    "                          columns = ['pulses'])\n",
    "    opto_metrics_df['pulses'] = pulses\n",
    "\n",
    "    def find_latencies(s):\n",
    "        spikes = unit['spikes']\n",
    "        idx = spikes.searchsorted(s['pulses'], side = 'right')\n",
    "        idx2 = idx[idx < len(unit['spikes'])] #otherwise will return an error if no spikes follow the last laser pulse\n",
    "        raw_latencies = spikes[idx2] - s['pulses'][0:len(idx2)]\n",
    "        if len(raw_latencies <= 0.01) > 0:\n",
    "            reliability = sum(raw_latencies <= 0.01)/len(raw_latencies <= 0.01)\n",
    "        else:\n",
    "            reliability = 0\n",
    "        latencies = raw_latencies[raw_latencies <= 0.01]\n",
    "        return [[latencies], reliability]\n",
    "    # raw_latencies, latencies\n",
    "    opto_metrics_df['reliability'] = opto_metrics_df.apply(lambda y: find_latencies(y)[1], axis = 1)\n",
    "    opto_metrics_df['latencies'] = opto_metrics_df.apply(lambda y: find_latencies(y)[0], axis = 1)\n",
    "    opto_metrics_df['latencies'] = opto_metrics_df['latencies'].apply(lambda y: y[0])\n",
    "    opto_metrics_df['mean_latencies'] = opto_metrics_df['latencies'].apply(lambda y: np.mean(y) if len(y)>0 else None)\n",
    "    \n",
    "    waveform_corr = []\n",
    "    for waveform in ['waveforms1','waveforms2','waveforms3','waveforms4']:    \n",
    "        opto_metrics_df[waveform] = opto_metrics_df['spike_inds'].apply(\n",
    "            lambda y: np.mean(unit[waveform][y], axis=0))\n",
    "        opto_metrics_df['cont_'+waveform] = [np.mean(unit[waveform][cont_spike_inds], axis=0)]*4\n",
    "        waveform_corr.append([sp.stats.pearsonr(opto_metrics_df[waveform][i],\n",
    "                           opto_metrics_df['cont_'+waveform][i])[0] for i in range(4)])\n",
    "    opto_metrics_df['waveform_corr'] = np.around(np.mean(waveform_corr),2)\n",
    "\n",
    "    \n",
    "    if all_opto_metrics_df is None: \n",
    "        all_opto_metrics_df = opto_metrics_df\n",
    "    else:\n",
    "        all_opto_metrics_df = all_opto_metrics_df.append(opto_metrics_df)\n",
    "all_opto_metrics_df = all_opto_metrics_df.reset_index(drop = True)"
   ]
  },
  {
   "cell_type": "code",
   "execution_count": null,
   "metadata": {
    "collapsed": false
   },
   "outputs": [],
   "source": [
    "all_opto_metrics_df.head(3)"
   ]
  },
  {
   "cell_type": "markdown",
   "metadata": {
    "collapsed": true
   },
   "source": [
    "#### define function that will plot identification metrics for each unit"
   ]
  },
  {
   "cell_type": "code",
   "execution_count": null,
   "metadata": {
    "collapsed": false
   },
   "outputs": [],
   "source": [
    "import seaborn as sns\n",
    "sns.set_style(\"ticks\")\n",
    "\n",
    "def opto_metrics(unit_num, log, opto_metrics_log):\n",
    "\n",
    "    unit = all_opto_metrics_df[all_opto_metrics_df['unit_number'] == unit_num]\n",
    "    sub_log_df = opto_log_df.iloc[unit_num]\n",
    "    frequencies = [1,5,10,40]\n",
    "    stim_duration = 0.002\n",
    "\n",
    "    mpl.close('all')\n",
    "    fig2 = mpl.figure(figsize=(18, 10))\n",
    "    fig2.suptitle(sub_log_df['mouse_name'] + ', ' +  sub_log_df['date'] + ', ' + sub_log_df['cluster_name'])\n",
    "\n",
    "    ax1 = mpl.subplot2grid((2,2), (0,0), rowspan=2, colspan=1)\n",
    "    ax2 = mpl.subplot2grid((2,2), (0,1), rowspan=1, colspan=1)\n",
    "    ax3 = mpl.subplot2grid((2,2), (1,1), rowspan=1, colspan=1)\n",
    "\n",
    "    ax4 = fig2.add_axes([0.34, 0.425, 0.1, 0.4])\n",
    "    sns.despine()\n",
    "\n",
    "    data={}\n",
    "    total_stims = 0\n",
    "\n",
    "    laser_evoked_spike_inds = []\n",
    "    for freq in frequencies:\n",
    "        opto_stims = sub_log_df['grouped_opto_pulses'][freq]\n",
    "        for stim_num in range(90):\n",
    "            spike_inds = (sub_log_df['spikes'] >= opto_stims[stim_num]-0.02) & (sub_log_df['spikes'] \n",
    "                                                                                < opto_stims[stim_num] + .03)\n",
    "            spikes = (sub_log_df['spikes'][spike_inds] - opto_stims[stim_num])*1000\n",
    "            ax1.vlines(spikes, total_stims + stim_num + .5, total_stims + stim_num + 1.3, linewidth = 2)\n",
    "            x = total_stims+stim_num\n",
    "\n",
    "        ax1.plot([0,stim_duration*1000], [total_stims+stim_num, total_stims+stim_num], color = 'k', linewidth = 3)\n",
    "        ax1.text(-5, total_stims + stim_num/2, str(freq) + ' Hz', fontsize = 14),\n",
    "        total_stims = total_stims + stim_num\n",
    "\n",
    "    frequencies = unit['frequency']\n",
    "    values = np.concatenate(list(unit['latencies']))\n",
    "    labels = np.concatenate([[freq] * len(unit['latencies'].iloc[i])\n",
    "                             for i, freq in enumerate(frequencies)])\n",
    "    data_df = pd.DataFrame([values*1000, labels], index = ['Latency (ms)', 'Frequency (Hz)']).T\n",
    "    sns.violinplot(x = 'Frequency (Hz)', y = 'Latency (ms)', data = data_df, ax=ax3, color = 'xkcd:sky blue')\n",
    "\n",
    "    sns.pointplot(x = 'frequency', y = 'reliability', data = unit, ax=ax2, join = False, color = 'xkcd:sky blue')\n",
    "\n",
    "    offset = 0\n",
    "    waveform_corr = []\n",
    "    for electrode in ['waveforms1','waveforms2','waveforms3','waveforms4']:\n",
    "        laser_evoked_waveforms_df = pd.DataFrame(np.mean(unit[electrode]))+offset\n",
    "        cont_waveforms_df = pd.DataFrame(np.mean(unit['cont_'+electrode]))+offset\n",
    "        ax4.plot(cont_waveforms_df, color = 'k', alpha = 0.8, linewidth = 3)\n",
    "        ax4.plot(laser_evoked_waveforms_df, color = 'xkcd:sky blue',alpha = 0.8, linewidth = 3)\n",
    "        offset += 0.2\n",
    "    ax4.set_title('r = ' + str(unit['waveform_corr'].iloc[0]), fontsize = 14)\n",
    "\n",
    "    ax1.set_xlabel('Time(ms)')\n",
    "    ax1.set_ylabel('Stim trial')\n",
    "    ax1.autoscale(enable=True, tight=True)\n",
    "    ax1.xaxis.set_ticks_position('bottom')\n",
    "    ax1.yaxis.set_ticks_position('left')\n",
    "    ax1.add_patch(patches.Rectangle((0,0), stim_duration*1000, total_stims, color = 'xkcd:sky blue'))\n",
    "    ax1.set_xlim(-20,30)\n",
    "\n",
    "    ax3.set_xlabel('Frequency (Hz)')\n",
    "    ax3.set_ylabel('Mean spike latency (ms)')\n",
    "    ax3.set_ylim(0,20)\n",
    "    ax3.yaxis.set_ticks(np.arange(0, 20, 2.5))\n",
    "\n",
    "    ax2.set_xlabel('Frequency (Hz)')\n",
    "    ax2.set_ylabel('P(spike)')\n",
    "    ax2.set_ylim(0,1)\n",
    "\n",
    "    ax4.patch.set_alpha(0)\n",
    "    ax4.axis('off')\n",
    "\n",
    "    ax5 = fig2.add_axes([0.40, 0.40, 0.05, 0.1])\n",
    "    ax5.spines['left'].set_visible(False)\n",
    "    ax5.spines['top'].set_visible(False)\n",
    "    ax5.yaxis.set_ticks_position('right')\n",
    "    ax5.spines['right'].set_smart_bounds(True)\n",
    "    ax5.spines['bottom'].set_smart_bounds(True)\n",
    "    mpl.yticks((0,0.2,0.2), fontsize = 13)\n",
    "    mpl.xticks((0,0.5,0.5), fontsize = 13)\n",
    "    ax5.set_ylim(0,0.2)\n",
    "    ax5.set_xlim(0,0.5)\n",
    "    ax5.patch.set_alpha(0)\n",
    "    ax5.set_xlabel('ms',fontsize = 13)\n",
    "    ax5.set_ylabel('mV',fontsize = 13)\n",
    "    ax5.yaxis.set_label_position('right')\n",
    "\n",
    "    return fig2"
   ]
  },
  {
   "cell_type": "markdown",
   "metadata": {},
   "source": [
    "#### create widgets to make exploring data easier"
   ]
  },
  {
   "cell_type": "code",
   "execution_count": null,
   "metadata": {
    "collapsed": false
   },
   "outputs": [],
   "source": [
    "num = widgets.IntSlider(min = 1, max = opto_log_df.shape[0], step = 1, width='75%', height='30px', \n",
    "                    description= \"Unit\", continuous_update=False)\n",
    "s = interactive(opto_metrics, unit_num = num, log = fixed(log), opto_metrics_log = fixed(all_opto_metrics_df), continuous_update=False)\n",
    "display(s)"
   ]
  },
  {
   "cell_type": "code",
   "execution_count": null,
   "metadata": {
    "collapsed": false
   },
   "outputs": [],
   "source": [
    "mpl.savefig('Cl3_03-27-17_TT3c2(highReliability).png',format='png', dpi=900)"
   ]
  },
  {
   "cell_type": "code",
   "execution_count": null,
   "metadata": {
    "collapsed": false
   },
   "outputs": [],
   "source": [
    "import colorlover as cl\n",
    "import plotly.plotly as py\n",
    "import plotly.graph_objs as go\n",
    "py.sign_in('efinkel11', 'yhtY1t0dIUH4hX37eXdO')\n",
    "traces = []\n",
    "\n",
    "colors = ['rgb(236,231,242)','rgb(166,189,219)','rgb(43,140,190)', 'rgb(10,50,110)']\n",
    "frequencies = [1,5,10,40]\n",
    "for i, freq in enumerate(frequencies):\n",
    "    rows = all_opto_metrics_df['frequency'] == freq\n",
    "    x = all_opto_metrics_df['mean_latencies'][rows]\n",
    "    y = all_opto_metrics_df['waveform_corr'][rows]\n",
    "    z = all_opto_metrics_df['reliability'][rows]\n",
    "    n = all_opto_metrics_df.loc[rows, ['mouse_name',\n",
    "                                'date', 'cluster_name']].as_matrix()\n",
    "    clust_names = [' '.join(name) for name in n]\n",
    "    clust_names = ['.'.join((ns[0:2]+ns[9],ns[12],ns[14:16],ns[17:])) for ns in clust_names]\n",
    "\n",
    "    trace = go.Scatter3d(\n",
    "        text = clust_names,\n",
    "        x=x, y=y, z=z,\n",
    "        mode = 'markers',\n",
    "        marker=dict(\n",
    "            size=6,\n",
    "            opacity = 0,\n",
    "            color = colors[i]),\n",
    "        line = dict(\n",
    "            width = 0,\n",
    "            color = colors[i]),\n",
    "        name = str(freq)+'Hz',)\n",
    "    traces.append(trace)\n",
    "data = traces\n",
    "\n",
    "layout = dict(\n",
    "    width=1000,\n",
    "    height=800,\n",
    "    autosize=False,\n",
    "    legend = dict(orientation= \"h\"),\n",
    "    scene=dict(\n",
    "        xaxis=dict(title = 'mean spike latency'),\n",
    "        yaxis=dict(title = 'waveform corr'),\n",
    "        zaxis=dict(\n",
    "            title = 'p(spike)')))\n",
    "\n",
    "fig = dict(data=data, layout=layout)\n",
    "\n",
    "py.iplot(fig, filename='pandas-brownian-motion-3d', height=700, validate=False)"
   ]
  },
  {
   "cell_type": "code",
   "execution_count": null,
   "metadata": {
    "collapsed": false
   },
   "outputs": [],
   "source": [
    "log_df['stim_onset'] = log_df['stim_onset'].fillna(0)\n",
    "log_df['spike_times'] = log_df['spike_times'] - log_df['stim_onset']\n",
    "licks = pd.concat([log_df['licks_right'] - log_df['stim_onset'] , log_df['licks_left']-log_df['stim_onset']], axis=1)\n",
    "licks = licks.applymap(lambda y: y[[0.1<y]] if len(y) > 0 else y)\n",
    "licks = licks.applymap(lambda y: y[[1>y]] if len(y) > 0 else y)\n",
    "licks = licks.applymap(lambda y: min(y) if len(y) > 0 else np.nan)\n",
    "log_df['first_lick'] = licks.min(axis=1)\n",
    "\n",
    "log_df[['licks_right','licks_left', 'spike_times']] = \\\n",
    "log_df[['licks_right','licks_left', 'spike_times']].applymap(lambda x: np.concatenate(x) if len(list(x)) > 0 else x)\n",
    "\n",
    "log_df = log_df.sort_values(['mouse_name', 'date', 'cluster_name', 'first_lick'], ascending = [1,1,1,1])\n",
    "log_df['identified'] = 'unidentified'\n",
    "log_df"
   ]
  },
  {
   "cell_type": "code",
   "execution_count": null,
   "metadata": {
    "collapsed": false
   },
   "outputs": [],
   "source": [
    "subset_dict = {}\n",
    "size_dict = {}\n",
    "subset_dict['None'] = 0\n",
    "size_dict['None'] = 0\n",
    "\n",
    "categories = np.concatenate([log_df['mouse_name'].unique(), log_df['identified'].unique()])\n",
    "\n",
    "for cat in categories:\n",
    "        subset = log_df[log_df['mouse_name'] == cat]\n",
    "        if subset.size == 0:\n",
    "            subset = log_df[log_df['identified'] == cat]\n",
    "            print(cat)\n",
    "        subset_dict[cat] = subset\n",
    "        unique_units = subset[['mouse_name', 'date', 'cluster_name']].drop_duplicates()\n",
    "        size_dict[cat] = len(unique_units)\n",
    "        #print(unique_units.size)"
   ]
  },
  {
   "cell_type": "code",
   "execution_count": null,
   "metadata": {
    "collapsed": false
   },
   "outputs": [],
   "source": [
    "%autoreload 2\n",
    "%timeit\n",
    "import ind_unit as iu\n",
    "from __future__ import print_function\n",
    "from ipywidgets import interact, interactive, fixed, interact_manual\n",
    "from IPython.html import widgets\n",
    "from IPython.display import display\n",
    "import traitlets\n",
    "\n",
    "\n",
    "w = widgets.Dropdown(options = list(subset_dict.keys()), value = 'None', description='cellType:')\n",
    "\n",
    "num = widgets.IntSlider(min = 1, max = 50, step = 1, width='75%', height='30px', \n",
    "                    description= \"Unit\", continuous_update=False)\n",
    "x1 = widgets.FloatSlider(min = -.9, max = 0, step = 0.05, value = -0.25,width='75%',\n",
    "                          height='30px', description= \"xMin\", continuous_update=False)\n",
    "x2 = widgets.FloatSlider(min = 0, max = 2, step = 0.05, value=0.75,width='75%', height='30px',\n",
    "                          description= \"xMax\",continuous_update=False)\n",
    "s = interactive(iu.plot_unit, df_dict = fixed(subset_dict), s_key = w, n=num, x_min = x1, x_max = x2, continuous_update=False)\n",
    "\n",
    "\n",
    "def update_max(*args):\n",
    "    num.value = 1\n",
    "    num.max = size_dict[w.value]\n",
    "w.observe(update_max, 'value')\n",
    "\n",
    "display(s)"
   ]
  },
  {
   "cell_type": "code",
   "execution_count": null,
   "metadata": {
    "collapsed": false
   },
   "outputs": [],
   "source": [
    "mpl.savefig('Cl3_03-15-17_TT6c4_rasters.png',format='png', dpi=900)"
   ]
  },
  {
   "cell_type": "code",
   "execution_count": null,
   "metadata": {
    "collapsed": false
   },
   "outputs": [],
   "source": [
    "ar"
   ]
  },
  {
   "cell_type": "code",
   "execution_count": null,
   "metadata": {
    "collapsed": false
   },
   "outputs": [],
   "source": [
    "len(ar)"
   ]
  },
  {
   "cell_type": "code",
   "execution_count": null,
   "metadata": {
    "collapsed": true
   },
   "outputs": [],
   "source": []
  }
 ],
 "metadata": {
  "kernelspec": {
   "display_name": "Python 3",
   "language": "python",
   "name": "python3"
  },
  "language_info": {
   "codemirror_mode": {
    "name": "ipython",
    "version": 3
   },
   "file_extension": ".py",
   "mimetype": "text/x-python",
   "name": "python",
   "nbconvert_exporter": "python",
   "pygments_lexer": "ipython3",
   "version": "3.6.0"
  }
 },
 "nbformat": 4,
 "nbformat_minor": 2
}
