{
 "cells": [
  {
   "cell_type": "markdown",
   "metadata": {},
   "source": [
    "# Notebook for exploring claustrum data"
   ]
  },
  {
   "cell_type": "markdown",
   "metadata": {},
   "source": [
    "### install and import essential packages and data"
   ]
  },
  {
   "cell_type": "code",
   "execution_count": 1,
   "metadata": {
    "ExecuteTime": {
     "end_time": "2017-03-26T15:54:15.036128Z",
     "start_time": "2017-03-26T15:54:10.204240"
    },
    "collapsed": false
   },
   "outputs": [],
   "source": [
    "#!pip install ipywidgets\n",
    "#!jupyter nbextension enable --py widgetsnbextension\n",
    "\n",
    "import scipy as sp\n",
    "import scipy.io\n",
    "import scipy.stats\n",
    "import os\n",
    "import numpy as np\n",
    "import pandas as pd\n",
    "\n",
    "from collections import Iterable\n",
    "import matplotlib.pylab as mpl\n",
    "%load_ext autoreload\n",
    "\n",
    "mat = sp.io.loadmat('allUnitsLog_claus.mat')\n",
    "mat2 = sp.io.loadmat('Opto_log_allUnits_claus.mat')\n",
    "log = mat['fullLog']\n",
    "log_df = pd.DataFrame(log, columns=['mouse_name', 'date', 'block_type', 'trial_type', 'touch_stimulus',\\\n",
    "                                    'vis_stimulus', 'response','trial_num', 'stim_onset', 'stim_offset', 'licks_right',\\\n",
    "                                    'licks_left', 'spike_times', 'cluster_name' ])\n",
    "opto_log = mat2['fullOptoTable']\n",
    "opto_log_df = pd.DataFrame(opto_log, columns=['mouse_name', 'date', 'cluster_name', 'opto_stim_onsets', 'opto_stim_offsets', 'spikes'])"
   ]
  },
  {
   "cell_type": "code",
   "execution_count": 2,
   "metadata": {
    "ExecuteTime": {
     "end_time": "2017-03-26T15:54:18.753895Z",
     "start_time": "2017-03-26T15:54:15.040134"
    },
    "collapsed": false
   },
   "outputs": [],
   "source": [
    "mat3 = sp.io.loadmat('waveform_log.mat')"
   ]
  },
  {
   "cell_type": "code",
   "execution_count": 3,
   "metadata": {
    "ExecuteTime": {
     "end_time": "2017-03-26T15:54:19.809418Z",
     "start_time": "2017-03-26T15:54:18.755396"
    },
    "collapsed": false,
    "scrolled": true
   },
   "outputs": [
    {
     "data": {
      "text/html": [
       "<div>\n",
       "<table border=\"1\" class=\"dataframe\">\n",
       "  <thead>\n",
       "    <tr style=\"text-align: right;\">\n",
       "      <th></th>\n",
       "      <th>mouse_name</th>\n",
       "      <th>date</th>\n",
       "      <th>tetrode_num</th>\n",
       "      <th>spikes</th>\n",
       "      <th>waveforms</th>\n",
       "    </tr>\n",
       "  </thead>\n",
       "  <tbody>\n",
       "    <tr>\n",
       "      <th>0</th>\n",
       "      <td>[Claustrum3]</td>\n",
       "      <td>[03-16-17]</td>\n",
       "      <td>[TT1]</td>\n",
       "      <td>[[2927.20496667], [2927.56466667], [2927.65263...</td>\n",
       "      <td>[[[-0.00311364419642, -0.00138941349112, -0.00...</td>\n",
       "    </tr>\n",
       "    <tr>\n",
       "      <th>1</th>\n",
       "      <td>[Claustrum3]</td>\n",
       "      <td>[03-16-17]</td>\n",
       "      <td>[TT2]</td>\n",
       "      <td>[[2927.18636667], [2927.1987], [2927.2731], [2...</td>\n",
       "      <td>[[[-0.00171621958259, -0.00151926855499, -0.02...</td>\n",
       "    </tr>\n",
       "    <tr>\n",
       "      <th>2</th>\n",
       "      <td>[Claustrum3]</td>\n",
       "      <td>[03-16-17]</td>\n",
       "      <td>[TT3]</td>\n",
       "      <td>[[2927.46876667], [2927.64306667], [2927.65383...</td>\n",
       "      <td>[[[-0.00159455783317, 0.00676095524841, 0.0033...</td>\n",
       "    </tr>\n",
       "  </tbody>\n",
       "</table>\n",
       "</div>"
      ],
      "text/plain": [
       "     mouse_name        date tetrode_num  \\\n",
       "0  [Claustrum3]  [03-16-17]       [TT1]   \n",
       "1  [Claustrum3]  [03-16-17]       [TT2]   \n",
       "2  [Claustrum3]  [03-16-17]       [TT3]   \n",
       "\n",
       "                                              spikes  \\\n",
       "0  [[2927.20496667], [2927.56466667], [2927.65263...   \n",
       "1  [[2927.18636667], [2927.1987], [2927.2731], [2...   \n",
       "2  [[2927.46876667], [2927.64306667], [2927.65383...   \n",
       "\n",
       "                                           waveforms  \n",
       "0  [[[-0.00311364419642, -0.00138941349112, -0.00...  \n",
       "1  [[[-0.00171621958259, -0.00151926855499, -0.02...  \n",
       "2  [[[-0.00159455783317, 0.00676095524841, 0.0033...  "
      ]
     },
     "execution_count": 3,
     "metadata": {},
     "output_type": "execute_result"
    }
   ],
   "source": [
    "waveforms = mat3['waveform_log']\n",
    "waveforms_df = pd.DataFrame(waveforms, columns = ['mouse_name', 'date', 'tetrode_num', 'spikes', 'waveforms'])\n",
    "\n",
    "waveforms_df.head(3)"
   ]
  },
  {
   "cell_type": "markdown",
   "metadata": {},
   "source": [
    "### clean up data tables"
   ]
  },
  {
   "cell_type": "code",
   "execution_count": 4,
   "metadata": {
    "ExecuteTime": {
     "end_time": "2017-03-26T15:54:20.301320Z",
     "start_time": "2017-03-26T15:54:19.813424"
    },
    "collapsed": false
   },
   "outputs": [],
   "source": [
    "for col in [0,1,2,3,4,5,6,6,7,7,7,7,8,8,8,8,9,9,9,9,10,10,11,11,13]:\n",
    "        log_df.ix[:,col] = log_df.ix[:,col].str[0]\n",
    "for col in [0,1,2,3,4]:\n",
    "        opto_log_df.ix[:,col] = opto_log_df.ix[:,col].str[0]\n",
    "for col in [0,1,2]:\n",
    "    waveforms_df.ix[:,col] = waveforms_df.ix[:,col].str[0]\n",
    "    \n"
   ]
  },
  {
   "cell_type": "code",
   "execution_count": 5,
   "metadata": {
    "ExecuteTime": {
     "end_time": "2017-03-26T15:54:21.033536Z",
     "start_time": "2017-03-26T15:54:20.304822"
    },
    "collapsed": false
   },
   "outputs": [],
   "source": [
    "waveforms_df['spikes']= waveforms_df['spikes'].apply(lambda y: np.concatenate(y) if len(y) > 0 else y)\n",
    "log_df['spike_times'] = log_df['spike_times'].apply(lambda y: np.concatenate(y) if len(y) > 0 else y)\n",
    "opto_log_df['spikes'] = opto_log_df['spikes'].apply(lambda y: np.concatenate(y) if len(y) > 0 else y)"
   ]
  },
  {
   "cell_type": "code",
   "execution_count": 6,
   "metadata": {
    "ExecuteTime": {
     "end_time": "2017-03-26T15:54:21.058020Z",
     "start_time": "2017-03-26T15:54:21.036006"
    },
    "collapsed": false
   },
   "outputs": [
    {
     "data": {
      "text/html": [
       "<div>\n",
       "<table border=\"1\" class=\"dataframe\">\n",
       "  <thead>\n",
       "    <tr style=\"text-align: right;\">\n",
       "      <th></th>\n",
       "      <th>mouse_name</th>\n",
       "      <th>date</th>\n",
       "      <th>block_type</th>\n",
       "      <th>trial_type</th>\n",
       "      <th>touch_stimulus</th>\n",
       "      <th>vis_stimulus</th>\n",
       "      <th>response</th>\n",
       "      <th>trial_num</th>\n",
       "      <th>stim_onset</th>\n",
       "      <th>stim_offset</th>\n",
       "      <th>licks_right</th>\n",
       "      <th>licks_left</th>\n",
       "      <th>spike_times</th>\n",
       "      <th>cluster_name</th>\n",
       "    </tr>\n",
       "  </thead>\n",
       "  <tbody>\n",
       "    <tr>\n",
       "      <th>0</th>\n",
       "      <td>Claustrum3</td>\n",
       "      <td>03-16-17</td>\n",
       "      <td>Visual</td>\n",
       "      <td>Stim_Som_NoCue</td>\n",
       "      <td>SineAmp0p925Freq20Cyc3</td>\n",
       "      <td>Amp0p5Dur0p150</td>\n",
       "      <td>0</td>\n",
       "      <td>3</td>\n",
       "      <td>1.4482</td>\n",
       "      <td>1.595667</td>\n",
       "      <td>[]</td>\n",
       "      <td>[]</td>\n",
       "      <td>[0.0117666666667, 0.0321666666667, 0.110466666...</td>\n",
       "      <td>TT1clst1</td>\n",
       "    </tr>\n",
       "    <tr>\n",
       "      <th>1</th>\n",
       "      <td>Claustrum3</td>\n",
       "      <td>03-16-17</td>\n",
       "      <td>Visual</td>\n",
       "      <td>Stim_Som_NoCue</td>\n",
       "      <td>SineAmp0p925Freq20Cyc3</td>\n",
       "      <td>Amp0p5Dur0p150</td>\n",
       "      <td>0</td>\n",
       "      <td>3</td>\n",
       "      <td>1.4482</td>\n",
       "      <td>1.595667</td>\n",
       "      <td>[]</td>\n",
       "      <td>[]</td>\n",
       "      <td>[0.155366666667, 0.355766666667, 1.54956666667...</td>\n",
       "      <td>TT1clst2</td>\n",
       "    </tr>\n",
       "  </tbody>\n",
       "</table>\n",
       "</div>"
      ],
      "text/plain": [
       "   mouse_name      date block_type      trial_type          touch_stimulus  \\\n",
       "0  Claustrum3  03-16-17     Visual  Stim_Som_NoCue  SineAmp0p925Freq20Cyc3   \n",
       "1  Claustrum3  03-16-17     Visual  Stim_Som_NoCue  SineAmp0p925Freq20Cyc3   \n",
       "\n",
       "     vis_stimulus  response  trial_num  stim_onset  stim_offset licks_right  \\\n",
       "0  Amp0p5Dur0p150         0          3      1.4482     1.595667          []   \n",
       "1  Amp0p5Dur0p150         0          3      1.4482     1.595667          []   \n",
       "\n",
       "  licks_left                                        spike_times cluster_name  \n",
       "0         []  [0.0117666666667, 0.0321666666667, 0.110466666...     TT1clst1  \n",
       "1         []  [0.155366666667, 0.355766666667, 1.54956666667...     TT1clst2  "
      ]
     },
     "execution_count": 6,
     "metadata": {},
     "output_type": "execute_result"
    }
   ],
   "source": [
    "log_df.head(2)"
   ]
  },
  {
   "cell_type": "code",
   "execution_count": 7,
   "metadata": {
    "ExecuteTime": {
     "end_time": "2017-03-26T15:54:21.131581Z",
     "start_time": "2017-03-26T15:54:21.060023"
    },
    "collapsed": false,
    "scrolled": false
   },
   "outputs": [
    {
     "data": {
      "text/html": [
       "<div>\n",
       "<table border=\"1\" class=\"dataframe\">\n",
       "  <thead>\n",
       "    <tr style=\"text-align: right;\">\n",
       "      <th></th>\n",
       "      <th>mouse_name</th>\n",
       "      <th>date</th>\n",
       "      <th>cluster_name</th>\n",
       "      <th>opto_stim_onsets</th>\n",
       "      <th>opto_stim_offsets</th>\n",
       "      <th>spikes</th>\n",
       "    </tr>\n",
       "  </thead>\n",
       "  <tbody>\n",
       "    <tr>\n",
       "      <th>0</th>\n",
       "      <td>Claustrum3</td>\n",
       "      <td>03-16-17</td>\n",
       "      <td>TT1clst1</td>\n",
       "      <td>[3964.30126667, 3964.80126667, 3965.30126667, ...</td>\n",
       "      <td>[3964.55126667, 3965.05126667, 3965.5513, 3966...</td>\n",
       "      <td>[3939.5548, 3939.7151, 3939.9379, 3940.725, 39...</td>\n",
       "    </tr>\n",
       "    <tr>\n",
       "      <th>1</th>\n",
       "      <td>Claustrum3</td>\n",
       "      <td>03-16-17</td>\n",
       "      <td>TT1clst2</td>\n",
       "      <td>[3964.30126667, 3964.80126667, 3965.30126667, ...</td>\n",
       "      <td>[3964.55126667, 3965.05126667, 3965.5513, 3966...</td>\n",
       "      <td>[3939.7038, 3939.994, 3940.2059, 3940.539, 394...</td>\n",
       "    </tr>\n",
       "  </tbody>\n",
       "</table>\n",
       "</div>"
      ],
      "text/plain": [
       "   mouse_name      date cluster_name  \\\n",
       "0  Claustrum3  03-16-17     TT1clst1   \n",
       "1  Claustrum3  03-16-17     TT1clst2   \n",
       "\n",
       "                                    opto_stim_onsets  \\\n",
       "0  [3964.30126667, 3964.80126667, 3965.30126667, ...   \n",
       "1  [3964.30126667, 3964.80126667, 3965.30126667, ...   \n",
       "\n",
       "                                   opto_stim_offsets  \\\n",
       "0  [3964.55126667, 3965.05126667, 3965.5513, 3966...   \n",
       "1  [3964.55126667, 3965.05126667, 3965.5513, 3966...   \n",
       "\n",
       "                                              spikes  \n",
       "0  [3939.5548, 3939.7151, 3939.9379, 3940.725, 39...  \n",
       "1  [3939.7038, 3939.994, 3940.2059, 3940.539, 394...  "
      ]
     },
     "execution_count": 7,
     "metadata": {},
     "output_type": "execute_result"
    }
   ],
   "source": [
    "opto_log_df.head(2)"
   ]
  },
  {
   "cell_type": "code",
   "execution_count": 8,
   "metadata": {
    "ExecuteTime": {
     "end_time": "2017-03-26T15:54:22.861502Z",
     "start_time": "2017-03-26T15:54:21.133080"
    },
    "collapsed": false
   },
   "outputs": [
    {
     "data": {
      "text/html": [
       "<div>\n",
       "<table border=\"1\" class=\"dataframe\">\n",
       "  <thead>\n",
       "    <tr style=\"text-align: right;\">\n",
       "      <th></th>\n",
       "      <th>mouse_name</th>\n",
       "      <th>date</th>\n",
       "      <th>tetrode_num</th>\n",
       "      <th>spikes</th>\n",
       "      <th>waveforms</th>\n",
       "    </tr>\n",
       "  </thead>\n",
       "  <tbody>\n",
       "    <tr>\n",
       "      <th>0</th>\n",
       "      <td>Claustrum3</td>\n",
       "      <td>03-16-17</td>\n",
       "      <td>TT1</td>\n",
       "      <td>[2927.20496667, 2927.56466667, 2927.65263333, ...</td>\n",
       "      <td>[[[-0.00311364419642, -0.00138941349112, -0.00...</td>\n",
       "    </tr>\n",
       "    <tr>\n",
       "      <th>1</th>\n",
       "      <td>Claustrum3</td>\n",
       "      <td>03-16-17</td>\n",
       "      <td>TT2</td>\n",
       "      <td>[2927.18636667, 2927.1987, 2927.2731, 2927.285...</td>\n",
       "      <td>[[[-0.00171621958259, -0.00151926855499, -0.02...</td>\n",
       "    </tr>\n",
       "    <tr>\n",
       "      <th>2</th>\n",
       "      <td>Claustrum3</td>\n",
       "      <td>03-16-17</td>\n",
       "      <td>TT3</td>\n",
       "      <td>[2927.46876667, 2927.64306667, 2927.65383333, ...</td>\n",
       "      <td>[[[-0.00159455783317, 0.00676095524841, 0.0033...</td>\n",
       "    </tr>\n",
       "    <tr>\n",
       "      <th>3</th>\n",
       "      <td>Claustrum3</td>\n",
       "      <td>03-16-17</td>\n",
       "      <td>TT4</td>\n",
       "      <td>[2927.10336667, 2927.14666667, 2927.17603333, ...</td>\n",
       "      <td>[[[0.00348502904712, 0.00601324283246, -0.0032...</td>\n",
       "    </tr>\n",
       "    <tr>\n",
       "      <th>4</th>\n",
       "      <td>Claustrum3</td>\n",
       "      <td>03-16-17</td>\n",
       "      <td>TT5</td>\n",
       "      <td>[2926.0951, 2926.85366667, 2927.07906667, 2927...</td>\n",
       "      <td>[[[0.00127071695839, 0.00276057371034, 0.01954...</td>\n",
       "    </tr>\n",
       "  </tbody>\n",
       "</table>\n",
       "</div>"
      ],
      "text/plain": [
       "   mouse_name      date tetrode_num  \\\n",
       "0  Claustrum3  03-16-17         TT1   \n",
       "1  Claustrum3  03-16-17         TT2   \n",
       "2  Claustrum3  03-16-17         TT3   \n",
       "3  Claustrum3  03-16-17         TT4   \n",
       "4  Claustrum3  03-16-17         TT5   \n",
       "\n",
       "                                              spikes  \\\n",
       "0  [2927.20496667, 2927.56466667, 2927.65263333, ...   \n",
       "1  [2927.18636667, 2927.1987, 2927.2731, 2927.285...   \n",
       "2  [2927.46876667, 2927.64306667, 2927.65383333, ...   \n",
       "3  [2927.10336667, 2927.14666667, 2927.17603333, ...   \n",
       "4  [2926.0951, 2926.85366667, 2927.07906667, 2927...   \n",
       "\n",
       "                                           waveforms  \n",
       "0  [[[-0.00311364419642, -0.00138941349112, -0.00...  \n",
       "1  [[[-0.00171621958259, -0.00151926855499, -0.02...  \n",
       "2  [[[-0.00159455783317, 0.00676095524841, 0.0033...  \n",
       "3  [[[0.00348502904712, 0.00601324283246, -0.0032...  \n",
       "4  [[[0.00127071695839, 0.00276057371034, 0.01954...  "
      ]
     },
     "execution_count": 8,
     "metadata": {},
     "output_type": "execute_result"
    }
   ],
   "source": [
    "waveforms_df.head(5)"
   ]
  },
  {
   "cell_type": "code",
   "execution_count": 9,
   "metadata": {
    "ExecuteTime": {
     "end_time": "2017-03-26T15:54:23.790934Z",
     "start_time": "2017-03-26T15:54:22.863165"
    },
    "collapsed": false
   },
   "outputs": [],
   "source": [
    "clusters = opto_log_df['cluster_name'].copy()\n",
    "clusters = clusters.apply(lambda y: y[:3])\n",
    "\n",
    "opto_log_df['waveforms'] = np.nan\n",
    "opto_log_df['waveforms'] = opto_log_df['waveforms'].astype(object)\n",
    "for unit in range(len(opto_log_df)):\n",
    "    tetrode_idx = pd.concat((opto_log_df.loc[unit,['mouse_name', 'date']] == waveforms_df[['mouse_name', 'date']],\n",
    "           clusters[unit] == waveforms_df['tetrode_num']), axis = 1).all(axis = 1)\n",
    "    tetrode = waveforms_df[tetrode_idx]\n",
    "    \n",
    "    spike_idx = np.in1d(np.around(tetrode['spikes'].iloc[0],4),  np.around(opto_log_df.loc[unit, 'spikes'],4))\n",
    "    wv = tetrode['waveforms'].iloc[0][spike_idx]\n",
    "    opto_log_df.loc[unit,'waveforms'] = wv"
   ]
  },
  {
   "cell_type": "code",
   "execution_count": 10,
   "metadata": {
    "ExecuteTime": {
     "end_time": "2017-03-26T15:54:23.806946Z",
     "start_time": "2017-03-26T15:54:23.793436"
    },
    "collapsed": false
   },
   "outputs": [],
   "source": [
    "opto_log_df['waveforms1'] = np.nan\n",
    "opto_log_df['waveforms2'] = np.nan\n",
    "opto_log_df['waveforms3'] = np.nan\n",
    "opto_log_df['waveforms4'] = np.nan\n",
    "\n",
    "opto_log_df['waveforms1'] = opto_log_df['waveforms'].apply(lambda y: y[:,0,:])\n",
    "opto_log_df['waveforms2'] = opto_log_df['waveforms'].apply(lambda y: y[:,1,:])\n",
    "opto_log_df['waveforms3'] = opto_log_df['waveforms'].apply(lambda y: y[:,2,:])\n",
    "opto_log_df['waveforms4'] = opto_log_df['waveforms'].apply(lambda y: y[:,3,:])\n",
    "del opto_log_df['waveforms']"
   ]
  },
  {
   "cell_type": "markdown",
   "metadata": {},
   "source": [
    "### sort optogenetic stimulus pulses into groups based on frequency of stimulation"
   ]
  },
  {
   "cell_type": "code",
   "execution_count": 11,
   "metadata": {
    "ExecuteTime": {
     "end_time": "2017-03-26T15:54:23.894544Z",
     "start_time": "2017-03-26T15:54:23.809949"
    },
    "code_folding": [],
    "collapsed": false
   },
   "outputs": [],
   "source": [
    "unique_sessions = opto_log_df[['mouse_name', 'date']].drop_duplicates()\n",
    "\n",
    "opto_log_df['first_last_opto_pulses'] = np.nan\n",
    "opto_log_df['grouped_opto_pulses'] = np.nan\n",
    "\n",
    "for session in range(unique_sessions.shape[0]):\n",
    "    session_row_ind = (opto_log_df.loc[:,['mouse_name', 'date']] == unique_sessions.iloc[session]).all(axis=1)\n",
    "    rows = opto_log_df.loc[session_row_ind]\n",
    "    \n",
    "    ISIs = np.around(rows.iloc[0,3][1:]-rows.iloc[0,3][0:-1], 4)\n",
    "    ISIs = np.concatenate(([ISIs[0]], ISIs, [ISIs[-1]]))\n",
    "    unique_ISIs = np.unique(ISIs, return_counts = True)\n",
    "    ind = unique_ISIs[1]>50\n",
    "    unique_ISIs = unique_ISIs[0][ind]\n",
    "\n",
    "    first_last_opto_pulses = {}\n",
    "    grouped_opto_pulses = {}\n",
    "    for isi in unique_ISIs:\n",
    "        ISI_category = np.where(np.absolute(ISIs-isi) <= 0.001)[0]\n",
    "        opto_pulse_inds= np.array(range(np.min(ISI_category),np.max(ISI_category)))\n",
    "        grouped_opto_pulses[1/isi] = rows.iloc[0,3][opto_pulse_inds]\n",
    "\n",
    "        IBI_ind = ISIs[opto_pulse_inds] != isi\n",
    "        first_pulse_ind = np.concatenate(([opto_pulse_inds[0]],opto_pulse_inds[IBI_ind]))\n",
    "        last_pulse_ind = np.concatenate((first_pulse_ind[1:]-1, [opto_pulse_inds[-1]]))\n",
    "        first_last_opto_pulses[1/isi] = [rows.iloc[0,3][first_pulse_ind],rows.iloc[0,3][last_pulse_ind]]\n",
    "    opto_log_df.loc[session_row_ind,'first_last_opto_pulses'] = [first_last_opto_pulses]\n",
    "    opto_log_df.loc[session_row_ind,'grouped_opto_pulses'] = [grouped_opto_pulses]"
   ]
  },
  {
   "cell_type": "code",
   "execution_count": 12,
   "metadata": {
    "ExecuteTime": {
     "end_time": "2017-03-26T15:54:24.958708Z",
     "start_time": "2017-03-26T15:54:23.896048"
    },
    "collapsed": false,
    "scrolled": true
   },
   "outputs": [
    {
     "data": {
      "text/html": [
       "<div>\n",
       "<table border=\"1\" class=\"dataframe\">\n",
       "  <thead>\n",
       "    <tr style=\"text-align: right;\">\n",
       "      <th></th>\n",
       "      <th>mouse_name</th>\n",
       "      <th>date</th>\n",
       "      <th>cluster_name</th>\n",
       "      <th>opto_stim_onsets</th>\n",
       "      <th>opto_stim_offsets</th>\n",
       "      <th>spikes</th>\n",
       "      <th>waveforms1</th>\n",
       "      <th>waveforms2</th>\n",
       "      <th>waveforms3</th>\n",
       "      <th>waveforms4</th>\n",
       "      <th>first_last_opto_pulses</th>\n",
       "      <th>grouped_opto_pulses</th>\n",
       "    </tr>\n",
       "  </thead>\n",
       "  <tbody>\n",
       "    <tr>\n",
       "      <th>0</th>\n",
       "      <td>Claustrum3</td>\n",
       "      <td>03-16-17</td>\n",
       "      <td>TT1clst1</td>\n",
       "      <td>[3964.30126667, 3964.80126667, 3965.30126667, ...</td>\n",
       "      <td>[3964.55126667, 3965.05126667, 3965.5513, 3966...</td>\n",
       "      <td>[3939.5548, 3939.7151, 3939.9379, 3940.725, 39...</td>\n",
       "      <td>[[-0.00569385901328, 0.00427144877455, 0.01036...</td>\n",
       "      <td>[[-0.000308106460985, -0.000802925028194, 0.00...</td>\n",
       "      <td>[[-0.00450201920227, 0.00326803521214, 0.01496...</td>\n",
       "      <td>[[0.00304913531746, -0.00919101903591, -0.0032...</td>\n",
       "      <td>{40.0: [[4431.20513333, 4437.7807, 4444.389566...</td>\n",
       "      <td>{40.0: [4431.20513333, 4431.23013333, 4431.255...</td>\n",
       "    </tr>\n",
       "    <tr>\n",
       "      <th>1</th>\n",
       "      <td>Claustrum3</td>\n",
       "      <td>03-16-17</td>\n",
       "      <td>TT1clst2</td>\n",
       "      <td>[3964.30126667, 3964.80126667, 3965.30126667, ...</td>\n",
       "      <td>[3964.55126667, 3965.05126667, 3965.5513, 3966...</td>\n",
       "      <td>[3939.7038, 3939.994, 3940.2059, 3940.539, 394...</td>\n",
       "      <td>[[0.0152626581353, 0.00515087438445, 0.0032498...</td>\n",
       "      <td>[[0.00727499412866, 0.0109553912154, 0.0019511...</td>\n",
       "      <td>[[0.0257969085223, 0.00709416862995, -0.009436...</td>\n",
       "      <td>[[0.00739895471209, 0.00369916295709, -0.00722...</td>\n",
       "      <td>{40.0: [[4431.20513333, 4437.7807, 4444.389566...</td>\n",
       "      <td>{40.0: [4431.20513333, 4431.23013333, 4431.255...</td>\n",
       "    </tr>\n",
       "    <tr>\n",
       "      <th>2</th>\n",
       "      <td>Claustrum3</td>\n",
       "      <td>03-16-17</td>\n",
       "      <td>TT2clst1</td>\n",
       "      <td>[3964.30126667, 3964.80126667, 3965.30126667, ...</td>\n",
       "      <td>[3964.55126667, 3965.05126667, 3965.5513, 3966...</td>\n",
       "      <td>[3939.6048, 3939.6874, 3939.7985, 3939.9973, 3...</td>\n",
       "      <td>[[0.00601039856621, -0.00313941386955, -0.0053...</td>\n",
       "      <td>[[-0.00359154860615, -0.00598855578644, -0.010...</td>\n",
       "      <td>[[0.0171037877991, 0.0231573410048, 0.01245641...</td>\n",
       "      <td>[[0.000228362000035, 0.0189635602555, 0.010026...</td>\n",
       "      <td>{40.0: [[4431.20513333, 4437.7807, 4444.389566...</td>\n",
       "      <td>{40.0: [4431.20513333, 4431.23013333, 4431.255...</td>\n",
       "    </tr>\n",
       "  </tbody>\n",
       "</table>\n",
       "</div>"
      ],
      "text/plain": [
       "   mouse_name      date cluster_name  \\\n",
       "0  Claustrum3  03-16-17     TT1clst1   \n",
       "1  Claustrum3  03-16-17     TT1clst2   \n",
       "2  Claustrum3  03-16-17     TT2clst1   \n",
       "\n",
       "                                    opto_stim_onsets  \\\n",
       "0  [3964.30126667, 3964.80126667, 3965.30126667, ...   \n",
       "1  [3964.30126667, 3964.80126667, 3965.30126667, ...   \n",
       "2  [3964.30126667, 3964.80126667, 3965.30126667, ...   \n",
       "\n",
       "                                   opto_stim_offsets  \\\n",
       "0  [3964.55126667, 3965.05126667, 3965.5513, 3966...   \n",
       "1  [3964.55126667, 3965.05126667, 3965.5513, 3966...   \n",
       "2  [3964.55126667, 3965.05126667, 3965.5513, 3966...   \n",
       "\n",
       "                                              spikes  \\\n",
       "0  [3939.5548, 3939.7151, 3939.9379, 3940.725, 39...   \n",
       "1  [3939.7038, 3939.994, 3940.2059, 3940.539, 394...   \n",
       "2  [3939.6048, 3939.6874, 3939.7985, 3939.9973, 3...   \n",
       "\n",
       "                                          waveforms1  \\\n",
       "0  [[-0.00569385901328, 0.00427144877455, 0.01036...   \n",
       "1  [[0.0152626581353, 0.00515087438445, 0.0032498...   \n",
       "2  [[0.00601039856621, -0.00313941386955, -0.0053...   \n",
       "\n",
       "                                          waveforms2  \\\n",
       "0  [[-0.000308106460985, -0.000802925028194, 0.00...   \n",
       "1  [[0.00727499412866, 0.0109553912154, 0.0019511...   \n",
       "2  [[-0.00359154860615, -0.00598855578644, -0.010...   \n",
       "\n",
       "                                          waveforms3  \\\n",
       "0  [[-0.00450201920227, 0.00326803521214, 0.01496...   \n",
       "1  [[0.0257969085223, 0.00709416862995, -0.009436...   \n",
       "2  [[0.0171037877991, 0.0231573410048, 0.01245641...   \n",
       "\n",
       "                                          waveforms4  \\\n",
       "0  [[0.00304913531746, -0.00919101903591, -0.0032...   \n",
       "1  [[0.00739895471209, 0.00369916295709, -0.00722...   \n",
       "2  [[0.000228362000035, 0.0189635602555, 0.010026...   \n",
       "\n",
       "                              first_last_opto_pulses  \\\n",
       "0  {40.0: [[4431.20513333, 4437.7807, 4444.389566...   \n",
       "1  {40.0: [[4431.20513333, 4437.7807, 4444.389566...   \n",
       "2  {40.0: [[4431.20513333, 4437.7807, 4444.389566...   \n",
       "\n",
       "                                 grouped_opto_pulses  \n",
       "0  {40.0: [4431.20513333, 4431.23013333, 4431.255...  \n",
       "1  {40.0: [4431.20513333, 4431.23013333, 4431.255...  \n",
       "2  {40.0: [4431.20513333, 4431.23013333, 4431.255...  "
      ]
     },
     "execution_count": 12,
     "metadata": {},
     "output_type": "execute_result"
    }
   ],
   "source": [
    "opto_log_df.head(3)"
   ]
  },
  {
   "cell_type": "markdown",
   "metadata": {},
   "source": [
    "### plot spike rasters for optogenetic stimulus trials\n",
    "#### define function that will plot rasters"
   ]
  },
  {
   "cell_type": "code",
   "execution_count": 20,
   "metadata": {
    "ExecuteTime": {
     "end_time": "2017-03-26T15:54:25.060607Z",
     "start_time": "2017-03-26T15:54:24.960488"
    },
    "code_folding": [],
    "collapsed": false
   },
   "outputs": [],
   "source": [
    "import matplotlib.patches as patches\n",
    "from matplotlib import gridspec\n",
    "font = {'family' : 'sans-serif',\n",
    "        'weight' : 'normal',\n",
    "        'size'   : 18}\n",
    "\n",
    "mpl.rc('font', **font)\n",
    "mpl.rc('xtick', labelsize=16) \n",
    "mpl.rc('ytick', labelsize=16)\n",
    "mpl.rc('axes', labelsize=18)\n",
    "\n",
    "    \n",
    "\n",
    "def opto_identify(unit_num, log):\n",
    "    \n",
    "    unit = opto_log_df.iloc[unit_num]\n",
    "    mpl.close('all')\n",
    "    fig = mpl.figure(figsize=(15, 8))\n",
    "    fig.suptitle(unit['mouse_name'] + ', ' +  unit['date'] + ', ' + unit['cluster_name'])\n",
    "    gs = gridspec.GridSpec(5, 2, height_ratios=[1, 15, 5, 1, 15]) \n",
    "    ax1 = fig.add_subplot(gs[0])\n",
    "    ax2 = fig.add_subplot(gs[1])\n",
    "    ax3 = fig.add_subplot(gs[6])\n",
    "    ax4 = fig.add_subplot(gs[7])\n",
    "\n",
    "    rs1 = fig.add_subplot(gs[2])\n",
    "    rs2 = fig.add_subplot(gs[3])\n",
    "    rs3 = fig.add_subplot(gs[8])\n",
    "    rs4 = fig.add_subplot(gs[9])\n",
    "\n",
    "    rasters = [rs1, rs2, rs3, rs4]\n",
    "    opto_axes = [ax1, ax2, ax3, ax4]\n",
    "    frequencies = [1,5,10,40]\n",
    "\n",
    "    for i, frequency in enumerate(frequencies):\n",
    "        flop = unit['first_last_opto_pulses'][frequency]\n",
    "\n",
    "        trial_dur = flop[1][0] - flop[0][0]\n",
    "        trial_total = 0\n",
    "        for trial in range(len(flop[0])):\n",
    "            trial_spike_inds = (flop[0][trial]-0.5 < unit['spikes']) & (unit['spikes'] < flop[1][trial]+.5)\n",
    "            trial_spikes = unit['spikes'][trial_spike_inds] - flop[0][trial]\n",
    "            rasters[i].vlines(trial_spikes, trial + .5, trial + 1.3, linewidth = 0.5)\n",
    "            trial_total += 1\n",
    "\n",
    "        figure_pulse_inds = [(unit['grouped_opto_pulses'][frequency] >= flop[0][1])\n",
    "                  & (unit['grouped_opto_pulses'][frequency] <= flop[1][1])]\n",
    "        figure_pulses = unit['grouped_opto_pulses'][frequency][figure_pulse_inds] - flop[0][1]\n",
    "        example_pulse_ind = np.where(unit['opto_stim_onsets'] == flop[0][1])\n",
    "        stim_duration = unit['opto_stim_offsets'][example_pulse_ind] - unit['opto_stim_onsets'][example_pulse_ind]\n",
    "\n",
    "        for p in figure_pulses:\n",
    "            opto_axes[i].add_patch(patches.Rectangle((p,0), stim_duration*5, 4, color = 'xkcd:sky blue')) \n",
    "\n",
    "        rasters[i].autoscale(enable=True, tight=True)\n",
    "        rasters[i].spines['right'].set_visible(False)\n",
    "        rasters[i].spines['top'].set_visible(False)\n",
    "        rasters[i].xaxis.set_ticks_position('bottom')\n",
    "        rasters[i].yaxis.set_ticks_position('left')\n",
    "        rasters[i].set_xlim(-trial_dur*0.1, trial_dur + trial_dur*0.1)\n",
    "        rasters[i].set_xlabel('Time(s)')\n",
    "        rasters[i].set_ylabel('Trials')\n",
    "\n",
    "        opto_axes[i].set_ylim(0, 4, )\n",
    "        opto_axes[i].set_xlim(-trial_dur*0.1, trial_dur + trial_dur*0.1 )\n",
    "        opto_axes[i].axis('off')\n",
    "        opto_axes[i].set_title(str(frequency) + ' Hz')\n",
    "\n",
    "    mpl.subplots_adjust(left=0.1, right=.9, top=0.9, bottom=0.1)\n",
    "\n",
    "    return fig"
   ]
  },
  {
   "cell_type": "markdown",
   "metadata": {},
   "source": [
    "#### create widget that will make exploring data easier - drag slider to switch between units"
   ]
  },
  {
   "cell_type": "code",
   "execution_count": 14,
   "metadata": {
    "ExecuteTime": {
     "end_time": "2017-03-26T15:54:27.372438Z",
     "start_time": "2017-03-26T15:54:26.042859"
    },
    "collapsed": false
   },
   "outputs": [
    {
     "data": {
      "image/png": "[encoded data removed]",
      "text/plain": [
       "<matplotlib.figure.Figure at 0x1d5b90c48d0>"
      ]
     },
     "metadata": {},
     "output_type": "display_data"
    }
   ],
   "source": [
    "from __future__ import print_function\n",
    "from ipywidgets import interact, interactive, fixed, interact_manual\n",
    "from IPython.html import widgets\n",
    "from IPython.display import display\n",
    "import traitlets\n",
    "\n",
    "log = opto_log_df\n",
    "unit_num = 12\n",
    "num = widgets.IntSlider(min = 1, max = opto_log_df.shape[0], step = 1, width='75%', height='30px', \n",
    "                    description= \"Unit\", continuous_update=False)\n",
    "s = interactive(opto_identify, unit_num = num, log = fixed(log), continuous_update=False)\n",
    "display(s)"
   ]
  },
  {
   "cell_type": "markdown",
   "metadata": {},
   "source": [
    "### plot reliability and latency of optogenetic responses\n",
    "#### calculate identification metrics for each unit"
   ]
  },
  {
   "cell_type": "code",
   "execution_count": 15,
   "metadata": {
    "ExecuteTime": {
     "end_time": "2017-03-26T17:38:23.037312Z",
     "start_time": "2017-03-26T17:38:08.938122"
    },
    "collapsed": false,
    "scrolled": true
   },
   "outputs": [
    {
     "name": "stderr",
     "output_type": "stream",
     "text": [
      "C:\\Users\\Eric\\Anaconda3\\lib\\site-packages\\ipykernel\\__main__.py:14: RuntimeWarning: invalid value encountered in greater_equal\n",
      "C:\\Users\\Eric\\Anaconda3\\lib\\site-packages\\ipykernel\\__main__.py:14: RuntimeWarning: invalid value encountered in less_equal\n",
      "C:\\Users\\Eric\\Anaconda3\\lib\\site-packages\\numpy\\core\\_methods.py:59: RuntimeWarning: Mean of empty slice.\n",
      "  warnings.warn(\"Mean of empty slice.\", RuntimeWarning)\n",
      "C:\\Users\\Eric\\Anaconda3\\lib\\site-packages\\scipy\\stats\\stats.py:5084: RuntimeWarning: invalid value encountered in less\n",
      "  x = np.where(x < 1.0, x, 1.0)  # if x > 1 then return 1.0\n",
      "C:\\Users\\Eric\\Anaconda3\\lib\\site-packages\\numpy\\core\\_methods.py:68: RuntimeWarning: invalid value encountered in true_divide\n",
      "  ret, rcount, out=ret, casting='unsafe', subok=False)\n"
     ]
    }
   ],
   "source": [
    "all_opto_metrics_df = None\n",
    "for row in range(len(opto_log_df)):\n",
    "    unit = opto_log_df.iloc[row]\n",
    "\n",
    "    first_pulse = np.min(np.concatenate(list(unit['grouped_opto_pulses'].values())))\n",
    "    last_pulse = np.max(np.concatenate(list(unit['grouped_opto_pulses'].values())))\n",
    "    cont_spike_inds = (unit['spikes'] < first_pulse) | (unit['spikes'] > last_pulse)\n",
    "\n",
    "    frequencies = [1,5,10,40]\n",
    "\n",
    "    opto_windows_df = pd.DataFrame(dict([(k,pd.Series(v)) for k,v in unit['grouped_opto_pulses'].items()]))\n",
    "    del opto_windows_df[2]\n",
    "    names = [str(freq) + 'end' for freq in frequencies]\n",
    "    evoked_spike_inds_df = opto_windows_df.applymap(lambda y: np.where((y <= unit['spikes']) & (y+0.01>= unit['spikes']))[0]) \n",
    "\n",
    "    opto_metrics_df= pd.DataFrame(frequencies, columns = ['frequency'])\n",
    "    opto_metrics_df['unit_number'] = row\n",
    "    opto_metrics_df['mouse_name'] = unit['mouse_name']\n",
    "    opto_metrics_df['date'] = unit['date']\n",
    "    opto_metrics_df['cluster_name'] = unit['cluster_name']\n",
    "\n",
    "    spike_inds = []\n",
    "    for freq in frequencies:\n",
    "        spike_inds.append(np.concatenate(evoked_spike_inds_df[freq].as_matrix()))\n",
    "    opto_metrics_df['spike_inds'] = pd.Series(spike_inds)\n",
    "    pulses = pd.DataFrame([[unit['grouped_opto_pulses'][freq]] for freq in frequencies],\n",
    "                          columns = ['pulses'])\n",
    "    opto_metrics_df['pulses'] = pulses\n",
    "\n",
    "    def find_latencies(s):\n",
    "        spikes = unit['spikes']\n",
    "        idx = spikes.searchsorted(s['pulses'], side = 'right')\n",
    "        idx2 = idx[idx < len(unit['spikes'])] #otherwise will return an error if no spikes follow the last laser pulse\n",
    "        raw_latencies = spikes[idx2] - s['pulses'][0:len(idx2)]\n",
    "        if len(raw_latencies <= 0.01) > 0:\n",
    "            reliability = sum(raw_latencies <= 0.01)/len(raw_latencies <= 0.01)\n",
    "        else:\n",
    "            reliability = 0\n",
    "        latencies = raw_latencies[raw_latencies <= 0.01]\n",
    "        return [[latencies], reliability]\n",
    "    # raw_latencies, latencies\n",
    "    opto_metrics_df['reliability'] = opto_metrics_df.apply(lambda y: find_latencies(y)[1], axis = 1)\n",
    "    opto_metrics_df['latencies'] = opto_metrics_df.apply(lambda y: find_latencies(y)[0], axis = 1)\n",
    "    opto_metrics_df['latencies'] = opto_metrics_df['latencies'].apply(lambda y: y[0])\n",
    "    opto_metrics_df['mean_latencies'] = opto_metrics_df['latencies'].apply(lambda y: np.mean(y) if len(y)>0 else None)\n",
    "    \n",
    "    waveform_corr = []\n",
    "    for waveform in ['waveforms1','waveforms2','waveforms3','waveforms4']:    \n",
    "        opto_metrics_df[waveform] = opto_metrics_df['spike_inds'].apply(\n",
    "            lambda y: np.mean(unit[waveform][y], axis=0))\n",
    "        opto_metrics_df['cont_'+waveform] = [np.mean(unit[waveform][cont_spike_inds], axis=0)]*4\n",
    "        waveform_corr.append([sp.stats.pearsonr(opto_metrics_df[waveform][i],\n",
    "                           opto_metrics_df['cont_'+waveform][i])[0] for i in range(4)])\n",
    "    opto_metrics_df['waveform_corr'] = np.around(np.mean(waveform_corr),2)\n",
    "\n",
    "    \n",
    "    if all_opto_metrics_df is None: \n",
    "        all_opto_metrics_df = opto_metrics_df\n",
    "    else:\n",
    "        all_opto_metrics_df = all_opto_metrics_df.append(opto_metrics_df)\n",
    "all_opto_metrics_df = all_opto_metrics_df.reset_index(drop = True)"
   ]
  },
  {
   "cell_type": "code",
   "execution_count": 16,
   "metadata": {
    "collapsed": false
   },
   "outputs": [
    {
     "data": {
      "text/html": [
       "<div>\n",
       "<table border=\"1\" class=\"dataframe\">\n",
       "  <thead>\n",
       "    <tr style=\"text-align: right;\">\n",
       "      <th></th>\n",
       "      <th>frequency</th>\n",
       "      <th>unit_number</th>\n",
       "      <th>mouse_name</th>\n",
       "      <th>date</th>\n",
       "      <th>cluster_name</th>\n",
       "      <th>spike_inds</th>\n",
       "      <th>pulses</th>\n",
       "      <th>reliability</th>\n",
       "      <th>latencies</th>\n",
       "      <th>mean_latencies</th>\n",
       "      <th>waveforms1</th>\n",
       "      <th>cont_waveforms1</th>\n",
       "      <th>waveforms2</th>\n",
       "      <th>cont_waveforms2</th>\n",
       "      <th>waveforms3</th>\n",
       "      <th>cont_waveforms3</th>\n",
       "      <th>waveforms4</th>\n",
       "      <th>cont_waveforms4</th>\n",
       "      <th>waveform_corr</th>\n",
       "    </tr>\n",
       "  </thead>\n",
       "  <tbody>\n",
       "    <tr>\n",
       "      <th>0</th>\n",
       "      <td>1</td>\n",
       "      <td>0</td>\n",
       "      <td>Claustrum3</td>\n",
       "      <td>03-16-17</td>\n",
       "      <td>TT1clst1</td>\n",
       "      <td>[2518, 2523, 2533, 2546, 2572, 2602, 2603, 260...</td>\n",
       "      <td>[4574.04206667, 4575.04206667, 4576.0421, 4577...</td>\n",
       "      <td>0.383838</td>\n",
       "      <td>[0.003733333333, 0.00570000000062, 0.0018, 0.0...</td>\n",
       "      <td>0.00601667</td>\n",
       "      <td>[-4.40029693224e-05, -0.000370243905516, -8.68...</td>\n",
       "      <td>[0.000820592858198, 0.00111929525002, 0.001873...</td>\n",
       "      <td>[8.29874412763e-05, -0.000764989230001, -0.000...</td>\n",
       "      <td>[0.00246732097628, 0.00286059834813, 0.0022884...</td>\n",
       "      <td>[-0.000929620545691, 0.000766119159337, 0.0028...</td>\n",
       "      <td>[0.004322945438, 0.0054501371847, 0.0036665370...</td>\n",
       "      <td>[0.00206068128349, 0.00565028708261, 0.0044356...</td>\n",
       "      <td>[0.00457833181709, 0.00687679659184, 0.0058672...</td>\n",
       "      <td>0.97</td>\n",
       "    </tr>\n",
       "    <tr>\n",
       "      <th>1</th>\n",
       "      <td>5</td>\n",
       "      <td>0</td>\n",
       "      <td>Claustrum3</td>\n",
       "      <td>03-16-17</td>\n",
       "      <td>TT1clst1</td>\n",
       "      <td>[1138, 1147, 1149, 1155, 1156, 1159, 1160, 116...</td>\n",
       "      <td>[4269.403, 4269.603, 4269.80303333, 4270.00303...</td>\n",
       "      <td>0.185619</td>\n",
       "      <td>[0.0072999999993, 0.0035666666663, 0.008566666...</td>\n",
       "      <td>0.0056964</td>\n",
       "      <td>[0.000778498189932, 0.00261959907639, 0.002783...</td>\n",
       "      <td>[0.000820592858198, 0.00111929525002, 0.001873...</td>\n",
       "      <td>[0.00133518675482, 0.00356195692956, 0.0030182...</td>\n",
       "      <td>[0.00246732097628, 0.00286059834813, 0.0022884...</td>\n",
       "      <td>[0.00262936411504, 0.00245696515243, 0.0020491...</td>\n",
       "      <td>[0.004322945438, 0.0054501371847, 0.0036665370...</td>\n",
       "      <td>[0.00288102048945, 0.00404342892229, 0.0034801...</td>\n",
       "      <td>[0.00457833181709, 0.00687679659184, 0.0058672...</td>\n",
       "      <td>0.97</td>\n",
       "    </tr>\n",
       "    <tr>\n",
       "      <th>2</th>\n",
       "      <td>10</td>\n",
       "      <td>0</td>\n",
       "      <td>Claustrum3</td>\n",
       "      <td>03-16-17</td>\n",
       "      <td>TT1clst1</td>\n",
       "      <td>[441, 445, 457, 522, 528, 558, 562, 565, 566, ...</td>\n",
       "      <td>[4130.70036667, 4130.80036667, 4130.90036667, ...</td>\n",
       "      <td>0.063545</td>\n",
       "      <td>[0.00673333333361, 0.003733333333, 0.000299999...</td>\n",
       "      <td>0.00530614</td>\n",
       "      <td>[0.000289001621836, 0.00234259186738, 0.003141...</td>\n",
       "      <td>[0.000820592858198, 0.00111929525002, 0.001873...</td>\n",
       "      <td>[0.000169248875257, 0.000865903602277, 0.00211...</td>\n",
       "      <td>[0.00246732097628, 0.00286059834813, 0.0022884...</td>\n",
       "      <td>[0.0050071292074, 0.00524577396837, 0.00361217...</td>\n",
       "      <td>[0.004322945438, 0.0054501371847, 0.0036665370...</td>\n",
       "      <td>[0.00465979565993, 0.00583923320082, 0.0041500...</td>\n",
       "      <td>[0.00457833181709, 0.00687679659184, 0.0058672...</td>\n",
       "      <td>0.97</td>\n",
       "    </tr>\n",
       "  </tbody>\n",
       "</table>\n",
       "</div>"
      ],
      "text/plain": [
       "   frequency  unit_number  mouse_name      date cluster_name  \\\n",
       "0          1            0  Claustrum3  03-16-17     TT1clst1   \n",
       "1          5            0  Claustrum3  03-16-17     TT1clst1   \n",
       "2         10            0  Claustrum3  03-16-17     TT1clst1   \n",
       "\n",
       "                                          spike_inds  \\\n",
       "0  [2518, 2523, 2533, 2546, 2572, 2602, 2603, 260...   \n",
       "1  [1138, 1147, 1149, 1155, 1156, 1159, 1160, 116...   \n",
       "2  [441, 445, 457, 522, 528, 558, 562, 565, 566, ...   \n",
       "\n",
       "                                              pulses  reliability  \\\n",
       "0  [4574.04206667, 4575.04206667, 4576.0421, 4577...     0.383838   \n",
       "1  [4269.403, 4269.603, 4269.80303333, 4270.00303...     0.185619   \n",
       "2  [4130.70036667, 4130.80036667, 4130.90036667, ...     0.063545   \n",
       "\n",
       "                                           latencies mean_latencies  \\\n",
       "0  [0.003733333333, 0.00570000000062, 0.0018, 0.0...     0.00601667   \n",
       "1  [0.0072999999993, 0.0035666666663, 0.008566666...      0.0056964   \n",
       "2  [0.00673333333361, 0.003733333333, 0.000299999...     0.00530614   \n",
       "\n",
       "                                          waveforms1  \\\n",
       "0  [-4.40029693224e-05, -0.000370243905516, -8.68...   \n",
       "1  [0.000778498189932, 0.00261959907639, 0.002783...   \n",
       "2  [0.000289001621836, 0.00234259186738, 0.003141...   \n",
       "\n",
       "                                     cont_waveforms1  \\\n",
       "0  [0.000820592858198, 0.00111929525002, 0.001873...   \n",
       "1  [0.000820592858198, 0.00111929525002, 0.001873...   \n",
       "2  [0.000820592858198, 0.00111929525002, 0.001873...   \n",
       "\n",
       "                                          waveforms2  \\\n",
       "0  [8.29874412763e-05, -0.000764989230001, -0.000...   \n",
       "1  [0.00133518675482, 0.00356195692956, 0.0030182...   \n",
       "2  [0.000169248875257, 0.000865903602277, 0.00211...   \n",
       "\n",
       "                                     cont_waveforms2  \\\n",
       "0  [0.00246732097628, 0.00286059834813, 0.0022884...   \n",
       "1  [0.00246732097628, 0.00286059834813, 0.0022884...   \n",
       "2  [0.00246732097628, 0.00286059834813, 0.0022884...   \n",
       "\n",
       "                                          waveforms3  \\\n",
       "0  [-0.000929620545691, 0.000766119159337, 0.0028...   \n",
       "1  [0.00262936411504, 0.00245696515243, 0.0020491...   \n",
       "2  [0.0050071292074, 0.00524577396837, 0.00361217...   \n",
       "\n",
       "                                     cont_waveforms3  \\\n",
       "0  [0.004322945438, 0.0054501371847, 0.0036665370...   \n",
       "1  [0.004322945438, 0.0054501371847, 0.0036665370...   \n",
       "2  [0.004322945438, 0.0054501371847, 0.0036665370...   \n",
       "\n",
       "                                          waveforms4  \\\n",
       "0  [0.00206068128349, 0.00565028708261, 0.0044356...   \n",
       "1  [0.00288102048945, 0.00404342892229, 0.0034801...   \n",
       "2  [0.00465979565993, 0.00583923320082, 0.0041500...   \n",
       "\n",
       "                                     cont_waveforms4  waveform_corr  \n",
       "0  [0.00457833181709, 0.00687679659184, 0.0058672...           0.97  \n",
       "1  [0.00457833181709, 0.00687679659184, 0.0058672...           0.97  \n",
       "2  [0.00457833181709, 0.00687679659184, 0.0058672...           0.97  "
      ]
     },
     "execution_count": 16,
     "metadata": {},
     "output_type": "execute_result"
    }
   ],
   "source": [
    "all_opto_metrics_df.head(3)"
   ]
  },
  {
   "cell_type": "markdown",
   "metadata": {
    "collapsed": true
   },
   "source": [
    "#### define function that will plot identification metrics for each unit"
   ]
  },
  {
   "cell_type": "code",
   "execution_count": 23,
   "metadata": {
    "collapsed": false
   },
   "outputs": [],
   "source": [
    "import seaborn as sns\n",
    "sns.set_style(\"ticks\")\n",
    "\n",
    "def opto_metrics(unit_num, log, opto_metrics_log):\n",
    "\n",
    "    unit = all_opto_metrics_df[all_opto_metrics_df['unit_number'] == unit_num]\n",
    "    sub_log_df = opto_log_df.iloc[unit_num]\n",
    "    frequencies = [1,5,10,40]\n",
    "    stim_duration = 0.002\n",
    "\n",
    "    mpl.close('all')\n",
    "    fig2 = mpl.figure(figsize=(18, 10))\n",
    "    fig2.suptitle(sub_log_df['mouse_name'] + ', ' +  sub_log_df['date'] + ', ' + sub_log_df['cluster_name'])\n",
    "\n",
    "    ax1 = mpl.subplot2grid((2,2), (0,0), rowspan=2, colspan=1)\n",
    "    ax2 = mpl.subplot2grid((2,2), (0,1), rowspan=1, colspan=1)\n",
    "    ax3 = mpl.subplot2grid((2,2), (1,1), rowspan=1, colspan=1)\n",
    "\n",
    "    ax4 = fig2.add_axes([0.34, 0.425, 0.1, 0.4])\n",
    "    sns.despine()\n",
    "\n",
    "    data={}\n",
    "    total_stims = 0\n",
    "\n",
    "    laser_evoked_spike_inds = []\n",
    "    for freq in frequencies:\n",
    "        opto_stims = sub_log_df['grouped_opto_pulses'][freq]\n",
    "        for stim_num in range(90):\n",
    "            spike_inds = (sub_log_df['spikes'] >= opto_stims[stim_num]-0.01) & (sub_log_df['spikes'] < opto_stims[stim_num] + .02)\n",
    "            spikes = (sub_log_df['spikes'][spike_inds] - opto_stims[stim_num])*1000\n",
    "            ax1.vlines(spikes, total_stims + stim_num + .5, total_stims + stim_num + 1.3, linewidth = 2)\n",
    "            x = total_stims+stim_num\n",
    "\n",
    "        ax1.plot([0,stim_duration*1000], [total_stims+stim_num, total_stims+stim_num], color = 'k', linewidth = 3)\n",
    "        ax1.text(-2, total_stims + stim_num/2, str(freq) + ' Hz', fontsize = 13),\n",
    "        total_stims = total_stims + stim_num\n",
    "\n",
    "    frequencies = unit['frequency']\n",
    "    values = np.concatenate(list(unit['latencies']))\n",
    "    labels = np.concatenate([[freq] * len(unit['latencies'].iloc[i])\n",
    "                             for i, freq in enumerate(frequencies)])\n",
    "    data_df = pd.DataFrame([values*1000, labels], index = ['Latency (ms)', 'Frequency (Hz)']).T\n",
    "    sns.violinplot(x = 'Frequency (Hz)', y = 'Latency (ms)', data = data_df, ax=ax3, color = 'xkcd:sky blue')\n",
    "\n",
    "    sns.pointplot(x = 'frequency', y = 'reliability', data = unit, ax=ax2, join = False, color = 'xkcd:sky blue')\n",
    "\n",
    "    offset = 0\n",
    "    waveform_corr = []\n",
    "    for electrode in ['waveforms1','waveforms2','waveforms3','waveforms4']:\n",
    "        laser_evoked_waveforms_df = pd.DataFrame(np.mean(unit[electrode]))+offset\n",
    "        cont_waveforms_df = pd.DataFrame(np.mean(unit['cont_'+electrode]))+offset\n",
    "        ax4.plot(cont_waveforms_df, color = 'k', alpha = 0.8, linewidth = 3)\n",
    "        ax4.plot(laser_evoked_waveforms_df, color = 'xkcd:sky blue',alpha = 0.8, linewidth = 3)\n",
    "        offset += 0.2\n",
    "    ax4.set_title('r = ' + str(unit['waveform_corr'].iloc[0]), fontsize = 14)\n",
    "\n",
    "    ax1.set_xlabel('Time(ms)')\n",
    "    ax1.set_ylabel('Stim trial')\n",
    "    ax1.autoscale(enable=True, tight=True)\n",
    "    ax1.xaxis.set_ticks_position('bottom')\n",
    "    ax1.yaxis.set_ticks_position('left')\n",
    "    ax1.add_patch(patches.Rectangle((0,0), stim_duration*1000, total_stims, color = 'xkcd:sky blue'))\n",
    "    ax1.set_xlim(-7.5,20)\n",
    "\n",
    "    ax3.set_xlabel('Frequency (Hz)')\n",
    "    ax3.set_ylabel('Mean spike latency (ms)')\n",
    "    ax3.set_ylim(0,20)\n",
    "    ax3.yaxis.set_ticks(np.arange(0, 20, 2.5))\n",
    "\n",
    "    ax2.set_xlabel('Frequency (Hz)')\n",
    "    ax2.set_ylabel('P(spike)')\n",
    "    ax2.set_ylim(0,1)\n",
    "\n",
    "    ax4.patch.set_alpha(0)\n",
    "    ax4.axis('off')\n",
    "\n",
    "    ax5 = fig2.add_axes([0.40, 0.40, 0.05, 0.1])\n",
    "    ax5.spines['left'].set_visible(False)\n",
    "    ax5.spines['top'].set_visible(False)\n",
    "    ax5.yaxis.set_ticks_position('right')\n",
    "    ax5.spines['right'].set_smart_bounds(True)\n",
    "    ax5.spines['bottom'].set_smart_bounds(True)\n",
    "    mpl.yticks((0,0.2,0.2), fontsize = 13)\n",
    "    mpl.xticks((0,0.5,0.5), fontsize = 13)\n",
    "    ax5.set_ylim(0,0.2)\n",
    "    ax5.set_xlim(0,0.5)\n",
    "    ax5.patch.set_alpha(0)\n",
    "    ax5.set_xlabel('ms',fontsize = 13)\n",
    "    ax5.set_ylabel('mV',fontsize = 13)\n",
    "    ax5.yaxis.set_label_position('right')\n",
    "\n",
    "    return fig2"
   ]
  },
  {
   "cell_type": "markdown",
   "metadata": {},
   "source": [
    "#### create widgets to make exploring data easier"
   ]
  },
  {
   "cell_type": "code",
   "execution_count": 24,
   "metadata": {
    "collapsed": false
   },
   "outputs": [
    {
     "data": {
      "image/png": "[encoded data removed]",
      "text/plain": [
       "<matplotlib.figure.Figure at 0x1d5b2219b70>"
      ]
     },
     "metadata": {},
     "output_type": "display_data"
    }
   ],
   "source": [
    "num = widgets.IntSlider(min = 1, max = opto_log_df.shape[0], step = 1, width='75%', height='30px', \n",
    "                    description= \"Unit\", continuous_update=False)\n",
    "s = interactive(opto_metrics, unit_num = num, log = fixed(log), opto_metrics_log = fixed(all_opto_metrics_df), continuous_update=False)\n",
    "display(s)"
   ]
  },
  {
   "cell_type": "code",
   "execution_count": 145,
   "metadata": {
    "collapsed": false
   },
   "outputs": [
    {
     "name": "stdout",
     "output_type": "stream",
     "text": [
      "High five! You successfuly sent some data to your account on plotly. View your plot in your browser at https://plot.ly/~efinkel11/0 or inside your plot.ly account where it is named 'pandas-brownian-motion-3d'\n"
     ]
    },
    {
     "data": {
      "text/html": [
       "<iframe id=\"igraph\" scrolling=\"no\" style=\"border:none;\" seamless=\"seamless\" src=\"https://plot.ly/~efinkel11/0.embed\" height=\"800px\" width=\"800px\"></iframe>"
      ],
      "text/plain": [
       "<plotly.tools.PlotlyDisplay object>"
      ]
     },
     "execution_count": 145,
     "metadata": {},
     "output_type": "execute_result"
    }
   ],
   "source": [
    "import colorlover as cl\n",
    "import plotly.plotly as py\n",
    "import plotly.graph_objs as go\n",
    "py.sign_in('efinkel11', 'yhtY1t0dIUH4hX37eXdO')\n",
    "traces = []\n",
    "\n",
    "colors = ['rgb(236,231,242)','rgb(166,189,219)','rgb(43,140,190)', 'rgb(10,50,110)']\n",
    "frequencies = [1,5,10,40]\n",
    "for i, freq in enumerate(frequencies):\n",
    "    rows = all_opto_metrics_df['frequency'] == freq\n",
    "    x = all_opto_metrics_df['mean_latencies'][rows]\n",
    "    y = all_opto_metrics_df['waveform_corr'][rows]\n",
    "    z = all_opto_metrics_df['reliability'][rows]\n",
    "    n = all_opto_metrics_df.loc[rows, ['mouse_name',\n",
    "                                'date', 'cluster_name']].as_matrix()\n",
    "    clust_names = [' '.join(name) for name in n]\n",
    "    clust_names = ['.'.join((ns[0:2]+ns[9],ns[12],ns[14:16],ns[17:])) for ns in clust_names]\n",
    "\n",
    "    trace = go.Scatter3d(\n",
    "        text = clust_names,\n",
    "        x=x, y=y, z=z,\n",
    "        mode = 'markers',\n",
    "        marker=dict(\n",
    "            size=6,\n",
    "            opacity = 0,\n",
    "            color = colors[i]),\n",
    "        line = dict(\n",
    "            width = 0,\n",
    "            color = colors[i]),\n",
    "        name = str(freq)+'Hz',)\n",
    "    traces.append(trace)\n",
    "data = traces\n",
    "\n",
    "layout = dict(\n",
    "    width=800,\n",
    "    height=800,\n",
    "    autosize=False,\n",
    "    legend = dict(orientation= \"h\"),\n",
    "    scene=dict(\n",
    "        xaxis=dict(title = 'mean spike latency'),\n",
    "        yaxis=dict(title = 'waveform corr'),\n",
    "        zaxis=dict(\n",
    "            title = 'p(spike)')))\n",
    "\n",
    "fig = dict(data=data, layout=layout)\n",
    "\n",
    "py.iplot(fig, filename='pandas-brownian-motion-3d', height=700, validate=False)"
   ]
  },
  {
   "cell_type": "code",
   "execution_count": null,
   "metadata": {
    "collapsed": true
   },
   "outputs": [],
   "source": [
    "%autoreload 2\n",
    "%timeit\n",
    "import ind_unit as iu\n",
    "from __future__ import print_function\n",
    "from ipywidgets import interact, interactive, fixed, interact_manual\n",
    "from IPython.html import widgets\n",
    "from IPython.display import display\n",
    "import traitlets\n",
    "\n",
    "\n",
    "w = widgets.Dropdown(options = list(subset_dict.keys()), value = 'unidentified', description='cellType:')\n",
    "\n",
    "num = widgets.IntSlider(min = 1, max = 50, step = 1, width='75%', height='30px', \n",
    "                    description= \"Unit\", continuous_update=False)\n",
    "x1 = widgets.FloatSlider(min = -.9, max = 0, step = 0.05, value = -0.25,width='75%',\n",
    "                          height='30px', description= \"xMin\", continuous_update=False)\n",
    "x2 = widgets.FloatSlider(min = 0, max = 2, step = 0.05, value=0.75,width='75%', height='30px',\n",
    "                          description= \"xMax\",continuous_update=False)\n",
    "s = interactive(iu.plot_unit, df_dict = fixed(subset_dict), s_key = w, n=num, x_min = x1, x_max = x2, continuous_update=False)\n",
    "\n",
    "\n",
    "def update_max(*args):\n",
    "    num.value = 1\n",
    "    num.max = size_dict[w.value]\n",
    "w.observe(update_max, 'value')\n",
    "\n",
    "display(s)"
   ]
  }
 ],
 "metadata": {
  "kernelspec": {
   "display_name": "Python 3",
   "language": "python",
   "name": "python3"
  },
  "language_info": {
   "codemirror_mode": {
    "name": "ipython",
    "version": 3
   },
   "file_extension": ".py",
   "mimetype": "text/x-python",
   "name": "python",
   "nbconvert_exporter": "python",
   "pygments_lexer": "ipython3",
   "version": "3.6.0"
  },
  "widgets": {
   "state": {
    "40728cfd4f4c403a908870496731351a": {
     "views": [
      {
       "cell_index": 26
      }
     ]
    },
    "8e3179822d3f47e880ce2c3cff7bf3ed": {
     "views": [
      {
       "cell_index": 19
      }
     ]
    }
   },
   "version": "1.2.0"
  }
 },
 "nbformat": 4,
 "nbformat_minor": 2
}
