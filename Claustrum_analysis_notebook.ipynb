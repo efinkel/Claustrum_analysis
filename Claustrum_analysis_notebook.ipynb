{
 "cells": [
  {
   "cell_type": "code",
   "execution_count": 1,
   "metadata": {
    "collapsed": true
   },
   "outputs": [],
   "source": [
    "import scipy as sp\n",
    "import scipy.io\n",
    "import os\n",
    "import numpy as np\n",
    "import pandas as pd\n",
    "\n",
    "from collections import Iterable\n",
    "import matplotlib.pylab as mpl"
   ]
  },
  {
   "cell_type": "code",
   "execution_count": 2,
   "metadata": {
    "collapsed": false
   },
   "outputs": [],
   "source": [
    "%load_ext autoreload"
   ]
  },
  {
   "cell_type": "code",
   "execution_count": 3,
   "metadata": {
    "collapsed": false
   },
   "outputs": [],
   "source": [
    "mat = sp.io.loadmat('allUnitsLog_claus.mat')\n",
    "mat2 = sp.io.loadmat('Opto_log_allUnits_claus.mat')"
   ]
  },
  {
   "cell_type": "code",
   "execution_count": 4,
   "metadata": {
    "collapsed": false
   },
   "outputs": [
    {
     "data": {
      "text/html": [
       "<div>\n",
       "<table border=\"1\" class=\"dataframe\">\n",
       "  <thead>\n",
       "    <tr style=\"text-align: right;\">\n",
       "      <th></th>\n",
       "      <th>mouse_name</th>\n",
       "      <th>date</th>\n",
       "      <th>block_type</th>\n",
       "      <th>trial_type</th>\n",
       "      <th>touch_stimulus</th>\n",
       "      <th>vis_stimulus</th>\n",
       "      <th>response</th>\n",
       "      <th>trial_num</th>\n",
       "      <th>stim_onset</th>\n",
       "      <th>stim_offset</th>\n",
       "      <th>licks_right</th>\n",
       "      <th>licks_left</th>\n",
       "      <th>spike_times</th>\n",
       "      <th>cluster_name</th>\n",
       "    </tr>\n",
       "  </thead>\n",
       "  <tbody>\n",
       "    <tr>\n",
       "      <th>0</th>\n",
       "      <td>[Claustrum3]</td>\n",
       "      <td>[03-16-17]</td>\n",
       "      <td>[Visual]</td>\n",
       "      <td>[Stim_Som_NoCue]</td>\n",
       "      <td>[SineAmp0p925Freq20Cyc3]</td>\n",
       "      <td>[Amp0p5Dur0p150]</td>\n",
       "      <td>[[0]]</td>\n",
       "      <td>[[[[3]]]]</td>\n",
       "      <td>[[[[ 1.4482]]]]</td>\n",
       "      <td>[[[[ 1.59566667]]]]</td>\n",
       "      <td>[[[]]]</td>\n",
       "      <td>[[[]]]</td>\n",
       "      <td>[[0.0117666666667], [0.0321666666667], [0.1104...</td>\n",
       "      <td>[TT1clst1]</td>\n",
       "    </tr>\n",
       "    <tr>\n",
       "      <th>1</th>\n",
       "      <td>[Claustrum3]</td>\n",
       "      <td>[03-16-17]</td>\n",
       "      <td>[Visual]</td>\n",
       "      <td>[Stim_Som_NoCue]</td>\n",
       "      <td>[SineAmp0p925Freq20Cyc3]</td>\n",
       "      <td>[Amp0p5Dur0p150]</td>\n",
       "      <td>[[0]]</td>\n",
       "      <td>[[[[3]]]]</td>\n",
       "      <td>[[[[ 1.4482]]]]</td>\n",
       "      <td>[[[[ 1.59566667]]]]</td>\n",
       "      <td>[[[]]]</td>\n",
       "      <td>[[[]]]</td>\n",
       "      <td>[[0.155366666667], [0.355766666667], [1.549566...</td>\n",
       "      <td>[TT1clst2]</td>\n",
       "    </tr>\n",
       "  </tbody>\n",
       "</table>\n",
       "</div>"
      ],
      "text/plain": [
       "     mouse_name        date block_type        trial_type  \\\n",
       "0  [Claustrum3]  [03-16-17]   [Visual]  [Stim_Som_NoCue]   \n",
       "1  [Claustrum3]  [03-16-17]   [Visual]  [Stim_Som_NoCue]   \n",
       "\n",
       "             touch_stimulus      vis_stimulus response  trial_num  \\\n",
       "0  [SineAmp0p925Freq20Cyc3]  [Amp0p5Dur0p150]    [[0]]  [[[[3]]]]   \n",
       "1  [SineAmp0p925Freq20Cyc3]  [Amp0p5Dur0p150]    [[0]]  [[[[3]]]]   \n",
       "\n",
       "        stim_onset          stim_offset licks_right licks_left  \\\n",
       "0  [[[[ 1.4482]]]]  [[[[ 1.59566667]]]]      [[[]]]     [[[]]]   \n",
       "1  [[[[ 1.4482]]]]  [[[[ 1.59566667]]]]      [[[]]]     [[[]]]   \n",
       "\n",
       "                                         spike_times cluster_name  \n",
       "0  [[0.0117666666667], [0.0321666666667], [0.1104...   [TT1clst1]  \n",
       "1  [[0.155366666667], [0.355766666667], [1.549566...   [TT1clst2]  "
      ]
     },
     "execution_count": 4,
     "metadata": {},
     "output_type": "execute_result"
    }
   ],
   "source": [
    "log = mat['fullLog']\n",
    "log_df = pd.DataFrame(log, columns=['mouse_name', 'date', 'block_type', 'trial_type', 'touch_stimulus',\\\n",
    "                                    'vis_stimulus', 'response','trial_num', 'stim_onset', 'stim_offset', 'licks_right',\\\n",
    "                                    'licks_left', 'spike_times', 'cluster_name' ])\n",
    "\n",
    "log_df.head(2)"
   ]
  },
  {
   "cell_type": "code",
   "execution_count": 5,
   "metadata": {
    "collapsed": false
   },
   "outputs": [
    {
     "data": {
      "text/html": [
       "<div>\n",
       "<table border=\"1\" class=\"dataframe\">\n",
       "  <thead>\n",
       "    <tr style=\"text-align: right;\">\n",
       "      <th></th>\n",
       "      <th>mouse_name</th>\n",
       "      <th>date</th>\n",
       "      <th>cluster_name</th>\n",
       "      <th>opto_stim_onsets</th>\n",
       "      <th>opto_stim_offsets</th>\n",
       "      <th>spikes</th>\n",
       "    </tr>\n",
       "  </thead>\n",
       "  <tbody>\n",
       "    <tr>\n",
       "      <th>0</th>\n",
       "      <td>[Claustrum3]</td>\n",
       "      <td>[03-16-17]</td>\n",
       "      <td>[TT1clst1]</td>\n",
       "      <td>[[3964.30126667, 3964.80126667, 3965.30126667,...</td>\n",
       "      <td>[[3964.55126667, 3965.05126667, 3965.5513, 396...</td>\n",
       "      <td>[[3939.5548], [3939.7151], [3939.9379], [3940....</td>\n",
       "    </tr>\n",
       "    <tr>\n",
       "      <th>1</th>\n",
       "      <td>[Claustrum3]</td>\n",
       "      <td>[03-16-17]</td>\n",
       "      <td>[TT1clst2]</td>\n",
       "      <td>[[3964.30126667, 3964.80126667, 3965.30126667,...</td>\n",
       "      <td>[[3964.55126667, 3965.05126667, 3965.5513, 396...</td>\n",
       "      <td>[[3939.7038], [3939.994], [3940.2059], [3940.5...</td>\n",
       "    </tr>\n",
       "  </tbody>\n",
       "</table>\n",
       "</div>"
      ],
      "text/plain": [
       "     mouse_name        date cluster_name  \\\n",
       "0  [Claustrum3]  [03-16-17]   [TT1clst1]   \n",
       "1  [Claustrum3]  [03-16-17]   [TT1clst2]   \n",
       "\n",
       "                                    opto_stim_onsets  \\\n",
       "0  [[3964.30126667, 3964.80126667, 3965.30126667,...   \n",
       "1  [[3964.30126667, 3964.80126667, 3965.30126667,...   \n",
       "\n",
       "                                   opto_stim_offsets  \\\n",
       "0  [[3964.55126667, 3965.05126667, 3965.5513, 396...   \n",
       "1  [[3964.55126667, 3965.05126667, 3965.5513, 396...   \n",
       "\n",
       "                                              spikes  \n",
       "0  [[3939.5548], [3939.7151], [3939.9379], [3940....  \n",
       "1  [[3939.7038], [3939.994], [3940.2059], [3940.5...  "
      ]
     },
     "execution_count": 5,
     "metadata": {},
     "output_type": "execute_result"
    }
   ],
   "source": [
    "opto_log = mat2['fullOptoTable']\n",
    "opto_log_df = pd.DataFrame(opto_log, columns=['mouse_name', 'date', 'cluster_name', 'opto_stim_onsets', 'opto_stim_offsets', 'spikes'])\n",
    "\n",
    "opto_log_df.head(2)"
   ]
  },
  {
   "cell_type": "code",
   "execution_count": 6,
   "metadata": {
    "collapsed": false
   },
   "outputs": [],
   "source": [
    "for col in [0,1,2,3,4,5,6,6,7,7,7,7,8,8,8,8,9,9,9,9,10,10,11,11,13]:\n",
    "        log_df.ix[:,col] = log_df.ix[:,col].str[0]\n",
    "for col in [0,1,2,3,4]:\n",
    "        opto_log_df.ix[:,col] = opto_log_df.ix[:,col].str[0]"
   ]
  },
  {
   "cell_type": "code",
   "execution_count": 7,
   "metadata": {
    "collapsed": false
   },
   "outputs": [
    {
     "data": {
      "text/html": [
       "<div>\n",
       "<table border=\"1\" class=\"dataframe\">\n",
       "  <thead>\n",
       "    <tr style=\"text-align: right;\">\n",
       "      <th></th>\n",
       "      <th>mouse_name</th>\n",
       "      <th>date</th>\n",
       "      <th>block_type</th>\n",
       "      <th>trial_type</th>\n",
       "      <th>touch_stimulus</th>\n",
       "      <th>vis_stimulus</th>\n",
       "      <th>response</th>\n",
       "      <th>trial_num</th>\n",
       "      <th>stim_onset</th>\n",
       "      <th>stim_offset</th>\n",
       "      <th>licks_right</th>\n",
       "      <th>licks_left</th>\n",
       "      <th>spike_times</th>\n",
       "      <th>cluster_name</th>\n",
       "    </tr>\n",
       "  </thead>\n",
       "  <tbody>\n",
       "    <tr>\n",
       "      <th>0</th>\n",
       "      <td>Claustrum3</td>\n",
       "      <td>03-16-17</td>\n",
       "      <td>Visual</td>\n",
       "      <td>Stim_Som_NoCue</td>\n",
       "      <td>SineAmp0p925Freq20Cyc3</td>\n",
       "      <td>Amp0p5Dur0p150</td>\n",
       "      <td>0</td>\n",
       "      <td>3</td>\n",
       "      <td>1.4482</td>\n",
       "      <td>1.595667</td>\n",
       "      <td>[]</td>\n",
       "      <td>[]</td>\n",
       "      <td>[[0.0117666666667], [0.0321666666667], [0.1104...</td>\n",
       "      <td>TT1clst1</td>\n",
       "    </tr>\n",
       "    <tr>\n",
       "      <th>1</th>\n",
       "      <td>Claustrum3</td>\n",
       "      <td>03-16-17</td>\n",
       "      <td>Visual</td>\n",
       "      <td>Stim_Som_NoCue</td>\n",
       "      <td>SineAmp0p925Freq20Cyc3</td>\n",
       "      <td>Amp0p5Dur0p150</td>\n",
       "      <td>0</td>\n",
       "      <td>3</td>\n",
       "      <td>1.4482</td>\n",
       "      <td>1.595667</td>\n",
       "      <td>[]</td>\n",
       "      <td>[]</td>\n",
       "      <td>[[0.155366666667], [0.355766666667], [1.549566...</td>\n",
       "      <td>TT1clst2</td>\n",
       "    </tr>\n",
       "  </tbody>\n",
       "</table>\n",
       "</div>"
      ],
      "text/plain": [
       "   mouse_name      date block_type      trial_type          touch_stimulus  \\\n",
       "0  Claustrum3  03-16-17     Visual  Stim_Som_NoCue  SineAmp0p925Freq20Cyc3   \n",
       "1  Claustrum3  03-16-17     Visual  Stim_Som_NoCue  SineAmp0p925Freq20Cyc3   \n",
       "\n",
       "     vis_stimulus  response  trial_num  stim_onset  stim_offset licks_right  \\\n",
       "0  Amp0p5Dur0p150         0          3      1.4482     1.595667          []   \n",
       "1  Amp0p5Dur0p150         0          3      1.4482     1.595667          []   \n",
       "\n",
       "  licks_left                                        spike_times cluster_name  \n",
       "0         []  [[0.0117666666667], [0.0321666666667], [0.1104...     TT1clst1  \n",
       "1         []  [[0.155366666667], [0.355766666667], [1.549566...     TT1clst2  "
      ]
     },
     "execution_count": 7,
     "metadata": {},
     "output_type": "execute_result"
    }
   ],
   "source": [
    "log_df.head(2)"
   ]
  },
  {
   "cell_type": "code",
   "execution_count": 8,
   "metadata": {
    "collapsed": false
   },
   "outputs": [
    {
     "data": {
      "text/html": [
       "<div>\n",
       "<table border=\"1\" class=\"dataframe\">\n",
       "  <thead>\n",
       "    <tr style=\"text-align: right;\">\n",
       "      <th></th>\n",
       "      <th>mouse_name</th>\n",
       "      <th>date</th>\n",
       "      <th>cluster_name</th>\n",
       "      <th>opto_stim_onsets</th>\n",
       "      <th>opto_stim_offsets</th>\n",
       "      <th>spikes</th>\n",
       "    </tr>\n",
       "  </thead>\n",
       "  <tbody>\n",
       "    <tr>\n",
       "      <th>0</th>\n",
       "      <td>Claustrum3</td>\n",
       "      <td>03-16-17</td>\n",
       "      <td>TT1clst1</td>\n",
       "      <td>[3964.30126667, 3964.80126667, 3965.30126667, ...</td>\n",
       "      <td>[3964.55126667, 3965.05126667, 3965.5513, 3966...</td>\n",
       "      <td>[[3939.5548], [3939.7151], [3939.9379], [3940....</td>\n",
       "    </tr>\n",
       "    <tr>\n",
       "      <th>1</th>\n",
       "      <td>Claustrum3</td>\n",
       "      <td>03-16-17</td>\n",
       "      <td>TT1clst2</td>\n",
       "      <td>[3964.30126667, 3964.80126667, 3965.30126667, ...</td>\n",
       "      <td>[3964.55126667, 3965.05126667, 3965.5513, 3966...</td>\n",
       "      <td>[[3939.7038], [3939.994], [3940.2059], [3940.5...</td>\n",
       "    </tr>\n",
       "  </tbody>\n",
       "</table>\n",
       "</div>"
      ],
      "text/plain": [
       "   mouse_name      date cluster_name  \\\n",
       "0  Claustrum3  03-16-17     TT1clst1   \n",
       "1  Claustrum3  03-16-17     TT1clst2   \n",
       "\n",
       "                                    opto_stim_onsets  \\\n",
       "0  [3964.30126667, 3964.80126667, 3965.30126667, ...   \n",
       "1  [3964.30126667, 3964.80126667, 3965.30126667, ...   \n",
       "\n",
       "                                   opto_stim_offsets  \\\n",
       "0  [3964.55126667, 3965.05126667, 3965.5513, 3966...   \n",
       "1  [3964.55126667, 3965.05126667, 3965.5513, 3966...   \n",
       "\n",
       "                                              spikes  \n",
       "0  [[3939.5548], [3939.7151], [3939.9379], [3940....  \n",
       "1  [[3939.7038], [3939.994], [3940.2059], [3940.5...  "
      ]
     },
     "execution_count": 8,
     "metadata": {},
     "output_type": "execute_result"
    }
   ],
   "source": [
    "opto_log_df.head(2)"
   ]
  },
  {
   "cell_type": "code",
   "execution_count": 10,
   "metadata": {
    "collapsed": false
   },
   "outputs": [],
   "source": [
    "unique_sessions = opto_log_df[['mouse_name', 'date']].drop_duplicates()\n",
    "\n",
    "opto_log_df['first_last_opto_pulses'] = np.nan\n",
    "opto_log_df['grouped_opto_pulses'] = np.nan\n",
    "\n",
    "for session in range(unique_sessions.shape[0]):\n",
    "    session_row_ind = (opto_log_df.loc[:,['mouse_name', 'date']] == unique_sessions.iloc[session]).all(axis=1)\n",
    "    rows = opto_log_df.loc[session_row_ind]\n",
    "    \n",
    "    ISIs = np.around(rows.iloc[0,3][1:]-rows.iloc[0,3][0:-1], 4)\n",
    "    ISIs = np.concatenate(([ISIs[0]], ISIs, [ISIs[-1]]))\n",
    "    unique_ISIs = np.unique(ISIs, return_counts = True)\n",
    "    ind = unique_ISIs[1]>50\n",
    "    unique_ISIs = unique_ISIs[0][ind]\n",
    "\n",
    "    first_last_opto_pulses = {}\n",
    "    grouped_opto_pulses = {}\n",
    "    for isi in unique_ISIs:\n",
    "        ISI_category = np.where(np.absolute(ISIs-isi) <= 0.001)[0]\n",
    "        opto_pulse_inds= np.array(range(np.min(ISI_category),np.max(ISI_category)))\n",
    "        grouped_opto_pulses[1/isi] = rows.iloc[0,3][opto_pulse_inds]\n",
    "\n",
    "        IBI_ind = ISIs[opto_pulse_inds] != isi\n",
    "        first_pulse_ind = np.concatenate(([opto_pulse_inds[0]],opto_pulse_inds[IBI_ind]))\n",
    "        last_pulse_ind = np.concatenate((first_pulse_ind[1:]-1, [opto_pulse_inds[-1]]))\n",
    "        first_last_opto_pulses[1/isi] = [rows.iloc[0,3][first_pulse_ind],rows.iloc[0,3][last_pulse_ind]]\n",
    "    opto_log_df.loc[session_row_ind,'first_last_opto_pulses'] = [first_last_opto_pulses]\n",
    "    opto_log_df.loc[session_row_ind,'grouped_opto_pulses'] = [grouped_opto_pulses]"
   ]
  },
  {
   "cell_type": "code",
   "execution_count": 12,
   "metadata": {
    "collapsed": false
   },
   "outputs": [
    {
     "data": {
      "text/html": [
       "<div>\n",
       "<table border=\"1\" class=\"dataframe\">\n",
       "  <thead>\n",
       "    <tr style=\"text-align: right;\">\n",
       "      <th></th>\n",
       "      <th>mouse_name</th>\n",
       "      <th>date</th>\n",
       "      <th>cluster_name</th>\n",
       "      <th>opto_stim_onsets</th>\n",
       "      <th>opto_stim_offsets</th>\n",
       "      <th>spikes</th>\n",
       "      <th>first_last_opto_pulses</th>\n",
       "      <th>grouped_opto_pulses</th>\n",
       "    </tr>\n",
       "  </thead>\n",
       "  <tbody>\n",
       "    <tr>\n",
       "      <th>0</th>\n",
       "      <td>Claustrum3</td>\n",
       "      <td>03-16-17</td>\n",
       "      <td>TT1clst1</td>\n",
       "      <td>[3964.30126667, 3964.80126667, 3965.30126667, ...</td>\n",
       "      <td>[3964.55126667, 3965.05126667, 3965.5513, 3966...</td>\n",
       "      <td>[[3939.5548], [3939.7151], [3939.9379], [3940....</td>\n",
       "      <td>{40.0: [[4431.20513333, 4437.7807, 4444.389566...</td>\n",
       "      <td>{40.0: [4431.20513333, 4431.23013333, 4431.255...</td>\n",
       "    </tr>\n",
       "    <tr>\n",
       "      <th>1</th>\n",
       "      <td>Claustrum3</td>\n",
       "      <td>03-16-17</td>\n",
       "      <td>TT1clst2</td>\n",
       "      <td>[3964.30126667, 3964.80126667, 3965.30126667, ...</td>\n",
       "      <td>[3964.55126667, 3965.05126667, 3965.5513, 3966...</td>\n",
       "      <td>[[3939.7038], [3939.994], [3940.2059], [3940.5...</td>\n",
       "      <td>{40.0: [[4431.20513333, 4437.7807, 4444.389566...</td>\n",
       "      <td>{40.0: [4431.20513333, 4431.23013333, 4431.255...</td>\n",
       "    </tr>\n",
       "    <tr>\n",
       "      <th>2</th>\n",
       "      <td>Claustrum3</td>\n",
       "      <td>03-16-17</td>\n",
       "      <td>TT2clst1</td>\n",
       "      <td>[3964.30126667, 3964.80126667, 3965.30126667, ...</td>\n",
       "      <td>[3964.55126667, 3965.05126667, 3965.5513, 3966...</td>\n",
       "      <td>[[3939.6048], [3939.6874], [3939.7985], [3939....</td>\n",
       "      <td>{40.0: [[4431.20513333, 4437.7807, 4444.389566...</td>\n",
       "      <td>{40.0: [4431.20513333, 4431.23013333, 4431.255...</td>\n",
       "    </tr>\n",
       "  </tbody>\n",
       "</table>\n",
       "</div>"
      ],
      "text/plain": [
       "   mouse_name      date cluster_name  \\\n",
       "0  Claustrum3  03-16-17     TT1clst1   \n",
       "1  Claustrum3  03-16-17     TT1clst2   \n",
       "2  Claustrum3  03-16-17     TT2clst1   \n",
       "\n",
       "                                    opto_stim_onsets  \\\n",
       "0  [3964.30126667, 3964.80126667, 3965.30126667, ...   \n",
       "1  [3964.30126667, 3964.80126667, 3965.30126667, ...   \n",
       "2  [3964.30126667, 3964.80126667, 3965.30126667, ...   \n",
       "\n",
       "                                   opto_stim_offsets  \\\n",
       "0  [3964.55126667, 3965.05126667, 3965.5513, 3966...   \n",
       "1  [3964.55126667, 3965.05126667, 3965.5513, 3966...   \n",
       "2  [3964.55126667, 3965.05126667, 3965.5513, 3966...   \n",
       "\n",
       "                                              spikes  \\\n",
       "0  [[3939.5548], [3939.7151], [3939.9379], [3940....   \n",
       "1  [[3939.7038], [3939.994], [3940.2059], [3940.5...   \n",
       "2  [[3939.6048], [3939.6874], [3939.7985], [3939....   \n",
       "\n",
       "                              first_last_opto_pulses  \\\n",
       "0  {40.0: [[4431.20513333, 4437.7807, 4444.389566...   \n",
       "1  {40.0: [[4431.20513333, 4437.7807, 4444.389566...   \n",
       "2  {40.0: [[4431.20513333, 4437.7807, 4444.389566...   \n",
       "\n",
       "                                 grouped_opto_pulses  \n",
       "0  {40.0: [4431.20513333, 4431.23013333, 4431.255...  \n",
       "1  {40.0: [4431.20513333, 4431.23013333, 4431.255...  \n",
       "2  {40.0: [4431.20513333, 4431.23013333, 4431.255...  "
      ]
     },
     "execution_count": 12,
     "metadata": {},
     "output_type": "execute_result"
    }
   ],
   "source": [
    "opto_log_df.head(3)"
   ]
  },
  {
   "cell_type": "code",
   "execution_count": 266,
   "metadata": {
    "collapsed": false
   },
   "outputs": [
    {
     "data": {
      "image/png": "[encoded data removed]",
      "text/plain": [
       "<matplotlib.figure.Figure at 0x2d0a619d9e8>"
      ]
     },
     "execution_count": 266,
     "metadata": {},
     "output_type": "execute_result"
    }
   ],
   "source": [
    "import matplotlib.patches as patches\n",
    "from matplotlib import gridspec\n",
    "\n",
    "\n",
    "unit = opto_log_df.iloc[10]\n",
    "opto_protocol = 1\n",
    "flop = unit['first_last_opto_pulses'][opto_protocol]\n",
    "\n",
    "mpl.close('all')\n",
    "fig = mpl.figure(figsize=(15, 8))\n",
    "fig.suptitle(unit['mouse_name'] + ', ' +  unit['date'] + ', ' + unit['cluster_name'])\n",
    "gs = gridspec.GridSpec(5, 2, height_ratios=[1, 15, 5, 1, 15]) \n",
    "ax1 = fig.add_subplot(gs[0])\n",
    "ax2 = fig.add_subplot(gs[1])\n",
    "ax3 = fig.add_subplot(gs[6])\n",
    "ax4 = fig.add_subplot(gs[7])\n",
    "\n",
    "rs1 = fig.add_subplot(gs[2])\n",
    "rs2 = fig.add_subplot(gs[3])\n",
    "rs3 = fig.add_subplot(gs[8])\n",
    "rs4 = fig.add_subplot(gs[9])\n",
    "\n",
    "rasters = [rs1, rs2, rs3, rs4]\n",
    "opto_axes = [ax1, ax2, ax3, ax4]\n",
    "frequencies = [1,5,10,40]\n",
    "\n",
    "for i, frequency in enumerate(frequencies):\n",
    "    flop = unit['first_last_opto_pulses'][frequency]\n",
    "\n",
    "    trial_dur = flop[1][0] - flop[0][0]\n",
    "    trial_total = 0\n",
    "    for trial in range(len(flop[0])):\n",
    "        trial_spike_inds = (flop[0][trial]-0.5 < unit['spikes']) & (unit['spikes'] < flop[1][trial]+.5)\n",
    "        trial_spikes = unit['spikes'][trial_spike_inds] - flop[0][trial]\n",
    "        rasters[i].vlines(trial_spikes, trial + .5, trial + 1.3, linewidth = 0.5)\n",
    "        trial_total += 1\n",
    "\n",
    "    figure_pulse_inds = [(unit['grouped_opto_pulses'][frequency] >= flop[0][1])\n",
    "              & (unit['grouped_opto_pulses'][frequency] <= flop[1][1])]\n",
    "    figure_pulses = unit['grouped_opto_pulses'][frequency][figure_pulse_inds] - flop[0][1]\n",
    "    example_pulse_ind = np.where(unit['opto_stim_onsets'] == flop[0][1])\n",
    "    stim_duration = unit['opto_stim_offsets'][example_pulse_ind] - unit['opto_stim_onsets'][example_pulse_ind]\n",
    "\n",
    "    for p in figure_pulses:\n",
    "        opto_axes[i].add_patch(patches.Rectangle((p,0), stim_duration*2, 4, color = 'b')) \n",
    "        \n",
    "    rasters[i].autoscale(enable=True, tight=True)\n",
    "    rasters[i].spines['right'].set_visible(False)\n",
    "    rasters[i].spines['top'].set_visible(False)\n",
    "    rasters[i].xaxis.set_ticks_position('bottom')\n",
    "    rasters[i].yaxis.set_ticks_position('left')\n",
    "    rasters[i].set_xlim(-trial_dur*0.1, trial_dur + trial_dur*0.1)\n",
    "    rasters[i].set_xlabel('Time(s)', fontsize = 18)\n",
    "    rasters[i].set_ylabel('Trials', fontsize= 18)\n",
    "    \n",
    "    opto_axes[i].set_ylim(0, 4)\n",
    "    opto_axes[i].set_xlim(-trial_dur*0.1, trial_dur + trial_dur*0.1 )\n",
    "    opto_axes[i].axis('off')\n",
    "    opto_axes[i].set_title(str(frequency) + ' Hz')\n",
    "    \n",
    "mpl.subplots_adjust(left=0.1, right=.9, top=0.9, bottom=0.1)\n",
    "\n",
    "fig\n"
   ]
  },
  {
   "cell_type": "code",
   "execution_count": 232,
   "metadata": {
    "collapsed": false
   },
   "outputs": [
    {
     "data": {
      "text/plain": [
       "4431.9051333333337"
      ]
     },
     "execution_count": 232,
     "metadata": {},
     "output_type": "execute_result"
    }
   ],
   "source": [
    "flop[0][0]"
   ]
  },
  {
   "cell_type": "code",
   "execution_count": 100,
   "metadata": {
    "collapsed": false
   },
   "outputs": [
    {
     "data": {
      "text/plain": [
       "array([ 4574.04206667,  4575.04206667,  4576.0421    ,  4577.0421    ,\n",
       "        4579.6321    ,  4580.63213333,  4581.63213333,  4582.63213333,\n",
       "        4583.63216667,  4586.2221    ,  4587.22213333,  4588.22213333,\n",
       "        4589.22216667,  4590.22216667,  4592.81126667,  4593.8113    ,\n",
       "        4594.8113    ,  4595.8113    ,  4596.81133333,  4599.40116667,\n",
       "        4600.40116667,  4601.40116667,  4602.4012    ,  4603.4012    ,\n",
       "        4605.99106667,  4606.99106667,  4607.99106667,  4608.9911    ,\n",
       "        4609.9911    ,  4612.5922    ,  4613.59223333,  4614.59223333,\n",
       "        4615.59226667,  4616.59226667,  4619.18243333,  4620.18246667,\n",
       "        4621.18246667,  4622.18246667,  4623.1825    ,  4625.78076667,\n",
       "        4626.78076667,  4627.7808    ,  4628.7808    ,  4629.7808    ,\n",
       "        4632.38033333,  4633.38036667,  4634.38036667,  4635.3804    ,\n",
       "        4636.3804    ,  4638.98056667,  4639.98056667,  4640.9806    ,\n",
       "        4641.9806    ,  4642.98063333,  4645.57073333,  4646.57073333,\n",
       "        4647.57076667,  4648.57076667,  4649.5708    ,  4652.1703    ,\n",
       "        4653.1703    ,  4654.17033333,  4655.17033333,  4656.17036667,\n",
       "        4658.77086667,  4659.77086667,  4660.7709    ,  4661.7709    ,\n",
       "        4662.7709    ,  4665.36083333,  4666.36083333,  4667.36083333,\n",
       "        4668.36086667,  4669.36086667,  4671.9502    ,  4672.95023333,\n",
       "        4673.95023333,  4674.95026667,  4675.95026667,  4678.54986667,\n",
       "        4679.5499    ,  4680.5499    ,  4681.5499    ,  4682.54993333,\n",
       "        4685.14976667,  4686.14976667,  4687.1498    ,  4688.1498    ,\n",
       "        4689.14983333,  4691.73963333,  4692.73966667,  4693.73966667,\n",
       "        4694.73966667,  4695.7397    ,  4698.33916667,  4699.3392    ,\n",
       "        4700.3392    ,  4701.33923333,  4702.33923333])"
      ]
     },
     "execution_count": 100,
     "metadata": {},
     "output_type": "execute_result"
    }
   ],
   "source": [
    "unit['grouped_opto_pulses'][opto_protocol] "
   ]
  },
  {
   "cell_type": "code",
   "execution_count": 104,
   "metadata": {
    "collapsed": false
   },
   "outputs": [
    {
     "data": {
      "text/plain": [
       "array([ 4697.8903,  4698.3441,  4698.8836,  4699.3634,  4700.3492,\n",
       "        4701.0571,  4701.1926,  4701.783 ,  4701.8112,  4701.9125,\n",
       "        4701.946 ,  4702.0035])"
      ]
     },
     "execution_count": 104,
     "metadata": {},
     "output_type": "execute_result"
    }
   ],
   "source": [
    "trial_spikes+ flop[0][trial]"
   ]
  },
  {
   "cell_type": "code",
   "execution_count": null,
   "metadata": {
    "collapsed": true
   },
   "outputs": [],
   "source": []
  }
 ],
 "metadata": {
  "kernelspec": {
   "display_name": "Python 3",
   "language": "python",
   "name": "python3"
  },
  "language_info": {
   "codemirror_mode": {
    "name": "ipython",
    "version": 3
   },
   "file_extension": ".py",
   "mimetype": "text/x-python",
   "name": "python",
   "nbconvert_exporter": "python",
   "pygments_lexer": "ipython3",
   "version": "3.6.0"
  }
 },
 "nbformat": 4,
 "nbformat_minor": 2
}
