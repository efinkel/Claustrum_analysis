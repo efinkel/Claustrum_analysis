{
 "cells": [
  {
   "cell_type": "code",
   "execution_count": 1,
   "metadata": {
    "ExecuteTime": {
     "end_time": "2017-03-23T11:11:37.519356Z",
     "start_time": "2017-03-23T11:11:36.735612"
    },
    "collapsed": true
   },
   "outputs": [],
   "source": [
    "import scipy as sp\n",
    "import scipy.io\n",
    "import os\n",
    "import numpy as np\n",
    "import pandas as pd\n",
    "\n",
    "from collections import Iterable\n",
    "import matplotlib.pylab as mpl"
   ]
  },
  {
   "cell_type": "code",
   "execution_count": 2,
   "metadata": {
    "ExecuteTime": {
     "end_time": "2017-03-23T11:11:37.685637Z",
     "start_time": "2017-03-23T11:11:37.519356"
    },
    "collapsed": false
   },
   "outputs": [],
   "source": [
    "%load_ext autoreload"
   ]
  },
  {
   "cell_type": "code",
   "execution_count": 3,
   "metadata": {
    "ExecuteTime": {
     "end_time": "2017-03-23T11:11:40.175168Z",
     "start_time": "2017-03-23T11:11:37.685637"
    },
    "collapsed": false
   },
   "outputs": [],
   "source": [
    "mat = sp.io.loadmat('allUnitsLog_claus.mat')\n",
    "mat2 = sp.io.loadmat('Opto_log_allUnits_claus.mat')"
   ]
  },
  {
   "cell_type": "code",
   "execution_count": 4,
   "metadata": {
    "ExecuteTime": {
     "end_time": "2017-03-23T11:11:40.251794Z",
     "start_time": "2017-03-23T11:11:40.175168"
    },
    "collapsed": false
   },
   "outputs": [
    {
     "data": {
      "text/html": [
       "<div>\n",
       "<table border=\"1\" class=\"dataframe\">\n",
       "  <thead>\n",
       "    <tr style=\"text-align: right;\">\n",
       "      <th></th>\n",
       "      <th>mouse_name</th>\n",
       "      <th>date</th>\n",
       "      <th>block_type</th>\n",
       "      <th>trial_type</th>\n",
       "      <th>touch_stimulus</th>\n",
       "      <th>vis_stimulus</th>\n",
       "      <th>response</th>\n",
       "      <th>trial_num</th>\n",
       "      <th>stim_onset</th>\n",
       "      <th>stim_offset</th>\n",
       "      <th>licks_right</th>\n",
       "      <th>licks_left</th>\n",
       "      <th>spike_times</th>\n",
       "      <th>cluster_name</th>\n",
       "    </tr>\n",
       "  </thead>\n",
       "  <tbody>\n",
       "    <tr>\n",
       "      <th>0</th>\n",
       "      <td>[Claustrum3]</td>\n",
       "      <td>[03-16-17]</td>\n",
       "      <td>[Visual]</td>\n",
       "      <td>[Stim_Som_NoCue]</td>\n",
       "      <td>[SineAmp0p925Freq20Cyc3]</td>\n",
       "      <td>[Amp0p5Dur0p150]</td>\n",
       "      <td>[[0]]</td>\n",
       "      <td>[[[[3]]]]</td>\n",
       "      <td>[[[[ 1.4482]]]]</td>\n",
       "      <td>[[[[ 1.59566667]]]]</td>\n",
       "      <td>[[[]]]</td>\n",
       "      <td>[[[]]]</td>\n",
       "      <td>[[0.0117666666667], [0.0321666666667], [0.1104...</td>\n",
       "      <td>[TT1clst1]</td>\n",
       "    </tr>\n",
       "    <tr>\n",
       "      <th>1</th>\n",
       "      <td>[Claustrum3]</td>\n",
       "      <td>[03-16-17]</td>\n",
       "      <td>[Visual]</td>\n",
       "      <td>[Stim_Som_NoCue]</td>\n",
       "      <td>[SineAmp0p925Freq20Cyc3]</td>\n",
       "      <td>[Amp0p5Dur0p150]</td>\n",
       "      <td>[[0]]</td>\n",
       "      <td>[[[[3]]]]</td>\n",
       "      <td>[[[[ 1.4482]]]]</td>\n",
       "      <td>[[[[ 1.59566667]]]]</td>\n",
       "      <td>[[[]]]</td>\n",
       "      <td>[[[]]]</td>\n",
       "      <td>[[0.155366666667], [0.355766666667], [1.549566...</td>\n",
       "      <td>[TT1clst2]</td>\n",
       "    </tr>\n",
       "    <tr>\n",
       "      <th>2</th>\n",
       "      <td>[Claustrum3]</td>\n",
       "      <td>[03-16-17]</td>\n",
       "      <td>[Visual]</td>\n",
       "      <td>[Stim_Som_NoCue]</td>\n",
       "      <td>[SineAmp0p925Freq20Cyc3]</td>\n",
       "      <td>[Amp0p5Dur0p150]</td>\n",
       "      <td>[[0]]</td>\n",
       "      <td>[[[[3]]]]</td>\n",
       "      <td>[[[[ 1.4482]]]]</td>\n",
       "      <td>[[[[ 1.59566667]]]]</td>\n",
       "      <td>[[[]]]</td>\n",
       "      <td>[[[]]]</td>\n",
       "      <td>[[0.0150666666667], [1.37596666667], [2.337466...</td>\n",
       "      <td>[TT2clst1]</td>\n",
       "    </tr>\n",
       "    <tr>\n",
       "      <th>3</th>\n",
       "      <td>[Claustrum3]</td>\n",
       "      <td>[03-16-17]</td>\n",
       "      <td>[Visual]</td>\n",
       "      <td>[Stim_Som_NoCue]</td>\n",
       "      <td>[SineAmp0p925Freq20Cyc3]</td>\n",
       "      <td>[Amp0p5Dur0p150]</td>\n",
       "      <td>[[0]]</td>\n",
       "      <td>[[[[3]]]]</td>\n",
       "      <td>[[[[ 1.4482]]]]</td>\n",
       "      <td>[[[[ 1.59566667]]]]</td>\n",
       "      <td>[[[]]]</td>\n",
       "      <td>[[[]]]</td>\n",
       "      <td>[[0.728466666667], [1.60316666667], [1.9535666...</td>\n",
       "      <td>[TT2clst2]</td>\n",
       "    </tr>\n",
       "    <tr>\n",
       "      <th>4</th>\n",
       "      <td>[Claustrum3]</td>\n",
       "      <td>[03-16-17]</td>\n",
       "      <td>[Visual]</td>\n",
       "      <td>[Stim_Som_NoCue]</td>\n",
       "      <td>[SineAmp0p925Freq20Cyc3]</td>\n",
       "      <td>[Amp0p5Dur0p150]</td>\n",
       "      <td>[[0]]</td>\n",
       "      <td>[[[[3]]]]</td>\n",
       "      <td>[[[[ 1.4482]]]]</td>\n",
       "      <td>[[[[ 1.59566667]]]]</td>\n",
       "      <td>[[[]]]</td>\n",
       "      <td>[[[]]]</td>\n",
       "      <td>[[0.0388666666667], [0.108066666667], [0.14916...</td>\n",
       "      <td>[TT2clst3]</td>\n",
       "    </tr>\n",
       "  </tbody>\n",
       "</table>\n",
       "</div>"
      ],
      "text/plain": [
       "     mouse_name        date block_type        trial_type  \\\n",
       "0  [Claustrum3]  [03-16-17]   [Visual]  [Stim_Som_NoCue]   \n",
       "1  [Claustrum3]  [03-16-17]   [Visual]  [Stim_Som_NoCue]   \n",
       "2  [Claustrum3]  [03-16-17]   [Visual]  [Stim_Som_NoCue]   \n",
       "3  [Claustrum3]  [03-16-17]   [Visual]  [Stim_Som_NoCue]   \n",
       "4  [Claustrum3]  [03-16-17]   [Visual]  [Stim_Som_NoCue]   \n",
       "\n",
       "             touch_stimulus      vis_stimulus response  trial_num  \\\n",
       "0  [SineAmp0p925Freq20Cyc3]  [Amp0p5Dur0p150]    [[0]]  [[[[3]]]]   \n",
       "1  [SineAmp0p925Freq20Cyc3]  [Amp0p5Dur0p150]    [[0]]  [[[[3]]]]   \n",
       "2  [SineAmp0p925Freq20Cyc3]  [Amp0p5Dur0p150]    [[0]]  [[[[3]]]]   \n",
       "3  [SineAmp0p925Freq20Cyc3]  [Amp0p5Dur0p150]    [[0]]  [[[[3]]]]   \n",
       "4  [SineAmp0p925Freq20Cyc3]  [Amp0p5Dur0p150]    [[0]]  [[[[3]]]]   \n",
       "\n",
       "        stim_onset          stim_offset licks_right licks_left  \\\n",
       "0  [[[[ 1.4482]]]]  [[[[ 1.59566667]]]]      [[[]]]     [[[]]]   \n",
       "1  [[[[ 1.4482]]]]  [[[[ 1.59566667]]]]      [[[]]]     [[[]]]   \n",
       "2  [[[[ 1.4482]]]]  [[[[ 1.59566667]]]]      [[[]]]     [[[]]]   \n",
       "3  [[[[ 1.4482]]]]  [[[[ 1.59566667]]]]      [[[]]]     [[[]]]   \n",
       "4  [[[[ 1.4482]]]]  [[[[ 1.59566667]]]]      [[[]]]     [[[]]]   \n",
       "\n",
       "                                         spike_times cluster_name  \n",
       "0  [[0.0117666666667], [0.0321666666667], [0.1104...   [TT1clst1]  \n",
       "1  [[0.155366666667], [0.355766666667], [1.549566...   [TT1clst2]  \n",
       "2  [[0.0150666666667], [1.37596666667], [2.337466...   [TT2clst1]  \n",
       "3  [[0.728466666667], [1.60316666667], [1.9535666...   [TT2clst2]  \n",
       "4  [[0.0388666666667], [0.108066666667], [0.14916...   [TT2clst3]  "
      ]
     },
     "execution_count": 4,
     "metadata": {},
     "output_type": "execute_result"
    }
   ],
   "source": [
    "log = mat['fullLog']\n",
    "log_df = pd.DataFrame(log, columns=['mouse_name', 'date', 'block_type', 'trial_type', 'touch_stimulus',\\\n",
    "                                    'vis_stimulus', 'response','trial_num', 'stim_onset', 'stim_offset', 'licks_right',\\\n",
    "                                    'licks_left', 'spike_times', 'cluster_name' ])\n",
    "\n",
    "log_df.head(5)"
   ]
  },
  {
   "cell_type": "code",
   "execution_count": 5,
   "metadata": {
    "ExecuteTime": {
     "end_time": "2017-03-23T11:11:40.371886Z",
     "start_time": "2017-03-23T11:11:40.254792"
    },
    "collapsed": false
   },
   "outputs": [
    {
     "data": {
      "text/html": [
       "<div>\n",
       "<table border=\"1\" class=\"dataframe\">\n",
       "  <thead>\n",
       "    <tr style=\"text-align: right;\">\n",
       "      <th></th>\n",
       "      <th>mouse_name</th>\n",
       "      <th>date</th>\n",
       "      <th>cluster_name</th>\n",
       "      <th>opto_stim_onsets</th>\n",
       "      <th>opto_stim_offsets</th>\n",
       "      <th>spikes</th>\n",
       "    </tr>\n",
       "  </thead>\n",
       "  <tbody>\n",
       "    <tr>\n",
       "      <th>0</th>\n",
       "      <td>[Claustrum3]</td>\n",
       "      <td>[03-16-17]</td>\n",
       "      <td>[TT1clst1]</td>\n",
       "      <td>[[3964.30126667, 3964.80126667, 3965.30126667,...</td>\n",
       "      <td>[[3964.55126667, 3965.05126667, 3965.5513, 396...</td>\n",
       "      <td>[[3939.5548], [3939.7151], [3939.9379], [3940....</td>\n",
       "    </tr>\n",
       "    <tr>\n",
       "      <th>1</th>\n",
       "      <td>[Claustrum3]</td>\n",
       "      <td>[03-16-17]</td>\n",
       "      <td>[TT1clst2]</td>\n",
       "      <td>[[3964.30126667, 3964.80126667, 3965.30126667,...</td>\n",
       "      <td>[[3964.55126667, 3965.05126667, 3965.5513, 396...</td>\n",
       "      <td>[[3939.7038], [3939.994], [3940.2059], [3940.5...</td>\n",
       "    </tr>\n",
       "  </tbody>\n",
       "</table>\n",
       "</div>"
      ],
      "text/plain": [
       "     mouse_name        date cluster_name  \\\n",
       "0  [Claustrum3]  [03-16-17]   [TT1clst1]   \n",
       "1  [Claustrum3]  [03-16-17]   [TT1clst2]   \n",
       "\n",
       "                                    opto_stim_onsets  \\\n",
       "0  [[3964.30126667, 3964.80126667, 3965.30126667,...   \n",
       "1  [[3964.30126667, 3964.80126667, 3965.30126667,...   \n",
       "\n",
       "                                   opto_stim_offsets  \\\n",
       "0  [[3964.55126667, 3965.05126667, 3965.5513, 396...   \n",
       "1  [[3964.55126667, 3965.05126667, 3965.5513, 396...   \n",
       "\n",
       "                                              spikes  \n",
       "0  [[3939.5548], [3939.7151], [3939.9379], [3940....  \n",
       "1  [[3939.7038], [3939.994], [3940.2059], [3940.5...  "
      ]
     },
     "execution_count": 5,
     "metadata": {},
     "output_type": "execute_result"
    }
   ],
   "source": [
    "opto_log = mat2['fullOptoTable']\n",
    "opto_log_df = pd.DataFrame(opto_log, columns=['mouse_name', 'date', 'cluster_name', 'opto_stim_onsets', 'opto_stim_offsets', 'spikes'])\n",
    "\n",
    "opto_log_df.head(2)"
   ]
  },
  {
   "cell_type": "code",
   "execution_count": 6,
   "metadata": {
    "ExecuteTime": {
     "end_time": "2017-03-23T11:11:40.698154Z",
     "start_time": "2017-03-23T11:11:40.372887"
    },
    "collapsed": false
   },
   "outputs": [],
   "source": [
    "for col in [0,1,2,3,4,5,6,6,7,7,7,7,8,8,8,8,9,9,9,9,10,10,11,11,13]:\n",
    "        log_df.ix[:,col] = log_df.ix[:,col].str[0]\n",
    "for col in [0,1,2,3,4]:\n",
    "        opto_log_df.ix[:,col] = opto_log_df.ix[:,col].str[0]"
   ]
  },
  {
   "cell_type": "code",
   "execution_count": 7,
   "metadata": {
    "ExecuteTime": {
     "end_time": "2017-03-23T11:11:40.758207Z",
     "start_time": "2017-03-23T11:11:40.700150"
    },
    "collapsed": false
   },
   "outputs": [
    {
     "data": {
      "text/html": [
       "<div>\n",
       "<table border=\"1\" class=\"dataframe\">\n",
       "  <thead>\n",
       "    <tr style=\"text-align: right;\">\n",
       "      <th></th>\n",
       "      <th>mouse_name</th>\n",
       "      <th>date</th>\n",
       "      <th>block_type</th>\n",
       "      <th>trial_type</th>\n",
       "      <th>touch_stimulus</th>\n",
       "      <th>vis_stimulus</th>\n",
       "      <th>response</th>\n",
       "      <th>trial_num</th>\n",
       "      <th>stim_onset</th>\n",
       "      <th>stim_offset</th>\n",
       "      <th>licks_right</th>\n",
       "      <th>licks_left</th>\n",
       "      <th>spike_times</th>\n",
       "      <th>cluster_name</th>\n",
       "    </tr>\n",
       "  </thead>\n",
       "  <tbody>\n",
       "    <tr>\n",
       "      <th>0</th>\n",
       "      <td>Claustrum3</td>\n",
       "      <td>03-16-17</td>\n",
       "      <td>Visual</td>\n",
       "      <td>Stim_Som_NoCue</td>\n",
       "      <td>SineAmp0p925Freq20Cyc3</td>\n",
       "      <td>Amp0p5Dur0p150</td>\n",
       "      <td>0</td>\n",
       "      <td>3</td>\n",
       "      <td>1.4482</td>\n",
       "      <td>1.595667</td>\n",
       "      <td>[]</td>\n",
       "      <td>[]</td>\n",
       "      <td>[[0.0117666666667], [0.0321666666667], [0.1104...</td>\n",
       "      <td>TT1clst1</td>\n",
       "    </tr>\n",
       "    <tr>\n",
       "      <th>1</th>\n",
       "      <td>Claustrum3</td>\n",
       "      <td>03-16-17</td>\n",
       "      <td>Visual</td>\n",
       "      <td>Stim_Som_NoCue</td>\n",
       "      <td>SineAmp0p925Freq20Cyc3</td>\n",
       "      <td>Amp0p5Dur0p150</td>\n",
       "      <td>0</td>\n",
       "      <td>3</td>\n",
       "      <td>1.4482</td>\n",
       "      <td>1.595667</td>\n",
       "      <td>[]</td>\n",
       "      <td>[]</td>\n",
       "      <td>[[0.155366666667], [0.355766666667], [1.549566...</td>\n",
       "      <td>TT1clst2</td>\n",
       "    </tr>\n",
       "  </tbody>\n",
       "</table>\n",
       "</div>"
      ],
      "text/plain": [
       "   mouse_name      date block_type      trial_type          touch_stimulus  \\\n",
       "0  Claustrum3  03-16-17     Visual  Stim_Som_NoCue  SineAmp0p925Freq20Cyc3   \n",
       "1  Claustrum3  03-16-17     Visual  Stim_Som_NoCue  SineAmp0p925Freq20Cyc3   \n",
       "\n",
       "     vis_stimulus  response  trial_num  stim_onset  stim_offset licks_right  \\\n",
       "0  Amp0p5Dur0p150         0          3      1.4482     1.595667          []   \n",
       "1  Amp0p5Dur0p150         0          3      1.4482     1.595667          []   \n",
       "\n",
       "  licks_left                                        spike_times cluster_name  \n",
       "0         []  [[0.0117666666667], [0.0321666666667], [0.1104...     TT1clst1  \n",
       "1         []  [[0.155366666667], [0.355766666667], [1.549566...     TT1clst2  "
      ]
     },
     "execution_count": 7,
     "metadata": {},
     "output_type": "execute_result"
    }
   ],
   "source": [
    "log_df.head(2)"
   ]
  },
  {
   "cell_type": "code",
   "execution_count": 8,
   "metadata": {
    "ExecuteTime": {
     "end_time": "2017-03-23T11:11:40.865285Z",
     "start_time": "2017-03-23T11:11:40.759197"
    },
    "collapsed": false
   },
   "outputs": [
    {
     "data": {
      "text/html": [
       "<div>\n",
       "<table border=\"1\" class=\"dataframe\">\n",
       "  <thead>\n",
       "    <tr style=\"text-align: right;\">\n",
       "      <th></th>\n",
       "      <th>mouse_name</th>\n",
       "      <th>date</th>\n",
       "      <th>cluster_name</th>\n",
       "      <th>opto_stim_onsets</th>\n",
       "      <th>opto_stim_offsets</th>\n",
       "      <th>spikes</th>\n",
       "    </tr>\n",
       "  </thead>\n",
       "  <tbody>\n",
       "    <tr>\n",
       "      <th>0</th>\n",
       "      <td>Claustrum3</td>\n",
       "      <td>03-16-17</td>\n",
       "      <td>TT1clst1</td>\n",
       "      <td>[3964.30126667, 3964.80126667, 3965.30126667, ...</td>\n",
       "      <td>[3964.55126667, 3965.05126667, 3965.5513, 3966...</td>\n",
       "      <td>[[3939.5548], [3939.7151], [3939.9379], [3940....</td>\n",
       "    </tr>\n",
       "    <tr>\n",
       "      <th>1</th>\n",
       "      <td>Claustrum3</td>\n",
       "      <td>03-16-17</td>\n",
       "      <td>TT1clst2</td>\n",
       "      <td>[3964.30126667, 3964.80126667, 3965.30126667, ...</td>\n",
       "      <td>[3964.55126667, 3965.05126667, 3965.5513, 3966...</td>\n",
       "      <td>[[3939.7038], [3939.994], [3940.2059], [3940.5...</td>\n",
       "    </tr>\n",
       "  </tbody>\n",
       "</table>\n",
       "</div>"
      ],
      "text/plain": [
       "   mouse_name      date cluster_name  \\\n",
       "0  Claustrum3  03-16-17     TT1clst1   \n",
       "1  Claustrum3  03-16-17     TT1clst2   \n",
       "\n",
       "                                    opto_stim_onsets  \\\n",
       "0  [3964.30126667, 3964.80126667, 3965.30126667, ...   \n",
       "1  [3964.30126667, 3964.80126667, 3965.30126667, ...   \n",
       "\n",
       "                                   opto_stim_offsets  \\\n",
       "0  [3964.55126667, 3965.05126667, 3965.5513, 3966...   \n",
       "1  [3964.55126667, 3965.05126667, 3965.5513, 3966...   \n",
       "\n",
       "                                              spikes  \n",
       "0  [[3939.5548], [3939.7151], [3939.9379], [3940....  \n",
       "1  [[3939.7038], [3939.994], [3940.2059], [3940.5...  "
      ]
     },
     "execution_count": 8,
     "metadata": {},
     "output_type": "execute_result"
    }
   ],
   "source": [
    "opto_log_df.head(2)"
   ]
  },
  {
   "cell_type": "code",
   "execution_count": 9,
   "metadata": {
    "ExecuteTime": {
     "end_time": "2017-03-23T11:11:40.923329Z",
     "start_time": "2017-03-23T11:11:40.867285"
    },
    "code_folding": [],
    "collapsed": false
   },
   "outputs": [],
   "source": [
    "unique_sessions = opto_log_df[['mouse_name', 'date']].drop_duplicates()\n",
    "\n",
    "opto_log_df['first_last_opto_pulses'] = np.nan\n",
    "opto_log_df['grouped_opto_pulses'] = np.nan\n",
    "\n",
    "for session in range(unique_sessions.shape[0]):\n",
    "    session_row_ind = (opto_log_df.loc[:,['mouse_name', 'date']] == unique_sessions.iloc[session]).all(axis=1)\n",
    "    rows = opto_log_df.loc[session_row_ind]\n",
    "    \n",
    "    ISIs = np.around(rows.iloc[0,3][1:]-rows.iloc[0,3][0:-1], 4)\n",
    "    ISIs = np.concatenate(([ISIs[0]], ISIs, [ISIs[-1]]))\n",
    "    unique_ISIs = np.unique(ISIs, return_counts = True)\n",
    "    ind = unique_ISIs[1]>50\n",
    "    unique_ISIs = unique_ISIs[0][ind]\n",
    "\n",
    "    first_last_opto_pulses = {}\n",
    "    grouped_opto_pulses = {}\n",
    "    for isi in unique_ISIs:\n",
    "        ISI_category = np.where(np.absolute(ISIs-isi) <= 0.001)[0]\n",
    "        opto_pulse_inds= np.array(range(np.min(ISI_category),np.max(ISI_category)))\n",
    "        grouped_opto_pulses[1/isi] = rows.iloc[0,3][opto_pulse_inds]\n",
    "\n",
    "        IBI_ind = ISIs[opto_pulse_inds] != isi\n",
    "        first_pulse_ind = np.concatenate(([opto_pulse_inds[0]],opto_pulse_inds[IBI_ind]))\n",
    "        last_pulse_ind = np.concatenate((first_pulse_ind[1:]-1, [opto_pulse_inds[-1]]))\n",
    "        first_last_opto_pulses[1/isi] = [rows.iloc[0,3][first_pulse_ind],rows.iloc[0,3][last_pulse_ind]]\n",
    "    opto_log_df.loc[session_row_ind,'first_last_opto_pulses'] = [first_last_opto_pulses]\n",
    "    opto_log_df.loc[session_row_ind,'grouped_opto_pulses'] = [grouped_opto_pulses]"
   ]
  },
  {
   "cell_type": "code",
   "execution_count": 10,
   "metadata": {
    "ExecuteTime": {
     "end_time": "2017-03-23T11:11:41.072454Z",
     "start_time": "2017-03-23T11:11:40.924330"
    },
    "collapsed": false
   },
   "outputs": [
    {
     "data": {
      "text/html": [
       "<div>\n",
       "<table border=\"1\" class=\"dataframe\">\n",
       "  <thead>\n",
       "    <tr style=\"text-align: right;\">\n",
       "      <th></th>\n",
       "      <th>mouse_name</th>\n",
       "      <th>date</th>\n",
       "      <th>cluster_name</th>\n",
       "      <th>opto_stim_onsets</th>\n",
       "      <th>opto_stim_offsets</th>\n",
       "      <th>spikes</th>\n",
       "      <th>first_last_opto_pulses</th>\n",
       "      <th>grouped_opto_pulses</th>\n",
       "    </tr>\n",
       "  </thead>\n",
       "  <tbody>\n",
       "    <tr>\n",
       "      <th>0</th>\n",
       "      <td>Claustrum3</td>\n",
       "      <td>03-16-17</td>\n",
       "      <td>TT1clst1</td>\n",
       "      <td>[3964.30126667, 3964.80126667, 3965.30126667, ...</td>\n",
       "      <td>[3964.55126667, 3965.05126667, 3965.5513, 3966...</td>\n",
       "      <td>[[3939.5548], [3939.7151], [3939.9379], [3940....</td>\n",
       "      <td>{40.0: [[4431.20513333, 4437.7807, 4444.389566...</td>\n",
       "      <td>{40.0: [4431.20513333, 4431.23013333, 4431.255...</td>\n",
       "    </tr>\n",
       "    <tr>\n",
       "      <th>1</th>\n",
       "      <td>Claustrum3</td>\n",
       "      <td>03-16-17</td>\n",
       "      <td>TT1clst2</td>\n",
       "      <td>[3964.30126667, 3964.80126667, 3965.30126667, ...</td>\n",
       "      <td>[3964.55126667, 3965.05126667, 3965.5513, 3966...</td>\n",
       "      <td>[[3939.7038], [3939.994], [3940.2059], [3940.5...</td>\n",
       "      <td>{40.0: [[4431.20513333, 4437.7807, 4444.389566...</td>\n",
       "      <td>{40.0: [4431.20513333, 4431.23013333, 4431.255...</td>\n",
       "    </tr>\n",
       "    <tr>\n",
       "      <th>2</th>\n",
       "      <td>Claustrum3</td>\n",
       "      <td>03-16-17</td>\n",
       "      <td>TT2clst1</td>\n",
       "      <td>[3964.30126667, 3964.80126667, 3965.30126667, ...</td>\n",
       "      <td>[3964.55126667, 3965.05126667, 3965.5513, 3966...</td>\n",
       "      <td>[[3939.6048], [3939.6874], [3939.7985], [3939....</td>\n",
       "      <td>{40.0: [[4431.20513333, 4437.7807, 4444.389566...</td>\n",
       "      <td>{40.0: [4431.20513333, 4431.23013333, 4431.255...</td>\n",
       "    </tr>\n",
       "  </tbody>\n",
       "</table>\n",
       "</div>"
      ],
      "text/plain": [
       "   mouse_name      date cluster_name  \\\n",
       "0  Claustrum3  03-16-17     TT1clst1   \n",
       "1  Claustrum3  03-16-17     TT1clst2   \n",
       "2  Claustrum3  03-16-17     TT2clst1   \n",
       "\n",
       "                                    opto_stim_onsets  \\\n",
       "0  [3964.30126667, 3964.80126667, 3965.30126667, ...   \n",
       "1  [3964.30126667, 3964.80126667, 3965.30126667, ...   \n",
       "2  [3964.30126667, 3964.80126667, 3965.30126667, ...   \n",
       "\n",
       "                                   opto_stim_offsets  \\\n",
       "0  [3964.55126667, 3965.05126667, 3965.5513, 3966...   \n",
       "1  [3964.55126667, 3965.05126667, 3965.5513, 3966...   \n",
       "2  [3964.55126667, 3965.05126667, 3965.5513, 3966...   \n",
       "\n",
       "                                              spikes  \\\n",
       "0  [[3939.5548], [3939.7151], [3939.9379], [3940....   \n",
       "1  [[3939.7038], [3939.994], [3940.2059], [3940.5...   \n",
       "2  [[3939.6048], [3939.6874], [3939.7985], [3939....   \n",
       "\n",
       "                              first_last_opto_pulses  \\\n",
       "0  {40.0: [[4431.20513333, 4437.7807, 4444.389566...   \n",
       "1  {40.0: [[4431.20513333, 4437.7807, 4444.389566...   \n",
       "2  {40.0: [[4431.20513333, 4437.7807, 4444.389566...   \n",
       "\n",
       "                                 grouped_opto_pulses  \n",
       "0  {40.0: [4431.20513333, 4431.23013333, 4431.255...  \n",
       "1  {40.0: [4431.20513333, 4431.23013333, 4431.255...  \n",
       "2  {40.0: [4431.20513333, 4431.23013333, 4431.255...  "
      ]
     },
     "execution_count": 10,
     "metadata": {},
     "output_type": "execute_result"
    }
   ],
   "source": [
    "opto_log_df.head(3)"
   ]
  },
  {
   "cell_type": "code",
   "execution_count": 11,
   "metadata": {
    "ExecuteTime": {
     "end_time": "2017-03-23T11:11:41.156519Z",
     "start_time": "2017-03-23T11:11:41.075453"
    },
    "code_folding": [],
    "collapsed": false
   },
   "outputs": [],
   "source": [
    "import matplotlib.patches as patches\n",
    "from matplotlib import gridspec\n",
    "\n",
    "def opto_identify(unit_num, log):\n",
    "    font = {'family' : 'sans-serif',\n",
    "            'weight' : 'normal',\n",
    "            'size'   : 16}\n",
    "\n",
    "    mpl.rc('font', **font)\n",
    "    mpl.rc('xtick', labelsize=16) \n",
    "    mpl.rc('ytick', labelsize=16)\n",
    "    \n",
    "    unit = opto_log_df.iloc[unit_num]\n",
    "\n",
    "\n",
    "    mpl.close('all')\n",
    "    fig = mpl.figure(figsize=(15, 8))\n",
    "    fig.suptitle(unit['mouse_name'] + ', ' +  unit['date'] + ', ' + unit['cluster_name'])\n",
    "    gs = gridspec.GridSpec(5, 2, height_ratios=[1, 15, 5, 1, 15]) \n",
    "    ax1 = fig.add_subplot(gs[0])\n",
    "    ax2 = fig.add_subplot(gs[1])\n",
    "    ax3 = fig.add_subplot(gs[6])\n",
    "    ax4 = fig.add_subplot(gs[7])\n",
    "\n",
    "    rs1 = fig.add_subplot(gs[2])\n",
    "    rs2 = fig.add_subplot(gs[3])\n",
    "    rs3 = fig.add_subplot(gs[8])\n",
    "    rs4 = fig.add_subplot(gs[9])\n",
    "\n",
    "    rasters = [rs1, rs2, rs3, rs4]\n",
    "    opto_axes = [ax1, ax2, ax3, ax4]\n",
    "    frequencies = [1,5,10,40]\n",
    "\n",
    "    for i, frequency in enumerate(frequencies):\n",
    "        flop = unit['first_last_opto_pulses'][frequency]\n",
    "\n",
    "        trial_dur = flop[1][0] - flop[0][0]\n",
    "        trial_total = 0\n",
    "        for trial in range(len(flop[0])):\n",
    "            trial_spike_inds = (flop[0][trial]-0.5 < unit['spikes']) & (unit['spikes'] < flop[1][trial]+.5)\n",
    "            trial_spikes = unit['spikes'][trial_spike_inds] - flop[0][trial]\n",
    "            rasters[i].vlines(trial_spikes, trial + .5, trial + 1.3, linewidth = 0.5)\n",
    "            trial_total += 1\n",
    "\n",
    "        figure_pulse_inds = [(unit['grouped_opto_pulses'][frequency] >= flop[0][1])\n",
    "                  & (unit['grouped_opto_pulses'][frequency] <= flop[1][1])]\n",
    "        figure_pulses = unit['grouped_opto_pulses'][frequency][figure_pulse_inds] - flop[0][1]\n",
    "        example_pulse_ind = np.where(unit['opto_stim_onsets'] == flop[0][1])\n",
    "        stim_duration = unit['opto_stim_offsets'][example_pulse_ind] - unit['opto_stim_onsets'][example_pulse_ind]\n",
    "\n",
    "        for p in figure_pulses:\n",
    "            opto_axes[i].add_patch(patches.Rectangle((p,0), stim_duration*2, 4, color = 'xkcd:sky blue')) \n",
    "\n",
    "        rasters[i].autoscale(enable=True, tight=True)\n",
    "        rasters[i].spines['right'].set_visible(False)\n",
    "        rasters[i].spines['top'].set_visible(False)\n",
    "        rasters[i].xaxis.set_ticks_position('bottom')\n",
    "        rasters[i].yaxis.set_ticks_position('left')\n",
    "        rasters[i].set_xlim(-trial_dur*0.1, trial_dur + trial_dur*0.1)\n",
    "        rasters[i].set_xlabel('Time(s)',fontsize = 18)\n",
    "        rasters[i].set_ylabel('Trials', fontsize = 18)\n",
    "\n",
    "        opto_axes[i].set_ylim(0, 4, )\n",
    "        opto_axes[i].set_xlim(-trial_dur*0.1, trial_dur + trial_dur*0.1 )\n",
    "        opto_axes[i].axis('off')\n",
    "        opto_axes[i].set_title(str(frequency) + ' Hz', fontsize = 18)\n",
    "\n",
    "    mpl.subplots_adjust(left=0.1, right=.9, top=0.9, bottom=0.1)\n",
    "\n",
    "    return fig\n"
   ]
  },
  {
   "cell_type": "code",
   "execution_count": 18,
   "metadata": {
    "ExecuteTime": {
     "end_time": "2017-03-23T11:20:57.189039Z",
     "start_time": "2017-03-23T11:20:55.967414"
    },
    "collapsed": false
   },
   "outputs": [
    {
     "data": {
      "image/png": "[encoded data removed]",
      "text/plain": [
       "<matplotlib.figure.Figure at 0x24bae2da320>"
      ]
     },
     "metadata": {},
     "output_type": "display_data"
    }
   ],
   "source": [
    "from __future__ import print_function\n",
    "from ipywidgets import interact, interactive, fixed, interact_manual\n",
    "from IPython.html import widgets\n",
    "from IPython.display import display\n",
    "import traitlets\n",
    "\n",
    "log = opto_log_df\n",
    "unit_num = 12\n",
    "\n",
    "num = widgets.IntSlider(min = 1, max = opto_log_df.shape[0], step = 1, width='75%', height='30px', \n",
    "                    description= \"Unit\", continuous_update=False)\n",
    "s = interactive(opto_identify, unit_num = num, log = fixed(log), continuous_update=False)\n",
    "\n",
    "\n",
    "display(s)\n"
   ]
  },
  {
   "cell_type": "code",
   "execution_count": 13,
   "metadata": {
    "ExecuteTime": {
     "end_time": "2017-03-23T11:11:43.815644Z",
     "start_time": "2017-03-23T11:11:43.688542"
    },
    "code_folding": [],
    "collapsed": false
   },
   "outputs": [
    {
     "ename": "NameError",
     "evalue": "name 'subset_dict' is not defined",
     "output_type": "error",
     "traceback": [
      "\u001b[0;31m---------------------------------------------------------------------------\u001b[0m",
      "\u001b[0;31mNameError\u001b[0m                                 Traceback (most recent call last)",
      "\u001b[0;32m<ipython-input-13-cad1bc28b38d>\u001b[0m in \u001b[0;36m<module>\u001b[0;34m()\u001b[0m\n\u001b[1;32m      1\u001b[0m \u001b[1;33m\u001b[0m\u001b[0m\n\u001b[0;32m----> 2\u001b[0;31m \u001b[0mw\u001b[0m \u001b[1;33m=\u001b[0m \u001b[0mwidgets\u001b[0m\u001b[1;33m.\u001b[0m\u001b[0mDropdown\u001b[0m\u001b[1;33m(\u001b[0m\u001b[0moptions\u001b[0m \u001b[1;33m=\u001b[0m \u001b[0mlist\u001b[0m\u001b[1;33m(\u001b[0m\u001b[0msubset_dict\u001b[0m\u001b[1;33m.\u001b[0m\u001b[0mkeys\u001b[0m\u001b[1;33m(\u001b[0m\u001b[1;33m)\u001b[0m\u001b[1;33m)\u001b[0m\u001b[1;33m,\u001b[0m \u001b[0mvalue\u001b[0m \u001b[1;33m=\u001b[0m \u001b[1;34m'unidentified'\u001b[0m\u001b[1;33m,\u001b[0m \u001b[0mdescription\u001b[0m\u001b[1;33m=\u001b[0m\u001b[1;34m'cellType:'\u001b[0m\u001b[1;33m)\u001b[0m\u001b[1;33m\u001b[0m\u001b[0m\n\u001b[0m\u001b[1;32m      3\u001b[0m \u001b[1;33m\u001b[0m\u001b[0m\n\u001b[1;32m      4\u001b[0m num = widgets.IntSlider(min = 1, max = 50, step = 1, width='75%', height='30px', \n\u001b[1;32m      5\u001b[0m                     description= \"Unit\", continuous_update=False)\n",
      "\u001b[0;31mNameError\u001b[0m: name 'subset_dict' is not defined"
     ]
    }
   ],
   "source": [
    "\n",
    "w = widgets.Dropdown(options = list(subset_dict.keys()), value = 'unidentified', description='cellType:')\n",
    "\n",
    "num = widgets.IntSlider(min = 1, max = 50, step = 1, width='75%', height='30px', \n",
    "                    description= \"Unit\", continuous_update=False)\n",
    "x1 = widgets.FloatSlider(min = -.9, max = 0, step = 0.05, value = -0.25,width='75%',\n",
    "                          height='30px', description= \"xMin\", continuous_update=False)\n",
    "x2 = widgets.FloatSlider(min = 0, max = 2, step = 0.05, value=0.75,width='75%', height='30px',\n",
    "                          description= \"xMax\",continuous_update=False)\n",
    "s = interactive(opto_identify, df_dict = fixed(subset_dict), s_key = w, n=num, x_min = x1, x_max = x2, continuous_update=False)\n"
   ]
  },
  {
   "cell_type": "code",
   "execution_count": 60,
   "metadata": {
    "ExecuteTime": {
     "end_time": "2017-03-23T11:48:11.779019Z",
     "start_time": "2017-03-23T11:48:11.655254"
    },
    "code_folding": [
     12,
     14,
     45
    ],
    "collapsed": false,
    "scrolled": false
   },
   "outputs": [],
   "source": [
    "import seaborn as sns\n",
    "sns.set_style(\"ticks\")\n",
    "\n",
    "def opto_metrics(unit_num, log):\n",
    "    \n",
    "    unit = opto_log_df.iloc[unit_num]\n",
    "    frequencies = [1,5,10,40]\n",
    "    stim_duration = 0.002\n",
    "    \n",
    "    mpl.close('all')\n",
    "    fig2 = mpl.figure(figsize=(18, 10))\n",
    "    fig2.suptitle(unit['mouse_name'] + ', ' +  unit['date'] + ', ' + unit['cluster_name'])\n",
    "    ax1 = mpl.subplot2grid((2,2), (0,0), rowspan=2, colspan=1)\n",
    "    ax2 = mpl.subplot2grid((2,2), (0,1), rowspan=1, colspan=1)\n",
    "    ax3 = mpl.subplot2grid((2,2), (1,1), rowspan=1, colspan=1)\n",
    "\n",
    "    data={}\n",
    "    total_stims = 0\n",
    "    for freq in frequencies:\n",
    "        opto_stims = unit['grouped_opto_pulses'][freq]\n",
    "        for stim_num in range(90):\n",
    "            spike_inds = (unit['spikes'] >= opto_stims[stim_num]-0.01) & (unit['spikes'] < opto_stims[stim_num] + .02)\n",
    "            spikes = (unit['spikes'][spike_inds] - opto_stims[stim_num])*1000\n",
    "            ax1.vlines(spikes, total_stims + stim_num + .5, total_stims + stim_num + 1.3, linewidth = 2)\n",
    "            x = total_stims+stim_num\n",
    "        ax1.plot([0,stim_duration*1000], [total_stims+stim_num, total_stims+stim_num], color = 'k', linewidth = 3)\n",
    "        ax1.text(-2, total_stims + stim_num/2, str(freq) + ' Hz', fontsize = 13),\n",
    "        total_stims = total_stims + stim_num\n",
    "\n",
    "        spikes = np.array([x[0] for x in unit['spikes']])\n",
    "        idx = spikes.searchsorted(opto_stims, side = 'right')\n",
    "        latencies = spikes[idx] - opto_stims\n",
    "        data[freq] = latencies[0:]\n",
    "        #data.append(latencies)\n",
    "    values = np.concatenate(list(data.values()))\n",
    "    labels = np.concatenate([[freq] * len(data[freq]) for freq in data.keys()])\n",
    "    data_df = pd.DataFrame([values, labels])\n",
    "    data_df=data_df.T\n",
    "    data_df.columns = ['values', 'labels']\n",
    "    data_df['values'] = data_df['values']*1000\n",
    "\n",
    "\n",
    "    data_df['reliability'] = 0 \n",
    "    light_evoked_spike = data_df['values'] <= 25\n",
    "    data_df.loc[light_evoked_spike, 'reliability'] = 1\n",
    "    sns.pointplot(x = 'labels', y = 'reliability', data = data_df, ax=ax2, join = False, color = 'xkcd:sky blue')\n",
    "\n",
    "\n",
    "    light_evoked_df = data_df[data_df['reliability'] == 1]\n",
    "    #sns.pointplot(data=data,ax=ax2, join = False)\n",
    "    #sns.boxplot(data=data,ax=ax2, showfliers = False)\n",
    "    sns.violinplot(x = 'labels', y = 'values', data = light_evoked_df, ax=ax3, color = 'xkcd:sky blue')\n",
    "\n",
    "\n",
    "    ax1.set_xlabel('Time(ms)', fontsize = 18)\n",
    "    ax1.set_ylabel('Stim trial', fontsize= 18)\n",
    "    ax1.autoscale(enable=True, tight=True)\n",
    "    ax1.spines['right'].set_visible(False)\n",
    "    ax1.spines['top'].set_visible(False)\n",
    "    ax1.xaxis.set_ticks_position('bottom')\n",
    "    ax1.yaxis.set_ticks_position('left')\n",
    "    ax1.add_patch(patches.Rectangle((0,0), stim_duration*1000, total_stims, color = 'xkcd:sky blue'))\n",
    "    ax1.set_xlim(-7.5,20)\n",
    "\n",
    "\n",
    "    ax3.set_xlabel('Frequency (Hz)', fontsize = 18)\n",
    "    ax3.set_ylabel('Mean spike latency (ms)', fontsize = 18)\n",
    "    ax3.set_ylim(0,25)\n",
    "#     ax3.set_ylim(0,15)\n",
    "    ax3.yaxis.set_ticks(np.arange(0, 25, 2.5))\n",
    "\n",
    "    ax2.set_xlabel('Frequency (Hz)',fontsize = 18)\n",
    "    ax2.set_ylabel('P(spike)',fontsize = 18)\n",
    "    ax2.set_ylim(0,1)\n",
    "\n",
    "    sns.despine();  \n",
    "\n",
    "    return fig2"
   ]
  },
  {
   "cell_type": "code",
   "execution_count": 61,
   "metadata": {
    "ExecuteTime": {
     "end_time": "2017-03-23T11:48:15.158470Z",
     "start_time": "2017-03-23T11:48:13.846835"
    },
    "collapsed": false
   },
   "outputs": [
    {
     "data": {
      "image/png": "[encoded data removed]",
      "text/plain": [
       "<matplotlib.figure.Figure at 0x24bb101dba8>"
      ]
     },
     "metadata": {},
     "output_type": "display_data"
    }
   ],
   "source": [
    "num = widgets.IntSlider(min = 1, max = opto_log_df.shape[0], step = 1, width='75%', height='30px', \n",
    "                    description= \"Unit\", continuous_update=False)\n",
    "s = interactive(opto_metrics, unit_num = num, log = fixed(log), continuous_update=False)\n",
    "display(s)\n"
   ]
  },
  {
   "cell_type": "code",
   "execution_count": null,
   "metadata": {
    "ExecuteTime": {
     "end_time": "2017-03-23T11:11:43.816644Z",
     "start_time": "2017-03-23T15:11:36.778Z"
    },
    "collapsed": false
   },
   "outputs": [],
   "source": [
    "unit['grouped_opto_pulses'][1][3] -unit['spikes'][unit['spikes']>unit['grouped_opto_pulses'][1][3]][0]"
   ]
  },
  {
   "cell_type": "code",
   "execution_count": null,
   "metadata": {
    "ExecuteTime": {
     "end_time": "2017-03-23T11:11:43.816644Z",
     "start_time": "2017-03-23T15:11:36.781Z"
    },
    "collapsed": false
   },
   "outputs": [],
   "source": [
    "unit['grouped_opto_pulses'][1][1]-unit['spikes'][unit['spikes']>4574.0420666666669][1]"
   ]
  },
  {
   "cell_type": "code",
   "execution_count": null,
   "metadata": {
    "ExecuteTime": {
     "end_time": "2017-03-23T11:11:43.816644Z",
     "start_time": "2017-03-23T15:11:36.783Z"
    },
    "collapsed": false
   },
   "outputs": [],
   "source": [
    "data_df"
   ]
  },
  {
   "cell_type": "code",
   "execution_count": null,
   "metadata": {
    "ExecuteTime": {
     "end_time": "2017-03-23T11:11:43.816644Z",
     "start_time": "2017-03-23T15:11:36.785Z"
    },
    "collapsed": true
   },
   "outputs": [],
   "source": [
    "    spike_latency = []\n",
    "    for stim_num in range(len(opto_stims)):\n",
    "        aligned_spikes = (unit['spikes'] - opto_stims[stim_num])\n",
    "        first_spike = np.min(aligned_spikes[aligned_spikes > 0])\n",
    "        spike_latency.append(spike_latency)\n",
    "    data.append([spike_latency])\n",
    "\n",
    "ax2.boxplot(data)\n",
    "    "
   ]
  }
 ],
 "metadata": {
  "kernelspec": {
   "display_name": "Python 3",
   "language": "python",
   "name": "python3"
  },
  "language_info": {
   "codemirror_mode": {
    "name": "ipython",
    "version": 3
   },
   "file_extension": ".py",
   "mimetype": "text/x-python",
   "name": "python",
   "nbconvert_exporter": "python",
   "pygments_lexer": "ipython3",
   "version": "3.6.0"
  },
  "widgets": {
   "state": {
    "34c40939773940409aaf75f3f70126c3": {
     "views": [
      {
       "cell_index": 14
      }
     ]
    },
    "5222db04b9244a6c9ac85b3727f9b275": {
     "views": [
      {
       "cell_index": 11
      }
     ]
    }
   },
   "version": "1.2.0"
  }
 },
 "nbformat": 4,
 "nbformat_minor": 2
}
