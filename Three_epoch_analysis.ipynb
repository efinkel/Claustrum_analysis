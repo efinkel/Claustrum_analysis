{
 "cells": [
  {
   "cell_type": "code",
   "execution_count": 1,
   "metadata": {},
   "outputs": [],
   "source": [
    "import scipy as sp\n",
    "import scipy.io\n",
    "import scipy.stats\n",
    "import os\n",
    "import numpy as np\n",
    "import pandas as pd\n",
    "import glob\n",
    "import csv\n",
    "from matplotlib import gridspec\n",
    "import matplotlib.patches as patches\n",
    "\n",
    "from tqdm import tnrange, tqdm_notebook\n",
    "from collections import Iterable\n",
    "import matplotlib.pylab as mpl\n",
    "from utils import plotting_utils as pu\n",
    "from utils import utils\n",
    "from utils import zscores\n",
    "import itertools\n",
    "import altair as alt\n",
    "font = {'family' : 'Arial',\n",
    "        'weight' : 'normal',\n",
    "        'size'   : 12}\n",
    "\n",
    "mpl.rc('font', **font)\n",
    "%load_ext autoreload"
   ]
  },
  {
   "cell_type": "code",
   "execution_count": 2,
   "metadata": {},
   "outputs": [],
   "source": [
    "log_df, unit_key_df = utils.load_data(os.getcwd())"
   ]
  },
  {
   "cell_type": "code",
   "execution_count": 3,
   "metadata": {},
   "outputs": [
    {
     "data": {
      "text/plain": [
       "Index(['mouse_name', 'date', 'block_type', 'trial_type', 'touch_stimulus',\n",
       "       'vis_stimulus', 'response', 'trial_num', 'stim_onset', 'stim_offset',\n",
       "       'licks_right', 'licks_left', 'spike_times', 'cluster_name',\n",
       "       'spike_times(stim_aligned)', 'first_lick', 'last_lick',\n",
       "       'spike_times(lick_aligned)', 'spike_times(last_lick_aligned)',\n",
       "       'identified', 'correct', 'uni_id'],\n",
       "      dtype='object')"
      ]
     },
     "execution_count": 3,
     "metadata": {},
     "output_type": "execute_result"
    }
   ],
   "source": [
    "log_df.columns"
   ]
  },
  {
   "cell_type": "code",
   "execution_count": 4,
   "metadata": {},
   "outputs": [
    {
     "data": {
      "application/vnd.jupyter.widget-view+json": {
       "model_id": "010da930fc70429da3abf99d7f83a678",
       "version_major": 2,
       "version_minor": 0
      },
      "text/plain": [
       "HBox(children=(IntProgress(value=0, max=629), HTML(value='')))"
      ]
     },
     "metadata": {},
     "output_type": "display_data"
    },
    {
     "name": "stdout",
     "output_type": "stream",
     "text": [
      "\n"
     ]
    },
    {
     "data": {
      "application/vnd.jupyter.widget-view+json": {
       "model_id": "2aa26a24d5cc481b98396097960415f6",
       "version_major": 2,
       "version_minor": 0
      },
      "text/plain": [
       "HBox(children=(IntProgress(value=0, max=629), HTML(value='')))"
      ]
     },
     "metadata": {},
     "output_type": "display_data"
    },
    {
     "name": "stdout",
     "output_type": "stream",
     "text": [
      "\n"
     ]
    }
   ],
   "source": [
    "bin_size = 0.025\n",
    "window = [-1, 3]\n",
    "edges = np.arange(window[0], window[1], bin_size)\n",
    "unit_key_df = utils.calc_unit_stats(unit_key_df, log_df, bin_size)\n",
    "log_df['spike_counts(stim_aligned)'] = log_df[\n",
    "    'spike_times(stim_aligned)'].apply(lambda x: np.histogram(x,edges)[0]/bin_size)\n",
    "unit_key_df = zscores.calc_z_scores(log_df, unit_key_df, bin_size, window)\n",
    "opto_id = pd.read_csv('identified_units.csv')"
   ]
  },
  {
   "cell_type": "code",
   "execution_count": 5,
   "metadata": {},
   "outputs": [
    {
     "data": {
      "text/plain": [
       "0    3.333333\n",
       "1    3.333333\n",
       "2    3.333333\n",
       "3    3.333333\n",
       "4    6.666667\n",
       "Name: lick_spikes(-150-150ms), dtype: float64"
      ]
     },
     "execution_count": 5,
     "metadata": {},
     "output_type": "execute_result"
    }
   ],
   "source": [
    "log_df['baseline_spikes(-300-0ms)'] = log_df['spike_times(stim_aligned)'].apply(lambda y: sum(((y>= -.300) & (y<=0))*1)/.300)\n",
    "log_df['baseline_spikes(-150-0ms)'] = log_df['spike_times(stim_aligned)'].apply(lambda y: sum(((y>= -.150) & (y<=0))*1)/.150)\n",
    "log_df['stim_spikes(0-150ms)'] = log_df['spike_times(stim_aligned)'].apply(lambda y: sum(((y>= 0) & (y<=0.150))*1)/.15)\n",
    "log_df['lick_spikes(-150-150ms)'] = log_df['spike_times(lick_aligned)'].apply(lambda y: sum(((y>= -.150) & (y<=0.150))*1)/.300)\n",
    "log_df['lick_spikes(-150-150ms)'].head()"
   ]
  },
  {
   "cell_type": "code",
   "execution_count": 6,
   "metadata": {},
   "outputs": [
    {
     "data": {
      "text/html": [
       "<div>\n",
       "<style scoped>\n",
       "    .dataframe tbody tr th:only-of-type {\n",
       "        vertical-align: middle;\n",
       "    }\n",
       "\n",
       "    .dataframe tbody tr th {\n",
       "        vertical-align: top;\n",
       "    }\n",
       "\n",
       "    .dataframe thead th {\n",
       "        text-align: right;\n",
       "    }\n",
       "</style>\n",
       "<table border=\"1\" class=\"dataframe\">\n",
       "  <thead>\n",
       "    <tr style=\"text-align: right;\">\n",
       "      <th></th>\n",
       "      <th>uni_id</th>\n",
       "      <th>block_type</th>\n",
       "      <th>trial_type</th>\n",
       "      <th>response</th>\n",
       "      <th>baseline_spikes(-300-0ms)</th>\n",
       "      <th>baseline_spikes(-150-0ms)</th>\n",
       "      <th>stim_spikes(0-150ms)</th>\n",
       "      <th>lick_spikes(-150-150ms)</th>\n",
       "    </tr>\n",
       "  </thead>\n",
       "  <tbody>\n",
       "    <tr>\n",
       "      <th>0</th>\n",
       "      <td>Cl405-19-178t4</td>\n",
       "      <td>Whisker</td>\n",
       "      <td>Stim_Vis_NoCue</td>\n",
       "      <td>1</td>\n",
       "      <td>0.0</td>\n",
       "      <td>0.0</td>\n",
       "      <td>0.0</td>\n",
       "      <td>0.0</td>\n",
       "    </tr>\n",
       "    <tr>\n",
       "      <th>1</th>\n",
       "      <td>Cl405-19-178t4</td>\n",
       "      <td>Whisker</td>\n",
       "      <td>Stim_Som_NoCue</td>\n",
       "      <td>1</td>\n",
       "      <td>0.0</td>\n",
       "      <td>0.0</td>\n",
       "      <td>0.0</td>\n",
       "      <td>0.0</td>\n",
       "    </tr>\n",
       "    <tr>\n",
       "      <th>2</th>\n",
       "      <td>Cl405-19-178t4</td>\n",
       "      <td>Visual</td>\n",
       "      <td>Stim_Vis_NoCue</td>\n",
       "      <td>2</td>\n",
       "      <td>0.0</td>\n",
       "      <td>0.0</td>\n",
       "      <td>0.0</td>\n",
       "      <td>0.0</td>\n",
       "    </tr>\n",
       "    <tr>\n",
       "      <th>3</th>\n",
       "      <td>Cl405-19-178t4</td>\n",
       "      <td>Visual</td>\n",
       "      <td>Stim_Vis_NoCue</td>\n",
       "      <td>2</td>\n",
       "      <td>0.0</td>\n",
       "      <td>0.0</td>\n",
       "      <td>0.0</td>\n",
       "      <td>0.0</td>\n",
       "    </tr>\n",
       "    <tr>\n",
       "      <th>4</th>\n",
       "      <td>Cl405-19-178t4</td>\n",
       "      <td>Visual</td>\n",
       "      <td>Stim_Vis_NoCue</td>\n",
       "      <td>2</td>\n",
       "      <td>0.0</td>\n",
       "      <td>0.0</td>\n",
       "      <td>0.0</td>\n",
       "      <td>0.0</td>\n",
       "    </tr>\n",
       "  </tbody>\n",
       "</table>\n",
       "</div>"
      ],
      "text/plain": [
       "           uni_id block_type      trial_type  response  \\\n",
       "0  Cl405-19-178t4    Whisker  Stim_Vis_NoCue         1   \n",
       "1  Cl405-19-178t4    Whisker  Stim_Som_NoCue         1   \n",
       "2  Cl405-19-178t4     Visual  Stim_Vis_NoCue         2   \n",
       "3  Cl405-19-178t4     Visual  Stim_Vis_NoCue         2   \n",
       "4  Cl405-19-178t4     Visual  Stim_Vis_NoCue         2   \n",
       "\n",
       "   baseline_spikes(-300-0ms)  baseline_spikes(-150-0ms)  stim_spikes(0-150ms)  \\\n",
       "0                        0.0                        0.0                   0.0   \n",
       "1                        0.0                        0.0                   0.0   \n",
       "2                        0.0                        0.0                   0.0   \n",
       "3                        0.0                        0.0                   0.0   \n",
       "4                        0.0                        0.0                   0.0   \n",
       "\n",
       "   lick_spikes(-150-150ms)  \n",
       "0                      0.0  \n",
       "1                      0.0  \n",
       "2                      0.0  \n",
       "3                      0.0  \n",
       "4                      0.0  "
      ]
     },
     "execution_count": 6,
     "metadata": {},
     "output_type": "execute_result"
    }
   ],
   "source": [
    "opto_log = log_df.merge(opto_id, on = 'uni_id', how = 'inner')\n",
    "epoch_comp = opto_log[['uni_id', 'block_type','trial_type','response', 'baseline_spikes(-300-0ms)','baseline_spikes(-150-0ms)', 'stim_spikes(0-150ms)', 'lick_spikes(-150-150ms)']]\n",
    "epoch_comp.head()"
   ]
  },
  {
   "cell_type": "code",
   "execution_count": 7,
   "metadata": {},
   "outputs": [],
   "source": [
    "def epoch_mean(df, output_var, condition_var = None):\n",
    "    if condition_var is None:\n",
    "        grouped = df.groupby([df['uni_id']])[output_var]\n",
    "    else:\n",
    "        grouped = df.groupby([df['uni_id'], df[condition_var]])[output_var]\n",
    "    gr_mean = grouped.mean().reset_index()\n",
    "    return gr_mean"
   ]
  },
  {
   "cell_type": "code",
   "execution_count": 8,
   "metadata": {},
   "outputs": [
    {
     "data": {
      "text/plain": [
       "43.2258064516129"
      ]
     },
     "execution_count": 8,
     "metadata": {},
     "output_type": "execute_result"
    }
   ],
   "source": [
    "epoch_comp.loc[(epoch_comp['uni_id'] == 'Cl506-04-176t3') &(epoch_comp['response'] == 2), 'lick_spikes(-150-150ms)'].mean()"
   ]
  },
  {
   "cell_type": "code",
   "execution_count": 9,
   "metadata": {},
   "outputs": [
    {
     "data": {
      "text/html": [
       "<div>\n",
       "<style scoped>\n",
       "    .dataframe tbody tr th:only-of-type {\n",
       "        vertical-align: middle;\n",
       "    }\n",
       "\n",
       "    .dataframe tbody tr th {\n",
       "        vertical-align: top;\n",
       "    }\n",
       "\n",
       "    .dataframe thead th {\n",
       "        text-align: right;\n",
       "    }\n",
       "</style>\n",
       "<table border=\"1\" class=\"dataframe\">\n",
       "  <thead>\n",
       "    <tr style=\"text-align: right;\">\n",
       "      <th></th>\n",
       "      <th>uni_id</th>\n",
       "      <th>block_type</th>\n",
       "      <th>baseline_spikes(-300-0ms)</th>\n",
       "    </tr>\n",
       "  </thead>\n",
       "  <tbody>\n",
       "    <tr>\n",
       "      <th>0</th>\n",
       "      <td>Cl405-19-178t4</td>\n",
       "      <td>Visual</td>\n",
       "      <td>0.437158</td>\n",
       "    </tr>\n",
       "    <tr>\n",
       "      <th>1</th>\n",
       "      <td>Cl405-19-178t4</td>\n",
       "      <td>Whisker</td>\n",
       "      <td>0.981735</td>\n",
       "    </tr>\n",
       "    <tr>\n",
       "      <th>2</th>\n",
       "      <td>Cl405-23-177t4</td>\n",
       "      <td>Visual</td>\n",
       "      <td>7.020202</td>\n",
       "    </tr>\n",
       "  </tbody>\n",
       "</table>\n",
       "</div>"
      ],
      "text/plain": [
       "           uni_id block_type  baseline_spikes(-300-0ms)\n",
       "0  Cl405-19-178t4     Visual                   0.437158\n",
       "1  Cl405-19-178t4    Whisker                   0.981735\n",
       "2  Cl405-23-177t4     Visual                   7.020202"
      ]
     },
     "metadata": {},
     "output_type": "display_data"
    },
    {
     "data": {
      "text/html": [
       "<div>\n",
       "<style scoped>\n",
       "    .dataframe tbody tr th:only-of-type {\n",
       "        vertical-align: middle;\n",
       "    }\n",
       "\n",
       "    .dataframe tbody tr th {\n",
       "        vertical-align: top;\n",
       "    }\n",
       "\n",
       "    .dataframe thead th {\n",
       "        text-align: right;\n",
       "    }\n",
       "</style>\n",
       "<table border=\"1\" class=\"dataframe\">\n",
       "  <thead>\n",
       "    <tr style=\"text-align: right;\">\n",
       "      <th></th>\n",
       "      <th>stim_spikes(0-150ms)</th>\n",
       "      <th>trial_type</th>\n",
       "      <th>uni_id</th>\n",
       "    </tr>\n",
       "  </thead>\n",
       "  <tbody>\n",
       "    <tr>\n",
       "      <th>0</th>\n",
       "      <td>0.367454</td>\n",
       "      <td>Stim_Som_NoCue</td>\n",
       "      <td>Cl405-19-178t4</td>\n",
       "    </tr>\n",
       "    <tr>\n",
       "      <th>1</th>\n",
       "      <td>0.661939</td>\n",
       "      <td>Stim_Vis_NoCue</td>\n",
       "      <td>Cl405-19-178t4</td>\n",
       "    </tr>\n",
       "    <tr>\n",
       "      <th>2</th>\n",
       "      <td>13.771930</td>\n",
       "      <td>Stim_Som_NoCue</td>\n",
       "      <td>Cl405-23-177t4</td>\n",
       "    </tr>\n",
       "  </tbody>\n",
       "</table>\n",
       "</div>"
      ],
      "text/plain": [
       "   stim_spikes(0-150ms)      trial_type          uni_id\n",
       "0              0.367454  Stim_Som_NoCue  Cl405-19-178t4\n",
       "1              0.661939  Stim_Vis_NoCue  Cl405-19-178t4\n",
       "2             13.771930  Stim_Som_NoCue  Cl405-23-177t4"
      ]
     },
     "metadata": {},
     "output_type": "display_data"
    },
    {
     "data": {
      "text/html": [
       "<div>\n",
       "<style scoped>\n",
       "    .dataframe tbody tr th:only-of-type {\n",
       "        vertical-align: middle;\n",
       "    }\n",
       "\n",
       "    .dataframe tbody tr th {\n",
       "        vertical-align: top;\n",
       "    }\n",
       "\n",
       "    .dataframe thead th {\n",
       "        text-align: right;\n",
       "    }\n",
       "</style>\n",
       "<table border=\"1\" class=\"dataframe\">\n",
       "  <thead>\n",
       "    <tr style=\"text-align: right;\">\n",
       "      <th></th>\n",
       "      <th>uni_id</th>\n",
       "      <th>response</th>\n",
       "      <th>lick_spikes(-150-150ms)</th>\n",
       "    </tr>\n",
       "  </thead>\n",
       "  <tbody>\n",
       "    <tr>\n",
       "      <th>0</th>\n",
       "      <td>Cl405-19-178t4</td>\n",
       "      <td>no lick</td>\n",
       "      <td>0.504386</td>\n",
       "    </tr>\n",
       "    <tr>\n",
       "      <th>1</th>\n",
       "      <td>Cl405-19-178t4</td>\n",
       "      <td>right</td>\n",
       "      <td>1.111111</td>\n",
       "    </tr>\n",
       "    <tr>\n",
       "      <th>2</th>\n",
       "      <td>Cl405-19-178t4</td>\n",
       "      <td>left</td>\n",
       "      <td>0.153846</td>\n",
       "    </tr>\n",
       "  </tbody>\n",
       "</table>\n",
       "</div>"
      ],
      "text/plain": [
       "           uni_id response  lick_spikes(-150-150ms)\n",
       "0  Cl405-19-178t4  no lick                 0.504386\n",
       "1  Cl405-19-178t4    right                 1.111111\n",
       "2  Cl405-19-178t4     left                 0.153846"
      ]
     },
     "metadata": {},
     "output_type": "display_data"
    }
   ],
   "source": [
    "gr_means_baseline = epoch_mean(epoch_comp, 'baseline_spikes(-300-0ms)', 'block_type', )\n",
    "\n",
    "gr_means_stim = epoch_mean(epoch_comp, ['stim_spikes(0-150ms)'], 'trial_type')\n",
    "gr_means_stim_baseline = epoch_mean(epoch_comp,['baseline_spikes(-150-0ms)'])\n",
    "gr_means_stim_baseline['trial_type'] = 'baseline'\n",
    "gr_means_stim_baseline.rename(columns = {'baseline_spikes(-150-0ms)':'stim_spikes(0-150ms)'}, inplace = True)\n",
    "gr_means_stim = pd.concat([gr_means_stim, gr_means_stim_baseline], axis = 0)\n",
    "\n",
    "gr_means_lick = epoch_mean(epoch_comp,['lick_spikes(-150-150ms)'], 'response')\n",
    "gr_means_lick.loc[gr_means_lick['response'] == 0, 'response'] = 'no lick'\n",
    "gr_means_lick.loc[gr_means_lick['response'] == 1, 'response'] = 'right'\n",
    "gr_means_lick.loc[gr_means_lick['response'] == 2, 'response'] = 'left'\n",
    "\n",
    "display(gr_means_baseline.head(3))\n",
    "display(gr_means_stim.head(3))\n",
    "display(gr_means_lick.head(3))"
   ]
  },
  {
   "cell_type": "code",
   "execution_count": 10,
   "metadata": {},
   "outputs": [],
   "source": [
    "opto_id_gen = (uni_id for uni_id in gr_means_lick['uni_id'].unique())"
   ]
  },
  {
   "cell_type": "code",
   "execution_count": 11,
   "metadata": {},
   "outputs": [
    {
     "name": "stdout",
     "output_type": "stream",
     "text": [
      "Cl405-19-178t4\n"
     ]
    },
    {
     "data": {
      "image/png": "[encoded data removed]",
      "text/plain": [
       "<Figure size 403.2x352.8 with 4 Axes>"
      ]
     },
     "metadata": {},
     "output_type": "display_data"
    },
    {
     "data": {
      "image/png": "[encoded data removed]",
      "text/plain": [
       "<Figure size 403.2x352.8 with 4 Axes>"
      ]
     },
     "metadata": {},
     "output_type": "display_data"
    }
   ],
   "source": [
    "uni_id = next(opto_id_gen)\n",
    "print(uni_id)\n",
    "fig = pu.plot_unit(log_df,uni_id, -0.75,2, 0.025, size_mult = 0.7)\n",
    "fig2 = pu.plot_unit(log_df,uni_id, -0.75,2, 0.025, modality = 'visual', size_mult = 0.7)\n"
   ]
  },
  {
   "cell_type": "code",
   "execution_count": 12,
   "metadata": {},
   "outputs": [],
   "source": [
    "gr_means_baseline['label_loc'] = gr_means_baseline['baseline_spikes(-300-0ms)'].max() + 5"
   ]
  },
  {
   "cell_type": "code",
   "execution_count": 13,
   "metadata": {},
   "outputs": [],
   "source": [
    "grouped_baseline = gr_means_baseline.groupby('block_type')['baseline_spikes(-300-0ms)']\n",
    "grouped_stim = gr_means_stim.groupby('trial_type')['stim_spikes(0-150ms)']\n",
    "grouped_lick = gr_means_lick.groupby('response')['lick_spikes(-150-150ms)']"
   ]
  },
  {
   "cell_type": "code",
   "execution_count": 14,
   "metadata": {},
   "outputs": [
    {
     "data": {
      "text/plain": [
       "[('Visual', 'Whisker')]"
      ]
     },
     "execution_count": 14,
     "metadata": {},
     "output_type": "execute_result"
    }
   ],
   "source": [
    "list(itertools.combinations(grouped_baseline.groups.keys(),2))"
   ]
  },
  {
   "cell_type": "code",
   "execution_count": 15,
   "metadata": {},
   "outputs": [
    {
     "data": {
      "text/html": [
       "<div>\n",
       "<style scoped>\n",
       "    .dataframe tbody tr th:only-of-type {\n",
       "        vertical-align: middle;\n",
       "    }\n",
       "\n",
       "    .dataframe tbody tr th {\n",
       "        vertical-align: top;\n",
       "    }\n",
       "\n",
       "    .dataframe thead th {\n",
       "        text-align: right;\n",
       "    }\n",
       "</style>\n",
       "<table border=\"1\" class=\"dataframe\">\n",
       "  <thead>\n",
       "    <tr style=\"text-align: right;\">\n",
       "      <th></th>\n",
       "      <th>group1</th>\n",
       "      <th>group2</th>\n",
       "      <th>stat, pvalue</th>\n",
       "    </tr>\n",
       "  </thead>\n",
       "  <tbody>\n",
       "    <tr>\n",
       "      <th>0</th>\n",
       "      <td>left</td>\n",
       "      <td>no lick</td>\n",
       "      <td>(71.0, 0.023999149663337077)</td>\n",
       "    </tr>\n",
       "    <tr>\n",
       "      <th>1</th>\n",
       "      <td>left</td>\n",
       "      <td>right</td>\n",
       "      <td>(106.0, 0.33041490332462453)</td>\n",
       "    </tr>\n",
       "    <tr>\n",
       "      <th>2</th>\n",
       "      <td>no lick</td>\n",
       "      <td>right</td>\n",
       "      <td>(48.0, 0.0035650346308531587)</td>\n",
       "    </tr>\n",
       "  </tbody>\n",
       "</table>\n",
       "</div>"
      ],
      "text/plain": [
       "    group1   group2                   stat, pvalue\n",
       "0     left  no lick   (71.0, 0.023999149663337077)\n",
       "1     left    right   (106.0, 0.33041490332462453)\n",
       "2  no lick    right  (48.0, 0.0035650346308531587)"
      ]
     },
     "execution_count": 15,
     "metadata": {},
     "output_type": "execute_result"
    }
   ],
   "source": [
    "baseline_test = scipy.stats.wilcoxon(grouped_baseline.get_group('Visual'), grouped_baseline.get_group('Whisker'))\n",
    "\n",
    "def test_groups(grouped):\n",
    "    groups = list(itertools.combinations(grouped.groups.keys(),2))\n",
    "    results = pd.DataFrame()\n",
    "    for i,gr in enumerate(groups):\n",
    "        results[i] = [gr[0], gr[1], scipy.stats.wilcoxon(grouped.get_group(gr[0]),grouped.get_group(gr[1]))]\n",
    "    \n",
    "    results = results.T\n",
    "    results.columns = ['group1', 'group2', 'stat, pvalue']\n",
    "    return results\n",
    "\n",
    "baseline_tests = test_groups(grouped_baseline)\n",
    "stim_tests = test_groups(grouped_stim)\n",
    "lick_tests = test_groups(grouped_lick)\n",
    "\n",
    "lick_tests"
   ]
  },
  {
   "cell_type": "code",
   "execution_count": 33,
   "metadata": {},
   "outputs": [],
   "source": [
    "def linked_ladder_chart(groups):\n",
    "\n",
    "    pts = alt.selection_single(encodings = ['color'])\n",
    "    color_scale = alt.Scale(\n",
    "                range=[\"steelblue\"]\n",
    "            )\n",
    "\n",
    "    ###########################################\n",
    "    ########## baseline plot ##################\n",
    "    chart1 = alt.Chart(groups[0]).mark_point().encode(\n",
    "        alt.X('block_type', type = 'nominal'),\n",
    "        alt.Y('baseline_spikes(-300-0ms)', type= 'quantitative'),\n",
    "        color = alt.condition(pts, 'uni_id', alt.value('lightgray'), scale = color_scale, legend = alt.Legend(title = ' ', values = [])),\n",
    "    ).properties(\n",
    "        selection=pts,\n",
    "        width = 200,\n",
    "        height = 300\n",
    "    ).interactive()\n",
    "\n",
    "    chart11 = alt.Chart(groups[0]).mark_line().encode(\n",
    "        alt.X('block_type', type = 'nominal'),\n",
    "        alt.Y('baseline_spikes(-300-0ms)', type= 'quantitative'),\n",
    "        color = alt.condition(pts, 'uni_id', alt.value('lightgray'), scale = color_scale,)\n",
    "    ).properties(\n",
    "        width = 200,\n",
    "        height = 300\n",
    "    )\n",
    "\n",
    "    text = alt.Chart(groups[0]).mark_text(align = 'left', dx = 5, dy = -.5, font='Arial').encode(\n",
    "        alt.Y('label_loc', type= 'quantitative'),\n",
    "        text=alt.condition(pts, 'uni_id', alt.value(' '))\n",
    "    )\n",
    "    ##############################################\n",
    "    ######### stim plot############################\n",
    "    chart2 = alt.Chart(groups[1]).mark_point().encode(\n",
    "        alt.X('trial_type', type = 'nominal'),\n",
    "        alt.Y('stim_spikes(0-150ms)', type= 'quantitative'),\n",
    "        color = alt.condition(pts.ref(), 'uni_id', alt.value('lightgray')),\n",
    "    ).properties(\n",
    "        selection=pts,\n",
    "        width = 200,\n",
    "        height = 300\n",
    "    ).interactive()\n",
    "\n",
    "    chart21 = alt.Chart(groups[1]).mark_line().encode(\n",
    "        alt.X('trial_type', type = 'nominal'),\n",
    "        alt.Y('stim_spikes(0-150ms)', type= 'quantitative'),\n",
    "        color = alt.condition(pts, 'uni_id', alt.value('lightgray'), scale = color_scale)\n",
    "    ).properties(\n",
    "        width = 200,\n",
    "        height = 300\n",
    "    )\n",
    "\n",
    "    #################################################\n",
    "    ######### lick plot###############################\n",
    "    chart3 = alt.Chart(groups[2]).mark_point().encode(\n",
    "        alt.X('response', type = 'nominal'),\n",
    "        alt.Y('lick_spikes(-150-150ms)', type= 'quantitative'),\n",
    "        color = alt.condition(pts.ref(), 'uni_id', alt.value('lightgray')),\n",
    "    ).properties(\n",
    "        selection=pts,\n",
    "        width = 200,\n",
    "        height = 300\n",
    "    ).interactive()\n",
    "\n",
    "    chart31 = alt.Chart(groups[2]).mark_line().encode(\n",
    "        alt.X('response', type = 'nominal'),\n",
    "        alt.Y('lick_spikes(-150-150ms)', type= 'quantitative'),\n",
    "        color = alt.condition(pts, 'uni_id', alt.value('lightgray'), scale = color_scale)\n",
    "    ).properties(\n",
    "        width = 200,\n",
    "        height = 300\n",
    "    )\n",
    "\n",
    "    chart = chart1+chart11+text|chart2+chart21|chart3+chart31\n",
    "    \n",
    "    return chart"
   ]
  },
  {
   "cell_type": "code",
   "execution_count": 51,
   "metadata": {},
   "outputs": [
    {
     "data": {
      "text/html": [
       "<div>\n",
       "<style scoped>\n",
       "    .dataframe tbody tr th:only-of-type {\n",
       "        vertical-align: middle;\n",
       "    }\n",
       "\n",
       "    .dataframe tbody tr th {\n",
       "        vertical-align: top;\n",
       "    }\n",
       "\n",
       "    .dataframe thead th {\n",
       "        text-align: right;\n",
       "    }\n",
       "</style>\n",
       "<table border=\"1\" class=\"dataframe\">\n",
       "  <thead>\n",
       "    <tr style=\"text-align: right;\">\n",
       "      <th></th>\n",
       "      <th>uni_id</th>\n",
       "      <th>response</th>\n",
       "      <th>lick_spikes(-150-150ms)</th>\n",
       "    </tr>\n",
       "  </thead>\n",
       "  <tbody>\n",
       "    <tr>\n",
       "      <th>0</th>\n",
       "      <td>Cl405-31-176t1</td>\n",
       "      <td>no lick</td>\n",
       "      <td>16.011236</td>\n",
       "    </tr>\n",
       "    <tr>\n",
       "      <th>1</th>\n",
       "      <td>Cl405-31-176t1</td>\n",
       "      <td>right</td>\n",
       "      <td>11.481481</td>\n",
       "    </tr>\n",
       "    <tr>\n",
       "      <th>2</th>\n",
       "      <td>Cl405-31-176t1</td>\n",
       "      <td>left</td>\n",
       "      <td>6.935484</td>\n",
       "    </tr>\n",
       "    <tr>\n",
       "      <th>3</th>\n",
       "      <td>Cl406-02-176t2</td>\n",
       "      <td>no lick</td>\n",
       "      <td>17.189542</td>\n",
       "    </tr>\n",
       "    <tr>\n",
       "      <th>4</th>\n",
       "      <td>Cl406-02-176t2</td>\n",
       "      <td>right</td>\n",
       "      <td>19.035088</td>\n",
       "    </tr>\n",
       "    <tr>\n",
       "      <th>5</th>\n",
       "      <td>Cl406-02-176t2</td>\n",
       "      <td>left</td>\n",
       "      <td>19.090909</td>\n",
       "    </tr>\n",
       "    <tr>\n",
       "      <th>6</th>\n",
       "      <td>Cl406-03-176t1</td>\n",
       "      <td>no lick</td>\n",
       "      <td>6.352941</td>\n",
       "    </tr>\n",
       "    <tr>\n",
       "      <th>7</th>\n",
       "      <td>Cl406-03-176t1</td>\n",
       "      <td>right</td>\n",
       "      <td>7.927928</td>\n",
       "    </tr>\n",
       "    <tr>\n",
       "      <th>8</th>\n",
       "      <td>Cl406-03-176t1</td>\n",
       "      <td>left</td>\n",
       "      <td>6.666667</td>\n",
       "    </tr>\n",
       "    <tr>\n",
       "      <th>9</th>\n",
       "      <td>Cl506-02-176t4</td>\n",
       "      <td>no lick</td>\n",
       "      <td>5.014749</td>\n",
       "    </tr>\n",
       "    <tr>\n",
       "      <th>10</th>\n",
       "      <td>Cl506-02-176t4</td>\n",
       "      <td>right</td>\n",
       "      <td>5.151515</td>\n",
       "    </tr>\n",
       "    <tr>\n",
       "      <th>11</th>\n",
       "      <td>Cl506-02-176t4</td>\n",
       "      <td>left</td>\n",
       "      <td>3.856209</td>\n",
       "    </tr>\n",
       "    <tr>\n",
       "      <th>12</th>\n",
       "      <td>Cl506-04-176t3</td>\n",
       "      <td>no lick</td>\n",
       "      <td>19.283951</td>\n",
       "    </tr>\n",
       "    <tr>\n",
       "      <th>13</th>\n",
       "      <td>Cl506-04-176t3</td>\n",
       "      <td>right</td>\n",
       "      <td>37.301587</td>\n",
       "    </tr>\n",
       "    <tr>\n",
       "      <th>14</th>\n",
       "      <td>Cl506-04-176t3</td>\n",
       "      <td>left</td>\n",
       "      <td>43.225806</td>\n",
       "    </tr>\n",
       "  </tbody>\n",
       "</table>\n",
       "</div>"
      ],
      "text/plain": [
       "            uni_id response  lick_spikes(-150-150ms)\n",
       "0   Cl405-31-176t1  no lick                16.011236\n",
       "1   Cl405-31-176t1    right                11.481481\n",
       "2   Cl405-31-176t1     left                 6.935484\n",
       "3   Cl406-02-176t2  no lick                17.189542\n",
       "4   Cl406-02-176t2    right                19.035088\n",
       "5   Cl406-02-176t2     left                19.090909\n",
       "6   Cl406-03-176t1  no lick                 6.352941\n",
       "7   Cl406-03-176t1    right                 7.927928\n",
       "8   Cl406-03-176t1     left                 6.666667\n",
       "9   Cl506-02-176t4  no lick                 5.014749\n",
       "10  Cl506-02-176t4    right                 5.151515\n",
       "11  Cl506-02-176t4     left                 3.856209\n",
       "12  Cl506-04-176t3  no lick                19.283951\n",
       "13  Cl506-04-176t3    right                37.301587\n",
       "14  Cl506-04-176t3     left                43.225806"
      ]
     },
     "execution_count": 51,
     "metadata": {},
     "output_type": "execute_result"
    }
   ],
   "source": [
    "gr_stim_tet6"
   ]
  },
  {
   "cell_type": "code",
   "execution_count": 55,
   "metadata": {},
   "outputs": [],
   "source": [
    "inds = [df['uni_id'].str.contains('6t') for df in [gr_means_baseline,gr_means_stim, gr_means_lick]]\n",
    "gr_baseline_tet6 = gr_means_baseline.loc[inds[0], :].reset_index(drop = True)\n",
    "gr_stim_tet6 = gr_means_stim.loc[inds[1], :].reset_index(drop = True)\n",
    "gr_lick_tet6 = gr_means_lick.loc[inds[2], :].reset_index(drop = True)\n"
   ]
  },
  {
   "cell_type": "code",
   "execution_count": 56,
   "metadata": {},
   "outputs": [
    {
     "data": {
      "application/vnd.vegalite.v2+json": {
       "$schema": "https://vega.github.io/schema/vega-lite/v2.3.0.json",
       "config": {
        "view": {
         "height": 300,
         "width": 400
        }
       },
       "hconcat": [
        {
         "layer": [
          {
           "data": {
            "values": [
             {
              "baseline_spikes(-300-0ms)": 0.43715846994535523,
              "block_type": "Visual",
              "label_loc": 36.023102310231025,
              "uni_id": "Cl405-19-178t4"
             },
             {
              "baseline_spikes(-300-0ms)": 0.9817351598173518,
              "block_type": "Whisker",
              "label_loc": 36.023102310231025,
              "uni_id": "Cl405-19-178t4"
             },
             {
              "baseline_spikes(-300-0ms)": 7.0202020202020226,
              "block_type": "Visual",
              "label_loc": 36.023102310231025,
              "uni_id": "Cl405-23-177t4"
             },
             {
              "baseline_spikes(-300-0ms)": 6.999999999999998,
              "block_type": "Whisker",
              "label_loc": 36.023102310231025,
              "uni_id": "Cl405-23-177t4"
             },
             {
              "baseline_spikes(-300-0ms)": 3.9646464646464623,
              "block_type": "Visual",
              "label_loc": 36.023102310231025,
              "uni_id": "Cl405-23-178t1"
             },
             {
              "baseline_spikes(-300-0ms)": 4.104166666666667,
              "block_type": "Whisker",
              "label_loc": 36.023102310231025,
              "uni_id": "Cl405-23-178t1"
             },
             {
              "baseline_spikes(-300-0ms)": 18.61842105263158,
              "block_type": "Visual",
              "label_loc": 36.023102310231025,
              "uni_id": "Cl405-26-172t4"
             },
             {
              "baseline_spikes(-300-0ms)": 15.533333333333337,
              "block_type": "Whisker",
              "label_loc": 36.023102310231025,
              "uni_id": "Cl405-26-172t4"
             },
             {
              "baseline_spikes(-300-0ms)": 18.59649122807018,
              "block_type": "Visual",
              "label_loc": 36.023102310231025,
              "uni_id": "Cl405-26-178t1"
             },
             {
              "baseline_spikes(-300-0ms)": 21.699999999999996,
              "block_type": "Whisker",
              "label_loc": 36.023102310231025,
              "uni_id": "Cl405-26-178t1"
             },
             {
              "baseline_spikes(-300-0ms)": 17.882882882882885,
              "block_type": "Visual",
              "label_loc": 36.023102310231025,
              "uni_id": "Cl405-31-176t1"
             },
             {
              "baseline_spikes(-300-0ms)": 16.901041666666654,
              "block_type": "Whisker",
              "label_loc": 36.023102310231025,
              "uni_id": "Cl405-31-176t1"
             },
             {
              "baseline_spikes(-300-0ms)": 31.023102310231028,
              "block_type": "Visual",
              "label_loc": 36.023102310231025,
              "uni_id": "Cl406-02-174t2"
             },
             {
              "baseline_spikes(-300-0ms)": 29.713701431492836,
              "block_type": "Whisker",
              "label_loc": 36.023102310231025,
              "uni_id": "Cl406-02-174t2"
             },
             {
              "baseline_spikes(-300-0ms)": 16.23762376237624,
              "block_type": "Visual",
              "label_loc": 36.023102310231025,
              "uni_id": "Cl406-02-176t2"
             },
             {
              "baseline_spikes(-300-0ms)": 18.507157464212682,
              "block_type": "Whisker",
              "label_loc": 36.023102310231025,
              "uni_id": "Cl406-02-176t2"
             },
             {
              "baseline_spikes(-300-0ms)": 23.79537953795379,
              "block_type": "Visual",
              "label_loc": 36.023102310231025,
              "uni_id": "Cl406-02-177t3"
             },
             {
              "baseline_spikes(-300-0ms)": 26.728016359918204,
              "block_type": "Whisker",
              "label_loc": 36.023102310231025,
              "uni_id": "Cl406-02-177t3"
             },
             {
              "baseline_spikes(-300-0ms)": 10.238095238095235,
              "block_type": "Visual",
              "label_loc": 36.023102310231025,
              "uni_id": "Cl406-03-175t3"
             },
             {
              "baseline_spikes(-300-0ms)": 11.620795107033636,
              "block_type": "Whisker",
              "label_loc": 36.023102310231025,
              "uni_id": "Cl406-03-175t3"
             },
             {
              "baseline_spikes(-300-0ms)": 7.380952380952384,
              "block_type": "Visual",
              "label_loc": 36.023102310231025,
              "uni_id": "Cl406-03-176t1"
             },
             {
              "baseline_spikes(-300-0ms)": 6.697247706422018,
              "block_type": "Whisker",
              "label_loc": 36.023102310231025,
              "uni_id": "Cl406-03-176t1"
             },
             {
              "baseline_spikes(-300-0ms)": 9.326923076923068,
              "block_type": "Visual",
              "label_loc": 36.023102310231025,
              "uni_id": "Cl406-05-174t3"
             },
             {
              "baseline_spikes(-300-0ms)": 10.343434343434346,
              "block_type": "Whisker",
              "label_loc": 36.023102310231025,
              "uni_id": "Cl406-05-174t3"
             },
             {
              "baseline_spikes(-300-0ms)": 6.019900497512437,
              "block_type": "Visual",
              "label_loc": 36.023102310231025,
              "uni_id": "Cl406-08-175t2"
             },
             {
              "baseline_spikes(-300-0ms)": 6.4653243847874755,
              "block_type": "Whisker",
              "label_loc": 36.023102310231025,
              "uni_id": "Cl406-08-175t2"
             },
             {
              "baseline_spikes(-300-0ms)": 6.031746031746034,
              "block_type": "Visual",
              "label_loc": 36.023102310231025,
              "uni_id": "Cl406-09-175t2"
             },
             {
              "baseline_spikes(-300-0ms)": 6.876876876876879,
              "block_type": "Whisker",
              "label_loc": 36.023102310231025,
              "uni_id": "Cl406-09-175t2"
             },
             {
              "baseline_spikes(-300-0ms)": 13.03448275862069,
              "block_type": "Visual",
              "label_loc": 36.023102310231025,
              "uni_id": "Cl505-31-171t2"
             },
             {
              "baseline_spikes(-300-0ms)": 13.681592039800993,
              "block_type": "Whisker",
              "label_loc": 36.023102310231025,
              "uni_id": "Cl505-31-171t2"
             },
             {
              "baseline_spikes(-300-0ms)": 1.8390804597701147,
              "block_type": "Visual",
              "label_loc": 36.023102310231025,
              "uni_id": "Cl505-31-172t4"
             },
             {
              "baseline_spikes(-300-0ms)": 2.4875621890547266,
              "block_type": "Whisker",
              "label_loc": 36.023102310231025,
              "uni_id": "Cl505-31-172t4"
             },
             {
              "baseline_spikes(-300-0ms)": 5.044247787610619,
              "block_type": "Visual",
              "label_loc": 36.023102310231025,
              "uni_id": "Cl506-02-176t4"
             },
             {
              "baseline_spikes(-300-0ms)": 5.595238095238095,
              "block_type": "Whisker",
              "label_loc": 36.023102310231025,
              "uni_id": "Cl506-02-176t4"
             },
             {
              "baseline_spikes(-300-0ms)": 11.947791164658636,
              "block_type": "Visual",
              "label_loc": 36.023102310231025,
              "uni_id": "Cl506-04-174t1"
             },
             {
              "baseline_spikes(-300-0ms)": 12.557077625570773,
              "block_type": "Whisker",
              "label_loc": 36.023102310231025,
              "uni_id": "Cl506-04-174t1"
             },
             {
              "baseline_spikes(-300-0ms)": 21.56626506024095,
              "block_type": "Visual",
              "label_loc": 36.023102310231025,
              "uni_id": "Cl506-04-176t3"
             },
             {
              "baseline_spikes(-300-0ms)": 18.196347031963487,
              "block_type": "Whisker",
              "label_loc": 36.023102310231025,
              "uni_id": "Cl506-04-176t3"
             },
             {
              "baseline_spikes(-300-0ms)": 11.394799054373522,
              "block_type": "Visual",
              "label_loc": 36.023102310231025,
              "uni_id": "Cl506-09-172t1"
             },
             {
              "baseline_spikes(-300-0ms)": 13.568075117370894,
              "block_type": "Whisker",
              "label_loc": 36.023102310231025,
              "uni_id": "Cl506-09-172t1"
             },
             {
              "baseline_spikes(-300-0ms)": 10.303030303030303,
              "block_type": "Visual",
              "label_loc": 36.023102310231025,
              "uni_id": "Cl506-12-172t1"
             },
             {
              "baseline_spikes(-300-0ms)": 12.769230769230772,
              "block_type": "Whisker",
              "label_loc": 36.023102310231025,
              "uni_id": "Cl506-12-172t1"
             },
             {
              "baseline_spikes(-300-0ms)": 7.518796992481202,
              "block_type": "Visual",
              "label_loc": 36.023102310231025,
              "uni_id": "Cl610-26-175t1"
             },
             {
              "baseline_spikes(-300-0ms)": 6.467065868263472,
              "block_type": "Whisker",
              "label_loc": 36.023102310231025,
              "uni_id": "Cl610-26-175t1"
             },
             {
              "baseline_spikes(-300-0ms)": 8.983333333333334,
              "block_type": "Visual",
              "label_loc": 36.023102310231025,
              "uni_id": "Cl610-27-173t1"
             },
             {
              "baseline_spikes(-300-0ms)": 8.915662650602414,
              "block_type": "Whisker",
              "label_loc": 36.023102310231025,
              "uni_id": "Cl610-27-173t1"
             },
             {
              "baseline_spikes(-300-0ms)": 0.3166666666666667,
              "block_type": "Visual",
              "label_loc": 36.023102310231025,
              "uni_id": "Cl610-27-178t4"
             },
             {
              "baseline_spikes(-300-0ms)": 0.2008032128514056,
              "block_type": "Whisker",
              "label_loc": 36.023102310231025,
              "uni_id": "Cl610-27-178t4"
             }
            ]
           },
           "encoding": {
            "color": {
             "condition": {
              "field": "uni_id",
              "legend": {
               "title": " ",
               "values": []
              },
              "scale": {
               "range": [
                "steelblue"
               ]
              },
              "selection": "selector069",
              "type": "nominal"
             },
             "value": "lightgray"
            },
            "x": {
             "field": "block_type",
             "type": "nominal"
            },
            "y": {
             "field": "baseline_spikes(-300-0ms)",
             "type": "quantitative"
            }
           },
           "height": 300,
           "mark": "point",
           "selection": {
            "selector069": {
             "empty": "all",
             "encodings": [
              "color"
             ],
             "on": "click",
             "resolve": "global",
             "type": "single"
            },
            "selector070": {
             "bind": "scales",
             "encodings": [
              "x",
              "y"
             ],
             "mark": {
              "fill": "#333",
              "fillOpacity": 0.125,
              "stroke": "white"
             },
             "on": "[mousedown, window:mouseup] > window:mousemove!",
             "resolve": "global",
             "translate": "[mousedown, window:mouseup] > window:mousemove!",
             "type": "interval",
             "zoom": "wheel!"
            }
           },
           "width": 200
          },
          {
           "data": {
            "values": [
             {
              "baseline_spikes(-300-0ms)": 0.43715846994535523,
              "block_type": "Visual",
              "label_loc": 36.023102310231025,
              "uni_id": "Cl405-19-178t4"
             },
             {
              "baseline_spikes(-300-0ms)": 0.9817351598173518,
              "block_type": "Whisker",
              "label_loc": 36.023102310231025,
              "uni_id": "Cl405-19-178t4"
             },
             {
              "baseline_spikes(-300-0ms)": 7.0202020202020226,
              "block_type": "Visual",
              "label_loc": 36.023102310231025,
              "uni_id": "Cl405-23-177t4"
             },
             {
              "baseline_spikes(-300-0ms)": 6.999999999999998,
              "block_type": "Whisker",
              "label_loc": 36.023102310231025,
              "uni_id": "Cl405-23-177t4"
             },
             {
              "baseline_spikes(-300-0ms)": 3.9646464646464623,
              "block_type": "Visual",
              "label_loc": 36.023102310231025,
              "uni_id": "Cl405-23-178t1"
             },
             {
              "baseline_spikes(-300-0ms)": 4.104166666666667,
              "block_type": "Whisker",
              "label_loc": 36.023102310231025,
              "uni_id": "Cl405-23-178t1"
             },
             {
              "baseline_spikes(-300-0ms)": 18.61842105263158,
              "block_type": "Visual",
              "label_loc": 36.023102310231025,
              "uni_id": "Cl405-26-172t4"
             },
             {
              "baseline_spikes(-300-0ms)": 15.533333333333337,
              "block_type": "Whisker",
              "label_loc": 36.023102310231025,
              "uni_id": "Cl405-26-172t4"
             },
             {
              "baseline_spikes(-300-0ms)": 18.59649122807018,
              "block_type": "Visual",
              "label_loc": 36.023102310231025,
              "uni_id": "Cl405-26-178t1"
             },
             {
              "baseline_spikes(-300-0ms)": 21.699999999999996,
              "block_type": "Whisker",
              "label_loc": 36.023102310231025,
              "uni_id": "Cl405-26-178t1"
             },
             {
              "baseline_spikes(-300-0ms)": 17.882882882882885,
              "block_type": "Visual",
              "label_loc": 36.023102310231025,
              "uni_id": "Cl405-31-176t1"
             },
             {
              "baseline_spikes(-300-0ms)": 16.901041666666654,
              "block_type": "Whisker",
              "label_loc": 36.023102310231025,
              "uni_id": "Cl405-31-176t1"
             },
             {
              "baseline_spikes(-300-0ms)": 31.023102310231028,
              "block_type": "Visual",
              "label_loc": 36.023102310231025,
              "uni_id": "Cl406-02-174t2"
             },
             {
              "baseline_spikes(-300-0ms)": 29.713701431492836,
              "block_type": "Whisker",
              "label_loc": 36.023102310231025,
              "uni_id": "Cl406-02-174t2"
             },
             {
              "baseline_spikes(-300-0ms)": 16.23762376237624,
              "block_type": "Visual",
              "label_loc": 36.023102310231025,
              "uni_id": "Cl406-02-176t2"
             },
             {
              "baseline_spikes(-300-0ms)": 18.507157464212682,
              "block_type": "Whisker",
              "label_loc": 36.023102310231025,
              "uni_id": "Cl406-02-176t2"
             },
             {
              "baseline_spikes(-300-0ms)": 23.79537953795379,
              "block_type": "Visual",
              "label_loc": 36.023102310231025,
              "uni_id": "Cl406-02-177t3"
             },
             {
              "baseline_spikes(-300-0ms)": 26.728016359918204,
              "block_type": "Whisker",
              "label_loc": 36.023102310231025,
              "uni_id": "Cl406-02-177t3"
             },
             {
              "baseline_spikes(-300-0ms)": 10.238095238095235,
              "block_type": "Visual",
              "label_loc": 36.023102310231025,
              "uni_id": "Cl406-03-175t3"
             },
             {
              "baseline_spikes(-300-0ms)": 11.620795107033636,
              "block_type": "Whisker",
              "label_loc": 36.023102310231025,
              "uni_id": "Cl406-03-175t3"
             },
             {
              "baseline_spikes(-300-0ms)": 7.380952380952384,
              "block_type": "Visual",
              "label_loc": 36.023102310231025,
              "uni_id": "Cl406-03-176t1"
             },
             {
              "baseline_spikes(-300-0ms)": 6.697247706422018,
              "block_type": "Whisker",
              "label_loc": 36.023102310231025,
              "uni_id": "Cl406-03-176t1"
             },
             {
              "baseline_spikes(-300-0ms)": 9.326923076923068,
              "block_type": "Visual",
              "label_loc": 36.023102310231025,
              "uni_id": "Cl406-05-174t3"
             },
             {
              "baseline_spikes(-300-0ms)": 10.343434343434346,
              "block_type": "Whisker",
              "label_loc": 36.023102310231025,
              "uni_id": "Cl406-05-174t3"
             },
             {
              "baseline_spikes(-300-0ms)": 6.019900497512437,
              "block_type": "Visual",
              "label_loc": 36.023102310231025,
              "uni_id": "Cl406-08-175t2"
             },
             {
              "baseline_spikes(-300-0ms)": 6.4653243847874755,
              "block_type": "Whisker",
              "label_loc": 36.023102310231025,
              "uni_id": "Cl406-08-175t2"
             },
             {
              "baseline_spikes(-300-0ms)": 6.031746031746034,
              "block_type": "Visual",
              "label_loc": 36.023102310231025,
              "uni_id": "Cl406-09-175t2"
             },
             {
              "baseline_spikes(-300-0ms)": 6.876876876876879,
              "block_type": "Whisker",
              "label_loc": 36.023102310231025,
              "uni_id": "Cl406-09-175t2"
             },
             {
              "baseline_spikes(-300-0ms)": 13.03448275862069,
              "block_type": "Visual",
              "label_loc": 36.023102310231025,
              "uni_id": "Cl505-31-171t2"
             },
             {
              "baseline_spikes(-300-0ms)": 13.681592039800993,
              "block_type": "Whisker",
              "label_loc": 36.023102310231025,
              "uni_id": "Cl505-31-171t2"
             },
             {
              "baseline_spikes(-300-0ms)": 1.8390804597701147,
              "block_type": "Visual",
              "label_loc": 36.023102310231025,
              "uni_id": "Cl505-31-172t4"
             },
             {
              "baseline_spikes(-300-0ms)": 2.4875621890547266,
              "block_type": "Whisker",
              "label_loc": 36.023102310231025,
              "uni_id": "Cl505-31-172t4"
             },
             {
              "baseline_spikes(-300-0ms)": 5.044247787610619,
              "block_type": "Visual",
              "label_loc": 36.023102310231025,
              "uni_id": "Cl506-02-176t4"
             },
             {
              "baseline_spikes(-300-0ms)": 5.595238095238095,
              "block_type": "Whisker",
              "label_loc": 36.023102310231025,
              "uni_id": "Cl506-02-176t4"
             },
             {
              "baseline_spikes(-300-0ms)": 11.947791164658636,
              "block_type": "Visual",
              "label_loc": 36.023102310231025,
              "uni_id": "Cl506-04-174t1"
             },
             {
              "baseline_spikes(-300-0ms)": 12.557077625570773,
              "block_type": "Whisker",
              "label_loc": 36.023102310231025,
              "uni_id": "Cl506-04-174t1"
             },
             {
              "baseline_spikes(-300-0ms)": 21.56626506024095,
              "block_type": "Visual",
              "label_loc": 36.023102310231025,
              "uni_id": "Cl506-04-176t3"
             },
             {
              "baseline_spikes(-300-0ms)": 18.196347031963487,
              "block_type": "Whisker",
              "label_loc": 36.023102310231025,
              "uni_id": "Cl506-04-176t3"
             },
             {
              "baseline_spikes(-300-0ms)": 11.394799054373522,
              "block_type": "Visual",
              "label_loc": 36.023102310231025,
              "uni_id": "Cl506-09-172t1"
             },
             {
              "baseline_spikes(-300-0ms)": 13.568075117370894,
              "block_type": "Whisker",
              "label_loc": 36.023102310231025,
              "uni_id": "Cl506-09-172t1"
             },
             {
              "baseline_spikes(-300-0ms)": 10.303030303030303,
              "block_type": "Visual",
              "label_loc": 36.023102310231025,
              "uni_id": "Cl506-12-172t1"
             },
             {
              "baseline_spikes(-300-0ms)": 12.769230769230772,
              "block_type": "Whisker",
              "label_loc": 36.023102310231025,
              "uni_id": "Cl506-12-172t1"
             },
             {
              "baseline_spikes(-300-0ms)": 7.518796992481202,
              "block_type": "Visual",
              "label_loc": 36.023102310231025,
              "uni_id": "Cl610-26-175t1"
             },
             {
              "baseline_spikes(-300-0ms)": 6.467065868263472,
              "block_type": "Whisker",
              "label_loc": 36.023102310231025,
              "uni_id": "Cl610-26-175t1"
             },
             {
              "baseline_spikes(-300-0ms)": 8.983333333333334,
              "block_type": "Visual",
              "label_loc": 36.023102310231025,
              "uni_id": "Cl610-27-173t1"
             },
             {
              "baseline_spikes(-300-0ms)": 8.915662650602414,
              "block_type": "Whisker",
              "label_loc": 36.023102310231025,
              "uni_id": "Cl610-27-173t1"
             },
             {
              "baseline_spikes(-300-0ms)": 0.3166666666666667,
              "block_type": "Visual",
              "label_loc": 36.023102310231025,
              "uni_id": "Cl610-27-178t4"
             },
             {
              "baseline_spikes(-300-0ms)": 0.2008032128514056,
              "block_type": "Whisker",
              "label_loc": 36.023102310231025,
              "uni_id": "Cl610-27-178t4"
             }
            ]
           },
           "encoding": {
            "color": {
             "condition": {
              "field": "uni_id",
              "scale": {
               "range": [
                "steelblue"
               ]
              },
              "selection": "selector069",
              "type": "nominal"
             },
             "value": "lightgray"
            },
            "x": {
             "field": "block_type",
             "type": "nominal"
            },
            "y": {
             "field": "baseline_spikes(-300-0ms)",
             "type": "quantitative"
            }
           },
           "height": 300,
           "mark": "line",
           "width": 200
          },
          {
           "data": {
            "values": [
             {
              "baseline_spikes(-300-0ms)": 0.43715846994535523,
              "block_type": "Visual",
              "label_loc": 36.023102310231025,
              "uni_id": "Cl405-19-178t4"
             },
             {
              "baseline_spikes(-300-0ms)": 0.9817351598173518,
              "block_type": "Whisker",
              "label_loc": 36.023102310231025,
              "uni_id": "Cl405-19-178t4"
             },
             {
              "baseline_spikes(-300-0ms)": 7.0202020202020226,
              "block_type": "Visual",
              "label_loc": 36.023102310231025,
              "uni_id": "Cl405-23-177t4"
             },
             {
              "baseline_spikes(-300-0ms)": 6.999999999999998,
              "block_type": "Whisker",
              "label_loc": 36.023102310231025,
              "uni_id": "Cl405-23-177t4"
             },
             {
              "baseline_spikes(-300-0ms)": 3.9646464646464623,
              "block_type": "Visual",
              "label_loc": 36.023102310231025,
              "uni_id": "Cl405-23-178t1"
             },
             {
              "baseline_spikes(-300-0ms)": 4.104166666666667,
              "block_type": "Whisker",
              "label_loc": 36.023102310231025,
              "uni_id": "Cl405-23-178t1"
             },
             {
              "baseline_spikes(-300-0ms)": 18.61842105263158,
              "block_type": "Visual",
              "label_loc": 36.023102310231025,
              "uni_id": "Cl405-26-172t4"
             },
             {
              "baseline_spikes(-300-0ms)": 15.533333333333337,
              "block_type": "Whisker",
              "label_loc": 36.023102310231025,
              "uni_id": "Cl405-26-172t4"
             },
             {
              "baseline_spikes(-300-0ms)": 18.59649122807018,
              "block_type": "Visual",
              "label_loc": 36.023102310231025,
              "uni_id": "Cl405-26-178t1"
             },
             {
              "baseline_spikes(-300-0ms)": 21.699999999999996,
              "block_type": "Whisker",
              "label_loc": 36.023102310231025,
              "uni_id": "Cl405-26-178t1"
             },
             {
              "baseline_spikes(-300-0ms)": 17.882882882882885,
              "block_type": "Visual",
              "label_loc": 36.023102310231025,
              "uni_id": "Cl405-31-176t1"
             },
             {
              "baseline_spikes(-300-0ms)": 16.901041666666654,
              "block_type": "Whisker",
              "label_loc": 36.023102310231025,
              "uni_id": "Cl405-31-176t1"
             },
             {
              "baseline_spikes(-300-0ms)": 31.023102310231028,
              "block_type": "Visual",
              "label_loc": 36.023102310231025,
              "uni_id": "Cl406-02-174t2"
             },
             {
              "baseline_spikes(-300-0ms)": 29.713701431492836,
              "block_type": "Whisker",
              "label_loc": 36.023102310231025,
              "uni_id": "Cl406-02-174t2"
             },
             {
              "baseline_spikes(-300-0ms)": 16.23762376237624,
              "block_type": "Visual",
              "label_loc": 36.023102310231025,
              "uni_id": "Cl406-02-176t2"
             },
             {
              "baseline_spikes(-300-0ms)": 18.507157464212682,
              "block_type": "Whisker",
              "label_loc": 36.023102310231025,
              "uni_id": "Cl406-02-176t2"
             },
             {
              "baseline_spikes(-300-0ms)": 23.79537953795379,
              "block_type": "Visual",
              "label_loc": 36.023102310231025,
              "uni_id": "Cl406-02-177t3"
             },
             {
              "baseline_spikes(-300-0ms)": 26.728016359918204,
              "block_type": "Whisker",
              "label_loc": 36.023102310231025,
              "uni_id": "Cl406-02-177t3"
             },
             {
              "baseline_spikes(-300-0ms)": 10.238095238095235,
              "block_type": "Visual",
              "label_loc": 36.023102310231025,
              "uni_id": "Cl406-03-175t3"
             },
             {
              "baseline_spikes(-300-0ms)": 11.620795107033636,
              "block_type": "Whisker",
              "label_loc": 36.023102310231025,
              "uni_id": "Cl406-03-175t3"
             },
             {
              "baseline_spikes(-300-0ms)": 7.380952380952384,
              "block_type": "Visual",
              "label_loc": 36.023102310231025,
              "uni_id": "Cl406-03-176t1"
             },
             {
              "baseline_spikes(-300-0ms)": 6.697247706422018,
              "block_type": "Whisker",
              "label_loc": 36.023102310231025,
              "uni_id": "Cl406-03-176t1"
             },
             {
              "baseline_spikes(-300-0ms)": 9.326923076923068,
              "block_type": "Visual",
              "label_loc": 36.023102310231025,
              "uni_id": "Cl406-05-174t3"
             },
             {
              "baseline_spikes(-300-0ms)": 10.343434343434346,
              "block_type": "Whisker",
              "label_loc": 36.023102310231025,
              "uni_id": "Cl406-05-174t3"
             },
             {
              "baseline_spikes(-300-0ms)": 6.019900497512437,
              "block_type": "Visual",
              "label_loc": 36.023102310231025,
              "uni_id": "Cl406-08-175t2"
             },
             {
              "baseline_spikes(-300-0ms)": 6.4653243847874755,
              "block_type": "Whisker",
              "label_loc": 36.023102310231025,
              "uni_id": "Cl406-08-175t2"
             },
             {
              "baseline_spikes(-300-0ms)": 6.031746031746034,
              "block_type": "Visual",
              "label_loc": 36.023102310231025,
              "uni_id": "Cl406-09-175t2"
             },
             {
              "baseline_spikes(-300-0ms)": 6.876876876876879,
              "block_type": "Whisker",
              "label_loc": 36.023102310231025,
              "uni_id": "Cl406-09-175t2"
             },
             {
              "baseline_spikes(-300-0ms)": 13.03448275862069,
              "block_type": "Visual",
              "label_loc": 36.023102310231025,
              "uni_id": "Cl505-31-171t2"
             },
             {
              "baseline_spikes(-300-0ms)": 13.681592039800993,
              "block_type": "Whisker",
              "label_loc": 36.023102310231025,
              "uni_id": "Cl505-31-171t2"
             },
             {
              "baseline_spikes(-300-0ms)": 1.8390804597701147,
              "block_type": "Visual",
              "label_loc": 36.023102310231025,
              "uni_id": "Cl505-31-172t4"
             },
             {
              "baseline_spikes(-300-0ms)": 2.4875621890547266,
              "block_type": "Whisker",
              "label_loc": 36.023102310231025,
              "uni_id": "Cl505-31-172t4"
             },
             {
              "baseline_spikes(-300-0ms)": 5.044247787610619,
              "block_type": "Visual",
              "label_loc": 36.023102310231025,
              "uni_id": "Cl506-02-176t4"
             },
             {
              "baseline_spikes(-300-0ms)": 5.595238095238095,
              "block_type": "Whisker",
              "label_loc": 36.023102310231025,
              "uni_id": "Cl506-02-176t4"
             },
             {
              "baseline_spikes(-300-0ms)": 11.947791164658636,
              "block_type": "Visual",
              "label_loc": 36.023102310231025,
              "uni_id": "Cl506-04-174t1"
             },
             {
              "baseline_spikes(-300-0ms)": 12.557077625570773,
              "block_type": "Whisker",
              "label_loc": 36.023102310231025,
              "uni_id": "Cl506-04-174t1"
             },
             {
              "baseline_spikes(-300-0ms)": 21.56626506024095,
              "block_type": "Visual",
              "label_loc": 36.023102310231025,
              "uni_id": "Cl506-04-176t3"
             },
             {
              "baseline_spikes(-300-0ms)": 18.196347031963487,
              "block_type": "Whisker",
              "label_loc": 36.023102310231025,
              "uni_id": "Cl506-04-176t3"
             },
             {
              "baseline_spikes(-300-0ms)": 11.394799054373522,
              "block_type": "Visual",
              "label_loc": 36.023102310231025,
              "uni_id": "Cl506-09-172t1"
             },
             {
              "baseline_spikes(-300-0ms)": 13.568075117370894,
              "block_type": "Whisker",
              "label_loc": 36.023102310231025,
              "uni_id": "Cl506-09-172t1"
             },
             {
              "baseline_spikes(-300-0ms)": 10.303030303030303,
              "block_type": "Visual",
              "label_loc": 36.023102310231025,
              "uni_id": "Cl506-12-172t1"
             },
             {
              "baseline_spikes(-300-0ms)": 12.769230769230772,
              "block_type": "Whisker",
              "label_loc": 36.023102310231025,
              "uni_id": "Cl506-12-172t1"
             },
             {
              "baseline_spikes(-300-0ms)": 7.518796992481202,
              "block_type": "Visual",
              "label_loc": 36.023102310231025,
              "uni_id": "Cl610-26-175t1"
             },
             {
              "baseline_spikes(-300-0ms)": 6.467065868263472,
              "block_type": "Whisker",
              "label_loc": 36.023102310231025,
              "uni_id": "Cl610-26-175t1"
             },
             {
              "baseline_spikes(-300-0ms)": 8.983333333333334,
              "block_type": "Visual",
              "label_loc": 36.023102310231025,
              "uni_id": "Cl610-27-173t1"
             },
             {
              "baseline_spikes(-300-0ms)": 8.915662650602414,
              "block_type": "Whisker",
              "label_loc": 36.023102310231025,
              "uni_id": "Cl610-27-173t1"
             },
             {
              "baseline_spikes(-300-0ms)": 0.3166666666666667,
              "block_type": "Visual",
              "label_loc": 36.023102310231025,
              "uni_id": "Cl610-27-178t4"
             },
             {
              "baseline_spikes(-300-0ms)": 0.2008032128514056,
              "block_type": "Whisker",
              "label_loc": 36.023102310231025,
              "uni_id": "Cl610-27-178t4"
             }
            ]
           },
           "encoding": {
            "text": {
             "condition": {
              "field": "uni_id",
              "selection": "selector069",
              "type": "nominal"
             },
             "value": " "
            },
            "y": {
             "field": "label_loc",
             "type": "quantitative"
            }
           },
           "mark": {
            "align": "left",
            "dx": 5,
            "dy": -0.5,
            "font": "Arial",
            "type": "text"
           }
          }
         ]
        },
        {
         "layer": [
          {
           "data": {
            "values": [
             {
              "stim_spikes(0-150ms)": 0.3674540682414698,
              "trial_type": "Stim_Som_NoCue",
              "uni_id": "Cl405-19-178t4"
             },
             {
              "stim_spikes(0-150ms)": 0.6619385342789599,
              "trial_type": "Stim_Vis_NoCue",
              "uni_id": "Cl405-19-178t4"
             },
             {
              "stim_spikes(0-150ms)": 13.771929824561411,
              "trial_type": "Stim_Som_NoCue",
              "uni_id": "Cl405-23-177t4"
             },
             {
              "stim_spikes(0-150ms)": 8.476190476190474,
              "trial_type": "Stim_Vis_NoCue",
              "uni_id": "Cl405-23-177t4"
             },
             {
              "stim_spikes(0-150ms)": 5.263157894736842,
              "trial_type": "Stim_Som_NoCue",
              "uni_id": "Cl405-23-178t1"
             },
             {
              "stim_spikes(0-150ms)": 4.57142857142857,
              "trial_type": "Stim_Vis_NoCue",
              "uni_id": "Cl405-23-178t1"
             },
             {
              "stim_spikes(0-150ms)": 18.746867167919792,
              "trial_type": "Stim_Som_NoCue",
              "uni_id": "Cl405-26-172t4"
             },
             {
              "stim_spikes(0-150ms)": 15.350140056022406,
              "trial_type": "Stim_Vis_NoCue",
              "uni_id": "Cl405-26-172t4"
             },
             {
              "stim_spikes(0-150ms)": 22.656641604010026,
              "trial_type": "Stim_Som_NoCue",
              "uni_id": "Cl405-26-178t1"
             },
             {
              "stim_spikes(0-150ms)": 20.28011204481793,
              "trial_type": "Stim_Vis_NoCue",
              "uni_id": "Cl405-26-178t1"
             },
             {
              "stim_spikes(0-150ms)": 16.058394160583948,
              "trial_type": "Stim_Som_NoCue",
              "uni_id": "Cl405-31-176t1"
             },
             {
              "stim_spikes(0-150ms)": 17.64988009592327,
              "trial_type": "Stim_Vis_NoCue",
              "uni_id": "Cl405-31-176t1"
             },
             {
              "stim_spikes(0-150ms)": 32.805755395683434,
              "trial_type": "Stim_Som_NoCue",
              "uni_id": "Cl406-02-174t2"
             },
             {
              "stim_spikes(0-150ms)": 30.720000000000002,
              "trial_type": "Stim_Vis_NoCue",
              "uni_id": "Cl406-02-174t2"
             },
             {
              "stim_spikes(0-150ms)": 19.088729016786576,
              "trial_type": "Stim_Som_NoCue",
              "uni_id": "Cl406-02-176t2"
             },
             {
              "stim_spikes(0-150ms)": 18.346666666666668,
              "trial_type": "Stim_Vis_NoCue",
              "uni_id": "Cl406-02-176t2"
             },
             {
              "stim_spikes(0-150ms)": 30.45563549160672,
              "trial_type": "Stim_Som_NoCue",
              "uni_id": "Cl406-02-177t3"
             },
             {
              "stim_spikes(0-150ms)": 26.77333333333334,
              "trial_type": "Stim_Vis_NoCue",
              "uni_id": "Cl406-02-177t3"
             },
             {
              "stim_spikes(0-150ms)": 16.560846560846567,
              "trial_type": "Stim_Som_NoCue",
              "uni_id": "Cl406-03-175t3"
             },
             {
              "stim_spikes(0-150ms)": 11.192214111922146,
              "trial_type": "Stim_Vis_NoCue",
              "uni_id": "Cl406-03-175t3"
             },
             {
              "stim_spikes(0-150ms)": 7.142857142857144,
              "trial_type": "Stim_Som_NoCue",
              "uni_id": "Cl406-03-176t1"
             },
             {
              "stim_spikes(0-150ms)": 6.763990267639902,
              "trial_type": "Stim_Vis_NoCue",
              "uni_id": "Cl406-03-176t1"
             },
             {
              "stim_spikes(0-150ms)": 17.07070707070707,
              "trial_type": "Stim_Som_NoCue",
              "uni_id": "Cl406-05-174t3"
             },
             {
              "stim_spikes(0-150ms)": 11.28953771289537,
              "trial_type": "Stim_Vis_NoCue",
              "uni_id": "Cl406-05-174t3"
             },
             {
              "stim_spikes(0-150ms)": 11.909385113268609,
              "trial_type": "Stim_Som_NoCue",
              "uni_id": "Cl406-08-175t2"
             },
             {
              "stim_spikes(0-150ms)": 8.082595870206484,
              "trial_type": "Stim_Vis_NoCue",
              "uni_id": "Cl406-08-175t2"
             },
             {
              "stim_spikes(0-150ms)": 9.016393442622947,
              "trial_type": "Stim_Som_NoCue",
              "uni_id": "Cl406-09-175t2"
             },
             {
              "stim_spikes(0-150ms)": 7.401960784313728,
              "trial_type": "Stim_Vis_NoCue",
              "uni_id": "Cl406-09-175t2"
             },
             {
              "stim_spikes(0-150ms)": 14.074074074074085,
              "trial_type": "Stim_Som_NoCue",
              "uni_id": "Cl505-31-171t2"
             },
             {
              "stim_spikes(0-150ms)": 12.491228070175435,
              "trial_type": "Stim_Vis_NoCue",
              "uni_id": "Cl505-31-171t2"
             },
             {
              "stim_spikes(0-150ms)": 2.45014245014245,
              "trial_type": "Stim_Som_NoCue",
              "uni_id": "Cl505-31-172t4"
             },
             {
              "stim_spikes(0-150ms)": 2.1754385964912277,
              "trial_type": "Stim_Vis_NoCue",
              "uni_id": "Cl505-31-172t4"
             },
             {
              "stim_spikes(0-150ms)": 7.304964539007091,
              "trial_type": "Stim_Som_NoCue",
              "uni_id": "Cl506-02-176t4"
             },
             {
              "stim_spikes(0-150ms)": 5.6957928802589,
              "trial_type": "Stim_Vis_NoCue",
              "uni_id": "Cl506-02-176t4"
             },
             {
              "stim_spikes(0-150ms)": 9.230769230769239,
              "trial_type": "Stim_Som_NoCue",
              "uni_id": "Cl506-04-174t1"
             },
             {
              "stim_spikes(0-150ms)": 10.04273504273504,
              "trial_type": "Stim_Vis_NoCue",
              "uni_id": "Cl506-04-174t1"
             },
             {
              "stim_spikes(0-150ms)": 27.52136752136752,
              "trial_type": "Stim_Som_NoCue",
              "uni_id": "Cl506-04-176t3"
             },
             {
              "stim_spikes(0-150ms)": 21.367521367521363,
              "trial_type": "Stim_Vis_NoCue",
              "uni_id": "Cl506-04-176t3"
             },
             {
              "stim_spikes(0-150ms)": 11.1264367816092,
              "trial_type": "Stim_Som_NoCue",
              "uni_id": "Cl506-09-172t1"
             },
             {
              "stim_spikes(0-150ms)": 13.28502415458938,
              "trial_type": "Stim_Vis_NoCue",
              "uni_id": "Cl506-09-172t1"
             },
             {
              "stim_spikes(0-150ms)": 11.419753086419755,
              "trial_type": "Stim_Som_NoCue",
              "uni_id": "Cl506-12-172t1"
             },
             {
              "stim_spikes(0-150ms)": 10.450450450450454,
              "trial_type": "Stim_Vis_NoCue",
              "uni_id": "Cl506-12-172t1"
             },
             {
              "stim_spikes(0-150ms)": 8.310502283105023,
              "trial_type": "Stim_Som_NoCue",
              "uni_id": "Cl610-26-175t1"
             },
             {
              "stim_spikes(0-150ms)": 6.190476190476188,
              "trial_type": "Stim_Vis_NoCue",
              "uni_id": "Cl610-26-175t1"
             },
             {
              "stim_spikes(0-150ms)": 10.07662835249042,
              "trial_type": "Stim_Som_NoCue",
              "uni_id": "Cl610-27-173t1"
             },
             {
              "stim_spikes(0-150ms)": 9.201388888888895,
              "trial_type": "Stim_Vis_NoCue",
              "uni_id": "Cl610-27-173t1"
             },
             {
              "stim_spikes(0-150ms)": 0.11494252873563218,
              "trial_type": "Stim_Som_NoCue",
              "uni_id": "Cl610-27-178t4"
             },
             {
              "stim_spikes(0-150ms)": 0.4166666666666667,
              "trial_type": "Stim_Vis_NoCue",
              "uni_id": "Cl610-27-178t4"
             },
             {
              "stim_spikes(0-150ms)": 0.8208955223880596,
              "trial_type": "baseline",
              "uni_id": "Cl405-19-178t4"
             },
             {
              "stim_spikes(0-150ms)": 7.0319634703196385,
              "trial_type": "baseline",
              "uni_id": "Cl405-23-177t4"
             },
             {
              "stim_spikes(0-150ms)": 3.789954337899543,
              "trial_type": "baseline",
              "uni_id": "Cl405-23-178t1"
             },
             {
              "stim_spikes(0-150ms)": 17.592592592592588,
              "trial_type": "baseline",
              "uni_id": "Cl405-26-172t4"
             },
             {
              "stim_spikes(0-150ms)": 20.158730158730144,
              "trial_type": "baseline",
              "uni_id": "Cl405-26-178t1"
             },
             {
              "stim_spikes(0-150ms)": 17.51207729468601,
              "trial_type": "baseline",
              "uni_id": "Cl405-31-176t1"
             },
             {
              "stim_spikes(0-150ms)": 30.50505050505051,
              "trial_type": "baseline",
              "uni_id": "Cl406-02-174t2"
             },
             {
              "stim_spikes(0-150ms)": 18.308080808080778,
              "trial_type": "baseline",
              "uni_id": "Cl406-02-176t2"
             },
             {
              "stim_spikes(0-150ms)": 25.707070707070706,
              "trial_type": "baseline",
              "uni_id": "Cl406-02-177t3"
             },
             {
              "stim_spikes(0-150ms)": 10.367553865652717,
              "trial_type": "baseline",
              "uni_id": "Cl406-03-175t3"
             },
             {
              "stim_spikes(0-150ms)": 7.427122940430927,
              "trial_type": "baseline",
              "uni_id": "Cl406-03-176t1"
             },
             {
              "stim_spikes(0-150ms)": 10.185873605947963,
              "trial_type": "baseline",
              "uni_id": "Cl406-05-174t3"
             },
             {
              "stim_spikes(0-150ms)": 6.2962962962962985,
              "trial_type": "baseline",
              "uni_id": "Cl406-08-175t2"
             },
             {
              "stim_spikes(0-150ms)": 6.227390180878554,
              "trial_type": "baseline",
              "uni_id": "Cl406-09-175t2"
             },
             {
              "stim_spikes(0-150ms)": 13.333333333333329,
              "trial_type": "baseline",
              "uni_id": "Cl505-31-171t2"
             },
             {
              "stim_spikes(0-150ms)": 2.044025157232705,
              "trial_type": "baseline",
              "uni_id": "Cl505-31-172t4"
             },
             {
              "stim_spikes(0-150ms)": 5.549915397631131,
              "trial_type": "baseline",
              "uni_id": "Cl506-02-176t4"
             },
             {
              "stim_spikes(0-150ms)": 12.15811965811965,
              "trial_type": "baseline",
              "uni_id": "Cl506-04-174t1"
             },
             {
              "stim_spikes(0-150ms)": 19.89316239316241,
              "trial_type": "baseline",
              "uni_id": "Cl506-04-176t3"
             },
             {
              "stim_spikes(0-150ms)": 12.838633686690216,
              "trial_type": "baseline",
              "uni_id": "Cl506-09-172t1"
             },
             {
              "stim_spikes(0-150ms)": 11.111111111111105,
              "trial_type": "baseline",
              "uni_id": "Cl506-12-172t1"
             },
             {
              "stim_spikes(0-150ms)": 6.844444444444451,
              "trial_type": "baseline",
              "uni_id": "Cl610-26-175t1"
             },
             {
              "stim_spikes(0-150ms)": 8.907103825136604,
              "trial_type": "baseline",
              "uni_id": "Cl610-27-173t1"
             },
             {
              "stim_spikes(0-150ms)": 0.3096539162112933,
              "trial_type": "baseline",
              "uni_id": "Cl610-27-178t4"
             }
            ]
           },
           "encoding": {
            "color": {
             "condition": {
              "field": "uni_id",
              "selection": "selector069",
              "type": "nominal"
             },
             "value": "lightgray"
            },
            "x": {
             "field": "trial_type",
             "type": "nominal"
            },
            "y": {
             "field": "stim_spikes(0-150ms)",
             "type": "quantitative"
            }
           },
           "height": 300,
           "mark": "point",
           "selection": {
            "selector069": {
             "empty": "all",
             "encodings": [
              "color"
             ],
             "on": "click",
             "resolve": "global",
             "type": "single"
            },
            "selector071": {
             "bind": "scales",
             "encodings": [
              "x",
              "y"
             ],
             "mark": {
              "fill": "#333",
              "fillOpacity": 0.125,
              "stroke": "white"
             },
             "on": "[mousedown, window:mouseup] > window:mousemove!",
             "resolve": "global",
             "translate": "[mousedown, window:mouseup] > window:mousemove!",
             "type": "interval",
             "zoom": "wheel!"
            }
           },
           "width": 200
          },
          {
           "data": {
            "values": [
             {
              "stim_spikes(0-150ms)": 0.3674540682414698,
              "trial_type": "Stim_Som_NoCue",
              "uni_id": "Cl405-19-178t4"
             },
             {
              "stim_spikes(0-150ms)": 0.6619385342789599,
              "trial_type": "Stim_Vis_NoCue",
              "uni_id": "Cl405-19-178t4"
             },
             {
              "stim_spikes(0-150ms)": 13.771929824561411,
              "trial_type": "Stim_Som_NoCue",
              "uni_id": "Cl405-23-177t4"
             },
             {
              "stim_spikes(0-150ms)": 8.476190476190474,
              "trial_type": "Stim_Vis_NoCue",
              "uni_id": "Cl405-23-177t4"
             },
             {
              "stim_spikes(0-150ms)": 5.263157894736842,
              "trial_type": "Stim_Som_NoCue",
              "uni_id": "Cl405-23-178t1"
             },
             {
              "stim_spikes(0-150ms)": 4.57142857142857,
              "trial_type": "Stim_Vis_NoCue",
              "uni_id": "Cl405-23-178t1"
             },
             {
              "stim_spikes(0-150ms)": 18.746867167919792,
              "trial_type": "Stim_Som_NoCue",
              "uni_id": "Cl405-26-172t4"
             },
             {
              "stim_spikes(0-150ms)": 15.350140056022406,
              "trial_type": "Stim_Vis_NoCue",
              "uni_id": "Cl405-26-172t4"
             },
             {
              "stim_spikes(0-150ms)": 22.656641604010026,
              "trial_type": "Stim_Som_NoCue",
              "uni_id": "Cl405-26-178t1"
             },
             {
              "stim_spikes(0-150ms)": 20.28011204481793,
              "trial_type": "Stim_Vis_NoCue",
              "uni_id": "Cl405-26-178t1"
             },
             {
              "stim_spikes(0-150ms)": 16.058394160583948,
              "trial_type": "Stim_Som_NoCue",
              "uni_id": "Cl405-31-176t1"
             },
             {
              "stim_spikes(0-150ms)": 17.64988009592327,
              "trial_type": "Stim_Vis_NoCue",
              "uni_id": "Cl405-31-176t1"
             },
             {
              "stim_spikes(0-150ms)": 32.805755395683434,
              "trial_type": "Stim_Som_NoCue",
              "uni_id": "Cl406-02-174t2"
             },
             {
              "stim_spikes(0-150ms)": 30.720000000000002,
              "trial_type": "Stim_Vis_NoCue",
              "uni_id": "Cl406-02-174t2"
             },
             {
              "stim_spikes(0-150ms)": 19.088729016786576,
              "trial_type": "Stim_Som_NoCue",
              "uni_id": "Cl406-02-176t2"
             },
             {
              "stim_spikes(0-150ms)": 18.346666666666668,
              "trial_type": "Stim_Vis_NoCue",
              "uni_id": "Cl406-02-176t2"
             },
             {
              "stim_spikes(0-150ms)": 30.45563549160672,
              "trial_type": "Stim_Som_NoCue",
              "uni_id": "Cl406-02-177t3"
             },
             {
              "stim_spikes(0-150ms)": 26.77333333333334,
              "trial_type": "Stim_Vis_NoCue",
              "uni_id": "Cl406-02-177t3"
             },
             {
              "stim_spikes(0-150ms)": 16.560846560846567,
              "trial_type": "Stim_Som_NoCue",
              "uni_id": "Cl406-03-175t3"
             },
             {
              "stim_spikes(0-150ms)": 11.192214111922146,
              "trial_type": "Stim_Vis_NoCue",
              "uni_id": "Cl406-03-175t3"
             },
             {
              "stim_spikes(0-150ms)": 7.142857142857144,
              "trial_type": "Stim_Som_NoCue",
              "uni_id": "Cl406-03-176t1"
             },
             {
              "stim_spikes(0-150ms)": 6.763990267639902,
              "trial_type": "Stim_Vis_NoCue",
              "uni_id": "Cl406-03-176t1"
             },
             {
              "stim_spikes(0-150ms)": 17.07070707070707,
              "trial_type": "Stim_Som_NoCue",
              "uni_id": "Cl406-05-174t3"
             },
             {
              "stim_spikes(0-150ms)": 11.28953771289537,
              "trial_type": "Stim_Vis_NoCue",
              "uni_id": "Cl406-05-174t3"
             },
             {
              "stim_spikes(0-150ms)": 11.909385113268609,
              "trial_type": "Stim_Som_NoCue",
              "uni_id": "Cl406-08-175t2"
             },
             {
              "stim_spikes(0-150ms)": 8.082595870206484,
              "trial_type": "Stim_Vis_NoCue",
              "uni_id": "Cl406-08-175t2"
             },
             {
              "stim_spikes(0-150ms)": 9.016393442622947,
              "trial_type": "Stim_Som_NoCue",
              "uni_id": "Cl406-09-175t2"
             },
             {
              "stim_spikes(0-150ms)": 7.401960784313728,
              "trial_type": "Stim_Vis_NoCue",
              "uni_id": "Cl406-09-175t2"
             },
             {
              "stim_spikes(0-150ms)": 14.074074074074085,
              "trial_type": "Stim_Som_NoCue",
              "uni_id": "Cl505-31-171t2"
             },
             {
              "stim_spikes(0-150ms)": 12.491228070175435,
              "trial_type": "Stim_Vis_NoCue",
              "uni_id": "Cl505-31-171t2"
             },
             {
              "stim_spikes(0-150ms)": 2.45014245014245,
              "trial_type": "Stim_Som_NoCue",
              "uni_id": "Cl505-31-172t4"
             },
             {
              "stim_spikes(0-150ms)": 2.1754385964912277,
              "trial_type": "Stim_Vis_NoCue",
              "uni_id": "Cl505-31-172t4"
             },
             {
              "stim_spikes(0-150ms)": 7.304964539007091,
              "trial_type": "Stim_Som_NoCue",
              "uni_id": "Cl506-02-176t4"
             },
             {
              "stim_spikes(0-150ms)": 5.6957928802589,
              "trial_type": "Stim_Vis_NoCue",
              "uni_id": "Cl506-02-176t4"
             },
             {
              "stim_spikes(0-150ms)": 9.230769230769239,
              "trial_type": "Stim_Som_NoCue",
              "uni_id": "Cl506-04-174t1"
             },
             {
              "stim_spikes(0-150ms)": 10.04273504273504,
              "trial_type": "Stim_Vis_NoCue",
              "uni_id": "Cl506-04-174t1"
             },
             {
              "stim_spikes(0-150ms)": 27.52136752136752,
              "trial_type": "Stim_Som_NoCue",
              "uni_id": "Cl506-04-176t3"
             },
             {
              "stim_spikes(0-150ms)": 21.367521367521363,
              "trial_type": "Stim_Vis_NoCue",
              "uni_id": "Cl506-04-176t3"
             },
             {
              "stim_spikes(0-150ms)": 11.1264367816092,
              "trial_type": "Stim_Som_NoCue",
              "uni_id": "Cl506-09-172t1"
             },
             {
              "stim_spikes(0-150ms)": 13.28502415458938,
              "trial_type": "Stim_Vis_NoCue",
              "uni_id": "Cl506-09-172t1"
             },
             {
              "stim_spikes(0-150ms)": 11.419753086419755,
              "trial_type": "Stim_Som_NoCue",
              "uni_id": "Cl506-12-172t1"
             },
             {
              "stim_spikes(0-150ms)": 10.450450450450454,
              "trial_type": "Stim_Vis_NoCue",
              "uni_id": "Cl506-12-172t1"
             },
             {
              "stim_spikes(0-150ms)": 8.310502283105023,
              "trial_type": "Stim_Som_NoCue",
              "uni_id": "Cl610-26-175t1"
             },
             {
              "stim_spikes(0-150ms)": 6.190476190476188,
              "trial_type": "Stim_Vis_NoCue",
              "uni_id": "Cl610-26-175t1"
             },
             {
              "stim_spikes(0-150ms)": 10.07662835249042,
              "trial_type": "Stim_Som_NoCue",
              "uni_id": "Cl610-27-173t1"
             },
             {
              "stim_spikes(0-150ms)": 9.201388888888895,
              "trial_type": "Stim_Vis_NoCue",
              "uni_id": "Cl610-27-173t1"
             },
             {
              "stim_spikes(0-150ms)": 0.11494252873563218,
              "trial_type": "Stim_Som_NoCue",
              "uni_id": "Cl610-27-178t4"
             },
             {
              "stim_spikes(0-150ms)": 0.4166666666666667,
              "trial_type": "Stim_Vis_NoCue",
              "uni_id": "Cl610-27-178t4"
             },
             {
              "stim_spikes(0-150ms)": 0.8208955223880596,
              "trial_type": "baseline",
              "uni_id": "Cl405-19-178t4"
             },
             {
              "stim_spikes(0-150ms)": 7.0319634703196385,
              "trial_type": "baseline",
              "uni_id": "Cl405-23-177t4"
             },
             {
              "stim_spikes(0-150ms)": 3.789954337899543,
              "trial_type": "baseline",
              "uni_id": "Cl405-23-178t1"
             },
             {
              "stim_spikes(0-150ms)": 17.592592592592588,
              "trial_type": "baseline",
              "uni_id": "Cl405-26-172t4"
             },
             {
              "stim_spikes(0-150ms)": 20.158730158730144,
              "trial_type": "baseline",
              "uni_id": "Cl405-26-178t1"
             },
             {
              "stim_spikes(0-150ms)": 17.51207729468601,
              "trial_type": "baseline",
              "uni_id": "Cl405-31-176t1"
             },
             {
              "stim_spikes(0-150ms)": 30.50505050505051,
              "trial_type": "baseline",
              "uni_id": "Cl406-02-174t2"
             },
             {
              "stim_spikes(0-150ms)": 18.308080808080778,
              "trial_type": "baseline",
              "uni_id": "Cl406-02-176t2"
             },
             {
              "stim_spikes(0-150ms)": 25.707070707070706,
              "trial_type": "baseline",
              "uni_id": "Cl406-02-177t3"
             },
             {
              "stim_spikes(0-150ms)": 10.367553865652717,
              "trial_type": "baseline",
              "uni_id": "Cl406-03-175t3"
             },
             {
              "stim_spikes(0-150ms)": 7.427122940430927,
              "trial_type": "baseline",
              "uni_id": "Cl406-03-176t1"
             },
             {
              "stim_spikes(0-150ms)": 10.185873605947963,
              "trial_type": "baseline",
              "uni_id": "Cl406-05-174t3"
             },
             {
              "stim_spikes(0-150ms)": 6.2962962962962985,
              "trial_type": "baseline",
              "uni_id": "Cl406-08-175t2"
             },
             {
              "stim_spikes(0-150ms)": 6.227390180878554,
              "trial_type": "baseline",
              "uni_id": "Cl406-09-175t2"
             },
             {
              "stim_spikes(0-150ms)": 13.333333333333329,
              "trial_type": "baseline",
              "uni_id": "Cl505-31-171t2"
             },
             {
              "stim_spikes(0-150ms)": 2.044025157232705,
              "trial_type": "baseline",
              "uni_id": "Cl505-31-172t4"
             },
             {
              "stim_spikes(0-150ms)": 5.549915397631131,
              "trial_type": "baseline",
              "uni_id": "Cl506-02-176t4"
             },
             {
              "stim_spikes(0-150ms)": 12.15811965811965,
              "trial_type": "baseline",
              "uni_id": "Cl506-04-174t1"
             },
             {
              "stim_spikes(0-150ms)": 19.89316239316241,
              "trial_type": "baseline",
              "uni_id": "Cl506-04-176t3"
             },
             {
              "stim_spikes(0-150ms)": 12.838633686690216,
              "trial_type": "baseline",
              "uni_id": "Cl506-09-172t1"
             },
             {
              "stim_spikes(0-150ms)": 11.111111111111105,
              "trial_type": "baseline",
              "uni_id": "Cl506-12-172t1"
             },
             {
              "stim_spikes(0-150ms)": 6.844444444444451,
              "trial_type": "baseline",
              "uni_id": "Cl610-26-175t1"
             },
             {
              "stim_spikes(0-150ms)": 8.907103825136604,
              "trial_type": "baseline",
              "uni_id": "Cl610-27-173t1"
             },
             {
              "stim_spikes(0-150ms)": 0.3096539162112933,
              "trial_type": "baseline",
              "uni_id": "Cl610-27-178t4"
             }
            ]
           },
           "encoding": {
            "color": {
             "condition": {
              "field": "uni_id",
              "scale": {
               "range": [
                "steelblue"
               ]
              },
              "selection": "selector069",
              "type": "nominal"
             },
             "value": "lightgray"
            },
            "x": {
             "field": "trial_type",
             "type": "nominal"
            },
            "y": {
             "field": "stim_spikes(0-150ms)",
             "type": "quantitative"
            }
           },
           "height": 300,
           "mark": "line",
           "width": 200
          }
         ]
        },
        {
         "layer": [
          {
           "data": {
            "values": [
             {
              "lick_spikes(-150-150ms)": 0.5043859649122806,
              "response": "no lick",
              "uni_id": "Cl405-19-178t4"
             },
             {
              "lick_spikes(-150-150ms)": 1.1111111111111112,
              "response": "right",
              "uni_id": "Cl405-19-178t4"
             },
             {
              "lick_spikes(-150-150ms)": 0.15384615384615385,
              "response": "left",
              "uni_id": "Cl405-19-178t4"
             },
             {
              "lick_spikes(-150-150ms)": 7.217847769028872,
              "response": "no lick",
              "uni_id": "Cl405-23-177t4"
             },
             {
              "lick_spikes(-150-150ms)": 9.62121212121212,
              "response": "right",
              "uni_id": "Cl405-23-177t4"
             },
             {
              "lick_spikes(-150-150ms)": 11.255411255411255,
              "response": "left",
              "uni_id": "Cl405-23-177t4"
             },
             {
              "lick_spikes(-150-150ms)": 3.3858267716535426,
              "response": "no lick",
              "uni_id": "Cl405-23-178t1"
             },
             {
              "lick_spikes(-150-150ms)": 7.272727272727274,
              "response": "right",
              "uni_id": "Cl405-23-178t1"
             },
             {
              "lick_spikes(-150-150ms)": 4.06926406926407,
              "response": "left",
              "uni_id": "Cl405-23-178t1"
             },
             {
              "lick_spikes(-150-150ms)": 17.84172661870503,
              "response": "no lick",
              "uni_id": "Cl405-26-172t4"
             },
             {
              "lick_spikes(-150-150ms)": 19.885057471264368,
              "response": "right",
              "uni_id": "Cl405-26-172t4"
             },
             {
              "lick_spikes(-150-150ms)": 24.44444444444445,
              "response": "left",
              "uni_id": "Cl405-26-172t4"
             },
             {
              "lick_spikes(-150-150ms)": 21.10311750599522,
              "response": "no lick",
              "uni_id": "Cl405-26-178t1"
             },
             {
              "lick_spikes(-150-150ms)": 19.310344827586206,
              "response": "right",
              "uni_id": "Cl405-26-178t1"
             },
             {
              "lick_spikes(-150-150ms)": 20.555555555555557,
              "response": "left",
              "uni_id": "Cl405-26-178t1"
             },
             {
              "lick_spikes(-150-150ms)": 16.011235955056165,
              "response": "no lick",
              "uni_id": "Cl405-31-176t1"
             },
             {
              "lick_spikes(-150-150ms)": 11.481481481481483,
              "response": "right",
              "uni_id": "Cl405-31-176t1"
             },
             {
              "lick_spikes(-150-150ms)": 6.935483870967743,
              "response": "left",
              "uni_id": "Cl405-31-176t1"
             },
             {
              "lick_spikes(-150-150ms)": 31.323529411764728,
              "response": "no lick",
              "uni_id": "Cl406-02-174t2"
             },
             {
              "lick_spikes(-150-150ms)": 40.08771929824561,
              "response": "right",
              "uni_id": "Cl406-02-174t2"
             },
             {
              "lick_spikes(-150-150ms)": 36.36363636363637,
              "response": "left",
              "uni_id": "Cl406-02-174t2"
             },
             {
              "lick_spikes(-150-150ms)": 17.189542483660134,
              "response": "no lick",
              "uni_id": "Cl406-02-176t2"
             },
             {
              "lick_spikes(-150-150ms)": 19.03508771929825,
              "response": "right",
              "uni_id": "Cl406-02-176t2"
             },
             {
              "lick_spikes(-150-150ms)": 19.09090909090909,
              "response": "left",
              "uni_id": "Cl406-02-176t2"
             },
             {
              "lick_spikes(-150-150ms)": 25.032679738562116,
              "response": "no lick",
              "uni_id": "Cl406-02-177t3"
             },
             {
              "lick_spikes(-150-150ms)": 32.280701754385966,
              "response": "right",
              "uni_id": "Cl406-02-177t3"
             },
             {
              "lick_spikes(-150-150ms)": 29.84848484848484,
              "response": "left",
              "uni_id": "Cl406-02-177t3"
             },
             {
              "lick_spikes(-150-150ms)": 11.607843137254898,
              "response": "no lick",
              "uni_id": "Cl406-03-175t3"
             },
             {
              "lick_spikes(-150-150ms)": 20.18018018018018,
              "response": "right",
              "uni_id": "Cl406-03-175t3"
             },
             {
              "lick_spikes(-150-150ms)": 16.547619047619047,
              "response": "left",
              "uni_id": "Cl406-03-175t3"
             },
             {
              "lick_spikes(-150-150ms)": 6.352941176470588,
              "response": "no lick",
              "uni_id": "Cl406-03-176t1"
             },
             {
              "lick_spikes(-150-150ms)": 7.927927927927926,
              "response": "right",
              "uni_id": "Cl406-03-176t1"
             },
             {
              "lick_spikes(-150-150ms)": 6.666666666666669,
              "response": "left",
              "uni_id": "Cl406-03-176t1"
             },
             {
              "lick_spikes(-150-150ms)": 10.348583877995647,
              "response": "no lick",
              "uni_id": "Cl406-05-174t3"
             },
             {
              "lick_spikes(-150-150ms)": 18.189300411522623,
              "response": "right",
              "uni_id": "Cl406-05-174t3"
             },
             {
              "lick_spikes(-150-150ms)": 13.142857142857139,
              "response": "left",
              "uni_id": "Cl406-05-174t3"
             },
             {
              "lick_spikes(-150-150ms)": 7.647058823529412,
              "response": "no lick",
              "uni_id": "Cl406-08-175t2"
             },
             {
              "lick_spikes(-150-150ms)": 28.91774891774892,
              "response": "right",
              "uni_id": "Cl406-08-175t2"
             },
             {
              "lick_spikes(-150-150ms)": 29.099099099099096,
              "response": "left",
              "uni_id": "Cl406-08-175t2"
             },
             {
              "lick_spikes(-150-150ms)": 7.232704402515725,
              "response": "no lick",
              "uni_id": "Cl406-09-175t2"
             },
             {
              "lick_spikes(-150-150ms)": 14.180790960451981,
              "response": "right",
              "uni_id": "Cl406-09-175t2"
             },
             {
              "lick_spikes(-150-150ms)": 19.17562724014336,
              "response": "left",
              "uni_id": "Cl406-09-175t2"
             },
             {
              "lick_spikes(-150-150ms)": 11.268115942028988,
              "response": "no lick",
              "uni_id": "Cl505-31-171t2"
             },
             {
              "lick_spikes(-150-150ms)": 4.885057471264368,
              "response": "right",
              "uni_id": "Cl505-31-171t2"
             },
             {
              "lick_spikes(-150-150ms)": 2.0430107526881716,
              "response": "left",
              "uni_id": "Cl505-31-171t2"
             },
             {
              "lick_spikes(-150-150ms)": 1.2318840579710142,
              "response": "no lick",
              "uni_id": "Cl505-31-172t4"
             },
             {
              "lick_spikes(-150-150ms)": 0.2873563218390805,
              "response": "right",
              "uni_id": "Cl505-31-172t4"
             },
             {
              "lick_spikes(-150-150ms)": 0.16129032258064516,
              "response": "left",
              "uni_id": "Cl505-31-172t4"
             },
             {
              "lick_spikes(-150-150ms)": 5.014749262536873,
              "response": "no lick",
              "uni_id": "Cl506-02-176t4"
             },
             {
              "lick_spikes(-150-150ms)": 5.151515151515151,
              "response": "right",
              "uni_id": "Cl506-02-176t4"
             },
             {
              "lick_spikes(-150-150ms)": 3.856209150326797,
              "response": "left",
              "uni_id": "Cl506-02-176t4"
             },
             {
              "lick_spikes(-150-150ms)": 11.308641975308646,
              "response": "no lick",
              "uni_id": "Cl506-04-174t1"
             },
             {
              "lick_spikes(-150-150ms)": 6.428571428571427,
              "response": "right",
              "uni_id": "Cl506-04-174t1"
             },
             {
              "lick_spikes(-150-150ms)": 4.838709677419353,
              "response": "left",
              "uni_id": "Cl506-04-174t1"
             },
             {
              "lick_spikes(-150-150ms)": 19.28395061728396,
              "response": "no lick",
              "uni_id": "Cl506-04-176t3"
             },
             {
              "lick_spikes(-150-150ms)": 37.30158730158731,
              "response": "right",
              "uni_id": "Cl506-04-176t3"
             },
             {
              "lick_spikes(-150-150ms)": 43.2258064516129,
              "response": "left",
              "uni_id": "Cl506-04-176t3"
             },
             {
              "lick_spikes(-150-150ms)": 14.785478547854785,
              "response": "no lick",
              "uni_id": "Cl506-09-172t1"
             },
             {
              "lick_spikes(-150-150ms)": 30.476190476190474,
              "response": "right",
              "uni_id": "Cl506-09-172t1"
             },
             {
              "lick_spikes(-150-150ms)": 27.445887445887447,
              "response": "left",
              "uni_id": "Cl506-09-172t1"
             },
             {
              "lick_spikes(-150-150ms)": 11.893004115226338,
              "response": "no lick",
              "uni_id": "Cl506-12-172t1"
             },
             {
              "lick_spikes(-150-150ms)": 28.014184397163106,
              "response": "right",
              "uni_id": "Cl506-12-172t1"
             },
             {
              "lick_spikes(-150-150ms)": 28.827838827838814,
              "response": "left",
              "uni_id": "Cl506-12-172t1"
             },
             {
              "lick_spikes(-150-150ms)": 6.884920634920633,
              "response": "no lick",
              "uni_id": "Cl610-26-175t1"
             },
             {
              "lick_spikes(-150-150ms)": 14.139784946236558,
              "response": "right",
              "uni_id": "Cl610-26-175t1"
             },
             {
              "lick_spikes(-150-150ms)": 15.952380952380954,
              "response": "left",
              "uni_id": "Cl610-26-175t1"
             },
             {
              "lick_spikes(-150-150ms)": 7.467811158798275,
              "response": "no lick",
              "uni_id": "Cl610-27-173t1"
             },
             {
              "lick_spikes(-150-150ms)": 17.105263157894733,
              "response": "right",
              "uni_id": "Cl610-27-173t1"
             },
             {
              "lick_spikes(-150-150ms)": 17.1578947368421,
              "response": "left",
              "uni_id": "Cl610-27-173t1"
             },
             {
              "lick_spikes(-150-150ms)": 0.37195994277539346,
              "response": "no lick",
              "uni_id": "Cl610-27-178t4"
             },
             {
              "lick_spikes(-150-150ms)": 0,
              "response": "right",
              "uni_id": "Cl610-27-178t4"
             },
             {
              "lick_spikes(-150-150ms)": 0,
              "response": "left",
              "uni_id": "Cl610-27-178t4"
             }
            ]
           },
           "encoding": {
            "color": {
             "condition": {
              "field": "uni_id",
              "selection": "selector069",
              "type": "nominal"
             },
             "value": "lightgray"
            },
            "x": {
             "field": "response",
             "type": "nominal"
            },
            "y": {
             "field": "lick_spikes(-150-150ms)",
             "type": "quantitative"
            }
           },
           "height": 300,
           "mark": "point",
           "selection": {
            "selector069": {
             "empty": "all",
             "encodings": [
              "color"
             ],
             "on": "click",
             "resolve": "global",
             "type": "single"
            },
            "selector072": {
             "bind": "scales",
             "encodings": [
              "x",
              "y"
             ],
             "mark": {
              "fill": "#333",
              "fillOpacity": 0.125,
              "stroke": "white"
             },
             "on": "[mousedown, window:mouseup] > window:mousemove!",
             "resolve": "global",
             "translate": "[mousedown, window:mouseup] > window:mousemove!",
             "type": "interval",
             "zoom": "wheel!"
            }
           },
           "width": 200
          },
          {
           "data": {
            "values": [
             {
              "lick_spikes(-150-150ms)": 0.5043859649122806,
              "response": "no lick",
              "uni_id": "Cl405-19-178t4"
             },
             {
              "lick_spikes(-150-150ms)": 1.1111111111111112,
              "response": "right",
              "uni_id": "Cl405-19-178t4"
             },
             {
              "lick_spikes(-150-150ms)": 0.15384615384615385,
              "response": "left",
              "uni_id": "Cl405-19-178t4"
             },
             {
              "lick_spikes(-150-150ms)": 7.217847769028872,
              "response": "no lick",
              "uni_id": "Cl405-23-177t4"
             },
             {
              "lick_spikes(-150-150ms)": 9.62121212121212,
              "response": "right",
              "uni_id": "Cl405-23-177t4"
             },
             {
              "lick_spikes(-150-150ms)": 11.255411255411255,
              "response": "left",
              "uni_id": "Cl405-23-177t4"
             },
             {
              "lick_spikes(-150-150ms)": 3.3858267716535426,
              "response": "no lick",
              "uni_id": "Cl405-23-178t1"
             },
             {
              "lick_spikes(-150-150ms)": 7.272727272727274,
              "response": "right",
              "uni_id": "Cl405-23-178t1"
             },
             {
              "lick_spikes(-150-150ms)": 4.06926406926407,
              "response": "left",
              "uni_id": "Cl405-23-178t1"
             },
             {
              "lick_spikes(-150-150ms)": 17.84172661870503,
              "response": "no lick",
              "uni_id": "Cl405-26-172t4"
             },
             {
              "lick_spikes(-150-150ms)": 19.885057471264368,
              "response": "right",
              "uni_id": "Cl405-26-172t4"
             },
             {
              "lick_spikes(-150-150ms)": 24.44444444444445,
              "response": "left",
              "uni_id": "Cl405-26-172t4"
             },
             {
              "lick_spikes(-150-150ms)": 21.10311750599522,
              "response": "no lick",
              "uni_id": "Cl405-26-178t1"
             },
             {
              "lick_spikes(-150-150ms)": 19.310344827586206,
              "response": "right",
              "uni_id": "Cl405-26-178t1"
             },
             {
              "lick_spikes(-150-150ms)": 20.555555555555557,
              "response": "left",
              "uni_id": "Cl405-26-178t1"
             },
             {
              "lick_spikes(-150-150ms)": 16.011235955056165,
              "response": "no lick",
              "uni_id": "Cl405-31-176t1"
             },
             {
              "lick_spikes(-150-150ms)": 11.481481481481483,
              "response": "right",
              "uni_id": "Cl405-31-176t1"
             },
             {
              "lick_spikes(-150-150ms)": 6.935483870967743,
              "response": "left",
              "uni_id": "Cl405-31-176t1"
             },
             {
              "lick_spikes(-150-150ms)": 31.323529411764728,
              "response": "no lick",
              "uni_id": "Cl406-02-174t2"
             },
             {
              "lick_spikes(-150-150ms)": 40.08771929824561,
              "response": "right",
              "uni_id": "Cl406-02-174t2"
             },
             {
              "lick_spikes(-150-150ms)": 36.36363636363637,
              "response": "left",
              "uni_id": "Cl406-02-174t2"
             },
             {
              "lick_spikes(-150-150ms)": 17.189542483660134,
              "response": "no lick",
              "uni_id": "Cl406-02-176t2"
             },
             {
              "lick_spikes(-150-150ms)": 19.03508771929825,
              "response": "right",
              "uni_id": "Cl406-02-176t2"
             },
             {
              "lick_spikes(-150-150ms)": 19.09090909090909,
              "response": "left",
              "uni_id": "Cl406-02-176t2"
             },
             {
              "lick_spikes(-150-150ms)": 25.032679738562116,
              "response": "no lick",
              "uni_id": "Cl406-02-177t3"
             },
             {
              "lick_spikes(-150-150ms)": 32.280701754385966,
              "response": "right",
              "uni_id": "Cl406-02-177t3"
             },
             {
              "lick_spikes(-150-150ms)": 29.84848484848484,
              "response": "left",
              "uni_id": "Cl406-02-177t3"
             },
             {
              "lick_spikes(-150-150ms)": 11.607843137254898,
              "response": "no lick",
              "uni_id": "Cl406-03-175t3"
             },
             {
              "lick_spikes(-150-150ms)": 20.18018018018018,
              "response": "right",
              "uni_id": "Cl406-03-175t3"
             },
             {
              "lick_spikes(-150-150ms)": 16.547619047619047,
              "response": "left",
              "uni_id": "Cl406-03-175t3"
             },
             {
              "lick_spikes(-150-150ms)": 6.352941176470588,
              "response": "no lick",
              "uni_id": "Cl406-03-176t1"
             },
             {
              "lick_spikes(-150-150ms)": 7.927927927927926,
              "response": "right",
              "uni_id": "Cl406-03-176t1"
             },
             {
              "lick_spikes(-150-150ms)": 6.666666666666669,
              "response": "left",
              "uni_id": "Cl406-03-176t1"
             },
             {
              "lick_spikes(-150-150ms)": 10.348583877995647,
              "response": "no lick",
              "uni_id": "Cl406-05-174t3"
             },
             {
              "lick_spikes(-150-150ms)": 18.189300411522623,
              "response": "right",
              "uni_id": "Cl406-05-174t3"
             },
             {
              "lick_spikes(-150-150ms)": 13.142857142857139,
              "response": "left",
              "uni_id": "Cl406-05-174t3"
             },
             {
              "lick_spikes(-150-150ms)": 7.647058823529412,
              "response": "no lick",
              "uni_id": "Cl406-08-175t2"
             },
             {
              "lick_spikes(-150-150ms)": 28.91774891774892,
              "response": "right",
              "uni_id": "Cl406-08-175t2"
             },
             {
              "lick_spikes(-150-150ms)": 29.099099099099096,
              "response": "left",
              "uni_id": "Cl406-08-175t2"
             },
             {
              "lick_spikes(-150-150ms)": 7.232704402515725,
              "response": "no lick",
              "uni_id": "Cl406-09-175t2"
             },
             {
              "lick_spikes(-150-150ms)": 14.180790960451981,
              "response": "right",
              "uni_id": "Cl406-09-175t2"
             },
             {
              "lick_spikes(-150-150ms)": 19.17562724014336,
              "response": "left",
              "uni_id": "Cl406-09-175t2"
             },
             {
              "lick_spikes(-150-150ms)": 11.268115942028988,
              "response": "no lick",
              "uni_id": "Cl505-31-171t2"
             },
             {
              "lick_spikes(-150-150ms)": 4.885057471264368,
              "response": "right",
              "uni_id": "Cl505-31-171t2"
             },
             {
              "lick_spikes(-150-150ms)": 2.0430107526881716,
              "response": "left",
              "uni_id": "Cl505-31-171t2"
             },
             {
              "lick_spikes(-150-150ms)": 1.2318840579710142,
              "response": "no lick",
              "uni_id": "Cl505-31-172t4"
             },
             {
              "lick_spikes(-150-150ms)": 0.2873563218390805,
              "response": "right",
              "uni_id": "Cl505-31-172t4"
             },
             {
              "lick_spikes(-150-150ms)": 0.16129032258064516,
              "response": "left",
              "uni_id": "Cl505-31-172t4"
             },
             {
              "lick_spikes(-150-150ms)": 5.014749262536873,
              "response": "no lick",
              "uni_id": "Cl506-02-176t4"
             },
             {
              "lick_spikes(-150-150ms)": 5.151515151515151,
              "response": "right",
              "uni_id": "Cl506-02-176t4"
             },
             {
              "lick_spikes(-150-150ms)": 3.856209150326797,
              "response": "left",
              "uni_id": "Cl506-02-176t4"
             },
             {
              "lick_spikes(-150-150ms)": 11.308641975308646,
              "response": "no lick",
              "uni_id": "Cl506-04-174t1"
             },
             {
              "lick_spikes(-150-150ms)": 6.428571428571427,
              "response": "right",
              "uni_id": "Cl506-04-174t1"
             },
             {
              "lick_spikes(-150-150ms)": 4.838709677419353,
              "response": "left",
              "uni_id": "Cl506-04-174t1"
             },
             {
              "lick_spikes(-150-150ms)": 19.28395061728396,
              "response": "no lick",
              "uni_id": "Cl506-04-176t3"
             },
             {
              "lick_spikes(-150-150ms)": 37.30158730158731,
              "response": "right",
              "uni_id": "Cl506-04-176t3"
             },
             {
              "lick_spikes(-150-150ms)": 43.2258064516129,
              "response": "left",
              "uni_id": "Cl506-04-176t3"
             },
             {
              "lick_spikes(-150-150ms)": 14.785478547854785,
              "response": "no lick",
              "uni_id": "Cl506-09-172t1"
             },
             {
              "lick_spikes(-150-150ms)": 30.476190476190474,
              "response": "right",
              "uni_id": "Cl506-09-172t1"
             },
             {
              "lick_spikes(-150-150ms)": 27.445887445887447,
              "response": "left",
              "uni_id": "Cl506-09-172t1"
             },
             {
              "lick_spikes(-150-150ms)": 11.893004115226338,
              "response": "no lick",
              "uni_id": "Cl506-12-172t1"
             },
             {
              "lick_spikes(-150-150ms)": 28.014184397163106,
              "response": "right",
              "uni_id": "Cl506-12-172t1"
             },
             {
              "lick_spikes(-150-150ms)": 28.827838827838814,
              "response": "left",
              "uni_id": "Cl506-12-172t1"
             },
             {
              "lick_spikes(-150-150ms)": 6.884920634920633,
              "response": "no lick",
              "uni_id": "Cl610-26-175t1"
             },
             {
              "lick_spikes(-150-150ms)": 14.139784946236558,
              "response": "right",
              "uni_id": "Cl610-26-175t1"
             },
             {
              "lick_spikes(-150-150ms)": 15.952380952380954,
              "response": "left",
              "uni_id": "Cl610-26-175t1"
             },
             {
              "lick_spikes(-150-150ms)": 7.467811158798275,
              "response": "no lick",
              "uni_id": "Cl610-27-173t1"
             },
             {
              "lick_spikes(-150-150ms)": 17.105263157894733,
              "response": "right",
              "uni_id": "Cl610-27-173t1"
             },
             {
              "lick_spikes(-150-150ms)": 17.1578947368421,
              "response": "left",
              "uni_id": "Cl610-27-173t1"
             },
             {
              "lick_spikes(-150-150ms)": 0.37195994277539346,
              "response": "no lick",
              "uni_id": "Cl610-27-178t4"
             },
             {
              "lick_spikes(-150-150ms)": 0,
              "response": "right",
              "uni_id": "Cl610-27-178t4"
             },
             {
              "lick_spikes(-150-150ms)": 0,
              "response": "left",
              "uni_id": "Cl610-27-178t4"
             }
            ]
           },
           "encoding": {
            "color": {
             "condition": {
              "field": "uni_id",
              "scale": {
               "range": [
                "steelblue"
               ]
              },
              "selection": "selector069",
              "type": "nominal"
             },
             "value": "lightgray"
            },
            "x": {
             "field": "response",
             "type": "nominal"
            },
            "y": {
             "field": "lick_spikes(-150-150ms)",
             "type": "quantitative"
            }
           },
           "height": 300,
           "mark": "line",
           "width": 200
          }
         ]
        }
       ]
      },
      "image/png": "[encoded data removed]",
      "text/plain": [
       "<VegaLite 2 object>\n",
       "\n",
       "If you see this message, it means the renderer has not been properly enabled\n",
       "for the frontend that you are using. For more information, see\n",
       "https://altair-viz.github.io/user_guide/troubleshooting.html\n"
      ]
     },
     "execution_count": 56,
     "metadata": {},
     "output_type": "execute_result"
    }
   ],
   "source": [
    "chart = linked_ladder_chart([gr_means_baseline, gr_means_stim, gr_means_lick])\n",
    "chart2 = linked_ladder_chart([gr_baseline_tet6, gr_stim_tet6, gr_lick_tet6])\n",
    "\n",
    "chart "
   ]
  },
  {
   "cell_type": "code",
   "execution_count": null,
   "metadata": {},
   "outputs": [],
   "source": [
    "chart.savechart('three_epoch.html')"
   ]
  },
  {
   "cell_type": "code",
   "execution_count": 59,
   "metadata": {},
   "outputs": [
    {
     "data": {
      "application/vnd.vegalite.v2+json": {
       "$schema": "https://vega.github.io/schema/vega-lite/v2.3.0.json",
       "config": {
        "view": {
         "height": 300,
         "width": 400
        }
       },
       "vconcat": [
        {
         "hconcat": [
          {
           "layer": [
            {
             "data": {
              "values": [
               {
                "baseline_spikes(-300-0ms)": 0.43715846994535523,
                "block_type": "Visual",
                "label_loc": 36.023102310231025,
                "uni_id": "Cl405-19-178t4"
               },
               {
                "baseline_spikes(-300-0ms)": 0.9817351598173518,
                "block_type": "Whisker",
                "label_loc": 36.023102310231025,
                "uni_id": "Cl405-19-178t4"
               },
               {
                "baseline_spikes(-300-0ms)": 7.0202020202020226,
                "block_type": "Visual",
                "label_loc": 36.023102310231025,
                "uni_id": "Cl405-23-177t4"
               },
               {
                "baseline_spikes(-300-0ms)": 6.999999999999998,
                "block_type": "Whisker",
                "label_loc": 36.023102310231025,
                "uni_id": "Cl405-23-177t4"
               },
               {
                "baseline_spikes(-300-0ms)": 3.9646464646464623,
                "block_type": "Visual",
                "label_loc": 36.023102310231025,
                "uni_id": "Cl405-23-178t1"
               },
               {
                "baseline_spikes(-300-0ms)": 4.104166666666667,
                "block_type": "Whisker",
                "label_loc": 36.023102310231025,
                "uni_id": "Cl405-23-178t1"
               },
               {
                "baseline_spikes(-300-0ms)": 18.61842105263158,
                "block_type": "Visual",
                "label_loc": 36.023102310231025,
                "uni_id": "Cl405-26-172t4"
               },
               {
                "baseline_spikes(-300-0ms)": 15.533333333333337,
                "block_type": "Whisker",
                "label_loc": 36.023102310231025,
                "uni_id": "Cl405-26-172t4"
               },
               {
                "baseline_spikes(-300-0ms)": 18.59649122807018,
                "block_type": "Visual",
                "label_loc": 36.023102310231025,
                "uni_id": "Cl405-26-178t1"
               },
               {
                "baseline_spikes(-300-0ms)": 21.699999999999996,
                "block_type": "Whisker",
                "label_loc": 36.023102310231025,
                "uni_id": "Cl405-26-178t1"
               },
               {
                "baseline_spikes(-300-0ms)": 17.882882882882885,
                "block_type": "Visual",
                "label_loc": 36.023102310231025,
                "uni_id": "Cl405-31-176t1"
               },
               {
                "baseline_spikes(-300-0ms)": 16.901041666666654,
                "block_type": "Whisker",
                "label_loc": 36.023102310231025,
                "uni_id": "Cl405-31-176t1"
               },
               {
                "baseline_spikes(-300-0ms)": 31.023102310231028,
                "block_type": "Visual",
                "label_loc": 36.023102310231025,
                "uni_id": "Cl406-02-174t2"
               },
               {
                "baseline_spikes(-300-0ms)": 29.713701431492836,
                "block_type": "Whisker",
                "label_loc": 36.023102310231025,
                "uni_id": "Cl406-02-174t2"
               },
               {
                "baseline_spikes(-300-0ms)": 16.23762376237624,
                "block_type": "Visual",
                "label_loc": 36.023102310231025,
                "uni_id": "Cl406-02-176t2"
               },
               {
                "baseline_spikes(-300-0ms)": 18.507157464212682,
                "block_type": "Whisker",
                "label_loc": 36.023102310231025,
                "uni_id": "Cl406-02-176t2"
               },
               {
                "baseline_spikes(-300-0ms)": 23.79537953795379,
                "block_type": "Visual",
                "label_loc": 36.023102310231025,
                "uni_id": "Cl406-02-177t3"
               },
               {
                "baseline_spikes(-300-0ms)": 26.728016359918204,
                "block_type": "Whisker",
                "label_loc": 36.023102310231025,
                "uni_id": "Cl406-02-177t3"
               },
               {
                "baseline_spikes(-300-0ms)": 10.238095238095235,
                "block_type": "Visual",
                "label_loc": 36.023102310231025,
                "uni_id": "Cl406-03-175t3"
               },
               {
                "baseline_spikes(-300-0ms)": 11.620795107033636,
                "block_type": "Whisker",
                "label_loc": 36.023102310231025,
                "uni_id": "Cl406-03-175t3"
               },
               {
                "baseline_spikes(-300-0ms)": 7.380952380952384,
                "block_type": "Visual",
                "label_loc": 36.023102310231025,
                "uni_id": "Cl406-03-176t1"
               },
               {
                "baseline_spikes(-300-0ms)": 6.697247706422018,
                "block_type": "Whisker",
                "label_loc": 36.023102310231025,
                "uni_id": "Cl406-03-176t1"
               },
               {
                "baseline_spikes(-300-0ms)": 9.326923076923068,
                "block_type": "Visual",
                "label_loc": 36.023102310231025,
                "uni_id": "Cl406-05-174t3"
               },
               {
                "baseline_spikes(-300-0ms)": 10.343434343434346,
                "block_type": "Whisker",
                "label_loc": 36.023102310231025,
                "uni_id": "Cl406-05-174t3"
               },
               {
                "baseline_spikes(-300-0ms)": 6.019900497512437,
                "block_type": "Visual",
                "label_loc": 36.023102310231025,
                "uni_id": "Cl406-08-175t2"
               },
               {
                "baseline_spikes(-300-0ms)": 6.4653243847874755,
                "block_type": "Whisker",
                "label_loc": 36.023102310231025,
                "uni_id": "Cl406-08-175t2"
               },
               {
                "baseline_spikes(-300-0ms)": 6.031746031746034,
                "block_type": "Visual",
                "label_loc": 36.023102310231025,
                "uni_id": "Cl406-09-175t2"
               },
               {
                "baseline_spikes(-300-0ms)": 6.876876876876879,
                "block_type": "Whisker",
                "label_loc": 36.023102310231025,
                "uni_id": "Cl406-09-175t2"
               },
               {
                "baseline_spikes(-300-0ms)": 13.03448275862069,
                "block_type": "Visual",
                "label_loc": 36.023102310231025,
                "uni_id": "Cl505-31-171t2"
               },
               {
                "baseline_spikes(-300-0ms)": 13.681592039800993,
                "block_type": "Whisker",
                "label_loc": 36.023102310231025,
                "uni_id": "Cl505-31-171t2"
               },
               {
                "baseline_spikes(-300-0ms)": 1.8390804597701147,
                "block_type": "Visual",
                "label_loc": 36.023102310231025,
                "uni_id": "Cl505-31-172t4"
               },
               {
                "baseline_spikes(-300-0ms)": 2.4875621890547266,
                "block_type": "Whisker",
                "label_loc": 36.023102310231025,
                "uni_id": "Cl505-31-172t4"
               },
               {
                "baseline_spikes(-300-0ms)": 5.044247787610619,
                "block_type": "Visual",
                "label_loc": 36.023102310231025,
                "uni_id": "Cl506-02-176t4"
               },
               {
                "baseline_spikes(-300-0ms)": 5.595238095238095,
                "block_type": "Whisker",
                "label_loc": 36.023102310231025,
                "uni_id": "Cl506-02-176t4"
               },
               {
                "baseline_spikes(-300-0ms)": 11.947791164658636,
                "block_type": "Visual",
                "label_loc": 36.023102310231025,
                "uni_id": "Cl506-04-174t1"
               },
               {
                "baseline_spikes(-300-0ms)": 12.557077625570773,
                "block_type": "Whisker",
                "label_loc": 36.023102310231025,
                "uni_id": "Cl506-04-174t1"
               },
               {
                "baseline_spikes(-300-0ms)": 21.56626506024095,
                "block_type": "Visual",
                "label_loc": 36.023102310231025,
                "uni_id": "Cl506-04-176t3"
               },
               {
                "baseline_spikes(-300-0ms)": 18.196347031963487,
                "block_type": "Whisker",
                "label_loc": 36.023102310231025,
                "uni_id": "Cl506-04-176t3"
               },
               {
                "baseline_spikes(-300-0ms)": 11.394799054373522,
                "block_type": "Visual",
                "label_loc": 36.023102310231025,
                "uni_id": "Cl506-09-172t1"
               },
               {
                "baseline_spikes(-300-0ms)": 13.568075117370894,
                "block_type": "Whisker",
                "label_loc": 36.023102310231025,
                "uni_id": "Cl506-09-172t1"
               },
               {
                "baseline_spikes(-300-0ms)": 10.303030303030303,
                "block_type": "Visual",
                "label_loc": 36.023102310231025,
                "uni_id": "Cl506-12-172t1"
               },
               {
                "baseline_spikes(-300-0ms)": 12.769230769230772,
                "block_type": "Whisker",
                "label_loc": 36.023102310231025,
                "uni_id": "Cl506-12-172t1"
               },
               {
                "baseline_spikes(-300-0ms)": 7.518796992481202,
                "block_type": "Visual",
                "label_loc": 36.023102310231025,
                "uni_id": "Cl610-26-175t1"
               },
               {
                "baseline_spikes(-300-0ms)": 6.467065868263472,
                "block_type": "Whisker",
                "label_loc": 36.023102310231025,
                "uni_id": "Cl610-26-175t1"
               },
               {
                "baseline_spikes(-300-0ms)": 8.983333333333334,
                "block_type": "Visual",
                "label_loc": 36.023102310231025,
                "uni_id": "Cl610-27-173t1"
               },
               {
                "baseline_spikes(-300-0ms)": 8.915662650602414,
                "block_type": "Whisker",
                "label_loc": 36.023102310231025,
                "uni_id": "Cl610-27-173t1"
               },
               {
                "baseline_spikes(-300-0ms)": 0.3166666666666667,
                "block_type": "Visual",
                "label_loc": 36.023102310231025,
                "uni_id": "Cl610-27-178t4"
               },
               {
                "baseline_spikes(-300-0ms)": 0.2008032128514056,
                "block_type": "Whisker",
                "label_loc": 36.023102310231025,
                "uni_id": "Cl610-27-178t4"
               }
              ]
             },
             "encoding": {
              "color": {
               "condition": {
                "field": "uni_id",
                "legend": {
                 "title": " ",
                 "values": []
                },
                "scale": {
                 "range": [
                  "steelblue"
                 ]
                },
                "selection": "selector069",
                "type": "nominal"
               },
               "value": "lightgray"
              },
              "x": {
               "field": "block_type",
               "type": "nominal"
              },
              "y": {
               "field": "baseline_spikes(-300-0ms)",
               "type": "quantitative"
              }
             },
             "height": 300,
             "mark": "point",
             "selection": {
              "selector069": {
               "empty": "all",
               "encodings": [
                "color"
               ],
               "on": "click",
               "resolve": "global",
               "type": "single"
              },
              "selector070": {
               "bind": "scales",
               "encodings": [
                "x",
                "y"
               ],
               "mark": {
                "fill": "#333",
                "fillOpacity": 0.125,
                "stroke": "white"
               },
               "on": "[mousedown, window:mouseup] > window:mousemove!",
               "resolve": "global",
               "translate": "[mousedown, window:mouseup] > window:mousemove!",
               "type": "interval",
               "zoom": "wheel!"
              }
             },
             "width": 200
            },
            {
             "data": {
              "values": [
               {
                "baseline_spikes(-300-0ms)": 0.43715846994535523,
                "block_type": "Visual",
                "label_loc": 36.023102310231025,
                "uni_id": "Cl405-19-178t4"
               },
               {
                "baseline_spikes(-300-0ms)": 0.9817351598173518,
                "block_type": "Whisker",
                "label_loc": 36.023102310231025,
                "uni_id": "Cl405-19-178t4"
               },
               {
                "baseline_spikes(-300-0ms)": 7.0202020202020226,
                "block_type": "Visual",
                "label_loc": 36.023102310231025,
                "uni_id": "Cl405-23-177t4"
               },
               {
                "baseline_spikes(-300-0ms)": 6.999999999999998,
                "block_type": "Whisker",
                "label_loc": 36.023102310231025,
                "uni_id": "Cl405-23-177t4"
               },
               {
                "baseline_spikes(-300-0ms)": 3.9646464646464623,
                "block_type": "Visual",
                "label_loc": 36.023102310231025,
                "uni_id": "Cl405-23-178t1"
               },
               {
                "baseline_spikes(-300-0ms)": 4.104166666666667,
                "block_type": "Whisker",
                "label_loc": 36.023102310231025,
                "uni_id": "Cl405-23-178t1"
               },
               {
                "baseline_spikes(-300-0ms)": 18.61842105263158,
                "block_type": "Visual",
                "label_loc": 36.023102310231025,
                "uni_id": "Cl405-26-172t4"
               },
               {
                "baseline_spikes(-300-0ms)": 15.533333333333337,
                "block_type": "Whisker",
                "label_loc": 36.023102310231025,
                "uni_id": "Cl405-26-172t4"
               },
               {
                "baseline_spikes(-300-0ms)": 18.59649122807018,
                "block_type": "Visual",
                "label_loc": 36.023102310231025,
                "uni_id": "Cl405-26-178t1"
               },
               {
                "baseline_spikes(-300-0ms)": 21.699999999999996,
                "block_type": "Whisker",
                "label_loc": 36.023102310231025,
                "uni_id": "Cl405-26-178t1"
               },
               {
                "baseline_spikes(-300-0ms)": 17.882882882882885,
                "block_type": "Visual",
                "label_loc": 36.023102310231025,
                "uni_id": "Cl405-31-176t1"
               },
               {
                "baseline_spikes(-300-0ms)": 16.901041666666654,
                "block_type": "Whisker",
                "label_loc": 36.023102310231025,
                "uni_id": "Cl405-31-176t1"
               },
               {
                "baseline_spikes(-300-0ms)": 31.023102310231028,
                "block_type": "Visual",
                "label_loc": 36.023102310231025,
                "uni_id": "Cl406-02-174t2"
               },
               {
                "baseline_spikes(-300-0ms)": 29.713701431492836,
                "block_type": "Whisker",
                "label_loc": 36.023102310231025,
                "uni_id": "Cl406-02-174t2"
               },
               {
                "baseline_spikes(-300-0ms)": 16.23762376237624,
                "block_type": "Visual",
                "label_loc": 36.023102310231025,
                "uni_id": "Cl406-02-176t2"
               },
               {
                "baseline_spikes(-300-0ms)": 18.507157464212682,
                "block_type": "Whisker",
                "label_loc": 36.023102310231025,
                "uni_id": "Cl406-02-176t2"
               },
               {
                "baseline_spikes(-300-0ms)": 23.79537953795379,
                "block_type": "Visual",
                "label_loc": 36.023102310231025,
                "uni_id": "Cl406-02-177t3"
               },
               {
                "baseline_spikes(-300-0ms)": 26.728016359918204,
                "block_type": "Whisker",
                "label_loc": 36.023102310231025,
                "uni_id": "Cl406-02-177t3"
               },
               {
                "baseline_spikes(-300-0ms)": 10.238095238095235,
                "block_type": "Visual",
                "label_loc": 36.023102310231025,
                "uni_id": "Cl406-03-175t3"
               },
               {
                "baseline_spikes(-300-0ms)": 11.620795107033636,
                "block_type": "Whisker",
                "label_loc": 36.023102310231025,
                "uni_id": "Cl406-03-175t3"
               },
               {
                "baseline_spikes(-300-0ms)": 7.380952380952384,
                "block_type": "Visual",
                "label_loc": 36.023102310231025,
                "uni_id": "Cl406-03-176t1"
               },
               {
                "baseline_spikes(-300-0ms)": 6.697247706422018,
                "block_type": "Whisker",
                "label_loc": 36.023102310231025,
                "uni_id": "Cl406-03-176t1"
               },
               {
                "baseline_spikes(-300-0ms)": 9.326923076923068,
                "block_type": "Visual",
                "label_loc": 36.023102310231025,
                "uni_id": "Cl406-05-174t3"
               },
               {
                "baseline_spikes(-300-0ms)": 10.343434343434346,
                "block_type": "Whisker",
                "label_loc": 36.023102310231025,
                "uni_id": "Cl406-05-174t3"
               },
               {
                "baseline_spikes(-300-0ms)": 6.019900497512437,
                "block_type": "Visual",
                "label_loc": 36.023102310231025,
                "uni_id": "Cl406-08-175t2"
               },
               {
                "baseline_spikes(-300-0ms)": 6.4653243847874755,
                "block_type": "Whisker",
                "label_loc": 36.023102310231025,
                "uni_id": "Cl406-08-175t2"
               },
               {
                "baseline_spikes(-300-0ms)": 6.031746031746034,
                "block_type": "Visual",
                "label_loc": 36.023102310231025,
                "uni_id": "Cl406-09-175t2"
               },
               {
                "baseline_spikes(-300-0ms)": 6.876876876876879,
                "block_type": "Whisker",
                "label_loc": 36.023102310231025,
                "uni_id": "Cl406-09-175t2"
               },
               {
                "baseline_spikes(-300-0ms)": 13.03448275862069,
                "block_type": "Visual",
                "label_loc": 36.023102310231025,
                "uni_id": "Cl505-31-171t2"
               },
               {
                "baseline_spikes(-300-0ms)": 13.681592039800993,
                "block_type": "Whisker",
                "label_loc": 36.023102310231025,
                "uni_id": "Cl505-31-171t2"
               },
               {
                "baseline_spikes(-300-0ms)": 1.8390804597701147,
                "block_type": "Visual",
                "label_loc": 36.023102310231025,
                "uni_id": "Cl505-31-172t4"
               },
               {
                "baseline_spikes(-300-0ms)": 2.4875621890547266,
                "block_type": "Whisker",
                "label_loc": 36.023102310231025,
                "uni_id": "Cl505-31-172t4"
               },
               {
                "baseline_spikes(-300-0ms)": 5.044247787610619,
                "block_type": "Visual",
                "label_loc": 36.023102310231025,
                "uni_id": "Cl506-02-176t4"
               },
               {
                "baseline_spikes(-300-0ms)": 5.595238095238095,
                "block_type": "Whisker",
                "label_loc": 36.023102310231025,
                "uni_id": "Cl506-02-176t4"
               },
               {
                "baseline_spikes(-300-0ms)": 11.947791164658636,
                "block_type": "Visual",
                "label_loc": 36.023102310231025,
                "uni_id": "Cl506-04-174t1"
               },
               {
                "baseline_spikes(-300-0ms)": 12.557077625570773,
                "block_type": "Whisker",
                "label_loc": 36.023102310231025,
                "uni_id": "Cl506-04-174t1"
               },
               {
                "baseline_spikes(-300-0ms)": 21.56626506024095,
                "block_type": "Visual",
                "label_loc": 36.023102310231025,
                "uni_id": "Cl506-04-176t3"
               },
               {
                "baseline_spikes(-300-0ms)": 18.196347031963487,
                "block_type": "Whisker",
                "label_loc": 36.023102310231025,
                "uni_id": "Cl506-04-176t3"
               },
               {
                "baseline_spikes(-300-0ms)": 11.394799054373522,
                "block_type": "Visual",
                "label_loc": 36.023102310231025,
                "uni_id": "Cl506-09-172t1"
               },
               {
                "baseline_spikes(-300-0ms)": 13.568075117370894,
                "block_type": "Whisker",
                "label_loc": 36.023102310231025,
                "uni_id": "Cl506-09-172t1"
               },
               {
                "baseline_spikes(-300-0ms)": 10.303030303030303,
                "block_type": "Visual",
                "label_loc": 36.023102310231025,
                "uni_id": "Cl506-12-172t1"
               },
               {
                "baseline_spikes(-300-0ms)": 12.769230769230772,
                "block_type": "Whisker",
                "label_loc": 36.023102310231025,
                "uni_id": "Cl506-12-172t1"
               },
               {
                "baseline_spikes(-300-0ms)": 7.518796992481202,
                "block_type": "Visual",
                "label_loc": 36.023102310231025,
                "uni_id": "Cl610-26-175t1"
               },
               {
                "baseline_spikes(-300-0ms)": 6.467065868263472,
                "block_type": "Whisker",
                "label_loc": 36.023102310231025,
                "uni_id": "Cl610-26-175t1"
               },
               {
                "baseline_spikes(-300-0ms)": 8.983333333333334,
                "block_type": "Visual",
                "label_loc": 36.023102310231025,
                "uni_id": "Cl610-27-173t1"
               },
               {
                "baseline_spikes(-300-0ms)": 8.915662650602414,
                "block_type": "Whisker",
                "label_loc": 36.023102310231025,
                "uni_id": "Cl610-27-173t1"
               },
               {
                "baseline_spikes(-300-0ms)": 0.3166666666666667,
                "block_type": "Visual",
                "label_loc": 36.023102310231025,
                "uni_id": "Cl610-27-178t4"
               },
               {
                "baseline_spikes(-300-0ms)": 0.2008032128514056,
                "block_type": "Whisker",
                "label_loc": 36.023102310231025,
                "uni_id": "Cl610-27-178t4"
               }
              ]
             },
             "encoding": {
              "color": {
               "condition": {
                "field": "uni_id",
                "scale": {
                 "range": [
                  "steelblue"
                 ]
                },
                "selection": "selector069",
                "type": "nominal"
               },
               "value": "lightgray"
              },
              "x": {
               "field": "block_type",
               "type": "nominal"
              },
              "y": {
               "field": "baseline_spikes(-300-0ms)",
               "type": "quantitative"
              }
             },
             "height": 300,
             "mark": "line",
             "width": 200
            },
            {
             "data": {
              "values": [
               {
                "baseline_spikes(-300-0ms)": 0.43715846994535523,
                "block_type": "Visual",
                "label_loc": 36.023102310231025,
                "uni_id": "Cl405-19-178t4"
               },
               {
                "baseline_spikes(-300-0ms)": 0.9817351598173518,
                "block_type": "Whisker",
                "label_loc": 36.023102310231025,
                "uni_id": "Cl405-19-178t4"
               },
               {
                "baseline_spikes(-300-0ms)": 7.0202020202020226,
                "block_type": "Visual",
                "label_loc": 36.023102310231025,
                "uni_id": "Cl405-23-177t4"
               },
               {
                "baseline_spikes(-300-0ms)": 6.999999999999998,
                "block_type": "Whisker",
                "label_loc": 36.023102310231025,
                "uni_id": "Cl405-23-177t4"
               },
               {
                "baseline_spikes(-300-0ms)": 3.9646464646464623,
                "block_type": "Visual",
                "label_loc": 36.023102310231025,
                "uni_id": "Cl405-23-178t1"
               },
               {
                "baseline_spikes(-300-0ms)": 4.104166666666667,
                "block_type": "Whisker",
                "label_loc": 36.023102310231025,
                "uni_id": "Cl405-23-178t1"
               },
               {
                "baseline_spikes(-300-0ms)": 18.61842105263158,
                "block_type": "Visual",
                "label_loc": 36.023102310231025,
                "uni_id": "Cl405-26-172t4"
               },
               {
                "baseline_spikes(-300-0ms)": 15.533333333333337,
                "block_type": "Whisker",
                "label_loc": 36.023102310231025,
                "uni_id": "Cl405-26-172t4"
               },
               {
                "baseline_spikes(-300-0ms)": 18.59649122807018,
                "block_type": "Visual",
                "label_loc": 36.023102310231025,
                "uni_id": "Cl405-26-178t1"
               },
               {
                "baseline_spikes(-300-0ms)": 21.699999999999996,
                "block_type": "Whisker",
                "label_loc": 36.023102310231025,
                "uni_id": "Cl405-26-178t1"
               },
               {
                "baseline_spikes(-300-0ms)": 17.882882882882885,
                "block_type": "Visual",
                "label_loc": 36.023102310231025,
                "uni_id": "Cl405-31-176t1"
               },
               {
                "baseline_spikes(-300-0ms)": 16.901041666666654,
                "block_type": "Whisker",
                "label_loc": 36.023102310231025,
                "uni_id": "Cl405-31-176t1"
               },
               {
                "baseline_spikes(-300-0ms)": 31.023102310231028,
                "block_type": "Visual",
                "label_loc": 36.023102310231025,
                "uni_id": "Cl406-02-174t2"
               },
               {
                "baseline_spikes(-300-0ms)": 29.713701431492836,
                "block_type": "Whisker",
                "label_loc": 36.023102310231025,
                "uni_id": "Cl406-02-174t2"
               },
               {
                "baseline_spikes(-300-0ms)": 16.23762376237624,
                "block_type": "Visual",
                "label_loc": 36.023102310231025,
                "uni_id": "Cl406-02-176t2"
               },
               {
                "baseline_spikes(-300-0ms)": 18.507157464212682,
                "block_type": "Whisker",
                "label_loc": 36.023102310231025,
                "uni_id": "Cl406-02-176t2"
               },
               {
                "baseline_spikes(-300-0ms)": 23.79537953795379,
                "block_type": "Visual",
                "label_loc": 36.023102310231025,
                "uni_id": "Cl406-02-177t3"
               },
               {
                "baseline_spikes(-300-0ms)": 26.728016359918204,
                "block_type": "Whisker",
                "label_loc": 36.023102310231025,
                "uni_id": "Cl406-02-177t3"
               },
               {
                "baseline_spikes(-300-0ms)": 10.238095238095235,
                "block_type": "Visual",
                "label_loc": 36.023102310231025,
                "uni_id": "Cl406-03-175t3"
               },
               {
                "baseline_spikes(-300-0ms)": 11.620795107033636,
                "block_type": "Whisker",
                "label_loc": 36.023102310231025,
                "uni_id": "Cl406-03-175t3"
               },
               {
                "baseline_spikes(-300-0ms)": 7.380952380952384,
                "block_type": "Visual",
                "label_loc": 36.023102310231025,
                "uni_id": "Cl406-03-176t1"
               },
               {
                "baseline_spikes(-300-0ms)": 6.697247706422018,
                "block_type": "Whisker",
                "label_loc": 36.023102310231025,
                "uni_id": "Cl406-03-176t1"
               },
               {
                "baseline_spikes(-300-0ms)": 9.326923076923068,
                "block_type": "Visual",
                "label_loc": 36.023102310231025,
                "uni_id": "Cl406-05-174t3"
               },
               {
                "baseline_spikes(-300-0ms)": 10.343434343434346,
                "block_type": "Whisker",
                "label_loc": 36.023102310231025,
                "uni_id": "Cl406-05-174t3"
               },
               {
                "baseline_spikes(-300-0ms)": 6.019900497512437,
                "block_type": "Visual",
                "label_loc": 36.023102310231025,
                "uni_id": "Cl406-08-175t2"
               },
               {
                "baseline_spikes(-300-0ms)": 6.4653243847874755,
                "block_type": "Whisker",
                "label_loc": 36.023102310231025,
                "uni_id": "Cl406-08-175t2"
               },
               {
                "baseline_spikes(-300-0ms)": 6.031746031746034,
                "block_type": "Visual",
                "label_loc": 36.023102310231025,
                "uni_id": "Cl406-09-175t2"
               },
               {
                "baseline_spikes(-300-0ms)": 6.876876876876879,
                "block_type": "Whisker",
                "label_loc": 36.023102310231025,
                "uni_id": "Cl406-09-175t2"
               },
               {
                "baseline_spikes(-300-0ms)": 13.03448275862069,
                "block_type": "Visual",
                "label_loc": 36.023102310231025,
                "uni_id": "Cl505-31-171t2"
               },
               {
                "baseline_spikes(-300-0ms)": 13.681592039800993,
                "block_type": "Whisker",
                "label_loc": 36.023102310231025,
                "uni_id": "Cl505-31-171t2"
               },
               {
                "baseline_spikes(-300-0ms)": 1.8390804597701147,
                "block_type": "Visual",
                "label_loc": 36.023102310231025,
                "uni_id": "Cl505-31-172t4"
               },
               {
                "baseline_spikes(-300-0ms)": 2.4875621890547266,
                "block_type": "Whisker",
                "label_loc": 36.023102310231025,
                "uni_id": "Cl505-31-172t4"
               },
               {
                "baseline_spikes(-300-0ms)": 5.044247787610619,
                "block_type": "Visual",
                "label_loc": 36.023102310231025,
                "uni_id": "Cl506-02-176t4"
               },
               {
                "baseline_spikes(-300-0ms)": 5.595238095238095,
                "block_type": "Whisker",
                "label_loc": 36.023102310231025,
                "uni_id": "Cl506-02-176t4"
               },
               {
                "baseline_spikes(-300-0ms)": 11.947791164658636,
                "block_type": "Visual",
                "label_loc": 36.023102310231025,
                "uni_id": "Cl506-04-174t1"
               },
               {
                "baseline_spikes(-300-0ms)": 12.557077625570773,
                "block_type": "Whisker",
                "label_loc": 36.023102310231025,
                "uni_id": "Cl506-04-174t1"
               },
               {
                "baseline_spikes(-300-0ms)": 21.56626506024095,
                "block_type": "Visual",
                "label_loc": 36.023102310231025,
                "uni_id": "Cl506-04-176t3"
               },
               {
                "baseline_spikes(-300-0ms)": 18.196347031963487,
                "block_type": "Whisker",
                "label_loc": 36.023102310231025,
                "uni_id": "Cl506-04-176t3"
               },
               {
                "baseline_spikes(-300-0ms)": 11.394799054373522,
                "block_type": "Visual",
                "label_loc": 36.023102310231025,
                "uni_id": "Cl506-09-172t1"
               },
               {
                "baseline_spikes(-300-0ms)": 13.568075117370894,
                "block_type": "Whisker",
                "label_loc": 36.023102310231025,
                "uni_id": "Cl506-09-172t1"
               },
               {
                "baseline_spikes(-300-0ms)": 10.303030303030303,
                "block_type": "Visual",
                "label_loc": 36.023102310231025,
                "uni_id": "Cl506-12-172t1"
               },
               {
                "baseline_spikes(-300-0ms)": 12.769230769230772,
                "block_type": "Whisker",
                "label_loc": 36.023102310231025,
                "uni_id": "Cl506-12-172t1"
               },
               {
                "baseline_spikes(-300-0ms)": 7.518796992481202,
                "block_type": "Visual",
                "label_loc": 36.023102310231025,
                "uni_id": "Cl610-26-175t1"
               },
               {
                "baseline_spikes(-300-0ms)": 6.467065868263472,
                "block_type": "Whisker",
                "label_loc": 36.023102310231025,
                "uni_id": "Cl610-26-175t1"
               },
               {
                "baseline_spikes(-300-0ms)": 8.983333333333334,
                "block_type": "Visual",
                "label_loc": 36.023102310231025,
                "uni_id": "Cl610-27-173t1"
               },
               {
                "baseline_spikes(-300-0ms)": 8.915662650602414,
                "block_type": "Whisker",
                "label_loc": 36.023102310231025,
                "uni_id": "Cl610-27-173t1"
               },
               {
                "baseline_spikes(-300-0ms)": 0.3166666666666667,
                "block_type": "Visual",
                "label_loc": 36.023102310231025,
                "uni_id": "Cl610-27-178t4"
               },
               {
                "baseline_spikes(-300-0ms)": 0.2008032128514056,
                "block_type": "Whisker",
                "label_loc": 36.023102310231025,
                "uni_id": "Cl610-27-178t4"
               }
              ]
             },
             "encoding": {
              "text": {
               "condition": {
                "field": "uni_id",
                "selection": "selector069",
                "type": "nominal"
               },
               "value": " "
              },
              "y": {
               "field": "label_loc",
               "type": "quantitative"
              }
             },
             "mark": {
              "align": "left",
              "dx": 5,
              "dy": -0.5,
              "font": "Arial",
              "type": "text"
             }
            }
           ]
          },
          {
           "layer": [
            {
             "data": {
              "values": [
               {
                "stim_spikes(0-150ms)": 0.3674540682414698,
                "trial_type": "Stim_Som_NoCue",
                "uni_id": "Cl405-19-178t4"
               },
               {
                "stim_spikes(0-150ms)": 0.6619385342789599,
                "trial_type": "Stim_Vis_NoCue",
                "uni_id": "Cl405-19-178t4"
               },
               {
                "stim_spikes(0-150ms)": 13.771929824561411,
                "trial_type": "Stim_Som_NoCue",
                "uni_id": "Cl405-23-177t4"
               },
               {
                "stim_spikes(0-150ms)": 8.476190476190474,
                "trial_type": "Stim_Vis_NoCue",
                "uni_id": "Cl405-23-177t4"
               },
               {
                "stim_spikes(0-150ms)": 5.263157894736842,
                "trial_type": "Stim_Som_NoCue",
                "uni_id": "Cl405-23-178t1"
               },
               {
                "stim_spikes(0-150ms)": 4.57142857142857,
                "trial_type": "Stim_Vis_NoCue",
                "uni_id": "Cl405-23-178t1"
               },
               {
                "stim_spikes(0-150ms)": 18.746867167919792,
                "trial_type": "Stim_Som_NoCue",
                "uni_id": "Cl405-26-172t4"
               },
               {
                "stim_spikes(0-150ms)": 15.350140056022406,
                "trial_type": "Stim_Vis_NoCue",
                "uni_id": "Cl405-26-172t4"
               },
               {
                "stim_spikes(0-150ms)": 22.656641604010026,
                "trial_type": "Stim_Som_NoCue",
                "uni_id": "Cl405-26-178t1"
               },
               {
                "stim_spikes(0-150ms)": 20.28011204481793,
                "trial_type": "Stim_Vis_NoCue",
                "uni_id": "Cl405-26-178t1"
               },
               {
                "stim_spikes(0-150ms)": 16.058394160583948,
                "trial_type": "Stim_Som_NoCue",
                "uni_id": "Cl405-31-176t1"
               },
               {
                "stim_spikes(0-150ms)": 17.64988009592327,
                "trial_type": "Stim_Vis_NoCue",
                "uni_id": "Cl405-31-176t1"
               },
               {
                "stim_spikes(0-150ms)": 32.805755395683434,
                "trial_type": "Stim_Som_NoCue",
                "uni_id": "Cl406-02-174t2"
               },
               {
                "stim_spikes(0-150ms)": 30.720000000000002,
                "trial_type": "Stim_Vis_NoCue",
                "uni_id": "Cl406-02-174t2"
               },
               {
                "stim_spikes(0-150ms)": 19.088729016786576,
                "trial_type": "Stim_Som_NoCue",
                "uni_id": "Cl406-02-176t2"
               },
               {
                "stim_spikes(0-150ms)": 18.346666666666668,
                "trial_type": "Stim_Vis_NoCue",
                "uni_id": "Cl406-02-176t2"
               },
               {
                "stim_spikes(0-150ms)": 30.45563549160672,
                "trial_type": "Stim_Som_NoCue",
                "uni_id": "Cl406-02-177t3"
               },
               {
                "stim_spikes(0-150ms)": 26.77333333333334,
                "trial_type": "Stim_Vis_NoCue",
                "uni_id": "Cl406-02-177t3"
               },
               {
                "stim_spikes(0-150ms)": 16.560846560846567,
                "trial_type": "Stim_Som_NoCue",
                "uni_id": "Cl406-03-175t3"
               },
               {
                "stim_spikes(0-150ms)": 11.192214111922146,
                "trial_type": "Stim_Vis_NoCue",
                "uni_id": "Cl406-03-175t3"
               },
               {
                "stim_spikes(0-150ms)": 7.142857142857144,
                "trial_type": "Stim_Som_NoCue",
                "uni_id": "Cl406-03-176t1"
               },
               {
                "stim_spikes(0-150ms)": 6.763990267639902,
                "trial_type": "Stim_Vis_NoCue",
                "uni_id": "Cl406-03-176t1"
               },
               {
                "stim_spikes(0-150ms)": 17.07070707070707,
                "trial_type": "Stim_Som_NoCue",
                "uni_id": "Cl406-05-174t3"
               },
               {
                "stim_spikes(0-150ms)": 11.28953771289537,
                "trial_type": "Stim_Vis_NoCue",
                "uni_id": "Cl406-05-174t3"
               },
               {
                "stim_spikes(0-150ms)": 11.909385113268609,
                "trial_type": "Stim_Som_NoCue",
                "uni_id": "Cl406-08-175t2"
               },
               {
                "stim_spikes(0-150ms)": 8.082595870206484,
                "trial_type": "Stim_Vis_NoCue",
                "uni_id": "Cl406-08-175t2"
               },
               {
                "stim_spikes(0-150ms)": 9.016393442622947,
                "trial_type": "Stim_Som_NoCue",
                "uni_id": "Cl406-09-175t2"
               },
               {
                "stim_spikes(0-150ms)": 7.401960784313728,
                "trial_type": "Stim_Vis_NoCue",
                "uni_id": "Cl406-09-175t2"
               },
               {
                "stim_spikes(0-150ms)": 14.074074074074085,
                "trial_type": "Stim_Som_NoCue",
                "uni_id": "Cl505-31-171t2"
               },
               {
                "stim_spikes(0-150ms)": 12.491228070175435,
                "trial_type": "Stim_Vis_NoCue",
                "uni_id": "Cl505-31-171t2"
               },
               {
                "stim_spikes(0-150ms)": 2.45014245014245,
                "trial_type": "Stim_Som_NoCue",
                "uni_id": "Cl505-31-172t4"
               },
               {
                "stim_spikes(0-150ms)": 2.1754385964912277,
                "trial_type": "Stim_Vis_NoCue",
                "uni_id": "Cl505-31-172t4"
               },
               {
                "stim_spikes(0-150ms)": 7.304964539007091,
                "trial_type": "Stim_Som_NoCue",
                "uni_id": "Cl506-02-176t4"
               },
               {
                "stim_spikes(0-150ms)": 5.6957928802589,
                "trial_type": "Stim_Vis_NoCue",
                "uni_id": "Cl506-02-176t4"
               },
               {
                "stim_spikes(0-150ms)": 9.230769230769239,
                "trial_type": "Stim_Som_NoCue",
                "uni_id": "Cl506-04-174t1"
               },
               {
                "stim_spikes(0-150ms)": 10.04273504273504,
                "trial_type": "Stim_Vis_NoCue",
                "uni_id": "Cl506-04-174t1"
               },
               {
                "stim_spikes(0-150ms)": 27.52136752136752,
                "trial_type": "Stim_Som_NoCue",
                "uni_id": "Cl506-04-176t3"
               },
               {
                "stim_spikes(0-150ms)": 21.367521367521363,
                "trial_type": "Stim_Vis_NoCue",
                "uni_id": "Cl506-04-176t3"
               },
               {
                "stim_spikes(0-150ms)": 11.1264367816092,
                "trial_type": "Stim_Som_NoCue",
                "uni_id": "Cl506-09-172t1"
               },
               {
                "stim_spikes(0-150ms)": 13.28502415458938,
                "trial_type": "Stim_Vis_NoCue",
                "uni_id": "Cl506-09-172t1"
               },
               {
                "stim_spikes(0-150ms)": 11.419753086419755,
                "trial_type": "Stim_Som_NoCue",
                "uni_id": "Cl506-12-172t1"
               },
               {
                "stim_spikes(0-150ms)": 10.450450450450454,
                "trial_type": "Stim_Vis_NoCue",
                "uni_id": "Cl506-12-172t1"
               },
               {
                "stim_spikes(0-150ms)": 8.310502283105023,
                "trial_type": "Stim_Som_NoCue",
                "uni_id": "Cl610-26-175t1"
               },
               {
                "stim_spikes(0-150ms)": 6.190476190476188,
                "trial_type": "Stim_Vis_NoCue",
                "uni_id": "Cl610-26-175t1"
               },
               {
                "stim_spikes(0-150ms)": 10.07662835249042,
                "trial_type": "Stim_Som_NoCue",
                "uni_id": "Cl610-27-173t1"
               },
               {
                "stim_spikes(0-150ms)": 9.201388888888895,
                "trial_type": "Stim_Vis_NoCue",
                "uni_id": "Cl610-27-173t1"
               },
               {
                "stim_spikes(0-150ms)": 0.11494252873563218,
                "trial_type": "Stim_Som_NoCue",
                "uni_id": "Cl610-27-178t4"
               },
               {
                "stim_spikes(0-150ms)": 0.4166666666666667,
                "trial_type": "Stim_Vis_NoCue",
                "uni_id": "Cl610-27-178t4"
               },
               {
                "stim_spikes(0-150ms)": 0.8208955223880596,
                "trial_type": "baseline",
                "uni_id": "Cl405-19-178t4"
               },
               {
                "stim_spikes(0-150ms)": 7.0319634703196385,
                "trial_type": "baseline",
                "uni_id": "Cl405-23-177t4"
               },
               {
                "stim_spikes(0-150ms)": 3.789954337899543,
                "trial_type": "baseline",
                "uni_id": "Cl405-23-178t1"
               },
               {
                "stim_spikes(0-150ms)": 17.592592592592588,
                "trial_type": "baseline",
                "uni_id": "Cl405-26-172t4"
               },
               {
                "stim_spikes(0-150ms)": 20.158730158730144,
                "trial_type": "baseline",
                "uni_id": "Cl405-26-178t1"
               },
               {
                "stim_spikes(0-150ms)": 17.51207729468601,
                "trial_type": "baseline",
                "uni_id": "Cl405-31-176t1"
               },
               {
                "stim_spikes(0-150ms)": 30.50505050505051,
                "trial_type": "baseline",
                "uni_id": "Cl406-02-174t2"
               },
               {
                "stim_spikes(0-150ms)": 18.308080808080778,
                "trial_type": "baseline",
                "uni_id": "Cl406-02-176t2"
               },
               {
                "stim_spikes(0-150ms)": 25.707070707070706,
                "trial_type": "baseline",
                "uni_id": "Cl406-02-177t3"
               },
               {
                "stim_spikes(0-150ms)": 10.367553865652717,
                "trial_type": "baseline",
                "uni_id": "Cl406-03-175t3"
               },
               {
                "stim_spikes(0-150ms)": 7.427122940430927,
                "trial_type": "baseline",
                "uni_id": "Cl406-03-176t1"
               },
               {
                "stim_spikes(0-150ms)": 10.185873605947963,
                "trial_type": "baseline",
                "uni_id": "Cl406-05-174t3"
               },
               {
                "stim_spikes(0-150ms)": 6.2962962962962985,
                "trial_type": "baseline",
                "uni_id": "Cl406-08-175t2"
               },
               {
                "stim_spikes(0-150ms)": 6.227390180878554,
                "trial_type": "baseline",
                "uni_id": "Cl406-09-175t2"
               },
               {
                "stim_spikes(0-150ms)": 13.333333333333329,
                "trial_type": "baseline",
                "uni_id": "Cl505-31-171t2"
               },
               {
                "stim_spikes(0-150ms)": 2.044025157232705,
                "trial_type": "baseline",
                "uni_id": "Cl505-31-172t4"
               },
               {
                "stim_spikes(0-150ms)": 5.549915397631131,
                "trial_type": "baseline",
                "uni_id": "Cl506-02-176t4"
               },
               {
                "stim_spikes(0-150ms)": 12.15811965811965,
                "trial_type": "baseline",
                "uni_id": "Cl506-04-174t1"
               },
               {
                "stim_spikes(0-150ms)": 19.89316239316241,
                "trial_type": "baseline",
                "uni_id": "Cl506-04-176t3"
               },
               {
                "stim_spikes(0-150ms)": 12.838633686690216,
                "trial_type": "baseline",
                "uni_id": "Cl506-09-172t1"
               },
               {
                "stim_spikes(0-150ms)": 11.111111111111105,
                "trial_type": "baseline",
                "uni_id": "Cl506-12-172t1"
               },
               {
                "stim_spikes(0-150ms)": 6.844444444444451,
                "trial_type": "baseline",
                "uni_id": "Cl610-26-175t1"
               },
               {
                "stim_spikes(0-150ms)": 8.907103825136604,
                "trial_type": "baseline",
                "uni_id": "Cl610-27-173t1"
               },
               {
                "stim_spikes(0-150ms)": 0.3096539162112933,
                "trial_type": "baseline",
                "uni_id": "Cl610-27-178t4"
               }
              ]
             },
             "encoding": {
              "color": {
               "condition": {
                "field": "uni_id",
                "selection": "selector069",
                "type": "nominal"
               },
               "value": "lightgray"
              },
              "x": {
               "field": "trial_type",
               "type": "nominal"
              },
              "y": {
               "field": "stim_spikes(0-150ms)",
               "type": "quantitative"
              }
             },
             "height": 300,
             "mark": "point",
             "selection": {
              "selector069": {
               "empty": "all",
               "encodings": [
                "color"
               ],
               "on": "click",
               "resolve": "global",
               "type": "single"
              },
              "selector071": {
               "bind": "scales",
               "encodings": [
                "x",
                "y"
               ],
               "mark": {
                "fill": "#333",
                "fillOpacity": 0.125,
                "stroke": "white"
               },
               "on": "[mousedown, window:mouseup] > window:mousemove!",
               "resolve": "global",
               "translate": "[mousedown, window:mouseup] > window:mousemove!",
               "type": "interval",
               "zoom": "wheel!"
              }
             },
             "width": 200
            },
            {
             "data": {
              "values": [
               {
                "stim_spikes(0-150ms)": 0.3674540682414698,
                "trial_type": "Stim_Som_NoCue",
                "uni_id": "Cl405-19-178t4"
               },
               {
                "stim_spikes(0-150ms)": 0.6619385342789599,
                "trial_type": "Stim_Vis_NoCue",
                "uni_id": "Cl405-19-178t4"
               },
               {
                "stim_spikes(0-150ms)": 13.771929824561411,
                "trial_type": "Stim_Som_NoCue",
                "uni_id": "Cl405-23-177t4"
               },
               {
                "stim_spikes(0-150ms)": 8.476190476190474,
                "trial_type": "Stim_Vis_NoCue",
                "uni_id": "Cl405-23-177t4"
               },
               {
                "stim_spikes(0-150ms)": 5.263157894736842,
                "trial_type": "Stim_Som_NoCue",
                "uni_id": "Cl405-23-178t1"
               },
               {
                "stim_spikes(0-150ms)": 4.57142857142857,
                "trial_type": "Stim_Vis_NoCue",
                "uni_id": "Cl405-23-178t1"
               },
               {
                "stim_spikes(0-150ms)": 18.746867167919792,
                "trial_type": "Stim_Som_NoCue",
                "uni_id": "Cl405-26-172t4"
               },
               {
                "stim_spikes(0-150ms)": 15.350140056022406,
                "trial_type": "Stim_Vis_NoCue",
                "uni_id": "Cl405-26-172t4"
               },
               {
                "stim_spikes(0-150ms)": 22.656641604010026,
                "trial_type": "Stim_Som_NoCue",
                "uni_id": "Cl405-26-178t1"
               },
               {
                "stim_spikes(0-150ms)": 20.28011204481793,
                "trial_type": "Stim_Vis_NoCue",
                "uni_id": "Cl405-26-178t1"
               },
               {
                "stim_spikes(0-150ms)": 16.058394160583948,
                "trial_type": "Stim_Som_NoCue",
                "uni_id": "Cl405-31-176t1"
               },
               {
                "stim_spikes(0-150ms)": 17.64988009592327,
                "trial_type": "Stim_Vis_NoCue",
                "uni_id": "Cl405-31-176t1"
               },
               {
                "stim_spikes(0-150ms)": 32.805755395683434,
                "trial_type": "Stim_Som_NoCue",
                "uni_id": "Cl406-02-174t2"
               },
               {
                "stim_spikes(0-150ms)": 30.720000000000002,
                "trial_type": "Stim_Vis_NoCue",
                "uni_id": "Cl406-02-174t2"
               },
               {
                "stim_spikes(0-150ms)": 19.088729016786576,
                "trial_type": "Stim_Som_NoCue",
                "uni_id": "Cl406-02-176t2"
               },
               {
                "stim_spikes(0-150ms)": 18.346666666666668,
                "trial_type": "Stim_Vis_NoCue",
                "uni_id": "Cl406-02-176t2"
               },
               {
                "stim_spikes(0-150ms)": 30.45563549160672,
                "trial_type": "Stim_Som_NoCue",
                "uni_id": "Cl406-02-177t3"
               },
               {
                "stim_spikes(0-150ms)": 26.77333333333334,
                "trial_type": "Stim_Vis_NoCue",
                "uni_id": "Cl406-02-177t3"
               },
               {
                "stim_spikes(0-150ms)": 16.560846560846567,
                "trial_type": "Stim_Som_NoCue",
                "uni_id": "Cl406-03-175t3"
               },
               {
                "stim_spikes(0-150ms)": 11.192214111922146,
                "trial_type": "Stim_Vis_NoCue",
                "uni_id": "Cl406-03-175t3"
               },
               {
                "stim_spikes(0-150ms)": 7.142857142857144,
                "trial_type": "Stim_Som_NoCue",
                "uni_id": "Cl406-03-176t1"
               },
               {
                "stim_spikes(0-150ms)": 6.763990267639902,
                "trial_type": "Stim_Vis_NoCue",
                "uni_id": "Cl406-03-176t1"
               },
               {
                "stim_spikes(0-150ms)": 17.07070707070707,
                "trial_type": "Stim_Som_NoCue",
                "uni_id": "Cl406-05-174t3"
               },
               {
                "stim_spikes(0-150ms)": 11.28953771289537,
                "trial_type": "Stim_Vis_NoCue",
                "uni_id": "Cl406-05-174t3"
               },
               {
                "stim_spikes(0-150ms)": 11.909385113268609,
                "trial_type": "Stim_Som_NoCue",
                "uni_id": "Cl406-08-175t2"
               },
               {
                "stim_spikes(0-150ms)": 8.082595870206484,
                "trial_type": "Stim_Vis_NoCue",
                "uni_id": "Cl406-08-175t2"
               },
               {
                "stim_spikes(0-150ms)": 9.016393442622947,
                "trial_type": "Stim_Som_NoCue",
                "uni_id": "Cl406-09-175t2"
               },
               {
                "stim_spikes(0-150ms)": 7.401960784313728,
                "trial_type": "Stim_Vis_NoCue",
                "uni_id": "Cl406-09-175t2"
               },
               {
                "stim_spikes(0-150ms)": 14.074074074074085,
                "trial_type": "Stim_Som_NoCue",
                "uni_id": "Cl505-31-171t2"
               },
               {
                "stim_spikes(0-150ms)": 12.491228070175435,
                "trial_type": "Stim_Vis_NoCue",
                "uni_id": "Cl505-31-171t2"
               },
               {
                "stim_spikes(0-150ms)": 2.45014245014245,
                "trial_type": "Stim_Som_NoCue",
                "uni_id": "Cl505-31-172t4"
               },
               {
                "stim_spikes(0-150ms)": 2.1754385964912277,
                "trial_type": "Stim_Vis_NoCue",
                "uni_id": "Cl505-31-172t4"
               },
               {
                "stim_spikes(0-150ms)": 7.304964539007091,
                "trial_type": "Stim_Som_NoCue",
                "uni_id": "Cl506-02-176t4"
               },
               {
                "stim_spikes(0-150ms)": 5.6957928802589,
                "trial_type": "Stim_Vis_NoCue",
                "uni_id": "Cl506-02-176t4"
               },
               {
                "stim_spikes(0-150ms)": 9.230769230769239,
                "trial_type": "Stim_Som_NoCue",
                "uni_id": "Cl506-04-174t1"
               },
               {
                "stim_spikes(0-150ms)": 10.04273504273504,
                "trial_type": "Stim_Vis_NoCue",
                "uni_id": "Cl506-04-174t1"
               },
               {
                "stim_spikes(0-150ms)": 27.52136752136752,
                "trial_type": "Stim_Som_NoCue",
                "uni_id": "Cl506-04-176t3"
               },
               {
                "stim_spikes(0-150ms)": 21.367521367521363,
                "trial_type": "Stim_Vis_NoCue",
                "uni_id": "Cl506-04-176t3"
               },
               {
                "stim_spikes(0-150ms)": 11.1264367816092,
                "trial_type": "Stim_Som_NoCue",
                "uni_id": "Cl506-09-172t1"
               },
               {
                "stim_spikes(0-150ms)": 13.28502415458938,
                "trial_type": "Stim_Vis_NoCue",
                "uni_id": "Cl506-09-172t1"
               },
               {
                "stim_spikes(0-150ms)": 11.419753086419755,
                "trial_type": "Stim_Som_NoCue",
                "uni_id": "Cl506-12-172t1"
               },
               {
                "stim_spikes(0-150ms)": 10.450450450450454,
                "trial_type": "Stim_Vis_NoCue",
                "uni_id": "Cl506-12-172t1"
               },
               {
                "stim_spikes(0-150ms)": 8.310502283105023,
                "trial_type": "Stim_Som_NoCue",
                "uni_id": "Cl610-26-175t1"
               },
               {
                "stim_spikes(0-150ms)": 6.190476190476188,
                "trial_type": "Stim_Vis_NoCue",
                "uni_id": "Cl610-26-175t1"
               },
               {
                "stim_spikes(0-150ms)": 10.07662835249042,
                "trial_type": "Stim_Som_NoCue",
                "uni_id": "Cl610-27-173t1"
               },
               {
                "stim_spikes(0-150ms)": 9.201388888888895,
                "trial_type": "Stim_Vis_NoCue",
                "uni_id": "Cl610-27-173t1"
               },
               {
                "stim_spikes(0-150ms)": 0.11494252873563218,
                "trial_type": "Stim_Som_NoCue",
                "uni_id": "Cl610-27-178t4"
               },
               {
                "stim_spikes(0-150ms)": 0.4166666666666667,
                "trial_type": "Stim_Vis_NoCue",
                "uni_id": "Cl610-27-178t4"
               },
               {
                "stim_spikes(0-150ms)": 0.8208955223880596,
                "trial_type": "baseline",
                "uni_id": "Cl405-19-178t4"
               },
               {
                "stim_spikes(0-150ms)": 7.0319634703196385,
                "trial_type": "baseline",
                "uni_id": "Cl405-23-177t4"
               },
               {
                "stim_spikes(0-150ms)": 3.789954337899543,
                "trial_type": "baseline",
                "uni_id": "Cl405-23-178t1"
               },
               {
                "stim_spikes(0-150ms)": 17.592592592592588,
                "trial_type": "baseline",
                "uni_id": "Cl405-26-172t4"
               },
               {
                "stim_spikes(0-150ms)": 20.158730158730144,
                "trial_type": "baseline",
                "uni_id": "Cl405-26-178t1"
               },
               {
                "stim_spikes(0-150ms)": 17.51207729468601,
                "trial_type": "baseline",
                "uni_id": "Cl405-31-176t1"
               },
               {
                "stim_spikes(0-150ms)": 30.50505050505051,
                "trial_type": "baseline",
                "uni_id": "Cl406-02-174t2"
               },
               {
                "stim_spikes(0-150ms)": 18.308080808080778,
                "trial_type": "baseline",
                "uni_id": "Cl406-02-176t2"
               },
               {
                "stim_spikes(0-150ms)": 25.707070707070706,
                "trial_type": "baseline",
                "uni_id": "Cl406-02-177t3"
               },
               {
                "stim_spikes(0-150ms)": 10.367553865652717,
                "trial_type": "baseline",
                "uni_id": "Cl406-03-175t3"
               },
               {
                "stim_spikes(0-150ms)": 7.427122940430927,
                "trial_type": "baseline",
                "uni_id": "Cl406-03-176t1"
               },
               {
                "stim_spikes(0-150ms)": 10.185873605947963,
                "trial_type": "baseline",
                "uni_id": "Cl406-05-174t3"
               },
               {
                "stim_spikes(0-150ms)": 6.2962962962962985,
                "trial_type": "baseline",
                "uni_id": "Cl406-08-175t2"
               },
               {
                "stim_spikes(0-150ms)": 6.227390180878554,
                "trial_type": "baseline",
                "uni_id": "Cl406-09-175t2"
               },
               {
                "stim_spikes(0-150ms)": 13.333333333333329,
                "trial_type": "baseline",
                "uni_id": "Cl505-31-171t2"
               },
               {
                "stim_spikes(0-150ms)": 2.044025157232705,
                "trial_type": "baseline",
                "uni_id": "Cl505-31-172t4"
               },
               {
                "stim_spikes(0-150ms)": 5.549915397631131,
                "trial_type": "baseline",
                "uni_id": "Cl506-02-176t4"
               },
               {
                "stim_spikes(0-150ms)": 12.15811965811965,
                "trial_type": "baseline",
                "uni_id": "Cl506-04-174t1"
               },
               {
                "stim_spikes(0-150ms)": 19.89316239316241,
                "trial_type": "baseline",
                "uni_id": "Cl506-04-176t3"
               },
               {
                "stim_spikes(0-150ms)": 12.838633686690216,
                "trial_type": "baseline",
                "uni_id": "Cl506-09-172t1"
               },
               {
                "stim_spikes(0-150ms)": 11.111111111111105,
                "trial_type": "baseline",
                "uni_id": "Cl506-12-172t1"
               },
               {
                "stim_spikes(0-150ms)": 6.844444444444451,
                "trial_type": "baseline",
                "uni_id": "Cl610-26-175t1"
               },
               {
                "stim_spikes(0-150ms)": 8.907103825136604,
                "trial_type": "baseline",
                "uni_id": "Cl610-27-173t1"
               },
               {
                "stim_spikes(0-150ms)": 0.3096539162112933,
                "trial_type": "baseline",
                "uni_id": "Cl610-27-178t4"
               }
              ]
             },
             "encoding": {
              "color": {
               "condition": {
                "field": "uni_id",
                "scale": {
                 "range": [
                  "steelblue"
                 ]
                },
                "selection": "selector069",
                "type": "nominal"
               },
               "value": "lightgray"
              },
              "x": {
               "field": "trial_type",
               "type": "nominal"
              },
              "y": {
               "field": "stim_spikes(0-150ms)",
               "type": "quantitative"
              }
             },
             "height": 300,
             "mark": "line",
             "width": 200
            }
           ]
          },
          {
           "layer": [
            {
             "data": {
              "values": [
               {
                "lick_spikes(-150-150ms)": 0.5043859649122806,
                "response": "no lick",
                "uni_id": "Cl405-19-178t4"
               },
               {
                "lick_spikes(-150-150ms)": 1.1111111111111112,
                "response": "right",
                "uni_id": "Cl405-19-178t4"
               },
               {
                "lick_spikes(-150-150ms)": 0.15384615384615385,
                "response": "left",
                "uni_id": "Cl405-19-178t4"
               },
               {
                "lick_spikes(-150-150ms)": 7.217847769028872,
                "response": "no lick",
                "uni_id": "Cl405-23-177t4"
               },
               {
                "lick_spikes(-150-150ms)": 9.62121212121212,
                "response": "right",
                "uni_id": "Cl405-23-177t4"
               },
               {
                "lick_spikes(-150-150ms)": 11.255411255411255,
                "response": "left",
                "uni_id": "Cl405-23-177t4"
               },
               {
                "lick_spikes(-150-150ms)": 3.3858267716535426,
                "response": "no lick",
                "uni_id": "Cl405-23-178t1"
               },
               {
                "lick_spikes(-150-150ms)": 7.272727272727274,
                "response": "right",
                "uni_id": "Cl405-23-178t1"
               },
               {
                "lick_spikes(-150-150ms)": 4.06926406926407,
                "response": "left",
                "uni_id": "Cl405-23-178t1"
               },
               {
                "lick_spikes(-150-150ms)": 17.84172661870503,
                "response": "no lick",
                "uni_id": "Cl405-26-172t4"
               },
               {
                "lick_spikes(-150-150ms)": 19.885057471264368,
                "response": "right",
                "uni_id": "Cl405-26-172t4"
               },
               {
                "lick_spikes(-150-150ms)": 24.44444444444445,
                "response": "left",
                "uni_id": "Cl405-26-172t4"
               },
               {
                "lick_spikes(-150-150ms)": 21.10311750599522,
                "response": "no lick",
                "uni_id": "Cl405-26-178t1"
               },
               {
                "lick_spikes(-150-150ms)": 19.310344827586206,
                "response": "right",
                "uni_id": "Cl405-26-178t1"
               },
               {
                "lick_spikes(-150-150ms)": 20.555555555555557,
                "response": "left",
                "uni_id": "Cl405-26-178t1"
               },
               {
                "lick_spikes(-150-150ms)": 16.011235955056165,
                "response": "no lick",
                "uni_id": "Cl405-31-176t1"
               },
               {
                "lick_spikes(-150-150ms)": 11.481481481481483,
                "response": "right",
                "uni_id": "Cl405-31-176t1"
               },
               {
                "lick_spikes(-150-150ms)": 6.935483870967743,
                "response": "left",
                "uni_id": "Cl405-31-176t1"
               },
               {
                "lick_spikes(-150-150ms)": 31.323529411764728,
                "response": "no lick",
                "uni_id": "Cl406-02-174t2"
               },
               {
                "lick_spikes(-150-150ms)": 40.08771929824561,
                "response": "right",
                "uni_id": "Cl406-02-174t2"
               },
               {
                "lick_spikes(-150-150ms)": 36.36363636363637,
                "response": "left",
                "uni_id": "Cl406-02-174t2"
               },
               {
                "lick_spikes(-150-150ms)": 17.189542483660134,
                "response": "no lick",
                "uni_id": "Cl406-02-176t2"
               },
               {
                "lick_spikes(-150-150ms)": 19.03508771929825,
                "response": "right",
                "uni_id": "Cl406-02-176t2"
               },
               {
                "lick_spikes(-150-150ms)": 19.09090909090909,
                "response": "left",
                "uni_id": "Cl406-02-176t2"
               },
               {
                "lick_spikes(-150-150ms)": 25.032679738562116,
                "response": "no lick",
                "uni_id": "Cl406-02-177t3"
               },
               {
                "lick_spikes(-150-150ms)": 32.280701754385966,
                "response": "right",
                "uni_id": "Cl406-02-177t3"
               },
               {
                "lick_spikes(-150-150ms)": 29.84848484848484,
                "response": "left",
                "uni_id": "Cl406-02-177t3"
               },
               {
                "lick_spikes(-150-150ms)": 11.607843137254898,
                "response": "no lick",
                "uni_id": "Cl406-03-175t3"
               },
               {
                "lick_spikes(-150-150ms)": 20.18018018018018,
                "response": "right",
                "uni_id": "Cl406-03-175t3"
               },
               {
                "lick_spikes(-150-150ms)": 16.547619047619047,
                "response": "left",
                "uni_id": "Cl406-03-175t3"
               },
               {
                "lick_spikes(-150-150ms)": 6.352941176470588,
                "response": "no lick",
                "uni_id": "Cl406-03-176t1"
               },
               {
                "lick_spikes(-150-150ms)": 7.927927927927926,
                "response": "right",
                "uni_id": "Cl406-03-176t1"
               },
               {
                "lick_spikes(-150-150ms)": 6.666666666666669,
                "response": "left",
                "uni_id": "Cl406-03-176t1"
               },
               {
                "lick_spikes(-150-150ms)": 10.348583877995647,
                "response": "no lick",
                "uni_id": "Cl406-05-174t3"
               },
               {
                "lick_spikes(-150-150ms)": 18.189300411522623,
                "response": "right",
                "uni_id": "Cl406-05-174t3"
               },
               {
                "lick_spikes(-150-150ms)": 13.142857142857139,
                "response": "left",
                "uni_id": "Cl406-05-174t3"
               },
               {
                "lick_spikes(-150-150ms)": 7.647058823529412,
                "response": "no lick",
                "uni_id": "Cl406-08-175t2"
               },
               {
                "lick_spikes(-150-150ms)": 28.91774891774892,
                "response": "right",
                "uni_id": "Cl406-08-175t2"
               },
               {
                "lick_spikes(-150-150ms)": 29.099099099099096,
                "response": "left",
                "uni_id": "Cl406-08-175t2"
               },
               {
                "lick_spikes(-150-150ms)": 7.232704402515725,
                "response": "no lick",
                "uni_id": "Cl406-09-175t2"
               },
               {
                "lick_spikes(-150-150ms)": 14.180790960451981,
                "response": "right",
                "uni_id": "Cl406-09-175t2"
               },
               {
                "lick_spikes(-150-150ms)": 19.17562724014336,
                "response": "left",
                "uni_id": "Cl406-09-175t2"
               },
               {
                "lick_spikes(-150-150ms)": 11.268115942028988,
                "response": "no lick",
                "uni_id": "Cl505-31-171t2"
               },
               {
                "lick_spikes(-150-150ms)": 4.885057471264368,
                "response": "right",
                "uni_id": "Cl505-31-171t2"
               },
               {
                "lick_spikes(-150-150ms)": 2.0430107526881716,
                "response": "left",
                "uni_id": "Cl505-31-171t2"
               },
               {
                "lick_spikes(-150-150ms)": 1.2318840579710142,
                "response": "no lick",
                "uni_id": "Cl505-31-172t4"
               },
               {
                "lick_spikes(-150-150ms)": 0.2873563218390805,
                "response": "right",
                "uni_id": "Cl505-31-172t4"
               },
               {
                "lick_spikes(-150-150ms)": 0.16129032258064516,
                "response": "left",
                "uni_id": "Cl505-31-172t4"
               },
               {
                "lick_spikes(-150-150ms)": 5.014749262536873,
                "response": "no lick",
                "uni_id": "Cl506-02-176t4"
               },
               {
                "lick_spikes(-150-150ms)": 5.151515151515151,
                "response": "right",
                "uni_id": "Cl506-02-176t4"
               },
               {
                "lick_spikes(-150-150ms)": 3.856209150326797,
                "response": "left",
                "uni_id": "Cl506-02-176t4"
               },
               {
                "lick_spikes(-150-150ms)": 11.308641975308646,
                "response": "no lick",
                "uni_id": "Cl506-04-174t1"
               },
               {
                "lick_spikes(-150-150ms)": 6.428571428571427,
                "response": "right",
                "uni_id": "Cl506-04-174t1"
               },
               {
                "lick_spikes(-150-150ms)": 4.838709677419353,
                "response": "left",
                "uni_id": "Cl506-04-174t1"
               },
               {
                "lick_spikes(-150-150ms)": 19.28395061728396,
                "response": "no lick",
                "uni_id": "Cl506-04-176t3"
               },
               {
                "lick_spikes(-150-150ms)": 37.30158730158731,
                "response": "right",
                "uni_id": "Cl506-04-176t3"
               },
               {
                "lick_spikes(-150-150ms)": 43.2258064516129,
                "response": "left",
                "uni_id": "Cl506-04-176t3"
               },
               {
                "lick_spikes(-150-150ms)": 14.785478547854785,
                "response": "no lick",
                "uni_id": "Cl506-09-172t1"
               },
               {
                "lick_spikes(-150-150ms)": 30.476190476190474,
                "response": "right",
                "uni_id": "Cl506-09-172t1"
               },
               {
                "lick_spikes(-150-150ms)": 27.445887445887447,
                "response": "left",
                "uni_id": "Cl506-09-172t1"
               },
               {
                "lick_spikes(-150-150ms)": 11.893004115226338,
                "response": "no lick",
                "uni_id": "Cl506-12-172t1"
               },
               {
                "lick_spikes(-150-150ms)": 28.014184397163106,
                "response": "right",
                "uni_id": "Cl506-12-172t1"
               },
               {
                "lick_spikes(-150-150ms)": 28.827838827838814,
                "response": "left",
                "uni_id": "Cl506-12-172t1"
               },
               {
                "lick_spikes(-150-150ms)": 6.884920634920633,
                "response": "no lick",
                "uni_id": "Cl610-26-175t1"
               },
               {
                "lick_spikes(-150-150ms)": 14.139784946236558,
                "response": "right",
                "uni_id": "Cl610-26-175t1"
               },
               {
                "lick_spikes(-150-150ms)": 15.952380952380954,
                "response": "left",
                "uni_id": "Cl610-26-175t1"
               },
               {
                "lick_spikes(-150-150ms)": 7.467811158798275,
                "response": "no lick",
                "uni_id": "Cl610-27-173t1"
               },
               {
                "lick_spikes(-150-150ms)": 17.105263157894733,
                "response": "right",
                "uni_id": "Cl610-27-173t1"
               },
               {
                "lick_spikes(-150-150ms)": 17.1578947368421,
                "response": "left",
                "uni_id": "Cl610-27-173t1"
               },
               {
                "lick_spikes(-150-150ms)": 0.37195994277539346,
                "response": "no lick",
                "uni_id": "Cl610-27-178t4"
               },
               {
                "lick_spikes(-150-150ms)": 0,
                "response": "right",
                "uni_id": "Cl610-27-178t4"
               },
               {
                "lick_spikes(-150-150ms)": 0,
                "response": "left",
                "uni_id": "Cl610-27-178t4"
               }
              ]
             },
             "encoding": {
              "color": {
               "condition": {
                "field": "uni_id",
                "selection": "selector069",
                "type": "nominal"
               },
               "value": "lightgray"
              },
              "x": {
               "field": "response",
               "type": "nominal"
              },
              "y": {
               "field": "lick_spikes(-150-150ms)",
               "type": "quantitative"
              }
             },
             "height": 300,
             "mark": "point",
             "selection": {
              "selector069": {
               "empty": "all",
               "encodings": [
                "color"
               ],
               "on": "click",
               "resolve": "global",
               "type": "single"
              },
              "selector072": {
               "bind": "scales",
               "encodings": [
                "x",
                "y"
               ],
               "mark": {
                "fill": "#333",
                "fillOpacity": 0.125,
                "stroke": "white"
               },
               "on": "[mousedown, window:mouseup] > window:mousemove!",
               "resolve": "global",
               "translate": "[mousedown, window:mouseup] > window:mousemove!",
               "type": "interval",
               "zoom": "wheel!"
              }
             },
             "width": 200
            },
            {
             "data": {
              "values": [
               {
                "lick_spikes(-150-150ms)": 0.5043859649122806,
                "response": "no lick",
                "uni_id": "Cl405-19-178t4"
               },
               {
                "lick_spikes(-150-150ms)": 1.1111111111111112,
                "response": "right",
                "uni_id": "Cl405-19-178t4"
               },
               {
                "lick_spikes(-150-150ms)": 0.15384615384615385,
                "response": "left",
                "uni_id": "Cl405-19-178t4"
               },
               {
                "lick_spikes(-150-150ms)": 7.217847769028872,
                "response": "no lick",
                "uni_id": "Cl405-23-177t4"
               },
               {
                "lick_spikes(-150-150ms)": 9.62121212121212,
                "response": "right",
                "uni_id": "Cl405-23-177t4"
               },
               {
                "lick_spikes(-150-150ms)": 11.255411255411255,
                "response": "left",
                "uni_id": "Cl405-23-177t4"
               },
               {
                "lick_spikes(-150-150ms)": 3.3858267716535426,
                "response": "no lick",
                "uni_id": "Cl405-23-178t1"
               },
               {
                "lick_spikes(-150-150ms)": 7.272727272727274,
                "response": "right",
                "uni_id": "Cl405-23-178t1"
               },
               {
                "lick_spikes(-150-150ms)": 4.06926406926407,
                "response": "left",
                "uni_id": "Cl405-23-178t1"
               },
               {
                "lick_spikes(-150-150ms)": 17.84172661870503,
                "response": "no lick",
                "uni_id": "Cl405-26-172t4"
               },
               {
                "lick_spikes(-150-150ms)": 19.885057471264368,
                "response": "right",
                "uni_id": "Cl405-26-172t4"
               },
               {
                "lick_spikes(-150-150ms)": 24.44444444444445,
                "response": "left",
                "uni_id": "Cl405-26-172t4"
               },
               {
                "lick_spikes(-150-150ms)": 21.10311750599522,
                "response": "no lick",
                "uni_id": "Cl405-26-178t1"
               },
               {
                "lick_spikes(-150-150ms)": 19.310344827586206,
                "response": "right",
                "uni_id": "Cl405-26-178t1"
               },
               {
                "lick_spikes(-150-150ms)": 20.555555555555557,
                "response": "left",
                "uni_id": "Cl405-26-178t1"
               },
               {
                "lick_spikes(-150-150ms)": 16.011235955056165,
                "response": "no lick",
                "uni_id": "Cl405-31-176t1"
               },
               {
                "lick_spikes(-150-150ms)": 11.481481481481483,
                "response": "right",
                "uni_id": "Cl405-31-176t1"
               },
               {
                "lick_spikes(-150-150ms)": 6.935483870967743,
                "response": "left",
                "uni_id": "Cl405-31-176t1"
               },
               {
                "lick_spikes(-150-150ms)": 31.323529411764728,
                "response": "no lick",
                "uni_id": "Cl406-02-174t2"
               },
               {
                "lick_spikes(-150-150ms)": 40.08771929824561,
                "response": "right",
                "uni_id": "Cl406-02-174t2"
               },
               {
                "lick_spikes(-150-150ms)": 36.36363636363637,
                "response": "left",
                "uni_id": "Cl406-02-174t2"
               },
               {
                "lick_spikes(-150-150ms)": 17.189542483660134,
                "response": "no lick",
                "uni_id": "Cl406-02-176t2"
               },
               {
                "lick_spikes(-150-150ms)": 19.03508771929825,
                "response": "right",
                "uni_id": "Cl406-02-176t2"
               },
               {
                "lick_spikes(-150-150ms)": 19.09090909090909,
                "response": "left",
                "uni_id": "Cl406-02-176t2"
               },
               {
                "lick_spikes(-150-150ms)": 25.032679738562116,
                "response": "no lick",
                "uni_id": "Cl406-02-177t3"
               },
               {
                "lick_spikes(-150-150ms)": 32.280701754385966,
                "response": "right",
                "uni_id": "Cl406-02-177t3"
               },
               {
                "lick_spikes(-150-150ms)": 29.84848484848484,
                "response": "left",
                "uni_id": "Cl406-02-177t3"
               },
               {
                "lick_spikes(-150-150ms)": 11.607843137254898,
                "response": "no lick",
                "uni_id": "Cl406-03-175t3"
               },
               {
                "lick_spikes(-150-150ms)": 20.18018018018018,
                "response": "right",
                "uni_id": "Cl406-03-175t3"
               },
               {
                "lick_spikes(-150-150ms)": 16.547619047619047,
                "response": "left",
                "uni_id": "Cl406-03-175t3"
               },
               {
                "lick_spikes(-150-150ms)": 6.352941176470588,
                "response": "no lick",
                "uni_id": "Cl406-03-176t1"
               },
               {
                "lick_spikes(-150-150ms)": 7.927927927927926,
                "response": "right",
                "uni_id": "Cl406-03-176t1"
               },
               {
                "lick_spikes(-150-150ms)": 6.666666666666669,
                "response": "left",
                "uni_id": "Cl406-03-176t1"
               },
               {
                "lick_spikes(-150-150ms)": 10.348583877995647,
                "response": "no lick",
                "uni_id": "Cl406-05-174t3"
               },
               {
                "lick_spikes(-150-150ms)": 18.189300411522623,
                "response": "right",
                "uni_id": "Cl406-05-174t3"
               },
               {
                "lick_spikes(-150-150ms)": 13.142857142857139,
                "response": "left",
                "uni_id": "Cl406-05-174t3"
               },
               {
                "lick_spikes(-150-150ms)": 7.647058823529412,
                "response": "no lick",
                "uni_id": "Cl406-08-175t2"
               },
               {
                "lick_spikes(-150-150ms)": 28.91774891774892,
                "response": "right",
                "uni_id": "Cl406-08-175t2"
               },
               {
                "lick_spikes(-150-150ms)": 29.099099099099096,
                "response": "left",
                "uni_id": "Cl406-08-175t2"
               },
               {
                "lick_spikes(-150-150ms)": 7.232704402515725,
                "response": "no lick",
                "uni_id": "Cl406-09-175t2"
               },
               {
                "lick_spikes(-150-150ms)": 14.180790960451981,
                "response": "right",
                "uni_id": "Cl406-09-175t2"
               },
               {
                "lick_spikes(-150-150ms)": 19.17562724014336,
                "response": "left",
                "uni_id": "Cl406-09-175t2"
               },
               {
                "lick_spikes(-150-150ms)": 11.268115942028988,
                "response": "no lick",
                "uni_id": "Cl505-31-171t2"
               },
               {
                "lick_spikes(-150-150ms)": 4.885057471264368,
                "response": "right",
                "uni_id": "Cl505-31-171t2"
               },
               {
                "lick_spikes(-150-150ms)": 2.0430107526881716,
                "response": "left",
                "uni_id": "Cl505-31-171t2"
               },
               {
                "lick_spikes(-150-150ms)": 1.2318840579710142,
                "response": "no lick",
                "uni_id": "Cl505-31-172t4"
               },
               {
                "lick_spikes(-150-150ms)": 0.2873563218390805,
                "response": "right",
                "uni_id": "Cl505-31-172t4"
               },
               {
                "lick_spikes(-150-150ms)": 0.16129032258064516,
                "response": "left",
                "uni_id": "Cl505-31-172t4"
               },
               {
                "lick_spikes(-150-150ms)": 5.014749262536873,
                "response": "no lick",
                "uni_id": "Cl506-02-176t4"
               },
               {
                "lick_spikes(-150-150ms)": 5.151515151515151,
                "response": "right",
                "uni_id": "Cl506-02-176t4"
               },
               {
                "lick_spikes(-150-150ms)": 3.856209150326797,
                "response": "left",
                "uni_id": "Cl506-02-176t4"
               },
               {
                "lick_spikes(-150-150ms)": 11.308641975308646,
                "response": "no lick",
                "uni_id": "Cl506-04-174t1"
               },
               {
                "lick_spikes(-150-150ms)": 6.428571428571427,
                "response": "right",
                "uni_id": "Cl506-04-174t1"
               },
               {
                "lick_spikes(-150-150ms)": 4.838709677419353,
                "response": "left",
                "uni_id": "Cl506-04-174t1"
               },
               {
                "lick_spikes(-150-150ms)": 19.28395061728396,
                "response": "no lick",
                "uni_id": "Cl506-04-176t3"
               },
               {
                "lick_spikes(-150-150ms)": 37.30158730158731,
                "response": "right",
                "uni_id": "Cl506-04-176t3"
               },
               {
                "lick_spikes(-150-150ms)": 43.2258064516129,
                "response": "left",
                "uni_id": "Cl506-04-176t3"
               },
               {
                "lick_spikes(-150-150ms)": 14.785478547854785,
                "response": "no lick",
                "uni_id": "Cl506-09-172t1"
               },
               {
                "lick_spikes(-150-150ms)": 30.476190476190474,
                "response": "right",
                "uni_id": "Cl506-09-172t1"
               },
               {
                "lick_spikes(-150-150ms)": 27.445887445887447,
                "response": "left",
                "uni_id": "Cl506-09-172t1"
               },
               {
                "lick_spikes(-150-150ms)": 11.893004115226338,
                "response": "no lick",
                "uni_id": "Cl506-12-172t1"
               },
               {
                "lick_spikes(-150-150ms)": 28.014184397163106,
                "response": "right",
                "uni_id": "Cl506-12-172t1"
               },
               {
                "lick_spikes(-150-150ms)": 28.827838827838814,
                "response": "left",
                "uni_id": "Cl506-12-172t1"
               },
               {
                "lick_spikes(-150-150ms)": 6.884920634920633,
                "response": "no lick",
                "uni_id": "Cl610-26-175t1"
               },
               {
                "lick_spikes(-150-150ms)": 14.139784946236558,
                "response": "right",
                "uni_id": "Cl610-26-175t1"
               },
               {
                "lick_spikes(-150-150ms)": 15.952380952380954,
                "response": "left",
                "uni_id": "Cl610-26-175t1"
               },
               {
                "lick_spikes(-150-150ms)": 7.467811158798275,
                "response": "no lick",
                "uni_id": "Cl610-27-173t1"
               },
               {
                "lick_spikes(-150-150ms)": 17.105263157894733,
                "response": "right",
                "uni_id": "Cl610-27-173t1"
               },
               {
                "lick_spikes(-150-150ms)": 17.1578947368421,
                "response": "left",
                "uni_id": "Cl610-27-173t1"
               },
               {
                "lick_spikes(-150-150ms)": 0.37195994277539346,
                "response": "no lick",
                "uni_id": "Cl610-27-178t4"
               },
               {
                "lick_spikes(-150-150ms)": 0,
                "response": "right",
                "uni_id": "Cl610-27-178t4"
               },
               {
                "lick_spikes(-150-150ms)": 0,
                "response": "left",
                "uni_id": "Cl610-27-178t4"
               }
              ]
             },
             "encoding": {
              "color": {
               "condition": {
                "field": "uni_id",
                "scale": {
                 "range": [
                  "steelblue"
                 ]
                },
                "selection": "selector069",
                "type": "nominal"
               },
               "value": "lightgray"
              },
              "x": {
               "field": "response",
               "type": "nominal"
              },
              "y": {
               "field": "lick_spikes(-150-150ms)",
               "type": "quantitative"
              }
             },
             "height": 300,
             "mark": "line",
             "width": 200
            }
           ]
          }
         ]
        },
        {
         "hconcat": [
          {
           "layer": [
            {
             "data": {
              "values": [
               {
                "baseline_spikes(-300-0ms)": 17.882882882882885,
                "block_type": "Visual",
                "label_loc": 36.023102310231025,
                "uni_id": "Cl405-31-176t1"
               },
               {
                "baseline_spikes(-300-0ms)": 16.901041666666654,
                "block_type": "Whisker",
                "label_loc": 36.023102310231025,
                "uni_id": "Cl405-31-176t1"
               },
               {
                "baseline_spikes(-300-0ms)": 16.23762376237624,
                "block_type": "Visual",
                "label_loc": 36.023102310231025,
                "uni_id": "Cl406-02-176t2"
               },
               {
                "baseline_spikes(-300-0ms)": 18.507157464212682,
                "block_type": "Whisker",
                "label_loc": 36.023102310231025,
                "uni_id": "Cl406-02-176t2"
               },
               {
                "baseline_spikes(-300-0ms)": 7.380952380952384,
                "block_type": "Visual",
                "label_loc": 36.023102310231025,
                "uni_id": "Cl406-03-176t1"
               },
               {
                "baseline_spikes(-300-0ms)": 6.697247706422018,
                "block_type": "Whisker",
                "label_loc": 36.023102310231025,
                "uni_id": "Cl406-03-176t1"
               },
               {
                "baseline_spikes(-300-0ms)": 5.044247787610619,
                "block_type": "Visual",
                "label_loc": 36.023102310231025,
                "uni_id": "Cl506-02-176t4"
               },
               {
                "baseline_spikes(-300-0ms)": 5.595238095238095,
                "block_type": "Whisker",
                "label_loc": 36.023102310231025,
                "uni_id": "Cl506-02-176t4"
               },
               {
                "baseline_spikes(-300-0ms)": 21.56626506024095,
                "block_type": "Visual",
                "label_loc": 36.023102310231025,
                "uni_id": "Cl506-04-176t3"
               },
               {
                "baseline_spikes(-300-0ms)": 18.196347031963487,
                "block_type": "Whisker",
                "label_loc": 36.023102310231025,
                "uni_id": "Cl506-04-176t3"
               }
              ]
             },
             "encoding": {
              "color": {
               "condition": {
                "field": "uni_id",
                "legend": {
                 "title": " ",
                 "values": []
                },
                "scale": {
                 "range": [
                  "steelblue"
                 ]
                },
                "selection": "selector073",
                "type": "nominal"
               },
               "value": "lightgray"
              },
              "x": {
               "field": "block_type",
               "type": "nominal"
              },
              "y": {
               "field": "baseline_spikes(-300-0ms)",
               "type": "quantitative"
              }
             },
             "height": 300,
             "mark": "point",
             "selection": {
              "selector073": {
               "empty": "all",
               "encodings": [
                "color"
               ],
               "on": "click",
               "resolve": "global",
               "type": "single"
              },
              "selector074": {
               "bind": "scales",
               "encodings": [
                "x",
                "y"
               ],
               "mark": {
                "fill": "#333",
                "fillOpacity": 0.125,
                "stroke": "white"
               },
               "on": "[mousedown, window:mouseup] > window:mousemove!",
               "resolve": "global",
               "translate": "[mousedown, window:mouseup] > window:mousemove!",
               "type": "interval",
               "zoom": "wheel!"
              }
             },
             "width": 200
            },
            {
             "data": {
              "values": [
               {
                "baseline_spikes(-300-0ms)": 17.882882882882885,
                "block_type": "Visual",
                "label_loc": 36.023102310231025,
                "uni_id": "Cl405-31-176t1"
               },
               {
                "baseline_spikes(-300-0ms)": 16.901041666666654,
                "block_type": "Whisker",
                "label_loc": 36.023102310231025,
                "uni_id": "Cl405-31-176t1"
               },
               {
                "baseline_spikes(-300-0ms)": 16.23762376237624,
                "block_type": "Visual",
                "label_loc": 36.023102310231025,
                "uni_id": "Cl406-02-176t2"
               },
               {
                "baseline_spikes(-300-0ms)": 18.507157464212682,
                "block_type": "Whisker",
                "label_loc": 36.023102310231025,
                "uni_id": "Cl406-02-176t2"
               },
               {
                "baseline_spikes(-300-0ms)": 7.380952380952384,
                "block_type": "Visual",
                "label_loc": 36.023102310231025,
                "uni_id": "Cl406-03-176t1"
               },
               {
                "baseline_spikes(-300-0ms)": 6.697247706422018,
                "block_type": "Whisker",
                "label_loc": 36.023102310231025,
                "uni_id": "Cl406-03-176t1"
               },
               {
                "baseline_spikes(-300-0ms)": 5.044247787610619,
                "block_type": "Visual",
                "label_loc": 36.023102310231025,
                "uni_id": "Cl506-02-176t4"
               },
               {
                "baseline_spikes(-300-0ms)": 5.595238095238095,
                "block_type": "Whisker",
                "label_loc": 36.023102310231025,
                "uni_id": "Cl506-02-176t4"
               },
               {
                "baseline_spikes(-300-0ms)": 21.56626506024095,
                "block_type": "Visual",
                "label_loc": 36.023102310231025,
                "uni_id": "Cl506-04-176t3"
               },
               {
                "baseline_spikes(-300-0ms)": 18.196347031963487,
                "block_type": "Whisker",
                "label_loc": 36.023102310231025,
                "uni_id": "Cl506-04-176t3"
               }
              ]
             },
             "encoding": {
              "color": {
               "condition": {
                "field": "uni_id",
                "scale": {
                 "range": [
                  "steelblue"
                 ]
                },
                "selection": "selector073",
                "type": "nominal"
               },
               "value": "lightgray"
              },
              "x": {
               "field": "block_type",
               "type": "nominal"
              },
              "y": {
               "field": "baseline_spikes(-300-0ms)",
               "type": "quantitative"
              }
             },
             "height": 300,
             "mark": "line",
             "width": 200
            },
            {
             "data": {
              "values": [
               {
                "baseline_spikes(-300-0ms)": 17.882882882882885,
                "block_type": "Visual",
                "label_loc": 36.023102310231025,
                "uni_id": "Cl405-31-176t1"
               },
               {
                "baseline_spikes(-300-0ms)": 16.901041666666654,
                "block_type": "Whisker",
                "label_loc": 36.023102310231025,
                "uni_id": "Cl405-31-176t1"
               },
               {
                "baseline_spikes(-300-0ms)": 16.23762376237624,
                "block_type": "Visual",
                "label_loc": 36.023102310231025,
                "uni_id": "Cl406-02-176t2"
               },
               {
                "baseline_spikes(-300-0ms)": 18.507157464212682,
                "block_type": "Whisker",
                "label_loc": 36.023102310231025,
                "uni_id": "Cl406-02-176t2"
               },
               {
                "baseline_spikes(-300-0ms)": 7.380952380952384,
                "block_type": "Visual",
                "label_loc": 36.023102310231025,
                "uni_id": "Cl406-03-176t1"
               },
               {
                "baseline_spikes(-300-0ms)": 6.697247706422018,
                "block_type": "Whisker",
                "label_loc": 36.023102310231025,
                "uni_id": "Cl406-03-176t1"
               },
               {
                "baseline_spikes(-300-0ms)": 5.044247787610619,
                "block_type": "Visual",
                "label_loc": 36.023102310231025,
                "uni_id": "Cl506-02-176t4"
               },
               {
                "baseline_spikes(-300-0ms)": 5.595238095238095,
                "block_type": "Whisker",
                "label_loc": 36.023102310231025,
                "uni_id": "Cl506-02-176t4"
               },
               {
                "baseline_spikes(-300-0ms)": 21.56626506024095,
                "block_type": "Visual",
                "label_loc": 36.023102310231025,
                "uni_id": "Cl506-04-176t3"
               },
               {
                "baseline_spikes(-300-0ms)": 18.196347031963487,
                "block_type": "Whisker",
                "label_loc": 36.023102310231025,
                "uni_id": "Cl506-04-176t3"
               }
              ]
             },
             "encoding": {
              "text": {
               "condition": {
                "field": "uni_id",
                "selection": "selector073",
                "type": "nominal"
               },
               "value": " "
              },
              "y": {
               "field": "label_loc",
               "type": "quantitative"
              }
             },
             "mark": {
              "align": "left",
              "dx": 5,
              "dy": -0.5,
              "font": "Arial",
              "type": "text"
             }
            }
           ]
          },
          {
           "layer": [
            {
             "data": {
              "values": [
               {
                "stim_spikes(0-150ms)": 16.058394160583948,
                "trial_type": "Stim_Som_NoCue",
                "uni_id": "Cl405-31-176t1"
               },
               {
                "stim_spikes(0-150ms)": 17.64988009592327,
                "trial_type": "Stim_Vis_NoCue",
                "uni_id": "Cl405-31-176t1"
               },
               {
                "stim_spikes(0-150ms)": 19.088729016786576,
                "trial_type": "Stim_Som_NoCue",
                "uni_id": "Cl406-02-176t2"
               },
               {
                "stim_spikes(0-150ms)": 18.346666666666668,
                "trial_type": "Stim_Vis_NoCue",
                "uni_id": "Cl406-02-176t2"
               },
               {
                "stim_spikes(0-150ms)": 7.142857142857144,
                "trial_type": "Stim_Som_NoCue",
                "uni_id": "Cl406-03-176t1"
               },
               {
                "stim_spikes(0-150ms)": 6.763990267639902,
                "trial_type": "Stim_Vis_NoCue",
                "uni_id": "Cl406-03-176t1"
               },
               {
                "stim_spikes(0-150ms)": 7.304964539007091,
                "trial_type": "Stim_Som_NoCue",
                "uni_id": "Cl506-02-176t4"
               },
               {
                "stim_spikes(0-150ms)": 5.6957928802589,
                "trial_type": "Stim_Vis_NoCue",
                "uni_id": "Cl506-02-176t4"
               },
               {
                "stim_spikes(0-150ms)": 27.52136752136752,
                "trial_type": "Stim_Som_NoCue",
                "uni_id": "Cl506-04-176t3"
               },
               {
                "stim_spikes(0-150ms)": 21.367521367521363,
                "trial_type": "Stim_Vis_NoCue",
                "uni_id": "Cl506-04-176t3"
               },
               {
                "stim_spikes(0-150ms)": 17.51207729468601,
                "trial_type": "baseline",
                "uni_id": "Cl405-31-176t1"
               },
               {
                "stim_spikes(0-150ms)": 18.308080808080778,
                "trial_type": "baseline",
                "uni_id": "Cl406-02-176t2"
               },
               {
                "stim_spikes(0-150ms)": 7.427122940430927,
                "trial_type": "baseline",
                "uni_id": "Cl406-03-176t1"
               },
               {
                "stim_spikes(0-150ms)": 5.549915397631131,
                "trial_type": "baseline",
                "uni_id": "Cl506-02-176t4"
               },
               {
                "stim_spikes(0-150ms)": 19.89316239316241,
                "trial_type": "baseline",
                "uni_id": "Cl506-04-176t3"
               }
              ]
             },
             "encoding": {
              "color": {
               "condition": {
                "field": "uni_id",
                "selection": "selector073",
                "type": "nominal"
               },
               "value": "lightgray"
              },
              "x": {
               "field": "trial_type",
               "type": "nominal"
              },
              "y": {
               "field": "stim_spikes(0-150ms)",
               "type": "quantitative"
              }
             },
             "height": 300,
             "mark": "point",
             "selection": {
              "selector073": {
               "empty": "all",
               "encodings": [
                "color"
               ],
               "on": "click",
               "resolve": "global",
               "type": "single"
              },
              "selector075": {
               "bind": "scales",
               "encodings": [
                "x",
                "y"
               ],
               "mark": {
                "fill": "#333",
                "fillOpacity": 0.125,
                "stroke": "white"
               },
               "on": "[mousedown, window:mouseup] > window:mousemove!",
               "resolve": "global",
               "translate": "[mousedown, window:mouseup] > window:mousemove!",
               "type": "interval",
               "zoom": "wheel!"
              }
             },
             "width": 200
            },
            {
             "data": {
              "values": [
               {
                "stim_spikes(0-150ms)": 16.058394160583948,
                "trial_type": "Stim_Som_NoCue",
                "uni_id": "Cl405-31-176t1"
               },
               {
                "stim_spikes(0-150ms)": 17.64988009592327,
                "trial_type": "Stim_Vis_NoCue",
                "uni_id": "Cl405-31-176t1"
               },
               {
                "stim_spikes(0-150ms)": 19.088729016786576,
                "trial_type": "Stim_Som_NoCue",
                "uni_id": "Cl406-02-176t2"
               },
               {
                "stim_spikes(0-150ms)": 18.346666666666668,
                "trial_type": "Stim_Vis_NoCue",
                "uni_id": "Cl406-02-176t2"
               },
               {
                "stim_spikes(0-150ms)": 7.142857142857144,
                "trial_type": "Stim_Som_NoCue",
                "uni_id": "Cl406-03-176t1"
               },
               {
                "stim_spikes(0-150ms)": 6.763990267639902,
                "trial_type": "Stim_Vis_NoCue",
                "uni_id": "Cl406-03-176t1"
               },
               {
                "stim_spikes(0-150ms)": 7.304964539007091,
                "trial_type": "Stim_Som_NoCue",
                "uni_id": "Cl506-02-176t4"
               },
               {
                "stim_spikes(0-150ms)": 5.6957928802589,
                "trial_type": "Stim_Vis_NoCue",
                "uni_id": "Cl506-02-176t4"
               },
               {
                "stim_spikes(0-150ms)": 27.52136752136752,
                "trial_type": "Stim_Som_NoCue",
                "uni_id": "Cl506-04-176t3"
               },
               {
                "stim_spikes(0-150ms)": 21.367521367521363,
                "trial_type": "Stim_Vis_NoCue",
                "uni_id": "Cl506-04-176t3"
               },
               {
                "stim_spikes(0-150ms)": 17.51207729468601,
                "trial_type": "baseline",
                "uni_id": "Cl405-31-176t1"
               },
               {
                "stim_spikes(0-150ms)": 18.308080808080778,
                "trial_type": "baseline",
                "uni_id": "Cl406-02-176t2"
               },
               {
                "stim_spikes(0-150ms)": 7.427122940430927,
                "trial_type": "baseline",
                "uni_id": "Cl406-03-176t1"
               },
               {
                "stim_spikes(0-150ms)": 5.549915397631131,
                "trial_type": "baseline",
                "uni_id": "Cl506-02-176t4"
               },
               {
                "stim_spikes(0-150ms)": 19.89316239316241,
                "trial_type": "baseline",
                "uni_id": "Cl506-04-176t3"
               }
              ]
             },
             "encoding": {
              "color": {
               "condition": {
                "field": "uni_id",
                "scale": {
                 "range": [
                  "steelblue"
                 ]
                },
                "selection": "selector073",
                "type": "nominal"
               },
               "value": "lightgray"
              },
              "x": {
               "field": "trial_type",
               "type": "nominal"
              },
              "y": {
               "field": "stim_spikes(0-150ms)",
               "type": "quantitative"
              }
             },
             "height": 300,
             "mark": "line",
             "width": 200
            }
           ]
          },
          {
           "layer": [
            {
             "data": {
              "values": [
               {
                "lick_spikes(-150-150ms)": 16.011235955056165,
                "response": "no lick",
                "uni_id": "Cl405-31-176t1"
               },
               {
                "lick_spikes(-150-150ms)": 11.481481481481483,
                "response": "right",
                "uni_id": "Cl405-31-176t1"
               },
               {
                "lick_spikes(-150-150ms)": 6.935483870967743,
                "response": "left",
                "uni_id": "Cl405-31-176t1"
               },
               {
                "lick_spikes(-150-150ms)": 17.189542483660134,
                "response": "no lick",
                "uni_id": "Cl406-02-176t2"
               },
               {
                "lick_spikes(-150-150ms)": 19.03508771929825,
                "response": "right",
                "uni_id": "Cl406-02-176t2"
               },
               {
                "lick_spikes(-150-150ms)": 19.09090909090909,
                "response": "left",
                "uni_id": "Cl406-02-176t2"
               },
               {
                "lick_spikes(-150-150ms)": 6.352941176470588,
                "response": "no lick",
                "uni_id": "Cl406-03-176t1"
               },
               {
                "lick_spikes(-150-150ms)": 7.927927927927926,
                "response": "right",
                "uni_id": "Cl406-03-176t1"
               },
               {
                "lick_spikes(-150-150ms)": 6.666666666666669,
                "response": "left",
                "uni_id": "Cl406-03-176t1"
               },
               {
                "lick_spikes(-150-150ms)": 5.014749262536873,
                "response": "no lick",
                "uni_id": "Cl506-02-176t4"
               },
               {
                "lick_spikes(-150-150ms)": 5.151515151515151,
                "response": "right",
                "uni_id": "Cl506-02-176t4"
               },
               {
                "lick_spikes(-150-150ms)": 3.856209150326797,
                "response": "left",
                "uni_id": "Cl506-02-176t4"
               },
               {
                "lick_spikes(-150-150ms)": 19.28395061728396,
                "response": "no lick",
                "uni_id": "Cl506-04-176t3"
               },
               {
                "lick_spikes(-150-150ms)": 37.30158730158731,
                "response": "right",
                "uni_id": "Cl506-04-176t3"
               },
               {
                "lick_spikes(-150-150ms)": 43.2258064516129,
                "response": "left",
                "uni_id": "Cl506-04-176t3"
               }
              ]
             },
             "encoding": {
              "color": {
               "condition": {
                "field": "uni_id",
                "selection": "selector073",
                "type": "nominal"
               },
               "value": "lightgray"
              },
              "x": {
               "field": "response",
               "type": "nominal"
              },
              "y": {
               "field": "lick_spikes(-150-150ms)",
               "type": "quantitative"
              }
             },
             "height": 300,
             "mark": "point",
             "selection": {
              "selector073": {
               "empty": "all",
               "encodings": [
                "color"
               ],
               "on": "click",
               "resolve": "global",
               "type": "single"
              },
              "selector076": {
               "bind": "scales",
               "encodings": [
                "x",
                "y"
               ],
               "mark": {
                "fill": "#333",
                "fillOpacity": 0.125,
                "stroke": "white"
               },
               "on": "[mousedown, window:mouseup] > window:mousemove!",
               "resolve": "global",
               "translate": "[mousedown, window:mouseup] > window:mousemove!",
               "type": "interval",
               "zoom": "wheel!"
              }
             },
             "width": 200
            },
            {
             "data": {
              "values": [
               {
                "lick_spikes(-150-150ms)": 16.011235955056165,
                "response": "no lick",
                "uni_id": "Cl405-31-176t1"
               },
               {
                "lick_spikes(-150-150ms)": 11.481481481481483,
                "response": "right",
                "uni_id": "Cl405-31-176t1"
               },
               {
                "lick_spikes(-150-150ms)": 6.935483870967743,
                "response": "left",
                "uni_id": "Cl405-31-176t1"
               },
               {
                "lick_spikes(-150-150ms)": 17.189542483660134,
                "response": "no lick",
                "uni_id": "Cl406-02-176t2"
               },
               {
                "lick_spikes(-150-150ms)": 19.03508771929825,
                "response": "right",
                "uni_id": "Cl406-02-176t2"
               },
               {
                "lick_spikes(-150-150ms)": 19.09090909090909,
                "response": "left",
                "uni_id": "Cl406-02-176t2"
               },
               {
                "lick_spikes(-150-150ms)": 6.352941176470588,
                "response": "no lick",
                "uni_id": "Cl406-03-176t1"
               },
               {
                "lick_spikes(-150-150ms)": 7.927927927927926,
                "response": "right",
                "uni_id": "Cl406-03-176t1"
               },
               {
                "lick_spikes(-150-150ms)": 6.666666666666669,
                "response": "left",
                "uni_id": "Cl406-03-176t1"
               },
               {
                "lick_spikes(-150-150ms)": 5.014749262536873,
                "response": "no lick",
                "uni_id": "Cl506-02-176t4"
               },
               {
                "lick_spikes(-150-150ms)": 5.151515151515151,
                "response": "right",
                "uni_id": "Cl506-02-176t4"
               },
               {
                "lick_spikes(-150-150ms)": 3.856209150326797,
                "response": "left",
                "uni_id": "Cl506-02-176t4"
               },
               {
                "lick_spikes(-150-150ms)": 19.28395061728396,
                "response": "no lick",
                "uni_id": "Cl506-04-176t3"
               },
               {
                "lick_spikes(-150-150ms)": 37.30158730158731,
                "response": "right",
                "uni_id": "Cl506-04-176t3"
               },
               {
                "lick_spikes(-150-150ms)": 43.2258064516129,
                "response": "left",
                "uni_id": "Cl506-04-176t3"
               }
              ]
             },
             "encoding": {
              "color": {
               "condition": {
                "field": "uni_id",
                "scale": {
                 "range": [
                  "steelblue"
                 ]
                },
                "selection": "selector073",
                "type": "nominal"
               },
               "value": "lightgray"
              },
              "x": {
               "field": "response",
               "type": "nominal"
              },
              "y": {
               "field": "lick_spikes(-150-150ms)",
               "type": "quantitative"
              }
             },
             "height": 300,
             "mark": "line",
             "width": 200
            }
           ]
          }
         ]
        }
       ]
      },
      "image/png": "[encoded data removed]",
      "text/plain": [
       "<VegaLite 2 object>\n",
       "\n",
       "If you see this message, it means the renderer has not been properly enabled\n",
       "for the frontend that you are using. For more information, see\n",
       "https://altair-viz.github.io/user_guide/troubleshooting.html\n"
      ]
     },
     "execution_count": 59,
     "metadata": {},
     "output_type": "execute_result"
    }
   ],
   "source": [
    "\n",
    "alt.vconcat(chart,chart2)"
   ]
  },
  {
   "cell_type": "code",
   "execution_count": null,
   "metadata": {},
   "outputs": [],
   "source": [
    "a"
   ]
  }
 ],
 "metadata": {
  "kernelspec": {
   "display_name": "Python 3",
   "language": "python",
   "name": "python3"
  },
  "language_info": {
   "codemirror_mode": {
    "name": "ipython",
    "version": 3
   },
   "file_extension": ".py",
   "mimetype": "text/x-python",
   "name": "python",
   "nbconvert_exporter": "python",
   "pygments_lexer": "ipython3",
   "version": "3.6.5"
  }
 },
 "nbformat": 4,
 "nbformat_minor": 2
}
