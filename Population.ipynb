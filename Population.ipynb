{
 "cells": [
  {
   "cell_type": "code",
   "execution_count": 2,
   "metadata": {},
   "outputs": [],
   "source": [
    "import scipy as sp\n",
    "import scipy.io\n",
    "import scipy.stats\n",
    "import os\n",
    "import numpy as np\n",
    "import pandas as pd\n",
    "import glob\n",
    "import csv\n",
    "from matplotlib import gridspec\n",
    "import matplotlib.patches as patches\n",
    "\n",
    "from tqdm import tnrange, tqdm_notebook\n",
    "from collections import Iterable\n",
    "import matplotlib.pylab as mpl\n",
    "from utils import plotting_utils as pu\n",
    "from utils import utils\n",
    "from utils import zscores\n",
    "font = {'family' : 'Arial',\n",
    "        'weight' : 'normal',\n",
    "        'size'   : 12}\n",
    "\n",
    "mpl.rc('font', **font)\n",
    "%load_ext autoreload"
   ]
  },
  {
   "cell_type": "code",
   "execution_count": 3,
   "metadata": {},
   "outputs": [],
   "source": [
    "log_df, unit_key_df = utils.load_data(os.getcwd())"
   ]
  },
  {
   "cell_type": "code",
   "execution_count": 4,
   "metadata": {},
   "outputs": [
    {
     "data": {
      "application/vnd.jupyter.widget-view+json": {
       "model_id": "a40a16e2c2954b948490da020e6230e8",
       "version_major": 2,
       "version_minor": 0
      },
      "text/plain": [
       "HBox(children=(IntProgress(value=0, max=629), HTML(value='')))"
      ]
     },
     "metadata": {},
     "output_type": "display_data"
    },
    {
     "name": "stdout",
     "output_type": "stream",
     "text": [
      "\n"
     ]
    },
    {
     "data": {
      "application/vnd.jupyter.widget-view+json": {
       "model_id": "a545f07a74da4b548a0041614fa4d895",
       "version_major": 2,
       "version_minor": 0
      },
      "text/plain": [
       "HBox(children=(IntProgress(value=0, max=629), HTML(value='')))"
      ]
     },
     "metadata": {},
     "output_type": "display_data"
    },
    {
     "name": "stdout",
     "output_type": "stream",
     "text": [
      "\n"
     ]
    },
    {
     "name": "stderr",
     "output_type": "stream",
     "text": [
      "C:\\Users\\efink\\Documents\\Github\\Claustrum_analysis\\utils\\zscores.py:95: RuntimeWarning: Mean of empty slice\n",
      "  act_resp_vis  = act_resp_vis.apply(lambda y: np.nanmean(y))\n"
     ]
    }
   ],
   "source": [
    "bin_size = 0.025\n",
    "window = [-1, 3]\n",
    "edges = np.arange(window[0], window[1], bin_size)\n",
    "unit_key_df = utils.calc_unit_stats(unit_key_df, log_df, bin_size)\n",
    "log_df['spike_counts(stim_aligned)'] = log_df[\n",
    "    'spike_times(stim_aligned)'].apply(lambda x: np.histogram(x,edges)[0]/bin_size)\n",
    "unit_key_df = zscores.calc_z_scores(log_df, unit_key_df, bin_size, window)"
   ]
  },
  {
   "cell_type": "code",
   "execution_count": 5,
   "metadata": {
    "ExecuteTime": {
     "end_time": "2017-07-26T11:55:18.956910Z",
     "start_time": "2017-07-26T11:55:15.479760"
    }
   },
   "outputs": [
    {
     "name": "stderr",
     "output_type": "stream",
     "text": [
      "C:\\Users\\efink\\Anaconda3\\envs\\Claustrum_analysis\\lib\\site-packages\\statsmodels\\compat\\pandas.py:56: FutureWarning: The pandas.core.datetools module is deprecated and will be removed in a future version. Please use the pandas.tseries module instead.\n",
      "  from pandas.core import datetools\n"
     ]
    }
   ],
   "source": [
    "import statsmodels.api as sm\n",
    "import statsmodels.formula.api as smf\n",
    "\n",
    "def multi_regress(uni_id, unit_key_df, y, factors,  formula, categorical = [], exclude_nl = False):\n",
    "    \n",
    "    unit_df = pd.DataFrame(unit_key_df[unit_key_df['uni_id'] == uni_id])\n",
    "    unit_rows = log_df[log_df['uni_id'] == uni_id]\n",
    "\n",
    "    all_variables = factors+y\n",
    "    categoricals = np.array(factors)[categorical]\n",
    "    \n",
    "    if exclude_nl:\n",
    "        unit_rows = unit_rows[unit_rows['response'] != 0]\n",
    "    \n",
    "    test_unit_factors = unit_rows.loc[:,all_variables]\n",
    "\n",
    "    if 'trial_type' in test_unit_factors:\n",
    "        test_unit_factors['trial_type'] = test_unit_factors['trial_type'].str.contains('Stim_Som')*1\n",
    "        \n",
    "    \n",
    "    for cat in categoricals:\n",
    "        test_unit_factors[cat] = pd.Categorical(test_unit_factors[cat])\n",
    "#     from IPython.core.debugger import Tracer; Tracer()() \n",
    "   \n",
    "    ### 100ms FR sliding bins######\n",
    "    for t in range(0,155,1):\n",
    "        test_unit_factors['FR_t'+str(t)] = test_unit_factors[y[0]].apply(lambda x: np.mean(x[t:t+5]))\n",
    "\n",
    "    test_unit_factors = sm.add_constant(test_unit_factors)\n",
    "#     from IPython.core.debugger import Tracer; Tracer()() \n",
    "\n",
    "    coef = pd.DataFrame()\n",
    "    pVals = pd.DataFrame()\n",
    "    tVals = pd.DataFrame()\n",
    "    models = []\n",
    "    for t in range(155):\n",
    "        model = smf.ols(formula = 'FR_t'+str(t)+formula, data = test_unit_factors).fit()\n",
    "        coef['t_'+str(t)] = model.params\n",
    "        pVals['t_'+str(t)] = model.pvalues\n",
    "        tVals['t_'+str(t)] = model.tvalues\n",
    "#         from IPython.core.debugger import Tracer; Tracer()()\n",
    "\n",
    "        models.append(model)\n",
    "        \n",
    "    return coef, pVals, tVals, models"
   ]
  },
  {
   "cell_type": "code",
   "execution_count": 6,
   "metadata": {},
   "outputs": [],
   "source": [
    "log_df['resp'] = (log_df['response'] != 0)*1\n",
    "log_df['block'] = (log_df['block_type'] == 'Whisker')*1"
   ]
  },
  {
   "cell_type": "markdown",
   "metadata": {},
   "source": [
    "## Full model including interaction terms"
   ]
  },
  {
   "cell_type": "code",
   "execution_count": 7,
   "metadata": {},
   "outputs": [],
   "source": [
    "def regress_unit(uni_id, unit_key_df):\n",
    "    form = '~ C(trial_type) + C(resp) + C(block) + C(trial_type):C(resp) + C(block):C(resp) + C(block):C(trial_type) + C(block):C(trial_type):C(resp)'\n",
    "    coef, pVals, tvals, models = multi_regress(uni_id, unit_key_df, ['spike_counts(stim_aligned)'], \n",
    "                                               factors = ['trial_type', 'resp', 'block'],\n",
    "                                               categorical = [0,1,2], formula = form)\n",
    "    if uni_id in list(unit_key_df.loc[list(range(0, unit_key_df.shape[0], 50)), 'uni_id']):\n",
    "        print(unit_key_df[unit_key_df['uni_id'] == uni_id].index)\n",
    "    return coef, pVals"
   ]
  },
  {
   "cell_type": "code",
   "execution_count": 8,
   "metadata": {},
   "outputs": [
    {
     "name": "stdout",
     "output_type": "stream",
     "text": [
      "Int64Index([0], dtype='int64')\n",
      "Int64Index([50], dtype='int64')\n"
     ]
    },
    {
     "name": "stderr",
     "output_type": "stream",
     "text": [
      "C:\\Users\\efink\\Anaconda3\\envs\\Claustrum_analysis\\lib\\site-packages\\statsmodels\\base\\model.py:1036: RuntimeWarning: invalid value encountered in true_divide\n",
      "  return self.params / self.bse\n",
      "C:\\Users\\efink\\Anaconda3\\envs\\Claustrum_analysis\\lib\\site-packages\\scipy\\stats\\_distn_infrastructure.py:879: RuntimeWarning: invalid value encountered in greater\n",
      "  return (self.a < x) & (x < self.b)\n",
      "C:\\Users\\efink\\Anaconda3\\envs\\Claustrum_analysis\\lib\\site-packages\\scipy\\stats\\_distn_infrastructure.py:879: RuntimeWarning: invalid value encountered in less\n",
      "  return (self.a < x) & (x < self.b)\n",
      "C:\\Users\\efink\\Anaconda3\\envs\\Claustrum_analysis\\lib\\site-packages\\scipy\\stats\\_distn_infrastructure.py:1821: RuntimeWarning: invalid value encountered in less_equal\n",
      "  cond2 = cond0 & (x <= self.a)\n"
     ]
    },
    {
     "name": "stdout",
     "output_type": "stream",
     "text": [
      "Int64Index([100], dtype='int64')\n",
      "Int64Index([150], dtype='int64')\n"
     ]
    },
    {
     "ename": "KeyboardInterrupt",
     "evalue": "",
     "output_type": "error",
     "traceback": [
      "\u001b[1;31m---------------------------------------------------------------------------\u001b[0m",
      "\u001b[1;31mKeyboardInterrupt\u001b[0m                         Traceback (most recent call last)",
      "\u001b[1;32m<ipython-input-8-08c68ab47031>\u001b[0m in \u001b[0;36m<module>\u001b[1;34m()\u001b[0m\n\u001b[1;32m----> 1\u001b[1;33m \u001b[0mregress_results\u001b[0m \u001b[1;33m=\u001b[0m \u001b[1;33m[\u001b[0m\u001b[0mregress_unit\u001b[0m\u001b[1;33m(\u001b[0m\u001b[0muni_id\u001b[0m\u001b[1;33m,\u001b[0m \u001b[0munit_key_df\u001b[0m\u001b[1;33m)\u001b[0m \u001b[1;32mfor\u001b[0m \u001b[0muni_id\u001b[0m \u001b[1;32min\u001b[0m \u001b[0munit_key_df\u001b[0m\u001b[1;33m[\u001b[0m\u001b[1;34m'uni_id'\u001b[0m\u001b[1;33m]\u001b[0m\u001b[1;33m]\u001b[0m\u001b[1;33m\u001b[0m\u001b[0m\n\u001b[0m",
      "\u001b[1;32m<ipython-input-8-08c68ab47031>\u001b[0m in \u001b[0;36m<listcomp>\u001b[1;34m(.0)\u001b[0m\n\u001b[1;32m----> 1\u001b[1;33m \u001b[0mregress_results\u001b[0m \u001b[1;33m=\u001b[0m \u001b[1;33m[\u001b[0m\u001b[0mregress_unit\u001b[0m\u001b[1;33m(\u001b[0m\u001b[0muni_id\u001b[0m\u001b[1;33m,\u001b[0m \u001b[0munit_key_df\u001b[0m\u001b[1;33m)\u001b[0m \u001b[1;32mfor\u001b[0m \u001b[0muni_id\u001b[0m \u001b[1;32min\u001b[0m \u001b[0munit_key_df\u001b[0m\u001b[1;33m[\u001b[0m\u001b[1;34m'uni_id'\u001b[0m\u001b[1;33m]\u001b[0m\u001b[1;33m]\u001b[0m\u001b[1;33m\u001b[0m\u001b[0m\n\u001b[0m",
      "\u001b[1;32m<ipython-input-7-7c271ee07582>\u001b[0m in \u001b[0;36mregress_unit\u001b[1;34m(uni_id, unit_key_df)\u001b[0m\n\u001b[0;32m      3\u001b[0m     coef, pVals, tvals, models = multi_regress(uni_id, unit_key_df, ['spike_counts(stim_aligned)'], \n\u001b[0;32m      4\u001b[0m                                                \u001b[0mfactors\u001b[0m \u001b[1;33m=\u001b[0m \u001b[1;33m[\u001b[0m\u001b[1;34m'trial_type'\u001b[0m\u001b[1;33m,\u001b[0m \u001b[1;34m'resp'\u001b[0m\u001b[1;33m,\u001b[0m \u001b[1;34m'block'\u001b[0m\u001b[1;33m]\u001b[0m\u001b[1;33m,\u001b[0m\u001b[1;33m\u001b[0m\u001b[0m\n\u001b[1;32m----> 5\u001b[1;33m                                                categorical = [0,1,2], formula = form)\n\u001b[0m\u001b[0;32m      6\u001b[0m     \u001b[1;32mif\u001b[0m \u001b[0muni_id\u001b[0m \u001b[1;32min\u001b[0m \u001b[0mlist\u001b[0m\u001b[1;33m(\u001b[0m\u001b[0munit_key_df\u001b[0m\u001b[1;33m.\u001b[0m\u001b[0mloc\u001b[0m\u001b[1;33m[\u001b[0m\u001b[0mlist\u001b[0m\u001b[1;33m(\u001b[0m\u001b[0mrange\u001b[0m\u001b[1;33m(\u001b[0m\u001b[1;36m0\u001b[0m\u001b[1;33m,\u001b[0m \u001b[0munit_key_df\u001b[0m\u001b[1;33m.\u001b[0m\u001b[0mshape\u001b[0m\u001b[1;33m[\u001b[0m\u001b[1;36m0\u001b[0m\u001b[1;33m]\u001b[0m\u001b[1;33m,\u001b[0m \u001b[1;36m50\u001b[0m\u001b[1;33m)\u001b[0m\u001b[1;33m)\u001b[0m\u001b[1;33m,\u001b[0m \u001b[1;34m'uni_id'\u001b[0m\u001b[1;33m]\u001b[0m\u001b[1;33m)\u001b[0m\u001b[1;33m:\u001b[0m\u001b[1;33m\u001b[0m\u001b[0m\n\u001b[0;32m      7\u001b[0m         \u001b[0mprint\u001b[0m\u001b[1;33m(\u001b[0m\u001b[0munit_key_df\u001b[0m\u001b[1;33m[\u001b[0m\u001b[0munit_key_df\u001b[0m\u001b[1;33m[\u001b[0m\u001b[1;34m'uni_id'\u001b[0m\u001b[1;33m]\u001b[0m \u001b[1;33m==\u001b[0m \u001b[0muni_id\u001b[0m\u001b[1;33m]\u001b[0m\u001b[1;33m.\u001b[0m\u001b[0mindex\u001b[0m\u001b[1;33m)\u001b[0m\u001b[1;33m\u001b[0m\u001b[0m\n",
      "\u001b[1;32m<ipython-input-5-d55b3d654416>\u001b[0m in \u001b[0;36mmulti_regress\u001b[1;34m(uni_id, unit_key_df, y, factors, formula, categorical, exclude_nl)\u001b[0m\n\u001b[0;32m     35\u001b[0m     \u001b[0mmodels\u001b[0m \u001b[1;33m=\u001b[0m \u001b[1;33m[\u001b[0m\u001b[1;33m]\u001b[0m\u001b[1;33m\u001b[0m\u001b[0m\n\u001b[0;32m     36\u001b[0m     \u001b[1;32mfor\u001b[0m \u001b[0mt\u001b[0m \u001b[1;32min\u001b[0m \u001b[0mrange\u001b[0m\u001b[1;33m(\u001b[0m\u001b[1;36m155\u001b[0m\u001b[1;33m)\u001b[0m\u001b[1;33m:\u001b[0m\u001b[1;33m\u001b[0m\u001b[0m\n\u001b[1;32m---> 37\u001b[1;33m         \u001b[0mmodel\u001b[0m \u001b[1;33m=\u001b[0m \u001b[0msmf\u001b[0m\u001b[1;33m.\u001b[0m\u001b[0mols\u001b[0m\u001b[1;33m(\u001b[0m\u001b[0mformula\u001b[0m \u001b[1;33m=\u001b[0m \u001b[1;34m'FR_t'\u001b[0m\u001b[1;33m+\u001b[0m\u001b[0mstr\u001b[0m\u001b[1;33m(\u001b[0m\u001b[0mt\u001b[0m\u001b[1;33m)\u001b[0m\u001b[1;33m+\u001b[0m\u001b[0mformula\u001b[0m\u001b[1;33m,\u001b[0m \u001b[0mdata\u001b[0m \u001b[1;33m=\u001b[0m \u001b[0mtest_unit_factors\u001b[0m\u001b[1;33m)\u001b[0m\u001b[1;33m.\u001b[0m\u001b[0mfit\u001b[0m\u001b[1;33m(\u001b[0m\u001b[1;33m)\u001b[0m\u001b[1;33m\u001b[0m\u001b[0m\n\u001b[0m\u001b[0;32m     38\u001b[0m         \u001b[0mcoef\u001b[0m\u001b[1;33m[\u001b[0m\u001b[1;34m't_'\u001b[0m\u001b[1;33m+\u001b[0m\u001b[0mstr\u001b[0m\u001b[1;33m(\u001b[0m\u001b[0mt\u001b[0m\u001b[1;33m)\u001b[0m\u001b[1;33m]\u001b[0m \u001b[1;33m=\u001b[0m \u001b[0mmodel\u001b[0m\u001b[1;33m.\u001b[0m\u001b[0mparams\u001b[0m\u001b[1;33m\u001b[0m\u001b[0m\n\u001b[0;32m     39\u001b[0m         \u001b[0mpVals\u001b[0m\u001b[1;33m[\u001b[0m\u001b[1;34m't_'\u001b[0m\u001b[1;33m+\u001b[0m\u001b[0mstr\u001b[0m\u001b[1;33m(\u001b[0m\u001b[0mt\u001b[0m\u001b[1;33m)\u001b[0m\u001b[1;33m]\u001b[0m \u001b[1;33m=\u001b[0m \u001b[0mmodel\u001b[0m\u001b[1;33m.\u001b[0m\u001b[0mpvalues\u001b[0m\u001b[1;33m\u001b[0m\u001b[0m\n",
      "\u001b[1;32m~\\Anaconda3\\envs\\Claustrum_analysis\\lib\\site-packages\\statsmodels\\base\\model.py\u001b[0m in \u001b[0;36mfrom_formula\u001b[1;34m(cls, formula, data, subset, drop_cols, *args, **kwargs)\u001b[0m\n\u001b[0;32m    172\u001b[0m                        \u001b[1;34m'formula'\u001b[0m\u001b[1;33m:\u001b[0m \u001b[0mformula\u001b[0m\u001b[1;33m,\u001b[0m  \u001b[1;31m# attach formula for unpckling\u001b[0m\u001b[1;33m\u001b[0m\u001b[0m\n\u001b[0;32m    173\u001b[0m                        'design_info': design_info})\n\u001b[1;32m--> 174\u001b[1;33m         \u001b[0mmod\u001b[0m \u001b[1;33m=\u001b[0m \u001b[0mcls\u001b[0m\u001b[1;33m(\u001b[0m\u001b[0mendog\u001b[0m\u001b[1;33m,\u001b[0m \u001b[0mexog\u001b[0m\u001b[1;33m,\u001b[0m \u001b[1;33m*\u001b[0m\u001b[0margs\u001b[0m\u001b[1;33m,\u001b[0m \u001b[1;33m**\u001b[0m\u001b[0mkwargs\u001b[0m\u001b[1;33m)\u001b[0m\u001b[1;33m\u001b[0m\u001b[0m\n\u001b[0m\u001b[0;32m    175\u001b[0m         \u001b[0mmod\u001b[0m\u001b[1;33m.\u001b[0m\u001b[0mformula\u001b[0m \u001b[1;33m=\u001b[0m \u001b[0mformula\u001b[0m\u001b[1;33m\u001b[0m\u001b[0m\n\u001b[0;32m    176\u001b[0m \u001b[1;33m\u001b[0m\u001b[0m\n",
      "\u001b[1;32m~\\Anaconda3\\envs\\Claustrum_analysis\\lib\\site-packages\\statsmodels\\regression\\linear_model.py\u001b[0m in \u001b[0;36m__init__\u001b[1;34m(self, endog, exog, missing, hasconst, **kwargs)\u001b[0m\n\u001b[0;32m    629\u001b[0m                  **kwargs):\n\u001b[0;32m    630\u001b[0m         super(OLS, self).__init__(endog, exog, missing=missing,\n\u001b[1;32m--> 631\u001b[1;33m                                   hasconst=hasconst, **kwargs)\n\u001b[0m\u001b[0;32m    632\u001b[0m         \u001b[1;32mif\u001b[0m \u001b[1;34m\"weights\"\u001b[0m \u001b[1;32min\u001b[0m \u001b[0mself\u001b[0m\u001b[1;33m.\u001b[0m\u001b[0m_init_keys\u001b[0m\u001b[1;33m:\u001b[0m\u001b[1;33m\u001b[0m\u001b[0m\n\u001b[0;32m    633\u001b[0m             \u001b[0mself\u001b[0m\u001b[1;33m.\u001b[0m\u001b[0m_init_keys\u001b[0m\u001b[1;33m.\u001b[0m\u001b[0mremove\u001b[0m\u001b[1;33m(\u001b[0m\u001b[1;34m\"weights\"\u001b[0m\u001b[1;33m)\u001b[0m\u001b[1;33m\u001b[0m\u001b[0m\n",
      "\u001b[1;32m~\\Anaconda3\\envs\\Claustrum_analysis\\lib\\site-packages\\statsmodels\\regression\\linear_model.py\u001b[0m in \u001b[0;36m__init__\u001b[1;34m(self, endog, exog, weights, missing, hasconst, **kwargs)\u001b[0m\n\u001b[0;32m    524\u001b[0m             \u001b[0mweights\u001b[0m \u001b[1;33m=\u001b[0m \u001b[0mweights\u001b[0m\u001b[1;33m.\u001b[0m\u001b[0msqueeze\u001b[0m\u001b[1;33m(\u001b[0m\u001b[1;33m)\u001b[0m\u001b[1;33m\u001b[0m\u001b[0m\n\u001b[0;32m    525\u001b[0m         super(WLS, self).__init__(endog, exog, missing=missing,\n\u001b[1;32m--> 526\u001b[1;33m                                   weights=weights, hasconst=hasconst, **kwargs)\n\u001b[0m\u001b[0;32m    527\u001b[0m         \u001b[0mnobs\u001b[0m \u001b[1;33m=\u001b[0m \u001b[0mself\u001b[0m\u001b[1;33m.\u001b[0m\u001b[0mexog\u001b[0m\u001b[1;33m.\u001b[0m\u001b[0mshape\u001b[0m\u001b[1;33m[\u001b[0m\u001b[1;36m0\u001b[0m\u001b[1;33m]\u001b[0m\u001b[1;33m\u001b[0m\u001b[0m\n\u001b[0;32m    528\u001b[0m         \u001b[0mweights\u001b[0m \u001b[1;33m=\u001b[0m \u001b[0mself\u001b[0m\u001b[1;33m.\u001b[0m\u001b[0mweights\u001b[0m\u001b[1;33m\u001b[0m\u001b[0m\n",
      "\u001b[1;32m~\\Anaconda3\\envs\\Claustrum_analysis\\lib\\site-packages\\statsmodels\\regression\\linear_model.py\u001b[0m in \u001b[0;36m__init__\u001b[1;34m(self, endog, exog, **kwargs)\u001b[0m\n\u001b[0;32m     93\u001b[0m     \"\"\"\n\u001b[0;32m     94\u001b[0m     \u001b[1;32mdef\u001b[0m \u001b[0m__init__\u001b[0m\u001b[1;33m(\u001b[0m\u001b[0mself\u001b[0m\u001b[1;33m,\u001b[0m \u001b[0mendog\u001b[0m\u001b[1;33m,\u001b[0m \u001b[0mexog\u001b[0m\u001b[1;33m,\u001b[0m \u001b[1;33m**\u001b[0m\u001b[0mkwargs\u001b[0m\u001b[1;33m)\u001b[0m\u001b[1;33m:\u001b[0m\u001b[1;33m\u001b[0m\u001b[0m\n\u001b[1;32m---> 95\u001b[1;33m         \u001b[0msuper\u001b[0m\u001b[1;33m(\u001b[0m\u001b[0mRegressionModel\u001b[0m\u001b[1;33m,\u001b[0m \u001b[0mself\u001b[0m\u001b[1;33m)\u001b[0m\u001b[1;33m.\u001b[0m\u001b[0m__init__\u001b[0m\u001b[1;33m(\u001b[0m\u001b[0mendog\u001b[0m\u001b[1;33m,\u001b[0m \u001b[0mexog\u001b[0m\u001b[1;33m,\u001b[0m \u001b[1;33m**\u001b[0m\u001b[0mkwargs\u001b[0m\u001b[1;33m)\u001b[0m\u001b[1;33m\u001b[0m\u001b[0m\n\u001b[0m\u001b[0;32m     96\u001b[0m         \u001b[0mself\u001b[0m\u001b[1;33m.\u001b[0m\u001b[0m_data_attr\u001b[0m\u001b[1;33m.\u001b[0m\u001b[0mextend\u001b[0m\u001b[1;33m(\u001b[0m\u001b[1;33m[\u001b[0m\u001b[1;34m'pinv_wexog'\u001b[0m\u001b[1;33m,\u001b[0m \u001b[1;34m'wendog'\u001b[0m\u001b[1;33m,\u001b[0m \u001b[1;34m'wexog'\u001b[0m\u001b[1;33m,\u001b[0m \u001b[1;34m'weights'\u001b[0m\u001b[1;33m]\u001b[0m\u001b[1;33m)\u001b[0m\u001b[1;33m\u001b[0m\u001b[0m\n\u001b[0;32m     97\u001b[0m \u001b[1;33m\u001b[0m\u001b[0m\n",
      "\u001b[1;32m~\\Anaconda3\\envs\\Claustrum_analysis\\lib\\site-packages\\statsmodels\\base\\model.py\u001b[0m in \u001b[0;36m__init__\u001b[1;34m(self, endog, exog, **kwargs)\u001b[0m\n\u001b[0;32m    210\u001b[0m \u001b[1;33m\u001b[0m\u001b[0m\n\u001b[0;32m    211\u001b[0m     \u001b[1;32mdef\u001b[0m \u001b[0m__init__\u001b[0m\u001b[1;33m(\u001b[0m\u001b[0mself\u001b[0m\u001b[1;33m,\u001b[0m \u001b[0mendog\u001b[0m\u001b[1;33m,\u001b[0m \u001b[0mexog\u001b[0m\u001b[1;33m=\u001b[0m\u001b[1;32mNone\u001b[0m\u001b[1;33m,\u001b[0m \u001b[1;33m**\u001b[0m\u001b[0mkwargs\u001b[0m\u001b[1;33m)\u001b[0m\u001b[1;33m:\u001b[0m\u001b[1;33m\u001b[0m\u001b[0m\n\u001b[1;32m--> 212\u001b[1;33m         \u001b[0msuper\u001b[0m\u001b[1;33m(\u001b[0m\u001b[0mLikelihoodModel\u001b[0m\u001b[1;33m,\u001b[0m \u001b[0mself\u001b[0m\u001b[1;33m)\u001b[0m\u001b[1;33m.\u001b[0m\u001b[0m__init__\u001b[0m\u001b[1;33m(\u001b[0m\u001b[0mendog\u001b[0m\u001b[1;33m,\u001b[0m \u001b[0mexog\u001b[0m\u001b[1;33m,\u001b[0m \u001b[1;33m**\u001b[0m\u001b[0mkwargs\u001b[0m\u001b[1;33m)\u001b[0m\u001b[1;33m\u001b[0m\u001b[0m\n\u001b[0m\u001b[0;32m    213\u001b[0m         \u001b[0mself\u001b[0m\u001b[1;33m.\u001b[0m\u001b[0minitialize\u001b[0m\u001b[1;33m(\u001b[0m\u001b[1;33m)\u001b[0m\u001b[1;33m\u001b[0m\u001b[0m\n\u001b[0;32m    214\u001b[0m \u001b[1;33m\u001b[0m\u001b[0m\n",
      "\u001b[1;32m~\\Anaconda3\\envs\\Claustrum_analysis\\lib\\site-packages\\statsmodels\\base\\model.py\u001b[0m in \u001b[0;36m__init__\u001b[1;34m(self, endog, exog, **kwargs)\u001b[0m\n\u001b[0;32m     61\u001b[0m         \u001b[0mhasconst\u001b[0m \u001b[1;33m=\u001b[0m \u001b[0mkwargs\u001b[0m\u001b[1;33m.\u001b[0m\u001b[0mpop\u001b[0m\u001b[1;33m(\u001b[0m\u001b[1;34m'hasconst'\u001b[0m\u001b[1;33m,\u001b[0m \u001b[1;32mNone\u001b[0m\u001b[1;33m)\u001b[0m\u001b[1;33m\u001b[0m\u001b[0m\n\u001b[0;32m     62\u001b[0m         self.data = self._handle_data(endog, exog, missing, hasconst,\n\u001b[1;32m---> 63\u001b[1;33m                                       **kwargs)\n\u001b[0m\u001b[0;32m     64\u001b[0m         \u001b[0mself\u001b[0m\u001b[1;33m.\u001b[0m\u001b[0mk_constant\u001b[0m \u001b[1;33m=\u001b[0m \u001b[0mself\u001b[0m\u001b[1;33m.\u001b[0m\u001b[0mdata\u001b[0m\u001b[1;33m.\u001b[0m\u001b[0mk_constant\u001b[0m\u001b[1;33m\u001b[0m\u001b[0m\n\u001b[0;32m     65\u001b[0m         \u001b[0mself\u001b[0m\u001b[1;33m.\u001b[0m\u001b[0mexog\u001b[0m \u001b[1;33m=\u001b[0m \u001b[0mself\u001b[0m\u001b[1;33m.\u001b[0m\u001b[0mdata\u001b[0m\u001b[1;33m.\u001b[0m\u001b[0mexog\u001b[0m\u001b[1;33m\u001b[0m\u001b[0m\n",
      "\u001b[1;32m~\\Anaconda3\\envs\\Claustrum_analysis\\lib\\site-packages\\statsmodels\\base\\model.py\u001b[0m in \u001b[0;36m_handle_data\u001b[1;34m(self, endog, exog, missing, hasconst, **kwargs)\u001b[0m\n\u001b[0;32m     86\u001b[0m \u001b[1;33m\u001b[0m\u001b[0m\n\u001b[0;32m     87\u001b[0m     \u001b[1;32mdef\u001b[0m \u001b[0m_handle_data\u001b[0m\u001b[1;33m(\u001b[0m\u001b[0mself\u001b[0m\u001b[1;33m,\u001b[0m \u001b[0mendog\u001b[0m\u001b[1;33m,\u001b[0m \u001b[0mexog\u001b[0m\u001b[1;33m,\u001b[0m \u001b[0mmissing\u001b[0m\u001b[1;33m,\u001b[0m \u001b[0mhasconst\u001b[0m\u001b[1;33m,\u001b[0m \u001b[1;33m**\u001b[0m\u001b[0mkwargs\u001b[0m\u001b[1;33m)\u001b[0m\u001b[1;33m:\u001b[0m\u001b[1;33m\u001b[0m\u001b[0m\n\u001b[1;32m---> 88\u001b[1;33m         \u001b[0mdata\u001b[0m \u001b[1;33m=\u001b[0m \u001b[0mhandle_data\u001b[0m\u001b[1;33m(\u001b[0m\u001b[0mendog\u001b[0m\u001b[1;33m,\u001b[0m \u001b[0mexog\u001b[0m\u001b[1;33m,\u001b[0m \u001b[0mmissing\u001b[0m\u001b[1;33m,\u001b[0m \u001b[0mhasconst\u001b[0m\u001b[1;33m,\u001b[0m \u001b[1;33m**\u001b[0m\u001b[0mkwargs\u001b[0m\u001b[1;33m)\u001b[0m\u001b[1;33m\u001b[0m\u001b[0m\n\u001b[0m\u001b[0;32m     89\u001b[0m         \u001b[1;31m# kwargs arrays could have changed, easier to just attach here\u001b[0m\u001b[1;33m\u001b[0m\u001b[1;33m\u001b[0m\u001b[0m\n\u001b[0;32m     90\u001b[0m         \u001b[1;32mfor\u001b[0m \u001b[0mkey\u001b[0m \u001b[1;32min\u001b[0m \u001b[0mkwargs\u001b[0m\u001b[1;33m:\u001b[0m\u001b[1;33m\u001b[0m\u001b[0m\n",
      "\u001b[1;32m~\\Anaconda3\\envs\\Claustrum_analysis\\lib\\site-packages\\statsmodels\\base\\data.py\u001b[0m in \u001b[0;36mhandle_data\u001b[1;34m(endog, exog, missing, hasconst, **kwargs)\u001b[0m\n\u001b[0;32m    628\u001b[0m     \u001b[0mklass\u001b[0m \u001b[1;33m=\u001b[0m \u001b[0mhandle_data_class_factory\u001b[0m\u001b[1;33m(\u001b[0m\u001b[0mendog\u001b[0m\u001b[1;33m,\u001b[0m \u001b[0mexog\u001b[0m\u001b[1;33m)\u001b[0m\u001b[1;33m\u001b[0m\u001b[0m\n\u001b[0;32m    629\u001b[0m     return klass(endog, exog=exog, missing=missing, hasconst=hasconst,\n\u001b[1;32m--> 630\u001b[1;33m                  **kwargs)\n\u001b[0m",
      "\u001b[1;32m~\\Anaconda3\\envs\\Claustrum_analysis\\lib\\site-packages\\statsmodels\\base\\data.py\u001b[0m in \u001b[0;36m__init__\u001b[1;34m(self, endog, exog, missing, hasconst, **kwargs)\u001b[0m\n\u001b[0;32m     63\u001b[0m         \u001b[1;32mif\u001b[0m \u001b[0mmissing\u001b[0m \u001b[1;33m!=\u001b[0m \u001b[1;34m'none'\u001b[0m\u001b[1;33m:\u001b[0m\u001b[1;33m\u001b[0m\u001b[0m\n\u001b[0;32m     64\u001b[0m             arrays, nan_idx = self.handle_missing(endog, exog, missing,\n\u001b[1;32m---> 65\u001b[1;33m                                                   **kwargs)\n\u001b[0m\u001b[0;32m     66\u001b[0m             \u001b[0mself\u001b[0m\u001b[1;33m.\u001b[0m\u001b[0mmissing_row_idx\u001b[0m \u001b[1;33m=\u001b[0m \u001b[0mnan_idx\u001b[0m\u001b[1;33m\u001b[0m\u001b[0m\n\u001b[0;32m     67\u001b[0m             \u001b[0mself\u001b[0m\u001b[1;33m.\u001b[0m\u001b[0m__dict__\u001b[0m\u001b[1;33m.\u001b[0m\u001b[0mupdate\u001b[0m\u001b[1;33m(\u001b[0m\u001b[0marrays\u001b[0m\u001b[1;33m)\u001b[0m  \u001b[1;31m# attach all the data arrays\u001b[0m\u001b[1;33m\u001b[0m\u001b[0m\n",
      "\u001b[1;32m~\\Anaconda3\\envs\\Claustrum_analysis\\lib\\site-packages\\statsmodels\\base\\data.py\u001b[0m in \u001b[0;36mhandle_missing\u001b[1;34m(cls, endog, exog, missing, **kwargs)\u001b[0m\n\u001b[0;32m    256\u001b[0m \u001b[1;33m\u001b[0m\u001b[0m\n\u001b[0;32m    257\u001b[0m         \u001b[1;32melse\u001b[0m\u001b[1;33m:\u001b[0m\u001b[1;33m\u001b[0m\u001b[0m\n\u001b[1;32m--> 258\u001b[1;33m             \u001b[0mnan_mask\u001b[0m \u001b[1;33m=\u001b[0m \u001b[0m_nan_rows\u001b[0m\u001b[1;33m(\u001b[0m\u001b[1;33m*\u001b[0m\u001b[0mcombined\u001b[0m\u001b[1;33m)\u001b[0m\u001b[1;33m\u001b[0m\u001b[0m\n\u001b[0m\u001b[0;32m    259\u001b[0m             \u001b[1;32mif\u001b[0m \u001b[0mcombined_2d\u001b[0m\u001b[1;33m:\u001b[0m\u001b[1;33m\u001b[0m\u001b[0m\n\u001b[0;32m    260\u001b[0m                 \u001b[0mnan_mask\u001b[0m \u001b[1;33m=\u001b[0m \u001b[0m_nan_rows\u001b[0m\u001b[1;33m(\u001b[0m\u001b[1;33m*\u001b[0m\u001b[1;33m(\u001b[0m\u001b[0mnan_mask\u001b[0m\u001b[1;33m[\u001b[0m\u001b[1;33m:\u001b[0m\u001b[1;33m,\u001b[0m \u001b[1;32mNone\u001b[0m\u001b[1;33m]\u001b[0m\u001b[1;33m,\u001b[0m\u001b[1;33m)\u001b[0m \u001b[1;33m+\u001b[0m \u001b[0mcombined_2d\u001b[0m\u001b[1;33m)\u001b[0m\u001b[1;33m\u001b[0m\u001b[0m\n",
      "\u001b[1;32m~\\Anaconda3\\envs\\Claustrum_analysis\\lib\\site-packages\\statsmodels\\base\\data.py\u001b[0m in \u001b[0;36m_nan_rows\u001b[1;34m(*arrs)\u001b[0m\n\u001b[0;32m     45\u001b[0m         return np.logical_or(_asarray_2d_null_rows(x),\n\u001b[0;32m     46\u001b[0m                              (x_is_boolean_array | _asarray_2d_null_rows(y)))\n\u001b[1;32m---> 47\u001b[1;33m     \u001b[1;32mreturn\u001b[0m \u001b[0mreduce\u001b[0m\u001b[1;33m(\u001b[0m\u001b[0m_nan_row_maybe_two_inputs\u001b[0m\u001b[1;33m,\u001b[0m \u001b[0marrs\u001b[0m\u001b[1;33m)\u001b[0m\u001b[1;33m.\u001b[0m\u001b[0msqueeze\u001b[0m\u001b[1;33m(\u001b[0m\u001b[1;33m)\u001b[0m\u001b[1;33m\u001b[0m\u001b[0m\n\u001b[0m\u001b[0;32m     48\u001b[0m \u001b[1;33m\u001b[0m\u001b[0m\n\u001b[0;32m     49\u001b[0m \u001b[1;33m\u001b[0m\u001b[0m\n",
      "\u001b[1;32m~\\Anaconda3\\envs\\Claustrum_analysis\\lib\\site-packages\\statsmodels\\base\\data.py\u001b[0m in \u001b[0;36m_nan_row_maybe_two_inputs\u001b[1;34m(x, y)\u001b[0m\n\u001b[0;32m     44\u001b[0m         \u001b[0mx_is_boolean_array\u001b[0m \u001b[1;33m=\u001b[0m \u001b[0mhasattr\u001b[0m\u001b[1;33m(\u001b[0m\u001b[0mx\u001b[0m\u001b[1;33m,\u001b[0m \u001b[1;34m'dtype'\u001b[0m\u001b[1;33m)\u001b[0m \u001b[1;32mand\u001b[0m \u001b[0mx\u001b[0m\u001b[1;33m.\u001b[0m\u001b[0mdtype\u001b[0m \u001b[1;33m==\u001b[0m \u001b[0mbool\u001b[0m \u001b[1;32mand\u001b[0m \u001b[0mx\u001b[0m\u001b[1;33m\u001b[0m\u001b[0m\n\u001b[0;32m     45\u001b[0m         return np.logical_or(_asarray_2d_null_rows(x),\n\u001b[1;32m---> 46\u001b[1;33m                              (x_is_boolean_array | _asarray_2d_null_rows(y)))\n\u001b[0m\u001b[0;32m     47\u001b[0m     \u001b[1;32mreturn\u001b[0m \u001b[0mreduce\u001b[0m\u001b[1;33m(\u001b[0m\u001b[0m_nan_row_maybe_two_inputs\u001b[0m\u001b[1;33m,\u001b[0m \u001b[0marrs\u001b[0m\u001b[1;33m)\u001b[0m\u001b[1;33m.\u001b[0m\u001b[0msqueeze\u001b[0m\u001b[1;33m(\u001b[0m\u001b[1;33m)\u001b[0m\u001b[1;33m\u001b[0m\u001b[0m\n\u001b[0;32m     48\u001b[0m \u001b[1;33m\u001b[0m\u001b[0m\n",
      "\u001b[1;32m~\\Anaconda3\\envs\\Claustrum_analysis\\lib\\site-packages\\statsmodels\\base\\data.py\u001b[0m in \u001b[0;36m_asarray_2d_null_rows\u001b[1;34m(x)\u001b[0m\n\u001b[0;32m     28\u001b[0m     \u001b[1;32mif\u001b[0m \u001b[0mx\u001b[0m\u001b[1;33m.\u001b[0m\u001b[0mndim\u001b[0m \u001b[1;33m==\u001b[0m \u001b[1;36m1\u001b[0m\u001b[1;33m:\u001b[0m\u001b[1;33m\u001b[0m\u001b[0m\n\u001b[0;32m     29\u001b[0m         \u001b[0mx\u001b[0m \u001b[1;33m=\u001b[0m \u001b[0mx\u001b[0m\u001b[1;33m[\u001b[0m\u001b[1;33m:\u001b[0m\u001b[1;33m,\u001b[0m \u001b[1;32mNone\u001b[0m\u001b[1;33m]\u001b[0m\u001b[1;33m\u001b[0m\u001b[0m\n\u001b[1;32m---> 30\u001b[1;33m     \u001b[1;32mreturn\u001b[0m \u001b[0mnp\u001b[0m\u001b[1;33m.\u001b[0m\u001b[0many\u001b[0m\u001b[1;33m(\u001b[0m\u001b[0misnull\u001b[0m\u001b[1;33m(\u001b[0m\u001b[0mx\u001b[0m\u001b[1;33m)\u001b[0m\u001b[1;33m,\u001b[0m \u001b[0maxis\u001b[0m\u001b[1;33m=\u001b[0m\u001b[1;36m1\u001b[0m\u001b[1;33m)\u001b[0m\u001b[1;33m[\u001b[0m\u001b[1;33m:\u001b[0m\u001b[1;33m,\u001b[0m \u001b[1;32mNone\u001b[0m\u001b[1;33m]\u001b[0m\u001b[1;33m\u001b[0m\u001b[0m\n\u001b[0m\u001b[0;32m     31\u001b[0m \u001b[1;33m\u001b[0m\u001b[0m\n\u001b[0;32m     32\u001b[0m \u001b[1;33m\u001b[0m\u001b[0m\n",
      "\u001b[1;32m~\\Anaconda3\\envs\\Claustrum_analysis\\lib\\site-packages\\numpy\\core\\fromnumeric.py\u001b[0m in \u001b[0;36many\u001b[1;34m(a, axis, out, keepdims)\u001b[0m\n\u001b[0;32m   2016\u001b[0m     \u001b[1;32mif\u001b[0m \u001b[0mkeepdims\u001b[0m \u001b[1;32mis\u001b[0m \u001b[1;32mnot\u001b[0m \u001b[0mnp\u001b[0m\u001b[1;33m.\u001b[0m\u001b[0m_NoValue\u001b[0m\u001b[1;33m:\u001b[0m\u001b[1;33m\u001b[0m\u001b[0m\n\u001b[0;32m   2017\u001b[0m         \u001b[0mkwargs\u001b[0m\u001b[1;33m[\u001b[0m\u001b[1;34m'keepdims'\u001b[0m\u001b[1;33m]\u001b[0m \u001b[1;33m=\u001b[0m \u001b[0mkeepdims\u001b[0m\u001b[1;33m\u001b[0m\u001b[0m\n\u001b[1;32m-> 2018\u001b[1;33m     \u001b[1;32mreturn\u001b[0m \u001b[0marr\u001b[0m\u001b[1;33m.\u001b[0m\u001b[0many\u001b[0m\u001b[1;33m(\u001b[0m\u001b[0maxis\u001b[0m\u001b[1;33m=\u001b[0m\u001b[0maxis\u001b[0m\u001b[1;33m,\u001b[0m \u001b[0mout\u001b[0m\u001b[1;33m=\u001b[0m\u001b[0mout\u001b[0m\u001b[1;33m,\u001b[0m \u001b[1;33m**\u001b[0m\u001b[0mkwargs\u001b[0m\u001b[1;33m)\u001b[0m\u001b[1;33m\u001b[0m\u001b[0m\n\u001b[0m\u001b[0;32m   2019\u001b[0m \u001b[1;33m\u001b[0m\u001b[0m\n\u001b[0;32m   2020\u001b[0m \u001b[1;33m\u001b[0m\u001b[0m\n",
      "\u001b[1;32m~\\Anaconda3\\envs\\Claustrum_analysis\\lib\\site-packages\\numpy\\core\\_methods.py\u001b[0m in \u001b[0;36m_any\u001b[1;34m(a, axis, dtype, out, keepdims)\u001b[0m\n\u001b[0;32m     36\u001b[0m \u001b[1;33m\u001b[0m\u001b[0m\n\u001b[0;32m     37\u001b[0m \u001b[1;32mdef\u001b[0m \u001b[0m_any\u001b[0m\u001b[1;33m(\u001b[0m\u001b[0ma\u001b[0m\u001b[1;33m,\u001b[0m \u001b[0maxis\u001b[0m\u001b[1;33m=\u001b[0m\u001b[1;32mNone\u001b[0m\u001b[1;33m,\u001b[0m \u001b[0mdtype\u001b[0m\u001b[1;33m=\u001b[0m\u001b[1;32mNone\u001b[0m\u001b[1;33m,\u001b[0m \u001b[0mout\u001b[0m\u001b[1;33m=\u001b[0m\u001b[1;32mNone\u001b[0m\u001b[1;33m,\u001b[0m \u001b[0mkeepdims\u001b[0m\u001b[1;33m=\u001b[0m\u001b[1;32mFalse\u001b[0m\u001b[1;33m)\u001b[0m\u001b[1;33m:\u001b[0m\u001b[1;33m\u001b[0m\u001b[0m\n\u001b[1;32m---> 38\u001b[1;33m     \u001b[1;32mreturn\u001b[0m \u001b[0mumr_any\u001b[0m\u001b[1;33m(\u001b[0m\u001b[0ma\u001b[0m\u001b[1;33m,\u001b[0m \u001b[0maxis\u001b[0m\u001b[1;33m,\u001b[0m \u001b[0mdtype\u001b[0m\u001b[1;33m,\u001b[0m \u001b[0mout\u001b[0m\u001b[1;33m,\u001b[0m \u001b[0mkeepdims\u001b[0m\u001b[1;33m)\u001b[0m\u001b[1;33m\u001b[0m\u001b[0m\n\u001b[0m\u001b[0;32m     39\u001b[0m \u001b[1;33m\u001b[0m\u001b[0m\n\u001b[0;32m     40\u001b[0m \u001b[1;32mdef\u001b[0m \u001b[0m_all\u001b[0m\u001b[1;33m(\u001b[0m\u001b[0ma\u001b[0m\u001b[1;33m,\u001b[0m \u001b[0maxis\u001b[0m\u001b[1;33m=\u001b[0m\u001b[1;32mNone\u001b[0m\u001b[1;33m,\u001b[0m \u001b[0mdtype\u001b[0m\u001b[1;33m=\u001b[0m\u001b[1;32mNone\u001b[0m\u001b[1;33m,\u001b[0m \u001b[0mout\u001b[0m\u001b[1;33m=\u001b[0m\u001b[1;32mNone\u001b[0m\u001b[1;33m,\u001b[0m \u001b[0mkeepdims\u001b[0m\u001b[1;33m=\u001b[0m\u001b[1;32mFalse\u001b[0m\u001b[1;33m)\u001b[0m\u001b[1;33m:\u001b[0m\u001b[1;33m\u001b[0m\u001b[0m\n",
      "\u001b[1;31mKeyboardInterrupt\u001b[0m: "
     ]
    }
   ],
   "source": [
    "regress_results = [regress_unit(uni_id, unit_key_df) for uni_id in unit_key_df['uni_id']]"
   ]
  },
  {
   "cell_type": "code",
   "execution_count": null,
   "metadata": {},
   "outputs": [],
   "source": [
    "all_trial_type_coef = pd.concat([regress_results[i][0].iloc[1,:] for i in range(len(regress_results))], axis = 1).T\n",
    "all_resp_coef = pd.concat([regress_results[i][0].iloc[2,:] for i in range(len(regress_results))], axis = 1).T\n",
    "all_block_coef = pd.concat([regress_results[i][0].iloc[3,:] for i in range(len(regress_results))], axis = 1).T\n",
    "all_txResp_coef = pd.concat([regress_results[i][0].iloc[4,:] for i in range(len(regress_results))], axis = 1).T\n",
    "all_bxResp_coef = pd.concat([regress_results[i][0].iloc[5,:] for i in range(len(regress_results))], axis = 1).T\n",
    "all_txBlock_coef = pd.concat([regress_results[i][0].iloc[6,:] for i in range(len(regress_results))], axis = 1).T\n",
    "all_txbxResp_coef = pd.concat([regress_results[i][0].iloc[7,:] for i in range(len(regress_results))], axis = 1).T\n",
    "\n",
    "all_trial_type_pVals = pd.concat([regress_results[i][1].iloc[1,:] for i in range(len(regress_results))], axis = 1).T\n",
    "all_resp_pVals = pd.concat([regress_results[i][1].iloc[2,:] for i in range(len(regress_results))], axis = 1).T\n",
    "all_block_pVals = pd.concat([regress_results[i][1].iloc[3,:] for i in range(len(regress_results))], axis = 1).T\n",
    "all_txResp_pVals = pd.concat([regress_results[i][1].iloc[4,:] for i in range(len(regress_results))], axis = 1).T\n",
    "all_bxResp_pVals = pd.concat([regress_results[i][1].iloc[5,:] for i in range(len(regress_results))], axis = 1).T\n",
    "all_txBlock_pVals = pd.concat([regress_results[i][1].iloc[6,:] for i in range(len(regress_results))], axis = 1).T\n",
    "all_txbxResp_pVals = pd.concat([regress_results[i][1].iloc[7,:] for i in range(len(regress_results))], axis = 1).T\n",
    "\n",
    "for df in [all_trial_type_coef, all_resp_coef, all_block_coef, all_txResp_coef, all_bxResp_coef, all_txBlock_coef,\n",
    "          all_trial_type_pVals, all_resp_pVals, all_block_pVals, all_txResp_pVals, all_bxResp_pVals, all_txBlock_pVals]:\n",
    "    df.index = unit_key_df['uni_id']\n",
    "    \n",
    "all_txResp_coef.head()"
   ]
  },
  {
   "cell_type": "code",
   "execution_count": null,
   "metadata": {},
   "outputs": [],
   "source": [
    "import pickle\n",
    "\n",
    "labels = ['trial_type', 'lick', 'block', \n",
    "         'txResp', 'bxResp', 'txBlock','txbxResp']\n",
    "    \n",
    "coefs = [all_trial_type_coef, all_resp_coef, all_block_coef, \n",
    "         all_txResp_coef, all_bxResp_coef, all_txBlock_coef,all_txbxResp_coef]\n",
    "pVals = [all_trial_type_pVals, all_resp_pVals, all_block_pVals, all_txResp_pVals, \n",
    "                 all_bxResp_pVals, all_txBlock_pVals,all_txbxResp_pVals]\n",
    "\n",
    "with open(\"coefs.txt\", \"wb\") as fp:   #Pickling\n",
    "    pickle.dump({labels[i]:coefs[i] for i in range(len(labels))}, fp)\n",
    "\n",
    "with open(\"pVals.txt\", \"wb\") as fp:   #Pickling\n",
    "    pickle.dump({labels[i]:pVals[i] for i in range(len(labels))}, fp)\n"
   ]
  },
  {
   "cell_type": "code",
   "execution_count": 9,
   "metadata": {},
   "outputs": [],
   "source": [
    "import pickle\n",
    "with open(\"coefs.txt\", \"rb\") as fp:   #Pickling\n",
    "    coefs = pickle.load(fp)\n",
    "with open(\"pVals.txt\", \"rb\") as fp:   #Pickling\n",
    "    pVals = pickle.load(fp)"
   ]
  },
  {
   "cell_type": "code",
   "execution_count": 10,
   "metadata": {
    "ExecuteTime": {
     "end_time": "2018-02-16T13:07:47.421922Z",
     "start_time": "2018-02-16T13:07:45.377275"
    },
    "scrolled": false
   },
   "outputs": [],
   "source": [
    "def plot_regress(unit_num, unit_key_df, log_df, coefs, pVals, titles):\n",
    "    size_mult = 0.5\n",
    "    unit = unit_key_df.index[unit_num]\n",
    "    unit_df = pd.DataFrame(unit_key_df.loc[unit]).T\n",
    "\n",
    "    unit_rows = log_df.merge(unit_df, on=['mouse_name', 'date', 'cluster_name'], how = 'inner')\n",
    "\n",
    "    t_NL = unit_rows.loc[unit_rows['trial_type'].str.contains('Som') & (unit_rows['response'] ==0),:]\n",
    "    t_LR = unit_rows.loc[unit_rows['trial_type'].str.contains('Som') & (unit_rows['response'] ==1),:]\n",
    "    t_LL = unit_rows.loc[unit_rows['trial_type'].str.contains('Som') & (unit_rows['response'] ==2),:]\n",
    "    v_NL = unit_rows.loc[unit_rows['trial_type'].str.contains('Vis') & (unit_rows['response'] ==0),:]\n",
    "    v_LR = unit_rows.loc[unit_rows['trial_type'].str.contains('Vis') & (unit_rows['response'] ==1),:]\n",
    "    v_LL = unit_rows.loc[unit_rows['trial_type'].str.contains('Vis') & (unit_rows['response'] ==2),:]\n",
    "\n",
    "    tt = [t_NL, t_LR, t_LL, v_NL, v_LR, v_LL]\n",
    "\n",
    "    fig = mpl.figure(figsize = (16*size_mult,16*size_mult))\n",
    "\n",
    "    gs1 = gridspec.GridSpec(1,1)\n",
    "    gs2 = gridspec.GridSpec(1,1)\n",
    "    gs3 = gridspec.GridSpec(7,1)\n",
    "\n",
    "    gs1.update(bottom=0.5, top=0.95, left = 0.2, right = 0.86)\n",
    "    gs2.update(bottom=0.5, top=0.95, left = 0.87, right = 0.9)\n",
    "    gs3.update(bottom=0.15, top=0.47, left = 0.2, right = 0.86)\n",
    "\n",
    "\n",
    "    ax = mpl.subplot(gs1[0, 0])\n",
    "    patch_ax = mpl.subplot(gs2[0, 0], sharey = ax)\n",
    "\n",
    "    colors = [ 'k','C0','#08306b', 'C7', '#cc4c02', 'C1',  ]\n",
    "\n",
    "    trial_type = 0\n",
    "    trial_total = 0\n",
    "    hists = []\n",
    "    for i in range(len(tt)):\n",
    "        ras = tt[trial_type]\n",
    "        spike_counts = []\n",
    "        trial = 0\n",
    "        for trial, spike in enumerate(ras['spike_times(stim_aligned)']):\n",
    "            spike = spike[(spike>-1) & (spike<=3)]\n",
    "            ax.vlines(spike, trial + trial_total + .5, trial + trial_total + 1.5)\n",
    "\n",
    "            spike = spike[(spike>window[0]) & (spike<=window[1])]\n",
    "            edges = np.arange(window[0], window[1]+bin_size*2, bin_size)\n",
    "            count, _ = np.histogram(spike,edges)\n",
    "            spike_counts.append(count)\n",
    "\n",
    "        c1 = 0.5\n",
    "        c2 = 0\n",
    "\n",
    "        hists.append(np.array(spike_counts))\n",
    "        patch_ax.add_patch(patches.Rectangle((0,trial_total+c1), 1,\n",
    "                                       trial + c2, facecolor = colors[trial_type], alpha = 0.7))\n",
    "        trial_total += trial\n",
    "        trial_type += 1\n",
    "    ax.plot([0, 0], [0, trial_total], 'r:')\n",
    "    ax.plot([0.15, 0.15], [0, trial_total], 'r:')\n",
    "\n",
    "    # ax.get_xaxis().set_visible(False)\n",
    "    ax.set_xlim(-1,3)\n",
    "    ax.spines['right'].set_visible(False)\n",
    "    ax.spines['top'].set_visible(False)\n",
    "    # ax.spines['bottom'].set_visible(False)\n",
    "    ax.set_ylabel('trial')\n",
    "    ax.set_ylim([0, trial_total])\n",
    "\n",
    "\n",
    "    patch_ax.set_xlim(0,1)\n",
    "    patch_ax.axis('off')\n",
    "\n",
    "    #######################################\n",
    "\n",
    "    coef = pd.concat([coefs[i].iloc[unit, :] for i in range(len(coefs))], axis = 1).T\n",
    "    pVals =  pd.concat([pVals[i].iloc[unit, :] for i in range(len(pVals))], axis = 1).T\n",
    "    pos_sig_pVals = (pVals<0.05) & (coef>0)\n",
    "    neg_sig_pVals = (pVals<0.05) & (coef<0)\n",
    "\n",
    "    xvals = np.arange(0+.1,coef.shape[1]*0.025+.1, 0.025)-1\n",
    "\n",
    "    for c in range(len(titles)):\n",
    "\n",
    "        ax1 = mpl.subplot(gs3[c,0])\n",
    "        ax1.plot(xvals, coef.iloc[c,:].as_matrix(), 'k')\n",
    "        ax1.plot(xvals, [0] * len(xvals), 'C7--')\n",
    "        ax1.plot(xvals[pos_sig_pVals.iloc[c,:].as_matrix()], [0]*sum(pos_sig_pVals.iloc[c,:].as_matrix()*1), 'sC2',markersize = 2, alpha = 0.5)\n",
    "        ax1.plot(xvals[neg_sig_pVals.iloc[c,:].as_matrix()], [0]*sum(neg_sig_pVals.iloc[c,:].as_matrix()*1), 'sC3',markersize = 2, alpha = 0.5)\n",
    "\n",
    "        ax1.text(.6, .65, titles[c] , transform=ax1.transAxes, color = 'k')\n",
    "\n",
    "        ax1.spines['right'].set_visible(False)\n",
    "        ax1.spines['top'].set_visible(False)\n",
    "        ax1.set_xlabel('time from stim onset (s)')\n",
    "        ax1.set_xlim(-1, 3)\n",
    "        ax1.set_ylim(-20,50)\n",
    "\n",
    "\n",
    "        if c != coef.shape[0]-1:\n",
    "            ax1.spines['bottom'].set_visible(False)\n",
    "            ax1.get_xaxis().set_visible(False)\n",
    "    return fig"
   ]
  },
  {
   "cell_type": "code",
   "execution_count": 13,
   "metadata": {},
   "outputs": [
    {
     "name": "stdout",
     "output_type": "stream",
     "text": [
      "Cl405-19-171t1\n",
      "Cl405-19-171t2\n"
     ]
    },
    {
     "data": {
      "image/png": "[encoded data removed]",
      "text/plain": [
       "<Figure size 576x576 with 9 Axes>"
      ]
     },
     "metadata": {},
     "output_type": "display_data"
    },
    {
     "data": {
      "image/png": "[encoded data removed]",
      "text/plain": [
       "<Figure size 576x576 with 9 Axes>"
      ]
     },
     "metadata": {},
     "output_type": "display_data"
    }
   ],
   "source": [
    "titles = ['β$1$: touch stimulus', 'β$2$: lick','β$3$: block',\n",
    "              'β$4$: touch stimulus x lick','β$5$: block x lick', 'β$6$: touch stimulus x block',\n",
    "             'β$6$: touch stimulus x block x lick']\n",
    "for i in range(0,2):\n",
    "    print(unit_key_df.loc[i, 'uni_id'])\n",
    "    plot_regress(i, unit_key_df, log_df,list(coefs.values()),list(pVals.values()), titles)"
   ]
  },
  {
   "cell_type": "markdown",
   "metadata": {},
   "source": [
    "### Will take three time points of interest:\n",
    "*  pre-stimulus: -300-0 ms\n",
    "*  stimulus: 0-150 ms\n",
    "*  lick-period: 150-450 ms"
   ]
  },
  {
   "cell_type": "code",
   "execution_count": 53,
   "metadata": {},
   "outputs": [
    {
     "data": {
      "text/html": [
       "<div>\n",
       "<style scoped>\n",
       "    .dataframe tbody tr th:only-of-type {\n",
       "        vertical-align: middle;\n",
       "    }\n",
       "\n",
       "    .dataframe tbody tr th {\n",
       "        vertical-align: top;\n",
       "    }\n",
       "\n",
       "    .dataframe thead th {\n",
       "        text-align: right;\n",
       "    }\n",
       "</style>\n",
       "<table border=\"1\" class=\"dataframe\">\n",
       "  <thead>\n",
       "    <tr style=\"text-align: right;\">\n",
       "      <th></th>\n",
       "      <th>-300-0ms</th>\n",
       "      <th>0-150ms</th>\n",
       "      <th>150-450ms</th>\n",
       "    </tr>\n",
       "    <tr>\n",
       "      <th>uni_id</th>\n",
       "      <th></th>\n",
       "      <th></th>\n",
       "      <th></th>\n",
       "    </tr>\n",
       "  </thead>\n",
       "  <tbody>\n",
       "    <tr>\n",
       "      <th>Cl405-19-171t1</th>\n",
       "      <td>0.501754</td>\n",
       "      <td>1.514286</td>\n",
       "      <td>-0.353234</td>\n",
       "    </tr>\n",
       "    <tr>\n",
       "      <th>Cl405-19-171t2</th>\n",
       "      <td>-3.354386</td>\n",
       "      <td>-2.026984</td>\n",
       "      <td>-0.133831</td>\n",
       "    </tr>\n",
       "    <tr>\n",
       "      <th>Cl405-19-171t3</th>\n",
       "      <td>-2.350877</td>\n",
       "      <td>-4.763492</td>\n",
       "      <td>-2.140299</td>\n",
       "    </tr>\n",
       "    <tr>\n",
       "      <th>Cl405-19-171t4</th>\n",
       "      <td>2.571930</td>\n",
       "      <td>-0.707937</td>\n",
       "      <td>0.985075</td>\n",
       "    </tr>\n",
       "    <tr>\n",
       "      <th>Cl405-19-171t5</th>\n",
       "      <td>-0.357895</td>\n",
       "      <td>1.257143</td>\n",
       "      <td>1.103980</td>\n",
       "    </tr>\n",
       "  </tbody>\n",
       "</table>\n",
       "</div>"
      ],
      "text/plain": [
       "                -300-0ms   0-150ms  150-450ms\n",
       "uni_id                                       \n",
       "Cl405-19-171t1  0.501754  1.514286  -0.353234\n",
       "Cl405-19-171t2 -3.354386 -2.026984  -0.133831\n",
       "Cl405-19-171t3 -2.350877 -4.763492  -2.140299\n",
       "Cl405-19-171t4  2.571930 -0.707937   0.985075\n",
       "Cl405-19-171t5 -0.357895  1.257143   1.103980"
      ]
     },
     "execution_count": 53,
     "metadata": {},
     "output_type": "execute_result"
    }
   ],
   "source": [
    "b1_stim_period = coefs['trial_type'].iloc[:, 40:46].mean(axis = 1)\n",
    "b2_lick_period = coefs['lick'].iloc[:, 46:58].mean(axis = 1)\n",
    "b3_pre_stim_period = coefs['block'].iloc[:, 28:40].mean(axis = 1)\n",
    "\n",
    "data = pd.concat((b1_stim_period,b2_lick_period,b3_pre_stim_period), axis = 1)\n",
    "data.columns = ['-300-0ms', '0-150ms', '150-450ms']\n",
    "data.head()"
   ]
  },
  {
   "cell_type": "code",
   "execution_count": 54,
   "metadata": {},
   "outputs": [
    {
     "data": {
      "text/plain": [
       "Index(['Cl405-19-171t1', 'Cl405-19-171t2', 'Cl405-19-171t3', 'Cl405-19-171t4',\n",
       "       'Cl405-19-171t5', 'Cl405-19-172t1', 'Cl405-19-172t2', 'Cl405-19-172t3',\n",
       "       'Cl405-19-173t1', 'Cl405-19-173t2',\n",
       "       ...\n",
       "       'Cl611-07-173t1', 'Cl611-07-174t1', 'Cl611-07-176t1', 'Cl611-07-176t2',\n",
       "       'Cl611-07-176t3', 'Cl611-07-176t4', 'Cl611-07-177t1', 'Cl611-07-177t2',\n",
       "       'Cl611-07-177t3', 'Cl611-07-178t1'],\n",
       "      dtype='object', name='uni_id', length=629)"
      ]
     },
     "execution_count": 54,
     "metadata": {},
     "output_type": "execute_result"
    }
   ],
   "source": [
    "data.index"
   ]
  },
  {
   "cell_type": "code",
   "execution_count": 55,
   "metadata": {},
   "outputs": [],
   "source": [
    "id_units = pd.read_csv('identified_units.csv')\n",
    "data['photo_id'] = 0\n",
    "data.loc[data.index.isin(id_units['uni_id']), 'photo_id'] = 1"
   ]
  },
  {
   "cell_type": "code",
   "execution_count": 63,
   "metadata": {},
   "outputs": [
    {
     "data": {
      "application/vnd.vegalite.v2+json": {
       "$schema": "https://vega.github.io/schema/vega-lite/v2.json",
       "config": {
        "view": {
         "height": 300,
         "width": 400
        }
       },
       "repeat": {
        "column": [
         "150-450ms",
         "0-150ms",
         "-300-0ms"
        ],
        "row": [
         "-300-0ms",
         "0-150ms",
         "150-450ms"
        ]
       },
       "spec": {
        "data": {
         "values": [
          {
           "-300-0ms": 0.5017543859649104,
           "0-150ms": 1.5142857142857136,
           "150-450ms": -0.3532338308457709,
           "photo_id": 0
          },
          {
           "-300-0ms": -3.3543859649122787,
           "0-150ms": -2.0269841269841264,
           "150-450ms": -0.133830845771145,
           "photo_id": 0
          },
          {
           "-300-0ms": -2.350877192982454,
           "0-150ms": -4.76349206349206,
           "150-450ms": -2.1402985074626826,
           "photo_id": 0
          },
          {
           "-300-0ms": 2.5719298245614026,
           "0-150ms": -0.7079365079365095,
           "150-450ms": 0.9850746268656723,
           "photo_id": 0
          },
          {
           "-300-0ms": -0.35789473684210193,
           "0-150ms": 1.2571428571428627,
           "150-450ms": 1.1039800995024873,
           "photo_id": 0
          },
          {
           "-300-0ms": -1.1438596491228064,
           "0-150ms": 1.2126984126984115,
           "150-450ms": -0.7303482587064646,
           "photo_id": 0
          },
          {
           "-300-0ms": -0.8666666666666676,
           "0-150ms": -0.6587301587301567,
           "150-450ms": -1.604477611940297,
           "photo_id": 0
          },
          {
           "-300-0ms": -0.3894736842105271,
           "0-150ms": 1.4936507936507966,
           "150-450ms": -1.6149253731343265,
           "photo_id": 0
          },
          {
           "-300-0ms": -1.9964912280701712,
           "0-150ms": -1.4206349206349111,
           "150-450ms": -2.9557213930348234,
           "photo_id": 0
          },
          {
           "-300-0ms": 0.2526315789473685,
           "0-150ms": 0.512698412698413,
           "150-450ms": -0.05323383084577064,
           "photo_id": 0
          },
          {
           "-300-0ms": 1.228070175438596,
           "0-150ms": 6.204761904761903,
           "150-450ms": 0.07213930348258742,
           "photo_id": 0
          },
          {
           "-300-0ms": -0.9157894736842094,
           "0-150ms": -1.4825396825396815,
           "150-450ms": 1.016417910447763,
           "photo_id": 0
          },
          {
           "-300-0ms": 0.13333333333333364,
           "0-150ms": 0.3714285714285714,
           "150-450ms": 0.5268656716417913,
           "photo_id": 0
          },
          {
           "-300-0ms": -3.8877192982456132,
           "0-150ms": -2.6920634920634896,
           "150-450ms": -2.8522388059701473,
           "photo_id": 0
          },
          {
           "-300-0ms": 1.6701754385964884,
           "0-150ms": 9.722222222222229,
           "150-450ms": -2.2771144278606927,
           "photo_id": 0
          },
          {
           "-300-0ms": -3.7789473684210524,
           "0-150ms": -3.3619047619047557,
           "150-450ms": -0.6014925373134331,
           "photo_id": 0
          },
          {
           "-300-0ms": -1.5473684210526342,
           "0-150ms": -1.5365079365079344,
           "150-450ms": -3.800000000000001,
           "photo_id": 0
          },
          {
           "-300-0ms": -0.8982456140350861,
           "0-150ms": 4.36666666666667,
           "150-450ms": 1.1089552238805973,
           "photo_id": 0
          },
          {
           "-300-0ms": -0.2736842105263145,
           "0-150ms": 0.5777777777777773,
           "150-450ms": 0.2592039800995027,
           "photo_id": 0
          },
          {
           "-300-0ms": -0.30175438596491394,
           "0-150ms": -3.7603174603174576,
           "150-450ms": -3.2537313432835795,
           "photo_id": 0
          },
          {
           "-300-0ms": 1.4807017543859649,
           "0-150ms": 1.1460317460317473,
           "150-450ms": 0.27263681592039796,
           "photo_id": 0
          },
          {
           "-300-0ms": -7.515789473684222,
           "0-150ms": 9.560317460317473,
           "150-450ms": -11.329850746268656,
           "photo_id": 0
          },
          {
           "-300-0ms": -1.4526315789473736,
           "0-150ms": 5.614285714285724,
           "150-450ms": -3.502487562189058,
           "photo_id": 0
          },
          {
           "-300-0ms": -0.5578947368421056,
           "0-150ms": -0.33015873015872854,
           "150-450ms": -0.7303482587064662,
           "photo_id": 0
          },
          {
           "-300-0ms": -0.6982456140350871,
           "0-150ms": -0.08571428571428515,
           "150-450ms": 0.5308457711442794,
           "photo_id": 1
          },
          {
           "-300-0ms": 4.333333333333347,
           "0-150ms": -2.80303030303031,
           "150-450ms": 1.7844827586206957,
           "photo_id": 0
          },
          {
           "-300-0ms": -0.5333333333333452,
           "0-150ms": -10.03030303030304,
           "150-450ms": -3.477011494252874,
           "photo_id": 0
          },
          {
           "-300-0ms": 3.4666666666666757,
           "0-150ms": -1.8469696969697011,
           "150-450ms": 1.3821839080459828,
           "photo_id": 0
          },
          {
           "-300-0ms": 2.5333333333333363,
           "0-150ms": 17.76969696969697,
           "150-450ms": -1.6982758620689626,
           "photo_id": 0
          },
          {
           "-300-0ms": 2.220446049250313e-16,
           "0-150ms": 3.025757575757581,
           "150-450ms": 0.9137931034482739,
           "photo_id": 0
          },
          {
           "-300-0ms": 1.4666666666666932,
           "0-150ms": 4.031818181818197,
           "150-450ms": -0.847701149425267,
           "photo_id": 0
          },
          {
           "-300-0ms": -0.4666666666666552,
           "0-150ms": 5.684848484848488,
           "150-450ms": -0.7614942528735614,
           "photo_id": 0
          },
          {
           "-300-0ms": -0.2333333333333353,
           "0-150ms": 1.3924242424242388,
           "150-450ms": -0.24712643678160728,
           "photo_id": 0
          },
          {
           "-300-0ms": 0.40000000000000074,
           "0-150ms": -1.8666666666666687,
           "150-450ms": 2.4109195402298997,
           "photo_id": 0
          },
          {
           "-300-0ms": 0.6333333333333543,
           "0-150ms": 9.403030303030294,
           "150-450ms": -2.2614942528735535,
           "photo_id": 0
          },
          {
           "-300-0ms": 1.2333333333333285,
           "0-150ms": 0.8303030303030274,
           "150-450ms": -1.4062824978585316e-15,
           "photo_id": 0
          },
          {
           "-300-0ms": -1.966666666666617,
           "0-150ms": 25.957575757575793,
           "150-450ms": -0.12068965517239942,
           "photo_id": 0
          },
          {
           "-300-0ms": 3.3999999999999946,
           "0-150ms": -0.08030303030302777,
           "150-450ms": 1.9683908045977008,
           "photo_id": 0
          },
          {
           "-300-0ms": -1.7999999999999952,
           "0-150ms": -5.536363636363629,
           "150-450ms": 1.2356321839080517,
           "photo_id": 0
          },
          {
           "-300-0ms": -2.93333333333333,
           "0-150ms": 0.5484848484848456,
           "150-450ms": 0.18678160919540146,
           "photo_id": 0
          },
          {
           "-300-0ms": 0.4666666666666774,
           "0-150ms": 29.790909090909107,
           "150-450ms": 0.045977011494255544,
           "photo_id": 0
          },
          {
           "-300-0ms": -2.0333333333333337,
           "0-150ms": -3.2454545454545447,
           "150-450ms": -0.16954022988505982,
           "photo_id": 0
          },
          {
           "-300-0ms": 1.199999999999997,
           "0-150ms": 5.628787878787876,
           "150-450ms": 1.2528735632183905,
           "photo_id": 0
          },
          {
           "-300-0ms": 0.3000000000000009,
           "0-150ms": -3.678787878787873,
           "150-450ms": 3.977011494252872,
           "photo_id": 0
          },
          {
           "-300-0ms": 1.866666666666678,
           "0-150ms": 2.9621212121212097,
           "150-450ms": 2.2499999999999925,
           "photo_id": 0
          },
          {
           "-300-0ms": -4.133333333333329,
           "0-150ms": 1.707575757575743,
           "150-450ms": -3.7672413793103625,
           "photo_id": 1
          },
          {
           "-300-0ms": 0.2000000000000084,
           "0-150ms": -2.1772727272727335,
           "150-450ms": 2.028735632183901,
           "photo_id": 1
          },
          {
           "-300-0ms": 0.4333333333333355,
           "0-150ms": 0.4575757575757591,
           "150-450ms": -0.6178160919540221,
           "photo_id": 0
          },
          {
           "-300-0ms": -0.8476190476190529,
           "0-150ms": -3.7406060606060625,
           "150-450ms": 0.7774999999999985,
           "photo_id": 0
          },
          {
           "-300-0ms": 1.1238095238095198,
           "0-150ms": -4.630303030303033,
           "150-450ms": 3.080833333333335,
           "photo_id": 0
          },
          {
           "-300-0ms": 0.324761904761905,
           "0-150ms": -0.1454545454545448,
           "150-450ms": -0.6008333333333334,
           "photo_id": 0
          },
          {
           "-300-0ms": 1.3542857142857105,
           "0-150ms": -1.0303030303030323,
           "150-450ms": 0.01833333333333077,
           "photo_id": 0
          },
          {
           "-300-0ms": 0.02476190476190446,
           "0-150ms": -0.12121212121212115,
           "150-450ms": -0.17666666666666697,
           "photo_id": 0
          },
          {
           "-300-0ms": 1.2333333333333334,
           "0-150ms": -0.48000000000000037,
           "150-450ms": 1.1866666666666659,
           "photo_id": 0
          },
          {
           "-300-0ms": -0.30952380952381064,
           "0-150ms": 1.2921212121212113,
           "150-450ms": -1.0941666666666667,
           "photo_id": 0
          },
          {
           "-300-0ms": 0.09523809523809525,
           "0-150ms": 0.06060606060606086,
           "150-450ms": -3.67357013237761e-17,
           "photo_id": 0
          },
          {
           "-300-0ms": 1.7295238095237957,
           "0-150ms": -9.57575757575758,
           "150-450ms": 1.3058333333333267,
           "photo_id": 0
          },
          {
           "-300-0ms": -0.5228571428571409,
           "0-150ms": 8.867878787878785,
           "150-450ms": 0.3458333333333344,
           "photo_id": 0
          },
          {
           "-300-0ms": -0.8209523809523872,
           "0-150ms": 10.324848484848482,
           "150-450ms": -1.457499999999998,
           "photo_id": 0
          },
          {
           "-300-0ms": -2.796190476190482,
           "0-150ms": -1.6800000000000017,
           "150-450ms": -1.6775000000000009,
           "photo_id": 0
          },
          {
           "-300-0ms": -0.21809523809523979,
           "0-150ms": 3.9587878787878776,
           "150-450ms": 0.26500000000000085,
           "photo_id": 0
          },
          {
           "-300-0ms": -0.483809523809527,
           "0-150ms": -0.6254545454545455,
           "150-450ms": 1.5050000000000001,
           "photo_id": 0
          },
          {
           "-300-0ms": 0.2571428571428572,
           "0-150ms": 0.9139393939393927,
           "150-450ms": 0.724166666666669,
           "photo_id": 0
          },
          {
           "-300-0ms": -0.32285714285714406,
           "0-150ms": 1.284848484848484,
           "150-450ms": -0.2958333333333338,
           "photo_id": 0
          },
          {
           "-300-0ms": 1.6790476190476138,
           "0-150ms": -2.9381818181818207,
           "150-450ms": 1.0241666666666667,
           "photo_id": 0
          },
          {
           "-300-0ms": -1.9504761904762036,
           "0-150ms": -1.4836363636363659,
           "150-450ms": -3.970833333333338,
           "photo_id": 0
          },
          {
           "-300-0ms": -3.351428571428581,
           "0-150ms": -0.11878787878788284,
           "150-450ms": -1.6166666666666654,
           "photo_id": 0
          },
          {
           "-300-0ms": 0.41238095238094913,
           "0-150ms": -0.24242424242424312,
           "150-450ms": 0.5416666666666637,
           "photo_id": 0
          },
          {
           "-300-0ms": -0.7066666666666722,
           "0-150ms": 0.5163636363636335,
           "150-450ms": -0.3466666666666674,
           "photo_id": 0
          },
          {
           "-300-0ms": -0.4228571428571433,
           "0-150ms": 2.179393939393938,
           "150-450ms": -0.17249999999999985,
           "photo_id": 0
          },
          {
           "-300-0ms": 0.5657142857142851,
           "0-150ms": -0.016969696969698262,
           "150-450ms": 0.195833333333334,
           "photo_id": 0
          },
          {
           "-300-0ms": -0.5476190476190582,
           "0-150ms": 5.595151515151509,
           "150-450ms": 2.2766666666666695,
           "photo_id": 0
          },
          {
           "-300-0ms": -1.4276190476190698,
           "0-150ms": 16.47030303030302,
           "150-450ms": -2.97666666666667,
           "photo_id": 0
          },
          {
           "-300-0ms": 0.4808743169398902,
           "0-150ms": -0.5480225988700566,
           "150-450ms": -0.3833333333333331,
           "photo_id": 0
          },
          {
           "-300-0ms": 0.8655737704918062,
           "0-150ms": 1.5457627118644088,
           "150-450ms": -0.18333333333333401,
           "photo_id": 0
          },
          {
           "-300-0ms": -2.5333333333333274,
           "0-150ms": 1.0022598870056552,
           "150-450ms": -2.666666666666665,
           "photo_id": 0
          },
          {
           "-300-0ms": 3.604371584699454,
           "0-150ms": -0.5774011299435017,
           "150-450ms": -1.466666666666668,
           "photo_id": 0
          },
          {
           "-300-0ms": 3.499453551912571,
           "0-150ms": 9.868926553672333,
           "150-450ms": 2.8166666666666647,
           "photo_id": 0
          },
          {
           "-300-0ms": 4.553005464480887,
           "0-150ms": -3.887005649717496,
           "150-450ms": -1.849999999999997,
           "photo_id": 0
          },
          {
           "-300-0ms": 0.24043715846994262,
           "0-150ms": -0.40677966101695295,
           "150-450ms": 1.8166666666666673,
           "photo_id": 0
          },
          {
           "-300-0ms": -0.6316939890710357,
           "0-150ms": 1.6045197740113026,
           "150-450ms": -1.2999999999999998,
           "photo_id": 0
          },
          {
           "-300-0ms": -8.052459016393408,
           "0-150ms": 20.35819209039551,
           "150-450ms": -7.066666666666666,
           "photo_id": 0
          },
          {
           "-300-0ms": 2.7715846994535673,
           "0-150ms": 4.630508474576285,
           "150-450ms": 0.21666666666666648,
           "photo_id": 1
          },
          {
           "-300-0ms": -1.7857923497267691,
           "0-150ms": 1.594350282485882,
           "150-450ms": 1.0000000000000009,
           "photo_id": 0
          },
          {
           "-300-0ms": 4.015300546448102,
           "0-150ms": 2.6858757062146945,
           "150-450ms": -2.966666666666667,
           "photo_id": 0
          },
          {
           "-300-0ms": -1.683060109289607,
           "0-150ms": 11.099435028248598,
           "150-450ms": -0.5333333333333398,
           "photo_id": 0
          },
          {
           "-300-0ms": -6.594535519125672,
           "0-150ms": 2.1954802259887054,
           "150-450ms": -4.300000000000001,
           "photo_id": 0
          },
          {
           "-300-0ms": 0.05901639344262292,
           "0-150ms": 1.0090395480226,
           "150-450ms": -0.5999999999999993,
           "photo_id": 0
          },
          {
           "-300-0ms": -0.2448087431693943,
           "0-150ms": -3.015819209039545,
           "150-450ms": -0.43333333333333307,
           "photo_id": 0
          },
          {
           "-300-0ms": -1.363934426229507,
           "0-150ms": 1.2847457627118657,
           "150-450ms": -0.33333333333333254,
           "photo_id": 0
          },
          {
           "-300-0ms": -0.3387978142076485,
           "0-150ms": -1.1841807909604511,
           "150-450ms": -1.7999999999999996,
           "photo_id": 0
          },
          {
           "-300-0ms": 2.3016393442622944,
           "0-150ms": -1.6463276836158194,
           "150-450ms": 0.35000000000000114,
           "photo_id": 0
          },
          {
           "-300-0ms": -5.064480874316936,
           "0-150ms": -3.6994350282485855,
           "150-450ms": -0.33333333333333415,
           "photo_id": 0
          },
          {
           "-300-0ms": -0.19016393442622567,
           "0-150ms": -3.7751412429378486,
           "150-450ms": -2.133333333333331,
           "photo_id": 0
          },
          {
           "-300-0ms": 1.4382513661202216,
           "0-150ms": 2.472316384180793,
           "150-450ms": -0.38333333333333486,
           "photo_id": 0
          },
          {
           "-300-0ms": 0.5857923497267755,
           "0-150ms": 3.501694915254243,
           "150-450ms": -1.4333333333333347,
           "photo_id": 0
          },
          {
           "-300-0ms": -1.2612021857923439,
           "0-150ms": -0.7016949152542383,
           "150-450ms": 3.950000000000003,
           "photo_id": 0
          },
          {
           "-300-0ms": 2.2775956284153005,
           "0-150ms": -1.7389830508474577,
           "150-450ms": 0.06666666666666775,
           "photo_id": 0
          },
          {
           "-300-0ms": -0.07868852459015836,
           "0-150ms": -5.109604519774008,
           "150-450ms": -1.3999999999999992,
           "photo_id": 0
          },
          {
           "-300-0ms": -8.124590163934402,
           "0-150ms": -2.4926553672316243,
           "150-450ms": -7.216666666666665,
           "photo_id": 1
          },
          {
           "-300-0ms": -0.6039886039886045,
           "0-150ms": 0.10256410256410319,
           "150-450ms": -0.4986737400530499,
           "photo_id": 0
          },
          {
           "-300-0ms": -0.44281644281644356,
           "0-150ms": 1.2379487179487163,
           "150-450ms": -0.48717948717948784,
           "photo_id": 0
          },
          {
           "-300-0ms": -1.98860398860399,
           "0-150ms": 3.1056410256410225,
           "150-450ms": -2.2997347480106107,
           "photo_id": 0
          },
          {
           "-300-0ms": 0.5860805860805857,
           "0-150ms": -0.5353846153846151,
           "150-450ms": 0.5022104332449172,
           "photo_id": 0
          },
          {
           "-300-0ms": 0.1969881969881956,
           "0-150ms": 7.165128205128198,
           "150-450ms": -0.24314765694076182,
           "photo_id": 0
          },
          {
           "-300-0ms": 5.994301994301995,
           "0-150ms": -1.8225641025640995,
           "150-450ms": -0.14765694076038852,
           "photo_id": 0
          },
          {
           "-300-0ms": -1.1143671143671166,
           "0-150ms": 0.23076923076923103,
           "150-450ms": -0.532272325375772,
           "photo_id": 0
          },
          {
           "-300-0ms": 3.080993080993078,
           "0-150ms": 8.8451282051282,
           "150-450ms": 5.521662245800186,
           "photo_id": 0
          },
          {
           "-300-0ms": -7.479039479039481,
           "0-150ms": 2.288205128205123,
           "150-450ms": -2.5190097259062796,
           "photo_id": 0
          },
          {
           "-300-0ms": -8.070818070818078,
           "0-150ms": 3.7866666666666493,
           "150-450ms": -7.519009725906283,
           "photo_id": 0
          },
          {
           "-300-0ms": 1.3691493691493681,
           "0-150ms": -2.175384615384614,
           "150-450ms": -0.27674624226348365,
           "photo_id": 0
          },
          {
           "-300-0ms": -0.1400081400081402,
           "0-150ms": -1.541538461538462,
           "150-450ms": -1.2590627763041558,
           "photo_id": 0
          },
          {
           "-300-0ms": 0.14000814000813702,
           "0-150ms": -7.698461538461536,
           "150-450ms": 0.42793987621573787,
           "photo_id": 1
          },
          {
           "-300-0ms": -3.8095238095238106,
           "0-150ms": -0.6553846153846163,
           "150-450ms": -2.286472148541116,
           "photo_id": 0
          },
          {
           "-300-0ms": -4.091168091168093,
           "0-150ms": -2.640000000000002,
           "150-450ms": -3.48187444739169,
           "photo_id": 0
          },
          {
           "-300-0ms": -0.14000814000814046,
           "0-150ms": -0.31076923076923074,
           "150-450ms": -0.07869142351900867,
           "photo_id": 0
          },
          {
           "-300-0ms": -1.3813593813593812,
           "0-150ms": -2.5558974358974362,
           "150-450ms": -1.1706454465075156,
           "photo_id": 0
          },
          {
           "-300-0ms": 0.43361860873381125,
           "0-150ms": 3.3954599761051347,
           "150-450ms": 0.2804417320546303,
           "photo_id": 0
          },
          {
           "-300-0ms": -3.3364055299539266,
           "0-150ms": -6.512544802867384,
           "150-450ms": -1.790177274048253,
           "photo_id": 0
          },
          {
           "-300-0ms": -0.6662277814351558,
           "0-150ms": -0.07048984468339425,
           "150-450ms": 0.7070619006102864,
           "photo_id": 0
          },
          {
           "-300-0ms": -0.4441518542901047,
           "0-150ms": 4.247311827956987,
           "150-450ms": 0.2560302237721581,
           "photo_id": 0
          },
          {
           "-300-0ms": 0.2571867456660077,
           "0-150ms": 0.13022700119474276,
           "150-450ms": 0.061900610287706846,
           "photo_id": 0
          },
          {
           "-300-0ms": -0.7864823348694365,
           "0-150ms": -1.8876941457586653,
           "150-450ms": 0.6428363847718631,
           "photo_id": 0
          },
          {
           "-300-0ms": -0.6899275839368043,
           "0-150ms": 1.9964157706093186,
           "150-450ms": 3.0293519325777374,
           "photo_id": 0
          },
          {
           "-300-0ms": -1.101601931095019,
           "0-150ms": 0.9605734767025084,
           "150-450ms": -0.1705899447834933,
           "photo_id": 0
          },
          {
           "-300-0ms": -1.754663155584818,
           "0-150ms": -2.189964157706092,
           "150-450ms": -0.33769253124091964,
           "photo_id": 0
          },
          {
           "-300-0ms": 0.8944481018213647,
           "0-150ms": 9.089605734767007,
           "150-450ms": -4.11711711711713,
           "photo_id": 1
          },
          {
           "-300-0ms": -1.5536537195523399,
           "0-150ms": 2.335722819593786,
           "150-450ms": 1.4027898866608515,
           "photo_id": 0
          },
          {
           "-300-0ms": -1.3447443493526459,
           "0-150ms": 8.068100358422937,
           "150-450ms": 0.8538215634989816,
           "photo_id": 0
          },
          {
           "-300-0ms": -0.04301075268817304,
           "0-150ms": 0.9653524492234152,
           "150-450ms": 0.6666666666666656,
           "photo_id": 0
          },
          {
           "-300-0ms": -2.063638358569236,
           "0-150ms": 0.25209080047789395,
           "150-450ms": 0.7634408602150516,
           "photo_id": 0
          },
          {
           "-300-0ms": 0.09216589861751179,
           "0-150ms": 0.06929510155316428,
           "150-450ms": -0.6480674222609714,
           "photo_id": 0
          },
          {
           "-300-0ms": -2.5973228000877806,
           "0-150ms": 3.1170848267622433,
           "150-450ms": 0.7602441150828216,
           "photo_id": 0
          },
          {
           "-300-0ms": -0.08953258722843994,
           "0-150ms": -0.21146953405017999,
           "150-450ms": -0.24295263004940484,
           "photo_id": 0
          },
          {
           "-300-0ms": -0.3230195303928051,
           "0-150ms": 8.126642771804061,
           "150-450ms": 1.4245858761987769,
           "photo_id": 0
          },
          {
           "-300-0ms": 0.42308536317752904,
           "0-150ms": 2.1123058542413378,
           "150-450ms": 0.13077593722754977,
           "photo_id": 0
          },
          {
           "-300-0ms": -3.0634189159534917,
           "0-150ms": -1.8255675029868639,
           "150-450ms": 0.8782330717814514,
           "photo_id": 1
          },
          {
           "-300-0ms": -0.6767610269914431,
           "0-150ms": -1.7562724014336908,
           "150-450ms": -0.45480964835803467,
           "photo_id": 0
          },
          {
           "-300-0ms": 0.7048496818082062,
           "0-150ms": 3.863799283154121,
           "150-450ms": 0.4789305434466718,
           "photo_id": 0
          },
          {
           "-300-0ms": 2.8141321044546768,
           "0-150ms": 7.187574671445627,
           "150-450ms": 2.8692240627724375,
           "photo_id": 1
          },
          {
           "-300-0ms": -0.5336844415185439,
           "0-150ms": -0.2688172043010753,
           "150-450ms": -0.3583260680034874,
           "photo_id": 0
          },
          {
           "-300-0ms": -0.7768268597761718,
           "0-150ms": 4.199522102747908,
           "150-450ms": 0.26474861958732643,
           "photo_id": 0
          },
          {
           "-300-0ms": -1.0603467193328955,
           "0-150ms": 1.4910394265232971,
           "150-450ms": 0.36355710549258863,
           "photo_id": 0
          },
          {
           "-300-0ms": 0.11748251748251849,
           "0-150ms": 0.3649831649831659,
           "150-450ms": 0.15034965034965028,
           "photo_id": 0
          },
          {
           "-300-0ms": 2.5249417249417316,
           "0-150ms": 24.468686868686888,
           "150-450ms": -1.1107226107226074,
           "photo_id": 0
          },
          {
           "-300-0ms": 0.6881118881118846,
           "0-150ms": 2.099663299663305,
           "150-450ms": 1.7420357420357462,
           "photo_id": 0
          },
          {
           "-300-0ms": -0.4531468531468475,
           "0-150ms": 12.802693602693617,
           "150-450ms": -2.700077700077699,
           "photo_id": 0
          },
          {
           "-300-0ms": -0.24677544677544747,
           "0-150ms": -2.1723905723905674,
           "150-450ms": -1.2016317016316993,
           "photo_id": 0
          },
          {
           "-300-0ms": 0.2318570318570304,
           "0-150ms": 0.9373737373737386,
           "150-450ms": -0.030303030303029787,
           "photo_id": 0
          },
          {
           "-300-0ms": -4.432012432012434,
           "0-150ms": 0.2505050505050704,
           "150-450ms": -4.557886557886549,
           "photo_id": 0
          },
          {
           "-300-0ms": 2.600155400155407,
           "0-150ms": 5.633670033670055,
           "150-450ms": -1.939393939393938,
           "photo_id": 0
          },
          {
           "-300-0ms": -0.13240093240093276,
           "0-150ms": 0.4969696969696992,
           "150-450ms": -0.7789432789432755,
           "photo_id": 0
          },
          {
           "-300-0ms": 0.08578088578088498,
           "0-150ms": -0.01616161616161604,
           "150-450ms": 1.1017871017871024,
           "photo_id": 0
          },
          {
           "-300-0ms": -1.9300699300699276,
           "0-150ms": 6.490235690235703,
           "150-450ms": -5.9848484848484835,
           "photo_id": 1
          },
          {
           "-300-0ms": 0.8714840714840745,
           "0-150ms": 1.7831649831649898,
           "150-450ms": -1.074980574980572,
           "photo_id": 0
          },
          {
           "-300-0ms": -1.0697746697746668,
           "0-150ms": -0.30437710437709936,
           "150-450ms": -2.4809634809634793,
           "photo_id": 1
          },
          {
           "-300-0ms": -2.1619269619269583,
           "0-150ms": 2.795959595959602,
           "150-450ms": -2.944055944055943,
           "photo_id": 0
          },
          {
           "-300-0ms": -0.41274281274280983,
           "0-150ms": 0.5265993265993334,
           "150-450ms": -3.217948717948714,
           "photo_id": 0
          },
          {
           "-300-0ms": -0.27785547785547804,
           "0-150ms": 0.04848484848485025,
           "150-450ms": -1.389665889665889,
           "photo_id": 0
          },
          {
           "-300-0ms": -0.4413364413364387,
           "0-150ms": 5.358922558922565,
           "150-450ms": -0.30885780885780856,
           "photo_id": 0
          },
          {
           "-300-0ms": 0.6191142191142208,
           "0-150ms": -1.9582491582491557,
           "150-450ms": -0.3088578088578075,
           "photo_id": 0
          },
          {
           "-300-0ms": -0.04473304473304642,
           "0-150ms": -1.12424740010947,
           "150-450ms": -0.1619047619047615,
           "photo_id": 0
          },
          {
           "-300-0ms": 0.1832611832611831,
           "0-150ms": 1.8981937602627286,
           "150-450ms": 0.10793650793651051,
           "photo_id": 0
          },
          {
           "-300-0ms": -1.7373737373737408,
           "0-150ms": 4.484948002189387,
           "150-450ms": -0.6000000000000001,
           "photo_id": 0
          },
          {
           "-300-0ms": 6.12698412698411,
           "0-150ms": 21.980295566502488,
           "150-450ms": -0.8507936507936446,
           "photo_id": 0
          },
          {
           "-300-0ms": 0.6435786435786437,
           "0-150ms": -0.0733442802408351,
           "150-450ms": -0.19047619047618972,
           "photo_id": 0
          },
          {
           "-300-0ms": 1.7835497835497813,
           "0-150ms": 2.6316365626710456,
           "150-450ms": -2.4444444444444398,
           "photo_id": 0
          },
          {
           "-300-0ms": 0.46897546897547016,
           "0-150ms": -0.19923371647509938,
           "150-450ms": -0.04761904761904776,
           "photo_id": 0
          },
          {
           "-300-0ms": 1.854711255978399e-17,
           "0-150ms": 0.1839080459770117,
           "150-450ms": -5.047904536327335e-16,
           "photo_id": 0
          },
          {
           "-300-0ms": -0.34920634920635035,
           "0-150ms": -0.20361247947455116,
           "150-450ms": -0.39047619047619153,
           "photo_id": 0
          },
          {
           "-300-0ms": -0.037518037518037846,
           "0-150ms": 1.2063492063492074,
           "150-450ms": -0.18095238095237964,
           "photo_id": 0
          },
          {
           "-300-0ms": 3.203463203463199,
           "0-150ms": 8.178434592227694,
           "150-450ms": 0.904761904761906,
           "photo_id": 1
          },
          {
           "-300-0ms": -0.7907647907647911,
           "0-150ms": -0.21674876847290603,
           "150-450ms": 0.5142857142857147,
           "photo_id": 0
          },
          {
           "-300-0ms": 0.18759018759018628,
           "0-150ms": 1.899288451012585,
           "150-450ms": 1.238095238095237,
           "photo_id": 0
          },
          {
           "-300-0ms": 2.4473304473304456,
           "0-150ms": 1.7963875205254503,
           "150-450ms": 0.8285714285714282,
           "photo_id": 0
          },
          {
           "-300-0ms": 3.7821067821067786,
           "0-150ms": -1.494252873563217,
           "150-450ms": 1.7396825396825422,
           "photo_id": 0
          },
          {
           "-300-0ms": -2.6493506493506627,
           "0-150ms": 14.688560481663956,
           "150-450ms": -3.6952380952380994,
           "photo_id": 0
          },
          {
           "-300-0ms": 1.3852813852813812,
           "0-150ms": -0.6458675424192739,
           "150-450ms": -0.01587301587301999,
           "photo_id": 0
          },
          {
           "-300-0ms": 1.0346320346320328,
           "0-150ms": -1.2501368363437326,
           "150-450ms": 1.2666666666666664,
           "photo_id": 0
          },
          {
           "-300-0ms": 1.227994227994228,
           "0-150ms": 0.16201423097974843,
           "150-450ms": 1.596825396825398,
           "photo_id": 0
          },
          {
           "-300-0ms": 0.886002886002891,
           "0-150ms": 0.3929939792008781,
           "150-450ms": 0.15238095238095373,
           "photo_id": 0
          },
          {
           "-300-0ms": 0.46608946608946544,
           "0-150ms": 0.005473453749315775,
           "150-450ms": -0.38095238095238243,
           "photo_id": 0
          },
          {
           "-300-0ms": -2.227272727272727,
           "0-150ms": -6.4444444444444295,
           "150-450ms": -3.017241379310344,
           "photo_id": 0
          },
          {
           "-300-0ms": 0.43939393939394034,
           "0-150ms": -0.49444444444444136,
           "150-450ms": 0.9942528735632181,
           "photo_id": 0
          },
          {
           "-300-0ms": 1.3787878787878824,
           "0-150ms": 2.072222222222217,
           "150-450ms": 4.6178160919540225,
           "photo_id": 0
          },
          {
           "-300-0ms": 4.000000000000003,
           "0-150ms": 8.144444444444437,
           "150-450ms": 2.3735632183908084,
           "photo_id": 0
          },
          {
           "-300-0ms": -4.030303030303021,
           "0-150ms": -7.733333333333312,
           "150-450ms": 5.49425287356322,
           "photo_id": 0
          },
          {
           "-300-0ms": -0.36363636363636126,
           "0-150ms": -1.2555555555555533,
           "150-450ms": -0.8908045977011505,
           "photo_id": 0
          },
          {
           "-300-0ms": -0.8333333333333351,
           "0-150ms": -0.8722222222222191,
           "150-450ms": 0.25574712643678177,
           "photo_id": 0
          },
          {
           "-300-0ms": 3.787878787878794,
           "0-150ms": -4.344444444444432,
           "150-450ms": 0.31896551724137967,
           "photo_id": 0
          },
          {
           "-300-0ms": 1.6515151515151547,
           "0-150ms": 0.4333333333333331,
           "150-450ms": 0.3362068965517229,
           "photo_id": 0
          },
          {
           "-300-0ms": 0.24242424242424299,
           "0-150ms": 1.3111111111111098,
           "150-450ms": -1.974137931034481,
           "photo_id": 0
          },
          {
           "-300-0ms": 1.2727272727272732,
           "0-150ms": 0.23888888888888826,
           "150-450ms": 0.4252873563218393,
           "photo_id": 0
          },
          {
           "-300-0ms": 3.2424242424242435,
           "0-150ms": 7.461111111111102,
           "150-450ms": 0.48850574712643596,
           "photo_id": 0
          },
          {
           "-300-0ms": -3.1060606060605784,
           "0-150ms": 12.516666666666675,
           "150-450ms": -5.738505747126428,
           "photo_id": 0
          },
          {
           "-300-0ms": 1.2878787878787914,
           "0-150ms": 5.311111111111111,
           "150-450ms": -2.3735632183908044,
           "photo_id": 0
          },
          {
           "-300-0ms": 0.9848484848484826,
           "0-150ms": 3.2888888888888883,
           "150-450ms": -0.5545977011494253,
           "photo_id": 0
          },
          {
           "-300-0ms": -2.3030303030302925,
           "0-150ms": 12.838888888888876,
           "150-450ms": 0.8304597701149398,
           "photo_id": 1
          },
          {
           "-300-0ms": 4.1515151515151585,
           "0-150ms": -2.3499999999999965,
           "150-450ms": -1.3132183908045947,
           "photo_id": 0
          },
          {
           "-300-0ms": 2.5606060606060628,
           "0-150ms": 10.788888888888877,
           "150-450ms": 0.03735632183908274,
           "photo_id": 0
          },
          {
           "-300-0ms": -0.04545454545454523,
           "0-150ms": -0.6833333333333326,
           "150-450ms": -0.7385057471264362,
           "photo_id": 0
          },
          {
           "-300-0ms": 0.6818181818181831,
           "0-150ms": 4.533333333333325,
           "150-450ms": 1.0862068965517249,
           "photo_id": 0
          },
          {
           "-300-0ms": -1.5909090909090884,
           "0-150ms": -2.5666666666666624,
           "150-450ms": -3.143678160919542,
           "photo_id": 0
          },
          {
           "-300-0ms": 5.242424242424253,
           "0-150ms": 4.266666666666669,
           "150-450ms": 0.6666666666666651,
           "photo_id": 0
          },
          {
           "-300-0ms": -2.6515151515151523,
           "0-150ms": 2.611111111111111,
           "150-450ms": -2.03448275862069,
           "photo_id": 0
          },
          {
           "-300-0ms": 0.7121212121212137,
           "0-150ms": 3.255555555555555,
           "150-450ms": 1.1120689655172422,
           "photo_id": 0
          },
          {
           "-300-0ms": 1.0793650793650753,
           "0-150ms": 2.299999999999996,
           "150-450ms": -0.30714285714285805,
           "photo_id": 0
          },
          {
           "-300-0ms": 1.0793650793650802,
           "0-150ms": -1.3793650793650807,
           "150-450ms": 0.016666666666667718,
           "photo_id": 0
          },
          {
           "-300-0ms": -1.7142857142857142,
           "0-150ms": -3.012698412698407,
           "150-450ms": -3.516666666666662,
           "photo_id": 0
          },
          {
           "-300-0ms": -1.0793650793650789,
           "0-150ms": 3.3682539682539656,
           "150-450ms": -0.4238095238095216,
           "photo_id": 0
          },
          {
           "-300-0ms": -1.1746031746031749,
           "0-150ms": 0.8174603174603169,
           "150-450ms": -0.1904761904761897,
           "photo_id": 0
          },
          {
           "-300-0ms": -1.079365079365077,
           "0-150ms": -0.7301587301587286,
           "150-450ms": -0.9452380952380963,
           "photo_id": 0
          },
          {
           "-300-0ms": -5.174603174603168,
           "0-150ms": 18.514285714285695,
           "150-450ms": -10.46190476190475,
           "photo_id": 0
          },
          {
           "-300-0ms": -0.4444444444444439,
           "0-150ms": 2.9841269841269824,
           "150-450ms": -0.1380952380952376,
           "photo_id": 0
          },
          {
           "-300-0ms": -1.8730158730158701,
           "0-150ms": 3.323809523809523,
           "150-450ms": -0.3857142857142813,
           "photo_id": 0
          },
          {
           "-300-0ms": -7.714285714285715,
           "0-150ms": 14.5031746031746,
           "150-450ms": -3.5928571428571345,
           "photo_id": 1
          },
          {
           "-300-0ms": -1.3015873015873123,
           "0-150ms": 14.26507936507935,
           "150-450ms": -0.1904761904761869,
           "photo_id": 0
          },
          {
           "-300-0ms": -6.126984126984129,
           "0-150ms": 16.14126984126983,
           "150-450ms": -2.0833333333333215,
           "photo_id": 0
          },
          {
           "-300-0ms": -6.539682539682526,
           "0-150ms": 17.450793650793656,
           "150-450ms": -2.8428571428571323,
           "photo_id": 0
          },
          {
           "-300-0ms": 1.2380952380952501,
           "0-150ms": 4.639682539682539,
           "150-450ms": 0.8857142857142932,
           "photo_id": 0
          },
          {
           "-300-0ms": 0.22222222222222374,
           "0-150ms": 0.4333333333333343,
           "150-450ms": 0.4571428571428576,
           "photo_id": 0
          },
          {
           "-300-0ms": -8.952380952380954,
           "0-150ms": -4.503174603174599,
           "150-450ms": -2.6785714285714284,
           "photo_id": 0
          },
          {
           "-300-0ms": 2.3492063492063475,
           "0-150ms": -2.4412698412698384,
           "150-450ms": 0.6404761904761922,
           "photo_id": 0
          },
          {
           "-300-0ms": 0.1587301587301505,
           "0-150ms": 4.9603174603174605,
           "150-450ms": -1.433333333333332,
           "photo_id": 0
          },
          {
           "-300-0ms": 0.38095238095238737,
           "0-150ms": 6.593650793650799,
           "150-450ms": -2.9166666666666607,
           "photo_id": 0
          },
          {
           "-300-0ms": -1.3015873015872967,
           "0-150ms": 14.43174603174603,
           "150-450ms": -3.435714285714278,
           "photo_id": 0
          },
          {
           "-300-0ms": -0.38095238095237677,
           "0-150ms": 12.142857142857139,
           "150-450ms": -0.30714285714285183,
           "photo_id": 0
          },
          {
           "-300-0ms": -0.06349206349206245,
           "0-150ms": 1.953968253968257,
           "150-450ms": 0.6452380952380964,
           "photo_id": 0
          },
          {
           "-300-0ms": -4.645014245014242,
           "0-150ms": 8.14233385661957,
           "150-450ms": -3.9435897435897496,
           "photo_id": 0
          },
          {
           "-300-0ms": 1.8849002849002858,
           "0-150ms": -0.14652014652014703,
           "150-450ms": 1.1794871794871804,
           "photo_id": 0
          },
          {
           "-300-0ms": -3.1088319088319065,
           "0-150ms": -2.8341182626896946,
           "150-450ms": -2.532478632478633,
           "photo_id": 0
          },
          {
           "-300-0ms": 1.226210826210831,
           "0-150ms": -6.048142333856622,
           "150-450ms": 2.1273504273504282,
           "photo_id": 0
          },
          {
           "-300-0ms": -0.26438746438747257,
           "0-150ms": 7.517530088958662,
           "150-450ms": -2.25726495726496,
           "photo_id": 0
          },
          {
           "-300-0ms": 1.5999999999999968,
           "0-150ms": 0.8016745159602302,
           "150-450ms": 0.9196581196581173,
           "photo_id": 0
          },
          {
           "-300-0ms": 0.23703703703703663,
           "0-150ms": 0.08163265306122448,
           "150-450ms": 0.19316239316239256,
           "photo_id": 0
          },
          {
           "-300-0ms": 0.7042735042735032,
           "0-150ms": -0.6038723181580326,
           "150-450ms": 0.013675213675212544,
           "photo_id": 0
          },
          {
           "-300-0ms": -2.229235173818725e-17,
           "0-150ms": 6.32196462044006e-17,
           "150-450ms": 0.16666666666666588,
           "photo_id": 0
          },
          {
           "-300-0ms": 2.140170940170943,
           "0-150ms": -5.211930926216644,
           "150-450ms": 1.329059829059831,
           "photo_id": 0
          },
          {
           "-300-0ms": -1.3219373219373185,
           "0-150ms": -2.727367870225015,
           "150-450ms": -0.35726495726495155,
           "photo_id": 0
          },
          {
           "-300-0ms": -0.24615384615384847,
           "0-150ms": 0.4897959183673459,
           "150-450ms": -0.20085470085470256,
           "photo_id": 0
          },
          {
           "-300-0ms": 1.3356125356125335,
           "0-150ms": 1.3657770800627949,
           "150-450ms": 3.0427350427350426,
           "photo_id": 0
          },
          {
           "-300-0ms": -2.4615384615384603,
           "0-150ms": 0.5975928833071694,
           "150-450ms": -1.0478632478632506,
           "photo_id": 0
          },
          {
           "-300-0ms": 0,
           "0-150ms": 8.145767028369689e-17,
           "150-450ms": 0,
           "photo_id": 0
          },
          {
           "-300-0ms": -1.5566951566951532,
           "0-150ms": -0.25431711145996944,
           "150-450ms": 4.494017094017093,
           "photo_id": 0
          },
          {
           "-300-0ms": 5.062108262108259,
           "0-150ms": 9.672422815279957,
           "150-450ms": 2.549572649572649,
           "photo_id": 0
          },
          {
           "-300-0ms": -3.4871794871794806,
           "0-150ms": -1.6420722135007875,
           "150-450ms": -0.40854700854700976,
           "photo_id": 0
          },
          {
           "-300-0ms": -1.192022792022792,
           "0-150ms": -0.8707482993197297,
           "150-450ms": 0.23504273504273365,
           "photo_id": 0
          },
          {
           "-300-0ms": -0.7521367521367543,
           "0-150ms": -0.6080586080586116,
           "150-450ms": -0.7222222222222237,
           "photo_id": 0
          },
          {
           "-300-0ms": -0.6222222222222208,
           "0-150ms": -1.5028780743066463,
           "150-450ms": -2.6384615384615366,
           "photo_id": 0
          },
          {
           "-300-0ms": 4.050142450142458,
           "0-150ms": -4.0879120879120885,
           "150-450ms": 1.2829059829059877,
           "photo_id": 0
          },
          {
           "-300-0ms": 0.19373219373219297,
           "0-150ms": 0.05651491365777118,
           "150-450ms": 0.03760683760683783,
           "photo_id": 0
          },
          {
           "-300-0ms": 1.8324786324786322,
           "0-150ms": 0.9419152276295111,
           "150-450ms": 2.5700854700854676,
           "photo_id": 0
          },
          {
           "-300-0ms": -0.20284900284900179,
           "0-150ms": 0.5494505494505496,
           "150-450ms": 0.5991452991452976,
           "photo_id": 0
          },
          {
           "-300-0ms": -0.1527065527065544,
           "0-150ms": -2.148613291470435,
           "150-450ms": 2.0136752136752114,
           "photo_id": 0
          },
          {
           "-300-0ms": 0.5863991081382395,
           "0-150ms": -2.353623188405797,
           "150-450ms": 3.3311036789297668,
           "photo_id": 0
          },
          {
           "-300-0ms": 2.9007803790412514,
           "0-150ms": -4.343961352657009,
           "150-450ms": 0.9832775919732347,
           "photo_id": 1
          },
          {
           "-300-0ms": -0.17614269788182937,
           "0-150ms": -0.5101449275362293,
           "150-450ms": -1.5741360089186174,
           "photo_id": 0
          },
          {
           "-300-0ms": 4.4838350055741385,
           "0-150ms": 0.3909822866344581,
           "150-450ms": 10.167224080267554,
           "photo_id": 0
          },
          {
           "-300-0ms": -0.9264214046822756,
           "0-150ms": 1.2367149758454137,
           "150-450ms": -1.2775919732441472,
           "photo_id": 0
          },
          {
           "-300-0ms": -1.202898550724638,
           "0-150ms": -0.8322061191626414,
           "150-450ms": -0.6778149386845058,
           "photo_id": 1
          },
          {
           "-300-0ms": 1.8249721293199592,
           "0-150ms": 13.657326892109507,
           "150-450ms": -0.37904124860647315,
           "photo_id": 0
          },
          {
           "-300-0ms": -0.4147157190635456,
           "0-150ms": 11.99613526570049,
           "150-450ms": -0.21850613154960996,
           "photo_id": 0
          },
          {
           "-300-0ms": 4.017837235228545,
           "0-150ms": 0.40257648953301534,
           "150-450ms": 1.335562987736898,
           "photo_id": 0
          },
          {
           "-300-0ms": 0.051282051282051246,
           "0-150ms": 0.02962962962962966,
           "150-450ms": 0.05128205128205124,
           "photo_id": 0
          },
          {
           "-300-0ms": -0.13154960981047892,
           "0-150ms": -0.8927536231884069,
           "150-450ms": -0.07580824972129392,
           "photo_id": 0
          },
          {
           "-300-0ms": 13.25306577480491,
           "0-150ms": 7.108534621578097,
           "150-450ms": 0.3901895206243033,
           "photo_id": 0
          },
          {
           "-300-0ms": -4.397993311036791,
           "0-150ms": -1.893075684380032,
           "150-450ms": -2.7937569676700114,
           "photo_id": 0
          },
          {
           "-300-0ms": -0.12820512820513022,
           "0-150ms": -0.11529790660225502,
           "150-450ms": -0.5284280936454849,
           "photo_id": 0
          },
          {
           "-300-0ms": 0.7179487179487184,
           "0-150ms": 0.3851851851851844,
           "150-450ms": 0.4191750278706783,
           "photo_id": 0
          },
          {
           "-300-0ms": 1.2842809364548504,
           "0-150ms": 0.7175523349436435,
           "150-450ms": 0.8227424749163893,
           "photo_id": 0
          },
          {
           "-300-0ms": -0.7603121516164973,
           "0-150ms": 2.017391304347827,
           "150-450ms": -0.5373467112597526,
           "photo_id": 0
          },
          {
           "-300-0ms": -2.8138238573021215,
           "0-150ms": -0.23639291465378773,
           "150-450ms": 0.4860646599777061,
           "photo_id": 0
          },
          {
           "-300-0ms": 0.6131549609810455,
           "0-150ms": -0.8070853462157818,
           "150-450ms": 2.098104793756965,
           "photo_id": 0
          },
          {
           "-300-0ms": 0.10702341137123746,
           "0-150ms": 1.0621578099838966,
           "150-450ms": -0.11594202898551298,
           "photo_id": 0
          },
          {
           "-300-0ms": 3.4871794871794948,
           "0-150ms": 10.620933977455728,
           "150-450ms": -2.5306577480490517,
           "photo_id": 0
          },
          {
           "-300-0ms": 0.6332218506131562,
           "0-150ms": -0.13204508856682706,
           "150-450ms": -1.5585284280936456,
           "photo_id": 0
          },
          {
           "-300-0ms": -1.8517279821627657,
           "0-150ms": -3.105958132045091,
           "150-450ms": -0.3322185061315528,
           "photo_id": 0
          },
          {
           "-300-0ms": 1.8862876254180634,
           "0-150ms": -0.9668276972624792,
           "150-450ms": 1.3935340022296525,
           "photo_id": 0
          },
          {
           "-300-0ms": 1.1616499442586388,
           "0-150ms": -2.7091787439613504,
           "150-450ms": 0.6086956521739182,
           "photo_id": 0
          },
          {
           "-300-0ms": -1.0066889632107037,
           "0-150ms": 6.3143317230273786,
           "150-450ms": -1.0055741360089203,
           "photo_id": 0
          },
          {
           "-300-0ms": -1.947603121516165,
           "0-150ms": 0.17648953301127326,
           "150-450ms": -0.15607580824972334,
           "photo_id": 0
          },
          {
           "-300-0ms": 1.5418060200668897,
           "0-150ms": 3.9510466988727893,
           "150-450ms": 2.813823857302118,
           "photo_id": 0
          },
          {
           "-300-0ms": 16.297658862876272,
           "0-150ms": -0.5481481481481526,
           "150-450ms": 8.488294314381266,
           "photo_id": 0
          },
          {
           "-300-0ms": 0.6845039018952054,
           "0-150ms": 0.5442834138486324,
           "150-450ms": 0.731326644370125,
           "photo_id": 0
          },
          {
           "-300-0ms": 0.8193979933110369,
           "0-150ms": 0.9971014492753612,
           "150-450ms": -0.11817168338907486,
           "photo_id": 0
          },
          {
           "-300-0ms": 0.3851851851851853,
           "0-150ms": -3.2719060523938617,
           "150-450ms": -3.1198257080610055,
           "photo_id": 0
          },
          {
           "-300-0ms": 0.07407407407407195,
           "0-150ms": -1.2836495031616988,
           "150-450ms": -0.3050108932461871,
           "photo_id": 0
          },
          {
           "-300-0ms": 1.5407407407407394,
           "0-150ms": 0.8039747064137326,
           "150-450ms": 1.1394335511982576,
           "photo_id": 0
          },
          {
           "-300-0ms": 1.185185185185184,
           "0-150ms": -0.48328816621499743,
           "150-450ms": 0.7995642701525049,
           "photo_id": 0
          },
          {
           "-300-0ms": 0.5925925925925934,
           "0-150ms": 0.08672086720867143,
           "150-450ms": -0.7124183006535955,
           "photo_id": 0
          },
          {
           "-300-0ms": 1.288888888888885,
           "0-150ms": -0.0027100271002724976,
           "150-450ms": 1.6013071895424804,
           "photo_id": 0
          },
          {
           "-300-0ms": 1.9555555555555537,
           "0-150ms": 3.634146341463414,
           "150-450ms": 0.38779956427015233,
           "photo_id": 0
          },
          {
           "-300-0ms": 0.7851851851851775,
           "0-150ms": 8.31797651309847,
           "150-450ms": 0.4204793028322436,
           "photo_id": 0
          },
          {
           "-300-0ms": 0.17777777777777734,
           "0-150ms": -0.2538392050587174,
           "150-450ms": 0.7058823529411766,
           "photo_id": 0
          },
          {
           "-300-0ms": 6.414814814814811,
           "0-150ms": 2.8581752484191543,
           "150-450ms": -0.8104575163398714,
           "photo_id": 0
          },
          {
           "-300-0ms": 1.3481481481481465,
           "0-150ms": 1.8852755194218591,
           "150-450ms": -0.46840958605664545,
           "photo_id": 0
          },
          {
           "-300-0ms": -0.08888888888888948,
           "0-150ms": 1.6323396567299027,
           "150-450ms": -1.80392156862745,
           "photo_id": 0
          },
          {
           "-300-0ms": 0.77037037037037,
           "0-150ms": 0.5492321589882574,
           "150-450ms": 0.4161220043572982,
           "photo_id": 0
          },
          {
           "-300-0ms": -4.8592592592592565,
           "0-150ms": -4.9087624209575464,
           "150-450ms": 1.1895424836601345,
           "photo_id": 0
          },
          {
           "-300-0ms": -0.4444444444444442,
           "0-150ms": -0.10840108401083999,
           "150-450ms": -1.2440087145969498,
           "photo_id": 0
          },
          {
           "-300-0ms": -0.1777777777777807,
           "0-150ms": 0.07949412827461573,
           "150-450ms": 1.0849673202614378,
           "photo_id": 0
          },
          {
           "-300-0ms": 2.3703703703703716,
           "0-150ms": 0.2213188798554655,
           "150-450ms": 0.7254901960784306,
           "photo_id": 0
          },
          {
           "-300-0ms": -1.8962962962962964,
           "0-150ms": -1.1336946702800363,
           "150-450ms": -2.3137254901960778,
           "photo_id": 1
          },
          {
           "-300-0ms": 2.355555555555554,
           "0-150ms": 1.0460704607046065,
           "150-450ms": 2.3376906318082793,
           "photo_id": 0
          },
          {
           "-300-0ms": 2.2518518518518533,
           "0-150ms": -4.129177958446253,
           "150-450ms": 1.6209150326797384,
           "photo_id": 0
          },
          {
           "-300-0ms": 5.9407407407407335,
           "0-150ms": 13.532971996386642,
           "150-450ms": 0.8801742919389941,
           "photo_id": 0
          },
          {
           "-300-0ms": -1.6296296296296278,
           "0-150ms": 3.8979223125564606,
           "150-450ms": -5.636165577342047,
           "photo_id": 0
          },
          {
           "-300-0ms": 0.22222222222222213,
           "0-150ms": 2.3152664859981953,
           "150-450ms": 0.27886710239651374,
           "photo_id": 0
          },
          {
           "-300-0ms": 0.4592592592592572,
           "0-150ms": 0.5618789521228555,
           "150-450ms": 0.0501089324618725,
           "photo_id": 0
          },
          {
           "-300-0ms": 0.4210526315789465,
           "0-150ms": 0.22535211267605124,
           "150-450ms": 1.1942554799697678,
           "photo_id": 0
          },
          {
           "-300-0ms": -1.2163742690058454,
           "0-150ms": 0.7678664580073011,
           "150-450ms": -1.467876039304605,
           "photo_id": 0
          },
          {
           "-300-0ms": 0.21052631578947356,
           "0-150ms": 0.046948356807511575,
           "150-450ms": -0.006046863189721494,
           "photo_id": 0
          },
          {
           "-300-0ms": -2.736842105263156,
           "0-150ms": -1.5148669796557128,
           "150-450ms": 1.632653061224494,
           "photo_id": 0
          },
          {
           "-300-0ms": -2.666666666666663,
           "0-150ms": 0.4872196139801854,
           "150-450ms": -0.8888888888888881,
           "photo_id": 0
          },
          {
           "-300-0ms": 0.0623781676413265,
           "0-150ms": 1.4407929055816402,
           "150-450ms": 0.05139833711262328,
           "photo_id": 0
          },
          {
           "-300-0ms": 0.031189083820668023,
           "0-150ms": 0.7574334898278616,
           "150-450ms": -0.6969009826152632,
           "photo_id": 0
          },
          {
           "-300-0ms": 2.035087719298232,
           "0-150ms": -3.937402190923322,
           "150-450ms": 4.238851095993952,
           "photo_id": 1
          },
          {
           "-300-0ms": -0.1637426900584924,
           "0-150ms": 0.4444444444444436,
           "150-450ms": 2.069538926681783,
           "photo_id": 0
          },
          {
           "-300-0ms": 0.24951267056530094,
           "0-150ms": 0.8325508607198756,
           "150-450ms": 0.32653061224489893,
           "photo_id": 0
          },
          {
           "-300-0ms": -2.198830409356724,
           "0-150ms": 1.739175795513831,
           "150-450ms": -0.5275888133031034,
           "photo_id": 0
          },
          {
           "-300-0ms": -2.9707602339181225,
           "0-150ms": -1.6202399582681217,
           "150-450ms": -0.3159486016628849,
           "photo_id": 0
          },
          {
           "-300-0ms": 2.643274853801172,
           "0-150ms": 0.4569640062597921,
           "150-450ms": -0.049886621315194356,
           "photo_id": 0
          },
          {
           "-300-0ms": 1.9571150097466,
           "0-150ms": 21.771517996870134,
           "150-450ms": -7.560090702947828,
           "photo_id": 1
          },
          {
           "-300-0ms": 0.3040935672514604,
           "0-150ms": 0.26291079812206536,
           "150-450ms": 0.5170068027210867,
           "photo_id": 0
          },
          {
           "-300-0ms": 8.226120857699813,
           "0-150ms": 31.929055816379783,
           "150-450ms": 2.9886621315192765,
           "photo_id": 0
          },
          {
           "-300-0ms": -3.695906432748521,
           "0-150ms": 6.825247782994272,
           "150-450ms": -2.840513983371116,
           "photo_id": 0
          },
          {
           "-300-0ms": -0.24951267056530027,
           "0-150ms": 1.0349504434011472,
           "150-450ms": 0.22071050642479384,
           "photo_id": 0
          },
          {
           "-300-0ms": -0.304093567251462,
           "0-150ms": -0.616588419405322,
           "150-450ms": -0.4157218442932728,
           "photo_id": 0
          },
          {
           "-300-0ms": -0.6081871345029227,
           "0-150ms": 0.7344809598330718,
           "150-450ms": -0.8934240362811788,
           "photo_id": 0
          },
          {
           "-300-0ms": -2.8819047619047624,
           "0-150ms": -1.8952380952380945,
           "150-450ms": 0.9600000000000009,
           "photo_id": 0
          },
          {
           "-300-0ms": -4.498095238095231,
           "0-150ms": 10.337142857142856,
           "150-450ms": -1.69333333333333,
           "photo_id": 0
          },
          {
           "-300-0ms": 2.527619047619043,
           "0-150ms": -1.3619047619047613,
           "150-450ms": 0.5095238095238078,
           "photo_id": 0
          },
          {
           "-300-0ms": 2.4676190476190314,
           "0-150ms": 50.40571428571426,
           "150-450ms": -3.853333333333328,
           "photo_id": 0
          },
          {
           "-300-0ms": 1.5485714285714243,
           "0-150ms": -0.5923809523809503,
           "150-450ms": 1.3942857142857121,
           "photo_id": 0
          },
          {
           "-300-0ms": 1.6457142857142806,
           "0-150ms": 1.4076190476190487,
           "150-450ms": -2.167619047619049,
           "photo_id": 0
          },
          {
           "-300-0ms": 0.897142857142856,
           "0-150ms": -1.5390476190476174,
           "150-450ms": 0.4561904761904767,
           "photo_id": 0
          },
          {
           "-300-0ms": -1.8590476190476182,
           "0-150ms": -0.08190476190476155,
           "150-450ms": -0.34190476190476166,
           "photo_id": 0
          },
          {
           "-300-0ms": 1.7304761904761892,
           "0-150ms": -0.08380952380952315,
           "150-450ms": -0.3019047619047626,
           "photo_id": 0
          },
          {
           "-300-0ms": -0.48476190476190517,
           "0-150ms": 0.08571428571428534,
           "150-450ms": 0.6114285714285713,
           "photo_id": 0
          },
          {
           "-300-0ms": 3.5638095238095047,
           "0-150ms": 16.539047619047608,
           "150-450ms": 1.8752380952380954,
           "photo_id": 0
          },
          {
           "-300-0ms": -0.5914285714285707,
           "0-150ms": -0.7828571428571425,
           "150-450ms": -0.43714285714285595,
           "photo_id": 0
          },
          {
           "-300-0ms": -2.47047619047619,
           "0-150ms": 1.8514285714285708,
           "150-450ms": -1.14,
           "photo_id": 0
          },
          {
           "-300-0ms": -2.4752380952380966,
           "0-150ms": 3.9295238095238094,
           "150-450ms": -0.042857142857144204,
           "photo_id": 0
          },
          {
           "-300-0ms": 5.369523809523799,
           "0-150ms": -4.148571428571424,
           "150-450ms": -1.5914285714285716,
           "photo_id": 0
          },
          {
           "-300-0ms": -0.9514285714285732,
           "0-150ms": 1.1942857142857142,
           "150-450ms": 0.0809523809523802,
           "photo_id": 0
          },
          {
           "-300-0ms": -0.23333333333335085,
           "0-150ms": -1.8790123456790138,
           "150-450ms": -3.907317073170742,
           "photo_id": 0
          },
          {
           "-300-0ms": -2.605555555555594,
           "0-150ms": 11.276543209876559,
           "150-450ms": 3.5788617886178695,
           "photo_id": 1
          },
          {
           "-300-0ms": -2.2833333333333488,
           "0-150ms": -4.681481481481507,
           "150-450ms": -6.3138211382114084,
           "photo_id": 0
          },
          {
           "-300-0ms": 0.11111111111111395,
           "0-150ms": 1.3768527760903057e-15,
           "150-450ms": 0.5772357723577204,
           "photo_id": 0
          },
          {
           "-300-0ms": -0.11666666666666485,
           "0-150ms": -0.4000000000000013,
           "150-450ms": -0.024390243902436926,
           "photo_id": 0
          },
          {
           "-300-0ms": 0.3333333333333357,
           "0-150ms": 5.74074074074075,
           "150-450ms": 0.3203252032520291,
           "photo_id": 0
          },
          {
           "-300-0ms": 0.5611111111111052,
           "0-150ms": -0.5111111111111196,
           "150-450ms": -2.804215536603162e-15,
           "photo_id": 0
          },
          {
           "-300-0ms": -0.16666666666667165,
           "0-150ms": 2.22222222222223,
           "150-450ms": -0.3902439024390245,
           "photo_id": 0
          },
          {
           "-300-0ms": -0.4555555555555613,
           "0-150ms": 17.622222222222273,
           "150-450ms": -0.07967479674797111,
           "photo_id": 0
          },
          {
           "-300-0ms": 1.966666666666663,
           "0-150ms": 13.654320987654364,
           "150-450ms": -0.43252032520325817,
           "photo_id": 0
          },
          {
           "-300-0ms": -0.622222222222221,
           "0-150ms": -1.264197530864193,
           "150-450ms": 2.881300813008112,
           "photo_id": 0
          },
          {
           "-300-0ms": 0.17777777777778092,
           "0-150ms": 2.9111111111111234,
           "150-450ms": 0.24227642276422456,
           "photo_id": 0
          },
          {
           "-300-0ms": -2.31111111111112,
           "0-150ms": -2.9827160493827143,
           "150-450ms": -0.2959349593495902,
           "photo_id": 0
          },
          {
           "-300-0ms": -1.677777777777781,
           "0-150ms": -2.730864197530881,
           "150-450ms": 0.06829268292683806,
           "photo_id": 0
          },
          {
           "-300-0ms": -0.6611111111111185,
           "0-150ms": 5.701234567901245,
           "150-450ms": -0.29430894308943045,
           "photo_id": 0
          },
          {
           "-300-0ms": -0.36111111111111377,
           "0-150ms": 0.8493827160493873,
           "150-450ms": -0.4926829268292679,
           "photo_id": 0
          },
          {
           "-300-0ms": -0.08333333333333708,
           "0-150ms": 3.861728395061743,
           "150-450ms": 1.8747967479674825,
           "photo_id": 0
          },
          {
           "-300-0ms": -1.3388888888889021,
           "0-150ms": 2.2543209876543315,
           "150-450ms": 0.03739837398374091,
           "photo_id": 0
          },
          {
           "-300-0ms": -2.654358974358967,
           "0-150ms": -3.836630036630037,
           "150-450ms": -2.8827838827838783,
           "photo_id": 0
          },
          {
           "-300-0ms": -0.4615384615384606,
           "0-150ms": 0.13699633699633787,
           "150-450ms": -0.34065934065934084,
           "photo_id": 0
          },
          {
           "-300-0ms": -0.6953846153846168,
           "0-150ms": 14.910622710622706,
           "150-450ms": 2.4029304029304073,
           "photo_id": 1
          },
          {
           "-300-0ms": 0.44512820512820533,
           "0-150ms": 0.1487179487179466,
           "150-450ms": -0.06959706959706817,
           "photo_id": 0
          },
          {
           "-300-0ms": 0.26461538461538403,
           "0-150ms": 2.708424908424908,
           "150-450ms": 0.4285714285714288,
           "photo_id": 0
          },
          {
           "-300-0ms": 0.9538461538461527,
           "0-150ms": 0.5758241758241761,
           "150-450ms": 0.21978021978021967,
           "photo_id": 0
          },
          {
           "-300-0ms": 2.13333333333333,
           "0-150ms": 4.115018315018317,
           "150-450ms": -0.1904761904761898,
           "photo_id": 0
          },
          {
           "-300-0ms": 0.436923076923077,
           "0-150ms": 2.0527472527472495,
           "150-450ms": -0.36630036630036544,
           "photo_id": 0
          },
          {
           "-300-0ms": -0.06358974358974304,
           "0-150ms": 1.5245421245421262,
           "150-450ms": -1.0805860805860805,
           "photo_id": 0
          },
          {
           "-300-0ms": 0.2399999999999994,
           "0-150ms": 0.047619047619047596,
           "150-450ms": -1.3155019438114713e-16,
           "photo_id": 0
          },
          {
           "-300-0ms": -0.5046153846153825,
           "0-150ms": -2.73260073260073,
           "150-450ms": 0.10256410256410263,
           "photo_id": 0
          },
          {
           "-300-0ms": -1.3907692307692294,
           "0-150ms": -1.1721611721611715,
           "150-450ms": -0.6117216117216118,
           "photo_id": 0
          },
          {
           "-300-0ms": -0.5353846153846148,
           "0-150ms": 0.03076923076923097,
           "150-450ms": -1.0256410256410255,
           "photo_id": 0
          },
          {
           "-300-0ms": -0.16410256410256388,
           "0-150ms": 0.46373626373626414,
           "150-450ms": -1.1794871794871795,
           "photo_id": 0
          },
          {
           "-300-0ms": -1.31487179487179,
           "0-150ms": -0.5150183150183143,
           "150-450ms": 0.32600732600732796,
           "photo_id": 0
          },
          {
           "-300-0ms": 1.5507692307692265,
           "0-150ms": 4.048351648351644,
           "150-450ms": 2.567765567765566,
           "photo_id": 0
          },
          {
           "-300-0ms": 10.549743589743574,
           "0-150ms": 45.631501831501815,
           "150-450ms": 2.282051282051291,
           "photo_id": 0
          },
          {
           "-300-0ms": 1.4194871794871757,
           "0-150ms": 9.345054945054937,
           "150-450ms": 0.9999999999999999,
           "photo_id": 0
          },
          {
           "-300-0ms": 0.8820512820512799,
           "0-150ms": 1.2666666666666655,
           "150-450ms": -0.14652014652014697,
           "photo_id": 0
          },
          {
           "-300-0ms": -6.171185539606584,
           "0-150ms": -3.552487776819089,
           "150-450ms": -0.8109161793372452,
           "photo_id": 0
          },
          {
           "-300-0ms": -4.59330143540665,
           "0-150ms": 30.356629278113356,
           "150-450ms": 1.1721897335932405,
           "photo_id": 0
          },
          {
           "-300-0ms": -0.3072833599149362,
           "0-150ms": -0.7845844118492957,
           "150-450ms": -0.8304093567251457,
           "photo_id": 0
          },
          {
           "-300-0ms": 1.7884104199893678,
           "0-150ms": 2.422778257118214,
           "150-450ms": -4.946718648473035,
           "photo_id": 0
          },
          {
           "-300-0ms": 1.077086656034026,
           "0-150ms": -1.0463042853034212,
           "150-450ms": -0.10851202079272143,
           "photo_id": 0
          },
          {
           "-300-0ms": -1.2323232323232307,
           "0-150ms": -0.12999712395743315,
           "150-450ms": 1.0318388564002616,
           "photo_id": 0
          },
          {
           "-300-0ms": 0.7729930887825649,
           "0-150ms": 1.1561691113028487,
           "150-450ms": -0.168940870695256,
           "photo_id": 0
          },
          {
           "-300-0ms": 2.0659223817118604,
           "0-150ms": 11.07506471095774,
           "150-450ms": -1.9122807017543912,
           "photo_id": 0
          },
          {
           "-300-0ms": 0.5178096757044092,
           "0-150ms": 1.1797526603393778,
           "150-450ms": 2.057829759584154,
           "photo_id": 0
          },
          {
           "-300-0ms": 0.7910685805422698,
           "0-150ms": -0.47569744032211786,
           "150-450ms": 0.6744639376218395,
           "photo_id": 0
          },
          {
           "-300-0ms": -1.1727804359383232,
           "0-150ms": 18.68449813057236,
           "150-450ms": -1.730994152046786,
           "photo_id": 0
          },
          {
           "-300-0ms": 0.015948963317386006,
           "0-150ms": 4.370434282427386,
           "150-450ms": -0.7342430149447715,
           "photo_id": 0
          },
          {
           "-300-0ms": -1.6608187134502905,
           "0-150ms": -0.33764739718147485,
           "150-450ms": -0.7115009746588684,
           "photo_id": 0
          },
          {
           "-300-0ms": 3.1323763955342883,
           "0-150ms": 5.597929249352897,
           "150-450ms": 0.2936972059779077,
           "photo_id": 0
          },
          {
           "-300-0ms": -2.145667198298773,
           "0-150ms": 3.480586712683353,
           "150-450ms": 0.5367121507472394,
           "photo_id": 0
          },
          {
           "-300-0ms": -1.2852564102564108,
           "0-150ms": -1.4756671899529026,
           "150-450ms": -1.0736670736670741,
           "photo_id": 0
          },
          {
           "-300-0ms": -0.33974358974358876,
           "0-150ms": -0.15175300889586432,
           "150-450ms": 0.0919820919820951,
           "photo_id": 0
          },
          {
           "-300-0ms": -2.5128205128205146,
           "0-150ms": 2.8749345892202993,
           "150-450ms": -2.260480260480261,
           "photo_id": 0
          },
          {
           "-300-0ms": -1.6442307692307707,
           "0-150ms": 0.35792778649922047,
           "150-450ms": -1.2942612942612952,
           "photo_id": 0
          },
          {
           "-300-0ms": -4.746794871794857,
           "0-150ms": 34.01151229722654,
           "150-450ms": -1.2714692714692635,
           "photo_id": 0
          },
          {
           "-300-0ms": 4.358974358974355,
           "0-150ms": -0.9000523286237572,
           "150-450ms": 0.911680911680914,
           "photo_id": 0
          },
          {
           "-300-0ms": -0.06089743589743457,
           "0-150ms": -0.5306122448979568,
           "150-450ms": -0.7846967846967844,
           "photo_id": 0
          },
          {
           "-300-0ms": -4.016025641025629,
           "0-150ms": -6.694924123495524,
           "150-450ms": -2.2271062271062227,
           "photo_id": 0
          },
          {
           "-300-0ms": 3.7884615384615317,
           "0-150ms": -1.792778649921507,
           "150-450ms": 2.2474562474562463,
           "photo_id": 0
          },
          {
           "-300-0ms": -0.0256410256410227,
           "0-150ms": -0.25745682888539956,
           "150-450ms": -0.568172568172567,
           "photo_id": 0
          },
          {
           "-300-0ms": 30.487179487179514,
           "0-150ms": 77.34693877551017,
           "150-450ms": -0.3215303215303103,
           "photo_id": 0
          },
          {
           "-300-0ms": 0.5416666666666697,
           "0-150ms": 0.5578231292517081,
           "150-450ms": 0.1546601546601587,
           "photo_id": 0
          },
          {
           "-300-0ms": -1.3782051282051284,
           "0-150ms": -0.9387755102040779,
           "150-450ms": -0.06674806674806587,
           "photo_id": 0
          },
          {
           "-300-0ms": 2.3589743589743595,
           "0-150ms": 0.24489795918367527,
           "150-450ms": 0.18640618640618797,
           "photo_id": 0
          },
          {
           "-300-0ms": 3.3653846153846163,
           "0-150ms": 2.142333856619569,
           "150-450ms": 0.02930402930402994,
           "photo_id": 0
          },
          {
           "-300-0ms": 1.2756410256410315,
           "0-150ms": -1.3469387755102014,
           "150-450ms": -0.6862026862026854,
           "photo_id": 0
          },
          {
           "-300-0ms": -3.9743589743589722,
           "0-150ms": 0.06279434850863817,
           "150-450ms": 0.3736263736263746,
           "photo_id": 0
          },
          {
           "-300-0ms": -1.2788461538461517,
           "0-150ms": 1.4264782836211394,
           "150-450ms": -0.5714285714285718,
           "photo_id": 0
          },
          {
           "-300-0ms": 0.9229024943310665,
           "0-150ms": -0.740041928721174,
           "150-450ms": 0.5105485232067505,
           "photo_id": 0
          },
          {
           "-300-0ms": -0.09523809523809505,
           "0-150ms": -0.25052410901467553,
           "150-450ms": 0.14486638537271423,
           "photo_id": 0
          },
          {
           "-300-0ms": -0.5578231292516959,
           "0-150ms": -1.262054507337526,
           "150-450ms": 0.2496483825597761,
           "photo_id": 0
          },
          {
           "-300-0ms": 0.3333333333333324,
           "0-150ms": 0.8427672955974833,
           "150-450ms": 0.07383966244725658,
           "photo_id": 0
          },
          {
           "-300-0ms": 1.913832199546487,
           "0-150ms": 6.402515723270434,
           "150-450ms": -0.7454289732770748,
           "photo_id": 0
          },
          {
           "-300-0ms": 0.2176870748299328,
           "0-150ms": 4.506857401743639e-17,
           "150-450ms": 0.6315049226441627,
           "photo_id": 0
          },
          {
           "-300-0ms": 0.045351473922907025,
           "0-150ms": 35.19706498951778,
           "150-450ms": 0.2264416315049249,
           "photo_id": 0
          },
          {
           "-300-0ms": -0.7392290249433092,
           "0-150ms": -1.3039832285115365,
           "150-450ms": 0.4803094233474001,
           "photo_id": 0
          },
          {
           "-300-0ms": -0.46031746031746046,
           "0-150ms": 7.637316561844859,
           "150-450ms": 0.6765119549929642,
           "photo_id": 0
          },
          {
           "-300-0ms": -1.1360544217687079,
           "0-150ms": 0.40356394129978995,
           "150-450ms": -0.7271448663853732,
           "photo_id": 0
          },
          {
           "-300-0ms": -0.12925170068027172,
           "0-150ms": 0.17610062893081815,
           "150-450ms": 1.6251758087201107,
           "photo_id": 0
          },
          {
           "-300-0ms": 0.7777777777777751,
           "0-150ms": -8.113207547169809,
           "150-450ms": -5.437412095639943,
           "photo_id": 0
          },
          {
           "-300-0ms": 4.784580498866212,
           "0-150ms": -3.1121593291404612,
           "150-450ms": 1.737693389592123,
           "photo_id": 0
          },
          {
           "-300-0ms": 0.7165532879818558,
           "0-150ms": 2.4339622641509373,
           "150-450ms": -0.18143459915612514,
           "photo_id": 1
          },
          {
           "-300-0ms": 5.988662131519255,
           "0-150ms": 55.53144654088046,
           "150-450ms": -4.504219409282714,
           "photo_id": 0
          },
          {
           "-300-0ms": -0.01587301587301304,
           "0-150ms": -0.27358490566037535,
           "150-450ms": 0.537974683544303,
           "photo_id": 0
          },
          {
           "-300-0ms": -1.451247165532881,
           "0-150ms": -0.5000000000000013,
           "150-450ms": 0.07454289732770746,
           "photo_id": 0
          },
          {
           "-300-0ms": 1.0612244897959202,
           "0-150ms": 0.3522012578616356,
           "150-450ms": 0.841772151898735,
           "photo_id": 0
          },
          {
           "-300-0ms": -0.2857142857142822,
           "0-150ms": 0.45178197064989384,
           "150-450ms": -1.3073136427566803,
           "photo_id": 0
          },
          {
           "-300-0ms": 0.6802721088435373,
           "0-150ms": -0.6257861635220119,
           "150-450ms": 1.6399437412095634,
           "photo_id": 0
          },
          {
           "-300-0ms": -1.7596371882086148,
           "0-150ms": 2.5387840670859507,
           "150-450ms": -1.3699015471167373,
           "photo_id": 0
          },
          {
           "-300-0ms": -4.353741496598636,
           "0-150ms": 3.703354297693913,
           "150-450ms": -1.2271448663853726,
           "photo_id": 0
          },
          {
           "-300-0ms": 0.5668934240362811,
           "0-150ms": -0.27777777777777785,
           "150-450ms": 0.28410689170182785,
           "photo_id": 0
          },
          {
           "-300-0ms": -0.15151515151515507,
           "0-150ms": 2.6707616707616695,
           "150-450ms": -0.3163091590057869,
           "photo_id": 0
          },
          {
           "-300-0ms": -0.07575757575757824,
           "0-150ms": -1.3439803439803397,
           "150-450ms": -0.9417773237997906,
           "photo_id": 0
          },
          {
           "-300-0ms": -1.8787878787878671,
           "0-150ms": -1.9631449631449582,
           "150-450ms": -3.1807967313585124,
           "photo_id": 0
          },
          {
           "-300-0ms": -0.8636363636363581,
           "0-150ms": 0.6445536445536438,
           "150-450ms": -0.0017024174327504905,
           "photo_id": 0
          },
          {
           "-300-0ms": 0.015151515151515046,
           "0-150ms": -0.3775593775593755,
           "150-450ms": -0.792986040177046,
           "photo_id": 0
          },
          {
           "-300-0ms": 0.28787878787879406,
           "0-150ms": 0.4832104832104798,
           "150-450ms": 1.2488934286687117,
           "photo_id": 0
          },
          {
           "-300-0ms": -0.015151515151514805,
           "0-150ms": 0.4742014742014679,
           "150-450ms": 0.4770173646578126,
           "photo_id": 0
          },
          {
           "-300-0ms": -1.4696969696969753,
           "0-150ms": 8.534807534807479,
           "150-450ms": -0.13278855975485168,
           "photo_id": 0
          },
          {
           "-300-0ms": -3.3030303030302264,
           "0-150ms": 6.692055692055697,
           "150-450ms": -0.554307116104849,
           "photo_id": 1
          },
          {
           "-300-0ms": -1.742424242424203,
           "0-150ms": -1.7297297297297165,
           "150-450ms": -0.9731018045624613,
           "photo_id": 0
          },
          {
           "-300-0ms": -3.696969696969663,
           "0-150ms": 12.846027846027818,
           "150-450ms": -2.18658495062988,
           "photo_id": 0
          },
          {
           "-300-0ms": 1.2121212121212124,
           "0-150ms": 0.6912366912366897,
           "150-450ms": -0.013278855975484373,
           "photo_id": 0
          },
          {
           "-300-0ms": -8.378787878787838,
           "0-150ms": -2.9352989352988974,
           "150-450ms": -4.080354102825998,
           "photo_id": 0
          },
          {
           "-300-0ms": 5.0757575757575415,
           "0-150ms": 9.452907452907438,
           "150-450ms": 4.8219271365338505,
           "photo_id": 0
          },
          {
           "-300-0ms": -3.515151515151482,
           "0-150ms": 7.210483210483211,
           "150-450ms": 0.5512427647259248,
           "photo_id": 0
          },
          {
           "-300-0ms": 0.5151515151514955,
           "0-150ms": 0.4406224406224339,
           "150-450ms": 1.1171263193734917,
           "photo_id": 0
          },
          {
           "-300-0ms": 1.5454545454545443,
           "0-150ms": -0.5782145782145803,
           "150-450ms": 1.175008512087154,
           "photo_id": 0
          },
          {
           "-300-0ms": -1.1212121212120978,
           "0-150ms": 5.004095004094991,
           "150-450ms": 0.17773237997956692,
           "photo_id": 0
          },
          {
           "-300-0ms": 1.106060606060598,
           "0-150ms": 0.46109746109745275,
           "150-450ms": 1.4256043581886326,
           "photo_id": 0
          },
          {
           "-300-0ms": 0.18181818181818332,
           "0-150ms": 1.1588861588861523,
           "150-450ms": 0.2747701736465767,
           "photo_id": 0
          },
          {
           "-300-0ms": 0.1666666666666763,
           "0-150ms": -1.5708435708435664,
           "150-450ms": 0.5989104528430486,
           "photo_id": 0
          },
          {
           "-300-0ms": 1.4393939393939343,
           "0-150ms": 6.381654381654371,
           "150-450ms": 0.7184201566223992,
           "photo_id": 0
          },
          {
           "-300-0ms": -2.409090909090847,
           "0-150ms": 5.994266994267012,
           "150-450ms": -2.364317330609439,
           "photo_id": 0
          },
          {
           "-300-0ms": -0.5303030303030286,
           "0-150ms": -1.5790335790335697,
           "150-450ms": -0.5182158665304717,
           "photo_id": 1
          },
          {
           "-300-0ms": -0.1666666666666633,
           "0-150ms": -0.3832923832923809,
           "150-450ms": -0.5869935308137505,
           "photo_id": 0
          },
          {
           "-300-0ms": -5.916666666666674,
           "0-150ms": 13.583333333333321,
           "150-450ms": -1.2681372549019765,
           "photo_id": 0
          },
          {
           "-300-0ms": 0.1111111111111096,
           "0-150ms": 0.8333333333333343,
           "150-450ms": 0.13774509803921528,
           "photo_id": 0
          },
          {
           "-300-0ms": 1.5277777777777786,
           "0-150ms": -0.03333333333333555,
           "150-450ms": 0.8058823529411782,
           "photo_id": 0
          },
          {
           "-300-0ms": -0.888888888888895,
           "0-150ms": 11.77499999999999,
           "150-450ms": -1.229411764705884,
           "photo_id": 0
          },
          {
           "-300-0ms": 0.3055555555555555,
           "0-150ms": 0.9333333333333328,
           "150-450ms": -0.15098039215686188,
           "photo_id": 0
          },
          {
           "-300-0ms": 0.9722222222222214,
           "0-150ms": -0.11666666666666758,
           "150-450ms": 0.2906862745098035,
           "photo_id": 0
          },
          {
           "-300-0ms": 0.2777777777777785,
           "0-150ms": -0.20000000000000004,
           "150-450ms": -0.20294117647058785,
           "photo_id": 0
          },
          {
           "-300-0ms": -0.1944444444444456,
           "0-150ms": -0.2583333333333313,
           "150-450ms": -0.5980392156862709,
           "photo_id": 0
          },
          {
           "-300-0ms": -2.027777777777778,
           "0-150ms": -4.149999999999997,
           "150-450ms": 1.6882352941176457,
           "photo_id": 0
          },
          {
           "-300-0ms": 1.0555555555555547,
           "0-150ms": -0.49166666666666675,
           "150-450ms": 0.9651960784313717,
           "photo_id": 0
          },
          {
           "-300-0ms": 0.08333333333333387,
           "0-150ms": -1.8499999999999994,
           "150-450ms": 0.473529411764706,
           "photo_id": 0
          },
          {
           "-300-0ms": 7.80555555555555,
           "0-150ms": -1.1916666666666704,
           "150-450ms": 3.6995098039215732,
           "photo_id": 0
          },
          {
           "-300-0ms": 1.3055555555555582,
           "0-150ms": 0.366666666666667,
           "150-450ms": 2.637745098039209,
           "photo_id": 0
          },
          {
           "-300-0ms": 0.027777777777778918,
           "0-150ms": -0.10833333333333216,
           "150-450ms": 0.27254901960784356,
           "photo_id": 0
          },
          {
           "-300-0ms": -2.11111111111111,
           "0-150ms": 3.0583333333333282,
           "150-450ms": -0.7754901960784308,
           "photo_id": 0
          },
          {
           "-300-0ms": 0.4444444444444427,
           "0-150ms": 11.149999999999983,
           "150-450ms": -1.1872549019607848,
           "photo_id": 0
          },
          {
           "-300-0ms": 0.08333333333333359,
           "0-150ms": -0.5500000000000002,
           "150-450ms": -0.13431372549019574,
           "photo_id": 0
          },
          {
           "-300-0ms": -4.86111111111111,
           "0-150ms": 1.8250000000000004,
           "150-450ms": -0.16470588235294073,
           "photo_id": 0
          },
          {
           "-300-0ms": 3.888888888888886,
           "0-150ms": 4.958333333333328,
           "150-450ms": 2.337745098039211,
           "photo_id": 0
          },
          {
           "-300-0ms": 1.694444444444444,
           "0-150ms": 6.374999999999992,
           "150-450ms": 6.62205882352941,
           "photo_id": 0
          },
          {
           "-300-0ms": 1.472222222222219,
           "0-150ms": 1.0416666666666663,
           "150-450ms": 0.8549019607843116,
           "photo_id": 0
          },
          {
           "-300-0ms": 6.333333333333332,
           "0-150ms": 0.07499999999997946,
           "150-450ms": -2.8960784313725507,
           "photo_id": 0
          },
          {
           "-300-0ms": 1.8611111111111125,
           "0-150ms": -2.6833333333333322,
           "150-450ms": -0.5308823529411754,
           "photo_id": 0
          },
          {
           "-300-0ms": -1.3333333333333324,
           "0-150ms": -1.3166666666666669,
           "150-450ms": -0.3475490196078444,
           "photo_id": 0
          },
          {
           "-300-0ms": 1.1388888888888886,
           "0-150ms": -0.3083333333333346,
           "150-450ms": -1.6034313725490188,
           "photo_id": 0
          },
          {
           "-300-0ms": -2.3055555555555602,
           "0-150ms": 2.883333333333326,
           "150-450ms": -2.2789215686274553,
           "photo_id": 0
          },
          {
           "-300-0ms": -1.4444444444444453,
           "0-150ms": -0.20000000000000387,
           "150-450ms": 0.22303921568627505,
           "photo_id": 0
          },
          {
           "-300-0ms": 0.3333333333333331,
           "0-150ms": 3.4083333333333337,
           "150-450ms": 0.03431372549019346,
           "photo_id": 0
          },
          {
           "-300-0ms": 0.6259259259259387,
           "0-150ms": 3.129353233830851,
           "150-450ms": -0.31324200913240513,
           "photo_id": 0
          },
          {
           "-300-0ms": -6.222222222222289,
           "0-150ms": 7.231343283582148,
           "150-450ms": -8.636529680365316,
           "photo_id": 0
          },
          {
           "-300-0ms": 0.04444444444444077,
           "0-150ms": 2.7597014925372996,
           "150-450ms": 0.28310502283104877,
           "photo_id": 0
          },
          {
           "-300-0ms": 4.229629629629619,
           "0-150ms": 5.742786069651712,
           "150-450ms": 8.28173515981729,
           "photo_id": 0
          },
          {
           "-300-0ms": -6.700000000000009,
           "0-150ms": 3.9029850746268964,
           "150-450ms": -2.985388127853876,
           "photo_id": 0
          },
          {
           "-300-0ms": -0.681481481481466,
           "0-150ms": -0.33582089552238487,
           "150-450ms": -0.3634703196346918,
           "photo_id": 0
          },
          {
           "-300-0ms": 2.200000000000072,
           "0-150ms": -0.9636815920397431,
           "150-450ms": -0.46255707762556547,
           "photo_id": 0
          },
          {
           "-300-0ms": -3.711111111111119,
           "0-150ms": -1.7621890547263535,
           "150-450ms": -0.47168949771689633,
           "photo_id": 0
          },
          {
           "-300-0ms": 0.5740740740740712,
           "0-150ms": 0.04228855721392669,
           "150-450ms": 0.4109589041095852,
           "photo_id": 0
          },
          {
           "-300-0ms": -0.9222222222222456,
           "0-150ms": -10.163681592039723,
           "150-450ms": -1.0831050228310566,
           "photo_id": 0
          },
          {
           "-300-0ms": 1.0592592592592422,
           "0-150ms": -0.11492537313432698,
           "150-450ms": 0.14155251141553177,
           "photo_id": 0
          },
          {
           "-300-0ms": 0.8703703703703717,
           "0-150ms": 3.645273631840775,
           "150-450ms": 0.35890410958903446,
           "photo_id": 0
          },
          {
           "-300-0ms": 2.596296296296296,
           "0-150ms": -1.128855721393025,
           "150-450ms": 0.7675799086758004,
           "photo_id": 0
          },
          {
           "-300-0ms": -0.6666666666666664,
           "0-150ms": -0.6417910447761054,
           "150-450ms": -3.428310502283082,
           "photo_id": 0
          },
          {
           "-300-0ms": -1.5629629629629715,
           "0-150ms": 7.810447761194003,
           "150-450ms": -0.5356164383561638,
           "photo_id": 0
          },
          {
           "-300-0ms": -6.662962962962933,
           "0-150ms": -6.381094527363115,
           "150-450ms": -6.342922374429172,
           "photo_id": 0
          },
          {
           "-300-0ms": 0.3221850613154814,
           "0-150ms": 3.897170462387859,
           "150-450ms": -0.21404682274247433,
           "photo_id": 0
          },
          {
           "-300-0ms": -0.21627647714605025,
           "0-150ms": 1.9296066252588018,
           "150-450ms": 0.5169082125603877,
           "photo_id": 0
          },
          {
           "-300-0ms": 0.11817168338907662,
           "0-150ms": 0.23947550034506546,
           "150-450ms": 0.4188034188034227,
           "photo_id": 0
          },
          {
           "-300-0ms": -0.20847268673356542,
           "0-150ms": 2.5928226363008995,
           "150-450ms": -0.19286510590858497,
           "photo_id": 0
          },
          {
           "-300-0ms": 0.04347826086956844,
           "0-150ms": 0.8274672187715674,
           "150-450ms": -0.3403939056112965,
           "photo_id": 0
          },
          {
           "-300-0ms": -0.6243032329988948,
           "0-150ms": 2.4768806073153957,
           "150-450ms": 0.47305834262354995,
           "photo_id": 0
          },
          {
           "-300-0ms": 0.6187290969899518,
           "0-150ms": 2.55348516218081,
           "150-450ms": 2.694537346711266,
           "photo_id": 0
          },
          {
           "-300-0ms": 0.2519509476031158,
           "0-150ms": -0.825396825396829,
           "150-450ms": 0.09810479375696464,
           "photo_id": 0
          },
          {
           "-300-0ms": 0.2597547380156085,
           "0-150ms": -1.4237405106970338,
           "150-450ms": 0.20884429580081484,
           "photo_id": 0
          },
          {
           "-300-0ms": 0.057971014492757815,
           "0-150ms": 0.7681159420289858,
           "150-450ms": 0.09476031215161547,
           "photo_id": 0
          },
          {
           "-300-0ms": -0.49386845039024996,
           "0-150ms": 52.48654244306429,
           "150-450ms": 1.6425120772946782,
           "photo_id": 0
          },
          {
           "-300-0ms": -0.3010033444816016,
           "0-150ms": 0.015873015873013114,
           "150-450ms": 2.5930880713489386,
           "photo_id": 0
          },
          {
           "-300-0ms": -0.438127090301006,
           "0-150ms": 0.0531400966183578,
           "150-450ms": -0.3745819397993317,
           "photo_id": 0
          },
          {
           "-300-0ms": 0.1806020066889765,
           "0-150ms": 1.506556245686679,
           "150-450ms": 0.12225938312894254,
           "photo_id": 0
          },
          {
           "-300-0ms": -0.05462653288735512,
           "0-150ms": -4.5804002760524725,
           "150-450ms": -2.316610925306598,
           "photo_id": 0
          },
          {
           "-300-0ms": -0.25752508361204923,
           "0-150ms": -1.1249137336093868,
           "150-450ms": -0.6737272389446313,
           "photo_id": 0
          },
          {
           "-300-0ms": 0.3723522853957663,
           "0-150ms": 0.21601104209799651,
           "150-450ms": 0.6674098848011857,
           "photo_id": 0
          },
          {
           "-300-0ms": -1.860646599776995,
           "0-150ms": 11.079365079365099,
           "150-450ms": -2.4002229654403697,
           "photo_id": 0
          },
          {
           "-300-0ms": -0.28428093645484837,
           "0-150ms": -0.6501035196687379,
           "150-450ms": -0.5180230397621716,
           "photo_id": 0
          },
          {
           "-300-0ms": 0.0780379041248588,
           "0-150ms": 2.5859213250517628,
           "150-450ms": 1.3359345968041572,
           "photo_id": 0
          },
          {
           "-300-0ms": 0.3957636566332241,
           "0-150ms": 0.180124223602484,
           "150-450ms": -0.26941657376440203,
           "photo_id": 0
          },
          {
           "-300-0ms": 1.3177257525083532,
           "0-150ms": -0.07039337474119955,
           "150-450ms": 0.9628390932738743,
           "photo_id": 0
          },
          {
           "-300-0ms": 0.2185061315496124,
           "0-150ms": 1.4237405106970338,
           "150-450ms": -0.09067261241174546,
           "photo_id": 0
          },
          {
           "-300-0ms": -0.9152731326644364,
           "0-150ms": -0.6093857832988272,
           "150-450ms": -0.5020438498699378,
           "photo_id": 0
          },
          {
           "-300-0ms": 0.02675585284282452,
           "0-150ms": 8.535541752933076,
           "150-450ms": 0.16499442586398724,
           "photo_id": 0
          },
          {
           "-300-0ms": -1.9083490269930747,
           "0-150ms": 3.964387464387467,
           "150-450ms": -2.2150537634408387,
           "photo_id": 0
          },
          {
           "-300-0ms": 1.2944130571249255,
           "0-150ms": 3.6196581196581206,
           "150-450ms": 0.9462365591397862,
           "photo_id": 0
          },
          {
           "-300-0ms": -0.14814814814814628,
           "0-150ms": 2.658119658119659,
           "150-450ms": -0.9534050179211446,
           "photo_id": 0
          },
          {
           "-300-0ms": -0.08411801632139453,
           "0-150ms": 11.22222222222222,
           "150-450ms": 0.7694145758661987,
           "photo_id": 0
          },
          {
           "-300-0ms": 0.06026365348399374,
           "0-150ms": 0.5997150997151005,
           "150-450ms": 0.3464755077658311,
           "photo_id": 0
          },
          {
           "-300-0ms": -1.119899560577525,
           "0-150ms": -0.8105413105413136,
           "150-450ms": -3.18279569892473,
           "photo_id": 0
          },
          {
           "-300-0ms": -0.1155053358443181,
           "0-150ms": 0.3974358974358972,
           "150-450ms": -0.013142174432497456,
           "photo_id": 0
          },
          {
           "-300-0ms": -1.5317011927181408,
           "0-150ms": 3.6623931623931676,
           "150-450ms": -0.5758661887694146,
           "photo_id": 0
          },
          {
           "-300-0ms": -0.6290018832391722,
           "0-150ms": -1.2564102564102586,
           "150-450ms": 0.8387096774193594,
           "photo_id": 0
          },
          {
           "-300-0ms": 0.7319522912743217,
           "0-150ms": 1.7920227920227971,
           "150-450ms": -0.7156511350059728,
           "photo_id": 0
          },
          {
           "-300-0ms": -2.4745762711864274,
           "0-150ms": 7.810541310541314,
           "150-450ms": -0.5890083632019089,
           "photo_id": 0
          },
          {
           "-300-0ms": -0.11927181418707004,
           "0-150ms": -2.20797720797721,
           "150-450ms": 1.8470728793309439,
           "photo_id": 0
          },
          {
           "-300-0ms": 0.3640929064657919,
           "0-150ms": 0.4045584045584036,
           "150-450ms": -0.16965352449223228,
           "photo_id": 0
          },
          {
           "-300-0ms": 1.2981795354676706,
           "0-150ms": -0.45014245014245,
           "150-450ms": -0.38590203106332005,
           "photo_id": 0
          },
          {
           "-300-0ms": -8.527306967984929,
           "0-150ms": 3.410256410256407,
           "150-450ms": -11.750298685782539,
           "photo_id": 0
          },
          {
           "-300-0ms": 3.3270558694287673,
           "0-150ms": 44.192307692307715,
           "150-450ms": -2.6117084826762116,
           "photo_id": 0
          },
          {
           "-300-0ms": -1.529190207156309,
           "0-150ms": -1.1652421652421658,
           "150-450ms": 0.9976105137395472,
           "photo_id": 0
          },
          {
           "-300-0ms": 1.1776522284996904,
           "0-150ms": 0.18518518518518604,
           "150-450ms": 1.1397849462365601,
           "photo_id": 0
          },
          {
           "-300-0ms": -0.37162586315128715,
           "0-150ms": 0.44586894586894604,
           "150-450ms": 0.18518518518518756,
           "photo_id": 0
          },
          {
           "-300-0ms": -10.34526051475203,
           "0-150ms": 5.168091168091178,
           "150-450ms": -7.434886499402611,
           "photo_id": 0
          },
          {
           "-300-0ms": -2.7696170747018165,
           "0-150ms": 7.5256410256410255,
           "150-450ms": -3.2270011947431225,
           "photo_id": 0
          },
          {
           "-300-0ms": -4.085373509102331,
           "0-150ms": 3.800569800569796,
           "150-450ms": -4.126642771804062,
           "photo_id": 0
          },
          {
           "-300-0ms": 1.5950062421972564,
           "0-150ms": 5.905982905982899,
           "150-450ms": 1.5939736346516016,
           "photo_id": 0
          },
          {
           "-300-0ms": 0.9982521847690368,
           "0-150ms": 3.1658119658119612,
           "150-450ms": 1.7943502824858737,
           "photo_id": 0
          },
          {
           "-300-0ms": 1.3568039950062432,
           "0-150ms": 4.218803418803415,
           "150-450ms": 2.563841807909601,
           "photo_id": 0
          },
          {
           "-300-0ms": -1.1550561797752819,
           "0-150ms": 2.6290598290598264,
           "150-450ms": 0.024858757062146946,
           "photo_id": 0
          },
          {
           "-300-0ms": -3.792759051186005,
           "0-150ms": 18.304273504273493,
           "150-450ms": 2.255367231638423,
           "photo_id": 0
          },
          {
           "-300-0ms": -0.0259675405742813,
           "0-150ms": 1.0410256410256418,
           "150-450ms": -0.04670433145009362,
           "photo_id": 0
          },
          {
           "-300-0ms": 0.3690387016229706,
           "0-150ms": -0.8683760683760674,
           "150-450ms": -0.9047080979284355,
           "photo_id": 0
          },
          {
           "-300-0ms": 0.5912609238451912,
           "0-150ms": -0.10940170940170824,
           "150-450ms": -0.12278719397363524,
           "photo_id": 0
          },
          {
           "-300-0ms": 0.4019975031210992,
           "0-150ms": -0.9811965811965807,
           "150-450ms": 1.1450094161958568,
           "photo_id": 0
          },
          {
           "-300-0ms": -0.20224719101123625,
           "0-150ms": -0.16923076923076927,
           "150-450ms": 0.2787193973634647,
           "photo_id": 0
          },
          {
           "-300-0ms": -0.8684144818976259,
           "0-150ms": 5.796581196581194,
           "150-450ms": 0.5013182674199618,
           "photo_id": 0
          },
          {
           "-300-0ms": -0.1887640449438204,
           "0-150ms": -0.11111111111111044,
           "150-450ms": 0.1694915254237285,
           "photo_id": 0
          },
          {
           "-300-0ms": -0.760049937578028,
           "0-150ms": -0.8683760683760688,
           "150-450ms": 0.1378531073446323,
           "photo_id": 0
          },
          {
           "-300-0ms": 1.2774032459425764,
           "0-150ms": 5.348717948717944,
           "150-450ms": -0.4056497175141253,
           "photo_id": 0
          },
          {
           "-300-0ms": 2.9258426966292164,
           "0-150ms": 4.189743589743586,
           "150-450ms": 0.2983050847457618,
           "photo_id": 0
          },
          {
           "-300-0ms": -5.081148564294632,
           "0-150ms": 6.437606837606826,
           "150-450ms": -2.2256120527306984,
           "photo_id": 0
          },
          {
           "-300-0ms": -0.3390761548064897,
           "0-150ms": -0.8923076923076936,
           "150-450ms": 1.323540489642185,
           "photo_id": 0
          },
          {
           "-300-0ms": 0.21523096129837846,
           "0-150ms": 1.4239316239316222,
           "150-450ms": 0.578907721280603,
           "photo_id": 0
          },
          {
           "-300-0ms": -1.8616729088639243,
           "0-150ms": 2.3230769230769215,
           "150-450ms": 4.41468926553672,
           "photo_id": 0
          },
          {
           "-300-0ms": 0.05742821473158546,
           "0-150ms": -0.41880341880341887,
           "150-450ms": 0.8271186440677963,
           "photo_id": 0
          },
          {
           "-300-0ms": -1.2933832709113593,
           "0-150ms": -0.9299145299145293,
           "150-450ms": 1.1487758945386048,
           "photo_id": 0
          },
          {
           "-300-0ms": 0.8409488139825232,
           "0-150ms": 1.8427350427350409,
           "150-450ms": 0.67909604519774,
           "photo_id": 0
          },
          {
           "-300-0ms": 0.3510611735330847,
           "0-150ms": 10.941880341880326,
           "150-450ms": -0.3013182674199656,
           "photo_id": 0
          },
          {
           "-300-0ms": -1.1831831831831952,
           "0-150ms": -8.944444444444455,
           "150-450ms": 2.4222222222222087,
           "photo_id": 0
          },
          {
           "-300-0ms": 2.8108108108108065,
           "0-150ms": -0.18627450980391505,
           "150-450ms": 7.422222222222221,
           "photo_id": 0
          },
          {
           "-300-0ms": 1.5135135135135196,
           "0-150ms": 0.33333333333333753,
           "150-450ms": 4.93333333333334,
           "photo_id": 0
          },
          {
           "-300-0ms": 0.40240240240241265,
           "0-150ms": 5.091503267973855,
           "150-450ms": 5.033333333333345,
           "photo_id": 0
          },
          {
           "-300-0ms": 6.858858858858852,
           "0-150ms": -8.93464052287581,
           "150-450ms": -6.533333333333361,
           "photo_id": 0
          },
          {
           "-300-0ms": 6.498498498498538,
           "0-150ms": 13.64052287581699,
           "150-450ms": 4.244444444444448,
           "photo_id": 0
          },
          {
           "-300-0ms": 4.624624624624631,
           "0-150ms": 2.055555555555545,
           "150-450ms": -0.3111111111111035,
           "photo_id": 0
          },
          {
           "-300-0ms": -3.765765765765749,
           "0-150ms": 8.950980392156863,
           "150-450ms": 0.288888888888893,
           "photo_id": 0
          },
          {
           "-300-0ms": 2.1081081081081106,
           "0-150ms": -0.24183006535949092,
           "150-450ms": 2.0555555555555522,
           "photo_id": 0
          },
          {
           "-300-0ms": -9.897897897897888,
           "0-150ms": -6.947712418300662,
           "150-450ms": 0.09999999999999236,
           "photo_id": 0
          },
          {
           "-300-0ms": -2.4324324324324347,
           "0-150ms": -4.019607843137247,
           "150-450ms": 1.711111111111115,
           "photo_id": 0
          },
          {
           "-300-0ms": 1.4054054054054106,
           "0-150ms": 2.235294117647063,
           "150-450ms": 2.099999999999992,
           "photo_id": 0
          },
          {
           "-300-0ms": -0.37237237237237525,
           "0-150ms": 0.6209150326797374,
           "150-450ms": 0.5111111111111076,
           "photo_id": 0
          },
          {
           "-300-0ms": -8.204204204204197,
           "0-150ms": -4.287581699346396,
           "150-450ms": -0.16666666666667626,
           "photo_id": 0
          },
          {
           "-300-0ms": 0.23423423423423242,
           "0-150ms": 0.12745098039215538,
           "150-450ms": 2.811111111111105,
           "photo_id": 0
          },
          {
           "-300-0ms": 0.46846846846846996,
           "0-150ms": 0.4215686274509796,
           "150-450ms": 0.5222222222222223,
           "photo_id": 0
          },
          {
           "-300-0ms": -20.81081081081079,
           "0-150ms": 0.39215686274511175,
           "150-450ms": -7.833333333333333,
           "photo_id": 0
          },
          {
           "-300-0ms": 1.927927927927933,
           "0-150ms": 1.6437908496732139,
           "150-450ms": 3.366666666666669,
           "photo_id": 0
          },
          {
           "-300-0ms": 4.5285285285285175,
           "0-150ms": 0.16993464052288618,
           "150-450ms": -3.799999999999992,
           "photo_id": 0
          },
          {
           "-300-0ms": 2.1261261261261475,
           "0-150ms": 9.078431372549026,
           "150-450ms": 3.6000000000000014,
           "photo_id": 0
          },
          {
           "-300-0ms": 5.069069069069093,
           "0-150ms": 3.5196078431372655,
           "150-450ms": 9.611111111111105,
           "photo_id": 0
          },
          {
           "-300-0ms": 0.79879879879879,
           "0-150ms": 2.604575163398706,
           "150-450ms": -0.18888888888888675,
           "photo_id": 0
          },
          {
           "-300-0ms": 2.4622222222222248,
           "0-150ms": -1.4525252525252552,
           "150-450ms": 0.2814814814814808,
           "photo_id": 0
          },
          {
           "-300-0ms": 0.2755555555555591,
           "0-150ms": 0.6181818181818242,
           "150-450ms": 3.251851851851852,
           "photo_id": 0
          },
          {
           "-300-0ms": 0.5777777777777863,
           "0-150ms": 6.943434343434352,
           "150-450ms": 0.8666666666666694,
           "photo_id": 0
          },
          {
           "-300-0ms": 0.6577777777777856,
           "0-150ms": 3.0222222222222235,
           "150-450ms": 0.3111111111111113,
           "photo_id": 0
          },
          {
           "-300-0ms": -0.204444444444442,
           "0-150ms": -2.644444444444447,
           "150-450ms": 1.629629629629636,
           "photo_id": 0
          },
          {
           "-300-0ms": 1.182222222222223,
           "0-150ms": 0.177777777777777,
           "150-450ms": -0.05185185185185117,
           "photo_id": 0
          },
          {
           "-300-0ms": 3.7955555555555787,
           "0-150ms": -1.1676767676767772,
           "150-450ms": -3.0444444444444465,
           "photo_id": 0
          },
          {
           "-300-0ms": 0.12444444444444469,
           "0-150ms": -8.944346396713947e-17,
           "150-450ms": 1.0814814814814822,
           "photo_id": 0
          },
          {
           "-300-0ms": 0.14222222222222233,
           "0-150ms": -0.0181818181818183,
           "150-450ms": -0.08148148148148242,
           "photo_id": 0
          },
          {
           "-300-0ms": -0.6400000000000007,
           "0-150ms": -0.7333333333333337,
           "150-450ms": 1.4666666666666661,
           "photo_id": 0
          },
          {
           "-300-0ms": 2.035555555555558,
           "0-150ms": -0.37979797979798063,
           "150-450ms": 1.2222222222222237,
           "photo_id": 0
          },
          {
           "-300-0ms": -0.6222222222222197,
           "0-150ms": -2.254545454545462,
           "150-450ms": -4.48148148148148,
           "photo_id": 0
          },
          {
           "-300-0ms": -1.3333333333333302,
           "0-150ms": 1.6969696969696952,
           "150-450ms": 0.177777777777778,
           "photo_id": 0
          },
          {
           "-300-0ms": 0.648888888888891,
           "0-150ms": 1.4808080808080806,
           "150-450ms": 1.0518518518518498,
           "photo_id": 0
          },
          {
           "-300-0ms": 2.8266666666666738,
           "0-150ms": 4.323232323232323,
           "150-450ms": -2.5037037037037035,
           "photo_id": 0
          },
          {
           "-300-0ms": 0.6044444444444487,
           "0-150ms": 1.6343434343434344,
           "150-450ms": 1.1555555555555574,
           "photo_id": 0
          },
          {
           "-300-0ms": -0.11555555555554993,
           "0-150ms": 0.626262626262625,
           "150-450ms": -3.9481481481481553,
           "photo_id": 0
          },
          {
           "-300-0ms": 0.1422222222222184,
           "0-150ms": 1.8505050505050342,
           "150-450ms": -4.5777777777777935,
           "photo_id": 0
          },
          {
           "-300-0ms": -0.7111111111111087,
           "0-150ms": -0.4787878787878765,
           "150-450ms": 1.5703703703703733,
           "photo_id": 0
          },
          {
           "-300-0ms": -0.6133333333333183,
           "0-150ms": -3.4686868686868824,
           "150-450ms": -0.14074074074074044,
           "photo_id": 0
          },
          {
           "-300-0ms": -0.9569892473118286,
           "0-150ms": 1.136044176706828,
           "150-450ms": 0.9828767123287675,
           "photo_id": 0
          },
          {
           "-300-0ms": -0.1845878136200734,
           "0-150ms": 3.127008032128513,
           "150-450ms": 0.15525114155250969,
           "photo_id": 0
          },
          {
           "-300-0ms": 0.2517921146953422,
           "0-150ms": 15.178212851405627,
           "150-450ms": 3.8224885844748875,
           "photo_id": 0
          },
          {
           "-300-0ms": 0.23655913978494492,
           "0-150ms": -0.08132530120481957,
           "150-450ms": 0.16780821917808109,
           "photo_id": 0
          },
          {
           "-300-0ms": 0.19265232974910362,
           "0-150ms": -1.1305220883534137,
           "150-450ms": 0.2985159817351593,
           "photo_id": 0
          },
          {
           "-300-0ms": 0.9390681003584215,
           "0-150ms": -1.1490963855421665,
           "150-450ms": -0.06906392694063848,
           "photo_id": 0
          },
          {
           "-300-0ms": 0.2320788530465959,
           "0-150ms": 12.644578313253014,
           "150-450ms": 3.5861872146118725,
           "photo_id": 0
          },
          {
           "-300-0ms": 1.3198924731182753,
           "0-150ms": 4.906626506024099,
           "150-450ms": -3.2762557077625583,
           "photo_id": 0
          },
          {
           "-300-0ms": -2.322580645161296,
           "0-150ms": 3.5321285140562266,
           "150-450ms": 3.4355022831050257,
           "photo_id": 0
          },
          {
           "-300-0ms": -0.5313620071684608,
           "0-150ms": 4.830321285140561,
           "150-450ms": 0.27168949771689593,
           "photo_id": 0
          }
         ]
        },
        "encoding": {
         "color": {
          "field": "photo_id",
          "type": "nominal"
         },
         "x": {
          "field": {
           "repeat": "column"
          },
          "type": "quantitative"
         },
         "y": {
          "field": {
           "repeat": "row"
          },
          "type": "quantitative"
         }
        },
        "height": 250,
        "mark": "point",
        "selection": {
         "selector032": {
          "bind": "scales",
          "encodings": [
           "x",
           "y"
          ],
          "mark": {
           "fill": "#333",
           "fillOpacity": 0.125,
           "stroke": "white"
          },
          "on": "[mousedown, window:mouseup] > window:mousemove!",
          "resolve": "global",
          "translate": "[mousedown, window:mouseup] > window:mousemove!",
          "type": "interval",
          "zoom": "wheel!"
         }
        },
        "width": 250
       }
      },
      "text/plain": [
       "<VegaLite 2 object>"
      ]
     },
     "execution_count": 63,
     "metadata": {},
     "output_type": "execute_result"
    }
   ],
   "source": [
    "import altair as alt\n",
    "grid_chart = alt.Chart(data).mark_point().encode(\n",
    "    alt.X(alt.repeat(\"column\"), type='quantitative'),\n",
    "    alt.Y(alt.repeat(\"row\"), type='quantitative'),\n",
    "    color = 'photo_id:N'\n",
    ").properties(\n",
    "    width = 250,\n",
    "    height = 250,\n",
    ").repeat(\n",
    "    row=['-300-0ms', '0-150ms', '150-450ms'],\n",
    "    column=['150-450ms', '0-150ms', '-300-0ms']).interactive(\n",
    ")\n",
    "\n",
    "grid_chart.savechart('gridchart.html')\n",
    "grid_chart"
   ]
  },
  {
   "cell_type": "code",
   "execution_count": 62,
   "metadata": {},
   "outputs": [
    {
     "data": {
      "application/vnd.vegalite.v2+json": {
       "$schema": "https://vega.github.io/schema/vega-lite/v2.json",
       "config": {
        "view": {
         "height": 300,
         "width": 400
        }
       },
       "data": {
        "values": [
         {
          "-300-0ms": 0.5017543859649104,
          "0-150ms": 1.5142857142857136,
          "150-450ms": -0.3532338308457709,
          "photo_id": 0
         },
         {
          "-300-0ms": -3.3543859649122787,
          "0-150ms": -2.0269841269841264,
          "150-450ms": -0.133830845771145,
          "photo_id": 0
         },
         {
          "-300-0ms": -2.350877192982454,
          "0-150ms": -4.76349206349206,
          "150-450ms": -2.1402985074626826,
          "photo_id": 0
         },
         {
          "-300-0ms": 2.5719298245614026,
          "0-150ms": -0.7079365079365095,
          "150-450ms": 0.9850746268656723,
          "photo_id": 0
         },
         {
          "-300-0ms": -0.35789473684210193,
          "0-150ms": 1.2571428571428627,
          "150-450ms": 1.1039800995024873,
          "photo_id": 0
         },
         {
          "-300-0ms": -1.1438596491228064,
          "0-150ms": 1.2126984126984115,
          "150-450ms": -0.7303482587064646,
          "photo_id": 0
         },
         {
          "-300-0ms": -0.8666666666666676,
          "0-150ms": -0.6587301587301567,
          "150-450ms": -1.604477611940297,
          "photo_id": 0
         },
         {
          "-300-0ms": -0.3894736842105271,
          "0-150ms": 1.4936507936507966,
          "150-450ms": -1.6149253731343265,
          "photo_id": 0
         },
         {
          "-300-0ms": -1.9964912280701712,
          "0-150ms": -1.4206349206349111,
          "150-450ms": -2.9557213930348234,
          "photo_id": 0
         },
         {
          "-300-0ms": 0.2526315789473685,
          "0-150ms": 0.512698412698413,
          "150-450ms": -0.05323383084577064,
          "photo_id": 0
         },
         {
          "-300-0ms": 1.228070175438596,
          "0-150ms": 6.204761904761903,
          "150-450ms": 0.07213930348258742,
          "photo_id": 0
         },
         {
          "-300-0ms": -0.9157894736842094,
          "0-150ms": -1.4825396825396815,
          "150-450ms": 1.016417910447763,
          "photo_id": 0
         },
         {
          "-300-0ms": 0.13333333333333364,
          "0-150ms": 0.3714285714285714,
          "150-450ms": 0.5268656716417913,
          "photo_id": 0
         },
         {
          "-300-0ms": -3.8877192982456132,
          "0-150ms": -2.6920634920634896,
          "150-450ms": -2.8522388059701473,
          "photo_id": 0
         },
         {
          "-300-0ms": 1.6701754385964884,
          "0-150ms": 9.722222222222229,
          "150-450ms": -2.2771144278606927,
          "photo_id": 0
         },
         {
          "-300-0ms": -3.7789473684210524,
          "0-150ms": -3.3619047619047557,
          "150-450ms": -0.6014925373134331,
          "photo_id": 0
         },
         {
          "-300-0ms": -1.5473684210526342,
          "0-150ms": -1.5365079365079344,
          "150-450ms": -3.800000000000001,
          "photo_id": 0
         },
         {
          "-300-0ms": -0.8982456140350861,
          "0-150ms": 4.36666666666667,
          "150-450ms": 1.1089552238805973,
          "photo_id": 0
         },
         {
          "-300-0ms": -0.2736842105263145,
          "0-150ms": 0.5777777777777773,
          "150-450ms": 0.2592039800995027,
          "photo_id": 0
         },
         {
          "-300-0ms": -0.30175438596491394,
          "0-150ms": -3.7603174603174576,
          "150-450ms": -3.2537313432835795,
          "photo_id": 0
         },
         {
          "-300-0ms": 1.4807017543859649,
          "0-150ms": 1.1460317460317473,
          "150-450ms": 0.27263681592039796,
          "photo_id": 0
         },
         {
          "-300-0ms": -7.515789473684222,
          "0-150ms": 9.560317460317473,
          "150-450ms": -11.329850746268656,
          "photo_id": 0
         },
         {
          "-300-0ms": -1.4526315789473736,
          "0-150ms": 5.614285714285724,
          "150-450ms": -3.502487562189058,
          "photo_id": 0
         },
         {
          "-300-0ms": -0.5578947368421056,
          "0-150ms": -0.33015873015872854,
          "150-450ms": -0.7303482587064662,
          "photo_id": 0
         },
         {
          "-300-0ms": -0.6982456140350871,
          "0-150ms": -0.08571428571428515,
          "150-450ms": 0.5308457711442794,
          "photo_id": 1
         },
         {
          "-300-0ms": 4.333333333333347,
          "0-150ms": -2.80303030303031,
          "150-450ms": 1.7844827586206957,
          "photo_id": 0
         },
         {
          "-300-0ms": -0.5333333333333452,
          "0-150ms": -10.03030303030304,
          "150-450ms": -3.477011494252874,
          "photo_id": 0
         },
         {
          "-300-0ms": 3.4666666666666757,
          "0-150ms": -1.8469696969697011,
          "150-450ms": 1.3821839080459828,
          "photo_id": 0
         },
         {
          "-300-0ms": 2.5333333333333363,
          "0-150ms": 17.76969696969697,
          "150-450ms": -1.6982758620689626,
          "photo_id": 0
         },
         {
          "-300-0ms": 2.220446049250313e-16,
          "0-150ms": 3.025757575757581,
          "150-450ms": 0.9137931034482739,
          "photo_id": 0
         },
         {
          "-300-0ms": 1.4666666666666932,
          "0-150ms": 4.031818181818197,
          "150-450ms": -0.847701149425267,
          "photo_id": 0
         },
         {
          "-300-0ms": -0.4666666666666552,
          "0-150ms": 5.684848484848488,
          "150-450ms": -0.7614942528735614,
          "photo_id": 0
         },
         {
          "-300-0ms": -0.2333333333333353,
          "0-150ms": 1.3924242424242388,
          "150-450ms": -0.24712643678160728,
          "photo_id": 0
         },
         {
          "-300-0ms": 0.40000000000000074,
          "0-150ms": -1.8666666666666687,
          "150-450ms": 2.4109195402298997,
          "photo_id": 0
         },
         {
          "-300-0ms": 0.6333333333333543,
          "0-150ms": 9.403030303030294,
          "150-450ms": -2.2614942528735535,
          "photo_id": 0
         },
         {
          "-300-0ms": 1.2333333333333285,
          "0-150ms": 0.8303030303030274,
          "150-450ms": -1.4062824978585316e-15,
          "photo_id": 0
         },
         {
          "-300-0ms": -1.966666666666617,
          "0-150ms": 25.957575757575793,
          "150-450ms": -0.12068965517239942,
          "photo_id": 0
         },
         {
          "-300-0ms": 3.3999999999999946,
          "0-150ms": -0.08030303030302777,
          "150-450ms": 1.9683908045977008,
          "photo_id": 0
         },
         {
          "-300-0ms": -1.7999999999999952,
          "0-150ms": -5.536363636363629,
          "150-450ms": 1.2356321839080517,
          "photo_id": 0
         },
         {
          "-300-0ms": -2.93333333333333,
          "0-150ms": 0.5484848484848456,
          "150-450ms": 0.18678160919540146,
          "photo_id": 0
         },
         {
          "-300-0ms": 0.4666666666666774,
          "0-150ms": 29.790909090909107,
          "150-450ms": 0.045977011494255544,
          "photo_id": 0
         },
         {
          "-300-0ms": -2.0333333333333337,
          "0-150ms": -3.2454545454545447,
          "150-450ms": -0.16954022988505982,
          "photo_id": 0
         },
         {
          "-300-0ms": 1.199999999999997,
          "0-150ms": 5.628787878787876,
          "150-450ms": 1.2528735632183905,
          "photo_id": 0
         },
         {
          "-300-0ms": 0.3000000000000009,
          "0-150ms": -3.678787878787873,
          "150-450ms": 3.977011494252872,
          "photo_id": 0
         },
         {
          "-300-0ms": 1.866666666666678,
          "0-150ms": 2.9621212121212097,
          "150-450ms": 2.2499999999999925,
          "photo_id": 0
         },
         {
          "-300-0ms": -4.133333333333329,
          "0-150ms": 1.707575757575743,
          "150-450ms": -3.7672413793103625,
          "photo_id": 1
         },
         {
          "-300-0ms": 0.2000000000000084,
          "0-150ms": -2.1772727272727335,
          "150-450ms": 2.028735632183901,
          "photo_id": 1
         },
         {
          "-300-0ms": 0.4333333333333355,
          "0-150ms": 0.4575757575757591,
          "150-450ms": -0.6178160919540221,
          "photo_id": 0
         },
         {
          "-300-0ms": -0.8476190476190529,
          "0-150ms": -3.7406060606060625,
          "150-450ms": 0.7774999999999985,
          "photo_id": 0
         },
         {
          "-300-0ms": 1.1238095238095198,
          "0-150ms": -4.630303030303033,
          "150-450ms": 3.080833333333335,
          "photo_id": 0
         },
         {
          "-300-0ms": 0.324761904761905,
          "0-150ms": -0.1454545454545448,
          "150-450ms": -0.6008333333333334,
          "photo_id": 0
         },
         {
          "-300-0ms": 1.3542857142857105,
          "0-150ms": -1.0303030303030323,
          "150-450ms": 0.01833333333333077,
          "photo_id": 0
         },
         {
          "-300-0ms": 0.02476190476190446,
          "0-150ms": -0.12121212121212115,
          "150-450ms": -0.17666666666666697,
          "photo_id": 0
         },
         {
          "-300-0ms": 1.2333333333333334,
          "0-150ms": -0.48000000000000037,
          "150-450ms": 1.1866666666666659,
          "photo_id": 0
         },
         {
          "-300-0ms": -0.30952380952381064,
          "0-150ms": 1.2921212121212113,
          "150-450ms": -1.0941666666666667,
          "photo_id": 0
         },
         {
          "-300-0ms": 0.09523809523809525,
          "0-150ms": 0.06060606060606086,
          "150-450ms": -3.67357013237761e-17,
          "photo_id": 0
         },
         {
          "-300-0ms": 1.7295238095237957,
          "0-150ms": -9.57575757575758,
          "150-450ms": 1.3058333333333267,
          "photo_id": 0
         },
         {
          "-300-0ms": -0.5228571428571409,
          "0-150ms": 8.867878787878785,
          "150-450ms": 0.3458333333333344,
          "photo_id": 0
         },
         {
          "-300-0ms": -0.8209523809523872,
          "0-150ms": 10.324848484848482,
          "150-450ms": -1.457499999999998,
          "photo_id": 0
         },
         {
          "-300-0ms": -2.796190476190482,
          "0-150ms": -1.6800000000000017,
          "150-450ms": -1.6775000000000009,
          "photo_id": 0
         },
         {
          "-300-0ms": -0.21809523809523979,
          "0-150ms": 3.9587878787878776,
          "150-450ms": 0.26500000000000085,
          "photo_id": 0
         },
         {
          "-300-0ms": -0.483809523809527,
          "0-150ms": -0.6254545454545455,
          "150-450ms": 1.5050000000000001,
          "photo_id": 0
         },
         {
          "-300-0ms": 0.2571428571428572,
          "0-150ms": 0.9139393939393927,
          "150-450ms": 0.724166666666669,
          "photo_id": 0
         },
         {
          "-300-0ms": -0.32285714285714406,
          "0-150ms": 1.284848484848484,
          "150-450ms": -0.2958333333333338,
          "photo_id": 0
         },
         {
          "-300-0ms": 1.6790476190476138,
          "0-150ms": -2.9381818181818207,
          "150-450ms": 1.0241666666666667,
          "photo_id": 0
         },
         {
          "-300-0ms": -1.9504761904762036,
          "0-150ms": -1.4836363636363659,
          "150-450ms": -3.970833333333338,
          "photo_id": 0
         },
         {
          "-300-0ms": -3.351428571428581,
          "0-150ms": -0.11878787878788284,
          "150-450ms": -1.6166666666666654,
          "photo_id": 0
         },
         {
          "-300-0ms": 0.41238095238094913,
          "0-150ms": -0.24242424242424312,
          "150-450ms": 0.5416666666666637,
          "photo_id": 0
         },
         {
          "-300-0ms": -0.7066666666666722,
          "0-150ms": 0.5163636363636335,
          "150-450ms": -0.3466666666666674,
          "photo_id": 0
         },
         {
          "-300-0ms": -0.4228571428571433,
          "0-150ms": 2.179393939393938,
          "150-450ms": -0.17249999999999985,
          "photo_id": 0
         },
         {
          "-300-0ms": 0.5657142857142851,
          "0-150ms": -0.016969696969698262,
          "150-450ms": 0.195833333333334,
          "photo_id": 0
         },
         {
          "-300-0ms": -0.5476190476190582,
          "0-150ms": 5.595151515151509,
          "150-450ms": 2.2766666666666695,
          "photo_id": 0
         },
         {
          "-300-0ms": -1.4276190476190698,
          "0-150ms": 16.47030303030302,
          "150-450ms": -2.97666666666667,
          "photo_id": 0
         },
         {
          "-300-0ms": 0.4808743169398902,
          "0-150ms": -0.5480225988700566,
          "150-450ms": -0.3833333333333331,
          "photo_id": 0
         },
         {
          "-300-0ms": 0.8655737704918062,
          "0-150ms": 1.5457627118644088,
          "150-450ms": -0.18333333333333401,
          "photo_id": 0
         },
         {
          "-300-0ms": -2.5333333333333274,
          "0-150ms": 1.0022598870056552,
          "150-450ms": -2.666666666666665,
          "photo_id": 0
         },
         {
          "-300-0ms": 3.604371584699454,
          "0-150ms": -0.5774011299435017,
          "150-450ms": -1.466666666666668,
          "photo_id": 0
         },
         {
          "-300-0ms": 3.499453551912571,
          "0-150ms": 9.868926553672333,
          "150-450ms": 2.8166666666666647,
          "photo_id": 0
         },
         {
          "-300-0ms": 4.553005464480887,
          "0-150ms": -3.887005649717496,
          "150-450ms": -1.849999999999997,
          "photo_id": 0
         },
         {
          "-300-0ms": 0.24043715846994262,
          "0-150ms": -0.40677966101695295,
          "150-450ms": 1.8166666666666673,
          "photo_id": 0
         },
         {
          "-300-0ms": -0.6316939890710357,
          "0-150ms": 1.6045197740113026,
          "150-450ms": -1.2999999999999998,
          "photo_id": 0
         },
         {
          "-300-0ms": -8.052459016393408,
          "0-150ms": 20.35819209039551,
          "150-450ms": -7.066666666666666,
          "photo_id": 0
         },
         {
          "-300-0ms": 2.7715846994535673,
          "0-150ms": 4.630508474576285,
          "150-450ms": 0.21666666666666648,
          "photo_id": 1
         },
         {
          "-300-0ms": -1.7857923497267691,
          "0-150ms": 1.594350282485882,
          "150-450ms": 1.0000000000000009,
          "photo_id": 0
         },
         {
          "-300-0ms": 4.015300546448102,
          "0-150ms": 2.6858757062146945,
          "150-450ms": -2.966666666666667,
          "photo_id": 0
         },
         {
          "-300-0ms": -1.683060109289607,
          "0-150ms": 11.099435028248598,
          "150-450ms": -0.5333333333333398,
          "photo_id": 0
         },
         {
          "-300-0ms": -6.594535519125672,
          "0-150ms": 2.1954802259887054,
          "150-450ms": -4.300000000000001,
          "photo_id": 0
         },
         {
          "-300-0ms": 0.05901639344262292,
          "0-150ms": 1.0090395480226,
          "150-450ms": -0.5999999999999993,
          "photo_id": 0
         },
         {
          "-300-0ms": -0.2448087431693943,
          "0-150ms": -3.015819209039545,
          "150-450ms": -0.43333333333333307,
          "photo_id": 0
         },
         {
          "-300-0ms": -1.363934426229507,
          "0-150ms": 1.2847457627118657,
          "150-450ms": -0.33333333333333254,
          "photo_id": 0
         },
         {
          "-300-0ms": -0.3387978142076485,
          "0-150ms": -1.1841807909604511,
          "150-450ms": -1.7999999999999996,
          "photo_id": 0
         },
         {
          "-300-0ms": 2.3016393442622944,
          "0-150ms": -1.6463276836158194,
          "150-450ms": 0.35000000000000114,
          "photo_id": 0
         },
         {
          "-300-0ms": -5.064480874316936,
          "0-150ms": -3.6994350282485855,
          "150-450ms": -0.33333333333333415,
          "photo_id": 0
         },
         {
          "-300-0ms": -0.19016393442622567,
          "0-150ms": -3.7751412429378486,
          "150-450ms": -2.133333333333331,
          "photo_id": 0
         },
         {
          "-300-0ms": 1.4382513661202216,
          "0-150ms": 2.472316384180793,
          "150-450ms": -0.38333333333333486,
          "photo_id": 0
         },
         {
          "-300-0ms": 0.5857923497267755,
          "0-150ms": 3.501694915254243,
          "150-450ms": -1.4333333333333347,
          "photo_id": 0
         },
         {
          "-300-0ms": -1.2612021857923439,
          "0-150ms": -0.7016949152542383,
          "150-450ms": 3.950000000000003,
          "photo_id": 0
         },
         {
          "-300-0ms": 2.2775956284153005,
          "0-150ms": -1.7389830508474577,
          "150-450ms": 0.06666666666666775,
          "photo_id": 0
         },
         {
          "-300-0ms": -0.07868852459015836,
          "0-150ms": -5.109604519774008,
          "150-450ms": -1.3999999999999992,
          "photo_id": 0
         },
         {
          "-300-0ms": -8.124590163934402,
          "0-150ms": -2.4926553672316243,
          "150-450ms": -7.216666666666665,
          "photo_id": 1
         },
         {
          "-300-0ms": -0.6039886039886045,
          "0-150ms": 0.10256410256410319,
          "150-450ms": -0.4986737400530499,
          "photo_id": 0
         },
         {
          "-300-0ms": -0.44281644281644356,
          "0-150ms": 1.2379487179487163,
          "150-450ms": -0.48717948717948784,
          "photo_id": 0
         },
         {
          "-300-0ms": -1.98860398860399,
          "0-150ms": 3.1056410256410225,
          "150-450ms": -2.2997347480106107,
          "photo_id": 0
         },
         {
          "-300-0ms": 0.5860805860805857,
          "0-150ms": -0.5353846153846151,
          "150-450ms": 0.5022104332449172,
          "photo_id": 0
         },
         {
          "-300-0ms": 0.1969881969881956,
          "0-150ms": 7.165128205128198,
          "150-450ms": -0.24314765694076182,
          "photo_id": 0
         },
         {
          "-300-0ms": 5.994301994301995,
          "0-150ms": -1.8225641025640995,
          "150-450ms": -0.14765694076038852,
          "photo_id": 0
         },
         {
          "-300-0ms": -1.1143671143671166,
          "0-150ms": 0.23076923076923103,
          "150-450ms": -0.532272325375772,
          "photo_id": 0
         },
         {
          "-300-0ms": 3.080993080993078,
          "0-150ms": 8.8451282051282,
          "150-450ms": 5.521662245800186,
          "photo_id": 0
         },
         {
          "-300-0ms": -7.479039479039481,
          "0-150ms": 2.288205128205123,
          "150-450ms": -2.5190097259062796,
          "photo_id": 0
         },
         {
          "-300-0ms": -8.070818070818078,
          "0-150ms": 3.7866666666666493,
          "150-450ms": -7.519009725906283,
          "photo_id": 0
         },
         {
          "-300-0ms": 1.3691493691493681,
          "0-150ms": -2.175384615384614,
          "150-450ms": -0.27674624226348365,
          "photo_id": 0
         },
         {
          "-300-0ms": -0.1400081400081402,
          "0-150ms": -1.541538461538462,
          "150-450ms": -1.2590627763041558,
          "photo_id": 0
         },
         {
          "-300-0ms": 0.14000814000813702,
          "0-150ms": -7.698461538461536,
          "150-450ms": 0.42793987621573787,
          "photo_id": 1
         },
         {
          "-300-0ms": -3.8095238095238106,
          "0-150ms": -0.6553846153846163,
          "150-450ms": -2.286472148541116,
          "photo_id": 0
         },
         {
          "-300-0ms": -4.091168091168093,
          "0-150ms": -2.640000000000002,
          "150-450ms": -3.48187444739169,
          "photo_id": 0
         },
         {
          "-300-0ms": -0.14000814000814046,
          "0-150ms": -0.31076923076923074,
          "150-450ms": -0.07869142351900867,
          "photo_id": 0
         },
         {
          "-300-0ms": -1.3813593813593812,
          "0-150ms": -2.5558974358974362,
          "150-450ms": -1.1706454465075156,
          "photo_id": 0
         },
         {
          "-300-0ms": 0.43361860873381125,
          "0-150ms": 3.3954599761051347,
          "150-450ms": 0.2804417320546303,
          "photo_id": 0
         },
         {
          "-300-0ms": -3.3364055299539266,
          "0-150ms": -6.512544802867384,
          "150-450ms": -1.790177274048253,
          "photo_id": 0
         },
         {
          "-300-0ms": -0.6662277814351558,
          "0-150ms": -0.07048984468339425,
          "150-450ms": 0.7070619006102864,
          "photo_id": 0
         },
         {
          "-300-0ms": -0.4441518542901047,
          "0-150ms": 4.247311827956987,
          "150-450ms": 0.2560302237721581,
          "photo_id": 0
         },
         {
          "-300-0ms": 0.2571867456660077,
          "0-150ms": 0.13022700119474276,
          "150-450ms": 0.061900610287706846,
          "photo_id": 0
         },
         {
          "-300-0ms": -0.7864823348694365,
          "0-150ms": -1.8876941457586653,
          "150-450ms": 0.6428363847718631,
          "photo_id": 0
         },
         {
          "-300-0ms": -0.6899275839368043,
          "0-150ms": 1.9964157706093186,
          "150-450ms": 3.0293519325777374,
          "photo_id": 0
         },
         {
          "-300-0ms": -1.101601931095019,
          "0-150ms": 0.9605734767025084,
          "150-450ms": -0.1705899447834933,
          "photo_id": 0
         },
         {
          "-300-0ms": -1.754663155584818,
          "0-150ms": -2.189964157706092,
          "150-450ms": -0.33769253124091964,
          "photo_id": 0
         },
         {
          "-300-0ms": 0.8944481018213647,
          "0-150ms": 9.089605734767007,
          "150-450ms": -4.11711711711713,
          "photo_id": 1
         },
         {
          "-300-0ms": -1.5536537195523399,
          "0-150ms": 2.335722819593786,
          "150-450ms": 1.4027898866608515,
          "photo_id": 0
         },
         {
          "-300-0ms": -1.3447443493526459,
          "0-150ms": 8.068100358422937,
          "150-450ms": 0.8538215634989816,
          "photo_id": 0
         },
         {
          "-300-0ms": -0.04301075268817304,
          "0-150ms": 0.9653524492234152,
          "150-450ms": 0.6666666666666656,
          "photo_id": 0
         },
         {
          "-300-0ms": -2.063638358569236,
          "0-150ms": 0.25209080047789395,
          "150-450ms": 0.7634408602150516,
          "photo_id": 0
         },
         {
          "-300-0ms": 0.09216589861751179,
          "0-150ms": 0.06929510155316428,
          "150-450ms": -0.6480674222609714,
          "photo_id": 0
         },
         {
          "-300-0ms": -2.5973228000877806,
          "0-150ms": 3.1170848267622433,
          "150-450ms": 0.7602441150828216,
          "photo_id": 0
         },
         {
          "-300-0ms": -0.08953258722843994,
          "0-150ms": -0.21146953405017999,
          "150-450ms": -0.24295263004940484,
          "photo_id": 0
         },
         {
          "-300-0ms": -0.3230195303928051,
          "0-150ms": 8.126642771804061,
          "150-450ms": 1.4245858761987769,
          "photo_id": 0
         },
         {
          "-300-0ms": 0.42308536317752904,
          "0-150ms": 2.1123058542413378,
          "150-450ms": 0.13077593722754977,
          "photo_id": 0
         },
         {
          "-300-0ms": -3.0634189159534917,
          "0-150ms": -1.8255675029868639,
          "150-450ms": 0.8782330717814514,
          "photo_id": 1
         },
         {
          "-300-0ms": -0.6767610269914431,
          "0-150ms": -1.7562724014336908,
          "150-450ms": -0.45480964835803467,
          "photo_id": 0
         },
         {
          "-300-0ms": 0.7048496818082062,
          "0-150ms": 3.863799283154121,
          "150-450ms": 0.4789305434466718,
          "photo_id": 0
         },
         {
          "-300-0ms": 2.8141321044546768,
          "0-150ms": 7.187574671445627,
          "150-450ms": 2.8692240627724375,
          "photo_id": 1
         },
         {
          "-300-0ms": -0.5336844415185439,
          "0-150ms": -0.2688172043010753,
          "150-450ms": -0.3583260680034874,
          "photo_id": 0
         },
         {
          "-300-0ms": -0.7768268597761718,
          "0-150ms": 4.199522102747908,
          "150-450ms": 0.26474861958732643,
          "photo_id": 0
         },
         {
          "-300-0ms": -1.0603467193328955,
          "0-150ms": 1.4910394265232971,
          "150-450ms": 0.36355710549258863,
          "photo_id": 0
         },
         {
          "-300-0ms": 0.11748251748251849,
          "0-150ms": 0.3649831649831659,
          "150-450ms": 0.15034965034965028,
          "photo_id": 0
         },
         {
          "-300-0ms": 2.5249417249417316,
          "0-150ms": 24.468686868686888,
          "150-450ms": -1.1107226107226074,
          "photo_id": 0
         },
         {
          "-300-0ms": 0.6881118881118846,
          "0-150ms": 2.099663299663305,
          "150-450ms": 1.7420357420357462,
          "photo_id": 0
         },
         {
          "-300-0ms": -0.4531468531468475,
          "0-150ms": 12.802693602693617,
          "150-450ms": -2.700077700077699,
          "photo_id": 0
         },
         {
          "-300-0ms": -0.24677544677544747,
          "0-150ms": -2.1723905723905674,
          "150-450ms": -1.2016317016316993,
          "photo_id": 0
         },
         {
          "-300-0ms": 0.2318570318570304,
          "0-150ms": 0.9373737373737386,
          "150-450ms": -0.030303030303029787,
          "photo_id": 0
         },
         {
          "-300-0ms": -4.432012432012434,
          "0-150ms": 0.2505050505050704,
          "150-450ms": -4.557886557886549,
          "photo_id": 0
         },
         {
          "-300-0ms": 2.600155400155407,
          "0-150ms": 5.633670033670055,
          "150-450ms": -1.939393939393938,
          "photo_id": 0
         },
         {
          "-300-0ms": -0.13240093240093276,
          "0-150ms": 0.4969696969696992,
          "150-450ms": -0.7789432789432755,
          "photo_id": 0
         },
         {
          "-300-0ms": 0.08578088578088498,
          "0-150ms": -0.01616161616161604,
          "150-450ms": 1.1017871017871024,
          "photo_id": 0
         },
         {
          "-300-0ms": -1.9300699300699276,
          "0-150ms": 6.490235690235703,
          "150-450ms": -5.9848484848484835,
          "photo_id": 1
         },
         {
          "-300-0ms": 0.8714840714840745,
          "0-150ms": 1.7831649831649898,
          "150-450ms": -1.074980574980572,
          "photo_id": 0
         },
         {
          "-300-0ms": -1.0697746697746668,
          "0-150ms": -0.30437710437709936,
          "150-450ms": -2.4809634809634793,
          "photo_id": 1
         },
         {
          "-300-0ms": -2.1619269619269583,
          "0-150ms": 2.795959595959602,
          "150-450ms": -2.944055944055943,
          "photo_id": 0
         },
         {
          "-300-0ms": -0.41274281274280983,
          "0-150ms": 0.5265993265993334,
          "150-450ms": -3.217948717948714,
          "photo_id": 0
         },
         {
          "-300-0ms": -0.27785547785547804,
          "0-150ms": 0.04848484848485025,
          "150-450ms": -1.389665889665889,
          "photo_id": 0
         },
         {
          "-300-0ms": -0.4413364413364387,
          "0-150ms": 5.358922558922565,
          "150-450ms": -0.30885780885780856,
          "photo_id": 0
         },
         {
          "-300-0ms": 0.6191142191142208,
          "0-150ms": -1.9582491582491557,
          "150-450ms": -0.3088578088578075,
          "photo_id": 0
         },
         {
          "-300-0ms": -0.04473304473304642,
          "0-150ms": -1.12424740010947,
          "150-450ms": -0.1619047619047615,
          "photo_id": 0
         },
         {
          "-300-0ms": 0.1832611832611831,
          "0-150ms": 1.8981937602627286,
          "150-450ms": 0.10793650793651051,
          "photo_id": 0
         },
         {
          "-300-0ms": -1.7373737373737408,
          "0-150ms": 4.484948002189387,
          "150-450ms": -0.6000000000000001,
          "photo_id": 0
         },
         {
          "-300-0ms": 6.12698412698411,
          "0-150ms": 21.980295566502488,
          "150-450ms": -0.8507936507936446,
          "photo_id": 0
         },
         {
          "-300-0ms": 0.6435786435786437,
          "0-150ms": -0.0733442802408351,
          "150-450ms": -0.19047619047618972,
          "photo_id": 0
         },
         {
          "-300-0ms": 1.7835497835497813,
          "0-150ms": 2.6316365626710456,
          "150-450ms": -2.4444444444444398,
          "photo_id": 0
         },
         {
          "-300-0ms": 0.46897546897547016,
          "0-150ms": -0.19923371647509938,
          "150-450ms": -0.04761904761904776,
          "photo_id": 0
         },
         {
          "-300-0ms": 1.854711255978399e-17,
          "0-150ms": 0.1839080459770117,
          "150-450ms": -5.047904536327335e-16,
          "photo_id": 0
         },
         {
          "-300-0ms": -0.34920634920635035,
          "0-150ms": -0.20361247947455116,
          "150-450ms": -0.39047619047619153,
          "photo_id": 0
         },
         {
          "-300-0ms": -0.037518037518037846,
          "0-150ms": 1.2063492063492074,
          "150-450ms": -0.18095238095237964,
          "photo_id": 0
         },
         {
          "-300-0ms": 3.203463203463199,
          "0-150ms": 8.178434592227694,
          "150-450ms": 0.904761904761906,
          "photo_id": 1
         },
         {
          "-300-0ms": -0.7907647907647911,
          "0-150ms": -0.21674876847290603,
          "150-450ms": 0.5142857142857147,
          "photo_id": 0
         },
         {
          "-300-0ms": 0.18759018759018628,
          "0-150ms": 1.899288451012585,
          "150-450ms": 1.238095238095237,
          "photo_id": 0
         },
         {
          "-300-0ms": 2.4473304473304456,
          "0-150ms": 1.7963875205254503,
          "150-450ms": 0.8285714285714282,
          "photo_id": 0
         },
         {
          "-300-0ms": 3.7821067821067786,
          "0-150ms": -1.494252873563217,
          "150-450ms": 1.7396825396825422,
          "photo_id": 0
         },
         {
          "-300-0ms": -2.6493506493506627,
          "0-150ms": 14.688560481663956,
          "150-450ms": -3.6952380952380994,
          "photo_id": 0
         },
         {
          "-300-0ms": 1.3852813852813812,
          "0-150ms": -0.6458675424192739,
          "150-450ms": -0.01587301587301999,
          "photo_id": 0
         },
         {
          "-300-0ms": 1.0346320346320328,
          "0-150ms": -1.2501368363437326,
          "150-450ms": 1.2666666666666664,
          "photo_id": 0
         },
         {
          "-300-0ms": 1.227994227994228,
          "0-150ms": 0.16201423097974843,
          "150-450ms": 1.596825396825398,
          "photo_id": 0
         },
         {
          "-300-0ms": 0.886002886002891,
          "0-150ms": 0.3929939792008781,
          "150-450ms": 0.15238095238095373,
          "photo_id": 0
         },
         {
          "-300-0ms": 0.46608946608946544,
          "0-150ms": 0.005473453749315775,
          "150-450ms": -0.38095238095238243,
          "photo_id": 0
         },
         {
          "-300-0ms": -2.227272727272727,
          "0-150ms": -6.4444444444444295,
          "150-450ms": -3.017241379310344,
          "photo_id": 0
         },
         {
          "-300-0ms": 0.43939393939394034,
          "0-150ms": -0.49444444444444136,
          "150-450ms": 0.9942528735632181,
          "photo_id": 0
         },
         {
          "-300-0ms": 1.3787878787878824,
          "0-150ms": 2.072222222222217,
          "150-450ms": 4.6178160919540225,
          "photo_id": 0
         },
         {
          "-300-0ms": 4.000000000000003,
          "0-150ms": 8.144444444444437,
          "150-450ms": 2.3735632183908084,
          "photo_id": 0
         },
         {
          "-300-0ms": -4.030303030303021,
          "0-150ms": -7.733333333333312,
          "150-450ms": 5.49425287356322,
          "photo_id": 0
         },
         {
          "-300-0ms": -0.36363636363636126,
          "0-150ms": -1.2555555555555533,
          "150-450ms": -0.8908045977011505,
          "photo_id": 0
         },
         {
          "-300-0ms": -0.8333333333333351,
          "0-150ms": -0.8722222222222191,
          "150-450ms": 0.25574712643678177,
          "photo_id": 0
         },
         {
          "-300-0ms": 3.787878787878794,
          "0-150ms": -4.344444444444432,
          "150-450ms": 0.31896551724137967,
          "photo_id": 0
         },
         {
          "-300-0ms": 1.6515151515151547,
          "0-150ms": 0.4333333333333331,
          "150-450ms": 0.3362068965517229,
          "photo_id": 0
         },
         {
          "-300-0ms": 0.24242424242424299,
          "0-150ms": 1.3111111111111098,
          "150-450ms": -1.974137931034481,
          "photo_id": 0
         },
         {
          "-300-0ms": 1.2727272727272732,
          "0-150ms": 0.23888888888888826,
          "150-450ms": 0.4252873563218393,
          "photo_id": 0
         },
         {
          "-300-0ms": 3.2424242424242435,
          "0-150ms": 7.461111111111102,
          "150-450ms": 0.48850574712643596,
          "photo_id": 0
         },
         {
          "-300-0ms": -3.1060606060605784,
          "0-150ms": 12.516666666666675,
          "150-450ms": -5.738505747126428,
          "photo_id": 0
         },
         {
          "-300-0ms": 1.2878787878787914,
          "0-150ms": 5.311111111111111,
          "150-450ms": -2.3735632183908044,
          "photo_id": 0
         },
         {
          "-300-0ms": 0.9848484848484826,
          "0-150ms": 3.2888888888888883,
          "150-450ms": -0.5545977011494253,
          "photo_id": 0
         },
         {
          "-300-0ms": -2.3030303030302925,
          "0-150ms": 12.838888888888876,
          "150-450ms": 0.8304597701149398,
          "photo_id": 1
         },
         {
          "-300-0ms": 4.1515151515151585,
          "0-150ms": -2.3499999999999965,
          "150-450ms": -1.3132183908045947,
          "photo_id": 0
         },
         {
          "-300-0ms": 2.5606060606060628,
          "0-150ms": 10.788888888888877,
          "150-450ms": 0.03735632183908274,
          "photo_id": 0
         },
         {
          "-300-0ms": -0.04545454545454523,
          "0-150ms": -0.6833333333333326,
          "150-450ms": -0.7385057471264362,
          "photo_id": 0
         },
         {
          "-300-0ms": 0.6818181818181831,
          "0-150ms": 4.533333333333325,
          "150-450ms": 1.0862068965517249,
          "photo_id": 0
         },
         {
          "-300-0ms": -1.5909090909090884,
          "0-150ms": -2.5666666666666624,
          "150-450ms": -3.143678160919542,
          "photo_id": 0
         },
         {
          "-300-0ms": 5.242424242424253,
          "0-150ms": 4.266666666666669,
          "150-450ms": 0.6666666666666651,
          "photo_id": 0
         },
         {
          "-300-0ms": -2.6515151515151523,
          "0-150ms": 2.611111111111111,
          "150-450ms": -2.03448275862069,
          "photo_id": 0
         },
         {
          "-300-0ms": 0.7121212121212137,
          "0-150ms": 3.255555555555555,
          "150-450ms": 1.1120689655172422,
          "photo_id": 0
         },
         {
          "-300-0ms": 1.0793650793650753,
          "0-150ms": 2.299999999999996,
          "150-450ms": -0.30714285714285805,
          "photo_id": 0
         },
         {
          "-300-0ms": 1.0793650793650802,
          "0-150ms": -1.3793650793650807,
          "150-450ms": 0.016666666666667718,
          "photo_id": 0
         },
         {
          "-300-0ms": -1.7142857142857142,
          "0-150ms": -3.012698412698407,
          "150-450ms": -3.516666666666662,
          "photo_id": 0
         },
         {
          "-300-0ms": -1.0793650793650789,
          "0-150ms": 3.3682539682539656,
          "150-450ms": -0.4238095238095216,
          "photo_id": 0
         },
         {
          "-300-0ms": -1.1746031746031749,
          "0-150ms": 0.8174603174603169,
          "150-450ms": -0.1904761904761897,
          "photo_id": 0
         },
         {
          "-300-0ms": -1.079365079365077,
          "0-150ms": -0.7301587301587286,
          "150-450ms": -0.9452380952380963,
          "photo_id": 0
         },
         {
          "-300-0ms": -5.174603174603168,
          "0-150ms": 18.514285714285695,
          "150-450ms": -10.46190476190475,
          "photo_id": 0
         },
         {
          "-300-0ms": -0.4444444444444439,
          "0-150ms": 2.9841269841269824,
          "150-450ms": -0.1380952380952376,
          "photo_id": 0
         },
         {
          "-300-0ms": -1.8730158730158701,
          "0-150ms": 3.323809523809523,
          "150-450ms": -0.3857142857142813,
          "photo_id": 0
         },
         {
          "-300-0ms": -7.714285714285715,
          "0-150ms": 14.5031746031746,
          "150-450ms": -3.5928571428571345,
          "photo_id": 1
         },
         {
          "-300-0ms": -1.3015873015873123,
          "0-150ms": 14.26507936507935,
          "150-450ms": -0.1904761904761869,
          "photo_id": 0
         },
         {
          "-300-0ms": -6.126984126984129,
          "0-150ms": 16.14126984126983,
          "150-450ms": -2.0833333333333215,
          "photo_id": 0
         },
         {
          "-300-0ms": -6.539682539682526,
          "0-150ms": 17.450793650793656,
          "150-450ms": -2.8428571428571323,
          "photo_id": 0
         },
         {
          "-300-0ms": 1.2380952380952501,
          "0-150ms": 4.639682539682539,
          "150-450ms": 0.8857142857142932,
          "photo_id": 0
         },
         {
          "-300-0ms": 0.22222222222222374,
          "0-150ms": 0.4333333333333343,
          "150-450ms": 0.4571428571428576,
          "photo_id": 0
         },
         {
          "-300-0ms": -8.952380952380954,
          "0-150ms": -4.503174603174599,
          "150-450ms": -2.6785714285714284,
          "photo_id": 0
         },
         {
          "-300-0ms": 2.3492063492063475,
          "0-150ms": -2.4412698412698384,
          "150-450ms": 0.6404761904761922,
          "photo_id": 0
         },
         {
          "-300-0ms": 0.1587301587301505,
          "0-150ms": 4.9603174603174605,
          "150-450ms": -1.433333333333332,
          "photo_id": 0
         },
         {
          "-300-0ms": 0.38095238095238737,
          "0-150ms": 6.593650793650799,
          "150-450ms": -2.9166666666666607,
          "photo_id": 0
         },
         {
          "-300-0ms": -1.3015873015872967,
          "0-150ms": 14.43174603174603,
          "150-450ms": -3.435714285714278,
          "photo_id": 0
         },
         {
          "-300-0ms": -0.38095238095237677,
          "0-150ms": 12.142857142857139,
          "150-450ms": -0.30714285714285183,
          "photo_id": 0
         },
         {
          "-300-0ms": -0.06349206349206245,
          "0-150ms": 1.953968253968257,
          "150-450ms": 0.6452380952380964,
          "photo_id": 0
         },
         {
          "-300-0ms": -4.645014245014242,
          "0-150ms": 8.14233385661957,
          "150-450ms": -3.9435897435897496,
          "photo_id": 0
         },
         {
          "-300-0ms": 1.8849002849002858,
          "0-150ms": -0.14652014652014703,
          "150-450ms": 1.1794871794871804,
          "photo_id": 0
         },
         {
          "-300-0ms": -3.1088319088319065,
          "0-150ms": -2.8341182626896946,
          "150-450ms": -2.532478632478633,
          "photo_id": 0
         },
         {
          "-300-0ms": 1.226210826210831,
          "0-150ms": -6.048142333856622,
          "150-450ms": 2.1273504273504282,
          "photo_id": 0
         },
         {
          "-300-0ms": -0.26438746438747257,
          "0-150ms": 7.517530088958662,
          "150-450ms": -2.25726495726496,
          "photo_id": 0
         },
         {
          "-300-0ms": 1.5999999999999968,
          "0-150ms": 0.8016745159602302,
          "150-450ms": 0.9196581196581173,
          "photo_id": 0
         },
         {
          "-300-0ms": 0.23703703703703663,
          "0-150ms": 0.08163265306122448,
          "150-450ms": 0.19316239316239256,
          "photo_id": 0
         },
         {
          "-300-0ms": 0.7042735042735032,
          "0-150ms": -0.6038723181580326,
          "150-450ms": 0.013675213675212544,
          "photo_id": 0
         },
         {
          "-300-0ms": -2.229235173818725e-17,
          "0-150ms": 6.32196462044006e-17,
          "150-450ms": 0.16666666666666588,
          "photo_id": 0
         },
         {
          "-300-0ms": 2.140170940170943,
          "0-150ms": -5.211930926216644,
          "150-450ms": 1.329059829059831,
          "photo_id": 0
         },
         {
          "-300-0ms": -1.3219373219373185,
          "0-150ms": -2.727367870225015,
          "150-450ms": -0.35726495726495155,
          "photo_id": 0
         },
         {
          "-300-0ms": -0.24615384615384847,
          "0-150ms": 0.4897959183673459,
          "150-450ms": -0.20085470085470256,
          "photo_id": 0
         },
         {
          "-300-0ms": 1.3356125356125335,
          "0-150ms": 1.3657770800627949,
          "150-450ms": 3.0427350427350426,
          "photo_id": 0
         },
         {
          "-300-0ms": -2.4615384615384603,
          "0-150ms": 0.5975928833071694,
          "150-450ms": -1.0478632478632506,
          "photo_id": 0
         },
         {
          "-300-0ms": 0,
          "0-150ms": 8.145767028369689e-17,
          "150-450ms": 0,
          "photo_id": 0
         },
         {
          "-300-0ms": -1.5566951566951532,
          "0-150ms": -0.25431711145996944,
          "150-450ms": 4.494017094017093,
          "photo_id": 0
         },
         {
          "-300-0ms": 5.062108262108259,
          "0-150ms": 9.672422815279957,
          "150-450ms": 2.549572649572649,
          "photo_id": 0
         },
         {
          "-300-0ms": -3.4871794871794806,
          "0-150ms": -1.6420722135007875,
          "150-450ms": -0.40854700854700976,
          "photo_id": 0
         },
         {
          "-300-0ms": -1.192022792022792,
          "0-150ms": -0.8707482993197297,
          "150-450ms": 0.23504273504273365,
          "photo_id": 0
         },
         {
          "-300-0ms": -0.7521367521367543,
          "0-150ms": -0.6080586080586116,
          "150-450ms": -0.7222222222222237,
          "photo_id": 0
         },
         {
          "-300-0ms": -0.6222222222222208,
          "0-150ms": -1.5028780743066463,
          "150-450ms": -2.6384615384615366,
          "photo_id": 0
         },
         {
          "-300-0ms": 4.050142450142458,
          "0-150ms": -4.0879120879120885,
          "150-450ms": 1.2829059829059877,
          "photo_id": 0
         },
         {
          "-300-0ms": 0.19373219373219297,
          "0-150ms": 0.05651491365777118,
          "150-450ms": 0.03760683760683783,
          "photo_id": 0
         },
         {
          "-300-0ms": 1.8324786324786322,
          "0-150ms": 0.9419152276295111,
          "150-450ms": 2.5700854700854676,
          "photo_id": 0
         },
         {
          "-300-0ms": -0.20284900284900179,
          "0-150ms": 0.5494505494505496,
          "150-450ms": 0.5991452991452976,
          "photo_id": 0
         },
         {
          "-300-0ms": -0.1527065527065544,
          "0-150ms": -2.148613291470435,
          "150-450ms": 2.0136752136752114,
          "photo_id": 0
         },
         {
          "-300-0ms": 0.5863991081382395,
          "0-150ms": -2.353623188405797,
          "150-450ms": 3.3311036789297668,
          "photo_id": 0
         },
         {
          "-300-0ms": 2.9007803790412514,
          "0-150ms": -4.343961352657009,
          "150-450ms": 0.9832775919732347,
          "photo_id": 1
         },
         {
          "-300-0ms": -0.17614269788182937,
          "0-150ms": -0.5101449275362293,
          "150-450ms": -1.5741360089186174,
          "photo_id": 0
         },
         {
          "-300-0ms": 4.4838350055741385,
          "0-150ms": 0.3909822866344581,
          "150-450ms": 10.167224080267554,
          "photo_id": 0
         },
         {
          "-300-0ms": -0.9264214046822756,
          "0-150ms": 1.2367149758454137,
          "150-450ms": -1.2775919732441472,
          "photo_id": 0
         },
         {
          "-300-0ms": -1.202898550724638,
          "0-150ms": -0.8322061191626414,
          "150-450ms": -0.6778149386845058,
          "photo_id": 1
         },
         {
          "-300-0ms": 1.8249721293199592,
          "0-150ms": 13.657326892109507,
          "150-450ms": -0.37904124860647315,
          "photo_id": 0
         },
         {
          "-300-0ms": -0.4147157190635456,
          "0-150ms": 11.99613526570049,
          "150-450ms": -0.21850613154960996,
          "photo_id": 0
         },
         {
          "-300-0ms": 4.017837235228545,
          "0-150ms": 0.40257648953301534,
          "150-450ms": 1.335562987736898,
          "photo_id": 0
         },
         {
          "-300-0ms": 0.051282051282051246,
          "0-150ms": 0.02962962962962966,
          "150-450ms": 0.05128205128205124,
          "photo_id": 0
         },
         {
          "-300-0ms": -0.13154960981047892,
          "0-150ms": -0.8927536231884069,
          "150-450ms": -0.07580824972129392,
          "photo_id": 0
         },
         {
          "-300-0ms": 13.25306577480491,
          "0-150ms": 7.108534621578097,
          "150-450ms": 0.3901895206243033,
          "photo_id": 0
         },
         {
          "-300-0ms": -4.397993311036791,
          "0-150ms": -1.893075684380032,
          "150-450ms": -2.7937569676700114,
          "photo_id": 0
         },
         {
          "-300-0ms": -0.12820512820513022,
          "0-150ms": -0.11529790660225502,
          "150-450ms": -0.5284280936454849,
          "photo_id": 0
         },
         {
          "-300-0ms": 0.7179487179487184,
          "0-150ms": 0.3851851851851844,
          "150-450ms": 0.4191750278706783,
          "photo_id": 0
         },
         {
          "-300-0ms": 1.2842809364548504,
          "0-150ms": 0.7175523349436435,
          "150-450ms": 0.8227424749163893,
          "photo_id": 0
         },
         {
          "-300-0ms": -0.7603121516164973,
          "0-150ms": 2.017391304347827,
          "150-450ms": -0.5373467112597526,
          "photo_id": 0
         },
         {
          "-300-0ms": -2.8138238573021215,
          "0-150ms": -0.23639291465378773,
          "150-450ms": 0.4860646599777061,
          "photo_id": 0
         },
         {
          "-300-0ms": 0.6131549609810455,
          "0-150ms": -0.8070853462157818,
          "150-450ms": 2.098104793756965,
          "photo_id": 0
         },
         {
          "-300-0ms": 0.10702341137123746,
          "0-150ms": 1.0621578099838966,
          "150-450ms": -0.11594202898551298,
          "photo_id": 0
         },
         {
          "-300-0ms": 3.4871794871794948,
          "0-150ms": 10.620933977455728,
          "150-450ms": -2.5306577480490517,
          "photo_id": 0
         },
         {
          "-300-0ms": 0.6332218506131562,
          "0-150ms": -0.13204508856682706,
          "150-450ms": -1.5585284280936456,
          "photo_id": 0
         },
         {
          "-300-0ms": -1.8517279821627657,
          "0-150ms": -3.105958132045091,
          "150-450ms": -0.3322185061315528,
          "photo_id": 0
         },
         {
          "-300-0ms": 1.8862876254180634,
          "0-150ms": -0.9668276972624792,
          "150-450ms": 1.3935340022296525,
          "photo_id": 0
         },
         {
          "-300-0ms": 1.1616499442586388,
          "0-150ms": -2.7091787439613504,
          "150-450ms": 0.6086956521739182,
          "photo_id": 0
         },
         {
          "-300-0ms": -1.0066889632107037,
          "0-150ms": 6.3143317230273786,
          "150-450ms": -1.0055741360089203,
          "photo_id": 0
         },
         {
          "-300-0ms": -1.947603121516165,
          "0-150ms": 0.17648953301127326,
          "150-450ms": -0.15607580824972334,
          "photo_id": 0
         },
         {
          "-300-0ms": 1.5418060200668897,
          "0-150ms": 3.9510466988727893,
          "150-450ms": 2.813823857302118,
          "photo_id": 0
         },
         {
          "-300-0ms": 16.297658862876272,
          "0-150ms": -0.5481481481481526,
          "150-450ms": 8.488294314381266,
          "photo_id": 0
         },
         {
          "-300-0ms": 0.6845039018952054,
          "0-150ms": 0.5442834138486324,
          "150-450ms": 0.731326644370125,
          "photo_id": 0
         },
         {
          "-300-0ms": 0.8193979933110369,
          "0-150ms": 0.9971014492753612,
          "150-450ms": -0.11817168338907486,
          "photo_id": 0
         },
         {
          "-300-0ms": 0.3851851851851853,
          "0-150ms": -3.2719060523938617,
          "150-450ms": -3.1198257080610055,
          "photo_id": 0
         },
         {
          "-300-0ms": 0.07407407407407195,
          "0-150ms": -1.2836495031616988,
          "150-450ms": -0.3050108932461871,
          "photo_id": 0
         },
         {
          "-300-0ms": 1.5407407407407394,
          "0-150ms": 0.8039747064137326,
          "150-450ms": 1.1394335511982576,
          "photo_id": 0
         },
         {
          "-300-0ms": 1.185185185185184,
          "0-150ms": -0.48328816621499743,
          "150-450ms": 0.7995642701525049,
          "photo_id": 0
         },
         {
          "-300-0ms": 0.5925925925925934,
          "0-150ms": 0.08672086720867143,
          "150-450ms": -0.7124183006535955,
          "photo_id": 0
         },
         {
          "-300-0ms": 1.288888888888885,
          "0-150ms": -0.0027100271002724976,
          "150-450ms": 1.6013071895424804,
          "photo_id": 0
         },
         {
          "-300-0ms": 1.9555555555555537,
          "0-150ms": 3.634146341463414,
          "150-450ms": 0.38779956427015233,
          "photo_id": 0
         },
         {
          "-300-0ms": 0.7851851851851775,
          "0-150ms": 8.31797651309847,
          "150-450ms": 0.4204793028322436,
          "photo_id": 0
         },
         {
          "-300-0ms": 0.17777777777777734,
          "0-150ms": -0.2538392050587174,
          "150-450ms": 0.7058823529411766,
          "photo_id": 0
         },
         {
          "-300-0ms": 6.414814814814811,
          "0-150ms": 2.8581752484191543,
          "150-450ms": -0.8104575163398714,
          "photo_id": 0
         },
         {
          "-300-0ms": 1.3481481481481465,
          "0-150ms": 1.8852755194218591,
          "150-450ms": -0.46840958605664545,
          "photo_id": 0
         },
         {
          "-300-0ms": -0.08888888888888948,
          "0-150ms": 1.6323396567299027,
          "150-450ms": -1.80392156862745,
          "photo_id": 0
         },
         {
          "-300-0ms": 0.77037037037037,
          "0-150ms": 0.5492321589882574,
          "150-450ms": 0.4161220043572982,
          "photo_id": 0
         },
         {
          "-300-0ms": -4.8592592592592565,
          "0-150ms": -4.9087624209575464,
          "150-450ms": 1.1895424836601345,
          "photo_id": 0
         },
         {
          "-300-0ms": -0.4444444444444442,
          "0-150ms": -0.10840108401083999,
          "150-450ms": -1.2440087145969498,
          "photo_id": 0
         },
         {
          "-300-0ms": -0.1777777777777807,
          "0-150ms": 0.07949412827461573,
          "150-450ms": 1.0849673202614378,
          "photo_id": 0
         },
         {
          "-300-0ms": 2.3703703703703716,
          "0-150ms": 0.2213188798554655,
          "150-450ms": 0.7254901960784306,
          "photo_id": 0
         },
         {
          "-300-0ms": -1.8962962962962964,
          "0-150ms": -1.1336946702800363,
          "150-450ms": -2.3137254901960778,
          "photo_id": 1
         },
         {
          "-300-0ms": 2.355555555555554,
          "0-150ms": 1.0460704607046065,
          "150-450ms": 2.3376906318082793,
          "photo_id": 0
         },
         {
          "-300-0ms": 2.2518518518518533,
          "0-150ms": -4.129177958446253,
          "150-450ms": 1.6209150326797384,
          "photo_id": 0
         },
         {
          "-300-0ms": 5.9407407407407335,
          "0-150ms": 13.532971996386642,
          "150-450ms": 0.8801742919389941,
          "photo_id": 0
         },
         {
          "-300-0ms": -1.6296296296296278,
          "0-150ms": 3.8979223125564606,
          "150-450ms": -5.636165577342047,
          "photo_id": 0
         },
         {
          "-300-0ms": 0.22222222222222213,
          "0-150ms": 2.3152664859981953,
          "150-450ms": 0.27886710239651374,
          "photo_id": 0
         },
         {
          "-300-0ms": 0.4592592592592572,
          "0-150ms": 0.5618789521228555,
          "150-450ms": 0.0501089324618725,
          "photo_id": 0
         },
         {
          "-300-0ms": 0.4210526315789465,
          "0-150ms": 0.22535211267605124,
          "150-450ms": 1.1942554799697678,
          "photo_id": 0
         },
         {
          "-300-0ms": -1.2163742690058454,
          "0-150ms": 0.7678664580073011,
          "150-450ms": -1.467876039304605,
          "photo_id": 0
         },
         {
          "-300-0ms": 0.21052631578947356,
          "0-150ms": 0.046948356807511575,
          "150-450ms": -0.006046863189721494,
          "photo_id": 0
         },
         {
          "-300-0ms": -2.736842105263156,
          "0-150ms": -1.5148669796557128,
          "150-450ms": 1.632653061224494,
          "photo_id": 0
         },
         {
          "-300-0ms": -2.666666666666663,
          "0-150ms": 0.4872196139801854,
          "150-450ms": -0.8888888888888881,
          "photo_id": 0
         },
         {
          "-300-0ms": 0.0623781676413265,
          "0-150ms": 1.4407929055816402,
          "150-450ms": 0.05139833711262328,
          "photo_id": 0
         },
         {
          "-300-0ms": 0.031189083820668023,
          "0-150ms": 0.7574334898278616,
          "150-450ms": -0.6969009826152632,
          "photo_id": 0
         },
         {
          "-300-0ms": 2.035087719298232,
          "0-150ms": -3.937402190923322,
          "150-450ms": 4.238851095993952,
          "photo_id": 1
         },
         {
          "-300-0ms": -0.1637426900584924,
          "0-150ms": 0.4444444444444436,
          "150-450ms": 2.069538926681783,
          "photo_id": 0
         },
         {
          "-300-0ms": 0.24951267056530094,
          "0-150ms": 0.8325508607198756,
          "150-450ms": 0.32653061224489893,
          "photo_id": 0
         },
         {
          "-300-0ms": -2.198830409356724,
          "0-150ms": 1.739175795513831,
          "150-450ms": -0.5275888133031034,
          "photo_id": 0
         },
         {
          "-300-0ms": -2.9707602339181225,
          "0-150ms": -1.6202399582681217,
          "150-450ms": -0.3159486016628849,
          "photo_id": 0
         },
         {
          "-300-0ms": 2.643274853801172,
          "0-150ms": 0.4569640062597921,
          "150-450ms": -0.049886621315194356,
          "photo_id": 0
         },
         {
          "-300-0ms": 1.9571150097466,
          "0-150ms": 21.771517996870134,
          "150-450ms": -7.560090702947828,
          "photo_id": 1
         },
         {
          "-300-0ms": 0.3040935672514604,
          "0-150ms": 0.26291079812206536,
          "150-450ms": 0.5170068027210867,
          "photo_id": 0
         },
         {
          "-300-0ms": 8.226120857699813,
          "0-150ms": 31.929055816379783,
          "150-450ms": 2.9886621315192765,
          "photo_id": 0
         },
         {
          "-300-0ms": -3.695906432748521,
          "0-150ms": 6.825247782994272,
          "150-450ms": -2.840513983371116,
          "photo_id": 0
         },
         {
          "-300-0ms": -0.24951267056530027,
          "0-150ms": 1.0349504434011472,
          "150-450ms": 0.22071050642479384,
          "photo_id": 0
         },
         {
          "-300-0ms": -0.304093567251462,
          "0-150ms": -0.616588419405322,
          "150-450ms": -0.4157218442932728,
          "photo_id": 0
         },
         {
          "-300-0ms": -0.6081871345029227,
          "0-150ms": 0.7344809598330718,
          "150-450ms": -0.8934240362811788,
          "photo_id": 0
         },
         {
          "-300-0ms": -2.8819047619047624,
          "0-150ms": -1.8952380952380945,
          "150-450ms": 0.9600000000000009,
          "photo_id": 0
         },
         {
          "-300-0ms": -4.498095238095231,
          "0-150ms": 10.337142857142856,
          "150-450ms": -1.69333333333333,
          "photo_id": 0
         },
         {
          "-300-0ms": 2.527619047619043,
          "0-150ms": -1.3619047619047613,
          "150-450ms": 0.5095238095238078,
          "photo_id": 0
         },
         {
          "-300-0ms": 2.4676190476190314,
          "0-150ms": 50.40571428571426,
          "150-450ms": -3.853333333333328,
          "photo_id": 0
         },
         {
          "-300-0ms": 1.5485714285714243,
          "0-150ms": -0.5923809523809503,
          "150-450ms": 1.3942857142857121,
          "photo_id": 0
         },
         {
          "-300-0ms": 1.6457142857142806,
          "0-150ms": 1.4076190476190487,
          "150-450ms": -2.167619047619049,
          "photo_id": 0
         },
         {
          "-300-0ms": 0.897142857142856,
          "0-150ms": -1.5390476190476174,
          "150-450ms": 0.4561904761904767,
          "photo_id": 0
         },
         {
          "-300-0ms": -1.8590476190476182,
          "0-150ms": -0.08190476190476155,
          "150-450ms": -0.34190476190476166,
          "photo_id": 0
         },
         {
          "-300-0ms": 1.7304761904761892,
          "0-150ms": -0.08380952380952315,
          "150-450ms": -0.3019047619047626,
          "photo_id": 0
         },
         {
          "-300-0ms": -0.48476190476190517,
          "0-150ms": 0.08571428571428534,
          "150-450ms": 0.6114285714285713,
          "photo_id": 0
         },
         {
          "-300-0ms": 3.5638095238095047,
          "0-150ms": 16.539047619047608,
          "150-450ms": 1.8752380952380954,
          "photo_id": 0
         },
         {
          "-300-0ms": -0.5914285714285707,
          "0-150ms": -0.7828571428571425,
          "150-450ms": -0.43714285714285595,
          "photo_id": 0
         },
         {
          "-300-0ms": -2.47047619047619,
          "0-150ms": 1.8514285714285708,
          "150-450ms": -1.14,
          "photo_id": 0
         },
         {
          "-300-0ms": -2.4752380952380966,
          "0-150ms": 3.9295238095238094,
          "150-450ms": -0.042857142857144204,
          "photo_id": 0
         },
         {
          "-300-0ms": 5.369523809523799,
          "0-150ms": -4.148571428571424,
          "150-450ms": -1.5914285714285716,
          "photo_id": 0
         },
         {
          "-300-0ms": -0.9514285714285732,
          "0-150ms": 1.1942857142857142,
          "150-450ms": 0.0809523809523802,
          "photo_id": 0
         },
         {
          "-300-0ms": -0.23333333333335085,
          "0-150ms": -1.8790123456790138,
          "150-450ms": -3.907317073170742,
          "photo_id": 0
         },
         {
          "-300-0ms": -2.605555555555594,
          "0-150ms": 11.276543209876559,
          "150-450ms": 3.5788617886178695,
          "photo_id": 1
         },
         {
          "-300-0ms": -2.2833333333333488,
          "0-150ms": -4.681481481481507,
          "150-450ms": -6.3138211382114084,
          "photo_id": 0
         },
         {
          "-300-0ms": 0.11111111111111395,
          "0-150ms": 1.3768527760903057e-15,
          "150-450ms": 0.5772357723577204,
          "photo_id": 0
         },
         {
          "-300-0ms": -0.11666666666666485,
          "0-150ms": -0.4000000000000013,
          "150-450ms": -0.024390243902436926,
          "photo_id": 0
         },
         {
          "-300-0ms": 0.3333333333333357,
          "0-150ms": 5.74074074074075,
          "150-450ms": 0.3203252032520291,
          "photo_id": 0
         },
         {
          "-300-0ms": 0.5611111111111052,
          "0-150ms": -0.5111111111111196,
          "150-450ms": -2.804215536603162e-15,
          "photo_id": 0
         },
         {
          "-300-0ms": -0.16666666666667165,
          "0-150ms": 2.22222222222223,
          "150-450ms": -0.3902439024390245,
          "photo_id": 0
         },
         {
          "-300-0ms": -0.4555555555555613,
          "0-150ms": 17.622222222222273,
          "150-450ms": -0.07967479674797111,
          "photo_id": 0
         },
         {
          "-300-0ms": 1.966666666666663,
          "0-150ms": 13.654320987654364,
          "150-450ms": -0.43252032520325817,
          "photo_id": 0
         },
         {
          "-300-0ms": -0.622222222222221,
          "0-150ms": -1.264197530864193,
          "150-450ms": 2.881300813008112,
          "photo_id": 0
         },
         {
          "-300-0ms": 0.17777777777778092,
          "0-150ms": 2.9111111111111234,
          "150-450ms": 0.24227642276422456,
          "photo_id": 0
         },
         {
          "-300-0ms": -2.31111111111112,
          "0-150ms": -2.9827160493827143,
          "150-450ms": -0.2959349593495902,
          "photo_id": 0
         },
         {
          "-300-0ms": -1.677777777777781,
          "0-150ms": -2.730864197530881,
          "150-450ms": 0.06829268292683806,
          "photo_id": 0
         },
         {
          "-300-0ms": -0.6611111111111185,
          "0-150ms": 5.701234567901245,
          "150-450ms": -0.29430894308943045,
          "photo_id": 0
         },
         {
          "-300-0ms": -0.36111111111111377,
          "0-150ms": 0.8493827160493873,
          "150-450ms": -0.4926829268292679,
          "photo_id": 0
         },
         {
          "-300-0ms": -0.08333333333333708,
          "0-150ms": 3.861728395061743,
          "150-450ms": 1.8747967479674825,
          "photo_id": 0
         },
         {
          "-300-0ms": -1.3388888888889021,
          "0-150ms": 2.2543209876543315,
          "150-450ms": 0.03739837398374091,
          "photo_id": 0
         },
         {
          "-300-0ms": -2.654358974358967,
          "0-150ms": -3.836630036630037,
          "150-450ms": -2.8827838827838783,
          "photo_id": 0
         },
         {
          "-300-0ms": -0.4615384615384606,
          "0-150ms": 0.13699633699633787,
          "150-450ms": -0.34065934065934084,
          "photo_id": 0
         },
         {
          "-300-0ms": -0.6953846153846168,
          "0-150ms": 14.910622710622706,
          "150-450ms": 2.4029304029304073,
          "photo_id": 1
         },
         {
          "-300-0ms": 0.44512820512820533,
          "0-150ms": 0.1487179487179466,
          "150-450ms": -0.06959706959706817,
          "photo_id": 0
         },
         {
          "-300-0ms": 0.26461538461538403,
          "0-150ms": 2.708424908424908,
          "150-450ms": 0.4285714285714288,
          "photo_id": 0
         },
         {
          "-300-0ms": 0.9538461538461527,
          "0-150ms": 0.5758241758241761,
          "150-450ms": 0.21978021978021967,
          "photo_id": 0
         },
         {
          "-300-0ms": 2.13333333333333,
          "0-150ms": 4.115018315018317,
          "150-450ms": -0.1904761904761898,
          "photo_id": 0
         },
         {
          "-300-0ms": 0.436923076923077,
          "0-150ms": 2.0527472527472495,
          "150-450ms": -0.36630036630036544,
          "photo_id": 0
         },
         {
          "-300-0ms": -0.06358974358974304,
          "0-150ms": 1.5245421245421262,
          "150-450ms": -1.0805860805860805,
          "photo_id": 0
         },
         {
          "-300-0ms": 0.2399999999999994,
          "0-150ms": 0.047619047619047596,
          "150-450ms": -1.3155019438114713e-16,
          "photo_id": 0
         },
         {
          "-300-0ms": -0.5046153846153825,
          "0-150ms": -2.73260073260073,
          "150-450ms": 0.10256410256410263,
          "photo_id": 0
         },
         {
          "-300-0ms": -1.3907692307692294,
          "0-150ms": -1.1721611721611715,
          "150-450ms": -0.6117216117216118,
          "photo_id": 0
         },
         {
          "-300-0ms": -0.5353846153846148,
          "0-150ms": 0.03076923076923097,
          "150-450ms": -1.0256410256410255,
          "photo_id": 0
         },
         {
          "-300-0ms": -0.16410256410256388,
          "0-150ms": 0.46373626373626414,
          "150-450ms": -1.1794871794871795,
          "photo_id": 0
         },
         {
          "-300-0ms": -1.31487179487179,
          "0-150ms": -0.5150183150183143,
          "150-450ms": 0.32600732600732796,
          "photo_id": 0
         },
         {
          "-300-0ms": 1.5507692307692265,
          "0-150ms": 4.048351648351644,
          "150-450ms": 2.567765567765566,
          "photo_id": 0
         },
         {
          "-300-0ms": 10.549743589743574,
          "0-150ms": 45.631501831501815,
          "150-450ms": 2.282051282051291,
          "photo_id": 0
         },
         {
          "-300-0ms": 1.4194871794871757,
          "0-150ms": 9.345054945054937,
          "150-450ms": 0.9999999999999999,
          "photo_id": 0
         },
         {
          "-300-0ms": 0.8820512820512799,
          "0-150ms": 1.2666666666666655,
          "150-450ms": -0.14652014652014697,
          "photo_id": 0
         },
         {
          "-300-0ms": -6.171185539606584,
          "0-150ms": -3.552487776819089,
          "150-450ms": -0.8109161793372452,
          "photo_id": 0
         },
         {
          "-300-0ms": -4.59330143540665,
          "0-150ms": 30.356629278113356,
          "150-450ms": 1.1721897335932405,
          "photo_id": 0
         },
         {
          "-300-0ms": -0.3072833599149362,
          "0-150ms": -0.7845844118492957,
          "150-450ms": -0.8304093567251457,
          "photo_id": 0
         },
         {
          "-300-0ms": 1.7884104199893678,
          "0-150ms": 2.422778257118214,
          "150-450ms": -4.946718648473035,
          "photo_id": 0
         },
         {
          "-300-0ms": 1.077086656034026,
          "0-150ms": -1.0463042853034212,
          "150-450ms": -0.10851202079272143,
          "photo_id": 0
         },
         {
          "-300-0ms": -1.2323232323232307,
          "0-150ms": -0.12999712395743315,
          "150-450ms": 1.0318388564002616,
          "photo_id": 0
         },
         {
          "-300-0ms": 0.7729930887825649,
          "0-150ms": 1.1561691113028487,
          "150-450ms": -0.168940870695256,
          "photo_id": 0
         },
         {
          "-300-0ms": 2.0659223817118604,
          "0-150ms": 11.07506471095774,
          "150-450ms": -1.9122807017543912,
          "photo_id": 0
         },
         {
          "-300-0ms": 0.5178096757044092,
          "0-150ms": 1.1797526603393778,
          "150-450ms": 2.057829759584154,
          "photo_id": 0
         },
         {
          "-300-0ms": 0.7910685805422698,
          "0-150ms": -0.47569744032211786,
          "150-450ms": 0.6744639376218395,
          "photo_id": 0
         },
         {
          "-300-0ms": -1.1727804359383232,
          "0-150ms": 18.68449813057236,
          "150-450ms": -1.730994152046786,
          "photo_id": 0
         },
         {
          "-300-0ms": 0.015948963317386006,
          "0-150ms": 4.370434282427386,
          "150-450ms": -0.7342430149447715,
          "photo_id": 0
         },
         {
          "-300-0ms": -1.6608187134502905,
          "0-150ms": -0.33764739718147485,
          "150-450ms": -0.7115009746588684,
          "photo_id": 0
         },
         {
          "-300-0ms": 3.1323763955342883,
          "0-150ms": 5.597929249352897,
          "150-450ms": 0.2936972059779077,
          "photo_id": 0
         },
         {
          "-300-0ms": -2.145667198298773,
          "0-150ms": 3.480586712683353,
          "150-450ms": 0.5367121507472394,
          "photo_id": 0
         },
         {
          "-300-0ms": -1.2852564102564108,
          "0-150ms": -1.4756671899529026,
          "150-450ms": -1.0736670736670741,
          "photo_id": 0
         },
         {
          "-300-0ms": -0.33974358974358876,
          "0-150ms": -0.15175300889586432,
          "150-450ms": 0.0919820919820951,
          "photo_id": 0
         },
         {
          "-300-0ms": -2.5128205128205146,
          "0-150ms": 2.8749345892202993,
          "150-450ms": -2.260480260480261,
          "photo_id": 0
         },
         {
          "-300-0ms": -1.6442307692307707,
          "0-150ms": 0.35792778649922047,
          "150-450ms": -1.2942612942612952,
          "photo_id": 0
         },
         {
          "-300-0ms": -4.746794871794857,
          "0-150ms": 34.01151229722654,
          "150-450ms": -1.2714692714692635,
          "photo_id": 0
         },
         {
          "-300-0ms": 4.358974358974355,
          "0-150ms": -0.9000523286237572,
          "150-450ms": 0.911680911680914,
          "photo_id": 0
         },
         {
          "-300-0ms": -0.06089743589743457,
          "0-150ms": -0.5306122448979568,
          "150-450ms": -0.7846967846967844,
          "photo_id": 0
         },
         {
          "-300-0ms": -4.016025641025629,
          "0-150ms": -6.694924123495524,
          "150-450ms": -2.2271062271062227,
          "photo_id": 0
         },
         {
          "-300-0ms": 3.7884615384615317,
          "0-150ms": -1.792778649921507,
          "150-450ms": 2.2474562474562463,
          "photo_id": 0
         },
         {
          "-300-0ms": -0.0256410256410227,
          "0-150ms": -0.25745682888539956,
          "150-450ms": -0.568172568172567,
          "photo_id": 0
         },
         {
          "-300-0ms": 30.487179487179514,
          "0-150ms": 77.34693877551017,
          "150-450ms": -0.3215303215303103,
          "photo_id": 0
         },
         {
          "-300-0ms": 0.5416666666666697,
          "0-150ms": 0.5578231292517081,
          "150-450ms": 0.1546601546601587,
          "photo_id": 0
         },
         {
          "-300-0ms": -1.3782051282051284,
          "0-150ms": -0.9387755102040779,
          "150-450ms": -0.06674806674806587,
          "photo_id": 0
         },
         {
          "-300-0ms": 2.3589743589743595,
          "0-150ms": 0.24489795918367527,
          "150-450ms": 0.18640618640618797,
          "photo_id": 0
         },
         {
          "-300-0ms": 3.3653846153846163,
          "0-150ms": 2.142333856619569,
          "150-450ms": 0.02930402930402994,
          "photo_id": 0
         },
         {
          "-300-0ms": 1.2756410256410315,
          "0-150ms": -1.3469387755102014,
          "150-450ms": -0.6862026862026854,
          "photo_id": 0
         },
         {
          "-300-0ms": -3.9743589743589722,
          "0-150ms": 0.06279434850863817,
          "150-450ms": 0.3736263736263746,
          "photo_id": 0
         },
         {
          "-300-0ms": -1.2788461538461517,
          "0-150ms": 1.4264782836211394,
          "150-450ms": -0.5714285714285718,
          "photo_id": 0
         },
         {
          "-300-0ms": 0.9229024943310665,
          "0-150ms": -0.740041928721174,
          "150-450ms": 0.5105485232067505,
          "photo_id": 0
         },
         {
          "-300-0ms": -0.09523809523809505,
          "0-150ms": -0.25052410901467553,
          "150-450ms": 0.14486638537271423,
          "photo_id": 0
         },
         {
          "-300-0ms": -0.5578231292516959,
          "0-150ms": -1.262054507337526,
          "150-450ms": 0.2496483825597761,
          "photo_id": 0
         },
         {
          "-300-0ms": 0.3333333333333324,
          "0-150ms": 0.8427672955974833,
          "150-450ms": 0.07383966244725658,
          "photo_id": 0
         },
         {
          "-300-0ms": 1.913832199546487,
          "0-150ms": 6.402515723270434,
          "150-450ms": -0.7454289732770748,
          "photo_id": 0
         },
         {
          "-300-0ms": 0.2176870748299328,
          "0-150ms": 4.506857401743639e-17,
          "150-450ms": 0.6315049226441627,
          "photo_id": 0
         },
         {
          "-300-0ms": 0.045351473922907025,
          "0-150ms": 35.19706498951778,
          "150-450ms": 0.2264416315049249,
          "photo_id": 0
         },
         {
          "-300-0ms": -0.7392290249433092,
          "0-150ms": -1.3039832285115365,
          "150-450ms": 0.4803094233474001,
          "photo_id": 0
         },
         {
          "-300-0ms": -0.46031746031746046,
          "0-150ms": 7.637316561844859,
          "150-450ms": 0.6765119549929642,
          "photo_id": 0
         },
         {
          "-300-0ms": -1.1360544217687079,
          "0-150ms": 0.40356394129978995,
          "150-450ms": -0.7271448663853732,
          "photo_id": 0
         },
         {
          "-300-0ms": -0.12925170068027172,
          "0-150ms": 0.17610062893081815,
          "150-450ms": 1.6251758087201107,
          "photo_id": 0
         },
         {
          "-300-0ms": 0.7777777777777751,
          "0-150ms": -8.113207547169809,
          "150-450ms": -5.437412095639943,
          "photo_id": 0
         },
         {
          "-300-0ms": 4.784580498866212,
          "0-150ms": -3.1121593291404612,
          "150-450ms": 1.737693389592123,
          "photo_id": 0
         },
         {
          "-300-0ms": 0.7165532879818558,
          "0-150ms": 2.4339622641509373,
          "150-450ms": -0.18143459915612514,
          "photo_id": 1
         },
         {
          "-300-0ms": 5.988662131519255,
          "0-150ms": 55.53144654088046,
          "150-450ms": -4.504219409282714,
          "photo_id": 0
         },
         {
          "-300-0ms": -0.01587301587301304,
          "0-150ms": -0.27358490566037535,
          "150-450ms": 0.537974683544303,
          "photo_id": 0
         },
         {
          "-300-0ms": -1.451247165532881,
          "0-150ms": -0.5000000000000013,
          "150-450ms": 0.07454289732770746,
          "photo_id": 0
         },
         {
          "-300-0ms": 1.0612244897959202,
          "0-150ms": 0.3522012578616356,
          "150-450ms": 0.841772151898735,
          "photo_id": 0
         },
         {
          "-300-0ms": -0.2857142857142822,
          "0-150ms": 0.45178197064989384,
          "150-450ms": -1.3073136427566803,
          "photo_id": 0
         },
         {
          "-300-0ms": 0.6802721088435373,
          "0-150ms": -0.6257861635220119,
          "150-450ms": 1.6399437412095634,
          "photo_id": 0
         },
         {
          "-300-0ms": -1.7596371882086148,
          "0-150ms": 2.5387840670859507,
          "150-450ms": -1.3699015471167373,
          "photo_id": 0
         },
         {
          "-300-0ms": -4.353741496598636,
          "0-150ms": 3.703354297693913,
          "150-450ms": -1.2271448663853726,
          "photo_id": 0
         },
         {
          "-300-0ms": 0.5668934240362811,
          "0-150ms": -0.27777777777777785,
          "150-450ms": 0.28410689170182785,
          "photo_id": 0
         },
         {
          "-300-0ms": -0.15151515151515507,
          "0-150ms": 2.6707616707616695,
          "150-450ms": -0.3163091590057869,
          "photo_id": 0
         },
         {
          "-300-0ms": -0.07575757575757824,
          "0-150ms": -1.3439803439803397,
          "150-450ms": -0.9417773237997906,
          "photo_id": 0
         },
         {
          "-300-0ms": -1.8787878787878671,
          "0-150ms": -1.9631449631449582,
          "150-450ms": -3.1807967313585124,
          "photo_id": 0
         },
         {
          "-300-0ms": -0.8636363636363581,
          "0-150ms": 0.6445536445536438,
          "150-450ms": -0.0017024174327504905,
          "photo_id": 0
         },
         {
          "-300-0ms": 0.015151515151515046,
          "0-150ms": -0.3775593775593755,
          "150-450ms": -0.792986040177046,
          "photo_id": 0
         },
         {
          "-300-0ms": 0.28787878787879406,
          "0-150ms": 0.4832104832104798,
          "150-450ms": 1.2488934286687117,
          "photo_id": 0
         },
         {
          "-300-0ms": -0.015151515151514805,
          "0-150ms": 0.4742014742014679,
          "150-450ms": 0.4770173646578126,
          "photo_id": 0
         },
         {
          "-300-0ms": -1.4696969696969753,
          "0-150ms": 8.534807534807479,
          "150-450ms": -0.13278855975485168,
          "photo_id": 0
         },
         {
          "-300-0ms": -3.3030303030302264,
          "0-150ms": 6.692055692055697,
          "150-450ms": -0.554307116104849,
          "photo_id": 1
         },
         {
          "-300-0ms": -1.742424242424203,
          "0-150ms": -1.7297297297297165,
          "150-450ms": -0.9731018045624613,
          "photo_id": 0
         },
         {
          "-300-0ms": -3.696969696969663,
          "0-150ms": 12.846027846027818,
          "150-450ms": -2.18658495062988,
          "photo_id": 0
         },
         {
          "-300-0ms": 1.2121212121212124,
          "0-150ms": 0.6912366912366897,
          "150-450ms": -0.013278855975484373,
          "photo_id": 0
         },
         {
          "-300-0ms": -8.378787878787838,
          "0-150ms": -2.9352989352988974,
          "150-450ms": -4.080354102825998,
          "photo_id": 0
         },
         {
          "-300-0ms": 5.0757575757575415,
          "0-150ms": 9.452907452907438,
          "150-450ms": 4.8219271365338505,
          "photo_id": 0
         },
         {
          "-300-0ms": -3.515151515151482,
          "0-150ms": 7.210483210483211,
          "150-450ms": 0.5512427647259248,
          "photo_id": 0
         },
         {
          "-300-0ms": 0.5151515151514955,
          "0-150ms": 0.4406224406224339,
          "150-450ms": 1.1171263193734917,
          "photo_id": 0
         },
         {
          "-300-0ms": 1.5454545454545443,
          "0-150ms": -0.5782145782145803,
          "150-450ms": 1.175008512087154,
          "photo_id": 0
         },
         {
          "-300-0ms": -1.1212121212120978,
          "0-150ms": 5.004095004094991,
          "150-450ms": 0.17773237997956692,
          "photo_id": 0
         },
         {
          "-300-0ms": 1.106060606060598,
          "0-150ms": 0.46109746109745275,
          "150-450ms": 1.4256043581886326,
          "photo_id": 0
         },
         {
          "-300-0ms": 0.18181818181818332,
          "0-150ms": 1.1588861588861523,
          "150-450ms": 0.2747701736465767,
          "photo_id": 0
         },
         {
          "-300-0ms": 0.1666666666666763,
          "0-150ms": -1.5708435708435664,
          "150-450ms": 0.5989104528430486,
          "photo_id": 0
         },
         {
          "-300-0ms": 1.4393939393939343,
          "0-150ms": 6.381654381654371,
          "150-450ms": 0.7184201566223992,
          "photo_id": 0
         },
         {
          "-300-0ms": -2.409090909090847,
          "0-150ms": 5.994266994267012,
          "150-450ms": -2.364317330609439,
          "photo_id": 0
         },
         {
          "-300-0ms": -0.5303030303030286,
          "0-150ms": -1.5790335790335697,
          "150-450ms": -0.5182158665304717,
          "photo_id": 1
         },
         {
          "-300-0ms": -0.1666666666666633,
          "0-150ms": -0.3832923832923809,
          "150-450ms": -0.5869935308137505,
          "photo_id": 0
         },
         {
          "-300-0ms": -5.916666666666674,
          "0-150ms": 13.583333333333321,
          "150-450ms": -1.2681372549019765,
          "photo_id": 0
         },
         {
          "-300-0ms": 0.1111111111111096,
          "0-150ms": 0.8333333333333343,
          "150-450ms": 0.13774509803921528,
          "photo_id": 0
         },
         {
          "-300-0ms": 1.5277777777777786,
          "0-150ms": -0.03333333333333555,
          "150-450ms": 0.8058823529411782,
          "photo_id": 0
         },
         {
          "-300-0ms": -0.888888888888895,
          "0-150ms": 11.77499999999999,
          "150-450ms": -1.229411764705884,
          "photo_id": 0
         },
         {
          "-300-0ms": 0.3055555555555555,
          "0-150ms": 0.9333333333333328,
          "150-450ms": -0.15098039215686188,
          "photo_id": 0
         },
         {
          "-300-0ms": 0.9722222222222214,
          "0-150ms": -0.11666666666666758,
          "150-450ms": 0.2906862745098035,
          "photo_id": 0
         },
         {
          "-300-0ms": 0.2777777777777785,
          "0-150ms": -0.20000000000000004,
          "150-450ms": -0.20294117647058785,
          "photo_id": 0
         },
         {
          "-300-0ms": -0.1944444444444456,
          "0-150ms": -0.2583333333333313,
          "150-450ms": -0.5980392156862709,
          "photo_id": 0
         },
         {
          "-300-0ms": -2.027777777777778,
          "0-150ms": -4.149999999999997,
          "150-450ms": 1.6882352941176457,
          "photo_id": 0
         },
         {
          "-300-0ms": 1.0555555555555547,
          "0-150ms": -0.49166666666666675,
          "150-450ms": 0.9651960784313717,
          "photo_id": 0
         },
         {
          "-300-0ms": 0.08333333333333387,
          "0-150ms": -1.8499999999999994,
          "150-450ms": 0.473529411764706,
          "photo_id": 0
         },
         {
          "-300-0ms": 7.80555555555555,
          "0-150ms": -1.1916666666666704,
          "150-450ms": 3.6995098039215732,
          "photo_id": 0
         },
         {
          "-300-0ms": 1.3055555555555582,
          "0-150ms": 0.366666666666667,
          "150-450ms": 2.637745098039209,
          "photo_id": 0
         },
         {
          "-300-0ms": 0.027777777777778918,
          "0-150ms": -0.10833333333333216,
          "150-450ms": 0.27254901960784356,
          "photo_id": 0
         },
         {
          "-300-0ms": -2.11111111111111,
          "0-150ms": 3.0583333333333282,
          "150-450ms": -0.7754901960784308,
          "photo_id": 0
         },
         {
          "-300-0ms": 0.4444444444444427,
          "0-150ms": 11.149999999999983,
          "150-450ms": -1.1872549019607848,
          "photo_id": 0
         },
         {
          "-300-0ms": 0.08333333333333359,
          "0-150ms": -0.5500000000000002,
          "150-450ms": -0.13431372549019574,
          "photo_id": 0
         },
         {
          "-300-0ms": -4.86111111111111,
          "0-150ms": 1.8250000000000004,
          "150-450ms": -0.16470588235294073,
          "photo_id": 0
         },
         {
          "-300-0ms": 3.888888888888886,
          "0-150ms": 4.958333333333328,
          "150-450ms": 2.337745098039211,
          "photo_id": 0
         },
         {
          "-300-0ms": 1.694444444444444,
          "0-150ms": 6.374999999999992,
          "150-450ms": 6.62205882352941,
          "photo_id": 0
         },
         {
          "-300-0ms": 1.472222222222219,
          "0-150ms": 1.0416666666666663,
          "150-450ms": 0.8549019607843116,
          "photo_id": 0
         },
         {
          "-300-0ms": 6.333333333333332,
          "0-150ms": 0.07499999999997946,
          "150-450ms": -2.8960784313725507,
          "photo_id": 0
         },
         {
          "-300-0ms": 1.8611111111111125,
          "0-150ms": -2.6833333333333322,
          "150-450ms": -0.5308823529411754,
          "photo_id": 0
         },
         {
          "-300-0ms": -1.3333333333333324,
          "0-150ms": -1.3166666666666669,
          "150-450ms": -0.3475490196078444,
          "photo_id": 0
         },
         {
          "-300-0ms": 1.1388888888888886,
          "0-150ms": -0.3083333333333346,
          "150-450ms": -1.6034313725490188,
          "photo_id": 0
         },
         {
          "-300-0ms": -2.3055555555555602,
          "0-150ms": 2.883333333333326,
          "150-450ms": -2.2789215686274553,
          "photo_id": 0
         },
         {
          "-300-0ms": -1.4444444444444453,
          "0-150ms": -0.20000000000000387,
          "150-450ms": 0.22303921568627505,
          "photo_id": 0
         },
         {
          "-300-0ms": 0.3333333333333331,
          "0-150ms": 3.4083333333333337,
          "150-450ms": 0.03431372549019346,
          "photo_id": 0
         },
         {
          "-300-0ms": 0.6259259259259387,
          "0-150ms": 3.129353233830851,
          "150-450ms": -0.31324200913240513,
          "photo_id": 0
         },
         {
          "-300-0ms": -6.222222222222289,
          "0-150ms": 7.231343283582148,
          "150-450ms": -8.636529680365316,
          "photo_id": 0
         },
         {
          "-300-0ms": 0.04444444444444077,
          "0-150ms": 2.7597014925372996,
          "150-450ms": 0.28310502283104877,
          "photo_id": 0
         },
         {
          "-300-0ms": 4.229629629629619,
          "0-150ms": 5.742786069651712,
          "150-450ms": 8.28173515981729,
          "photo_id": 0
         },
         {
          "-300-0ms": -6.700000000000009,
          "0-150ms": 3.9029850746268964,
          "150-450ms": -2.985388127853876,
          "photo_id": 0
         },
         {
          "-300-0ms": -0.681481481481466,
          "0-150ms": -0.33582089552238487,
          "150-450ms": -0.3634703196346918,
          "photo_id": 0
         },
         {
          "-300-0ms": 2.200000000000072,
          "0-150ms": -0.9636815920397431,
          "150-450ms": -0.46255707762556547,
          "photo_id": 0
         },
         {
          "-300-0ms": -3.711111111111119,
          "0-150ms": -1.7621890547263535,
          "150-450ms": -0.47168949771689633,
          "photo_id": 0
         },
         {
          "-300-0ms": 0.5740740740740712,
          "0-150ms": 0.04228855721392669,
          "150-450ms": 0.4109589041095852,
          "photo_id": 0
         },
         {
          "-300-0ms": -0.9222222222222456,
          "0-150ms": -10.163681592039723,
          "150-450ms": -1.0831050228310566,
          "photo_id": 0
         },
         {
          "-300-0ms": 1.0592592592592422,
          "0-150ms": -0.11492537313432698,
          "150-450ms": 0.14155251141553177,
          "photo_id": 0
         },
         {
          "-300-0ms": 0.8703703703703717,
          "0-150ms": 3.645273631840775,
          "150-450ms": 0.35890410958903446,
          "photo_id": 0
         },
         {
          "-300-0ms": 2.596296296296296,
          "0-150ms": -1.128855721393025,
          "150-450ms": 0.7675799086758004,
          "photo_id": 0
         },
         {
          "-300-0ms": -0.6666666666666664,
          "0-150ms": -0.6417910447761054,
          "150-450ms": -3.428310502283082,
          "photo_id": 0
         },
         {
          "-300-0ms": -1.5629629629629715,
          "0-150ms": 7.810447761194003,
          "150-450ms": -0.5356164383561638,
          "photo_id": 0
         },
         {
          "-300-0ms": -6.662962962962933,
          "0-150ms": -6.381094527363115,
          "150-450ms": -6.342922374429172,
          "photo_id": 0
         },
         {
          "-300-0ms": 0.3221850613154814,
          "0-150ms": 3.897170462387859,
          "150-450ms": -0.21404682274247433,
          "photo_id": 0
         },
         {
          "-300-0ms": -0.21627647714605025,
          "0-150ms": 1.9296066252588018,
          "150-450ms": 0.5169082125603877,
          "photo_id": 0
         },
         {
          "-300-0ms": 0.11817168338907662,
          "0-150ms": 0.23947550034506546,
          "150-450ms": 0.4188034188034227,
          "photo_id": 0
         },
         {
          "-300-0ms": -0.20847268673356542,
          "0-150ms": 2.5928226363008995,
          "150-450ms": -0.19286510590858497,
          "photo_id": 0
         },
         {
          "-300-0ms": 0.04347826086956844,
          "0-150ms": 0.8274672187715674,
          "150-450ms": -0.3403939056112965,
          "photo_id": 0
         },
         {
          "-300-0ms": -0.6243032329988948,
          "0-150ms": 2.4768806073153957,
          "150-450ms": 0.47305834262354995,
          "photo_id": 0
         },
         {
          "-300-0ms": 0.6187290969899518,
          "0-150ms": 2.55348516218081,
          "150-450ms": 2.694537346711266,
          "photo_id": 0
         },
         {
          "-300-0ms": 0.2519509476031158,
          "0-150ms": -0.825396825396829,
          "150-450ms": 0.09810479375696464,
          "photo_id": 0
         },
         {
          "-300-0ms": 0.2597547380156085,
          "0-150ms": -1.4237405106970338,
          "150-450ms": 0.20884429580081484,
          "photo_id": 0
         },
         {
          "-300-0ms": 0.057971014492757815,
          "0-150ms": 0.7681159420289858,
          "150-450ms": 0.09476031215161547,
          "photo_id": 0
         },
         {
          "-300-0ms": -0.49386845039024996,
          "0-150ms": 52.48654244306429,
          "150-450ms": 1.6425120772946782,
          "photo_id": 0
         },
         {
          "-300-0ms": -0.3010033444816016,
          "0-150ms": 0.015873015873013114,
          "150-450ms": 2.5930880713489386,
          "photo_id": 0
         },
         {
          "-300-0ms": -0.438127090301006,
          "0-150ms": 0.0531400966183578,
          "150-450ms": -0.3745819397993317,
          "photo_id": 0
         },
         {
          "-300-0ms": 0.1806020066889765,
          "0-150ms": 1.506556245686679,
          "150-450ms": 0.12225938312894254,
          "photo_id": 0
         },
         {
          "-300-0ms": -0.05462653288735512,
          "0-150ms": -4.5804002760524725,
          "150-450ms": -2.316610925306598,
          "photo_id": 0
         },
         {
          "-300-0ms": -0.25752508361204923,
          "0-150ms": -1.1249137336093868,
          "150-450ms": -0.6737272389446313,
          "photo_id": 0
         },
         {
          "-300-0ms": 0.3723522853957663,
          "0-150ms": 0.21601104209799651,
          "150-450ms": 0.6674098848011857,
          "photo_id": 0
         },
         {
          "-300-0ms": -1.860646599776995,
          "0-150ms": 11.079365079365099,
          "150-450ms": -2.4002229654403697,
          "photo_id": 0
         },
         {
          "-300-0ms": -0.28428093645484837,
          "0-150ms": -0.6501035196687379,
          "150-450ms": -0.5180230397621716,
          "photo_id": 0
         },
         {
          "-300-0ms": 0.0780379041248588,
          "0-150ms": 2.5859213250517628,
          "150-450ms": 1.3359345968041572,
          "photo_id": 0
         },
         {
          "-300-0ms": 0.3957636566332241,
          "0-150ms": 0.180124223602484,
          "150-450ms": -0.26941657376440203,
          "photo_id": 0
         },
         {
          "-300-0ms": 1.3177257525083532,
          "0-150ms": -0.07039337474119955,
          "150-450ms": 0.9628390932738743,
          "photo_id": 0
         },
         {
          "-300-0ms": 0.2185061315496124,
          "0-150ms": 1.4237405106970338,
          "150-450ms": -0.09067261241174546,
          "photo_id": 0
         },
         {
          "-300-0ms": -0.9152731326644364,
          "0-150ms": -0.6093857832988272,
          "150-450ms": -0.5020438498699378,
          "photo_id": 0
         },
         {
          "-300-0ms": 0.02675585284282452,
          "0-150ms": 8.535541752933076,
          "150-450ms": 0.16499442586398724,
          "photo_id": 0
         },
         {
          "-300-0ms": -1.9083490269930747,
          "0-150ms": 3.964387464387467,
          "150-450ms": -2.2150537634408387,
          "photo_id": 0
         },
         {
          "-300-0ms": 1.2944130571249255,
          "0-150ms": 3.6196581196581206,
          "150-450ms": 0.9462365591397862,
          "photo_id": 0
         },
         {
          "-300-0ms": -0.14814814814814628,
          "0-150ms": 2.658119658119659,
          "150-450ms": -0.9534050179211446,
          "photo_id": 0
         },
         {
          "-300-0ms": -0.08411801632139453,
          "0-150ms": 11.22222222222222,
          "150-450ms": 0.7694145758661987,
          "photo_id": 0
         },
         {
          "-300-0ms": 0.06026365348399374,
          "0-150ms": 0.5997150997151005,
          "150-450ms": 0.3464755077658311,
          "photo_id": 0
         },
         {
          "-300-0ms": -1.119899560577525,
          "0-150ms": -0.8105413105413136,
          "150-450ms": -3.18279569892473,
          "photo_id": 0
         },
         {
          "-300-0ms": -0.1155053358443181,
          "0-150ms": 0.3974358974358972,
          "150-450ms": -0.013142174432497456,
          "photo_id": 0
         },
         {
          "-300-0ms": -1.5317011927181408,
          "0-150ms": 3.6623931623931676,
          "150-450ms": -0.5758661887694146,
          "photo_id": 0
         },
         {
          "-300-0ms": -0.6290018832391722,
          "0-150ms": -1.2564102564102586,
          "150-450ms": 0.8387096774193594,
          "photo_id": 0
         },
         {
          "-300-0ms": 0.7319522912743217,
          "0-150ms": 1.7920227920227971,
          "150-450ms": -0.7156511350059728,
          "photo_id": 0
         },
         {
          "-300-0ms": -2.4745762711864274,
          "0-150ms": 7.810541310541314,
          "150-450ms": -0.5890083632019089,
          "photo_id": 0
         },
         {
          "-300-0ms": -0.11927181418707004,
          "0-150ms": -2.20797720797721,
          "150-450ms": 1.8470728793309439,
          "photo_id": 0
         },
         {
          "-300-0ms": 0.3640929064657919,
          "0-150ms": 0.4045584045584036,
          "150-450ms": -0.16965352449223228,
          "photo_id": 0
         },
         {
          "-300-0ms": 1.2981795354676706,
          "0-150ms": -0.45014245014245,
          "150-450ms": -0.38590203106332005,
          "photo_id": 0
         },
         {
          "-300-0ms": -8.527306967984929,
          "0-150ms": 3.410256410256407,
          "150-450ms": -11.750298685782539,
          "photo_id": 0
         },
         {
          "-300-0ms": 3.3270558694287673,
          "0-150ms": 44.192307692307715,
          "150-450ms": -2.6117084826762116,
          "photo_id": 0
         },
         {
          "-300-0ms": -1.529190207156309,
          "0-150ms": -1.1652421652421658,
          "150-450ms": 0.9976105137395472,
          "photo_id": 0
         },
         {
          "-300-0ms": 1.1776522284996904,
          "0-150ms": 0.18518518518518604,
          "150-450ms": 1.1397849462365601,
          "photo_id": 0
         },
         {
          "-300-0ms": -0.37162586315128715,
          "0-150ms": 0.44586894586894604,
          "150-450ms": 0.18518518518518756,
          "photo_id": 0
         },
         {
          "-300-0ms": -10.34526051475203,
          "0-150ms": 5.168091168091178,
          "150-450ms": -7.434886499402611,
          "photo_id": 0
         },
         {
          "-300-0ms": -2.7696170747018165,
          "0-150ms": 7.5256410256410255,
          "150-450ms": -3.2270011947431225,
          "photo_id": 0
         },
         {
          "-300-0ms": -4.085373509102331,
          "0-150ms": 3.800569800569796,
          "150-450ms": -4.126642771804062,
          "photo_id": 0
         },
         {
          "-300-0ms": 1.5950062421972564,
          "0-150ms": 5.905982905982899,
          "150-450ms": 1.5939736346516016,
          "photo_id": 0
         },
         {
          "-300-0ms": 0.9982521847690368,
          "0-150ms": 3.1658119658119612,
          "150-450ms": 1.7943502824858737,
          "photo_id": 0
         },
         {
          "-300-0ms": 1.3568039950062432,
          "0-150ms": 4.218803418803415,
          "150-450ms": 2.563841807909601,
          "photo_id": 0
         },
         {
          "-300-0ms": -1.1550561797752819,
          "0-150ms": 2.6290598290598264,
          "150-450ms": 0.024858757062146946,
          "photo_id": 0
         },
         {
          "-300-0ms": -3.792759051186005,
          "0-150ms": 18.304273504273493,
          "150-450ms": 2.255367231638423,
          "photo_id": 0
         },
         {
          "-300-0ms": -0.0259675405742813,
          "0-150ms": 1.0410256410256418,
          "150-450ms": -0.04670433145009362,
          "photo_id": 0
         },
         {
          "-300-0ms": 0.3690387016229706,
          "0-150ms": -0.8683760683760674,
          "150-450ms": -0.9047080979284355,
          "photo_id": 0
         },
         {
          "-300-0ms": 0.5912609238451912,
          "0-150ms": -0.10940170940170824,
          "150-450ms": -0.12278719397363524,
          "photo_id": 0
         },
         {
          "-300-0ms": 0.4019975031210992,
          "0-150ms": -0.9811965811965807,
          "150-450ms": 1.1450094161958568,
          "photo_id": 0
         },
         {
          "-300-0ms": -0.20224719101123625,
          "0-150ms": -0.16923076923076927,
          "150-450ms": 0.2787193973634647,
          "photo_id": 0
         },
         {
          "-300-0ms": -0.8684144818976259,
          "0-150ms": 5.796581196581194,
          "150-450ms": 0.5013182674199618,
          "photo_id": 0
         },
         {
          "-300-0ms": -0.1887640449438204,
          "0-150ms": -0.11111111111111044,
          "150-450ms": 0.1694915254237285,
          "photo_id": 0
         },
         {
          "-300-0ms": -0.760049937578028,
          "0-150ms": -0.8683760683760688,
          "150-450ms": 0.1378531073446323,
          "photo_id": 0
         },
         {
          "-300-0ms": 1.2774032459425764,
          "0-150ms": 5.348717948717944,
          "150-450ms": -0.4056497175141253,
          "photo_id": 0
         },
         {
          "-300-0ms": 2.9258426966292164,
          "0-150ms": 4.189743589743586,
          "150-450ms": 0.2983050847457618,
          "photo_id": 0
         },
         {
          "-300-0ms": -5.081148564294632,
          "0-150ms": 6.437606837606826,
          "150-450ms": -2.2256120527306984,
          "photo_id": 0
         },
         {
          "-300-0ms": -0.3390761548064897,
          "0-150ms": -0.8923076923076936,
          "150-450ms": 1.323540489642185,
          "photo_id": 0
         },
         {
          "-300-0ms": 0.21523096129837846,
          "0-150ms": 1.4239316239316222,
          "150-450ms": 0.578907721280603,
          "photo_id": 0
         },
         {
          "-300-0ms": -1.8616729088639243,
          "0-150ms": 2.3230769230769215,
          "150-450ms": 4.41468926553672,
          "photo_id": 0
         },
         {
          "-300-0ms": 0.05742821473158546,
          "0-150ms": -0.41880341880341887,
          "150-450ms": 0.8271186440677963,
          "photo_id": 0
         },
         {
          "-300-0ms": -1.2933832709113593,
          "0-150ms": -0.9299145299145293,
          "150-450ms": 1.1487758945386048,
          "photo_id": 0
         },
         {
          "-300-0ms": 0.8409488139825232,
          "0-150ms": 1.8427350427350409,
          "150-450ms": 0.67909604519774,
          "photo_id": 0
         },
         {
          "-300-0ms": 0.3510611735330847,
          "0-150ms": 10.941880341880326,
          "150-450ms": -0.3013182674199656,
          "photo_id": 0
         },
         {
          "-300-0ms": -1.1831831831831952,
          "0-150ms": -8.944444444444455,
          "150-450ms": 2.4222222222222087,
          "photo_id": 0
         },
         {
          "-300-0ms": 2.8108108108108065,
          "0-150ms": -0.18627450980391505,
          "150-450ms": 7.422222222222221,
          "photo_id": 0
         },
         {
          "-300-0ms": 1.5135135135135196,
          "0-150ms": 0.33333333333333753,
          "150-450ms": 4.93333333333334,
          "photo_id": 0
         },
         {
          "-300-0ms": 0.40240240240241265,
          "0-150ms": 5.091503267973855,
          "150-450ms": 5.033333333333345,
          "photo_id": 0
         },
         {
          "-300-0ms": 6.858858858858852,
          "0-150ms": -8.93464052287581,
          "150-450ms": -6.533333333333361,
          "photo_id": 0
         },
         {
          "-300-0ms": 6.498498498498538,
          "0-150ms": 13.64052287581699,
          "150-450ms": 4.244444444444448,
          "photo_id": 0
         },
         {
          "-300-0ms": 4.624624624624631,
          "0-150ms": 2.055555555555545,
          "150-450ms": -0.3111111111111035,
          "photo_id": 0
         },
         {
          "-300-0ms": -3.765765765765749,
          "0-150ms": 8.950980392156863,
          "150-450ms": 0.288888888888893,
          "photo_id": 0
         },
         {
          "-300-0ms": 2.1081081081081106,
          "0-150ms": -0.24183006535949092,
          "150-450ms": 2.0555555555555522,
          "photo_id": 0
         },
         {
          "-300-0ms": -9.897897897897888,
          "0-150ms": -6.947712418300662,
          "150-450ms": 0.09999999999999236,
          "photo_id": 0
         },
         {
          "-300-0ms": -2.4324324324324347,
          "0-150ms": -4.019607843137247,
          "150-450ms": 1.711111111111115,
          "photo_id": 0
         },
         {
          "-300-0ms": 1.4054054054054106,
          "0-150ms": 2.235294117647063,
          "150-450ms": 2.099999999999992,
          "photo_id": 0
         },
         {
          "-300-0ms": -0.37237237237237525,
          "0-150ms": 0.6209150326797374,
          "150-450ms": 0.5111111111111076,
          "photo_id": 0
         },
         {
          "-300-0ms": -8.204204204204197,
          "0-150ms": -4.287581699346396,
          "150-450ms": -0.16666666666667626,
          "photo_id": 0
         },
         {
          "-300-0ms": 0.23423423423423242,
          "0-150ms": 0.12745098039215538,
          "150-450ms": 2.811111111111105,
          "photo_id": 0
         },
         {
          "-300-0ms": 0.46846846846846996,
          "0-150ms": 0.4215686274509796,
          "150-450ms": 0.5222222222222223,
          "photo_id": 0
         },
         {
          "-300-0ms": -20.81081081081079,
          "0-150ms": 0.39215686274511175,
          "150-450ms": -7.833333333333333,
          "photo_id": 0
         },
         {
          "-300-0ms": 1.927927927927933,
          "0-150ms": 1.6437908496732139,
          "150-450ms": 3.366666666666669,
          "photo_id": 0
         },
         {
          "-300-0ms": 4.5285285285285175,
          "0-150ms": 0.16993464052288618,
          "150-450ms": -3.799999999999992,
          "photo_id": 0
         },
         {
          "-300-0ms": 2.1261261261261475,
          "0-150ms": 9.078431372549026,
          "150-450ms": 3.6000000000000014,
          "photo_id": 0
         },
         {
          "-300-0ms": 5.069069069069093,
          "0-150ms": 3.5196078431372655,
          "150-450ms": 9.611111111111105,
          "photo_id": 0
         },
         {
          "-300-0ms": 0.79879879879879,
          "0-150ms": 2.604575163398706,
          "150-450ms": -0.18888888888888675,
          "photo_id": 0
         },
         {
          "-300-0ms": 2.4622222222222248,
          "0-150ms": -1.4525252525252552,
          "150-450ms": 0.2814814814814808,
          "photo_id": 0
         },
         {
          "-300-0ms": 0.2755555555555591,
          "0-150ms": 0.6181818181818242,
          "150-450ms": 3.251851851851852,
          "photo_id": 0
         },
         {
          "-300-0ms": 0.5777777777777863,
          "0-150ms": 6.943434343434352,
          "150-450ms": 0.8666666666666694,
          "photo_id": 0
         },
         {
          "-300-0ms": 0.6577777777777856,
          "0-150ms": 3.0222222222222235,
          "150-450ms": 0.3111111111111113,
          "photo_id": 0
         },
         {
          "-300-0ms": -0.204444444444442,
          "0-150ms": -2.644444444444447,
          "150-450ms": 1.629629629629636,
          "photo_id": 0
         },
         {
          "-300-0ms": 1.182222222222223,
          "0-150ms": 0.177777777777777,
          "150-450ms": -0.05185185185185117,
          "photo_id": 0
         },
         {
          "-300-0ms": 3.7955555555555787,
          "0-150ms": -1.1676767676767772,
          "150-450ms": -3.0444444444444465,
          "photo_id": 0
         },
         {
          "-300-0ms": 0.12444444444444469,
          "0-150ms": -8.944346396713947e-17,
          "150-450ms": 1.0814814814814822,
          "photo_id": 0
         },
         {
          "-300-0ms": 0.14222222222222233,
          "0-150ms": -0.0181818181818183,
          "150-450ms": -0.08148148148148242,
          "photo_id": 0
         },
         {
          "-300-0ms": -0.6400000000000007,
          "0-150ms": -0.7333333333333337,
          "150-450ms": 1.4666666666666661,
          "photo_id": 0
         },
         {
          "-300-0ms": 2.035555555555558,
          "0-150ms": -0.37979797979798063,
          "150-450ms": 1.2222222222222237,
          "photo_id": 0
         },
         {
          "-300-0ms": -0.6222222222222197,
          "0-150ms": -2.254545454545462,
          "150-450ms": -4.48148148148148,
          "photo_id": 0
         },
         {
          "-300-0ms": -1.3333333333333302,
          "0-150ms": 1.6969696969696952,
          "150-450ms": 0.177777777777778,
          "photo_id": 0
         },
         {
          "-300-0ms": 0.648888888888891,
          "0-150ms": 1.4808080808080806,
          "150-450ms": 1.0518518518518498,
          "photo_id": 0
         },
         {
          "-300-0ms": 2.8266666666666738,
          "0-150ms": 4.323232323232323,
          "150-450ms": -2.5037037037037035,
          "photo_id": 0
         },
         {
          "-300-0ms": 0.6044444444444487,
          "0-150ms": 1.6343434343434344,
          "150-450ms": 1.1555555555555574,
          "photo_id": 0
         },
         {
          "-300-0ms": -0.11555555555554993,
          "0-150ms": 0.626262626262625,
          "150-450ms": -3.9481481481481553,
          "photo_id": 0
         },
         {
          "-300-0ms": 0.1422222222222184,
          "0-150ms": 1.8505050505050342,
          "150-450ms": -4.5777777777777935,
          "photo_id": 0
         },
         {
          "-300-0ms": -0.7111111111111087,
          "0-150ms": -0.4787878787878765,
          "150-450ms": 1.5703703703703733,
          "photo_id": 0
         },
         {
          "-300-0ms": -0.6133333333333183,
          "0-150ms": -3.4686868686868824,
          "150-450ms": -0.14074074074074044,
          "photo_id": 0
         },
         {
          "-300-0ms": -0.9569892473118286,
          "0-150ms": 1.136044176706828,
          "150-450ms": 0.9828767123287675,
          "photo_id": 0
         },
         {
          "-300-0ms": -0.1845878136200734,
          "0-150ms": 3.127008032128513,
          "150-450ms": 0.15525114155250969,
          "photo_id": 0
         },
         {
          "-300-0ms": 0.2517921146953422,
          "0-150ms": 15.178212851405627,
          "150-450ms": 3.8224885844748875,
          "photo_id": 0
         },
         {
          "-300-0ms": 0.23655913978494492,
          "0-150ms": -0.08132530120481957,
          "150-450ms": 0.16780821917808109,
          "photo_id": 0
         },
         {
          "-300-0ms": 0.19265232974910362,
          "0-150ms": -1.1305220883534137,
          "150-450ms": 0.2985159817351593,
          "photo_id": 0
         },
         {
          "-300-0ms": 0.9390681003584215,
          "0-150ms": -1.1490963855421665,
          "150-450ms": -0.06906392694063848,
          "photo_id": 0
         },
         {
          "-300-0ms": 0.2320788530465959,
          "0-150ms": 12.644578313253014,
          "150-450ms": 3.5861872146118725,
          "photo_id": 0
         },
         {
          "-300-0ms": 1.3198924731182753,
          "0-150ms": 4.906626506024099,
          "150-450ms": -3.2762557077625583,
          "photo_id": 0
         },
         {
          "-300-0ms": -2.322580645161296,
          "0-150ms": 3.5321285140562266,
          "150-450ms": 3.4355022831050257,
          "photo_id": 0
         },
         {
          "-300-0ms": -0.5313620071684608,
          "0-150ms": 4.830321285140561,
          "150-450ms": 0.27168949771689593,
          "photo_id": 0
         }
        ]
       },
       "facet": {
        "column": {
         "field": "photo_id",
         "type": "nominal"
        }
       },
       "spec": {
        "encoding": {
         "color": {
          "field": "photo_id",
          "type": "nominal"
         },
         "x": {
          "field": "0-150ms",
          "type": "quantitative"
         },
         "y": {
          "field": "150-450ms",
          "type": "quantitative"
         }
        },
        "mark": "point",
        "selection": {
         "selector031": {
          "bind": "scales",
          "encodings": [
           "x",
           "y"
          ],
          "mark": {
           "fill": "#333",
           "fillOpacity": 0.125,
           "stroke": "white"
          },
          "on": "[mousedown, window:mouseup] > window:mousemove!",
          "resolve": "global",
          "translate": "[mousedown, window:mouseup] > window:mousemove!",
          "type": "interval",
          "zoom": "wheel!"
         }
        }
       }
      },
      "text/plain": [
       "<VegaLite 2 object>"
      ]
     },
     "execution_count": 62,
     "metadata": {},
     "output_type": "execute_result"
    }
   ],
   "source": [
    "chart = alt.Chart(data).mark_point().encode(\n",
    "    x='0-150ms',\n",
    "    y='150-450ms',\n",
    "    color='photo_id:N',\n",
    ").facet(column='photo_id:N').interactive()\n",
    "chart.savechart('chart.html')\n",
    "chart"
   ]
  },
  {
   "cell_type": "markdown",
   "metadata": {},
   "source": [
    "## Restricted model"
   ]
  },
  {
   "cell_type": "code",
   "execution_count": 14,
   "metadata": {},
   "outputs": [],
   "source": [
    "def regress_unit(uni_id, unit_key_df):\n",
    "    form = '~ C(trial_type) + C(resp) + C(block)'\n",
    "    coef, pVals, tvals, models = multi_regress(uni_id, unit_key_df, ['spike_counts(stim_aligned)'], \n",
    "                                               factors = ['trial_type', 'resp', 'block'],\n",
    "                                               categorical = [0,1,2], formula = form)\n",
    "    if uni_id in list(unit_key_df.loc[list(range(0, unit_key_df.shape[0], 50)), 'uni_id']):\n",
    "        print(unit_key_df[unit_key_df['uni_id'] == uni_id].index)\n",
    "    return coef, pVals"
   ]
  },
  {
   "cell_type": "code",
   "execution_count": 15,
   "metadata": {},
   "outputs": [
    {
     "name": "stdout",
     "output_type": "stream",
     "text": [
      "Int64Index([0], dtype='int64')\n",
      "Int64Index([50], dtype='int64')\n"
     ]
    },
    {
     "name": "stderr",
     "output_type": "stream",
     "text": [
      "C:\\Users\\efink\\Anaconda3\\envs\\Claustrum_analysis\\lib\\site-packages\\statsmodels\\base\\model.py:1036: RuntimeWarning: invalid value encountered in true_divide\n",
      "  return self.params / self.bse\n",
      "C:\\Users\\efink\\Anaconda3\\envs\\Claustrum_analysis\\lib\\site-packages\\scipy\\stats\\_distn_infrastructure.py:879: RuntimeWarning: invalid value encountered in greater\n",
      "  return (self.a < x) & (x < self.b)\n",
      "C:\\Users\\efink\\Anaconda3\\envs\\Claustrum_analysis\\lib\\site-packages\\scipy\\stats\\_distn_infrastructure.py:879: RuntimeWarning: invalid value encountered in less\n",
      "  return (self.a < x) & (x < self.b)\n",
      "C:\\Users\\efink\\Anaconda3\\envs\\Claustrum_analysis\\lib\\site-packages\\scipy\\stats\\_distn_infrastructure.py:1821: RuntimeWarning: invalid value encountered in less_equal\n",
      "  cond2 = cond0 & (x <= self.a)\n"
     ]
    },
    {
     "name": "stdout",
     "output_type": "stream",
     "text": [
      "Int64Index([100], dtype='int64')\n",
      "Int64Index([150], dtype='int64')\n",
      "Int64Index([200], dtype='int64')\n",
      "Int64Index([250], dtype='int64')\n",
      "Int64Index([300], dtype='int64')\n",
      "Int64Index([350], dtype='int64')\n",
      "Int64Index([400], dtype='int64')\n",
      "Int64Index([450], dtype='int64')\n",
      "Int64Index([500], dtype='int64')\n",
      "Int64Index([550], dtype='int64')\n",
      "Int64Index([600], dtype='int64')\n"
     ]
    }
   ],
   "source": [
    "regress_results = [regress_unit(uni_id, unit_key_df) for uni_id in unit_key_df['uni_id']]"
   ]
  },
  {
   "cell_type": "code",
   "execution_count": 17,
   "metadata": {},
   "outputs": [],
   "source": [
    "all_trial_type_coef = pd.concat([regress_results[i][0].iloc[1,:] for i in range(len(regress_results))], axis = 1).T\n",
    "all_resp_coef = pd.concat([regress_results[i][0].iloc[2,:] for i in range(len(regress_results))], axis = 1).T\n",
    "all_block_coef = pd.concat([regress_results[i][0].iloc[3,:] for i in range(len(regress_results))], axis = 1).T\n",
    "\n",
    "all_trial_type_pVals = pd.concat([regress_results[i][1].iloc[1,:] for i in range(len(regress_results))], axis = 1).T\n",
    "all_resp_pVals = pd.concat([regress_results[i][1].iloc[2,:] for i in range(len(regress_results))], axis = 1).T\n",
    "all_block_pVals = pd.concat([regress_results[i][1].iloc[3,:] for i in range(len(regress_results))], axis = 1).T\n",
    "\n",
    "for df in [all_trial_type_coef, all_resp_coef, all_block_coef, \n",
    "          all_trial_type_pVals, all_resp_pVals, all_block_pVals]:\n",
    "    df.index = unit_key_df['uni_id']\n",
    "    "
   ]
  },
  {
   "cell_type": "code",
   "execution_count": 19,
   "metadata": {},
   "outputs": [],
   "source": [
    "import pickle\n",
    "\n",
    "labels = ['trial_type', 'lick', 'block']\n",
    "    \n",
    "coefs = [all_trial_type_coef, all_resp_coef, all_block_coef]\n",
    "pVals = [all_trial_type_pVals, all_resp_pVals, all_block_pVals]\n",
    "\n",
    "with open(\"coefs_restr.txt\", \"wb\") as fp:   #Pickling\n",
    "    pickle.dump({labels[i]:coefs[i] for i in range(len(labels))}, fp)\n",
    "\n",
    "with open(\"pVals_restr.txt\", \"wb\") as fp:   #Pickling\n",
    "    pickle.dump({labels[i]:pVals[i] for i in range(len(labels))}, fp)\n"
   ]
  },
  {
   "cell_type": "code",
   "execution_count": 22,
   "metadata": {},
   "outputs": [],
   "source": [
    "import pickle\n",
    "with open(\"coefs_restr.txt\", \"rb\") as fp:   #Pickling\n",
    "    coefs = pickle.load(fp)\n",
    "with open(\"pVals_restr.txt\", \"rb\") as fp:   #Pickling\n",
    "    pVals = pickle.load(fp)"
   ]
  },
  {
   "cell_type": "code",
   "execution_count": 23,
   "metadata": {},
   "outputs": [
    {
     "data": {
      "image/png": "[encoded data removed]",
      "text/plain": [
       "<Figure size 576x576 with 5 Axes>"
      ]
     },
     "metadata": {},
     "output_type": "display_data"
    },
    {
     "data": {
      "image/png": "[encoded data removed]",
      "text/plain": [
       "<Figure size 576x576 with 5 Axes>"
      ]
     },
     "metadata": {},
     "output_type": "display_data"
    }
   ],
   "source": [
    "titles = ['β$1$: touch stimulus', 'β$2$: lick','β$3$: block']\n",
    "for i in range(33,35):\n",
    "    plot_regress(i, unit_key_df, log_df,list(coefs.values()),list(pVals.values()), titles)"
   ]
  },
  {
   "cell_type": "markdown",
   "metadata": {},
   "source": [
    "### Will take three time points of interest:\n",
    "*  pre-stimulus: -300-0 ms\n",
    "*  stimulus: 0-150 ms\n",
    "*  lick-period: 150-450 ms"
   ]
  },
  {
   "cell_type": "code",
   "execution_count": 24,
   "metadata": {},
   "outputs": [
    {
     "data": {
      "text/html": [
       "<div>\n",
       "<style scoped>\n",
       "    .dataframe tbody tr th:only-of-type {\n",
       "        vertical-align: middle;\n",
       "    }\n",
       "\n",
       "    .dataframe tbody tr th {\n",
       "        vertical-align: top;\n",
       "    }\n",
       "\n",
       "    .dataframe thead th {\n",
       "        text-align: right;\n",
       "    }\n",
       "</style>\n",
       "<table border=\"1\" class=\"dataframe\">\n",
       "  <thead>\n",
       "    <tr style=\"text-align: right;\">\n",
       "      <th></th>\n",
       "      <th>-300-0ms</th>\n",
       "      <th>0-150ms</th>\n",
       "      <th>150-450ms</th>\n",
       "    </tr>\n",
       "    <tr>\n",
       "      <th>uni_id</th>\n",
       "      <th></th>\n",
       "      <th></th>\n",
       "      <th></th>\n",
       "    </tr>\n",
       "  </thead>\n",
       "  <tbody>\n",
       "    <tr>\n",
       "      <th>Cl405-19-171t1</th>\n",
       "      <td>0.010125</td>\n",
       "      <td>0.723415</td>\n",
       "      <td>-1.591277</td>\n",
       "    </tr>\n",
       "    <tr>\n",
       "      <th>Cl405-19-171t2</th>\n",
       "      <td>-1.921031</td>\n",
       "      <td>-1.727659</td>\n",
       "      <td>-1.122677</td>\n",
       "    </tr>\n",
       "    <tr>\n",
       "      <th>Cl405-19-171t3</th>\n",
       "      <td>1.008025</td>\n",
       "      <td>-3.118156</td>\n",
       "      <td>-1.303842</td>\n",
       "    </tr>\n",
       "    <tr>\n",
       "      <th>Cl405-19-171t4</th>\n",
       "      <td>1.917250</td>\n",
       "      <td>0.753489</td>\n",
       "      <td>0.837803</td>\n",
       "    </tr>\n",
       "    <tr>\n",
       "      <th>Cl405-19-171t5</th>\n",
       "      <td>-0.931558</td>\n",
       "      <td>-1.057635</td>\n",
       "      <td>0.244840</td>\n",
       "    </tr>\n",
       "  </tbody>\n",
       "</table>\n",
       "</div>"
      ],
      "text/plain": [
       "                -300-0ms   0-150ms  150-450ms\n",
       "uni_id                                       \n",
       "Cl405-19-171t1  0.010125  0.723415  -1.591277\n",
       "Cl405-19-171t2 -1.921031 -1.727659  -1.122677\n",
       "Cl405-19-171t3  1.008025 -3.118156  -1.303842\n",
       "Cl405-19-171t4  1.917250  0.753489   0.837803\n",
       "Cl405-19-171t5 -0.931558 -1.057635   0.244840"
      ]
     },
     "execution_count": 24,
     "metadata": {},
     "output_type": "execute_result"
    }
   ],
   "source": [
    "b1_stim_period = coefs['trial_type'].iloc[:, 40:46].mean(axis = 1)\n",
    "b2_lick_period = coefs['lick'].iloc[:, 46:58].mean(axis = 1)\n",
    "b3_pre_stim_period = coefs['block'].iloc[:, 28:40].mean(axis = 1)\n",
    "\n",
    "data = pd.concat((b1_stim_period,b2_lick_period,b3_pre_stim_period), axis = 1)\n",
    "data.columns = ['-300-0ms', '0-150ms', '150-450ms']\n",
    "data.head()"
   ]
  },
  {
   "cell_type": "code",
   "execution_count": 25,
   "metadata": {},
   "outputs": [
    {
     "data": {
      "text/plain": [
       "Index(['Cl405-19-171t1', 'Cl405-19-171t2', 'Cl405-19-171t3', 'Cl405-19-171t4',\n",
       "       'Cl405-19-171t5', 'Cl405-19-172t1', 'Cl405-19-172t2', 'Cl405-19-172t3',\n",
       "       'Cl405-19-173t1', 'Cl405-19-173t2',\n",
       "       ...\n",
       "       'Cl611-07-173t1', 'Cl611-07-174t1', 'Cl611-07-176t1', 'Cl611-07-176t2',\n",
       "       'Cl611-07-176t3', 'Cl611-07-176t4', 'Cl611-07-177t1', 'Cl611-07-177t2',\n",
       "       'Cl611-07-177t3', 'Cl611-07-178t1'],\n",
       "      dtype='object', name='uni_id', length=629)"
      ]
     },
     "execution_count": 25,
     "metadata": {},
     "output_type": "execute_result"
    }
   ],
   "source": [
    "data.index"
   ]
  },
  {
   "cell_type": "code",
   "execution_count": 26,
   "metadata": {},
   "outputs": [],
   "source": [
    "id_units = pd.read_csv('identified_units.csv')\n",
    "data['photo_id'] = 0\n",
    "data.loc[data.index.isin(id_units['uni_id']), 'photo_id'] = 1"
   ]
  },
  {
   "cell_type": "code",
   "execution_count": 43,
   "metadata": {},
   "outputs": [
    {
     "data": {
      "application/vnd.vegalite.v2+json": {
       "$schema": "https://vega.github.io/schema/vega-lite/v2.json",
       "config": {
        "view": {
         "height": 300,
         "width": 400
        }
       },
       "repeat": {
        "column": [
         "150-450ms",
         "0-150ms",
         "-300-0ms"
        ],
        "row": [
         "-300-0ms",
         "0-150ms",
         "150-450ms"
        ]
       },
       "spec": {
        "data": {
         "values": [
          {
           "-300-0ms": 0.010125301474719335,
           "0-150ms": 0.7234154707964063,
           "150-450ms": -1.5912771937298995,
           "photo_id": 0
          },
          {
           "-300-0ms": -1.921031260160511,
           "0-150ms": -1.7276585593247642,
           "150-450ms": -1.122677293771323,
           "photo_id": 0
          },
          {
           "-300-0ms": 1.0080254105073152,
           "0-150ms": -3.118156401070977,
           "150-450ms": -1.303842110615112,
           "photo_id": 0
          },
          {
           "-300-0ms": 1.9172503569069799,
           "0-150ms": 0.7534886901514691,
           "150-450ms": 0.837803293790973,
           "photo_id": 0
          },
          {
           "-300-0ms": -0.9315576707805793,
           "0-150ms": -1.0576346740182145,
           "150-450ms": 0.2448398030227432,
           "photo_id": 0
          },
          {
           "-300-0ms": -0.15106205253178454,
           "0-150ms": 0.9525758041841131,
           "150-450ms": 0.2376488868095102,
           "photo_id": 0
          },
          {
           "-300-0ms": 0.08794622151035326,
           "0-150ms": 0.22900420265485466,
           "150-450ms": -0.2695516944706701,
           "photo_id": 0
          },
          {
           "-300-0ms": 1.4340011238433432,
           "0-150ms": 2.9835709999896793,
           "150-450ms": 0.40447805073936705,
           "photo_id": 0
          },
          {
           "-300-0ms": -0.6976385067049473,
           "0-150ms": -2.530622833584103,
           "150-450ms": -1.3148774535127121,
           "photo_id": 0
          },
          {
           "-300-0ms": 0.3630779404121843,
           "0-150ms": 0.7329539342337773,
           "150-450ms": 0.5565888605723114,
           "photo_id": 0
          },
          {
           "-300-0ms": 0.2654483503965211,
           "0-150ms": 3.0279918959566348,
           "150-450ms": -0.2727360946199057,
           "photo_id": 0
          },
          {
           "-300-0ms": -0.05284369146538361,
           "0-150ms": -1.3860174359226443,
           "150-450ms": 1.0492255514860596,
           "photo_id": 0
          },
          {
           "-300-0ms": -0.08911936556301503,
           "0-150ms": -0.1517972892484266,
           "150-450ms": -0.11076390170914198,
           "photo_id": 0
          },
          {
           "-300-0ms": 0.2686651684216838,
           "0-150ms": -2.360088366731724,
           "150-450ms": -1.194322040952857,
           "photo_id": 0
          },
          {
           "-300-0ms": 4.988539926178748,
           "0-150ms": 8.96315213620502,
           "150-450ms": -0.06875597394241252,
           "photo_id": 0
          },
          {
           "-300-0ms": 0.06301297342823126,
           "0-150ms": -2.26036888776289,
           "150-450ms": 0.613329116881374,
           "photo_id": 0
          },
          {
           "-300-0ms": 0.2977931619633611,
           "0-150ms": 4.128566990494295,
           "150-450ms": 0.9686593622878862,
           "photo_id": 0
          },
          {
           "-300-0ms": 1.7476235728464584,
           "0-150ms": 2.7786100612247435,
           "150-450ms": -0.4856215547804821,
           "photo_id": 0
          },
          {
           "-300-0ms": -1.0084293216353748,
           "0-150ms": 0.2691105063321099,
           "150-450ms": -0.4968541005119432,
           "photo_id": 0
          },
          {
           "-300-0ms": 1.1889218399691193,
           "0-150ms": -1.0048277098072311,
           "150-450ms": -0.958836001051417,
           "photo_id": 0
          },
          {
           "-300-0ms": 0.06378419256842545,
           "0-150ms": -0.387906096408563,
           "150-450ms": -0.41926588691389277,
           "photo_id": 0
          },
          {
           "-300-0ms": 10.66987454672165,
           "0-150ms": 23.183034945228858,
           "150-450ms": 1.9650760874858406,
           "photo_id": 0
          },
          {
           "-300-0ms": 7.424585681634247,
           "0-150ms": 11.647387411812472,
           "150-450ms": 0.948518639622495,
           "photo_id": 0
          },
          {
           "-300-0ms": 0.37012432397290196,
           "0-150ms": -0.06301256554467057,
           "150-450ms": -0.3341357289647087,
           "photo_id": 0
          },
          {
           "-300-0ms": -0.20209417350394765,
           "0-150ms": 0.0143042281458031,
           "150-450ms": 0.5549401242895686,
           "photo_id": 1
          },
          {
           "-300-0ms": -3.173594322104373,
           "0-150ms": -3.972436509771827,
           "150-450ms": 1.0442132755876254,
           "photo_id": 0
          },
          {
           "-300-0ms": 0.15528761153227214,
           "0-150ms": -1.9210634289511408,
           "150-450ms": 0.5071407465138499,
           "photo_id": 0
          },
          {
           "-300-0ms": -2.423135059119255,
           "0-150ms": -4.012187829542232,
           "150-450ms": 0.8613667468089486,
           "photo_id": 0
          },
          {
           "-300-0ms": 4.275122135872789,
           "0-150ms": 9.106487536490931,
           "150-450ms": -3.0298575009202,
           "photo_id": 0
          },
          {
           "-300-0ms": 0.5695896508868159,
           "0-150ms": 2.158998762119755,
           "150-450ms": 0.036207561298221363,
           "photo_id": 0
          },
          {
           "-300-0ms": 2.3261146779597492,
           "0-150ms": 7.561567983617831,
           "150-450ms": 2.3312396204769548,
           "photo_id": 0
          },
          {
           "-300-0ms": 1.8315281487809811,
           "0-150ms": 4.69920609796565,
           "150-450ms": -0.7089226659443194,
           "photo_id": 0
          },
          {
           "-300-0ms": 0.4759102494749472,
           "0-150ms": 2.673382192218398,
           "150-450ms": 0.36437679171516213,
           "photo_id": 0
          },
          {
           "-300-0ms": 0.08874580207910909,
           "0-150ms": -1.8034085691587156,
           "150-450ms": 2.222037136802303,
           "photo_id": 0
          },
          {
           "-300-0ms": 1.948028580617649,
           "0-150ms": 7.655515783882616,
           "150-450ms": -1.0293891374853688,
           "photo_id": 0
          },
          {
           "-300-0ms": -0.37289748484799373,
           "0-150ms": 0.6008571452613299,
           "150-450ms": 0.2636545417017388,
           "photo_id": 0
          },
          {
           "-300-0ms": 7.323934596844492,
           "0-150ms": 30.149077428236865,
           "150-450ms": 3.041996934614922,
           "photo_id": 0
          },
          {
           "-300-0ms": -0.9768950281385091,
           "0-150ms": -0.20168210376638118,
           "150-450ms": 1.161407288668283,
           "photo_id": 0
          },
          {
           "-300-0ms": -1.1695046878478468,
           "0-150ms": -0.10044091597861687,
           "150-450ms": -0.47074569913455905,
           "photo_id": 0
          },
          {
           "-300-0ms": -0.18960378510329337,
           "0-150ms": 3.798845011067121,
           "150-450ms": -0.4677596531255705,
           "photo_id": 0
          },
          {
           "-300-0ms": 6.201642890910584,
           "0-150ms": 21.860467440013412,
           "150-450ms": -1.193306045838908,
           "photo_id": 0
          },
          {
           "-300-0ms": -2.0281960613537513,
           "0-150ms": -3.434288293193521,
           "150-450ms": 0.49816568660292765,
           "photo_id": 0
          },
          {
           "-300-0ms": 1.6350368977143488,
           "0-150ms": 2.399212106715582,
           "150-450ms": -0.06648603265261258,
           "photo_id": 0
          },
          {
           "-300-0ms": 0.2605460619744396,
           "0-150ms": -7.715509083446057,
           "150-450ms": 2.8808248274252524,
           "photo_id": 0
          },
          {
           "-300-0ms": 0.8209579421108093,
           "0-150ms": 2.45514702381691,
           "150-450ms": 0.6413060268064195,
           "photo_id": 0
          },
          {
           "-300-0ms": 5.810872045683678,
           "0-150ms": 6.188684078859416,
           "150-450ms": -0.018995024555722734,
           "photo_id": 1
          },
          {
           "-300-0ms": 3.2550938550353847,
           "0-150ms": 4.904288833897696,
           "150-450ms": 0.24174576868276662,
           "photo_id": 1
          },
          {
           "-300-0ms": 0.8462159830211675,
           "0-150ms": 0.04205601001027581,
           "150-450ms": -0.3937611988489483,
           "photo_id": 0
          },
          {
           "-300-0ms": -3.7307843827262093,
           "0-150ms": -3.984871769923808,
           "150-450ms": -0.7732503002318761,
           "photo_id": 0
          },
          {
           "-300-0ms": 0.7459169104483734,
           "0-150ms": -1.8013421019249611,
           "150-450ms": 1.7929344996550818,
           "photo_id": 0
          },
          {
           "-300-0ms": -0.08029876615358382,
           "0-150ms": 0.27417827556993835,
           "150-450ms": -0.8657110431394743,
           "photo_id": 0
          },
          {
           "-300-0ms": -0.9289602346303073,
           "0-150ms": -2.103023530747445,
           "150-450ms": -1.9533046568065793,
           "photo_id": 0
          },
          {
           "-300-0ms": 0.10031758829426533,
           "0-150ms": -0.005553539447660086,
           "150-450ms": -0.005661548454235578,
           "photo_id": 0
          },
          {
           "-300-0ms": -0.1499378732039314,
           "0-150ms": -0.7208045389439577,
           "150-450ms": 0.8674435107023447,
           "photo_id": 0
          },
          {
           "-300-0ms": 0.1597421587932691,
           "0-150ms": 1.0623151310474204,
           "150-450ms": -0.4640631295026963,
           "photo_id": 0
          },
          {
           "-300-0ms": -0.003451771165090186,
           "0-150ms": 0.05449286041624004,
           "150-450ms": -0.04220102506212912,
           "photo_id": 0
          },
          {
           "-300-0ms": -2.7737012304134705,
           "0-150ms": -12.262811221357557,
           "150-450ms": 0.9953897099565108,
           "photo_id": 0
          },
          {
           "-300-0ms": 2.590996168396947,
           "0-150ms": 9.402490458741951,
           "150-450ms": 1.0953753986663537,
           "photo_id": 0
          },
          {
           "-300-0ms": 3.1922758937977567,
           "0-150ms": 8.787760624319667,
           "150-450ms": -0.583530318453378,
           "photo_id": 0
          },
          {
           "-300-0ms": -1.004606082738412,
           "0-150ms": 0.026951041255733593,
           "150-450ms": -1.6061876112959668,
           "photo_id": 0
          },
          {
           "-300-0ms": 0.16435690135285264,
           "0-150ms": 2.596664440795787,
           "150-450ms": 0.46400887333545376,
           "photo_id": 0
          },
          {
           "-300-0ms": -0.7361296863845134,
           "0-150ms": -2.472159417008965,
           "150-450ms": 0.1760885327461049,
           "photo_id": 0
          },
          {
           "-300-0ms": 0.12351235790682086,
           "0-150ms": 0.5120304468471591,
           "150-450ms": 0.5443789313700651,
           "photo_id": 0
          },
          {
           "-300-0ms": -0.3250997792726454,
           "0-150ms": 0.6912456654594398,
           "150-450ms": 0.06940966695966737,
           "photo_id": 0
          },
          {
           "-300-0ms": -0.1374741061990176,
           "0-150ms": -3.6528854065997067,
           "150-450ms": -0.5057105325842978,
           "photo_id": 0
          },
          {
           "-300-0ms": 3.6743464567825384,
           "0-150ms": 0.8998341457110198,
           "150-450ms": 1.732653936161677,
           "photo_id": 0
          },
          {
           "-300-0ms": -0.9907523047352668,
           "0-150ms": 2.6182925700321658,
           "150-450ms": -1.4295530193937855,
           "photo_id": 0
          },
          {
           "-300-0ms": -0.03296903620926973,
           "0-150ms": -1.177786270683373,
           "150-450ms": 1.2330165710130687,
           "photo_id": 0
          },
          {
           "-300-0ms": -0.286679237216626,
           "0-150ms": -1.1223214969839257,
           "150-450ms": 1.4350664216672875,
           "photo_id": 0
          },
          {
           "-300-0ms": 0.9168039880709218,
           "0-150ms": 1.9840258434875528,
           "150-450ms": 0.5189529091443181,
           "photo_id": 0
          },
          {
           "-300-0ms": -0.3216403162246636,
           "0-150ms": 0.5713285400771416,
           "150-450ms": 0.20227996184877625,
           "photo_id": 0
          },
          {
           "-300-0ms": 0.14142360413522584,
           "0-150ms": 6.634243599272561,
           "150-450ms": 2.743184304521946,
           "photo_id": 0
          },
          {
           "-300-0ms": 5.213257362825804,
           "0-150ms": 14.728255960154156,
           "150-450ms": -3.1941067167960733,
           "photo_id": 0
          },
          {
           "-300-0ms": -0.43782768392992644,
           "0-150ms": -0.37894703491497844,
           "150-450ms": 0.2423288991932158,
           "photo_id": 0
          },
          {
           "-300-0ms": 0.22607633969200525,
           "0-150ms": 1.2336693381766486,
           "150-450ms": 0.5249941705917424,
           "photo_id": 0
          },
          {
           "-300-0ms": 1.164868197262473,
           "0-150ms": 4.100416354541615,
           "150-450ms": 1.3791048186599868,
           "photo_id": 0
          },
          {
           "-300-0ms": 1.4516225815851225,
           "0-150ms": -0.3744082698995948,
           "150-450ms": -0.7490646986372173,
           "photo_id": 0
          },
          {
           "-300-0ms": 7.9062929791741245,
           "0-150ms": 11.889923717812515,
           "150-450ms": 4.039185548858393,
           "photo_id": 0
          },
          {
           "-300-0ms": -1.5024800345451732,
           "0-150ms": -0.6495702104693749,
           "150-450ms": -0.22096417161930196,
           "photo_id": 0
          },
          {
           "-300-0ms": -1.0503657083597022,
           "0-150ms": 0.1304835188751421,
           "150-450ms": 1.4831680115930752,
           "photo_id": 0
          },
          {
           "-300-0ms": 1.1077843880197633,
           "0-150ms": 1.694261161380834,
           "150-450ms": 0.3328457322933089,
           "photo_id": 0
          },
          {
           "-300-0ms": 7.008776288142568,
           "0-150ms": 19.990220995526233,
           "150-450ms": 1.1829644642456028,
           "photo_id": 0
          },
          {
           "-300-0ms": 5.677362433860623,
           "0-150ms": 6.183512146910227,
           "150-450ms": -3.1859301417458976,
           "photo_id": 1
          },
          {
           "-300-0ms": -0.7888853744423039,
           "0-150ms": 2.1700578297006294,
           "150-450ms": 0.9827634207202617,
           "photo_id": 0
          },
          {
           "-300-0ms": 0.8125255988019426,
           "0-150ms": 0.6680961949761377,
           "150-450ms": -3.413746700974339,
           "photo_id": 0
          },
          {
           "-300-0ms": 2.1046239379189537,
           "0-150ms": 8.338151637076463,
           "150-450ms": 0.03553767457684768,
           "photo_id": 0
          },
          {
           "-300-0ms": -0.5200587102072003,
           "0-150ms": 1.6023400908485694,
           "150-450ms": 0.055168574814090016,
           "photo_id": 0
          },
          {
           "-300-0ms": -0.0546327417213499,
           "0-150ms": 0.3814387548055507,
           "150-450ms": 0.1240091806137263,
           "photo_id": 0
          },
          {
           "-300-0ms": 1.0317119556546064,
           "0-150ms": -0.24353202235632762,
           "150-450ms": 0.5146186702915743,
           "photo_id": 0
          },
          {
           "-300-0ms": -0.19291350628604662,
           "0-150ms": 1.0194424440396384,
           "150-450ms": 0.005562199148149385,
           "photo_id": 0
          },
          {
           "-300-0ms": -0.4820797964319354,
           "0-150ms": -0.09114882711093204,
           "150-450ms": -1.4699897464568081,
           "photo_id": 0
          },
          {
           "-300-0ms": -0.39958413813781274,
           "0-150ms": -1.8535833294866444,
           "150-450ms": 0.01059174867063,
           "photo_id": 0
          },
          {
           "-300-0ms": -3.1789619618383695,
           "0-150ms": -3.4004855141005006,
           "150-450ms": 2.260876410001147,
           "photo_id": 0
          },
          {
           "-300-0ms": -0.16981416814148717,
           "0-150ms": -2.2566642535480974,
           "150-450ms": 0.5238124221361193,
           "photo_id": 0
          },
          {
           "-300-0ms": 1.6421508120026507,
           "0-150ms": 1.9163462418627981,
           "150-450ms": -0.050052465305957215,
           "photo_id": 0
          },
          {
           "-300-0ms": 2.734052781732476,
           "0-150ms": 6.46714835050043,
           "150-450ms": -0.26525832609915806,
           "photo_id": 0
          },
          {
           "-300-0ms": -1.0364003941536506,
           "0-150ms": -1.6827449945096575,
           "150-450ms": 1.1479665136657007,
           "photo_id": 0
          },
          {
           "-300-0ms": -0.0009107242390127279,
           "0-150ms": -1.8586742239143115,
           "150-450ms": -0.353977435130606,
           "photo_id": 0
          },
          {
           "-300-0ms": 0.5413538310209066,
           "0-150ms": -3.0600520133041678,
           "150-450ms": -1.154304973467448,
           "photo_id": 0
          },
          {
           "-300-0ms": 1.8196553270306153,
           "0-150ms": 1.4855646064556236,
           "150-450ms": 2.4339596703737074,
           "photo_id": 1
          },
          {
           "-300-0ms": -0.05575937202512234,
           "0-150ms": 1.145942929333412,
           "150-450ms": -0.19869486337878076,
           "photo_id": 0
          },
          {
           "-300-0ms": -0.3136505867558605,
           "0-150ms": 0.8081482891416797,
           "150-450ms": -0.748914477860116,
           "photo_id": 0
          },
          {
           "-300-0ms": 0.21260541900858457,
           "0-150ms": 4.017019623063543,
           "150-450ms": -0.8727634085398269,
           "photo_id": 0
          },
          {
           "-300-0ms": -0.12439139774708173,
           "0-150ms": -1.0362450596741883,
           "150-450ms": -0.05588941864902461,
           "photo_id": 0
          },
          {
           "-300-0ms": 0.21689251626010794,
           "0-150ms": 6.113284705123468,
           "150-450ms": -2.146957479355406,
           "photo_id": 0
          },
          {
           "-300-0ms": 3.07311317493185,
           "0-150ms": -3.742560972510669,
           "150-450ms": -2.862269907790409,
           "photo_id": 0
          },
          {
           "-300-0ms": 0.8179702285013425,
           "0-150ms": 1.3901586427197812,
           "150-450ms": 1.0301336400433825,
           "photo_id": 0
          },
          {
           "-300-0ms": -1.8887472518250783,
           "0-150ms": 4.8989584567451505,
           "150-450ms": 0.5726506088353004,
           "photo_id": 0
          },
          {
           "-300-0ms": -0.8501376603155993,
           "0-150ms": 6.266399240697161,
           "150-450ms": -1.4780114461634863,
           "photo_id": 0
          },
          {
           "-300-0ms": 2.434145963005655,
           "0-150ms": 15.800634954426767,
           "150-450ms": -2.488307832812582,
           "photo_id": 0
          },
          {
           "-300-0ms": 0.8473633268660157,
           "0-150ms": 0.3953639187214124,
           "150-450ms": 0.001311532639442924,
           "photo_id": 0
          },
          {
           "-300-0ms": 0.23438378307024557,
           "0-150ms": -0.13050282558738396,
           "150-450ms": -0.4232641284736185,
           "photo_id": 0
          },
          {
           "-300-0ms": -2.4856967369786567,
           "0-150ms": -8.042166425371105,
           "150-450ms": -0.5649750421679731,
           "photo_id": 1
          },
          {
           "-300-0ms": -0.279988369935596,
           "0-150ms": 1.573558599601047,
           "150-450ms": -1.054889227035286,
           "photo_id": 0
          },
          {
           "-300-0ms": -0.9924005887210073,
           "0-150ms": -2.115600349410918,
           "150-450ms": -1.3582591031743947,
           "photo_id": 0
          },
          {
           "-300-0ms": 0.016446789070988743,
           "0-150ms": 1.1943457392812953,
           "150-450ms": -0.02991445881819065,
           "photo_id": 0
          },
          {
           "-300-0ms": -1.2416254984051633,
           "0-150ms": -1.3720918984594215,
           "150-450ms": -0.37275345657847203,
           "photo_id": 0
          },
          {
           "-300-0ms": 2.4800641525074454,
           "0-150ms": 6.896450594150521,
           "150-450ms": 0.9637104640188929,
           "photo_id": 0
          },
          {
           "-300-0ms": 0.6050285701457113,
           "0-150ms": -4.224936814372204,
           "150-450ms": -1.4405701341505157,
           "photo_id": 0
          },
          {
           "-300-0ms": -0.2014635819719216,
           "0-150ms": -0.2912910522048687,
           "150-450ms": 0.6688363548109867,
           "photo_id": 0
          },
          {
           "-300-0ms": -0.018017289542956522,
           "0-150ms": 4.76473356385377,
           "150-450ms": 0.5809265343240569,
           "photo_id": 0
          },
          {
           "-300-0ms": 0.12832055300413817,
           "0-150ms": 0.12291929284616204,
           "150-450ms": 0.00240554895378842,
           "photo_id": 0
          },
          {
           "-300-0ms": -0.2975885834388276,
           "0-150ms": -2.3184032488516935,
           "150-450ms": 0.5611047701266985,
           "photo_id": 0
          },
          {
           "-300-0ms": -0.2614486391317763,
           "0-150ms": -0.033282402501200625,
           "150-450ms": 1.8475117347895857,
           "photo_id": 0
          },
          {
           "-300-0ms": -0.46933188020760835,
           "0-150ms": 1.1544735574147083,
           "150-450ms": 0.007043918105888325,
           "photo_id": 0
          },
          {
           "-300-0ms": -0.5670341217526841,
           "0-150ms": -0.8869381991275468,
           "150-450ms": 0.5544616181092389,
           "photo_id": 0
          },
          {
           "-300-0ms": 2.7580915955623055,
           "0-150ms": 9.635120824240664,
           "150-450ms": -1.8995907131251988,
           "photo_id": 1
          },
          {
           "-300-0ms": 0.4735003917690876,
           "0-150ms": 3.184229504064721,
           "150-450ms": 1.0361206169185384,
           "photo_id": 0
          },
          {
           "-300-0ms": 1.0639249939495607,
           "0-150ms": 6.91299452577742,
           "150-450ms": 0.9080498981332329,
           "photo_id": 0
          },
          {
           "-300-0ms": -0.6756170911668032,
           "0-150ms": -0.5846952730384803,
           "150-450ms": -0.05265260923996847,
           "photo_id": 0
          },
          {
           "-300-0ms": 0.041934133470889035,
           "0-150ms": 3.087141697956321,
           "150-450ms": 0.06439598764502798,
           "photo_id": 0
          },
          {
           "-300-0ms": 0.2680444421087395,
           "0-150ms": -0.014539638579195567,
           "150-450ms": -0.0114249969258842,
           "photo_id": 0
          },
          {
           "-300-0ms": 0.8175554731255876,
           "0-150ms": 9.079726715760682,
           "150-450ms": 2.0374350630189517,
           "photo_id": 0
          },
          {
           "-300-0ms": -0.24879286648608087,
           "0-150ms": -0.17863082698058538,
           "150-450ms": -0.16974426926093153,
           "photo_id": 0
          },
          {
           "-300-0ms": 2.1774763539674082,
           "0-150ms": 8.224173596821217,
           "150-450ms": 1.254948017250423,
           "photo_id": 0
          },
          {
           "-300-0ms": 0.5155470744534748,
           "0-150ms": 0.6297890025390583,
           "150-450ms": 0.16291886425570898,
           "photo_id": 0
          },
          {
           "-300-0ms": 0.9467570992521824,
           "0-150ms": 0.5960745536494012,
           "150-450ms": 2.123689231783922,
           "photo_id": 1
          },
          {
           "-300-0ms": 0.6530100468745296,
           "0-150ms": 1.114338496997911,
           "150-450ms": -0.6042418549530861,
           "photo_id": 0
          },
          {
           "-300-0ms": 0.0936589056078838,
           "0-150ms": 1.37982199550014,
           "150-450ms": -0.20569763385755782,
           "photo_id": 0
          },
          {
           "-300-0ms": 3.7563759343739425,
           "0-150ms": 6.761499910115056,
           "150-450ms": 3.2342124029654973,
           "photo_id": 1
          },
          {
           "-300-0ms": 0.1428372245774854,
           "0-150ms": 0.04636737787170481,
           "150-450ms": -0.07365279309166613,
           "photo_id": 0
          },
          {
           "-300-0ms": -1.4341964770885276,
           "0-150ms": -0.8023857249445944,
           "150-450ms": -0.2994546526640066,
           "photo_id": 0
          },
          {
           "-300-0ms": 0.3987019968063204,
           "0-150ms": 1.5564871842100476,
           "150-450ms": 0.32532797799358054,
           "photo_id": 0
          },
          {
           "-300-0ms": 0.3671154947065498,
           "0-150ms": 0.15988587467633,
           "150-450ms": -0.06972575808397403,
           "photo_id": 0
          },
          {
           "-300-0ms": 2.003160743174385,
           "0-150ms": 14.319124800953654,
           "150-450ms": -0.4291198390666276,
           "photo_id": 0
          },
          {
           "-300-0ms": 0.414383278459979,
           "0-150ms": 1.0555117117095798,
           "150-450ms": -0.05078545944015204,
           "photo_id": 0
          },
          {
           "-300-0ms": 3.316521841342784,
           "0-150ms": 18.650369847906727,
           "150-450ms": 0.7092779881240302,
           "photo_id": 0
          },
          {
           "-300-0ms": -0.2852948954684736,
           "0-150ms": 0.16717317007943086,
           "150-450ms": -0.6616810037105331,
           "photo_id": 0
          },
          {
           "-300-0ms": 0.12547670634183108,
           "0-150ms": 0.7662390103429697,
           "150-450ms": 0.32555378490562287,
           "photo_id": 0
          },
          {
           "-300-0ms": 0.8198317001336237,
           "0-150ms": 1.1286356587326238,
           "150-450ms": -0.6595392568751864,
           "photo_id": 0
          },
          {
           "-300-0ms": 4.629731056779948,
           "0-150ms": 5.9297828893419355,
           "150-450ms": -0.9657377062731033,
           "photo_id": 0
          },
          {
           "-300-0ms": -2.251019317567176,
           "0-150ms": 1.3729867456821097,
           "150-450ms": -0.14424662760795548,
           "photo_id": 0
          },
          {
           "-300-0ms": -0.3491751210622835,
           "0-150ms": -0.20038546768787455,
           "150-450ms": 0.755342294475181,
           "photo_id": 0
          },
          {
           "-300-0ms": 7.077825765719589,
           "0-150ms": 11.969126405070826,
           "150-450ms": 1.1056247066137481,
           "photo_id": 1
          },
          {
           "-300-0ms": 2.1497642443505813,
           "0-150ms": 0.14336141393312632,
           "150-450ms": -0.2266366656791041,
           "photo_id": 0
          },
          {
           "-300-0ms": -0.06704374094168401,
           "0-150ms": 0.2791099336051311,
           "150-450ms": -1.2438720068076485,
           "photo_id": 1
          },
          {
           "-300-0ms": 0.4058112728775501,
           "0-150ms": 4.457050913485294,
           "150-450ms": -1.3708802479431956,
           "photo_id": 0
          },
          {
           "-300-0ms": 0.7972562928919856,
           "0-150ms": 1.7108903712327805,
           "150-450ms": -2.4880955333071424,
           "photo_id": 0
          },
          {
           "-300-0ms": -0.16089140472738409,
           "0-150ms": -0.09548672653488877,
           "150-450ms": -0.2713705918103739,
           "photo_id": 0
          },
          {
           "-300-0ms": -0.14146409388327694,
           "0-150ms": 3.5915919694909575,
           "150-450ms": -0.03559397909414943,
           "photo_id": 0
          },
          {
           "-300-0ms": -0.2362849322061437,
           "0-150ms": -1.5453836011753717,
           "150-450ms": 0.5091271130879752,
           "photo_id": 0
          },
          {
           "-300-0ms": -0.05929056054192682,
           "0-150ms": -1.929290158961215,
           "150-450ms": -0.49594627606384784,
           "photo_id": 0
          },
          {
           "-300-0ms": 1.1741856982628014,
           "0-150ms": -0.5583526011832646,
           "150-450ms": -0.6719136313335241,
           "photo_id": 0
          },
          {
           "-300-0ms": 1.9252450218795063,
           "0-150ms": 5.44875205704047,
           "150-450ms": 0.028009692022273436,
           "photo_id": 0
          },
          {
           "-300-0ms": 6.971486275301253,
           "0-150ms": 28.949401439060882,
           "150-450ms": -2.4628302740796735,
           "photo_id": 0
          },
          {
           "-300-0ms": 0.2475297575088898,
           "0-150ms": -0.897377607855827,
           "150-450ms": 0.07137697783342702,
           "photo_id": 0
          },
          {
           "-300-0ms": -1.4864292374664851,
           "0-150ms": 1.007192150061832,
           "150-450ms": -2.193543087590475,
           "photo_id": 0
          },
          {
           "-300-0ms": 0.7080433702003602,
           "0-150ms": -0.5356069368576227,
           "150-450ms": 0.16681221892232415,
           "photo_id": 0
          },
          {
           "-300-0ms": -0.11336892810471177,
           "0-150ms": 0.4450271515230801,
           "150-450ms": -0.00767522749307515,
           "photo_id": 0
          },
          {
           "-300-0ms": -1.4976661187866167,
           "0-150ms": -0.7032961955106686,
           "150-450ms": 0.4363123335766604,
           "photo_id": 0
          },
          {
           "-300-0ms": -0.28965941104213433,
           "0-150ms": 0.7188016750398178,
           "150-450ms": -0.6344302684793031,
           "photo_id": 0
          },
          {
           "-300-0ms": 7.689919868507304,
           "0-150ms": 11.230647577397484,
           "150-450ms": 1.2110691987760112,
           "photo_id": 1
          },
          {
           "-300-0ms": -0.4733696740819277,
           "0-150ms": -1.0033002297643032,
           "150-450ms": 0.5229051437028994,
           "photo_id": 0
          },
          {
           "-300-0ms": -0.1554300159280165,
           "0-150ms": 1.3615955213033206,
           "150-450ms": 0.5326597919074048,
           "photo_id": 0
          },
          {
           "-300-0ms": 1.6764115197697496,
           "0-150ms": 3.395193881304507,
           "150-450ms": 1.6901808683001383,
           "photo_id": 0
          },
          {
           "-300-0ms": -1.1072917225250334,
           "0-150ms": -3.933317273794172,
           "150-450ms": -0.2654740881659868,
           "photo_id": 0
          },
          {
           "-300-0ms": 8.290391590261638,
           "0-150ms": 22.129079846512422,
           "150-450ms": 1.296515317961439,
           "photo_id": 0
          },
          {
           "-300-0ms": 3.9448425848804085,
           "0-150ms": 6.528483684543058,
           "150-450ms": 1.2878287047420889,
           "photo_id": 0
          },
          {
           "-300-0ms": -1.0031626925210135,
           "0-150ms": -2.373599113725944,
           "150-450ms": -0.08401608971766995,
           "photo_id": 0
          },
          {
           "-300-0ms": 0.10610812010033832,
           "0-150ms": 0.8379152548854162,
           "150-450ms": 0.9089052616499402,
           "photo_id": 0
          },
          {
           "-300-0ms": -0.08287142789391434,
           "0-150ms": 1.1701847405933405,
           "150-450ms": -0.2624835016642728,
           "photo_id": 0
          },
          {
           "-300-0ms": 0.15537755402888445,
           "0-150ms": -0.3323711444723782,
           "150-450ms": -0.3577906316809261,
           "photo_id": 0
          },
          {
           "-300-0ms": 0.8781762109031829,
           "0-150ms": -0.8908341266953115,
           "150-450ms": 0.6780815220787434,
           "photo_id": 0
          },
          {
           "-300-0ms": -0.37624545578186214,
           "0-150ms": -0.535886402817139,
           "150-450ms": 0.055299449731482604,
           "photo_id": 0
          },
          {
           "-300-0ms": 3.853032064076691,
           "0-150ms": 3.6684922201515184,
           "150-450ms": 3.7057306588151397,
           "photo_id": 0
          },
          {
           "-300-0ms": 3.8027043657576396,
           "0-150ms": 3.3333191202075128,
           "150-450ms": 0.212940756995983,
           "photo_id": 0
          },
          {
           "-300-0ms": -2.074142819859654,
           "0-150ms": -4.07390247100093,
           "150-450ms": 2.056631709728763,
           "photo_id": 0
          },
          {
           "-300-0ms": -0.5991032497822081,
           "0-150ms": -1.0495213729879536,
           "150-450ms": 0.4214895110807246,
           "photo_id": 0
          },
          {
           "-300-0ms": 0.05541648747100766,
           "0-150ms": -0.5831876365409655,
           "150-450ms": 0.6950140599671387,
           "photo_id": 0
          },
          {
           "-300-0ms": 3.6940274729919995,
           "0-150ms": -4.179042549932789,
           "150-450ms": 0.030949865649203875,
           "photo_id": 0
          },
          {
           "-300-0ms": 1.2351454333594312,
           "0-150ms": 3.86872580552278,
           "150-450ms": 0.4073735246224026,
           "photo_id": 0
          },
          {
           "-300-0ms": 1.8725882469702153,
           "0-150ms": 1.6348578381100474,
           "150-450ms": 0.021652128844436472,
           "photo_id": 0
          },
          {
           "-300-0ms": 0.6598870056497175,
           "0-150ms": 0.297958676561943,
           "150-450ms": -0.026882804200713706,
           "photo_id": 0
          },
          {
           "-300-0ms": 5.639874287352647,
           "0-150ms": 6.456560595088875,
           "150-450ms": 0.9897434653316132,
           "photo_id": 0
          },
          {
           "-300-0ms": 9.859202129028235,
           "0-150ms": 13.68497376085437,
           "150-450ms": 2.2630618748828386,
           "photo_id": 0
          },
          {
           "-300-0ms": 6.957693650776146,
           "0-150ms": 6.952826194300783,
           "150-450ms": 0.7693716940698189,
           "photo_id": 0
          },
          {
           "-300-0ms": 1.0104662027796476,
           "0-150ms": 1.2658284353186389,
           "150-450ms": -1.9137687695966523,
           "photo_id": 0
          },
          {
           "-300-0ms": 5.810734977890012,
           "0-150ms": 16.6966341602677,
           "150-450ms": 0.7770879510676391,
           "photo_id": 1
          },
          {
           "-300-0ms": -5.590932221768867,
           "0-150ms": -4.650698562881439,
           "150-450ms": -1.399919426279823,
           "photo_id": 0
          },
          {
           "-300-0ms": 2.5640936743013207,
           "0-150ms": 7.795979743845166,
           "150-450ms": -0.14620101525827997,
           "photo_id": 0
          },
          {
           "-300-0ms": -0.36621932078412317,
           "0-150ms": -0.7488332371496798,
           "150-450ms": -0.01928255571606564,
           "photo_id": 0
          },
          {
           "-300-0ms": 0.9105195020014776,
           "0-150ms": 2.626730429689751,
           "150-450ms": 0.661243525982452,
           "photo_id": 0
          },
          {
           "-300-0ms": -1.1010978169373884,
           "0-150ms": -3.7636517441098216,
           "150-450ms": 0.8437903465919749,
           "photo_id": 0
          },
          {
           "-300-0ms": 3.139353278269724,
           "0-150ms": 2.2691818998293223,
           "150-450ms": 0.10117883175457476,
           "photo_id": 0
          },
          {
           "-300-0ms": 2.0119096192230073,
           "0-150ms": 3.071120913266851,
           "150-450ms": -0.09791706641082996,
           "photo_id": 0
          },
          {
           "-300-0ms": 5.165644718414699,
           "0-150ms": 3.395894073004008,
           "150-450ms": 1.0453288929567848,
           "photo_id": 0
          },
          {
           "-300-0ms": 2.0341186868206256,
           "0-150ms": 1.5146914940539078,
           "150-450ms": -0.019316828429310855,
           "photo_id": 0
          },
          {
           "-300-0ms": 0.1899854880802511,
           "0-150ms": -0.9073116953532847,
           "150-450ms": -0.6144978313833713,
           "photo_id": 0
          },
          {
           "-300-0ms": -0.5952519580559258,
           "0-150ms": -2.5696890275634083,
           "150-450ms": -1.1219276990096068,
           "photo_id": 0
          },
          {
           "-300-0ms": 0.34057783691524185,
           "0-150ms": 3.3521271347892547,
           "150-450ms": -0.36812422530158306,
           "photo_id": 0
          },
          {
           "-300-0ms": -0.29565709813712654,
           "0-150ms": 0.6271465227165037,
           "150-450ms": 0.21422080262744095,
           "photo_id": 0
          },
          {
           "-300-0ms": -0.8916500196265996,
           "0-150ms": -1.1828258596115118,
           "150-450ms": 1.1065953198335088,
           "photo_id": 0
          },
          {
           "-300-0ms": 12.880928408088414,
           "0-150ms": 23.560591006724167,
           "150-450ms": 1.5502099016571733,
           "photo_id": 0
          },
          {
           "-300-0ms": 0.6800036389126894,
           "0-150ms": 2.813011502671996,
           "150-450ms": 0.515612616925785,
           "photo_id": 0
          },
          {
           "-300-0ms": 1.1262293109982444,
           "0-150ms": 4.397842176513256,
           "150-450ms": 0.13944324102045833,
           "photo_id": 0
          },
          {
           "-300-0ms": 3.1687025915057503,
           "0-150ms": 9.239293370951854,
           "150-450ms": 0.766431880422914,
           "photo_id": 1
          },
          {
           "-300-0ms": 5.810507378868645,
           "0-150ms": 12.53867789087684,
           "150-450ms": 1.1645366893618279,
           "photo_id": 0
          },
          {
           "-300-0ms": 18.218609958757963,
           "0-150ms": 23.246558569771803,
           "150-450ms": 8.195505737518639,
           "photo_id": 0
          },
          {
           "-300-0ms": 8.056558730529462,
           "0-150ms": 18.096343847438153,
           "150-450ms": 5.928450361722166,
           "photo_id": 0
          },
          {
           "-300-0ms": 0.4929484979907454,
           "0-150ms": 2.62413499602325,
           "150-450ms": -0.26866644259144,
           "photo_id": 0
          },
          {
           "-300-0ms": -0.17466694679149578,
           "0-150ms": -0.11564837780438182,
           "150-450ms": 0.12831158454753092,
           "photo_id": 0
          },
          {
           "-300-0ms": -0.2844949736748559,
           "0-150ms": 0.6569711324218689,
           "150-450ms": 0.5693062477835512,
           "photo_id": 0
          },
          {
           "-300-0ms": -0.37920894793108867,
           "0-150ms": -4.3928920726705885,
           "150-450ms": -0.5004059695332007,
           "photo_id": 0
          },
          {
           "-300-0ms": 5.837652755955901,
           "0-150ms": 9.566194057645719,
           "150-450ms": 1.7253258201406831,
           "photo_id": 0
          },
          {
           "-300-0ms": 0.050188292790068846,
           "0-150ms": 4.249752473250325,
           "150-450ms": -3.2095096589788135,
           "photo_id": 0
          },
          {
           "-300-0ms": -0.6630362538071376,
           "0-150ms": 7.611251348039144,
           "150-450ms": -5.228124656041752,
           "photo_id": 0
          },
          {
           "-300-0ms": -0.4780213184357181,
           "0-150ms": 5.480563691473667,
           "150-450ms": -0.24785450639937592,
           "photo_id": 0
          },
          {
           "-300-0ms": 0.6614868210445193,
           "0-150ms": 2.060098416943634,
           "150-450ms": 0.2802830410510781,
           "photo_id": 0
          },
          {
           "-300-0ms": 6.403426320734027,
           "0-150ms": 9.250837849001483,
           "150-450ms": -2.1779878253775866,
           "photo_id": 0
          },
          {
           "-300-0ms": 0.8676863534619268,
           "0-150ms": -0.10482773610089768,
           "150-450ms": 0.06346034043600375,
           "photo_id": 0
          },
          {
           "-300-0ms": -0.07266471410241516,
           "0-150ms": -0.19714979229379817,
           "150-450ms": -1.2274162498171282,
           "photo_id": 0
          },
          {
           "-300-0ms": -0.5199420883523994,
           "0-150ms": -3.7511439423518795,
           "150-450ms": -0.04305917664828773,
           "photo_id": 0
          },
          {
           "-300-0ms": 3.824161868416027,
           "0-150ms": 7.453774704572122,
           "150-450ms": -1.1113818089865104,
           "photo_id": 0
          },
          {
           "-300-0ms": 0.2280011794185651,
           "0-150ms": 0.5699204990503615,
           "150-450ms": 0.12027666601753412,
           "photo_id": 0
          },
          {
           "-300-0ms": -0.007953647429419675,
           "0-150ms": -0.06919960690353862,
           "150-450ms": -0.24767615465626494,
           "photo_id": 0
          },
          {
           "-300-0ms": 0.7567745033733887,
           "0-150ms": -0.12085991627161624,
           "150-450ms": -0.07049771011299748,
           "photo_id": 0
          },
          {
           "-300-0ms": -0.040573225842184556,
           "0-150ms": -0.03994934830019366,
           "150-450ms": -0.2019811131553935,
           "photo_id": 0
          },
          {
           "-300-0ms": -0.5178874714551267,
           "0-150ms": -6.118042262067967,
           "150-450ms": -0.31759991551591055,
           "photo_id": 0
          },
          {
           "-300-0ms": -1.4238232215630757,
           "0-150ms": -1.8868139906428054,
           "150-450ms": 0.32572240194468455,
           "photo_id": 0
          },
          {
           "-300-0ms": -0.42200913887911967,
           "0-150ms": 0.5921941997280104,
           "150-450ms": 0.4644625232646123,
           "photo_id": 0
          },
          {
           "-300-0ms": 3.1202870650530703,
           "0-150ms": 3.7608669759895323,
           "150-450ms": 2.1089251821688175,
           "photo_id": 0
          },
          {
           "-300-0ms": 0.4375582806195893,
           "0-150ms": 2.7455142532991914,
           "150-450ms": 0.14180499483116235,
           "photo_id": 0
          },
          {
           "-300-0ms": 0,
           "0-150ms": 0.09496192564302049,
           "150-450ms": 0,
           "photo_id": 0
          },
          {
           "-300-0ms": -1.5149607565588983,
           "0-150ms": -3.340572870595629,
           "150-450ms": 0.18248970350153568,
           "photo_id": 0
          },
          {
           "-300-0ms": 6.771912915505248,
           "0-150ms": 8.505051961267792,
           "150-450ms": 0.48184105558607415,
           "photo_id": 0
          },
          {
           "-300-0ms": 0.4274892368367433,
           "0-150ms": 0.08088221283725416,
           "150-450ms": -0.26495838286600665,
           "photo_id": 0
          },
          {
           "-300-0ms": -0.5694630060769762,
           "0-150ms": -0.5810000255131618,
           "150-450ms": -0.4152613920303987,
           "photo_id": 0
          },
          {
           "-300-0ms": 0.9664113089834427,
           "0-150ms": 1.2693439338905532,
           "150-450ms": -0.13944505966688844,
           "photo_id": 0
          },
          {
           "-300-0ms": -0.38921038702174476,
           "0-150ms": -1.037126720644766,
           "150-450ms": -0.8493978086454735,
           "photo_id": 0
          },
          {
           "-300-0ms": 14.088305315683387,
           "0-150ms": 1.908597870910507,
           "150-450ms": 3.6534278547532453,
           "photo_id": 0
          },
          {
           "-300-0ms": -0.21237207490793442,
           "0-150ms": -0.02911345638428106,
           "150-450ms": 0.38676002546148935,
           "photo_id": 0
          },
          {
           "-300-0ms": 1.6274101137402586,
           "0-150ms": 2.2794989150447234,
           "150-450ms": -0.3541487791952114,
           "photo_id": 0
          },
          {
           "-300-0ms": -0.42586143252850556,
           "0-150ms": -0.08205562450568245,
           "150-450ms": 0.24779551749896078,
           "photo_id": 0
          },
          {
           "-300-0ms": -1.3395895481296092,
           "0-150ms": 2.962113633038705,
           "150-450ms": 0.519374468946768,
           "photo_id": 0
          },
          {
           "-300-0ms": 3.3085045390793337,
           "0-150ms": -0.3243875174960662,
           "150-450ms": 0.7786320727168593,
           "photo_id": 0
          },
          {
           "-300-0ms": 1.9814462453381052,
           "0-150ms": -4.886785623917006,
           "150-450ms": 0.2711543558199582,
           "photo_id": 1
          },
          {
           "-300-0ms": 0.25821406294434573,
           "0-150ms": 1.8751775230371592,
           "150-450ms": -0.7173927292272019,
           "photo_id": 0
          },
          {
           "-300-0ms": 3.1174124102810112,
           "0-150ms": 0.6015418960773599,
           "150-450ms": 7.962807115246124,
           "photo_id": 0
          },
          {
           "-300-0ms": 1.0350955849767336,
           "0-150ms": 1.6785617511122226,
           "150-450ms": -0.7739997468994665,
           "photo_id": 0
          },
          {
           "-300-0ms": -0.3428289647595327,
           "0-150ms": -1.532169384362599,
           "150-450ms": 0.8121987369370235,
           "photo_id": 1
          },
          {
           "-300-0ms": 7.577055244131966,
           "0-150ms": 13.479614237715921,
           "150-450ms": 1.3607412451851097,
           "photo_id": 0
          },
          {
           "-300-0ms": -0.687033149968335,
           "0-150ms": 5.607767773923573,
           "150-450ms": -0.13453077008051842,
           "photo_id": 0
          },
          {
           "-300-0ms": 8.465027046797234,
           "0-150ms": 1.8155746237344397,
           "150-450ms": 3.1205428972351155,
           "photo_id": 0
          },
          {
           "-300-0ms": 0.00739402471485133,
           "0-150ms": 0.012614465124770588,
           "150-450ms": 0.1092072235737046,
           "photo_id": 0
          },
          {
           "-300-0ms": -0.17207128984706335,
           "0-150ms": 0.5281420056179602,
           "150-450ms": 0.33504527153482405,
           "photo_id": 0
          },
          {
           "-300-0ms": 5.929823004766729,
           "0-150ms": 5.664003741035767,
           "150-450ms": -3.4119925901650157,
           "photo_id": 0
          },
          {
           "-300-0ms": -1.8093179840195033,
           "0-150ms": -1.4401463103714451,
           "150-450ms": -0.18037628566586164,
           "photo_id": 0
          },
          {
           "-300-0ms": -1.1262962798651295,
           "0-150ms": -0.8316027839968227,
           "150-450ms": -0.34595070154983487,
           "photo_id": 0
          },
          {
           "-300-0ms": 1.3478359802238131,
           "0-150ms": 6.405883163316621e-06,
           "150-450ms": 0.4256462394637701,
           "photo_id": 0
          },
          {
           "-300-0ms": 0.6832272375971388,
           "0-150ms": 1.644830932728621,
           "150-450ms": 0.7239579416970586,
           "photo_id": 0
          },
          {
           "-300-0ms": 0.8288397766636554,
           "0-150ms": 1.4722897509072341,
           "150-450ms": 2.649582312591603e-05,
           "photo_id": 0
          },
          {
           "-300-0ms": -6.588574589456147,
           "0-150ms": -1.374719182096836,
           "150-450ms": 0.5766278899477447,
           "photo_id": 0
          },
          {
           "-300-0ms": 0.3326795925122324,
           "0-150ms": 0.03393068193829243,
           "150-450ms": 0.5809265374000332,
           "photo_id": 0
          },
          {
           "-300-0ms": 1.3028805825482905,
           "0-150ms": 1.5759433463693056,
           "150-450ms": 0.8980200164767492,
           "photo_id": 0
          },
          {
           "-300-0ms": 9.486644381008038,
           "0-150ms": 10.110538638685773,
           "150-450ms": -1.0964236295038876,
           "photo_id": 0
          },
          {
           "-300-0ms": 0.1861814060245701,
           "0-150ms": 0.10242879060128855,
           "150-450ms": -1.317395441505392,
           "photo_id": 0
          },
          {
           "-300-0ms": -0.7236366389530445,
           "0-150ms": -1.8833155570075555,
           "150-450ms": -0.03863976931733226,
           "photo_id": 0
          },
          {
           "-300-0ms": 3.6379337592155303,
           "0-150ms": -1.0649639829219142,
           "150-450ms": 1.1561658226915597,
           "photo_id": 0
          },
          {
           "-300-0ms": -2.9510140070087174,
           "0-150ms": -2.071384599616287,
           "150-450ms": 0.49512608379535755,
           "photo_id": 0
          },
          {
           "-300-0ms": 0.9335871426019811,
           "0-150ms": 4.636697382876436,
           "150-450ms": 0.24909516559582878,
           "photo_id": 0
          },
          {
           "-300-0ms": -0.7712547032982324,
           "0-150ms": -0.11367495908242092,
           "150-450ms": 1.417487829333097,
           "photo_id": 0
          },
          {
           "-300-0ms": 2.1491067438889093,
           "0-150ms": 2.1364504360804975,
           "150-450ms": 0.48597951848339344,
           "photo_id": 0
          },
          {
           "-300-0ms": 20.662486896050456,
           "0-150ms": 0.2691854599263978,
           "150-450ms": 6.917995795423618,
           "photo_id": 0
          },
          {
           "-300-0ms": 0.4391080257470173,
           "0-150ms": 0.22654918276945626,
           "150-450ms": -0.12524611028300253,
           "photo_id": 0
          },
          {
           "-300-0ms": 0.7145381041352638,
           "0-150ms": 0.42940172254198267,
           "150-450ms": 0.8384620673924802,
           "photo_id": 0
          },
          {
           "-300-0ms": 1.7144885793793117,
           "0-150ms": -1.8332281249190139,
           "150-450ms": -1.6896895875350693,
           "photo_id": 0
          },
          {
           "-300-0ms": 1.2127471934965122,
           "0-150ms": -0.17683971645255028,
           "150-450ms": -0.27718026155412595,
           "photo_id": 0
          },
          {
           "-300-0ms": 0.8782525316324712,
           "0-150ms": 1.4704806795534988,
           "150-450ms": 0.32590253009394615,
           "photo_id": 0
          },
          {
           "-300-0ms": 1.9462908465523594,
           "0-150ms": 1.3742159818591195,
           "150-450ms": 1.2461880233071692,
           "photo_id": 0
          },
          {
           "-300-0ms": 0.7249300972475337,
           "0-150ms": -0.6743935221962442,
           "150-450ms": -0.6705435072145902,
           "photo_id": 0
          },
          {
           "-300-0ms": 1.434727055021969,
           "0-150ms": 0.9605033592952642,
           "150-450ms": 0.08280721539758522,
           "photo_id": 0
          },
          {
           "-300-0ms": 1.804051498047046,
           "0-150ms": 2.3148876005738743,
           "150-450ms": -2.602928271531051,
           "photo_id": 0
          },
          {
           "-300-0ms": 0.7253953569557353,
           "0-150ms": 7.054292457785695,
           "150-450ms": -0.8253173139791113,
           "photo_id": 0
          },
          {
           "-300-0ms": -0.2823884877293369,
           "0-150ms": -0.14970741621911346,
           "150-450ms": 0.35420738675347474,
           "photo_id": 0
          },
          {
           "-300-0ms": 2.760970063457035,
           "0-150ms": 1.6747225298766735,
           "150-450ms": -3.741927765304696,
           "photo_id": 0
          },
          {
           "-300-0ms": 1.385254156157205,
           "0-150ms": 3.149880325808033,
           "150-450ms": 0.2611176647628408,
           "photo_id": 0
          },
          {
           "-300-0ms": 0.3840190269735926,
           "0-150ms": 0.7993675235492974,
           "150-450ms": -0.3346548262744156,
           "photo_id": 0
          },
          {
           "-300-0ms": 0.3938501721721896,
           "0-150ms": 0.30567902700151084,
           "150-450ms": 0.14269932806811822,
           "photo_id": 0
          },
          {
           "-300-0ms": -2.234264392902538,
           "0-150ms": -4.4452935970225775,
           "150-450ms": 1.6581375021477163,
           "photo_id": 0
          },
          {
           "-300-0ms": -0.22836628842011283,
           "0-150ms": 0.038823149055652116,
           "150-450ms": -0.3465724785833964,
           "photo_id": 0
          },
          {
           "-300-0ms": 0.9330439328125171,
           "0-150ms": -0.14923475216909218,
           "150-450ms": 0.4867844940215711,
           "photo_id": 0
          },
          {
           "-300-0ms": 0.7779907031812406,
           "0-150ms": 0.48167792581808455,
           "150-450ms": -0.7474443641093581,
           "photo_id": 0
          },
          {
           "-300-0ms": 1.2748918344008027,
           "0-150ms": -0.7507015765603772,
           "150-450ms": 1.231771527016229,
           "photo_id": 1
          },
          {
           "-300-0ms": 5.757198643743066,
           "0-150ms": 3.899914176395336,
           "150-450ms": 3.8432364584450434,
           "photo_id": 0
          },
          {
           "-300-0ms": -0.45147197405032885,
           "0-150ms": -4.766912958138336,
           "150-450ms": 0.3075619147118161,
           "photo_id": 0
          },
          {
           "-300-0ms": 3.7597740194876237,
           "0-150ms": 11.51994520301522,
           "150-450ms": -1.8759549400888604,
           "photo_id": 0
          },
          {
           "-300-0ms": 0.31238966696180936,
           "0-150ms": 2.1886621440704066,
           "150-450ms": -1.1120795524912903,
           "photo_id": 0
          },
          {
           "-300-0ms": -0.33889199122719016,
           "0-150ms": 2.012406278177845,
           "150-450ms": -0.23526033756879858,
           "photo_id": 0
          },
          {
           "-300-0ms": 0.5175674989207574,
           "0-150ms": 0.6798752841795498,
           "150-450ms": -0.26081035423160226,
           "photo_id": 0
          },
          {
           "-300-0ms": 2.5489069031367073,
           "0-150ms": 2.84441567021246,
           "150-450ms": 1.4129771811379073,
           "photo_id": 0
          },
          {
           "-300-0ms": 0.2586376001928556,
           "0-150ms": -0.4820086047823729,
           "150-450ms": -0.5558079679347419,
           "photo_id": 0
          },
          {
           "-300-0ms": -0.08552992149042421,
           "0-150ms": -0.18818245912185427,
           "150-450ms": -0.152143563081826,
           "photo_id": 0
          },
          {
           "-300-0ms": -0.7999292797901109,
           "0-150ms": -3.4539443211070076,
           "150-450ms": 0.03491802822206212,
           "photo_id": 0
          },
          {
           "-300-0ms": 0.3729084849527902,
           "0-150ms": 3.2034959900046065,
           "150-450ms": 1.1792892871532181,
           "photo_id": 0
          },
          {
           "-300-0ms": 0.3276077337428588,
           "0-150ms": 1.1607490995625447,
           "150-450ms": 0.0349569590264501,
           "photo_id": 0
          },
          {
           "-300-0ms": -0.028017076540166937,
           "0-150ms": 0.8405480786102121,
           "150-450ms": -0.28363030938640144,
           "photo_id": 0
          },
          {
           "-300-0ms": -0.9605470703683626,
           "0-150ms": -5.73437400935007,
           "150-450ms": 0.8476246996554434,
           "photo_id": 1
          },
          {
           "-300-0ms": -0.969915631762401,
           "0-150ms": 2.0516091251467765,
           "150-450ms": 0.7482206312940064,
           "photo_id": 0
          },
          {
           "-300-0ms": 0.17319915195322608,
           "0-150ms": 0.3587488518004955,
           "150-450ms": 0.2771225305497942,
           "photo_id": 0
          },
          {
           "-300-0ms": -1.4108959384500397,
           "0-150ms": 2.2367348845590436,
           "150-450ms": -2.087653959784084,
           "photo_id": 0
          },
          {
           "-300-0ms": -1.611346521506234,
           "0-150ms": 1.0066887646584612,
           "150-450ms": 0.12511436748594235,
           "photo_id": 0
          },
          {
           "-300-0ms": 4.106040139751972,
           "0-150ms": 3.996466176417554,
           "150-450ms": -0.20329494492082997,
           "photo_id": 0
          },
          {
           "-300-0ms": 6.302848307732603,
           "0-150ms": 20.43649161322072,
           "150-450ms": -2.63608460627166,
           "photo_id": 1
          },
          {
           "-300-0ms": -0.1262623643244971,
           "0-150ms": -0.33150946756629457,
           "150-450ms": -0.3866988881758176,
           "photo_id": 0
          },
          {
           "-300-0ms": 12.879273275563783,
           "0-150ms": 23.614028655975357,
           "150-450ms": 0.418455999019207,
           "photo_id": 0
          },
          {
           "-300-0ms": -0.3766390175003669,
           "0-150ms": 4.30269908869303,
           "150-450ms": -0.4845523228031437,
           "photo_id": 0
          },
          {
           "-300-0ms": 1.7637165619503434,
           "0-150ms": 2.6587307023160482,
           "150-450ms": 0.02005015607293519,
           "photo_id": 0
          },
          {
           "-300-0ms": -0.8755056786281137,
           "0-150ms": 1.362027730459098,
           "150-450ms": 0.00462075655881769,
           "photo_id": 0
          },
          {
           "-300-0ms": -0.19780142194150305,
           "0-150ms": 0.034313101965206205,
           "150-450ms": -0.28808834837975944,
           "photo_id": 0
          },
          {
           "-300-0ms": -1.75922319354872,
           "0-150ms": -3.021284726039299,
           "150-450ms": 0.4272301928789141,
           "photo_id": 0
          },
          {
           "-300-0ms": -4.933117062642495,
           "0-150ms": 13.081605161599663,
           "150-450ms": -1.3814027547802412,
           "photo_id": 0
          },
          {
           "-300-0ms": 1.7726785156427673,
           "0-150ms": -1.1957446517276185,
           "150-450ms": 0.056647388898798834,
           "photo_id": 0
          },
          {
           "-300-0ms": 17.170545152423916,
           "0-150ms": 48.859446436573954,
           "150-450ms": -2.695791775582654,
           "photo_id": 0
          },
          {
           "-300-0ms": -0.10836404938922,
           "0-150ms": -0.34469662241966875,
           "150-450ms": -0.27088740516472626,
           "photo_id": 0
          },
          {
           "-300-0ms": 1.1410386325783706,
           "0-150ms": 2.7429846885731095,
           "150-450ms": -0.981363287660502,
           "photo_id": 0
          },
          {
           "-300-0ms": -0.19721953571096904,
           "0-150ms": -1.729491296677864,
           "150-450ms": 0.3759617674634765,
           "photo_id": 0
          },
          {
           "-300-0ms": -0.20283019742257405,
           "0-150ms": 0.346181962528195,
           "150-450ms": 0.06508324810403139,
           "photo_id": 0
          },
          {
           "-300-0ms": 0.32307801329249297,
           "0-150ms": 0.09347947003985113,
           "150-450ms": -1.6136731707092178,
           "photo_id": 0
          },
          {
           "-300-0ms": -0.22010162498166008,
           "0-150ms": -0.04340489647984542,
           "150-450ms": 0.2674894021230401,
           "photo_id": 0
          },
          {
           "-300-0ms": 9.46523136386987,
           "0-150ms": 15.490465368386644,
           "150-450ms": 1.4654098309154273,
           "photo_id": 0
          },
          {
           "-300-0ms": -0.4316864508436879,
           "0-150ms": 0.1024551029431669,
           "150-450ms": 0.8487778144217438,
           "photo_id": 0
          },
          {
           "-300-0ms": -0.32413683854967945,
           "0-150ms": 3.0022241604076103,
           "150-450ms": 0.44869761594167556,
           "photo_id": 0
          },
          {
           "-300-0ms": -0.45365258354930854,
           "0-150ms": 3.415076040506842,
           "150-450ms": -0.7008137099192354,
           "photo_id": 0
          },
          {
           "-300-0ms": 2.3688667162001846,
           "0-150ms": -5.642104658303567,
           "150-450ms": -0.4200818153772423,
           "photo_id": 0
          },
          {
           "-300-0ms": -0.7566787905438023,
           "0-150ms": 1.924891419081071,
           "150-450ms": -0.42535103707414,
           "photo_id": 0
          },
          {
           "-300-0ms": -0.05622806095080851,
           "0-150ms": -3.1308573626537286,
           "150-450ms": -1.3022109357461888,
           "photo_id": 0
          },
          {
           "-300-0ms": -0.446429578287953,
           "0-150ms": 11.72669277530864,
           "150-450ms": 2.1329112545033615,
           "photo_id": 1
          },
          {
           "-300-0ms": 1.2174456679420547,
           "0-150ms": 0.8471275685594842,
           "150-450ms": -1.0081647005564947,
           "photo_id": 0
          },
          {
           "-300-0ms": -0.1042314255039924,
           "0-150ms": -0.006756109290900013,
           "150-450ms": 1.0339685698606031,
           "photo_id": 0
          },
          {
           "-300-0ms": -0.3468799259942473,
           "0-150ms": -0.08302289935563571,
           "150-450ms": -0.35834532105338174,
           "photo_id": 0
          },
          {
           "-300-0ms": 0.03228839825787363,
           "0-150ms": 2.9334435549185183,
           "150-450ms": 0.5026868357868403,
           "photo_id": 0
          },
          {
           "-300-0ms": 0.2985835176157705,
           "0-150ms": 0.17806898595535994,
           "150-450ms": -0.03345408133397555,
           "photo_id": 0
          },
          {
           "-300-0ms": 0.041688327728231465,
           "0-150ms": 0.9550876731789971,
           "150-450ms": -0.07959419205987135,
           "photo_id": 0
          },
          {
           "-300-0ms": 2.921975582172744,
           "0-150ms": 14.081280471819767,
           "150-450ms": -1.2365466509062917,
           "photo_id": 0
          },
          {
           "-300-0ms": 3.8681241187579984,
           "0-150ms": 10.841777561478603,
           "150-450ms": -0.9103629044510355,
           "photo_id": 0
          },
          {
           "-300-0ms": 10.42812816565216,
           "0-150ms": 1.5771235200404188,
           "150-450ms": 8.034191750253505,
           "photo_id": 0
          },
          {
           "-300-0ms": 1.0102866979891787,
           "0-150ms": 1.8513888169377035,
           "150-450ms": -0.17121341045830837,
           "photo_id": 0
          },
          {
           "-300-0ms": -1.4324629039502692,
           "0-150ms": -2.795716531815249,
           "150-450ms": -0.6580597340545298,
           "photo_id": 0
          },
          {
           "-300-0ms": -1.5804943069390163,
           "0-150ms": -0.21365911274489555,
           "150-450ms": -3.247382913163762,
           "photo_id": 0
          },
          {
           "-300-0ms": 3.5697134169357625,
           "0-150ms": 6.202648801244982,
           "150-450ms": -0.35836959119175077,
           "photo_id": 0
          },
          {
           "-300-0ms": 0.520360363841725,
           "0-150ms": 1.7577097167072167,
           "150-450ms": -0.3824229601476792,
           "photo_id": 0
          },
          {
           "-300-0ms": 0.03338928464380112,
           "0-150ms": 2.5134457231296596,
           "150-450ms": 0.5016991017197839,
           "photo_id": 0
          },
          {
           "-300-0ms": 0.7178449877932146,
           "0-150ms": 2.022425430590735,
           "150-450ms": -0.23880969728371937,
           "photo_id": 0
          },
          {
           "-300-0ms": -1.5558926666853103,
           "0-150ms": -3.8051101584334646,
           "150-450ms": -0.23280894621212536,
           "photo_id": 0
          },
          {
           "-300-0ms": 0.19366819227384344,
           "0-150ms": 0.5737447332363126,
           "150-450ms": -0.5030630491056155,
           "photo_id": 0
          },
          {
           "-300-0ms": 4.029837921272358,
           "0-150ms": 14.624115113170127,
           "150-450ms": 1.7990372966843322,
           "photo_id": 1
          },
          {
           "-300-0ms": 3.3641180347999105,
           "0-150ms": 1.1430070041810547,
           "150-450ms": 0.6937101518506325,
           "photo_id": 0
          },
          {
           "-300-0ms": 0.19856132445942068,
           "0-150ms": 1.912864264315531,
           "150-450ms": -0.2689329141679201,
           "photo_id": 0
          },
          {
           "-300-0ms": 0.5296216680689058,
           "0-150ms": 0.05200238033929619,
           "150-450ms": -0.8807982217746536,
           "photo_id": 0
          },
          {
           "-300-0ms": 1.3308243658186518,
           "0-150ms": 2.5260727565513332,
           "150-450ms": -1.767991513406623,
           "photo_id": 0
          },
          {
           "-300-0ms": 1.070994886669692,
           "0-150ms": 1.979019095871139,
           "150-450ms": 0.4164800003442837,
           "photo_id": 0
          },
          {
           "-300-0ms": 0.06643527932526146,
           "0-150ms": 0.8664328247099443,
           "150-450ms": -0.11184916930796808,
           "photo_id": 0
          },
          {
           "-300-0ms": 0.06328364889086836,
           "0-150ms": -0.005170392143127019,
           "150-450ms": -0.4139495150979165,
           "photo_id": 0
          },
          {
           "-300-0ms": -0.15133994501502254,
           "0-150ms": -1.0821226620685667,
           "150-450ms": 0.3377638342876447,
           "photo_id": 0
          },
          {
           "-300-0ms": 0.8515341066806096,
           "0-150ms": -0.5846428267732545,
           "150-450ms": 1.2771935713624811,
           "photo_id": 0
          },
          {
           "-300-0ms": -0.132123176103268,
           "0-150ms": 0.1226946639452315,
           "150-450ms": -0.18761740612351605,
           "photo_id": 0
          },
          {
           "-300-0ms": 0.13327078845989745,
           "0-150ms": -0.020958190967637135,
           "150-450ms": -0.7304925623960425,
           "photo_id": 0
          },
          {
           "-300-0ms": -0.6043713989179431,
           "0-150ms": -0.7683817813031794,
           "150-450ms": 0.43524776592150793,
           "photo_id": 0
          },
          {
           "-300-0ms": 0.4673077516193887,
           "0-150ms": 3.1748452775472606,
           "150-450ms": 1.3784086776708344,
           "photo_id": 0
          },
          {
           "-300-0ms": 20.35983672345195,
           "0-150ms": 43.44396356298893,
           "150-450ms": 2.638839936049301,
           "photo_id": 0
          },
          {
           "-300-0ms": 3.0838294963631436,
           "0-150ms": 9.050455096040414,
           "150-450ms": 0.6238162557855802,
           "photo_id": 0
          },
          {
           "-300-0ms": 1.0139987189777069,
           "0-150ms": 1.8341962342216258,
           "150-450ms": -0.2170364488857042,
           "photo_id": 0
          },
          {
           "-300-0ms": -1.9595790017797647,
           "0-150ms": -2.051395026141848,
           "150-450ms": -0.5427194042201182,
           "photo_id": 0
          },
          {
           "-300-0ms": 4.306764139932134,
           "0-150ms": 21.668241916351235,
           "150-450ms": -0.4644124009534043,
           "photo_id": 0
          },
          {
           "-300-0ms": -0.0074716651920281206,
           "0-150ms": -0.2966657161518986,
           "150-450ms": 0.11075739731311303,
           "photo_id": 0
          },
          {
           "-300-0ms": 0.4338534039532333,
           "0-150ms": -1.1125409423546915,
           "150-450ms": -1.2504321829454255,
           "photo_id": 0
          },
          {
           "-300-0ms": 0.05349316972676807,
           "0-150ms": -1.324638321158804,
           "150-450ms": -0.5763101343851467,
           "photo_id": 0
          },
          {
           "-300-0ms": 1.0669569914171129,
           "0-150ms": 0.2094154756579951,
           "150-450ms": 0.3694353957805905,
           "photo_id": 0
          },
          {
           "-300-0ms": 0.6152664018746413,
           "0-150ms": 1.320676733799347,
           "150-450ms": -0.2586922608478805,
           "photo_id": 0
          },
          {
           "-300-0ms": 4.995278002896517,
           "0-150ms": 9.305180491842366,
           "150-450ms": -0.1813872353579651,
           "photo_id": 0
          },
          {
           "-300-0ms": 2.5438641258964814,
           "0-150ms": -0.7294995628263613,
           "150-450ms": 3.5210938152485665,
           "photo_id": 0
          },
          {
           "-300-0ms": -0.5612513880481788,
           "0-150ms": -0.31283374769917366,
           "150-450ms": 0.09385028126219648,
           "photo_id": 0
          },
          {
           "-300-0ms": 2.4931887453460777,
           "0-150ms": 11.64456559461417,
           "150-450ms": -0.07612116509195022,
           "photo_id": 0
          },
          {
           "-300-0ms": 0.05906252988476504,
           "0-150ms": 3.2119003082386546,
           "150-450ms": -0.23799384462745424,
           "photo_id": 0
          },
          {
           "-300-0ms": -0.8615008337270357,
           "0-150ms": 0.41668369693862023,
           "150-450ms": -0.12746141938617608,
           "photo_id": 0
          },
          {
           "-300-0ms": 3.922390321119627,
           "0-150ms": 4.8161883980939715,
           "150-450ms": 0.16974416347851848,
           "photo_id": 0
          },
          {
           "-300-0ms": 2.624457176711068,
           "0-150ms": 6.342569344845814,
           "150-450ms": 2.5797366795594407,
           "photo_id": 0
          },
          {
           "-300-0ms": -1.2582734517420568,
           "0-150ms": -1.759519033259948,
           "150-450ms": -0.18600214392969447,
           "photo_id": 0
          },
          {
           "-300-0ms": -0.028805152007983448,
           "0-150ms": 0.1128524269240392,
           "150-450ms": 0.15372094585102417,
           "photo_id": 0
          },
          {
           "-300-0ms": -1.1192928678371235,
           "0-150ms": 5.410325672056459,
           "150-450ms": -0.5482035456319633,
           "photo_id": 0
          },
          {
           "-300-0ms": -1.8782232618559707,
           "0-150ms": -1.3936187428966313,
           "150-450ms": -0.25020802509122936,
           "photo_id": 0
          },
          {
           "-300-0ms": 15.866681739411291,
           "0-150ms": 39.769863305089935,
           "150-450ms": 2.003808693953807,
           "photo_id": 0
          },
          {
           "-300-0ms": -0.47998860279071504,
           "0-150ms": -2.003677806044835,
           "150-450ms": 0.3701987407843937,
           "photo_id": 0
          },
          {
           "-300-0ms": -0.10659861357268385,
           "0-150ms": -0.8926547104365644,
           "150-450ms": 0.1200763721087066,
           "photo_id": 0
          },
          {
           "-300-0ms": 0.7835949831859462,
           "0-150ms": -0.8337078149611857,
           "150-450ms": 0.6056908014225099,
           "photo_id": 0
          },
          {
           "-300-0ms": -1.689692132146633,
           "0-150ms": -4.335725033491856,
           "150-450ms": -0.46925862847504246,
           "photo_id": 0
          },
          {
           "-300-0ms": 0.2663915517846398,
           "0-150ms": 0.6839901131811641,
           "150-450ms": 0.5216615925848064,
           "photo_id": 0
          },
          {
           "-300-0ms": 39.97774734831403,
           "0-150ms": 75.73411046972669,
           "150-450ms": 2.30571218900738,
           "photo_id": 0
          },
          {
           "-300-0ms": 0.19833030320448478,
           "0-150ms": -0.004399686757403705,
           "150-450ms": -0.30861326970361075,
           "photo_id": 0
          },
          {
           "-300-0ms": -1.761068423233122,
           "0-150ms": -1.9526028975868144,
           "150-450ms": 0.25090915467526664,
           "photo_id": 0
          },
          {
           "-300-0ms": 1.2657782332860426,
           "0-150ms": -0.293731196775924,
           "150-450ms": 0.10650748761048268,
           "photo_id": 0
          },
          {
           "-300-0ms": 5.64040705824775,
           "0-150ms": 0.9690515481236908,
           "150-450ms": 0.64836427074667,
           "photo_id": 0
          },
          {
           "-300-0ms": 0.6007872036740504,
           "0-150ms": -0.6044548330472244,
           "150-450ms": -1.503379881495807,
           "photo_id": 0
          },
          {
           "-300-0ms": -0.8940829582384536,
           "0-150ms": 1.5605249757069295,
           "150-450ms": 0.48041328822714274,
           "photo_id": 0
          },
          {
           "-300-0ms": 1.279441707792684,
           "0-150ms": 1.0715875481825623,
           "150-450ms": -0.5352122121120689,
           "photo_id": 0
          },
          {
           "-300-0ms": -0.3913112995834675,
           "0-150ms": -0.9558556067470213,
           "150-450ms": -0.5645191388359271,
           "photo_id": 0
          },
          {
           "-300-0ms": -0.21423683799056512,
           "0-150ms": -0.24001041657821068,
           "150-450ms": -0.33190878514755423,
           "photo_id": 0
          },
          {
           "-300-0ms": -0.16956986114172146,
           "0-150ms": -1.1697154098958311,
           "150-450ms": 1.2878300052965879,
           "photo_id": 0
          },
          {
           "-300-0ms": -0.059157883699089475,
           "0-150ms": -0.6048425569156337,
           "150-450ms": -0.971400502096306,
           "photo_id": 0
          },
          {
           "-300-0ms": -1.255823345040574,
           "0-150ms": 2.982084333246966,
           "150-450ms": -2.852350622799925,
           "photo_id": 0
          },
          {
           "-300-0ms": -0.27952471911550686,
           "0-150ms": -0.3493286026115548,
           "150-450ms": -0.40631059763892247,
           "photo_id": 0
          },
          {
           "-300-0ms": -2.650634701088016,
           "0-150ms": 15.271084386943718,
           "150-450ms": -0.010623338162660296,
           "photo_id": 0
          },
          {
           "-300-0ms": -1.2060482228931397,
           "0-150ms": -2.676037480585625,
           "150-450ms": 0.4047124538988495,
           "photo_id": 0
          },
          {
           "-300-0ms": 2.6504596606644193,
           "0-150ms": 8.1683599788497,
           "150-450ms": 0.14550205638277205,
           "photo_id": 0
          },
          {
           "-300-0ms": -0.1552062379823942,
           "0-150ms": 0.2623358385198296,
           "150-450ms": -0.5922648541752975,
           "photo_id": 0
          },
          {
           "-300-0ms": -0.008488531096438379,
           "0-150ms": -0.031464961011131894,
           "150-450ms": 1.0952400808771945,
           "photo_id": 0
          },
          {
           "-300-0ms": -1.343037920510301,
           "0-150ms": -4.592214438657784,
           "150-450ms": -1.8520664229231265,
           "photo_id": 0
          },
          {
           "-300-0ms": 3.909379047984073,
           "0-150ms": -4.810742369481161,
           "150-450ms": 2.806608933576191,
           "photo_id": 0
          },
          {
           "-300-0ms": 2.4167011344040703,
           "0-150ms": 4.996364120188732,
           "150-450ms": -1.360865529098249,
           "photo_id": 1
          },
          {
           "-300-0ms": 38.991146626730846,
           "0-150ms": 58.76571859159376,
           "150-450ms": -0.5503665172916795,
           "photo_id": 0
          },
          {
           "-300-0ms": 3.703892101892354,
           "0-150ms": 4.480354538818207,
           "150-450ms": 0.9279353692217742,
           "photo_id": 0
          },
          {
           "-300-0ms": 0.7462776977114584,
           "0-150ms": 0.7417339583561904,
           "150-450ms": 0.2391525697908842,
           "photo_id": 0
          },
          {
           "-300-0ms": -0.01705064068335359,
           "0-150ms": -0.9380716934852575,
           "150-450ms": -0.02384144190182591,
           "photo_id": 0
          },
          {
           "-300-0ms": -0.8127066369057375,
           "0-150ms": 0.3124547550655727,
           "150-450ms": -1.4642983146444546,
           "photo_id": 0
          },
          {
           "-300-0ms": 0.260221975017197,
           "0-150ms": -0.6735427292564333,
           "150-450ms": 1.1984138038926224,
           "photo_id": 0
          },
          {
           "-300-0ms": 1.0102522771372573,
           "0-150ms": 1.7432290770004508,
           "150-450ms": 0.8311370686246607,
           "photo_id": 0
          },
          {
           "-300-0ms": -0.9514202072407291,
           "0-150ms": 3.6504376552767996,
           "150-450ms": -0.6287282011153273,
           "photo_id": 0
          },
          {
           "-300-0ms": 0.13133520583325045,
           "0-150ms": -0.33948898070991046,
           "150-450ms": -0.236245509656733,
           "photo_id": 0
          },
          {
           "-300-0ms": -0.08706085747822194,
           "0-150ms": 1.6976957720789752,
           "150-450ms": -0.17783691933945148,
           "photo_id": 0
          },
          {
           "-300-0ms": -0.3142251982744154,
           "0-150ms": -0.8100369150350785,
           "150-450ms": -0.23469634150339702,
           "photo_id": 0
          },
          {
           "-300-0ms": -0.40045354155775864,
           "0-150ms": -1.0347843699734125,
           "150-450ms": -0.5429178097226691,
           "photo_id": 0
          },
          {
           "-300-0ms": 0.12036531396016435,
           "0-150ms": 0.5686033734625692,
           "150-450ms": 0.059013670812342045,
           "photo_id": 0
          },
          {
           "-300-0ms": 0.05378865027772925,
           "0-150ms": -0.406476916185593,
           "150-450ms": -0.09077869342941343,
           "photo_id": 0
          },
          {
           "-300-0ms": 0.6661976105897253,
           "0-150ms": -0.12337059835021957,
           "150-450ms": 1.0746234460589879,
           "photo_id": 0
          },
          {
           "-300-0ms": 0.16718175004446842,
           "0-150ms": 0.4270671102183223,
           "150-450ms": 0.2098692891701884,
           "photo_id": 0
          },
          {
           "-300-0ms": -1.8230306936056115,
           "0-150ms": 4.987372294354009,
           "150-450ms": -0.5005770006572533,
           "photo_id": 0
          },
          {
           "-300-0ms": 2.3196684881141305,
           "0-150ms": 5.95311584712929,
           "150-450ms": -0.8142752315930855,
           "photo_id": 1
          },
          {
           "-300-0ms": 0.6428539581567918,
           "0-150ms": 0.1073292291597044,
           "150-450ms": 0.10473807314633177,
           "photo_id": 0
          },
          {
           "-300-0ms": -0.5330974509591347,
           "0-150ms": 11.551667673367215,
           "150-450ms": -1.0397944902806633,
           "photo_id": 0
          },
          {
           "-300-0ms": 0.6900776336080691,
           "0-150ms": 0.48640846993518855,
           "150-450ms": -0.1364106724069047,
           "photo_id": 0
          },
          {
           "-300-0ms": -6.77501178171514,
           "0-150ms": -1.7732144709297575,
           "150-450ms": -2.8768533363691904,
           "photo_id": 0
          },
          {
           "-300-0ms": 0.6954078163005869,
           "0-150ms": 6.320349075340691,
           "150-450ms": -0.4894062954217879,
           "photo_id": 0
          },
          {
           "-300-0ms": -1.5781028317618009,
           "0-150ms": 4.110640781154026,
           "150-450ms": -0.7275571484421001,
           "photo_id": 0
          },
          {
           "-300-0ms": -0.7834203963362941,
           "0-150ms": -0.28472843657830244,
           "150-450ms": 0.16691602870414038,
           "photo_id": 0
          },
          {
           "-300-0ms": 1.213759098940326,
           "0-150ms": -0.5224044340147195,
           "150-450ms": 0.12630380794285756,
           "photo_id": 0
          },
          {
           "-300-0ms": -0.10661545400317145,
           "0-150ms": 2.461504113191355,
           "150-450ms": 0.2837622152534283,
           "photo_id": 0
          },
          {
           "-300-0ms": 0.5016602345776531,
           "0-150ms": -0.47248496000117024,
           "150-450ms": 1.8029175676854436,
           "photo_id": 0
          },
          {
           "-300-0ms": 0.053173634355233416,
           "0-150ms": 0.6994217455765019,
           "150-450ms": -0.1833339635687713,
           "photo_id": 0
          },
          {
           "-300-0ms": -0.7036865621937453,
           "0-150ms": -1.5303736270337767,
           "150-450ms": 0.23574311898556774,
           "photo_id": 0
          },
          {
           "-300-0ms": 1.0168232634113945,
           "0-150ms": 4.347341656866171,
           "150-450ms": 0.1866044161669874,
           "photo_id": 0
          },
          {
           "-300-0ms": 0.329177802222868,
           "0-150ms": 8.134391538861292,
           "150-450ms": -1.3350561388920905,
           "photo_id": 0
          },
          {
           "-300-0ms": -0.29475213007844897,
           "0-150ms": -0.3779664059034022,
           "150-450ms": -0.1698860299666224,
           "photo_id": 1
          },
          {
           "-300-0ms": 0.009924196756553575,
           "0-150ms": -0.20551977628519272,
           "150-450ms": -0.03139579851533956,
           "photo_id": 0
          },
          {
           "-300-0ms": -16.561120640243598,
           "0-150ms": 8.769347001092305,
           "150-450ms": -9.855571904227304,
           "photo_id": 0
          },
          {
           "-300-0ms": -0.07641035221503872,
           "0-150ms": 0.49278897604351174,
           "150-450ms": -0.0015310390446452969,
           "photo_id": 0
          },
          {
           "-300-0ms": -0.3717514442548133,
           "0-150ms": -1.62635974343004,
           "150-450ms": -0.0280171945085127,
           "photo_id": 0
          },
          {
           "-300-0ms": 6.098242365275282,
           "0-150ms": 17.71645250183998,
           "150-450ms": -0.3607780074197715,
           "photo_id": 0
          },
          {
           "-300-0ms": -0.243976235440838,
           "0-150ms": 0.5362964577891126,
           "150-450ms": 0.11210680741339916,
           "photo_id": 0
          },
          {
           "-300-0ms": -0.4321085852868843,
           "0-150ms": -0.1813039370984554,
           "150-450ms": -0.009605448754402793,
           "photo_id": 0
          },
          {
           "-300-0ms": 0.13268949594077875,
           "0-150ms": -0.6816495885042898,
           "150-450ms": 0.24885243376737876,
           "photo_id": 0
          },
          {
           "-300-0ms": 1.0383556001291598,
           "0-150ms": -0.542367016311157,
           "150-450ms": 0.36471214671448965,
           "photo_id": 0
          },
          {
           "-300-0ms": -3.073676099260006,
           "0-150ms": -4.061641256504959,
           "150-450ms": -1.1698110427097348,
           "photo_id": 0
          },
          {
           "-300-0ms": -0.15415416896477058,
           "0-150ms": -0.9056982211876653,
           "150-450ms": 0.49472086851496505,
           "photo_id": 0
          },
          {
           "-300-0ms": -0.5471477549534156,
           "0-150ms": -0.9076782148819187,
           "150-450ms": 0.2665391850565451,
           "photo_id": 0
          },
          {
           "-300-0ms": 3.080572014155963,
           "0-150ms": -0.020082007979750276,
           "150-450ms": 1.5132390371103643,
           "photo_id": 0
          },
          {
           "-300-0ms": 0.35722992574645324,
           "0-150ms": -1.2429066888568114,
           "150-450ms": 0.5236490449218353,
           "photo_id": 0
          },
          {
           "-300-0ms": 0.24977155632977008,
           "0-150ms": 0.16962538209127578,
           "150-450ms": -0.11833191970999764,
           "photo_id": 0
          },
          {
           "-300-0ms": 0.2058483956415,
           "0-150ms": 2.365973058323879,
           "150-450ms": 0.33356650096553064,
           "photo_id": 0
          },
          {
           "-300-0ms": 1.2401340797074438,
           "0-150ms": 9.20001290622063,
           "150-450ms": -0.9923247799317095,
           "photo_id": 0
          },
          {
           "-300-0ms": -0.05207511467937623,
           "0-150ms": -0.18424087476129128,
           "150-450ms": 0.013555988218973426,
           "photo_id": 0
          },
          {
           "-300-0ms": -5.562011537876007,
           "0-150ms": 0.39103893531048417,
           "150-450ms": -1.1467722504847895,
           "photo_id": 0
          },
          {
           "-300-0ms": 9.250148403710858,
           "0-150ms": 4.880283216672274,
           "150-450ms": 2.061010414464376,
           "photo_id": 0
          },
          {
           "-300-0ms": -0.7761048218044279,
           "0-150ms": 2.8364838891505415,
           "150-450ms": 3.277482554913527,
           "photo_id": 0
          },
          {
           "-300-0ms": 0.00055314920696282,
           "0-150ms": 0.27833450214254013,
           "150-450ms": -0.17670267930050285,
           "photo_id": 0
          },
          {
           "-300-0ms": 4.208760257682315,
           "0-150ms": 0.03353941691691453,
           "150-450ms": 0.09721866191964403,
           "photo_id": 0
          },
          {
           "-300-0ms": 0.9838619951852391,
           "0-150ms": -2.7296875280392423,
           "150-450ms": -0.6283552756910157,
           "photo_id": 0
          },
          {
           "-300-0ms": -0.9116767070170263,
           "0-150ms": -1.0682946746865876,
           "150-450ms": 0.36254239235932517,
           "photo_id": 0
          },
          {
           "-300-0ms": 0.05900638501395247,
           "0-150ms": -0.30791128744066676,
           "150-450ms": -0.8777694152757128,
           "photo_id": 0
          },
          {
           "-300-0ms": -1.8706932173532274,
           "0-150ms": 10.989848889072713,
           "150-450ms": -1.4579377832223335,
           "photo_id": 0
          },
          {
           "-300-0ms": 0.30040155459349055,
           "0-150ms": 1.2875987857694549,
           "150-450ms": 0.19209031692377246,
           "photo_id": 0
          },
          {
           "-300-0ms": 1.9234922569212565,
           "0-150ms": 4.488438504176165,
           "150-450ms": 0.548807083732492,
           "photo_id": 0
          },
          {
           "-300-0ms": 1.494039595911657,
           "0-150ms": 3.642208260666836,
           "150-450ms": -0.5171343853843046,
           "photo_id": 0
          },
          {
           "-300-0ms": -15.870127222317876,
           "0-150ms": 7.9067010506748305,
           "150-450ms": -15.124352386368443,
           "photo_id": 0
          },
          {
           "-300-0ms": 0.008562295568326161,
           "0-150ms": 1.4032803166988577,
           "150-450ms": 0.20522166056137903,
           "photo_id": 0
          },
          {
           "-300-0ms": -0.37850753394605424,
           "0-150ms": 2.154831434179123,
           "150-450ms": 2.4481500897785367,
           "photo_id": 0
          },
          {
           "-300-0ms": -6.52252185697943,
           "0-150ms": 5.502530139317599,
           "150-450ms": -2.350090919133114,
           "photo_id": 0
          },
          {
           "-300-0ms": -0.1986462490077123,
           "0-150ms": 0.05488454627651857,
           "150-450ms": 0.3274147562614689,
           "photo_id": 0
          },
          {
           "-300-0ms": 7.379313947665739,
           "0-150ms": 0.5543328759791661,
           "150-450ms": 0.6307311071132403,
           "photo_id": 0
          },
          {
           "-300-0ms": -1.680811652402397,
           "0-150ms": -1.242190947164495,
           "150-450ms": -0.442427180698538,
           "photo_id": 0
          },
          {
           "-300-0ms": 0.21742137233774672,
           "0-150ms": -0.10768139907480302,
           "150-450ms": 0.18703197598698426,
           "photo_id": 0
          },
          {
           "-300-0ms": 1.2172285558357077,
           "0-150ms": -4.436572390214223,
           "150-450ms": -1.3358880202589678,
           "photo_id": 0
          },
          {
           "-300-0ms": 0.09963361145277339,
           "0-150ms": -0.3732738413374029,
           "150-450ms": 0.1518413681497762,
           "photo_id": 0
          },
          {
           "-300-0ms": -0.45931368793220906,
           "0-150ms": 3.5914504710475215,
           "150-450ms": 0.12404953955258143,
           "photo_id": 0
          },
          {
           "-300-0ms": 3.2755851938994476,
           "0-150ms": -0.5917090577822167,
           "150-450ms": 1.093388864237966,
           "photo_id": 0
          },
          {
           "-300-0ms": -0.30545024156457956,
           "0-150ms": 1.0511770516066357,
           "150-450ms": -1.592623797120714,
           "photo_id": 0
          },
          {
           "-300-0ms": -1.275462223400837,
           "0-150ms": 7.689906153750595,
           "150-450ms": -0.26616308116617027,
           "photo_id": 0
          },
          {
           "-300-0ms": -5.821464611337592,
           "0-150ms": -4.008117447658729,
           "150-450ms": -4.892021953000256,
           "photo_id": 0
          },
          {
           "-300-0ms": -0.5095918281952897,
           "0-150ms": 2.149786611843991,
           "150-450ms": -0.8077079895251842,
           "photo_id": 0
          },
          {
           "-300-0ms": 0.39782914551390225,
           "0-150ms": 1.1770429618937488,
           "150-450ms": 0.6738539291457877,
           "photo_id": 0
          },
          {
           "-300-0ms": 0.2948893972707433,
           "0-150ms": -0.1218496869369506,
           "150-450ms": -0.02426671654862729,
           "photo_id": 0
          },
          {
           "-300-0ms": 0.9675463703899784,
           "0-150ms": 3.1485100319685717,
           "150-450ms": 0.2209646481387891,
           "photo_id": 0
          },
          {
           "-300-0ms": 0.08902695455891196,
           "0-150ms": 1.0009217281540637,
           "150-450ms": 0.009439481802663068,
           "photo_id": 0
          },
          {
           "-300-0ms": 1.054897939985156,
           "0-150ms": 1.6546333888570182,
           "150-450ms": 0.2752452823743327,
           "photo_id": 0
          },
          {
           "-300-0ms": 1.104319303636223,
           "0-150ms": -0.6260004444137168,
           "150-450ms": 1.9334930360621712,
           "photo_id": 0
          },
          {
           "-300-0ms": 1.2377600243105316,
           "0-150ms": -1.1505909815406743,
           "150-450ms": 0.21656514362150073,
           "photo_id": 0
          },
          {
           "-300-0ms": 0.11235216558700663,
           "0-150ms": -0.5601299898570931,
           "150-450ms": -0.5921279025173015,
           "photo_id": 0
          },
          {
           "-300-0ms": 0.3000994638645456,
           "0-150ms": 0.39456922353590973,
           "150-450ms": -0.07455670160745027,
           "photo_id": 0
          },
          {
           "-300-0ms": 1.982334347162425,
           "0-150ms": 37.84564281172688,
           "150-450ms": -0.9501237305415274,
           "photo_id": 0
          },
          {
           "-300-0ms": -0.7461408564615266,
           "0-150ms": -0.681458310066572,
           "150-450ms": 2.180978136843483,
           "photo_id": 0
          },
          {
           "-300-0ms": -0.11619436910876922,
           "0-150ms": 0.4460717741666112,
           "150-450ms": -0.05475246851901918,
           "photo_id": 0
          },
          {
           "-300-0ms": 0.773701140911362,
           "0-150ms": 0.7026349961060209,
           "150-450ms": 0.4047245154306158,
           "photo_id": 0
          },
          {
           "-300-0ms": -0.6062555500193432,
           "0-150ms": -3.9881116397055805,
           "150-450ms": -1.9375674241516745,
           "photo_id": 0
          },
          {
           "-300-0ms": 0.26238901816058763,
           "0-150ms": -1.0806842559929828,
           "150-450ms": 0.47293680406001165,
           "photo_id": 0
          },
          {
           "-300-0ms": 0.10216639320286414,
           "0-150ms": -0.6555354385644208,
           "150-450ms": 0.4576285157046894,
           "photo_id": 0
          },
          {
           "-300-0ms": 4.26483839125138,
           "0-150ms": 9.501532818442548,
           "150-450ms": -0.7018405183899016,
           "photo_id": 0
          },
          {
           "-300-0ms": 0.053017573400226864,
           "0-150ms": 0.1028983865751051,
           "150-450ms": -0.1388886959952681,
           "photo_id": 0
          },
          {
           "-300-0ms": 3.9115164317172897,
           "0-150ms": 4.847036572004036,
           "150-450ms": 1.7264732975711852,
           "photo_id": 0
          },
          {
           "-300-0ms": 0.3625418393682829,
           "0-150ms": 0.6359154337219661,
           "150-450ms": -0.6608523055750181,
           "photo_id": 0
          },
          {
           "-300-0ms": 1.7617582955880087,
           "0-150ms": 0.03186985767451322,
           "150-450ms": 0.49566118937810977,
           "photo_id": 0
          },
          {
           "-300-0ms": 0.28318575982132743,
           "0-150ms": 0.7748042616103082,
           "150-450ms": -0.570840492242099,
           "photo_id": 0
          },
          {
           "-300-0ms": -0.26638739627145575,
           "0-150ms": -0.6868141382912737,
           "150-450ms": 0.05437368479935967,
           "photo_id": 0
          },
          {
           "-300-0ms": 0.4861576866772543,
           "0-150ms": 6.116969966331323,
           "150-450ms": -0.3773135339407209,
           "photo_id": 0
          },
          {
           "-300-0ms": -4.69154145704053,
           "0-150ms": 3.4040060526054714,
           "150-450ms": -6.992874972489992,
           "photo_id": 0
          },
          {
           "-300-0ms": 0.9453722265967263,
           "0-150ms": 1.4388170248744918,
           "150-450ms": -0.12309346779368442,
           "photo_id": 0
          },
          {
           "-300-0ms": -0.5702017773495623,
           "0-150ms": 1.274500971378231,
           "150-450ms": -2.23110446217711,
           "photo_id": 0
          },
          {
           "-300-0ms": 3.5010287284255255,
           "0-150ms": 21.492561307358006,
           "150-450ms": 0.11974487611655722,
           "photo_id": 0
          },
          {
           "-300-0ms": 1.0987390107344666,
           "0-150ms": 1.5087108242310379,
           "150-450ms": 0.2422674860317695,
           "photo_id": 0
          },
          {
           "-300-0ms": -0.5913391970555651,
           "0-150ms": -0.6648088182850894,
           "150-450ms": -1.7221994293325797,
           "photo_id": 0
          },
          {
           "-300-0ms": -0.11616572388905227,
           "0-150ms": 0.07412594579408563,
           "150-450ms": 0.11892390648500671,
           "photo_id": 0
          },
          {
           "-300-0ms": -0.04049363174501586,
           "0-150ms": 4.827314095247799,
           "150-450ms": -0.3021420361519454,
           "photo_id": 0
          },
          {
           "-300-0ms": -0.8836173136215498,
           "0-150ms": -1.6781737970089126,
           "150-450ms": 1.256270243607879,
           "photo_id": 0
          },
          {
           "-300-0ms": 2.7765853902688193,
           "0-150ms": 1.1909508245170435,
           "150-450ms": 0.3995590983008717,
           "photo_id": 0
          },
          {
           "-300-0ms": -0.333304807197583,
           "0-150ms": 4.461859290329326,
           "150-450ms": 0.8891764467368627,
           "photo_id": 0
          },
          {
           "-300-0ms": 0.21472910896268882,
           "0-150ms": -1.1256854093061046,
           "150-450ms": -0.3628895434826622,
           "photo_id": 0
          },
          {
           "-300-0ms": 1.8626878442315091,
           "0-150ms": -0.6252738285589673,
           "150-450ms": -0.2632649936072092,
           "photo_id": 0
          },
          {
           "-300-0ms": 0.4983626891848856,
           "0-150ms": -0.17642245613157,
           "150-450ms": -0.4078169943160957,
           "photo_id": 0
          },
          {
           "-300-0ms": 0.9202847936182522,
           "0-150ms": 13.74860624130995,
           "150-450ms": -5.762880741983412,
           "photo_id": 0
          },
          {
           "-300-0ms": 8.605254141801261,
           "0-150ms": 31.98891934655933,
           "150-450ms": 1.0659179572162847,
           "photo_id": 0
          },
          {
           "-300-0ms": -1.1623655510340758,
           "0-150ms": -1.01192913839749,
           "150-450ms": -0.3176021802777725,
           "photo_id": 0
          },
          {
           "-300-0ms": -0.4484475376805665,
           "0-150ms": -1.784625738588578,
           "150-450ms": -0.13731344322183947,
           "photo_id": 0
          },
          {
           "-300-0ms": 0.04388667780303183,
           "0-150ms": -0.15158982187476452,
           "150-450ms": 0.14838046136114166,
           "photo_id": 0
          },
          {
           "-300-0ms": 2.805162843270709,
           "0-150ms": 14.493685818056578,
           "150-450ms": -3.832597995309582,
           "photo_id": 0
          },
          {
           "-300-0ms": 3.745097526612726,
           "0-150ms": 10.116901593918309,
           "150-450ms": -1.1621267177979295,
           "photo_id": 0
          },
          {
           "-300-0ms": 1.7739174890088731,
           "0-150ms": 8.427198769220132,
           "150-450ms": -0.5529523443929619,
           "photo_id": 0
          },
          {
           "-300-0ms": 2.3182028344791386,
           "0-150ms": 5.997624411392212,
           "150-450ms": 0.881095669396951,
           "photo_id": 0
          },
          {
           "-300-0ms": 0.7027510527294515,
           "0-150ms": 0.6433906085960931,
           "150-450ms": 1.7390369976121203,
           "photo_id": 0
          },
          {
           "-300-0ms": 0.4691149541348892,
           "0-150ms": 4.6534040419686455,
           "150-450ms": 1.1705558486543803,
           "photo_id": 0
          },
          {
           "-300-0ms": -0.1996975841280956,
           "0-150ms": 2.713527733554147,
           "150-450ms": 0.19904114628685254,
           "photo_id": 0
          },
          {
           "-300-0ms": 3.14853099258014,
           "0-150ms": 27.762011260947347,
           "150-450ms": 0.8904483946142822,
           "photo_id": 0
          },
          {
           "-300-0ms": 0.273980627526522,
           "0-150ms": 1.4912620964731216,
           "150-450ms": -0.06469177585406553,
           "photo_id": 0
          },
          {
           "-300-0ms": 1.24291401567516,
           "0-150ms": -0.25570277786512297,
           "150-450ms": -0.6025087059408727,
           "photo_id": 0
          },
          {
           "-300-0ms": -0.03376117997315862,
           "0-150ms": -1.0513167513159345,
           "150-450ms": -0.635786525192458,
           "photo_id": 0
          },
          {
           "-300-0ms": -0.526902783972968,
           "0-150ms": -1.2300814762967154,
           "150-450ms": 0.8107719575986293,
           "photo_id": 0
          },
          {
           "-300-0ms": -0.05406823107678285,
           "0-150ms": -0.15459287150017012,
           "150-450ms": 0.15320793103417052,
           "photo_id": 0
          },
          {
           "-300-0ms": 3.0567293354653873,
           "0-150ms": 10.283678057664503,
           "150-450ms": 0.9387192991923027,
           "photo_id": 0
          },
          {
           "-300-0ms": 0.06545242229678461,
           "0-150ms": 0.06297781416602907,
           "150-450ms": -0.12045722381194358,
           "photo_id": 0
          },
          {
           "-300-0ms": -1.0995667184151081,
           "0-150ms": -1.418518980057503,
           "150-450ms": 1.2147987342789364,
           "photo_id": 0
          },
          {
           "-300-0ms": 2.2267861267592264,
           "0-150ms": 3.867733818130434,
           "150-450ms": -0.6145653680900647,
           "photo_id": 0
          },
          {
           "-300-0ms": 3.1327959725504244,
           "0-150ms": 2.5373610417185097,
           "150-450ms": 0.6700372772529827,
           "photo_id": 0
          },
          {
           "-300-0ms": -2.103119153794578,
           "0-150ms": 5.554586388387126,
           "150-450ms": -0.9273438944668234,
           "photo_id": 0
          },
          {
           "-300-0ms": -0.5268138061580243,
           "0-150ms": -1.0728870777581452,
           "150-450ms": 1.7439282152455657,
           "photo_id": 0
          },
          {
           "-300-0ms": 0.20860685664905412,
           "0-150ms": 0.8771068338093441,
           "150-450ms": 0.3844975956191241,
           "photo_id": 0
          },
          {
           "-300-0ms": -0.9792709642330122,
           "0-150ms": -0.4347860941495498,
           "150-450ms": 1.955370107465688,
           "photo_id": 0
          },
          {
           "-300-0ms": -0.530884812938896,
           "0-150ms": -0.8220976196364039,
           "150-450ms": 0.2676566289701468,
           "photo_id": 0
          },
          {
           "-300-0ms": -0.4892674198724099,
           "0-150ms": 0.034191174710321535,
           "150-450ms": 1.0057070158282428,
           "photo_id": 0
          },
          {
           "-300-0ms": 1.2521290426771303,
           "0-150ms": 1.1126379424643777,
           "150-450ms": 0.5897276950177993,
           "photo_id": 0
          },
          {
           "-300-0ms": 0.48729647586516417,
           "0-150ms": 8.852335777635176,
           "150-450ms": -0.6343821612680133,
           "photo_id": 0
          },
          {
           "-300-0ms": -2.198479275520594,
           "0-150ms": -6.204452199505902,
           "150-450ms": 0.2585020018309018,
           "photo_id": 0
          },
          {
           "-300-0ms": 2.3041560277655546,
           "0-150ms": -0.17022519847922793,
           "150-450ms": 5.532625281863862,
           "photo_id": 0
          },
          {
           "-300-0ms": 3.0297858788818233,
           "0-150ms": -0.8679552209265594,
           "150-450ms": 4.227772629849119,
           "photo_id": 0
          },
          {
           "-300-0ms": 1.9923381737493628,
           "0-150ms": 2.6232160450713207,
           "150-450ms": 1.8755476341973687,
           "photo_id": 0
          },
          {
           "-300-0ms": 0.31940448325065157,
           "0-150ms": 7.5810630422704515,
           "150-450ms": -4.616316307638397,
           "photo_id": 0
          },
          {
           "-300-0ms": -1.9797854517809412,
           "0-150ms": 12.501371934347153,
           "150-450ms": -1.3040479439818073,
           "photo_id": 0
          },
          {
           "-300-0ms": 1.5453462997524827,
           "0-150ms": -2.2929774256285573,
           "150-450ms": -0.8000902227885395,
           "photo_id": 0
          },
          {
           "-300-0ms": -0.2138283268931965,
           "0-150ms": 5.308498253339157,
           "150-450ms": 0.08038501054030561,
           "photo_id": 0
          },
          {
           "-300-0ms": 2.1920646292682604,
           "0-150ms": 0.8903956962407685,
           "150-450ms": 0.7511616734939205,
           "photo_id": 0
          },
          {
           "-300-0ms": -1.4321908293990069,
           "0-150ms": -2.8839084337520156,
           "150-450ms": 0.21671814595327535,
           "photo_id": 0
          },
          {
           "-300-0ms": 0.8014258989973673,
           "0-150ms": 0.7314416671982732,
           "150-450ms": 1.6253738177711414,
           "photo_id": 0
          },
          {
           "-300-0ms": 0.7773319571597831,
           "0-150ms": 2.651151618448796,
           "150-450ms": 0.554009650298889,
           "photo_id": 0
          },
          {
           "-300-0ms": -0.9770482803919077,
           "0-150ms": -0.8099262787536571,
           "150-450ms": -0.2846842534085829,
           "photo_id": 0
          },
          {
           "-300-0ms": -1.4311773281041644,
           "0-150ms": -2.7329272421841875,
           "150-450ms": -0.00023128421236945362,
           "photo_id": 0
          },
          {
           "-300-0ms": -0.6288872768102582,
           "0-150ms": -1.1665824005722782,
           "150-450ms": 1.954353743666413,
           "photo_id": 0
          },
          {
           "-300-0ms": 0.09072894851580639,
           "0-150ms": 0.10347009466918161,
           "150-450ms": -0.019327305213374973,
           "photo_id": 0
          },
          {
           "-300-0ms": 0.8168839519662418,
           "0-150ms": 12.988852517159922,
           "150-450ms": -3.207034705853806,
           "photo_id": 0
          },
          {
           "-300-0ms": 5.00273794380552,
           "0-150ms": 3.566272666107256,
           "150-450ms": 2.171593770542872,
           "photo_id": 0
          },
          {
           "-300-0ms": 0.24064785387261492,
           "0-150ms": -6.529455593594791,
           "150-450ms": 0.5224471090086856,
           "photo_id": 0
          },
          {
           "-300-0ms": 1.9872456773301943,
           "0-150ms": 9.522081696946303,
           "150-450ms": 3.73011964913027,
           "photo_id": 0
          },
          {
           "-300-0ms": 0.4319804140624888,
           "0-150ms": -3.7225920915820545,
           "150-450ms": 1.3734186544577627,
           "photo_id": 0
          },
          {
           "-300-0ms": 1.1696516474371312,
           "0-150ms": 2.3694381651528227,
           "150-450ms": 0.13066837379796134,
           "photo_id": 0
          },
          {
           "-300-0ms": 0.36902718620293923,
           "0-150ms": -1.88319477921797,
           "150-450ms": -1.0411085204058008,
           "photo_id": 0
          },
          {
           "-300-0ms": 0.8456087082938022,
           "0-150ms": 0.5993836953261553,
           "150-450ms": 2.5046833228554077,
           "photo_id": 0
          },
          {
           "-300-0ms": 0.08093880482162659,
           "0-150ms": 5.460530382301175,
           "150-450ms": -0.748065295754255,
           "photo_id": 0
          },
          {
           "-300-0ms": 1.2795917284183478,
           "0-150ms": 3.0169192226996913,
           "150-450ms": 0.5981324743005901,
           "photo_id": 0
          },
          {
           "-300-0ms": 0.34819609192345463,
           "0-150ms": -2.6501589524157416,
           "150-450ms": 0.15296456582347,
           "photo_id": 0
          },
          {
           "-300-0ms": 1.9290577177332981,
           "0-150ms": 0.39557716670564846,
           "150-450ms": 0.2970384514122926,
           "photo_id": 0
          },
          {
           "-300-0ms": 0.7806355934200505,
           "0-150ms": -8.518619301825504,
           "150-450ms": -3.688876155609769,
           "photo_id": 0
          },
          {
           "-300-0ms": -0.33773985291599423,
           "0-150ms": -0.5187742451219582,
           "150-450ms": 0.64242321581639,
           "photo_id": 0
          },
          {
           "-300-0ms": -0.18395203916621528,
           "0-150ms": -0.10263311500498291,
           "150-450ms": 0.10566404307312736,
           "photo_id": 0
          },
          {
           "-300-0ms": -0.3163965832508018,
           "0-150ms": -0.0299611049200533,
           "150-450ms": 0.7582197495777487,
           "photo_id": 0
          },
          {
           "-300-0ms": -0.0406559504432803,
           "0-150ms": -2.260369580115063,
           "150-450ms": 1.3838089307036585,
           "photo_id": 0
          },
          {
           "-300-0ms": -1.8455132472051898,
           "0-150ms": -1.3561409249634249,
           "150-450ms": 0.08923278394383279,
           "photo_id": 0
          },
          {
           "-300-0ms": -2.3995906909451423,
           "0-150ms": 1.197528306338238,
           "150-450ms": -0.7594333437173065,
           "photo_id": 0
          },
          {
           "-300-0ms": 0.4368970322321184,
           "0-150ms": 0.8316140018098483,
           "150-450ms": -0.2955415697924521,
           "photo_id": 0
          },
          {
           "-300-0ms": 0.8478039128819493,
           "0-150ms": 4.82548000308901,
           "150-450ms": -2.871005685802903,
           "photo_id": 0
          },
          {
           "-300-0ms": -0.19202122729322021,
           "0-150ms": -0.17016069960933666,
           "150-450ms": -0.2830062258557605,
           "photo_id": 0
          },
          {
           "-300-0ms": 1.8225634650668656,
           "0-150ms": 0.24626342535147794,
           "150-450ms": -0.09961651072070567,
           "photo_id": 0
          },
          {
           "-300-0ms": 1.809081673260694,
           "0-150ms": 1.3591222434532535,
           "150-450ms": -0.880067928003673,
           "photo_id": 0
          },
          {
           "-300-0ms": -0.6728027600483731,
           "0-150ms": -0.13334327681168204,
           "150-450ms": 0.4813342151855579,
           "photo_id": 0
          },
          {
           "-300-0ms": -0.859320173503222,
           "0-150ms": 2.462103041358247,
           "150-450ms": 0.30765958335531907,
           "photo_id": 0
          },
          {
           "-300-0ms": -1.3558995667170997,
           "0-150ms": -0.053362424441775226,
           "150-450ms": 0.22417748201014,
           "photo_id": 0
          },
          {
           "-300-0ms": 1.4398684520930116,
           "0-150ms": 3.505592057339474,
           "150-450ms": 1.6713518068218363,
           "photo_id": 0
          },
          {
           "-300-0ms": -0.244988373714881,
           "0-150ms": 12.70805575377486,
           "150-450ms": 2.2978136677168126,
           "photo_id": 0
          },
          {
           "-300-0ms": 3.3981477846226085,
           "0-150ms": 0.8056846269402166,
           "150-450ms": 1.4915764442390091,
           "photo_id": 0
          },
          {
           "-300-0ms": 0.10258607394757295,
           "0-150ms": -0.14028277694118546,
           "150-450ms": 0.8762713993247973,
           "photo_id": 0
          },
          {
           "-300-0ms": -0.14031775978131203,
           "0-150ms": -0.10066885032661609,
           "150-450ms": -1.480137190731158,
           "photo_id": 0
          },
          {
           "-300-0ms": -0.03266071602227056,
           "0-150ms": 10.902094126607546,
           "150-450ms": 2.179855834622629,
           "photo_id": 0
          },
          {
           "-300-0ms": 5.923117746201296,
           "0-150ms": 7.419868799792522,
           "150-450ms": -2.783306196171861,
           "photo_id": 0
          },
          {
           "-300-0ms": 0.0404271366804562,
           "0-150ms": 3.7377318984350434,
           "150-450ms": 0.7752326112176068,
           "photo_id": 0
          },
          {
           "-300-0ms": -0.8580710013737008,
           "0-150ms": 3.0979281979680517,
           "150-450ms": -1.0441879904985794,
           "photo_id": 0
          }
         ]
        },
        "encoding": {
         "color": {
          "field": "photo_id",
          "type": "nominal"
         },
         "x": {
          "field": {
           "repeat": "column"
          },
          "type": "quantitative"
         },
         "y": {
          "field": {
           "repeat": "row"
          },
          "type": "quantitative"
         }
        },
        "height": 250,
        "mark": "point",
        "selection": {
         "selector018": {
          "bind": "scales",
          "encodings": [
           "x",
           "y"
          ],
          "mark": {
           "fill": "#333",
           "fillOpacity": 0.125,
           "stroke": "white"
          },
          "on": "[mousedown, window:mouseup] > window:mousemove!",
          "resolve": "global",
          "translate": "[mousedown, window:mouseup] > window:mousemove!",
          "type": "interval",
          "zoom": "wheel!"
         }
        },
        "width": 250
       }
      },
      "text/plain": [
       "<VegaLite 2 object>"
      ]
     },
     "execution_count": 43,
     "metadata": {},
     "output_type": "execute_result"
    }
   ],
   "source": [
    "import altair as alt\n",
    "alt.Chart(data).mark_point().encode(\n",
    "    alt.X(alt.repeat(\"column\"), type='quantitative'),\n",
    "    alt.Y(alt.repeat(\"row\"), type='quantitative'),\n",
    "    color = 'photo_id:N'\n",
    ").properties(\n",
    "    width = 250,\n",
    "    height = 250,\n",
    ").repeat(\n",
    "    row=['-300-0ms', '0-150ms', '150-450ms'],\n",
    "    column=['150-450ms', '0-150ms', '-300-0ms']).interactive(\n",
    ")\n"
   ]
  },
  {
   "cell_type": "code",
   "execution_count": 47,
   "metadata": {},
   "outputs": [],
   "source": [
    "nearest = alt.selection(type='single', nearest=True, on='mouseover',\n",
    "                        fields=['x'], empty='none')\n",
    "\n",
    "chart = alt.Chart(data).mark_point().encode(\n",
    "    x='0-150ms',\n",
    "    y='150-450ms',\n",
    "    color='photo_id:N',\n",
    ")"
   ]
  },
  {
   "cell_type": "markdown",
   "metadata": {},
   "source": [
    "# Firing rate analysis of three chosen epochs for opto-identified units\n",
    "\n"
   ]
  },
  {
   "cell_type": "code",
   "execution_count": 66,
   "metadata": {},
   "outputs": [
    {
     "data": {
      "text/plain": [
       "Index(['mouse_name', 'date', 'block_type', 'trial_type', 'touch_stimulus',\n",
       "       'vis_stimulus', 'response', 'trial_num', 'stim_onset', 'stim_offset',\n",
       "       'licks_right', 'licks_left', 'spike_times', 'cluster_name',\n",
       "       'spike_times(stim_aligned)', 'first_lick', 'last_lick',\n",
       "       'spike_times(lick_aligned)', 'spike_times(last_lick_aligned)',\n",
       "       'identified', 'correct', 'uni_id', 'spike_counts(stim_aligned)',\n",
       "       'trial_label', 'resp', 'block'],\n",
       "      dtype='object')"
      ]
     },
     "execution_count": 66,
     "metadata": {},
     "output_type": "execute_result"
    }
   ],
   "source": [
    "log_df.columns"
   ]
  },
  {
   "cell_type": "code",
   "execution_count": null,
   "metadata": {},
   "outputs": [],
   "source": []
  },
  {
   "cell_type": "code",
   "execution_count": null,
   "metadata": {},
   "outputs": [],
   "source": []
  }
 ],
 "metadata": {
  "kernelspec": {
   "display_name": "Python 3",
   "language": "python",
   "name": "python3"
  },
  "language_info": {
   "codemirror_mode": {
    "name": "ipython",
    "version": 3
   },
   "file_extension": ".py",
   "mimetype": "text/x-python",
   "name": "python",
   "nbconvert_exporter": "python",
   "pygments_lexer": "ipython3",
   "version": "3.6.5"
  }
 },
 "nbformat": 4,
 "nbformat_minor": 2
}
