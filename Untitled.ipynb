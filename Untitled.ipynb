{
 "cells": [
  {
   "cell_type": "code",
   "execution_count": 3,
   "metadata": {},
   "outputs": [],
   "source": [
    "import scipy as sp\n",
    "import scipy.io\n",
    "import scipy.stats\n",
    "import os\n",
    "import numpy as np\n",
    "import pandas as pd\n",
    "import glob\n",
    "import csv\n",
    "from matplotlib import gridspec\n",
    "import matplotlib.patches as patches\n",
    "\n",
    "from tqdm import tnrange, tqdm_notebook\n",
    "from collections import Iterable\n",
    "import matplotlib.pylab as mpl\n",
    "from utils import plotting_utils as pu\n",
    "from utils import utils\n",
    "from utils import zscores\n",
    "font = {'family' : 'Arial',\n",
    "        'weight' : 'normal',\n",
    "        'size'   : 12}\n",
    "\n",
    "mpl.rc('font', **font)\n",
    "%load_ext autoreload"
   ]
  },
  {
   "cell_type": "code",
   "execution_count": 2,
   "metadata": {},
   "outputs": [],
   "source": [
    "log_df, unit_key_df = utils.load_data(os.getcwd())"
   ]
  },
  {
   "cell_type": "code",
   "execution_count": null,
   "metadata": {},
   "outputs": [],
   "source": [
    "%pdb"
   ]
  },
  {
   "cell_type": "code",
   "execution_count": 3,
   "metadata": {},
   "outputs": [
    {
     "data": {
      "application/vnd.jupyter.widget-view+json": {
       "model_id": "36a0c4f49bbe42ce82ab1bf7bba752e5",
       "version_major": 2,
       "version_minor": 0
      },
      "text/html": [
       "<p>Failed to display Jupyter Widget of type <code>HBox</code>.</p>\n",
       "<p>\n",
       "  If you're reading this message in the Jupyter Notebook or JupyterLab Notebook, it may mean\n",
       "  that the widgets JavaScript is still loading. If this message persists, it\n",
       "  likely means that the widgets JavaScript library is either not installed or\n",
       "  not enabled. See the <a href=\"https://ipywidgets.readthedocs.io/en/stable/user_install.html\">Jupyter\n",
       "  Widgets Documentation</a> for setup instructions.\n",
       "</p>\n",
       "<p>\n",
       "  If you're reading this message in another frontend (for example, a static\n",
       "  rendering on GitHub or <a href=\"https://nbviewer.jupyter.org/\">NBViewer</a>),\n",
       "  it may mean that your frontend doesn't currently support widgets.\n",
       "</p>\n"
      ],
      "text/plain": [
       "HBox(children=(IntProgress(value=0, max=629), HTML(value='')))"
      ]
     },
     "metadata": {},
     "output_type": "display_data"
    },
    {
     "name": "stdout",
     "output_type": "stream",
     "text": [
      "\n"
     ]
    },
    {
     "data": {
      "application/vnd.jupyter.widget-view+json": {
       "model_id": "0c0b63e327e64b3da4e2181b43648f7a",
       "version_major": 2,
       "version_minor": 0
      },
      "text/html": [
       "<p>Failed to display Jupyter Widget of type <code>HBox</code>.</p>\n",
       "<p>\n",
       "  If you're reading this message in the Jupyter Notebook or JupyterLab Notebook, it may mean\n",
       "  that the widgets JavaScript is still loading. If this message persists, it\n",
       "  likely means that the widgets JavaScript library is either not installed or\n",
       "  not enabled. See the <a href=\"https://ipywidgets.readthedocs.io/en/stable/user_install.html\">Jupyter\n",
       "  Widgets Documentation</a> for setup instructions.\n",
       "</p>\n",
       "<p>\n",
       "  If you're reading this message in another frontend (for example, a static\n",
       "  rendering on GitHub or <a href=\"https://nbviewer.jupyter.org/\">NBViewer</a>),\n",
       "  it may mean that your frontend doesn't currently support widgets.\n",
       "</p>\n"
      ],
      "text/plain": [
       "HBox(children=(IntProgress(value=0, max=629), HTML(value='')))"
      ]
     },
     "metadata": {},
     "output_type": "display_data"
    },
    {
     "name": "stdout",
     "output_type": "stream",
     "text": [
      "\n"
     ]
    }
   ],
   "source": [
    "bin_size = 0.025\n",
    "window = [-1, 3]\n",
    "edges = np.arange(window[0], window[1], bin_size)\n",
    "unit_key_df = utils.calc_unit_stats(unit_key_df, log_df, bin_size)\n",
    "log_df['spike_counts(stim_aligned)'] = log_df[\n",
    "    'spike_times(stim_aligned)'].apply(lambda x: np.histogram(x,edges)[0]/bin_size)\n",
    "unit_key_df = zscores.calc_z_scores(log_df, unit_key_df, bin_size, window)"
   ]
  },
  {
   "cell_type": "code",
   "execution_count": 86,
   "metadata": {
    "ExecuteTime": {
     "end_time": "2017-07-26T11:55:18.956910Z",
     "start_time": "2017-07-26T11:55:15.479760"
    }
   },
   "outputs": [],
   "source": [
    "import statsmodels.api as sm\n",
    "import statsmodels.formula.api as smf\n",
    "\n",
    "def multi_regress(uni_id, unit_key_df, y, factors,  formula, categorical = [], exclude_nl = False):\n",
    "    \n",
    "    unit_df = pd.DataFrame(unit_key_df[unit_key_df['uni_id'] == uni_id])\n",
    "    unit_rows = log_df[log_df['uni_id'] == uni_id]\n",
    "\n",
    "    all_variables = factors+y\n",
    "    categoricals = np.array(factors)[categorical]\n",
    "    \n",
    "    if exclude_nl:\n",
    "        unit_rows = unit_rows[unit_rows['response'] != 0]\n",
    "    \n",
    "    test_unit_factors = unit_rows.loc[:,all_variables]\n",
    "\n",
    "    if 'trial_type' in test_unit_factors:\n",
    "        test_unit_factors['trial_type'] = test_unit_factors['trial_type'].str.contains('Stim_Som')*1\n",
    "        \n",
    "    \n",
    "    for cat in categoricals:\n",
    "        test_unit_factors[cat] = pd.Categorical(test_unit_factors[cat])\n",
    "#     from IPython.core.debugger import Tracer; Tracer()() \n",
    "   \n",
    "    ### 100ms FR sliding bins######\n",
    "    for t in range(0,155,1):\n",
    "        test_unit_factors['FR_t'+str(t)] = test_unit_factors[y[0]].apply(lambda x: np.mean(x[t:t+5]))\n",
    "\n",
    "    test_unit_factors = sm.add_constant(test_unit_factors)\n",
    "#     from IPython.core.debugger import Tracer; Tracer()() \n",
    "\n",
    "    coef = pd.DataFrame()\n",
    "    pVals = pd.DataFrame()\n",
    "    tVals = pd.DataFrame()\n",
    "    models = []\n",
    "    for t in range(155):\n",
    "        model = smf.ols(formula = 'FR_t'+str(t)+formula, data = test_unit_factors).fit()\n",
    "        coef['t_'+str(t)] = model.params\n",
    "        pVals['t_'+str(t)] = model.pvalues\n",
    "        tVals['t_'+str(t)] = model.tvalues\n",
    "#         from IPython.core.debugger import Tracer; Tracer()()\n",
    "\n",
    "        models.append(model)\n",
    "        \n",
    "    return coef, pVals, tVals, models"
   ]
  },
  {
   "cell_type": "code",
   "execution_count": 87,
   "metadata": {},
   "outputs": [],
   "source": [
    "log_df['resp'] = (log_df['response'] != 0)*1\n",
    "log_df['block'] = (log_df['block_type'] == 'Whisker')*1"
   ]
  },
  {
   "cell_type": "code",
   "execution_count": 88,
   "metadata": {},
   "outputs": [],
   "source": [
    "def regress_unit(uni_id, unit_key_df):\n",
    "    form = '~ C(trial_type) + C(resp) + C(block) + C(trial_type):C(resp) + C(block):C(resp) + C(block):C(trial_type) + C(block):C(trial_type):C(resp)'\n",
    "    coef, pVals, tvals, models = multi_regress(uni_id, unit_key_df, ['spike_counts(stim_aligned)'], \n",
    "                                               factors = ['trial_type', 'resp', 'block'],\n",
    "                                               categorical = [0,1,2], formula = form)\n",
    "    if uni_id in list(unit_key_df.loc[list(range(0, unit_key_df.shape[0], 50)), 'uni_id']):\n",
    "        print(unit_key_df[unit_key_df['uni_id'] == uni_id].index)\n",
    "    return coef, pVals\n"
   ]
  },
  {
   "cell_type": "code",
   "execution_count": 89,
   "metadata": {},
   "outputs": [
    {
     "name": "stdout",
     "output_type": "stream",
     "text": [
      "Int64Index([0], dtype='int64')\n",
      "Int64Index([50], dtype='int64')\n"
     ]
    },
    {
     "name": "stderr",
     "output_type": "stream",
     "text": [
      "C:\\Users\\efink\\Anaconda3\\envs\\Claustrum_analysis\\lib\\site-packages\\statsmodels\\base\\model.py:1036: RuntimeWarning: invalid value encountered in true_divide\n",
      "  return self.params / self.bse\n",
      "C:\\Users\\efink\\Anaconda3\\envs\\Claustrum_analysis\\lib\\site-packages\\scipy\\stats\\_distn_infrastructure.py:879: RuntimeWarning: invalid value encountered in greater\n",
      "  return (self.a < x) & (x < self.b)\n",
      "C:\\Users\\efink\\Anaconda3\\envs\\Claustrum_analysis\\lib\\site-packages\\scipy\\stats\\_distn_infrastructure.py:879: RuntimeWarning: invalid value encountered in less\n",
      "  return (self.a < x) & (x < self.b)\n",
      "C:\\Users\\efink\\Anaconda3\\envs\\Claustrum_analysis\\lib\\site-packages\\scipy\\stats\\_distn_infrastructure.py:1821: RuntimeWarning: invalid value encountered in less_equal\n",
      "  cond2 = cond0 & (x <= self.a)\n"
     ]
    },
    {
     "name": "stdout",
     "output_type": "stream",
     "text": [
      "Int64Index([100], dtype='int64')\n",
      "Int64Index([150], dtype='int64')\n",
      "Int64Index([200], dtype='int64')\n",
      "Int64Index([250], dtype='int64')\n",
      "Int64Index([300], dtype='int64')\n",
      "Int64Index([350], dtype='int64')\n",
      "Int64Index([400], dtype='int64')\n",
      "Int64Index([450], dtype='int64')\n",
      "Int64Index([500], dtype='int64')\n",
      "Int64Index([550], dtype='int64')\n",
      "Int64Index([600], dtype='int64')\n"
     ]
    }
   ],
   "source": [
    "regress_results = [regress_unit(uni_id, unit_key_df) for uni_id in unit_key_df['uni_id']]"
   ]
  },
  {
   "cell_type": "code",
   "execution_count": 95,
   "metadata": {},
   "outputs": [],
   "source": [
    "regress_results = regress_results1"
   ]
  },
  {
   "cell_type": "code",
   "execution_count": 96,
   "metadata": {},
   "outputs": [
    {
     "data": {
      "text/html": [
       "<div>\n",
       "<style scoped>\n",
       "    .dataframe tbody tr th:only-of-type {\n",
       "        vertical-align: middle;\n",
       "    }\n",
       "\n",
       "    .dataframe tbody tr th {\n",
       "        vertical-align: top;\n",
       "    }\n",
       "\n",
       "    .dataframe thead th {\n",
       "        text-align: right;\n",
       "    }\n",
       "</style>\n",
       "<table border=\"1\" class=\"dataframe\">\n",
       "  <thead>\n",
       "    <tr style=\"text-align: right;\">\n",
       "      <th></th>\n",
       "      <th>t_0</th>\n",
       "      <th>t_1</th>\n",
       "      <th>t_2</th>\n",
       "      <th>t_3</th>\n",
       "      <th>t_4</th>\n",
       "      <th>t_5</th>\n",
       "      <th>t_6</th>\n",
       "      <th>t_7</th>\n",
       "      <th>t_8</th>\n",
       "      <th>t_9</th>\n",
       "      <th>...</th>\n",
       "      <th>t_145</th>\n",
       "      <th>t_146</th>\n",
       "      <th>t_147</th>\n",
       "      <th>t_148</th>\n",
       "      <th>t_149</th>\n",
       "      <th>t_150</th>\n",
       "      <th>t_151</th>\n",
       "      <th>t_152</th>\n",
       "      <th>t_153</th>\n",
       "      <th>t_154</th>\n",
       "    </tr>\n",
       "    <tr>\n",
       "      <th>uni_id</th>\n",
       "      <th></th>\n",
       "      <th></th>\n",
       "      <th></th>\n",
       "      <th></th>\n",
       "      <th></th>\n",
       "      <th></th>\n",
       "      <th></th>\n",
       "      <th></th>\n",
       "      <th></th>\n",
       "      <th></th>\n",
       "      <th></th>\n",
       "      <th></th>\n",
       "      <th></th>\n",
       "      <th></th>\n",
       "      <th></th>\n",
       "      <th></th>\n",
       "      <th></th>\n",
       "      <th></th>\n",
       "      <th></th>\n",
       "      <th></th>\n",
       "      <th></th>\n",
       "    </tr>\n",
       "  </thead>\n",
       "  <tbody>\n",
       "    <tr>\n",
       "      <th>Cl405-19-171t1</th>\n",
       "      <td>-3.563728</td>\n",
       "      <td>-0.582821</td>\n",
       "      <td>-1.519891</td>\n",
       "      <td>-0.663203</td>\n",
       "      <td>1.016268</td>\n",
       "      <td>0.976168</td>\n",
       "      <td>-1.982866</td>\n",
       "      <td>-0.371474</td>\n",
       "      <td>0.334746</td>\n",
       "      <td>0.126225</td>\n",
       "      <td>...</td>\n",
       "      <td>-4.172613</td>\n",
       "      <td>-3.333242</td>\n",
       "      <td>-1.994441</td>\n",
       "      <td>-3.120984</td>\n",
       "      <td>-2.739303</td>\n",
       "      <td>-1.057918</td>\n",
       "      <td>-0.924858</td>\n",
       "      <td>0.219731</td>\n",
       "      <td>1.820005</td>\n",
       "      <td>1.551333</td>\n",
       "    </tr>\n",
       "    <tr>\n",
       "      <th>Cl405-19-171t2</th>\n",
       "      <td>-2.499977</td>\n",
       "      <td>-1.963181</td>\n",
       "      <td>-2.210071</td>\n",
       "      <td>-1.009068</td>\n",
       "      <td>-0.650900</td>\n",
       "      <td>-0.441376</td>\n",
       "      <td>-0.158943</td>\n",
       "      <td>-0.382046</td>\n",
       "      <td>-0.423878</td>\n",
       "      <td>-1.761677</td>\n",
       "      <td>...</td>\n",
       "      <td>-3.990977</td>\n",
       "      <td>-4.061882</td>\n",
       "      <td>-3.123080</td>\n",
       "      <td>-3.581499</td>\n",
       "      <td>-4.577717</td>\n",
       "      <td>-1.739166</td>\n",
       "      <td>-1.833949</td>\n",
       "      <td>-0.582000</td>\n",
       "      <td>-2.852859</td>\n",
       "      <td>2.566598</td>\n",
       "    </tr>\n",
       "    <tr>\n",
       "      <th>Cl405-19-171t3</th>\n",
       "      <td>2.483573</td>\n",
       "      <td>1.719116</td>\n",
       "      <td>3.992253</td>\n",
       "      <td>2.059057</td>\n",
       "      <td>2.319526</td>\n",
       "      <td>4.031533</td>\n",
       "      <td>3.318843</td>\n",
       "      <td>2.179995</td>\n",
       "      <td>1.777261</td>\n",
       "      <td>0.229665</td>\n",
       "      <td>...</td>\n",
       "      <td>3.963363</td>\n",
       "      <td>0.734837</td>\n",
       "      <td>1.753019</td>\n",
       "      <td>1.352016</td>\n",
       "      <td>-0.882752</td>\n",
       "      <td>-2.907542</td>\n",
       "      <td>-3.631351</td>\n",
       "      <td>-5.967282</td>\n",
       "      <td>-4.034267</td>\n",
       "      <td>-1.076965</td>\n",
       "    </tr>\n",
       "    <tr>\n",
       "      <th>Cl405-19-171t4</th>\n",
       "      <td>1.806699</td>\n",
       "      <td>3.790658</td>\n",
       "      <td>5.236546</td>\n",
       "      <td>5.076783</td>\n",
       "      <td>1.184780</td>\n",
       "      <td>4.689269</td>\n",
       "      <td>5.779175</td>\n",
       "      <td>2.607063</td>\n",
       "      <td>-0.138346</td>\n",
       "      <td>2.070267</td>\n",
       "      <td>...</td>\n",
       "      <td>4.493780</td>\n",
       "      <td>5.051629</td>\n",
       "      <td>6.149282</td>\n",
       "      <td>4.825974</td>\n",
       "      <td>3.259330</td>\n",
       "      <td>4.434450</td>\n",
       "      <td>3.366507</td>\n",
       "      <td>2.566051</td>\n",
       "      <td>1.970927</td>\n",
       "      <td>1.302802</td>\n",
       "    </tr>\n",
       "    <tr>\n",
       "      <th>Cl405-19-171t5</th>\n",
       "      <td>-7.903213</td>\n",
       "      <td>-6.103349</td>\n",
       "      <td>-2.386329</td>\n",
       "      <td>-0.213898</td>\n",
       "      <td>1.031943</td>\n",
       "      <td>1.241741</td>\n",
       "      <td>0.530052</td>\n",
       "      <td>-2.349601</td>\n",
       "      <td>-1.587970</td>\n",
       "      <td>-1.322853</td>\n",
       "      <td>...</td>\n",
       "      <td>-3.220597</td>\n",
       "      <td>-2.701846</td>\n",
       "      <td>-3.252221</td>\n",
       "      <td>-2.852221</td>\n",
       "      <td>-4.477284</td>\n",
       "      <td>-1.953520</td>\n",
       "      <td>-2.430440</td>\n",
       "      <td>-2.925222</td>\n",
       "      <td>-2.197129</td>\n",
       "      <td>-0.056323</td>\n",
       "    </tr>\n",
       "  </tbody>\n",
       "</table>\n",
       "<p>5 rows × 155 columns</p>\n",
       "</div>"
      ],
      "text/plain": [
       "                     t_0       t_1       t_2       t_3       t_4       t_5  \\\n",
       "uni_id                                                                       \n",
       "Cl405-19-171t1 -3.563728 -0.582821 -1.519891 -0.663203  1.016268  0.976168   \n",
       "Cl405-19-171t2 -2.499977 -1.963181 -2.210071 -1.009068 -0.650900 -0.441376   \n",
       "Cl405-19-171t3  2.483573  1.719116  3.992253  2.059057  2.319526  4.031533   \n",
       "Cl405-19-171t4  1.806699  3.790658  5.236546  5.076783  1.184780  4.689269   \n",
       "Cl405-19-171t5 -7.903213 -6.103349 -2.386329 -0.213898  1.031943  1.241741   \n",
       "\n",
       "                     t_6       t_7       t_8       t_9    ...        t_145  \\\n",
       "uni_id                                                    ...                \n",
       "Cl405-19-171t1 -1.982866 -0.371474  0.334746  0.126225    ...    -4.172613   \n",
       "Cl405-19-171t2 -0.158943 -0.382046 -0.423878 -1.761677    ...    -3.990977   \n",
       "Cl405-19-171t3  3.318843  2.179995  1.777261  0.229665    ...     3.963363   \n",
       "Cl405-19-171t4  5.779175  2.607063 -0.138346  2.070267    ...     4.493780   \n",
       "Cl405-19-171t5  0.530052 -2.349601 -1.587970 -1.322853    ...    -3.220597   \n",
       "\n",
       "                   t_146     t_147     t_148     t_149     t_150     t_151  \\\n",
       "uni_id                                                                       \n",
       "Cl405-19-171t1 -3.333242 -1.994441 -3.120984 -2.739303 -1.057918 -0.924858   \n",
       "Cl405-19-171t2 -4.061882 -3.123080 -3.581499 -4.577717 -1.739166 -1.833949   \n",
       "Cl405-19-171t3  0.734837  1.753019  1.352016 -0.882752 -2.907542 -3.631351   \n",
       "Cl405-19-171t4  5.051629  6.149282  4.825974  3.259330  4.434450  3.366507   \n",
       "Cl405-19-171t5 -2.701846 -3.252221 -2.852221 -4.477284 -1.953520 -2.430440   \n",
       "\n",
       "                   t_152     t_153     t_154  \n",
       "uni_id                                        \n",
       "Cl405-19-171t1  0.219731  1.820005  1.551333  \n",
       "Cl405-19-171t2 -0.582000 -2.852859  2.566598  \n",
       "Cl405-19-171t3 -5.967282 -4.034267 -1.076965  \n",
       "Cl405-19-171t4  2.566051  1.970927  1.302802  \n",
       "Cl405-19-171t5 -2.925222 -2.197129 -0.056323  \n",
       "\n",
       "[5 rows x 155 columns]"
      ]
     },
     "execution_count": 96,
     "metadata": {},
     "output_type": "execute_result"
    }
   ],
   "source": [
    "all_trial_type_coef = pd.concat([regress_results1[i][0].iloc[1,:] for i in range(len(regress_results))], axis = 1).T\n",
    "all_resp_coef = pd.concat([regress_results[i][0].iloc[2,:] for i in range(len(regress_results))], axis = 1).T\n",
    "all_block_coef = pd.concat([regress_results[i][0].iloc[3,:] for i in range(len(regress_results))], axis = 1).T\n",
    "all_txResp_coef = pd.concat([regress_results[i][0].iloc[4,:] for i in range(len(regress_results))], axis = 1).T\n",
    "all_bxResp_coef = pd.concat([regress_results[i][0].iloc[5,:] for i in range(len(regress_results))], axis = 1).T\n",
    "all_txBlock_coef = pd.concat([regress_results[i][0].iloc[6,:] for i in range(len(regress_results))], axis = 1).T\n",
    "all_txbxResp_coef = pd.concat([regress_results[i][0].iloc[7,:] for i in range(len(regress_results))], axis = 1).T\n",
    "\n",
    "all_trial_type_pVals = pd.concat([regress_results[i][1].iloc[1,:] for i in range(len(regress_results))], axis = 1).T\n",
    "all_resp_pVals = pd.concat([regress_results[i][1].iloc[2,:] for i in range(len(regress_results))], axis = 1).T\n",
    "all_block_pVals = pd.concat([regress_results[i][1].iloc[3,:] for i in range(len(regress_results))], axis = 1).T\n",
    "all_txResp_pVals = pd.concat([regress_results[i][1].iloc[4,:] for i in range(len(regress_results))], axis = 1).T\n",
    "all_bxResp_pVals = pd.concat([regress_results[i][1].iloc[5,:] for i in range(len(regress_results))], axis = 1).T\n",
    "all_txBlock_pVals = pd.concat([regress_results[i][1].iloc[6,:] for i in range(len(regress_results))], axis = 1).T\n",
    "all_txbxResp_pVals = pd.concat([regress_results[i][1].iloc[7,:] for i in range(len(regress_results))], axis = 1).T\n",
    "\n",
    "for df in [all_trial_type_coef, all_resp_coef, all_block_coef, all_txResp_coef, all_bxResp_coef, all_txBlock_coef,\n",
    "          all_trial_type_pVals, all_resp_pVals, all_block_pVals, all_txResp_pVals, all_bxResp_pVals, all_txBlock_pVals]:\n",
    "    df.index = unit_key_df['uni_id']\n",
    "    \n",
    "all_txResp_coef.head()"
   ]
  },
  {
   "cell_type": "code",
   "execution_count": 143,
   "metadata": {},
   "outputs": [],
   "source": [
    "import pickle\n",
    "\n",
    "labels = ['trial_type', 'lick', 'block', \n",
    "         'txResp', 'bxResp', 'txBlock','txbxResp']\n",
    "    \n",
    "coefs = [all_trial_type_coef, all_resp_coef, all_block_coef, \n",
    "         all_txResp_coef, all_bxResp_coef, all_txBlock_coef,all_txbxResp_coef]\n",
    "pVals = [all_trial_type_pVals, all_resp_pVals, all_block_pVals, all_txResp_pVals, \n",
    "                 all_bxResp_pVals, all_txBlock_pVals,all_txbxResp_pVals]\n",
    "\n",
    "with open(\"coefs.txt\", \"wb\") as fp:   #Pickling\n",
    "    pickle.dump({labels[i]:coefs[i] for i in range(len(labels))}, fp)\n",
    "\n",
    "with open(\"pVals.txt\", \"wb\") as fp:   #Pickling\n",
    "    pickle.dump({labels[i]:pVals[i] for i in range(len(labels))}, fp)\n"
   ]
  },
  {
   "cell_type": "code",
   "execution_count": 1,
   "metadata": {},
   "outputs": [],
   "source": [
    "import pickle\n",
    "with open(\"coefs.txt\", \"rb\") as fp:   #Pickling\n",
    "    coefs = pickle.load(fp)\n",
    "with open(\"pVals.txt\", \"rb\") as fp:   #Pickling\n",
    "    pVals = pickle.load(fp)"
   ]
  },
  {
   "cell_type": "code",
   "execution_count": 2,
   "metadata": {
    "ExecuteTime": {
     "end_time": "2018-02-16T13:07:47.421922Z",
     "start_time": "2018-02-16T13:07:45.377275"
    },
    "scrolled": false
   },
   "outputs": [],
   "source": [
    "def plot_regress(unit_num, unit_key_df, log_df):\n",
    "    size_mult = 0.5\n",
    "    unit = unit_key_df.index[unit_num]\n",
    "    unit_df = pd.DataFrame(unit_key_df.loc[unit]).T\n",
    "\n",
    "    unit_rows = log_df.merge(unit_df, on=['mouse_name', 'date', 'cluster_name'], how = 'inner')\n",
    "\n",
    "    t_NL = unit_rows.loc[unit_rows['trial_type'].str.contains('Som') & (unit_rows['response'] ==0),:]\n",
    "    t_LR = unit_rows.loc[unit_rows['trial_type'].str.contains('Som') & (unit_rows['response'] ==1),:]\n",
    "    t_LL = unit_rows.loc[unit_rows['trial_type'].str.contains('Som') & (unit_rows['response'] ==2),:]\n",
    "    v_NL = unit_rows.loc[unit_rows['trial_type'].str.contains('Vis') & (unit_rows['response'] ==0),:]\n",
    "    v_LR = unit_rows.loc[unit_rows['trial_type'].str.contains('Vis') & (unit_rows['response'] ==1),:]\n",
    "    v_LL = unit_rows.loc[unit_rows['trial_type'].str.contains('Vis') & (unit_rows['response'] ==2),:]\n",
    "\n",
    "    tt = [t_NL, t_LR, t_LL, v_NL, v_LR, v_LL]\n",
    "\n",
    "    fig = mpl.figure(figsize = (16*size_mult,16*size_mult))\n",
    "\n",
    "    gs1 = gridspec.GridSpec(1,1)\n",
    "    gs2 = gridspec.GridSpec(1,1)\n",
    "    gs3 = gridspec.GridSpec(7,1)\n",
    "\n",
    "    gs1.update(bottom=0.5, top=0.95, left = 0.2, right = 0.86)\n",
    "    gs2.update(bottom=0.5, top=0.95, left = 0.87, right = 0.9)\n",
    "    gs3.update(bottom=0.15, top=0.47, left = 0.2, right = 0.86)\n",
    "\n",
    "    titles = ['β$1$: touch stimulus', 'β$2$: lick','β$3$: block',\n",
    "              'β$4$: touch stimulus x lick','β$5$: block x lick', 'β$6$: touch stimulus x block',\n",
    "             'β$6$: touch stimulus x block x lick']\n",
    "\n",
    "    ax = mpl.subplot(gs1[0, 0])\n",
    "    patch_ax = mpl.subplot(gs2[0, 0], sharey = ax)\n",
    "\n",
    "    colors = [ 'k','C0','#08306b', 'C7', '#cc4c02', 'C1',  ]\n",
    "\n",
    "    trial_type = 0\n",
    "    trial_total = 0\n",
    "    hists = []\n",
    "    for i in range(len(tt)):\n",
    "        ras = tt[trial_type]\n",
    "        spike_counts = []\n",
    "        trial = 0\n",
    "        for trial, spike in enumerate(ras['spike_times(stim_aligned)']):\n",
    "            spike = spike[(spike>-1) & (spike<=3)]\n",
    "            ax.vlines(spike, trial + trial_total + .5, trial + trial_total + 1.5)\n",
    "\n",
    "            spike = spike[(spike>window[0]) & (spike<=window[1])]\n",
    "            edges = np.arange(window[0], window[1]+bin_size*2, bin_size)\n",
    "            count, _ = np.histogram(spike,edges)\n",
    "            spike_counts.append(count)\n",
    "\n",
    "        c1 = 0.5\n",
    "        c2 = 0\n",
    "\n",
    "        hists.append(np.array(spike_counts))\n",
    "        patch_ax.add_patch(patches.Rectangle((0,trial_total+c1), 1,\n",
    "                                       trial + c2, facecolor = colors[trial_type], alpha = 0.7))\n",
    "        trial_total += trial\n",
    "        trial_type += 1\n",
    "    ax.plot([0, 0], [0, trial_total], 'r:')\n",
    "    ax.plot([0.15, 0.15], [0, trial_total], 'r:')\n",
    "\n",
    "    # ax.get_xaxis().set_visible(False)\n",
    "    ax.set_xlim(-1,3)\n",
    "    ax.spines['right'].set_visible(False)\n",
    "    ax.spines['top'].set_visible(False)\n",
    "    # ax.spines['bottom'].set_visible(False)\n",
    "    ax.set_ylabel('trial')\n",
    "    ax.set_ylim([0, trial_total])\n",
    "\n",
    "\n",
    "    patch_ax.set_xlim(0,1)\n",
    "    patch_ax.axis('off')\n",
    "\n",
    "    #######################################\n",
    "\n",
    "    coef = pd.concat([all_trial_type_coef.iloc[unit, :], all_resp_coef.iloc[unit, :], all_block_coef.iloc[unit, :],\n",
    "            all_txResp_coef.iloc[unit, :], all_bxResp_coef.iloc[unit, :], all_txBlock_coef.iloc[unit, :],\n",
    "                     all_txbxResp_coef.iloc[unit, :]], axis = 1).T\n",
    "    pVals =  pd.concat([all_trial_type_pVals.iloc[unit, :], all_resp_pVals.iloc[unit, :], all_block_pVals.iloc[unit, :],\n",
    "              all_txResp_pVals.iloc[unit, :], all_bxResp_pVals.iloc[unit, :], all_txBlock_pVals.iloc[unit, :],\n",
    "                       all_txbxResp_pVals.iloc[unit, :]], axis = 1).T\n",
    "    pos_sig_pVals = (pVals<0.05) & (coef>0)\n",
    "    neg_sig_pVals = (pVals<0.05) & (coef<0)\n",
    "\n",
    "    xvals = np.arange(0+.1,coef.shape[1]*0.025+.1, 0.025)-1\n",
    "\n",
    "    for c in range(coef.shape[0]):\n",
    "\n",
    "        ax1 = mpl.subplot(gs3[c,0])\n",
    "        ax1.plot(xvals, coef.iloc[c,:].as_matrix(), 'k')\n",
    "        ax1.plot(xvals, [0] * len(xvals), 'C7--')\n",
    "        ax1.plot(xvals[pos_sig_pVals.iloc[c,:].as_matrix()], [0]*sum(pos_sig_pVals.iloc[c,:].as_matrix()*1), 'sC2',markersize = 2, alpha = 0.5)\n",
    "        ax1.plot(xvals[neg_sig_pVals.iloc[c,:].as_matrix()], [0]*sum(neg_sig_pVals.iloc[c,:].as_matrix()*1), 'sC3',markersize = 2, alpha = 0.5)\n",
    "\n",
    "        ax1.text(.6, .65, titles[c] , transform=ax1.transAxes, color = 'k')\n",
    "\n",
    "        ax1.spines['right'].set_visible(False)\n",
    "        ax1.spines['top'].set_visible(False)\n",
    "        ax1.set_xlabel('time from stim onset (s)')\n",
    "        ax1.set_xlim(-1, 3)\n",
    "        ax1.set_ylim(-20,50)\n",
    "\n",
    "\n",
    "        if c != coef.shape[0]-1:\n",
    "            ax1.spines['bottom'].set_visible(False)\n",
    "            ax1.get_xaxis().set_visible(False)\n",
    "            \n",
    "    return fig\n"
   ]
  },
  {
   "cell_type": "code",
   "execution_count": 21,
   "metadata": {},
   "outputs": [
    {
     "ename": "NameError",
     "evalue": "name 'plot_regress' is not defined",
     "output_type": "error",
     "traceback": [
      "\u001b[1;31m---------------------------------------------------------------------------\u001b[0m",
      "\u001b[1;31mNameError\u001b[0m                                 Traceback (most recent call last)",
      "\u001b[1;32m<ipython-input-21-ef502ac306d5>\u001b[0m in \u001b[0;36m<module>\u001b[1;34m()\u001b[0m\n\u001b[0;32m      1\u001b[0m \u001b[1;32mfor\u001b[0m \u001b[0mi\u001b[0m \u001b[1;32min\u001b[0m \u001b[0mrange\u001b[0m\u001b[1;33m(\u001b[0m\u001b[1;36m33\u001b[0m\u001b[1;33m,\u001b[0m\u001b[1;36m35\u001b[0m\u001b[1;33m)\u001b[0m\u001b[1;33m:\u001b[0m\u001b[1;33m\u001b[0m\u001b[0m\n\u001b[1;32m----> 2\u001b[1;33m     \u001b[0mplot_regress\u001b[0m\u001b[1;33m(\u001b[0m\u001b[0mi\u001b[0m\u001b[1;33m,\u001b[0m \u001b[0munit_key_df\u001b[0m\u001b[1;33m,\u001b[0m \u001b[0mlog_df\u001b[0m\u001b[1;33m)\u001b[0m\u001b[1;33m\u001b[0m\u001b[0m\n\u001b[0m",
      "\u001b[1;31mNameError\u001b[0m: name 'plot_regress' is not defined"
     ]
    }
   ],
   "source": [
    "for i in range(33,35):\n",
    "    plot_regress(i, unit_key_df, log_df)"
   ]
  },
  {
   "cell_type": "markdown",
   "metadata": {},
   "source": [
    "### Will take three time points of interest:\n",
    "*  *-300-0 ms*\n",
    "*  *0-150 ms*\n",
    "*  *150-450 ms*"
   ]
  },
  {
   "cell_type": "code",
   "execution_count": 5,
   "metadata": {},
   "outputs": [
    {
     "data": {
      "text/html": [
       "<div>\n",
       "<style scoped>\n",
       "    .dataframe tbody tr th:only-of-type {\n",
       "        vertical-align: middle;\n",
       "    }\n",
       "\n",
       "    .dataframe tbody tr th {\n",
       "        vertical-align: top;\n",
       "    }\n",
       "\n",
       "    .dataframe thead th {\n",
       "        text-align: right;\n",
       "    }\n",
       "</style>\n",
       "<table border=\"1\" class=\"dataframe\">\n",
       "  <thead>\n",
       "    <tr style=\"text-align: right;\">\n",
       "      <th></th>\n",
       "      <th>-300-0ms</th>\n",
       "      <th>0-150ms</th>\n",
       "      <th>150-450ms</th>\n",
       "    </tr>\n",
       "    <tr>\n",
       "      <th>uni_id</th>\n",
       "      <th></th>\n",
       "      <th></th>\n",
       "      <th></th>\n",
       "    </tr>\n",
       "  </thead>\n",
       "  <tbody>\n",
       "    <tr>\n",
       "      <th>Cl405-19-171t1</th>\n",
       "      <td>0.501754</td>\n",
       "      <td>1.514286</td>\n",
       "      <td>-0.353234</td>\n",
       "    </tr>\n",
       "    <tr>\n",
       "      <th>Cl405-19-171t2</th>\n",
       "      <td>-3.354386</td>\n",
       "      <td>-2.026984</td>\n",
       "      <td>-0.133831</td>\n",
       "    </tr>\n",
       "    <tr>\n",
       "      <th>Cl405-19-171t3</th>\n",
       "      <td>-2.350877</td>\n",
       "      <td>-4.763492</td>\n",
       "      <td>-2.140299</td>\n",
       "    </tr>\n",
       "    <tr>\n",
       "      <th>Cl405-19-171t4</th>\n",
       "      <td>2.571930</td>\n",
       "      <td>-0.707937</td>\n",
       "      <td>0.985075</td>\n",
       "    </tr>\n",
       "    <tr>\n",
       "      <th>Cl405-19-171t5</th>\n",
       "      <td>-0.357895</td>\n",
       "      <td>1.257143</td>\n",
       "      <td>1.103980</td>\n",
       "    </tr>\n",
       "  </tbody>\n",
       "</table>\n",
       "</div>"
      ],
      "text/plain": [
       "                -300-0ms   0-150ms  150-450ms\n",
       "uni_id                                       \n",
       "Cl405-19-171t1  0.501754  1.514286  -0.353234\n",
       "Cl405-19-171t2 -3.354386 -2.026984  -0.133831\n",
       "Cl405-19-171t3 -2.350877 -4.763492  -2.140299\n",
       "Cl405-19-171t4  2.571930 -0.707937   0.985075\n",
       "Cl405-19-171t5 -0.357895  1.257143   1.103980"
      ]
     },
     "execution_count": 5,
     "metadata": {},
     "output_type": "execute_result"
    }
   ],
   "source": [
    "b1_stim_period = coefs['trial_type'].iloc[:, 40:46].mean(axis = 1)\n",
    "b2_lick_period = coefs['lick'].iloc[:, 46:58].mean(axis = 1)\n",
    "b3_pre_stim_period = coefs['block'].iloc[:, 28:40].mean(axis = 1)\n",
    "\n",
    "data = pd.concat((b1_stim_period,b2_lick_period,b3_pre_stim_period), axis = 1)\n",
    "data.columns = ['-300-0ms', '0-150ms', '150-450ms']\n",
    "data.head()"
   ]
  },
  {
   "cell_type": "code",
   "execution_count": 14,
   "metadata": {},
   "outputs": [
    {
     "data": {
      "text/plain": [
       "Index(['Cl405-19-171t1', 'Cl405-19-171t2', 'Cl405-19-171t3', 'Cl405-19-171t4',\n",
       "       'Cl405-19-171t5', 'Cl405-19-172t1', 'Cl405-19-172t2', 'Cl405-19-172t3',\n",
       "       'Cl405-19-173t1', 'Cl405-19-173t2',\n",
       "       ...\n",
       "       'Cl611-07-173t1', 'Cl611-07-174t1', 'Cl611-07-176t1', 'Cl611-07-176t2',\n",
       "       'Cl611-07-176t3', 'Cl611-07-176t4', 'Cl611-07-177t1', 'Cl611-07-177t2',\n",
       "       'Cl611-07-177t3', 'Cl611-07-178t1'],\n",
       "      dtype='object', name='uni_id', length=629)"
      ]
     },
     "execution_count": 14,
     "metadata": {},
     "output_type": "execute_result"
    }
   ],
   "source": [
    "data.index"
   ]
  },
  {
   "cell_type": "code",
   "execution_count": 17,
   "metadata": {},
   "outputs": [],
   "source": [
    "id_units = pd.read_csv('identified_units.csv')\n",
    "data['photo_id'] = 0\n",
    "data.loc[data.index.isin(id_units['uni_id']), 'photo_id'] = 1"
   ]
  },
  {
   "cell_type": "code",
   "execution_count": 22,
   "metadata": {},
   "outputs": [
    {
     "data": {
      "application/vnd.vegalite.v2+json": {
       "$schema": "https://vega.github.io/schema/vega-lite/v2.json",
       "config": {
        "view": {
         "height": 300,
         "width": 400
        }
       },
       "repeat": {
        "column": [
         "150-450ms",
         "0-150ms",
         "-300-0ms"
        ],
        "row": [
         "-300-0ms",
         "0-150ms",
         "150-450ms"
        ]
       },
       "spec": {
        "data": {
         "values": [
          {
           "-300-0ms": 0.5017543859649104,
           "0-150ms": 1.5142857142857136,
           "150-450ms": -0.3532338308457709,
           "photo_id": 0
          },
          {
           "-300-0ms": -3.3543859649122787,
           "0-150ms": -2.0269841269841264,
           "150-450ms": -0.133830845771145,
           "photo_id": 0
          },
          {
           "-300-0ms": -2.350877192982454,
           "0-150ms": -4.76349206349206,
           "150-450ms": -2.1402985074626826,
           "photo_id": 0
          },
          {
           "-300-0ms": 2.5719298245614026,
           "0-150ms": -0.7079365079365095,
           "150-450ms": 0.9850746268656723,
           "photo_id": 0
          },
          {
           "-300-0ms": -0.35789473684210193,
           "0-150ms": 1.2571428571428627,
           "150-450ms": 1.1039800995024873,
           "photo_id": 0
          },
          {
           "-300-0ms": -1.1438596491228064,
           "0-150ms": 1.2126984126984115,
           "150-450ms": -0.7303482587064646,
           "photo_id": 0
          },
          {
           "-300-0ms": -0.8666666666666676,
           "0-150ms": -0.6587301587301567,
           "150-450ms": -1.604477611940297,
           "photo_id": 0
          },
          {
           "-300-0ms": -0.3894736842105271,
           "0-150ms": 1.4936507936507966,
           "150-450ms": -1.6149253731343265,
           "photo_id": 0
          },
          {
           "-300-0ms": -1.9964912280701712,
           "0-150ms": -1.4206349206349111,
           "150-450ms": -2.9557213930348234,
           "photo_id": 0
          },
          {
           "-300-0ms": 0.2526315789473685,
           "0-150ms": 0.512698412698413,
           "150-450ms": -0.05323383084577064,
           "photo_id": 0
          },
          {
           "-300-0ms": 1.228070175438596,
           "0-150ms": 6.204761904761903,
           "150-450ms": 0.07213930348258742,
           "photo_id": 0
          },
          {
           "-300-0ms": -0.9157894736842094,
           "0-150ms": -1.4825396825396815,
           "150-450ms": 1.016417910447763,
           "photo_id": 0
          },
          {
           "-300-0ms": 0.13333333333333364,
           "0-150ms": 0.3714285714285714,
           "150-450ms": 0.5268656716417913,
           "photo_id": 0
          },
          {
           "-300-0ms": -3.8877192982456132,
           "0-150ms": -2.6920634920634896,
           "150-450ms": -2.8522388059701473,
           "photo_id": 0
          },
          {
           "-300-0ms": 1.6701754385964884,
           "0-150ms": 9.722222222222229,
           "150-450ms": -2.2771144278606927,
           "photo_id": 0
          },
          {
           "-300-0ms": -3.7789473684210524,
           "0-150ms": -3.3619047619047557,
           "150-450ms": -0.6014925373134331,
           "photo_id": 0
          },
          {
           "-300-0ms": -1.5473684210526342,
           "0-150ms": -1.5365079365079344,
           "150-450ms": -3.800000000000001,
           "photo_id": 0
          },
          {
           "-300-0ms": -0.8982456140350861,
           "0-150ms": 4.36666666666667,
           "150-450ms": 1.1089552238805973,
           "photo_id": 0
          },
          {
           "-300-0ms": -0.2736842105263145,
           "0-150ms": 0.5777777777777773,
           "150-450ms": 0.2592039800995027,
           "photo_id": 0
          },
          {
           "-300-0ms": -0.30175438596491394,
           "0-150ms": -3.7603174603174576,
           "150-450ms": -3.2537313432835795,
           "photo_id": 0
          },
          {
           "-300-0ms": 1.4807017543859649,
           "0-150ms": 1.1460317460317473,
           "150-450ms": 0.27263681592039796,
           "photo_id": 0
          },
          {
           "-300-0ms": -7.515789473684222,
           "0-150ms": 9.560317460317473,
           "150-450ms": -11.329850746268656,
           "photo_id": 0
          },
          {
           "-300-0ms": -1.4526315789473736,
           "0-150ms": 5.614285714285724,
           "150-450ms": -3.502487562189058,
           "photo_id": 0
          },
          {
           "-300-0ms": -0.5578947368421056,
           "0-150ms": -0.33015873015872854,
           "150-450ms": -0.7303482587064662,
           "photo_id": 0
          },
          {
           "-300-0ms": -0.6982456140350871,
           "0-150ms": -0.08571428571428515,
           "150-450ms": 0.5308457711442794,
           "photo_id": 1
          },
          {
           "-300-0ms": 4.333333333333347,
           "0-150ms": -2.80303030303031,
           "150-450ms": 1.7844827586206957,
           "photo_id": 0
          },
          {
           "-300-0ms": -0.5333333333333452,
           "0-150ms": -10.03030303030304,
           "150-450ms": -3.477011494252874,
           "photo_id": 0
          },
          {
           "-300-0ms": 3.4666666666666757,
           "0-150ms": -1.8469696969697011,
           "150-450ms": 1.3821839080459828,
           "photo_id": 0
          },
          {
           "-300-0ms": 2.5333333333333363,
           "0-150ms": 17.76969696969697,
           "150-450ms": -1.6982758620689626,
           "photo_id": 0
          },
          {
           "-300-0ms": 2.220446049250313e-16,
           "0-150ms": 3.025757575757581,
           "150-450ms": 0.9137931034482739,
           "photo_id": 0
          },
          {
           "-300-0ms": 1.4666666666666932,
           "0-150ms": 4.031818181818197,
           "150-450ms": -0.847701149425267,
           "photo_id": 0
          },
          {
           "-300-0ms": -0.4666666666666552,
           "0-150ms": 5.684848484848488,
           "150-450ms": -0.7614942528735614,
           "photo_id": 0
          },
          {
           "-300-0ms": -0.2333333333333353,
           "0-150ms": 1.3924242424242388,
           "150-450ms": -0.24712643678160728,
           "photo_id": 0
          },
          {
           "-300-0ms": 0.40000000000000074,
           "0-150ms": -1.8666666666666687,
           "150-450ms": 2.4109195402298997,
           "photo_id": 0
          },
          {
           "-300-0ms": 0.6333333333333543,
           "0-150ms": 9.403030303030294,
           "150-450ms": -2.2614942528735535,
           "photo_id": 0
          },
          {
           "-300-0ms": 1.2333333333333285,
           "0-150ms": 0.8303030303030274,
           "150-450ms": -1.4062824978585316e-15,
           "photo_id": 0
          },
          {
           "-300-0ms": -1.966666666666617,
           "0-150ms": 25.957575757575793,
           "150-450ms": -0.12068965517239942,
           "photo_id": 0
          },
          {
           "-300-0ms": 3.3999999999999946,
           "0-150ms": -0.08030303030302777,
           "150-450ms": 1.9683908045977008,
           "photo_id": 0
          },
          {
           "-300-0ms": -1.7999999999999952,
           "0-150ms": -5.536363636363629,
           "150-450ms": 1.2356321839080517,
           "photo_id": 0
          },
          {
           "-300-0ms": -2.93333333333333,
           "0-150ms": 0.5484848484848456,
           "150-450ms": 0.18678160919540146,
           "photo_id": 0
          },
          {
           "-300-0ms": 0.4666666666666774,
           "0-150ms": 29.790909090909107,
           "150-450ms": 0.045977011494255544,
           "photo_id": 0
          },
          {
           "-300-0ms": -2.0333333333333337,
           "0-150ms": -3.2454545454545447,
           "150-450ms": -0.16954022988505982,
           "photo_id": 0
          },
          {
           "-300-0ms": 1.199999999999997,
           "0-150ms": 5.628787878787876,
           "150-450ms": 1.2528735632183905,
           "photo_id": 0
          },
          {
           "-300-0ms": 0.3000000000000009,
           "0-150ms": -3.678787878787873,
           "150-450ms": 3.977011494252872,
           "photo_id": 0
          },
          {
           "-300-0ms": 1.866666666666678,
           "0-150ms": 2.9621212121212097,
           "150-450ms": 2.2499999999999925,
           "photo_id": 0
          },
          {
           "-300-0ms": -4.133333333333329,
           "0-150ms": 1.707575757575743,
           "150-450ms": -3.7672413793103625,
           "photo_id": 1
          },
          {
           "-300-0ms": 0.2000000000000084,
           "0-150ms": -2.1772727272727335,
           "150-450ms": 2.028735632183901,
           "photo_id": 1
          },
          {
           "-300-0ms": 0.4333333333333355,
           "0-150ms": 0.4575757575757591,
           "150-450ms": -0.6178160919540221,
           "photo_id": 0
          },
          {
           "-300-0ms": -0.8476190476190529,
           "0-150ms": -3.7406060606060625,
           "150-450ms": 0.7774999999999985,
           "photo_id": 0
          },
          {
           "-300-0ms": 1.1238095238095198,
           "0-150ms": -4.630303030303033,
           "150-450ms": 3.080833333333335,
           "photo_id": 0
          },
          {
           "-300-0ms": 0.324761904761905,
           "0-150ms": -0.1454545454545448,
           "150-450ms": -0.6008333333333334,
           "photo_id": 0
          },
          {
           "-300-0ms": 1.3542857142857105,
           "0-150ms": -1.0303030303030323,
           "150-450ms": 0.01833333333333077,
           "photo_id": 0
          },
          {
           "-300-0ms": 0.02476190476190446,
           "0-150ms": -0.12121212121212115,
           "150-450ms": -0.17666666666666697,
           "photo_id": 0
          },
          {
           "-300-0ms": 1.2333333333333334,
           "0-150ms": -0.48000000000000037,
           "150-450ms": 1.1866666666666659,
           "photo_id": 0
          },
          {
           "-300-0ms": -0.30952380952381064,
           "0-150ms": 1.2921212121212113,
           "150-450ms": -1.0941666666666667,
           "photo_id": 0
          },
          {
           "-300-0ms": 0.09523809523809525,
           "0-150ms": 0.06060606060606086,
           "150-450ms": -3.67357013237761e-17,
           "photo_id": 0
          },
          {
           "-300-0ms": 1.7295238095237957,
           "0-150ms": -9.57575757575758,
           "150-450ms": 1.3058333333333267,
           "photo_id": 0
          },
          {
           "-300-0ms": -0.5228571428571409,
           "0-150ms": 8.867878787878785,
           "150-450ms": 0.3458333333333344,
           "photo_id": 0
          },
          {
           "-300-0ms": -0.8209523809523872,
           "0-150ms": 10.324848484848482,
           "150-450ms": -1.457499999999998,
           "photo_id": 0
          },
          {
           "-300-0ms": -2.796190476190482,
           "0-150ms": -1.6800000000000017,
           "150-450ms": -1.6775000000000009,
           "photo_id": 0
          },
          {
           "-300-0ms": -0.21809523809523979,
           "0-150ms": 3.9587878787878776,
           "150-450ms": 0.26500000000000085,
           "photo_id": 0
          },
          {
           "-300-0ms": -0.483809523809527,
           "0-150ms": -0.6254545454545455,
           "150-450ms": 1.5050000000000001,
           "photo_id": 0
          },
          {
           "-300-0ms": 0.2571428571428572,
           "0-150ms": 0.9139393939393927,
           "150-450ms": 0.724166666666669,
           "photo_id": 0
          },
          {
           "-300-0ms": -0.32285714285714406,
           "0-150ms": 1.284848484848484,
           "150-450ms": -0.2958333333333338,
           "photo_id": 0
          },
          {
           "-300-0ms": 1.6790476190476138,
           "0-150ms": -2.9381818181818207,
           "150-450ms": 1.0241666666666667,
           "photo_id": 0
          },
          {
           "-300-0ms": -1.9504761904762036,
           "0-150ms": -1.4836363636363659,
           "150-450ms": -3.970833333333338,
           "photo_id": 0
          },
          {
           "-300-0ms": -3.351428571428581,
           "0-150ms": -0.11878787878788284,
           "150-450ms": -1.6166666666666654,
           "photo_id": 0
          },
          {
           "-300-0ms": 0.41238095238094913,
           "0-150ms": -0.24242424242424312,
           "150-450ms": 0.5416666666666637,
           "photo_id": 0
          },
          {
           "-300-0ms": -0.7066666666666722,
           "0-150ms": 0.5163636363636335,
           "150-450ms": -0.3466666666666674,
           "photo_id": 0
          },
          {
           "-300-0ms": -0.4228571428571433,
           "0-150ms": 2.179393939393938,
           "150-450ms": -0.17249999999999985,
           "photo_id": 0
          },
          {
           "-300-0ms": 0.5657142857142851,
           "0-150ms": -0.016969696969698262,
           "150-450ms": 0.195833333333334,
           "photo_id": 0
          },
          {
           "-300-0ms": -0.5476190476190582,
           "0-150ms": 5.595151515151509,
           "150-450ms": 2.2766666666666695,
           "photo_id": 0
          },
          {
           "-300-0ms": -1.4276190476190698,
           "0-150ms": 16.47030303030302,
           "150-450ms": -2.97666666666667,
           "photo_id": 0
          },
          {
           "-300-0ms": 0.4808743169398902,
           "0-150ms": -0.5480225988700566,
           "150-450ms": -0.3833333333333331,
           "photo_id": 0
          },
          {
           "-300-0ms": 0.8655737704918062,
           "0-150ms": 1.5457627118644088,
           "150-450ms": -0.18333333333333401,
           "photo_id": 0
          },
          {
           "-300-0ms": -2.5333333333333274,
           "0-150ms": 1.0022598870056552,
           "150-450ms": -2.666666666666665,
           "photo_id": 0
          },
          {
           "-300-0ms": 3.604371584699454,
           "0-150ms": -0.5774011299435017,
           "150-450ms": -1.466666666666668,
           "photo_id": 0
          },
          {
           "-300-0ms": 3.499453551912571,
           "0-150ms": 9.868926553672333,
           "150-450ms": 2.8166666666666647,
           "photo_id": 0
          },
          {
           "-300-0ms": 4.553005464480887,
           "0-150ms": -3.887005649717496,
           "150-450ms": -1.849999999999997,
           "photo_id": 0
          },
          {
           "-300-0ms": 0.24043715846994262,
           "0-150ms": -0.40677966101695295,
           "150-450ms": 1.8166666666666673,
           "photo_id": 0
          },
          {
           "-300-0ms": -0.6316939890710357,
           "0-150ms": 1.6045197740113026,
           "150-450ms": -1.2999999999999998,
           "photo_id": 0
          },
          {
           "-300-0ms": -8.052459016393408,
           "0-150ms": 20.35819209039551,
           "150-450ms": -7.066666666666666,
           "photo_id": 0
          },
          {
           "-300-0ms": 2.7715846994535673,
           "0-150ms": 4.630508474576285,
           "150-450ms": 0.21666666666666648,
           "photo_id": 1
          },
          {
           "-300-0ms": -1.7857923497267691,
           "0-150ms": 1.594350282485882,
           "150-450ms": 1.0000000000000009,
           "photo_id": 0
          },
          {
           "-300-0ms": 4.015300546448102,
           "0-150ms": 2.6858757062146945,
           "150-450ms": -2.966666666666667,
           "photo_id": 0
          },
          {
           "-300-0ms": -1.683060109289607,
           "0-150ms": 11.099435028248598,
           "150-450ms": -0.5333333333333398,
           "photo_id": 0
          },
          {
           "-300-0ms": -6.594535519125672,
           "0-150ms": 2.1954802259887054,
           "150-450ms": -4.300000000000001,
           "photo_id": 0
          },
          {
           "-300-0ms": 0.05901639344262292,
           "0-150ms": 1.0090395480226,
           "150-450ms": -0.5999999999999993,
           "photo_id": 0
          },
          {
           "-300-0ms": -0.2448087431693943,
           "0-150ms": -3.015819209039545,
           "150-450ms": -0.43333333333333307,
           "photo_id": 0
          },
          {
           "-300-0ms": -1.363934426229507,
           "0-150ms": 1.2847457627118657,
           "150-450ms": -0.33333333333333254,
           "photo_id": 0
          },
          {
           "-300-0ms": -0.3387978142076485,
           "0-150ms": -1.1841807909604511,
           "150-450ms": -1.7999999999999996,
           "photo_id": 0
          },
          {
           "-300-0ms": 2.3016393442622944,
           "0-150ms": -1.6463276836158194,
           "150-450ms": 0.35000000000000114,
           "photo_id": 0
          },
          {
           "-300-0ms": -5.064480874316936,
           "0-150ms": -3.6994350282485855,
           "150-450ms": -0.33333333333333415,
           "photo_id": 0
          },
          {
           "-300-0ms": -0.19016393442622567,
           "0-150ms": -3.7751412429378486,
           "150-450ms": -2.133333333333331,
           "photo_id": 0
          },
          {
           "-300-0ms": 1.4382513661202216,
           "0-150ms": 2.472316384180793,
           "150-450ms": -0.38333333333333486,
           "photo_id": 0
          },
          {
           "-300-0ms": 0.5857923497267755,
           "0-150ms": 3.501694915254243,
           "150-450ms": -1.4333333333333347,
           "photo_id": 0
          },
          {
           "-300-0ms": -1.2612021857923439,
           "0-150ms": -0.7016949152542383,
           "150-450ms": 3.950000000000003,
           "photo_id": 0
          },
          {
           "-300-0ms": 2.2775956284153005,
           "0-150ms": -1.7389830508474577,
           "150-450ms": 0.06666666666666775,
           "photo_id": 0
          },
          {
           "-300-0ms": -0.07868852459015836,
           "0-150ms": -5.109604519774008,
           "150-450ms": -1.3999999999999992,
           "photo_id": 0
          },
          {
           "-300-0ms": -8.124590163934402,
           "0-150ms": -2.4926553672316243,
           "150-450ms": -7.216666666666665,
           "photo_id": 1
          },
          {
           "-300-0ms": -0.6039886039886045,
           "0-150ms": 0.10256410256410319,
           "150-450ms": -0.4986737400530499,
           "photo_id": 0
          },
          {
           "-300-0ms": -0.44281644281644356,
           "0-150ms": 1.2379487179487163,
           "150-450ms": -0.48717948717948784,
           "photo_id": 0
          },
          {
           "-300-0ms": -1.98860398860399,
           "0-150ms": 3.1056410256410225,
           "150-450ms": -2.2997347480106107,
           "photo_id": 0
          },
          {
           "-300-0ms": 0.5860805860805857,
           "0-150ms": -0.5353846153846151,
           "150-450ms": 0.5022104332449172,
           "photo_id": 0
          },
          {
           "-300-0ms": 0.1969881969881956,
           "0-150ms": 7.165128205128198,
           "150-450ms": -0.24314765694076182,
           "photo_id": 0
          },
          {
           "-300-0ms": 5.994301994301995,
           "0-150ms": -1.8225641025640995,
           "150-450ms": -0.14765694076038852,
           "photo_id": 0
          },
          {
           "-300-0ms": -1.1143671143671166,
           "0-150ms": 0.23076923076923103,
           "150-450ms": -0.532272325375772,
           "photo_id": 0
          },
          {
           "-300-0ms": 3.080993080993078,
           "0-150ms": 8.8451282051282,
           "150-450ms": 5.521662245800186,
           "photo_id": 0
          },
          {
           "-300-0ms": -7.479039479039481,
           "0-150ms": 2.288205128205123,
           "150-450ms": -2.5190097259062796,
           "photo_id": 0
          },
          {
           "-300-0ms": -8.070818070818078,
           "0-150ms": 3.7866666666666493,
           "150-450ms": -7.519009725906283,
           "photo_id": 0
          },
          {
           "-300-0ms": 1.3691493691493681,
           "0-150ms": -2.175384615384614,
           "150-450ms": -0.27674624226348365,
           "photo_id": 0
          },
          {
           "-300-0ms": -0.1400081400081402,
           "0-150ms": -1.541538461538462,
           "150-450ms": -1.2590627763041558,
           "photo_id": 0
          },
          {
           "-300-0ms": 0.14000814000813702,
           "0-150ms": -7.698461538461536,
           "150-450ms": 0.42793987621573787,
           "photo_id": 1
          },
          {
           "-300-0ms": -3.8095238095238106,
           "0-150ms": -0.6553846153846163,
           "150-450ms": -2.286472148541116,
           "photo_id": 0
          },
          {
           "-300-0ms": -4.091168091168093,
           "0-150ms": -2.640000000000002,
           "150-450ms": -3.48187444739169,
           "photo_id": 0
          },
          {
           "-300-0ms": -0.14000814000814046,
           "0-150ms": -0.31076923076923074,
           "150-450ms": -0.07869142351900867,
           "photo_id": 0
          },
          {
           "-300-0ms": -1.3813593813593812,
           "0-150ms": -2.5558974358974362,
           "150-450ms": -1.1706454465075156,
           "photo_id": 0
          },
          {
           "-300-0ms": 0.43361860873381125,
           "0-150ms": 3.3954599761051347,
           "150-450ms": 0.2804417320546303,
           "photo_id": 0
          },
          {
           "-300-0ms": -3.3364055299539266,
           "0-150ms": -6.512544802867384,
           "150-450ms": -1.790177274048253,
           "photo_id": 0
          },
          {
           "-300-0ms": -0.6662277814351558,
           "0-150ms": -0.07048984468339425,
           "150-450ms": 0.7070619006102864,
           "photo_id": 0
          },
          {
           "-300-0ms": -0.4441518542901047,
           "0-150ms": 4.247311827956987,
           "150-450ms": 0.2560302237721581,
           "photo_id": 0
          },
          {
           "-300-0ms": 0.2571867456660077,
           "0-150ms": 0.13022700119474276,
           "150-450ms": 0.061900610287706846,
           "photo_id": 0
          },
          {
           "-300-0ms": -0.7864823348694365,
           "0-150ms": -1.8876941457586653,
           "150-450ms": 0.6428363847718631,
           "photo_id": 0
          },
          {
           "-300-0ms": -0.6899275839368043,
           "0-150ms": 1.9964157706093186,
           "150-450ms": 3.0293519325777374,
           "photo_id": 0
          },
          {
           "-300-0ms": -1.101601931095019,
           "0-150ms": 0.9605734767025084,
           "150-450ms": -0.1705899447834933,
           "photo_id": 0
          },
          {
           "-300-0ms": -1.754663155584818,
           "0-150ms": -2.189964157706092,
           "150-450ms": -0.33769253124091964,
           "photo_id": 0
          },
          {
           "-300-0ms": 0.8944481018213647,
           "0-150ms": 9.089605734767007,
           "150-450ms": -4.11711711711713,
           "photo_id": 1
          },
          {
           "-300-0ms": -1.5536537195523399,
           "0-150ms": 2.335722819593786,
           "150-450ms": 1.4027898866608515,
           "photo_id": 0
          },
          {
           "-300-0ms": -1.3447443493526459,
           "0-150ms": 8.068100358422937,
           "150-450ms": 0.8538215634989816,
           "photo_id": 0
          },
          {
           "-300-0ms": -0.04301075268817304,
           "0-150ms": 0.9653524492234152,
           "150-450ms": 0.6666666666666656,
           "photo_id": 0
          },
          {
           "-300-0ms": -2.063638358569236,
           "0-150ms": 0.25209080047789395,
           "150-450ms": 0.7634408602150516,
           "photo_id": 0
          },
          {
           "-300-0ms": 0.09216589861751179,
           "0-150ms": 0.06929510155316428,
           "150-450ms": -0.6480674222609714,
           "photo_id": 0
          },
          {
           "-300-0ms": -2.5973228000877806,
           "0-150ms": 3.1170848267622433,
           "150-450ms": 0.7602441150828216,
           "photo_id": 0
          },
          {
           "-300-0ms": -0.08953258722843994,
           "0-150ms": -0.21146953405017999,
           "150-450ms": -0.24295263004940484,
           "photo_id": 0
          },
          {
           "-300-0ms": -0.3230195303928051,
           "0-150ms": 8.126642771804061,
           "150-450ms": 1.4245858761987769,
           "photo_id": 0
          },
          {
           "-300-0ms": 0.42308536317752904,
           "0-150ms": 2.1123058542413378,
           "150-450ms": 0.13077593722754977,
           "photo_id": 0
          },
          {
           "-300-0ms": -3.0634189159534917,
           "0-150ms": -1.8255675029868639,
           "150-450ms": 0.8782330717814514,
           "photo_id": 1
          },
          {
           "-300-0ms": -0.6767610269914431,
           "0-150ms": -1.7562724014336908,
           "150-450ms": -0.45480964835803467,
           "photo_id": 0
          },
          {
           "-300-0ms": 0.7048496818082062,
           "0-150ms": 3.863799283154121,
           "150-450ms": 0.4789305434466718,
           "photo_id": 0
          },
          {
           "-300-0ms": 2.8141321044546768,
           "0-150ms": 7.187574671445627,
           "150-450ms": 2.8692240627724375,
           "photo_id": 1
          },
          {
           "-300-0ms": -0.5336844415185439,
           "0-150ms": -0.2688172043010753,
           "150-450ms": -0.3583260680034874,
           "photo_id": 0
          },
          {
           "-300-0ms": -0.7768268597761718,
           "0-150ms": 4.199522102747908,
           "150-450ms": 0.26474861958732643,
           "photo_id": 0
          },
          {
           "-300-0ms": -1.0603467193328955,
           "0-150ms": 1.4910394265232971,
           "150-450ms": 0.36355710549258863,
           "photo_id": 0
          },
          {
           "-300-0ms": 0.11748251748251849,
           "0-150ms": 0.3649831649831659,
           "150-450ms": 0.15034965034965028,
           "photo_id": 0
          },
          {
           "-300-0ms": 2.5249417249417316,
           "0-150ms": 24.468686868686888,
           "150-450ms": -1.1107226107226074,
           "photo_id": 0
          },
          {
           "-300-0ms": 0.6881118881118846,
           "0-150ms": 2.099663299663305,
           "150-450ms": 1.7420357420357462,
           "photo_id": 0
          },
          {
           "-300-0ms": -0.4531468531468475,
           "0-150ms": 12.802693602693617,
           "150-450ms": -2.700077700077699,
           "photo_id": 0
          },
          {
           "-300-0ms": -0.24677544677544747,
           "0-150ms": -2.1723905723905674,
           "150-450ms": -1.2016317016316993,
           "photo_id": 0
          },
          {
           "-300-0ms": 0.2318570318570304,
           "0-150ms": 0.9373737373737386,
           "150-450ms": -0.030303030303029787,
           "photo_id": 0
          },
          {
           "-300-0ms": -4.432012432012434,
           "0-150ms": 0.2505050505050704,
           "150-450ms": -4.557886557886549,
           "photo_id": 0
          },
          {
           "-300-0ms": 2.600155400155407,
           "0-150ms": 5.633670033670055,
           "150-450ms": -1.939393939393938,
           "photo_id": 0
          },
          {
           "-300-0ms": -0.13240093240093276,
           "0-150ms": 0.4969696969696992,
           "150-450ms": -0.7789432789432755,
           "photo_id": 0
          },
          {
           "-300-0ms": 0.08578088578088498,
           "0-150ms": -0.01616161616161604,
           "150-450ms": 1.1017871017871024,
           "photo_id": 0
          },
          {
           "-300-0ms": -1.9300699300699276,
           "0-150ms": 6.490235690235703,
           "150-450ms": -5.9848484848484835,
           "photo_id": 1
          },
          {
           "-300-0ms": 0.8714840714840745,
           "0-150ms": 1.7831649831649898,
           "150-450ms": -1.074980574980572,
           "photo_id": 0
          },
          {
           "-300-0ms": -1.0697746697746668,
           "0-150ms": -0.30437710437709936,
           "150-450ms": -2.4809634809634793,
           "photo_id": 1
          },
          {
           "-300-0ms": -2.1619269619269583,
           "0-150ms": 2.795959595959602,
           "150-450ms": -2.944055944055943,
           "photo_id": 0
          },
          {
           "-300-0ms": -0.41274281274280983,
           "0-150ms": 0.5265993265993334,
           "150-450ms": -3.217948717948714,
           "photo_id": 0
          },
          {
           "-300-0ms": -0.27785547785547804,
           "0-150ms": 0.04848484848485025,
           "150-450ms": -1.389665889665889,
           "photo_id": 0
          },
          {
           "-300-0ms": -0.4413364413364387,
           "0-150ms": 5.358922558922565,
           "150-450ms": -0.30885780885780856,
           "photo_id": 0
          },
          {
           "-300-0ms": 0.6191142191142208,
           "0-150ms": -1.9582491582491557,
           "150-450ms": -0.3088578088578075,
           "photo_id": 0
          },
          {
           "-300-0ms": -0.04473304473304642,
           "0-150ms": -1.12424740010947,
           "150-450ms": -0.1619047619047615,
           "photo_id": 0
          },
          {
           "-300-0ms": 0.1832611832611831,
           "0-150ms": 1.8981937602627286,
           "150-450ms": 0.10793650793651051,
           "photo_id": 0
          },
          {
           "-300-0ms": -1.7373737373737408,
           "0-150ms": 4.484948002189387,
           "150-450ms": -0.6000000000000001,
           "photo_id": 0
          },
          {
           "-300-0ms": 6.12698412698411,
           "0-150ms": 21.980295566502488,
           "150-450ms": -0.8507936507936446,
           "photo_id": 0
          },
          {
           "-300-0ms": 0.6435786435786437,
           "0-150ms": -0.0733442802408351,
           "150-450ms": -0.19047619047618972,
           "photo_id": 0
          },
          {
           "-300-0ms": 1.7835497835497813,
           "0-150ms": 2.6316365626710456,
           "150-450ms": -2.4444444444444398,
           "photo_id": 0
          },
          {
           "-300-0ms": 0.46897546897547016,
           "0-150ms": -0.19923371647509938,
           "150-450ms": -0.04761904761904776,
           "photo_id": 0
          },
          {
           "-300-0ms": 1.854711255978399e-17,
           "0-150ms": 0.1839080459770117,
           "150-450ms": -5.047904536327335e-16,
           "photo_id": 0
          },
          {
           "-300-0ms": -0.34920634920635035,
           "0-150ms": -0.20361247947455116,
           "150-450ms": -0.39047619047619153,
           "photo_id": 0
          },
          {
           "-300-0ms": -0.037518037518037846,
           "0-150ms": 1.2063492063492074,
           "150-450ms": -0.18095238095237964,
           "photo_id": 0
          },
          {
           "-300-0ms": 3.203463203463199,
           "0-150ms": 8.178434592227694,
           "150-450ms": 0.904761904761906,
           "photo_id": 1
          },
          {
           "-300-0ms": -0.7907647907647911,
           "0-150ms": -0.21674876847290603,
           "150-450ms": 0.5142857142857147,
           "photo_id": 0
          },
          {
           "-300-0ms": 0.18759018759018628,
           "0-150ms": 1.899288451012585,
           "150-450ms": 1.238095238095237,
           "photo_id": 0
          },
          {
           "-300-0ms": 2.4473304473304456,
           "0-150ms": 1.7963875205254503,
           "150-450ms": 0.8285714285714282,
           "photo_id": 0
          },
          {
           "-300-0ms": 3.7821067821067786,
           "0-150ms": -1.494252873563217,
           "150-450ms": 1.7396825396825422,
           "photo_id": 0
          },
          {
           "-300-0ms": -2.6493506493506627,
           "0-150ms": 14.688560481663956,
           "150-450ms": -3.6952380952380994,
           "photo_id": 0
          },
          {
           "-300-0ms": 1.3852813852813812,
           "0-150ms": -0.6458675424192739,
           "150-450ms": -0.01587301587301999,
           "photo_id": 0
          },
          {
           "-300-0ms": 1.0346320346320328,
           "0-150ms": -1.2501368363437326,
           "150-450ms": 1.2666666666666664,
           "photo_id": 0
          },
          {
           "-300-0ms": 1.227994227994228,
           "0-150ms": 0.16201423097974843,
           "150-450ms": 1.596825396825398,
           "photo_id": 0
          },
          {
           "-300-0ms": 0.886002886002891,
           "0-150ms": 0.3929939792008781,
           "150-450ms": 0.15238095238095373,
           "photo_id": 0
          },
          {
           "-300-0ms": 0.46608946608946544,
           "0-150ms": 0.005473453749315775,
           "150-450ms": -0.38095238095238243,
           "photo_id": 0
          },
          {
           "-300-0ms": -2.227272727272727,
           "0-150ms": -6.4444444444444295,
           "150-450ms": -3.017241379310344,
           "photo_id": 0
          },
          {
           "-300-0ms": 0.43939393939394034,
           "0-150ms": -0.49444444444444136,
           "150-450ms": 0.9942528735632181,
           "photo_id": 0
          },
          {
           "-300-0ms": 1.3787878787878824,
           "0-150ms": 2.072222222222217,
           "150-450ms": 4.6178160919540225,
           "photo_id": 0
          },
          {
           "-300-0ms": 4.000000000000003,
           "0-150ms": 8.144444444444437,
           "150-450ms": 2.3735632183908084,
           "photo_id": 0
          },
          {
           "-300-0ms": -4.030303030303021,
           "0-150ms": -7.733333333333312,
           "150-450ms": 5.49425287356322,
           "photo_id": 0
          },
          {
           "-300-0ms": -0.36363636363636126,
           "0-150ms": -1.2555555555555533,
           "150-450ms": -0.8908045977011505,
           "photo_id": 0
          },
          {
           "-300-0ms": -0.8333333333333351,
           "0-150ms": -0.8722222222222191,
           "150-450ms": 0.25574712643678177,
           "photo_id": 0
          },
          {
           "-300-0ms": 3.787878787878794,
           "0-150ms": -4.344444444444432,
           "150-450ms": 0.31896551724137967,
           "photo_id": 0
          },
          {
           "-300-0ms": 1.6515151515151547,
           "0-150ms": 0.4333333333333331,
           "150-450ms": 0.3362068965517229,
           "photo_id": 0
          },
          {
           "-300-0ms": 0.24242424242424299,
           "0-150ms": 1.3111111111111098,
           "150-450ms": -1.974137931034481,
           "photo_id": 0
          },
          {
           "-300-0ms": 1.2727272727272732,
           "0-150ms": 0.23888888888888826,
           "150-450ms": 0.4252873563218393,
           "photo_id": 0
          },
          {
           "-300-0ms": 3.2424242424242435,
           "0-150ms": 7.461111111111102,
           "150-450ms": 0.48850574712643596,
           "photo_id": 0
          },
          {
           "-300-0ms": -3.1060606060605784,
           "0-150ms": 12.516666666666675,
           "150-450ms": -5.738505747126428,
           "photo_id": 0
          },
          {
           "-300-0ms": 1.2878787878787914,
           "0-150ms": 5.311111111111111,
           "150-450ms": -2.3735632183908044,
           "photo_id": 0
          },
          {
           "-300-0ms": 0.9848484848484826,
           "0-150ms": 3.2888888888888883,
           "150-450ms": -0.5545977011494253,
           "photo_id": 0
          },
          {
           "-300-0ms": -2.3030303030302925,
           "0-150ms": 12.838888888888876,
           "150-450ms": 0.8304597701149398,
           "photo_id": 1
          },
          {
           "-300-0ms": 4.1515151515151585,
           "0-150ms": -2.3499999999999965,
           "150-450ms": -1.3132183908045947,
           "photo_id": 0
          },
          {
           "-300-0ms": 2.5606060606060628,
           "0-150ms": 10.788888888888877,
           "150-450ms": 0.03735632183908274,
           "photo_id": 0
          },
          {
           "-300-0ms": -0.04545454545454523,
           "0-150ms": -0.6833333333333326,
           "150-450ms": -0.7385057471264362,
           "photo_id": 0
          },
          {
           "-300-0ms": 0.6818181818181831,
           "0-150ms": 4.533333333333325,
           "150-450ms": 1.0862068965517249,
           "photo_id": 0
          },
          {
           "-300-0ms": -1.5909090909090884,
           "0-150ms": -2.5666666666666624,
           "150-450ms": -3.143678160919542,
           "photo_id": 0
          },
          {
           "-300-0ms": 5.242424242424253,
           "0-150ms": 4.266666666666669,
           "150-450ms": 0.6666666666666651,
           "photo_id": 0
          },
          {
           "-300-0ms": -2.6515151515151523,
           "0-150ms": 2.611111111111111,
           "150-450ms": -2.03448275862069,
           "photo_id": 0
          },
          {
           "-300-0ms": 0.7121212121212137,
           "0-150ms": 3.255555555555555,
           "150-450ms": 1.1120689655172422,
           "photo_id": 0
          },
          {
           "-300-0ms": 1.0793650793650753,
           "0-150ms": 2.299999999999996,
           "150-450ms": -0.30714285714285805,
           "photo_id": 0
          },
          {
           "-300-0ms": 1.0793650793650802,
           "0-150ms": -1.3793650793650807,
           "150-450ms": 0.016666666666667718,
           "photo_id": 0
          },
          {
           "-300-0ms": -1.7142857142857142,
           "0-150ms": -3.012698412698407,
           "150-450ms": -3.516666666666662,
           "photo_id": 0
          },
          {
           "-300-0ms": -1.0793650793650789,
           "0-150ms": 3.3682539682539656,
           "150-450ms": -0.4238095238095216,
           "photo_id": 0
          },
          {
           "-300-0ms": -1.1746031746031749,
           "0-150ms": 0.8174603174603169,
           "150-450ms": -0.1904761904761897,
           "photo_id": 0
          },
          {
           "-300-0ms": -1.079365079365077,
           "0-150ms": -0.7301587301587286,
           "150-450ms": -0.9452380952380963,
           "photo_id": 0
          },
          {
           "-300-0ms": -5.174603174603168,
           "0-150ms": 18.514285714285695,
           "150-450ms": -10.46190476190475,
           "photo_id": 0
          },
          {
           "-300-0ms": -0.4444444444444439,
           "0-150ms": 2.9841269841269824,
           "150-450ms": -0.1380952380952376,
           "photo_id": 0
          },
          {
           "-300-0ms": -1.8730158730158701,
           "0-150ms": 3.323809523809523,
           "150-450ms": -0.3857142857142813,
           "photo_id": 0
          },
          {
           "-300-0ms": -7.714285714285715,
           "0-150ms": 14.5031746031746,
           "150-450ms": -3.5928571428571345,
           "photo_id": 1
          },
          {
           "-300-0ms": -1.3015873015873123,
           "0-150ms": 14.26507936507935,
           "150-450ms": -0.1904761904761869,
           "photo_id": 0
          },
          {
           "-300-0ms": -6.126984126984129,
           "0-150ms": 16.14126984126983,
           "150-450ms": -2.0833333333333215,
           "photo_id": 0
          },
          {
           "-300-0ms": -6.539682539682526,
           "0-150ms": 17.450793650793656,
           "150-450ms": -2.8428571428571323,
           "photo_id": 0
          },
          {
           "-300-0ms": 1.2380952380952501,
           "0-150ms": 4.639682539682539,
           "150-450ms": 0.8857142857142932,
           "photo_id": 0
          },
          {
           "-300-0ms": 0.22222222222222374,
           "0-150ms": 0.4333333333333343,
           "150-450ms": 0.4571428571428576,
           "photo_id": 0
          },
          {
           "-300-0ms": -8.952380952380954,
           "0-150ms": -4.503174603174599,
           "150-450ms": -2.6785714285714284,
           "photo_id": 0
          },
          {
           "-300-0ms": 2.3492063492063475,
           "0-150ms": -2.4412698412698384,
           "150-450ms": 0.6404761904761922,
           "photo_id": 0
          },
          {
           "-300-0ms": 0.1587301587301505,
           "0-150ms": 4.9603174603174605,
           "150-450ms": -1.433333333333332,
           "photo_id": 0
          },
          {
           "-300-0ms": 0.38095238095238737,
           "0-150ms": 6.593650793650799,
           "150-450ms": -2.9166666666666607,
           "photo_id": 0
          },
          {
           "-300-0ms": -1.3015873015872967,
           "0-150ms": 14.43174603174603,
           "150-450ms": -3.435714285714278,
           "photo_id": 0
          },
          {
           "-300-0ms": -0.38095238095237677,
           "0-150ms": 12.142857142857139,
           "150-450ms": -0.30714285714285183,
           "photo_id": 0
          },
          {
           "-300-0ms": -0.06349206349206245,
           "0-150ms": 1.953968253968257,
           "150-450ms": 0.6452380952380964,
           "photo_id": 0
          },
          {
           "-300-0ms": -4.645014245014242,
           "0-150ms": 8.14233385661957,
           "150-450ms": -3.9435897435897496,
           "photo_id": 0
          },
          {
           "-300-0ms": 1.8849002849002858,
           "0-150ms": -0.14652014652014703,
           "150-450ms": 1.1794871794871804,
           "photo_id": 0
          },
          {
           "-300-0ms": -3.1088319088319065,
           "0-150ms": -2.8341182626896946,
           "150-450ms": -2.532478632478633,
           "photo_id": 0
          },
          {
           "-300-0ms": 1.226210826210831,
           "0-150ms": -6.048142333856622,
           "150-450ms": 2.1273504273504282,
           "photo_id": 0
          },
          {
           "-300-0ms": -0.26438746438747257,
           "0-150ms": 7.517530088958662,
           "150-450ms": -2.25726495726496,
           "photo_id": 0
          },
          {
           "-300-0ms": 1.5999999999999968,
           "0-150ms": 0.8016745159602302,
           "150-450ms": 0.9196581196581173,
           "photo_id": 0
          },
          {
           "-300-0ms": 0.23703703703703663,
           "0-150ms": 0.08163265306122448,
           "150-450ms": 0.19316239316239256,
           "photo_id": 0
          },
          {
           "-300-0ms": 0.7042735042735032,
           "0-150ms": -0.6038723181580326,
           "150-450ms": 0.013675213675212544,
           "photo_id": 0
          },
          {
           "-300-0ms": -2.229235173818725e-17,
           "0-150ms": 6.32196462044006e-17,
           "150-450ms": 0.16666666666666588,
           "photo_id": 0
          },
          {
           "-300-0ms": 2.140170940170943,
           "0-150ms": -5.211930926216644,
           "150-450ms": 1.329059829059831,
           "photo_id": 0
          },
          {
           "-300-0ms": -1.3219373219373185,
           "0-150ms": -2.727367870225015,
           "150-450ms": -0.35726495726495155,
           "photo_id": 0
          },
          {
           "-300-0ms": -0.24615384615384847,
           "0-150ms": 0.4897959183673459,
           "150-450ms": -0.20085470085470256,
           "photo_id": 0
          },
          {
           "-300-0ms": 1.3356125356125335,
           "0-150ms": 1.3657770800627949,
           "150-450ms": 3.0427350427350426,
           "photo_id": 0
          },
          {
           "-300-0ms": -2.4615384615384603,
           "0-150ms": 0.5975928833071694,
           "150-450ms": -1.0478632478632506,
           "photo_id": 0
          },
          {
           "-300-0ms": 0,
           "0-150ms": 8.145767028369689e-17,
           "150-450ms": 0,
           "photo_id": 0
          },
          {
           "-300-0ms": -1.5566951566951532,
           "0-150ms": -0.25431711145996944,
           "150-450ms": 4.494017094017093,
           "photo_id": 0
          },
          {
           "-300-0ms": 5.062108262108259,
           "0-150ms": 9.672422815279957,
           "150-450ms": 2.549572649572649,
           "photo_id": 0
          },
          {
           "-300-0ms": -3.4871794871794806,
           "0-150ms": -1.6420722135007875,
           "150-450ms": -0.40854700854700976,
           "photo_id": 0
          },
          {
           "-300-0ms": -1.192022792022792,
           "0-150ms": -0.8707482993197297,
           "150-450ms": 0.23504273504273365,
           "photo_id": 0
          },
          {
           "-300-0ms": -0.7521367521367543,
           "0-150ms": -0.6080586080586116,
           "150-450ms": -0.7222222222222237,
           "photo_id": 0
          },
          {
           "-300-0ms": -0.6222222222222208,
           "0-150ms": -1.5028780743066463,
           "150-450ms": -2.6384615384615366,
           "photo_id": 0
          },
          {
           "-300-0ms": 4.050142450142458,
           "0-150ms": -4.0879120879120885,
           "150-450ms": 1.2829059829059877,
           "photo_id": 0
          },
          {
           "-300-0ms": 0.19373219373219297,
           "0-150ms": 0.05651491365777118,
           "150-450ms": 0.03760683760683783,
           "photo_id": 0
          },
          {
           "-300-0ms": 1.8324786324786322,
           "0-150ms": 0.9419152276295111,
           "150-450ms": 2.5700854700854676,
           "photo_id": 0
          },
          {
           "-300-0ms": -0.20284900284900179,
           "0-150ms": 0.5494505494505496,
           "150-450ms": 0.5991452991452976,
           "photo_id": 0
          },
          {
           "-300-0ms": -0.1527065527065544,
           "0-150ms": -2.148613291470435,
           "150-450ms": 2.0136752136752114,
           "photo_id": 0
          },
          {
           "-300-0ms": 0.5863991081382395,
           "0-150ms": -2.353623188405797,
           "150-450ms": 3.3311036789297668,
           "photo_id": 0
          },
          {
           "-300-0ms": 2.9007803790412514,
           "0-150ms": -4.343961352657009,
           "150-450ms": 0.9832775919732347,
           "photo_id": 1
          },
          {
           "-300-0ms": -0.17614269788182937,
           "0-150ms": -0.5101449275362293,
           "150-450ms": -1.5741360089186174,
           "photo_id": 0
          },
          {
           "-300-0ms": 4.4838350055741385,
           "0-150ms": 0.3909822866344581,
           "150-450ms": 10.167224080267554,
           "photo_id": 0
          },
          {
           "-300-0ms": -0.9264214046822756,
           "0-150ms": 1.2367149758454137,
           "150-450ms": -1.2775919732441472,
           "photo_id": 0
          },
          {
           "-300-0ms": -1.202898550724638,
           "0-150ms": -0.8322061191626414,
           "150-450ms": -0.6778149386845058,
           "photo_id": 1
          },
          {
           "-300-0ms": 1.8249721293199592,
           "0-150ms": 13.657326892109507,
           "150-450ms": -0.37904124860647315,
           "photo_id": 0
          },
          {
           "-300-0ms": -0.4147157190635456,
           "0-150ms": 11.99613526570049,
           "150-450ms": -0.21850613154960996,
           "photo_id": 0
          },
          {
           "-300-0ms": 4.017837235228545,
           "0-150ms": 0.40257648953301534,
           "150-450ms": 1.335562987736898,
           "photo_id": 0
          },
          {
           "-300-0ms": 0.051282051282051246,
           "0-150ms": 0.02962962962962966,
           "150-450ms": 0.05128205128205124,
           "photo_id": 0
          },
          {
           "-300-0ms": -0.13154960981047892,
           "0-150ms": -0.8927536231884069,
           "150-450ms": -0.07580824972129392,
           "photo_id": 0
          },
          {
           "-300-0ms": 13.25306577480491,
           "0-150ms": 7.108534621578097,
           "150-450ms": 0.3901895206243033,
           "photo_id": 0
          },
          {
           "-300-0ms": -4.397993311036791,
           "0-150ms": -1.893075684380032,
           "150-450ms": -2.7937569676700114,
           "photo_id": 0
          },
          {
           "-300-0ms": -0.12820512820513022,
           "0-150ms": -0.11529790660225502,
           "150-450ms": -0.5284280936454849,
           "photo_id": 0
          },
          {
           "-300-0ms": 0.7179487179487184,
           "0-150ms": 0.3851851851851844,
           "150-450ms": 0.4191750278706783,
           "photo_id": 0
          },
          {
           "-300-0ms": 1.2842809364548504,
           "0-150ms": 0.7175523349436435,
           "150-450ms": 0.8227424749163893,
           "photo_id": 0
          },
          {
           "-300-0ms": -0.7603121516164973,
           "0-150ms": 2.017391304347827,
           "150-450ms": -0.5373467112597526,
           "photo_id": 0
          },
          {
           "-300-0ms": -2.8138238573021215,
           "0-150ms": -0.23639291465378773,
           "150-450ms": 0.4860646599777061,
           "photo_id": 0
          },
          {
           "-300-0ms": 0.6131549609810455,
           "0-150ms": -0.8070853462157818,
           "150-450ms": 2.098104793756965,
           "photo_id": 0
          },
          {
           "-300-0ms": 0.10702341137123746,
           "0-150ms": 1.0621578099838966,
           "150-450ms": -0.11594202898551298,
           "photo_id": 0
          },
          {
           "-300-0ms": 3.4871794871794948,
           "0-150ms": 10.620933977455728,
           "150-450ms": -2.5306577480490517,
           "photo_id": 0
          },
          {
           "-300-0ms": 0.6332218506131562,
           "0-150ms": -0.13204508856682706,
           "150-450ms": -1.5585284280936456,
           "photo_id": 0
          },
          {
           "-300-0ms": -1.8517279821627657,
           "0-150ms": -3.105958132045091,
           "150-450ms": -0.3322185061315528,
           "photo_id": 0
          },
          {
           "-300-0ms": 1.8862876254180634,
           "0-150ms": -0.9668276972624792,
           "150-450ms": 1.3935340022296525,
           "photo_id": 0
          },
          {
           "-300-0ms": 1.1616499442586388,
           "0-150ms": -2.7091787439613504,
           "150-450ms": 0.6086956521739182,
           "photo_id": 0
          },
          {
           "-300-0ms": -1.0066889632107037,
           "0-150ms": 6.3143317230273786,
           "150-450ms": -1.0055741360089203,
           "photo_id": 0
          },
          {
           "-300-0ms": -1.947603121516165,
           "0-150ms": 0.17648953301127326,
           "150-450ms": -0.15607580824972334,
           "photo_id": 0
          },
          {
           "-300-0ms": 1.5418060200668897,
           "0-150ms": 3.9510466988727893,
           "150-450ms": 2.813823857302118,
           "photo_id": 0
          },
          {
           "-300-0ms": 16.297658862876272,
           "0-150ms": -0.5481481481481526,
           "150-450ms": 8.488294314381266,
           "photo_id": 0
          },
          {
           "-300-0ms": 0.6845039018952054,
           "0-150ms": 0.5442834138486324,
           "150-450ms": 0.731326644370125,
           "photo_id": 0
          },
          {
           "-300-0ms": 0.8193979933110369,
           "0-150ms": 0.9971014492753612,
           "150-450ms": -0.11817168338907486,
           "photo_id": 0
          },
          {
           "-300-0ms": 0.3851851851851853,
           "0-150ms": -3.2719060523938617,
           "150-450ms": -3.1198257080610055,
           "photo_id": 0
          },
          {
           "-300-0ms": 0.07407407407407195,
           "0-150ms": -1.2836495031616988,
           "150-450ms": -0.3050108932461871,
           "photo_id": 0
          },
          {
           "-300-0ms": 1.5407407407407394,
           "0-150ms": 0.8039747064137326,
           "150-450ms": 1.1394335511982576,
           "photo_id": 0
          },
          {
           "-300-0ms": 1.185185185185184,
           "0-150ms": -0.48328816621499743,
           "150-450ms": 0.7995642701525049,
           "photo_id": 0
          },
          {
           "-300-0ms": 0.5925925925925934,
           "0-150ms": 0.08672086720867143,
           "150-450ms": -0.7124183006535955,
           "photo_id": 0
          },
          {
           "-300-0ms": 1.288888888888885,
           "0-150ms": -0.0027100271002724976,
           "150-450ms": 1.6013071895424804,
           "photo_id": 0
          },
          {
           "-300-0ms": 1.9555555555555537,
           "0-150ms": 3.634146341463414,
           "150-450ms": 0.38779956427015233,
           "photo_id": 0
          },
          {
           "-300-0ms": 0.7851851851851775,
           "0-150ms": 8.31797651309847,
           "150-450ms": 0.4204793028322436,
           "photo_id": 0
          },
          {
           "-300-0ms": 0.17777777777777734,
           "0-150ms": -0.2538392050587174,
           "150-450ms": 0.7058823529411766,
           "photo_id": 0
          },
          {
           "-300-0ms": 6.414814814814811,
           "0-150ms": 2.8581752484191543,
           "150-450ms": -0.8104575163398714,
           "photo_id": 0
          },
          {
           "-300-0ms": 1.3481481481481465,
           "0-150ms": 1.8852755194218591,
           "150-450ms": -0.46840958605664545,
           "photo_id": 0
          },
          {
           "-300-0ms": -0.08888888888888948,
           "0-150ms": 1.6323396567299027,
           "150-450ms": -1.80392156862745,
           "photo_id": 0
          },
          {
           "-300-0ms": 0.77037037037037,
           "0-150ms": 0.5492321589882574,
           "150-450ms": 0.4161220043572982,
           "photo_id": 0
          },
          {
           "-300-0ms": -4.8592592592592565,
           "0-150ms": -4.9087624209575464,
           "150-450ms": 1.1895424836601345,
           "photo_id": 0
          },
          {
           "-300-0ms": -0.4444444444444442,
           "0-150ms": -0.10840108401083999,
           "150-450ms": -1.2440087145969498,
           "photo_id": 0
          },
          {
           "-300-0ms": -0.1777777777777807,
           "0-150ms": 0.07949412827461573,
           "150-450ms": 1.0849673202614378,
           "photo_id": 0
          },
          {
           "-300-0ms": 2.3703703703703716,
           "0-150ms": 0.2213188798554655,
           "150-450ms": 0.7254901960784306,
           "photo_id": 0
          },
          {
           "-300-0ms": -1.8962962962962964,
           "0-150ms": -1.1336946702800363,
           "150-450ms": -2.3137254901960778,
           "photo_id": 1
          },
          {
           "-300-0ms": 2.355555555555554,
           "0-150ms": 1.0460704607046065,
           "150-450ms": 2.3376906318082793,
           "photo_id": 0
          },
          {
           "-300-0ms": 2.2518518518518533,
           "0-150ms": -4.129177958446253,
           "150-450ms": 1.6209150326797384,
           "photo_id": 0
          },
          {
           "-300-0ms": 5.9407407407407335,
           "0-150ms": 13.532971996386642,
           "150-450ms": 0.8801742919389941,
           "photo_id": 0
          },
          {
           "-300-0ms": -1.6296296296296278,
           "0-150ms": 3.8979223125564606,
           "150-450ms": -5.636165577342047,
           "photo_id": 0
          },
          {
           "-300-0ms": 0.22222222222222213,
           "0-150ms": 2.3152664859981953,
           "150-450ms": 0.27886710239651374,
           "photo_id": 0
          },
          {
           "-300-0ms": 0.4592592592592572,
           "0-150ms": 0.5618789521228555,
           "150-450ms": 0.0501089324618725,
           "photo_id": 0
          },
          {
           "-300-0ms": 0.4210526315789465,
           "0-150ms": 0.22535211267605124,
           "150-450ms": 1.1942554799697678,
           "photo_id": 0
          },
          {
           "-300-0ms": -1.2163742690058454,
           "0-150ms": 0.7678664580073011,
           "150-450ms": -1.467876039304605,
           "photo_id": 0
          },
          {
           "-300-0ms": 0.21052631578947356,
           "0-150ms": 0.046948356807511575,
           "150-450ms": -0.006046863189721494,
           "photo_id": 0
          },
          {
           "-300-0ms": -2.736842105263156,
           "0-150ms": -1.5148669796557128,
           "150-450ms": 1.632653061224494,
           "photo_id": 0
          },
          {
           "-300-0ms": -2.666666666666663,
           "0-150ms": 0.4872196139801854,
           "150-450ms": -0.8888888888888881,
           "photo_id": 0
          },
          {
           "-300-0ms": 0.0623781676413265,
           "0-150ms": 1.4407929055816402,
           "150-450ms": 0.05139833711262328,
           "photo_id": 0
          },
          {
           "-300-0ms": 0.031189083820668023,
           "0-150ms": 0.7574334898278616,
           "150-450ms": -0.6969009826152632,
           "photo_id": 0
          },
          {
           "-300-0ms": 2.035087719298232,
           "0-150ms": -3.937402190923322,
           "150-450ms": 4.238851095993952,
           "photo_id": 1
          },
          {
           "-300-0ms": -0.1637426900584924,
           "0-150ms": 0.4444444444444436,
           "150-450ms": 2.069538926681783,
           "photo_id": 0
          },
          {
           "-300-0ms": 0.24951267056530094,
           "0-150ms": 0.8325508607198756,
           "150-450ms": 0.32653061224489893,
           "photo_id": 0
          },
          {
           "-300-0ms": -2.198830409356724,
           "0-150ms": 1.739175795513831,
           "150-450ms": -0.5275888133031034,
           "photo_id": 0
          },
          {
           "-300-0ms": -2.9707602339181225,
           "0-150ms": -1.6202399582681217,
           "150-450ms": -0.3159486016628849,
           "photo_id": 0
          },
          {
           "-300-0ms": 2.643274853801172,
           "0-150ms": 0.4569640062597921,
           "150-450ms": -0.049886621315194356,
           "photo_id": 0
          },
          {
           "-300-0ms": 1.9571150097466,
           "0-150ms": 21.771517996870134,
           "150-450ms": -7.560090702947828,
           "photo_id": 1
          },
          {
           "-300-0ms": 0.3040935672514604,
           "0-150ms": 0.26291079812206536,
           "150-450ms": 0.5170068027210867,
           "photo_id": 0
          },
          {
           "-300-0ms": 8.226120857699813,
           "0-150ms": 31.929055816379783,
           "150-450ms": 2.9886621315192765,
           "photo_id": 0
          },
          {
           "-300-0ms": -3.695906432748521,
           "0-150ms": 6.825247782994272,
           "150-450ms": -2.840513983371116,
           "photo_id": 0
          },
          {
           "-300-0ms": -0.24951267056530027,
           "0-150ms": 1.0349504434011472,
           "150-450ms": 0.22071050642479384,
           "photo_id": 0
          },
          {
           "-300-0ms": -0.304093567251462,
           "0-150ms": -0.616588419405322,
           "150-450ms": -0.4157218442932728,
           "photo_id": 0
          },
          {
           "-300-0ms": -0.6081871345029227,
           "0-150ms": 0.7344809598330718,
           "150-450ms": -0.8934240362811788,
           "photo_id": 0
          },
          {
           "-300-0ms": -2.8819047619047624,
           "0-150ms": -1.8952380952380945,
           "150-450ms": 0.9600000000000009,
           "photo_id": 0
          },
          {
           "-300-0ms": -4.498095238095231,
           "0-150ms": 10.337142857142856,
           "150-450ms": -1.69333333333333,
           "photo_id": 0
          },
          {
           "-300-0ms": 2.527619047619043,
           "0-150ms": -1.3619047619047613,
           "150-450ms": 0.5095238095238078,
           "photo_id": 0
          },
          {
           "-300-0ms": 2.4676190476190314,
           "0-150ms": 50.40571428571426,
           "150-450ms": -3.853333333333328,
           "photo_id": 0
          },
          {
           "-300-0ms": 1.5485714285714243,
           "0-150ms": -0.5923809523809503,
           "150-450ms": 1.3942857142857121,
           "photo_id": 0
          },
          {
           "-300-0ms": 1.6457142857142806,
           "0-150ms": 1.4076190476190487,
           "150-450ms": -2.167619047619049,
           "photo_id": 0
          },
          {
           "-300-0ms": 0.897142857142856,
           "0-150ms": -1.5390476190476174,
           "150-450ms": 0.4561904761904767,
           "photo_id": 0
          },
          {
           "-300-0ms": -1.8590476190476182,
           "0-150ms": -0.08190476190476155,
           "150-450ms": -0.34190476190476166,
           "photo_id": 0
          },
          {
           "-300-0ms": 1.7304761904761892,
           "0-150ms": -0.08380952380952315,
           "150-450ms": -0.3019047619047626,
           "photo_id": 0
          },
          {
           "-300-0ms": -0.48476190476190517,
           "0-150ms": 0.08571428571428534,
           "150-450ms": 0.6114285714285713,
           "photo_id": 0
          },
          {
           "-300-0ms": 3.5638095238095047,
           "0-150ms": 16.539047619047608,
           "150-450ms": 1.8752380952380954,
           "photo_id": 0
          },
          {
           "-300-0ms": -0.5914285714285707,
           "0-150ms": -0.7828571428571425,
           "150-450ms": -0.43714285714285595,
           "photo_id": 0
          },
          {
           "-300-0ms": -2.47047619047619,
           "0-150ms": 1.8514285714285708,
           "150-450ms": -1.14,
           "photo_id": 0
          },
          {
           "-300-0ms": -2.4752380952380966,
           "0-150ms": 3.9295238095238094,
           "150-450ms": -0.042857142857144204,
           "photo_id": 0
          },
          {
           "-300-0ms": 5.369523809523799,
           "0-150ms": -4.148571428571424,
           "150-450ms": -1.5914285714285716,
           "photo_id": 0
          },
          {
           "-300-0ms": -0.9514285714285732,
           "0-150ms": 1.1942857142857142,
           "150-450ms": 0.0809523809523802,
           "photo_id": 0
          },
          {
           "-300-0ms": -0.23333333333335085,
           "0-150ms": -1.8790123456790138,
           "150-450ms": -3.907317073170742,
           "photo_id": 0
          },
          {
           "-300-0ms": -2.605555555555594,
           "0-150ms": 11.276543209876559,
           "150-450ms": 3.5788617886178695,
           "photo_id": 1
          },
          {
           "-300-0ms": -2.2833333333333488,
           "0-150ms": -4.681481481481507,
           "150-450ms": -6.3138211382114084,
           "photo_id": 0
          },
          {
           "-300-0ms": 0.11111111111111395,
           "0-150ms": 1.3768527760903057e-15,
           "150-450ms": 0.5772357723577204,
           "photo_id": 0
          },
          {
           "-300-0ms": -0.11666666666666485,
           "0-150ms": -0.4000000000000013,
           "150-450ms": -0.024390243902436926,
           "photo_id": 0
          },
          {
           "-300-0ms": 0.3333333333333357,
           "0-150ms": 5.74074074074075,
           "150-450ms": 0.3203252032520291,
           "photo_id": 0
          },
          {
           "-300-0ms": 0.5611111111111052,
           "0-150ms": -0.5111111111111196,
           "150-450ms": -2.804215536603162e-15,
           "photo_id": 0
          },
          {
           "-300-0ms": -0.16666666666667165,
           "0-150ms": 2.22222222222223,
           "150-450ms": -0.3902439024390245,
           "photo_id": 0
          },
          {
           "-300-0ms": -0.4555555555555613,
           "0-150ms": 17.622222222222273,
           "150-450ms": -0.07967479674797111,
           "photo_id": 0
          },
          {
           "-300-0ms": 1.966666666666663,
           "0-150ms": 13.654320987654364,
           "150-450ms": -0.43252032520325817,
           "photo_id": 0
          },
          {
           "-300-0ms": -0.622222222222221,
           "0-150ms": -1.264197530864193,
           "150-450ms": 2.881300813008112,
           "photo_id": 0
          },
          {
           "-300-0ms": 0.17777777777778092,
           "0-150ms": 2.9111111111111234,
           "150-450ms": 0.24227642276422456,
           "photo_id": 0
          },
          {
           "-300-0ms": -2.31111111111112,
           "0-150ms": -2.9827160493827143,
           "150-450ms": -0.2959349593495902,
           "photo_id": 0
          },
          {
           "-300-0ms": -1.677777777777781,
           "0-150ms": -2.730864197530881,
           "150-450ms": 0.06829268292683806,
           "photo_id": 0
          },
          {
           "-300-0ms": -0.6611111111111185,
           "0-150ms": 5.701234567901245,
           "150-450ms": -0.29430894308943045,
           "photo_id": 0
          },
          {
           "-300-0ms": -0.36111111111111377,
           "0-150ms": 0.8493827160493873,
           "150-450ms": -0.4926829268292679,
           "photo_id": 0
          },
          {
           "-300-0ms": -0.08333333333333708,
           "0-150ms": 3.861728395061743,
           "150-450ms": 1.8747967479674825,
           "photo_id": 0
          },
          {
           "-300-0ms": -1.3388888888889021,
           "0-150ms": 2.2543209876543315,
           "150-450ms": 0.03739837398374091,
           "photo_id": 0
          },
          {
           "-300-0ms": -2.654358974358967,
           "0-150ms": -3.836630036630037,
           "150-450ms": -2.8827838827838783,
           "photo_id": 0
          },
          {
           "-300-0ms": -0.4615384615384606,
           "0-150ms": 0.13699633699633787,
           "150-450ms": -0.34065934065934084,
           "photo_id": 0
          },
          {
           "-300-0ms": -0.6953846153846168,
           "0-150ms": 14.910622710622706,
           "150-450ms": 2.4029304029304073,
           "photo_id": 1
          },
          {
           "-300-0ms": 0.44512820512820533,
           "0-150ms": 0.1487179487179466,
           "150-450ms": -0.06959706959706817,
           "photo_id": 0
          },
          {
           "-300-0ms": 0.26461538461538403,
           "0-150ms": 2.708424908424908,
           "150-450ms": 0.4285714285714288,
           "photo_id": 0
          },
          {
           "-300-0ms": 0.9538461538461527,
           "0-150ms": 0.5758241758241761,
           "150-450ms": 0.21978021978021967,
           "photo_id": 0
          },
          {
           "-300-0ms": 2.13333333333333,
           "0-150ms": 4.115018315018317,
           "150-450ms": -0.1904761904761898,
           "photo_id": 0
          },
          {
           "-300-0ms": 0.436923076923077,
           "0-150ms": 2.0527472527472495,
           "150-450ms": -0.36630036630036544,
           "photo_id": 0
          },
          {
           "-300-0ms": -0.06358974358974304,
           "0-150ms": 1.5245421245421262,
           "150-450ms": -1.0805860805860805,
           "photo_id": 0
          },
          {
           "-300-0ms": 0.2399999999999994,
           "0-150ms": 0.047619047619047596,
           "150-450ms": -1.3155019438114713e-16,
           "photo_id": 0
          },
          {
           "-300-0ms": -0.5046153846153825,
           "0-150ms": -2.73260073260073,
           "150-450ms": 0.10256410256410263,
           "photo_id": 0
          },
          {
           "-300-0ms": -1.3907692307692294,
           "0-150ms": -1.1721611721611715,
           "150-450ms": -0.6117216117216118,
           "photo_id": 0
          },
          {
           "-300-0ms": -0.5353846153846148,
           "0-150ms": 0.03076923076923097,
           "150-450ms": -1.0256410256410255,
           "photo_id": 0
          },
          {
           "-300-0ms": -0.16410256410256388,
           "0-150ms": 0.46373626373626414,
           "150-450ms": -1.1794871794871795,
           "photo_id": 0
          },
          {
           "-300-0ms": -1.31487179487179,
           "0-150ms": -0.5150183150183143,
           "150-450ms": 0.32600732600732796,
           "photo_id": 0
          },
          {
           "-300-0ms": 1.5507692307692265,
           "0-150ms": 4.048351648351644,
           "150-450ms": 2.567765567765566,
           "photo_id": 0
          },
          {
           "-300-0ms": 10.549743589743574,
           "0-150ms": 45.631501831501815,
           "150-450ms": 2.282051282051291,
           "photo_id": 0
          },
          {
           "-300-0ms": 1.4194871794871757,
           "0-150ms": 9.345054945054937,
           "150-450ms": 0.9999999999999999,
           "photo_id": 0
          },
          {
           "-300-0ms": 0.8820512820512799,
           "0-150ms": 1.2666666666666655,
           "150-450ms": -0.14652014652014697,
           "photo_id": 0
          },
          {
           "-300-0ms": -6.171185539606584,
           "0-150ms": -3.552487776819089,
           "150-450ms": -0.8109161793372452,
           "photo_id": 0
          },
          {
           "-300-0ms": -4.59330143540665,
           "0-150ms": 30.356629278113356,
           "150-450ms": 1.1721897335932405,
           "photo_id": 0
          },
          {
           "-300-0ms": -0.3072833599149362,
           "0-150ms": -0.7845844118492957,
           "150-450ms": -0.8304093567251457,
           "photo_id": 0
          },
          {
           "-300-0ms": 1.7884104199893678,
           "0-150ms": 2.422778257118214,
           "150-450ms": -4.946718648473035,
           "photo_id": 0
          },
          {
           "-300-0ms": 1.077086656034026,
           "0-150ms": -1.0463042853034212,
           "150-450ms": -0.10851202079272143,
           "photo_id": 0
          },
          {
           "-300-0ms": -1.2323232323232307,
           "0-150ms": -0.12999712395743315,
           "150-450ms": 1.0318388564002616,
           "photo_id": 0
          },
          {
           "-300-0ms": 0.7729930887825649,
           "0-150ms": 1.1561691113028487,
           "150-450ms": -0.168940870695256,
           "photo_id": 0
          },
          {
           "-300-0ms": 2.0659223817118604,
           "0-150ms": 11.07506471095774,
           "150-450ms": -1.9122807017543912,
           "photo_id": 0
          },
          {
           "-300-0ms": 0.5178096757044092,
           "0-150ms": 1.1797526603393778,
           "150-450ms": 2.057829759584154,
           "photo_id": 0
          },
          {
           "-300-0ms": 0.7910685805422698,
           "0-150ms": -0.47569744032211786,
           "150-450ms": 0.6744639376218395,
           "photo_id": 0
          },
          {
           "-300-0ms": -1.1727804359383232,
           "0-150ms": 18.68449813057236,
           "150-450ms": -1.730994152046786,
           "photo_id": 0
          },
          {
           "-300-0ms": 0.015948963317386006,
           "0-150ms": 4.370434282427386,
           "150-450ms": -0.7342430149447715,
           "photo_id": 0
          },
          {
           "-300-0ms": -1.6608187134502905,
           "0-150ms": -0.33764739718147485,
           "150-450ms": -0.7115009746588684,
           "photo_id": 0
          },
          {
           "-300-0ms": 3.1323763955342883,
           "0-150ms": 5.597929249352897,
           "150-450ms": 0.2936972059779077,
           "photo_id": 0
          },
          {
           "-300-0ms": -2.145667198298773,
           "0-150ms": 3.480586712683353,
           "150-450ms": 0.5367121507472394,
           "photo_id": 0
          },
          {
           "-300-0ms": -1.2852564102564108,
           "0-150ms": -1.4756671899529026,
           "150-450ms": -1.0736670736670741,
           "photo_id": 0
          },
          {
           "-300-0ms": -0.33974358974358876,
           "0-150ms": -0.15175300889586432,
           "150-450ms": 0.0919820919820951,
           "photo_id": 0
          },
          {
           "-300-0ms": -2.5128205128205146,
           "0-150ms": 2.8749345892202993,
           "150-450ms": -2.260480260480261,
           "photo_id": 0
          },
          {
           "-300-0ms": -1.6442307692307707,
           "0-150ms": 0.35792778649922047,
           "150-450ms": -1.2942612942612952,
           "photo_id": 0
          },
          {
           "-300-0ms": -4.746794871794857,
           "0-150ms": 34.01151229722654,
           "150-450ms": -1.2714692714692635,
           "photo_id": 0
          },
          {
           "-300-0ms": 4.358974358974355,
           "0-150ms": -0.9000523286237572,
           "150-450ms": 0.911680911680914,
           "photo_id": 0
          },
          {
           "-300-0ms": -0.06089743589743457,
           "0-150ms": -0.5306122448979568,
           "150-450ms": -0.7846967846967844,
           "photo_id": 0
          },
          {
           "-300-0ms": -4.016025641025629,
           "0-150ms": -6.694924123495524,
           "150-450ms": -2.2271062271062227,
           "photo_id": 0
          },
          {
           "-300-0ms": 3.7884615384615317,
           "0-150ms": -1.792778649921507,
           "150-450ms": 2.2474562474562463,
           "photo_id": 0
          },
          {
           "-300-0ms": -0.0256410256410227,
           "0-150ms": -0.25745682888539956,
           "150-450ms": -0.568172568172567,
           "photo_id": 0
          },
          {
           "-300-0ms": 30.487179487179514,
           "0-150ms": 77.34693877551017,
           "150-450ms": -0.3215303215303103,
           "photo_id": 0
          },
          {
           "-300-0ms": 0.5416666666666697,
           "0-150ms": 0.5578231292517081,
           "150-450ms": 0.1546601546601587,
           "photo_id": 0
          },
          {
           "-300-0ms": -1.3782051282051284,
           "0-150ms": -0.9387755102040779,
           "150-450ms": -0.06674806674806587,
           "photo_id": 0
          },
          {
           "-300-0ms": 2.3589743589743595,
           "0-150ms": 0.24489795918367527,
           "150-450ms": 0.18640618640618797,
           "photo_id": 0
          },
          {
           "-300-0ms": 3.3653846153846163,
           "0-150ms": 2.142333856619569,
           "150-450ms": 0.02930402930402994,
           "photo_id": 0
          },
          {
           "-300-0ms": 1.2756410256410315,
           "0-150ms": -1.3469387755102014,
           "150-450ms": -0.6862026862026854,
           "photo_id": 0
          },
          {
           "-300-0ms": -3.9743589743589722,
           "0-150ms": 0.06279434850863817,
           "150-450ms": 0.3736263736263746,
           "photo_id": 0
          },
          {
           "-300-0ms": -1.2788461538461517,
           "0-150ms": 1.4264782836211394,
           "150-450ms": -0.5714285714285718,
           "photo_id": 0
          },
          {
           "-300-0ms": 0.9229024943310665,
           "0-150ms": -0.740041928721174,
           "150-450ms": 0.5105485232067505,
           "photo_id": 0
          },
          {
           "-300-0ms": -0.09523809523809505,
           "0-150ms": -0.25052410901467553,
           "150-450ms": 0.14486638537271423,
           "photo_id": 0
          },
          {
           "-300-0ms": -0.5578231292516959,
           "0-150ms": -1.262054507337526,
           "150-450ms": 0.2496483825597761,
           "photo_id": 0
          },
          {
           "-300-0ms": 0.3333333333333324,
           "0-150ms": 0.8427672955974833,
           "150-450ms": 0.07383966244725658,
           "photo_id": 0
          },
          {
           "-300-0ms": 1.913832199546487,
           "0-150ms": 6.402515723270434,
           "150-450ms": -0.7454289732770748,
           "photo_id": 0
          },
          {
           "-300-0ms": 0.2176870748299328,
           "0-150ms": 4.506857401743639e-17,
           "150-450ms": 0.6315049226441627,
           "photo_id": 0
          },
          {
           "-300-0ms": 0.045351473922907025,
           "0-150ms": 35.19706498951778,
           "150-450ms": 0.2264416315049249,
           "photo_id": 0
          },
          {
           "-300-0ms": -0.7392290249433092,
           "0-150ms": -1.3039832285115365,
           "150-450ms": 0.4803094233474001,
           "photo_id": 0
          },
          {
           "-300-0ms": -0.46031746031746046,
           "0-150ms": 7.637316561844859,
           "150-450ms": 0.6765119549929642,
           "photo_id": 0
          },
          {
           "-300-0ms": -1.1360544217687079,
           "0-150ms": 0.40356394129978995,
           "150-450ms": -0.7271448663853732,
           "photo_id": 0
          },
          {
           "-300-0ms": -0.12925170068027172,
           "0-150ms": 0.17610062893081815,
           "150-450ms": 1.6251758087201107,
           "photo_id": 0
          },
          {
           "-300-0ms": 0.7777777777777751,
           "0-150ms": -8.113207547169809,
           "150-450ms": -5.437412095639943,
           "photo_id": 0
          },
          {
           "-300-0ms": 4.784580498866212,
           "0-150ms": -3.1121593291404612,
           "150-450ms": 1.737693389592123,
           "photo_id": 0
          },
          {
           "-300-0ms": 0.7165532879818558,
           "0-150ms": 2.4339622641509373,
           "150-450ms": -0.18143459915612514,
           "photo_id": 1
          },
          {
           "-300-0ms": 5.988662131519255,
           "0-150ms": 55.53144654088046,
           "150-450ms": -4.504219409282714,
           "photo_id": 0
          },
          {
           "-300-0ms": -0.01587301587301304,
           "0-150ms": -0.27358490566037535,
           "150-450ms": 0.537974683544303,
           "photo_id": 0
          },
          {
           "-300-0ms": -1.451247165532881,
           "0-150ms": -0.5000000000000013,
           "150-450ms": 0.07454289732770746,
           "photo_id": 0
          },
          {
           "-300-0ms": 1.0612244897959202,
           "0-150ms": 0.3522012578616356,
           "150-450ms": 0.841772151898735,
           "photo_id": 0
          },
          {
           "-300-0ms": -0.2857142857142822,
           "0-150ms": 0.45178197064989384,
           "150-450ms": -1.3073136427566803,
           "photo_id": 0
          },
          {
           "-300-0ms": 0.6802721088435373,
           "0-150ms": -0.6257861635220119,
           "150-450ms": 1.6399437412095634,
           "photo_id": 0
          },
          {
           "-300-0ms": -1.7596371882086148,
           "0-150ms": 2.5387840670859507,
           "150-450ms": -1.3699015471167373,
           "photo_id": 0
          },
          {
           "-300-0ms": -4.353741496598636,
           "0-150ms": 3.703354297693913,
           "150-450ms": -1.2271448663853726,
           "photo_id": 0
          },
          {
           "-300-0ms": 0.5668934240362811,
           "0-150ms": -0.27777777777777785,
           "150-450ms": 0.28410689170182785,
           "photo_id": 0
          },
          {
           "-300-0ms": -0.15151515151515507,
           "0-150ms": 2.6707616707616695,
           "150-450ms": -0.3163091590057869,
           "photo_id": 0
          },
          {
           "-300-0ms": -0.07575757575757824,
           "0-150ms": -1.3439803439803397,
           "150-450ms": -0.9417773237997906,
           "photo_id": 0
          },
          {
           "-300-0ms": -1.8787878787878671,
           "0-150ms": -1.9631449631449582,
           "150-450ms": -3.1807967313585124,
           "photo_id": 0
          },
          {
           "-300-0ms": -0.8636363636363581,
           "0-150ms": 0.6445536445536438,
           "150-450ms": -0.0017024174327504905,
           "photo_id": 0
          },
          {
           "-300-0ms": 0.015151515151515046,
           "0-150ms": -0.3775593775593755,
           "150-450ms": -0.792986040177046,
           "photo_id": 0
          },
          {
           "-300-0ms": 0.28787878787879406,
           "0-150ms": 0.4832104832104798,
           "150-450ms": 1.2488934286687117,
           "photo_id": 0
          },
          {
           "-300-0ms": -0.015151515151514805,
           "0-150ms": 0.4742014742014679,
           "150-450ms": 0.4770173646578126,
           "photo_id": 0
          },
          {
           "-300-0ms": -1.4696969696969753,
           "0-150ms": 8.534807534807479,
           "150-450ms": -0.13278855975485168,
           "photo_id": 0
          },
          {
           "-300-0ms": -3.3030303030302264,
           "0-150ms": 6.692055692055697,
           "150-450ms": -0.554307116104849,
           "photo_id": 1
          },
          {
           "-300-0ms": -1.742424242424203,
           "0-150ms": -1.7297297297297165,
           "150-450ms": -0.9731018045624613,
           "photo_id": 0
          },
          {
           "-300-0ms": -3.696969696969663,
           "0-150ms": 12.846027846027818,
           "150-450ms": -2.18658495062988,
           "photo_id": 0
          },
          {
           "-300-0ms": 1.2121212121212124,
           "0-150ms": 0.6912366912366897,
           "150-450ms": -0.013278855975484373,
           "photo_id": 0
          },
          {
           "-300-0ms": -8.378787878787838,
           "0-150ms": -2.9352989352988974,
           "150-450ms": -4.080354102825998,
           "photo_id": 0
          },
          {
           "-300-0ms": 5.0757575757575415,
           "0-150ms": 9.452907452907438,
           "150-450ms": 4.8219271365338505,
           "photo_id": 0
          },
          {
           "-300-0ms": -3.515151515151482,
           "0-150ms": 7.210483210483211,
           "150-450ms": 0.5512427647259248,
           "photo_id": 0
          },
          {
           "-300-0ms": 0.5151515151514955,
           "0-150ms": 0.4406224406224339,
           "150-450ms": 1.1171263193734917,
           "photo_id": 0
          },
          {
           "-300-0ms": 1.5454545454545443,
           "0-150ms": -0.5782145782145803,
           "150-450ms": 1.175008512087154,
           "photo_id": 0
          },
          {
           "-300-0ms": -1.1212121212120978,
           "0-150ms": 5.004095004094991,
           "150-450ms": 0.17773237997956692,
           "photo_id": 0
          },
          {
           "-300-0ms": 1.106060606060598,
           "0-150ms": 0.46109746109745275,
           "150-450ms": 1.4256043581886326,
           "photo_id": 0
          },
          {
           "-300-0ms": 0.18181818181818332,
           "0-150ms": 1.1588861588861523,
           "150-450ms": 0.2747701736465767,
           "photo_id": 0
          },
          {
           "-300-0ms": 0.1666666666666763,
           "0-150ms": -1.5708435708435664,
           "150-450ms": 0.5989104528430486,
           "photo_id": 0
          },
          {
           "-300-0ms": 1.4393939393939343,
           "0-150ms": 6.381654381654371,
           "150-450ms": 0.7184201566223992,
           "photo_id": 0
          },
          {
           "-300-0ms": -2.409090909090847,
           "0-150ms": 5.994266994267012,
           "150-450ms": -2.364317330609439,
           "photo_id": 0
          },
          {
           "-300-0ms": -0.5303030303030286,
           "0-150ms": -1.5790335790335697,
           "150-450ms": -0.5182158665304717,
           "photo_id": 1
          },
          {
           "-300-0ms": -0.1666666666666633,
           "0-150ms": -0.3832923832923809,
           "150-450ms": -0.5869935308137505,
           "photo_id": 0
          },
          {
           "-300-0ms": -5.916666666666674,
           "0-150ms": 13.583333333333321,
           "150-450ms": -1.2681372549019765,
           "photo_id": 0
          },
          {
           "-300-0ms": 0.1111111111111096,
           "0-150ms": 0.8333333333333343,
           "150-450ms": 0.13774509803921528,
           "photo_id": 0
          },
          {
           "-300-0ms": 1.5277777777777786,
           "0-150ms": -0.03333333333333555,
           "150-450ms": 0.8058823529411782,
           "photo_id": 0
          },
          {
           "-300-0ms": -0.888888888888895,
           "0-150ms": 11.77499999999999,
           "150-450ms": -1.229411764705884,
           "photo_id": 0
          },
          {
           "-300-0ms": 0.3055555555555555,
           "0-150ms": 0.9333333333333328,
           "150-450ms": -0.15098039215686188,
           "photo_id": 0
          },
          {
           "-300-0ms": 0.9722222222222214,
           "0-150ms": -0.11666666666666758,
           "150-450ms": 0.2906862745098035,
           "photo_id": 0
          },
          {
           "-300-0ms": 0.2777777777777785,
           "0-150ms": -0.20000000000000004,
           "150-450ms": -0.20294117647058785,
           "photo_id": 0
          },
          {
           "-300-0ms": -0.1944444444444456,
           "0-150ms": -0.2583333333333313,
           "150-450ms": -0.5980392156862709,
           "photo_id": 0
          },
          {
           "-300-0ms": -2.027777777777778,
           "0-150ms": -4.149999999999997,
           "150-450ms": 1.6882352941176457,
           "photo_id": 0
          },
          {
           "-300-0ms": 1.0555555555555547,
           "0-150ms": -0.49166666666666675,
           "150-450ms": 0.9651960784313717,
           "photo_id": 0
          },
          {
           "-300-0ms": 0.08333333333333387,
           "0-150ms": -1.8499999999999994,
           "150-450ms": 0.473529411764706,
           "photo_id": 0
          },
          {
           "-300-0ms": 7.80555555555555,
           "0-150ms": -1.1916666666666704,
           "150-450ms": 3.6995098039215732,
           "photo_id": 0
          },
          {
           "-300-0ms": 1.3055555555555582,
           "0-150ms": 0.366666666666667,
           "150-450ms": 2.637745098039209,
           "photo_id": 0
          },
          {
           "-300-0ms": 0.027777777777778918,
           "0-150ms": -0.10833333333333216,
           "150-450ms": 0.27254901960784356,
           "photo_id": 0
          },
          {
           "-300-0ms": -2.11111111111111,
           "0-150ms": 3.0583333333333282,
           "150-450ms": -0.7754901960784308,
           "photo_id": 0
          },
          {
           "-300-0ms": 0.4444444444444427,
           "0-150ms": 11.149999999999983,
           "150-450ms": -1.1872549019607848,
           "photo_id": 0
          },
          {
           "-300-0ms": 0.08333333333333359,
           "0-150ms": -0.5500000000000002,
           "150-450ms": -0.13431372549019574,
           "photo_id": 0
          },
          {
           "-300-0ms": -4.86111111111111,
           "0-150ms": 1.8250000000000004,
           "150-450ms": -0.16470588235294073,
           "photo_id": 0
          },
          {
           "-300-0ms": 3.888888888888886,
           "0-150ms": 4.958333333333328,
           "150-450ms": 2.337745098039211,
           "photo_id": 0
          },
          {
           "-300-0ms": 1.694444444444444,
           "0-150ms": 6.374999999999992,
           "150-450ms": 6.62205882352941,
           "photo_id": 0
          },
          {
           "-300-0ms": 1.472222222222219,
           "0-150ms": 1.0416666666666663,
           "150-450ms": 0.8549019607843116,
           "photo_id": 0
          },
          {
           "-300-0ms": 6.333333333333332,
           "0-150ms": 0.07499999999997946,
           "150-450ms": -2.8960784313725507,
           "photo_id": 0
          },
          {
           "-300-0ms": 1.8611111111111125,
           "0-150ms": -2.6833333333333322,
           "150-450ms": -0.5308823529411754,
           "photo_id": 0
          },
          {
           "-300-0ms": -1.3333333333333324,
           "0-150ms": -1.3166666666666669,
           "150-450ms": -0.3475490196078444,
           "photo_id": 0
          },
          {
           "-300-0ms": 1.1388888888888886,
           "0-150ms": -0.3083333333333346,
           "150-450ms": -1.6034313725490188,
           "photo_id": 0
          },
          {
           "-300-0ms": -2.3055555555555602,
           "0-150ms": 2.883333333333326,
           "150-450ms": -2.2789215686274553,
           "photo_id": 0
          },
          {
           "-300-0ms": -1.4444444444444453,
           "0-150ms": -0.20000000000000387,
           "150-450ms": 0.22303921568627505,
           "photo_id": 0
          },
          {
           "-300-0ms": 0.3333333333333331,
           "0-150ms": 3.4083333333333337,
           "150-450ms": 0.03431372549019346,
           "photo_id": 0
          },
          {
           "-300-0ms": 0.6259259259259387,
           "0-150ms": 3.129353233830851,
           "150-450ms": -0.31324200913240513,
           "photo_id": 0
          },
          {
           "-300-0ms": -6.222222222222289,
           "0-150ms": 7.231343283582148,
           "150-450ms": -8.636529680365316,
           "photo_id": 0
          },
          {
           "-300-0ms": 0.04444444444444077,
           "0-150ms": 2.7597014925372996,
           "150-450ms": 0.28310502283104877,
           "photo_id": 0
          },
          {
           "-300-0ms": 4.229629629629619,
           "0-150ms": 5.742786069651712,
           "150-450ms": 8.28173515981729,
           "photo_id": 0
          },
          {
           "-300-0ms": -6.700000000000009,
           "0-150ms": 3.9029850746268964,
           "150-450ms": -2.985388127853876,
           "photo_id": 0
          },
          {
           "-300-0ms": -0.681481481481466,
           "0-150ms": -0.33582089552238487,
           "150-450ms": -0.3634703196346918,
           "photo_id": 0
          },
          {
           "-300-0ms": 2.200000000000072,
           "0-150ms": -0.9636815920397431,
           "150-450ms": -0.46255707762556547,
           "photo_id": 0
          },
          {
           "-300-0ms": -3.711111111111119,
           "0-150ms": -1.7621890547263535,
           "150-450ms": -0.47168949771689633,
           "photo_id": 0
          },
          {
           "-300-0ms": 0.5740740740740712,
           "0-150ms": 0.04228855721392669,
           "150-450ms": 0.4109589041095852,
           "photo_id": 0
          },
          {
           "-300-0ms": -0.9222222222222456,
           "0-150ms": -10.163681592039723,
           "150-450ms": -1.0831050228310566,
           "photo_id": 0
          },
          {
           "-300-0ms": 1.0592592592592422,
           "0-150ms": -0.11492537313432698,
           "150-450ms": 0.14155251141553177,
           "photo_id": 0
          },
          {
           "-300-0ms": 0.8703703703703717,
           "0-150ms": 3.645273631840775,
           "150-450ms": 0.35890410958903446,
           "photo_id": 0
          },
          {
           "-300-0ms": 2.596296296296296,
           "0-150ms": -1.128855721393025,
           "150-450ms": 0.7675799086758004,
           "photo_id": 0
          },
          {
           "-300-0ms": -0.6666666666666664,
           "0-150ms": -0.6417910447761054,
           "150-450ms": -3.428310502283082,
           "photo_id": 0
          },
          {
           "-300-0ms": -1.5629629629629715,
           "0-150ms": 7.810447761194003,
           "150-450ms": -0.5356164383561638,
           "photo_id": 0
          },
          {
           "-300-0ms": -6.662962962962933,
           "0-150ms": -6.381094527363115,
           "150-450ms": -6.342922374429172,
           "photo_id": 0
          },
          {
           "-300-0ms": 0.3221850613154814,
           "0-150ms": 3.897170462387859,
           "150-450ms": -0.21404682274247433,
           "photo_id": 0
          },
          {
           "-300-0ms": -0.21627647714605025,
           "0-150ms": 1.9296066252588018,
           "150-450ms": 0.5169082125603877,
           "photo_id": 0
          },
          {
           "-300-0ms": 0.11817168338907662,
           "0-150ms": 0.23947550034506546,
           "150-450ms": 0.4188034188034227,
           "photo_id": 0
          },
          {
           "-300-0ms": -0.20847268673356542,
           "0-150ms": 2.5928226363008995,
           "150-450ms": -0.19286510590858497,
           "photo_id": 0
          },
          {
           "-300-0ms": 0.04347826086956844,
           "0-150ms": 0.8274672187715674,
           "150-450ms": -0.3403939056112965,
           "photo_id": 0
          },
          {
           "-300-0ms": -0.6243032329988948,
           "0-150ms": 2.4768806073153957,
           "150-450ms": 0.47305834262354995,
           "photo_id": 0
          },
          {
           "-300-0ms": 0.6187290969899518,
           "0-150ms": 2.55348516218081,
           "150-450ms": 2.694537346711266,
           "photo_id": 0
          },
          {
           "-300-0ms": 0.2519509476031158,
           "0-150ms": -0.825396825396829,
           "150-450ms": 0.09810479375696464,
           "photo_id": 0
          },
          {
           "-300-0ms": 0.2597547380156085,
           "0-150ms": -1.4237405106970338,
           "150-450ms": 0.20884429580081484,
           "photo_id": 0
          },
          {
           "-300-0ms": 0.057971014492757815,
           "0-150ms": 0.7681159420289858,
           "150-450ms": 0.09476031215161547,
           "photo_id": 0
          },
          {
           "-300-0ms": -0.49386845039024996,
           "0-150ms": 52.48654244306429,
           "150-450ms": 1.6425120772946782,
           "photo_id": 0
          },
          {
           "-300-0ms": -0.3010033444816016,
           "0-150ms": 0.015873015873013114,
           "150-450ms": 2.5930880713489386,
           "photo_id": 0
          },
          {
           "-300-0ms": -0.438127090301006,
           "0-150ms": 0.0531400966183578,
           "150-450ms": -0.3745819397993317,
           "photo_id": 0
          },
          {
           "-300-0ms": 0.1806020066889765,
           "0-150ms": 1.506556245686679,
           "150-450ms": 0.12225938312894254,
           "photo_id": 0
          },
          {
           "-300-0ms": -0.05462653288735512,
           "0-150ms": -4.5804002760524725,
           "150-450ms": -2.316610925306598,
           "photo_id": 0
          },
          {
           "-300-0ms": -0.25752508361204923,
           "0-150ms": -1.1249137336093868,
           "150-450ms": -0.6737272389446313,
           "photo_id": 0
          },
          {
           "-300-0ms": 0.3723522853957663,
           "0-150ms": 0.21601104209799651,
           "150-450ms": 0.6674098848011857,
           "photo_id": 0
          },
          {
           "-300-0ms": -1.860646599776995,
           "0-150ms": 11.079365079365099,
           "150-450ms": -2.4002229654403697,
           "photo_id": 0
          },
          {
           "-300-0ms": -0.28428093645484837,
           "0-150ms": -0.6501035196687379,
           "150-450ms": -0.5180230397621716,
           "photo_id": 0
          },
          {
           "-300-0ms": 0.0780379041248588,
           "0-150ms": 2.5859213250517628,
           "150-450ms": 1.3359345968041572,
           "photo_id": 0
          },
          {
           "-300-0ms": 0.3957636566332241,
           "0-150ms": 0.180124223602484,
           "150-450ms": -0.26941657376440203,
           "photo_id": 0
          },
          {
           "-300-0ms": 1.3177257525083532,
           "0-150ms": -0.07039337474119955,
           "150-450ms": 0.9628390932738743,
           "photo_id": 0
          },
          {
           "-300-0ms": 0.2185061315496124,
           "0-150ms": 1.4237405106970338,
           "150-450ms": -0.09067261241174546,
           "photo_id": 0
          },
          {
           "-300-0ms": -0.9152731326644364,
           "0-150ms": -0.6093857832988272,
           "150-450ms": -0.5020438498699378,
           "photo_id": 0
          },
          {
           "-300-0ms": 0.02675585284282452,
           "0-150ms": 8.535541752933076,
           "150-450ms": 0.16499442586398724,
           "photo_id": 0
          },
          {
           "-300-0ms": -1.9083490269930747,
           "0-150ms": 3.964387464387467,
           "150-450ms": -2.2150537634408387,
           "photo_id": 0
          },
          {
           "-300-0ms": 1.2944130571249255,
           "0-150ms": 3.6196581196581206,
           "150-450ms": 0.9462365591397862,
           "photo_id": 0
          },
          {
           "-300-0ms": -0.14814814814814628,
           "0-150ms": 2.658119658119659,
           "150-450ms": -0.9534050179211446,
           "photo_id": 0
          },
          {
           "-300-0ms": -0.08411801632139453,
           "0-150ms": 11.22222222222222,
           "150-450ms": 0.7694145758661987,
           "photo_id": 0
          },
          {
           "-300-0ms": 0.06026365348399374,
           "0-150ms": 0.5997150997151005,
           "150-450ms": 0.3464755077658311,
           "photo_id": 0
          },
          {
           "-300-0ms": -1.119899560577525,
           "0-150ms": -0.8105413105413136,
           "150-450ms": -3.18279569892473,
           "photo_id": 0
          },
          {
           "-300-0ms": -0.1155053358443181,
           "0-150ms": 0.3974358974358972,
           "150-450ms": -0.013142174432497456,
           "photo_id": 0
          },
          {
           "-300-0ms": -1.5317011927181408,
           "0-150ms": 3.6623931623931676,
           "150-450ms": -0.5758661887694146,
           "photo_id": 0
          },
          {
           "-300-0ms": -0.6290018832391722,
           "0-150ms": -1.2564102564102586,
           "150-450ms": 0.8387096774193594,
           "photo_id": 0
          },
          {
           "-300-0ms": 0.7319522912743217,
           "0-150ms": 1.7920227920227971,
           "150-450ms": -0.7156511350059728,
           "photo_id": 0
          },
          {
           "-300-0ms": -2.4745762711864274,
           "0-150ms": 7.810541310541314,
           "150-450ms": -0.5890083632019089,
           "photo_id": 0
          },
          {
           "-300-0ms": -0.11927181418707004,
           "0-150ms": -2.20797720797721,
           "150-450ms": 1.8470728793309439,
           "photo_id": 0
          },
          {
           "-300-0ms": 0.3640929064657919,
           "0-150ms": 0.4045584045584036,
           "150-450ms": -0.16965352449223228,
           "photo_id": 0
          },
          {
           "-300-0ms": 1.2981795354676706,
           "0-150ms": -0.45014245014245,
           "150-450ms": -0.38590203106332005,
           "photo_id": 0
          },
          {
           "-300-0ms": -8.527306967984929,
           "0-150ms": 3.410256410256407,
           "150-450ms": -11.750298685782539,
           "photo_id": 0
          },
          {
           "-300-0ms": 3.3270558694287673,
           "0-150ms": 44.192307692307715,
           "150-450ms": -2.6117084826762116,
           "photo_id": 0
          },
          {
           "-300-0ms": -1.529190207156309,
           "0-150ms": -1.1652421652421658,
           "150-450ms": 0.9976105137395472,
           "photo_id": 0
          },
          {
           "-300-0ms": 1.1776522284996904,
           "0-150ms": 0.18518518518518604,
           "150-450ms": 1.1397849462365601,
           "photo_id": 0
          },
          {
           "-300-0ms": -0.37162586315128715,
           "0-150ms": 0.44586894586894604,
           "150-450ms": 0.18518518518518756,
           "photo_id": 0
          },
          {
           "-300-0ms": -10.34526051475203,
           "0-150ms": 5.168091168091178,
           "150-450ms": -7.434886499402611,
           "photo_id": 0
          },
          {
           "-300-0ms": -2.7696170747018165,
           "0-150ms": 7.5256410256410255,
           "150-450ms": -3.2270011947431225,
           "photo_id": 0
          },
          {
           "-300-0ms": -4.085373509102331,
           "0-150ms": 3.800569800569796,
           "150-450ms": -4.126642771804062,
           "photo_id": 0
          },
          {
           "-300-0ms": 1.5950062421972564,
           "0-150ms": 5.905982905982899,
           "150-450ms": 1.5939736346516016,
           "photo_id": 0
          },
          {
           "-300-0ms": 0.9982521847690368,
           "0-150ms": 3.1658119658119612,
           "150-450ms": 1.7943502824858737,
           "photo_id": 0
          },
          {
           "-300-0ms": 1.3568039950062432,
           "0-150ms": 4.218803418803415,
           "150-450ms": 2.563841807909601,
           "photo_id": 0
          },
          {
           "-300-0ms": -1.1550561797752819,
           "0-150ms": 2.6290598290598264,
           "150-450ms": 0.024858757062146946,
           "photo_id": 0
          },
          {
           "-300-0ms": -3.792759051186005,
           "0-150ms": 18.304273504273493,
           "150-450ms": 2.255367231638423,
           "photo_id": 0
          },
          {
           "-300-0ms": -0.0259675405742813,
           "0-150ms": 1.0410256410256418,
           "150-450ms": -0.04670433145009362,
           "photo_id": 0
          },
          {
           "-300-0ms": 0.3690387016229706,
           "0-150ms": -0.8683760683760674,
           "150-450ms": -0.9047080979284355,
           "photo_id": 0
          },
          {
           "-300-0ms": 0.5912609238451912,
           "0-150ms": -0.10940170940170824,
           "150-450ms": -0.12278719397363524,
           "photo_id": 0
          },
          {
           "-300-0ms": 0.4019975031210992,
           "0-150ms": -0.9811965811965807,
           "150-450ms": 1.1450094161958568,
           "photo_id": 0
          },
          {
           "-300-0ms": -0.20224719101123625,
           "0-150ms": -0.16923076923076927,
           "150-450ms": 0.2787193973634647,
           "photo_id": 0
          },
          {
           "-300-0ms": -0.8684144818976259,
           "0-150ms": 5.796581196581194,
           "150-450ms": 0.5013182674199618,
           "photo_id": 0
          },
          {
           "-300-0ms": -0.1887640449438204,
           "0-150ms": -0.11111111111111044,
           "150-450ms": 0.1694915254237285,
           "photo_id": 0
          },
          {
           "-300-0ms": -0.760049937578028,
           "0-150ms": -0.8683760683760688,
           "150-450ms": 0.1378531073446323,
           "photo_id": 0
          },
          {
           "-300-0ms": 1.2774032459425764,
           "0-150ms": 5.348717948717944,
           "150-450ms": -0.4056497175141253,
           "photo_id": 0
          },
          {
           "-300-0ms": 2.9258426966292164,
           "0-150ms": 4.189743589743586,
           "150-450ms": 0.2983050847457618,
           "photo_id": 0
          },
          {
           "-300-0ms": -5.081148564294632,
           "0-150ms": 6.437606837606826,
           "150-450ms": -2.2256120527306984,
           "photo_id": 0
          },
          {
           "-300-0ms": -0.3390761548064897,
           "0-150ms": -0.8923076923076936,
           "150-450ms": 1.323540489642185,
           "photo_id": 0
          },
          {
           "-300-0ms": 0.21523096129837846,
           "0-150ms": 1.4239316239316222,
           "150-450ms": 0.578907721280603,
           "photo_id": 0
          },
          {
           "-300-0ms": -1.8616729088639243,
           "0-150ms": 2.3230769230769215,
           "150-450ms": 4.41468926553672,
           "photo_id": 0
          },
          {
           "-300-0ms": 0.05742821473158546,
           "0-150ms": -0.41880341880341887,
           "150-450ms": 0.8271186440677963,
           "photo_id": 0
          },
          {
           "-300-0ms": -1.2933832709113593,
           "0-150ms": -0.9299145299145293,
           "150-450ms": 1.1487758945386048,
           "photo_id": 0
          },
          {
           "-300-0ms": 0.8409488139825232,
           "0-150ms": 1.8427350427350409,
           "150-450ms": 0.67909604519774,
           "photo_id": 0
          },
          {
           "-300-0ms": 0.3510611735330847,
           "0-150ms": 10.941880341880326,
           "150-450ms": -0.3013182674199656,
           "photo_id": 0
          },
          {
           "-300-0ms": -1.1831831831831952,
           "0-150ms": -8.944444444444455,
           "150-450ms": 2.4222222222222087,
           "photo_id": 0
          },
          {
           "-300-0ms": 2.8108108108108065,
           "0-150ms": -0.18627450980391505,
           "150-450ms": 7.422222222222221,
           "photo_id": 0
          },
          {
           "-300-0ms": 1.5135135135135196,
           "0-150ms": 0.33333333333333753,
           "150-450ms": 4.93333333333334,
           "photo_id": 0
          },
          {
           "-300-0ms": 0.40240240240241265,
           "0-150ms": 5.091503267973855,
           "150-450ms": 5.033333333333345,
           "photo_id": 0
          },
          {
           "-300-0ms": 6.858858858858852,
           "0-150ms": -8.93464052287581,
           "150-450ms": -6.533333333333361,
           "photo_id": 0
          },
          {
           "-300-0ms": 6.498498498498538,
           "0-150ms": 13.64052287581699,
           "150-450ms": 4.244444444444448,
           "photo_id": 0
          },
          {
           "-300-0ms": 4.624624624624631,
           "0-150ms": 2.055555555555545,
           "150-450ms": -0.3111111111111035,
           "photo_id": 0
          },
          {
           "-300-0ms": -3.765765765765749,
           "0-150ms": 8.950980392156863,
           "150-450ms": 0.288888888888893,
           "photo_id": 0
          },
          {
           "-300-0ms": 2.1081081081081106,
           "0-150ms": -0.24183006535949092,
           "150-450ms": 2.0555555555555522,
           "photo_id": 0
          },
          {
           "-300-0ms": -9.897897897897888,
           "0-150ms": -6.947712418300662,
           "150-450ms": 0.09999999999999236,
           "photo_id": 0
          },
          {
           "-300-0ms": -2.4324324324324347,
           "0-150ms": -4.019607843137247,
           "150-450ms": 1.711111111111115,
           "photo_id": 0
          },
          {
           "-300-0ms": 1.4054054054054106,
           "0-150ms": 2.235294117647063,
           "150-450ms": 2.099999999999992,
           "photo_id": 0
          },
          {
           "-300-0ms": -0.37237237237237525,
           "0-150ms": 0.6209150326797374,
           "150-450ms": 0.5111111111111076,
           "photo_id": 0
          },
          {
           "-300-0ms": -8.204204204204197,
           "0-150ms": -4.287581699346396,
           "150-450ms": -0.16666666666667626,
           "photo_id": 0
          },
          {
           "-300-0ms": 0.23423423423423242,
           "0-150ms": 0.12745098039215538,
           "150-450ms": 2.811111111111105,
           "photo_id": 0
          },
          {
           "-300-0ms": 0.46846846846846996,
           "0-150ms": 0.4215686274509796,
           "150-450ms": 0.5222222222222223,
           "photo_id": 0
          },
          {
           "-300-0ms": -20.81081081081079,
           "0-150ms": 0.39215686274511175,
           "150-450ms": -7.833333333333333,
           "photo_id": 0
          },
          {
           "-300-0ms": 1.927927927927933,
           "0-150ms": 1.6437908496732139,
           "150-450ms": 3.366666666666669,
           "photo_id": 0
          },
          {
           "-300-0ms": 4.5285285285285175,
           "0-150ms": 0.16993464052288618,
           "150-450ms": -3.799999999999992,
           "photo_id": 0
          },
          {
           "-300-0ms": 2.1261261261261475,
           "0-150ms": 9.078431372549026,
           "150-450ms": 3.6000000000000014,
           "photo_id": 0
          },
          {
           "-300-0ms": 5.069069069069093,
           "0-150ms": 3.5196078431372655,
           "150-450ms": 9.611111111111105,
           "photo_id": 0
          },
          {
           "-300-0ms": 0.79879879879879,
           "0-150ms": 2.604575163398706,
           "150-450ms": -0.18888888888888675,
           "photo_id": 0
          },
          {
           "-300-0ms": 2.4622222222222248,
           "0-150ms": -1.4525252525252552,
           "150-450ms": 0.2814814814814808,
           "photo_id": 0
          },
          {
           "-300-0ms": 0.2755555555555591,
           "0-150ms": 0.6181818181818242,
           "150-450ms": 3.251851851851852,
           "photo_id": 0
          },
          {
           "-300-0ms": 0.5777777777777863,
           "0-150ms": 6.943434343434352,
           "150-450ms": 0.8666666666666694,
           "photo_id": 0
          },
          {
           "-300-0ms": 0.6577777777777856,
           "0-150ms": 3.0222222222222235,
           "150-450ms": 0.3111111111111113,
           "photo_id": 0
          },
          {
           "-300-0ms": -0.204444444444442,
           "0-150ms": -2.644444444444447,
           "150-450ms": 1.629629629629636,
           "photo_id": 0
          },
          {
           "-300-0ms": 1.182222222222223,
           "0-150ms": 0.177777777777777,
           "150-450ms": -0.05185185185185117,
           "photo_id": 0
          },
          {
           "-300-0ms": 3.7955555555555787,
           "0-150ms": -1.1676767676767772,
           "150-450ms": -3.0444444444444465,
           "photo_id": 0
          },
          {
           "-300-0ms": 0.12444444444444469,
           "0-150ms": -8.944346396713947e-17,
           "150-450ms": 1.0814814814814822,
           "photo_id": 0
          },
          {
           "-300-0ms": 0.14222222222222233,
           "0-150ms": -0.0181818181818183,
           "150-450ms": -0.08148148148148242,
           "photo_id": 0
          },
          {
           "-300-0ms": -0.6400000000000007,
           "0-150ms": -0.7333333333333337,
           "150-450ms": 1.4666666666666661,
           "photo_id": 0
          },
          {
           "-300-0ms": 2.035555555555558,
           "0-150ms": -0.37979797979798063,
           "150-450ms": 1.2222222222222237,
           "photo_id": 0
          },
          {
           "-300-0ms": -0.6222222222222197,
           "0-150ms": -2.254545454545462,
           "150-450ms": -4.48148148148148,
           "photo_id": 0
          },
          {
           "-300-0ms": -1.3333333333333302,
           "0-150ms": 1.6969696969696952,
           "150-450ms": 0.177777777777778,
           "photo_id": 0
          },
          {
           "-300-0ms": 0.648888888888891,
           "0-150ms": 1.4808080808080806,
           "150-450ms": 1.0518518518518498,
           "photo_id": 0
          },
          {
           "-300-0ms": 2.8266666666666738,
           "0-150ms": 4.323232323232323,
           "150-450ms": -2.5037037037037035,
           "photo_id": 0
          },
          {
           "-300-0ms": 0.6044444444444487,
           "0-150ms": 1.6343434343434344,
           "150-450ms": 1.1555555555555574,
           "photo_id": 0
          },
          {
           "-300-0ms": -0.11555555555554993,
           "0-150ms": 0.626262626262625,
           "150-450ms": -3.9481481481481553,
           "photo_id": 0
          },
          {
           "-300-0ms": 0.1422222222222184,
           "0-150ms": 1.8505050505050342,
           "150-450ms": -4.5777777777777935,
           "photo_id": 0
          },
          {
           "-300-0ms": -0.7111111111111087,
           "0-150ms": -0.4787878787878765,
           "150-450ms": 1.5703703703703733,
           "photo_id": 0
          },
          {
           "-300-0ms": -0.6133333333333183,
           "0-150ms": -3.4686868686868824,
           "150-450ms": -0.14074074074074044,
           "photo_id": 0
          },
          {
           "-300-0ms": -0.9569892473118286,
           "0-150ms": 1.136044176706828,
           "150-450ms": 0.9828767123287675,
           "photo_id": 0
          },
          {
           "-300-0ms": -0.1845878136200734,
           "0-150ms": 3.127008032128513,
           "150-450ms": 0.15525114155250969,
           "photo_id": 0
          },
          {
           "-300-0ms": 0.2517921146953422,
           "0-150ms": 15.178212851405627,
           "150-450ms": 3.8224885844748875,
           "photo_id": 0
          },
          {
           "-300-0ms": 0.23655913978494492,
           "0-150ms": -0.08132530120481957,
           "150-450ms": 0.16780821917808109,
           "photo_id": 0
          },
          {
           "-300-0ms": 0.19265232974910362,
           "0-150ms": -1.1305220883534137,
           "150-450ms": 0.2985159817351593,
           "photo_id": 0
          },
          {
           "-300-0ms": 0.9390681003584215,
           "0-150ms": -1.1490963855421665,
           "150-450ms": -0.06906392694063848,
           "photo_id": 0
          },
          {
           "-300-0ms": 0.2320788530465959,
           "0-150ms": 12.644578313253014,
           "150-450ms": 3.5861872146118725,
           "photo_id": 0
          },
          {
           "-300-0ms": 1.3198924731182753,
           "0-150ms": 4.906626506024099,
           "150-450ms": -3.2762557077625583,
           "photo_id": 0
          },
          {
           "-300-0ms": -2.322580645161296,
           "0-150ms": 3.5321285140562266,
           "150-450ms": 3.4355022831050257,
           "photo_id": 0
          },
          {
           "-300-0ms": -0.5313620071684608,
           "0-150ms": 4.830321285140561,
           "150-450ms": 0.27168949771689593,
           "photo_id": 0
          }
         ]
        },
        "encoding": {
         "color": {
          "field": "photo_id",
          "type": "nominal"
         },
         "x": {
          "field": {
           "repeat": "column"
          },
          "type": "quantitative"
         },
         "y": {
          "field": {
           "repeat": "row"
          },
          "type": "quantitative"
         }
        },
        "height": 250,
        "mark": "point",
        "selection": {
         "selector005": {
          "bind": "scales",
          "encodings": [
           "x",
           "y"
          ],
          "mark": {
           "fill": "#333",
           "fillOpacity": 0.125,
           "stroke": "white"
          },
          "on": "[mousedown, window:mouseup] > window:mousemove!",
          "resolve": "global",
          "translate": "[mousedown, window:mouseup] > window:mousemove!",
          "type": "interval",
          "zoom": "wheel!"
         }
        },
        "width": 250
       }
      },
      "text/plain": [
       "<VegaLite 2 object>"
      ]
     },
     "execution_count": 22,
     "metadata": {},
     "output_type": "execute_result"
    }
   ],
   "source": [
    "import altair as alt\n",
    "alt.Chart(data).mark_point().encode(\n",
    "    alt.X(alt.repeat(\"column\"), type='quantitative'),\n",
    "    alt.Y(alt.repeat(\"row\"), type='quantitative'),\n",
    "    color = 'photo_id:N'\n",
    ").properties(\n",
    "    width = 250,\n",
    "    height = 250,\n",
    ").repeat(\n",
    "    row=['-300-0ms', '0-150ms', '150-450ms'],\n",
    "    column=['150-450ms', '0-150ms', '-300-0ms']).interactive(\n",
    ")"
   ]
  },
  {
   "cell_type": "code",
   "execution_count": 20,
   "metadata": {},
   "outputs": [
    {
     "data": {
      "application/vnd.vegalite.v2+json": {
       "$schema": "https://vega.github.io/schema/vega-lite/v2.json",
       "config": {
        "view": {
         "height": 300,
         "width": 400
        }
       },
       "data": {
        "values": [
         {
          "-300-0ms": 0.5017543859649104,
          "0-150ms": 1.5142857142857136,
          "150-450ms": -0.3532338308457709,
          "photo_id": 0
         },
         {
          "-300-0ms": -3.3543859649122787,
          "0-150ms": -2.0269841269841264,
          "150-450ms": -0.133830845771145,
          "photo_id": 0
         },
         {
          "-300-0ms": -2.350877192982454,
          "0-150ms": -4.76349206349206,
          "150-450ms": -2.1402985074626826,
          "photo_id": 0
         },
         {
          "-300-0ms": 2.5719298245614026,
          "0-150ms": -0.7079365079365095,
          "150-450ms": 0.9850746268656723,
          "photo_id": 0
         },
         {
          "-300-0ms": -0.35789473684210193,
          "0-150ms": 1.2571428571428627,
          "150-450ms": 1.1039800995024873,
          "photo_id": 0
         },
         {
          "-300-0ms": -1.1438596491228064,
          "0-150ms": 1.2126984126984115,
          "150-450ms": -0.7303482587064646,
          "photo_id": 0
         },
         {
          "-300-0ms": -0.8666666666666676,
          "0-150ms": -0.6587301587301567,
          "150-450ms": -1.604477611940297,
          "photo_id": 0
         },
         {
          "-300-0ms": -0.3894736842105271,
          "0-150ms": 1.4936507936507966,
          "150-450ms": -1.6149253731343265,
          "photo_id": 0
         },
         {
          "-300-0ms": -1.9964912280701712,
          "0-150ms": -1.4206349206349111,
          "150-450ms": -2.9557213930348234,
          "photo_id": 0
         },
         {
          "-300-0ms": 0.2526315789473685,
          "0-150ms": 0.512698412698413,
          "150-450ms": -0.05323383084577064,
          "photo_id": 0
         },
         {
          "-300-0ms": 1.228070175438596,
          "0-150ms": 6.204761904761903,
          "150-450ms": 0.07213930348258742,
          "photo_id": 0
         },
         {
          "-300-0ms": -0.9157894736842094,
          "0-150ms": -1.4825396825396815,
          "150-450ms": 1.016417910447763,
          "photo_id": 0
         },
         {
          "-300-0ms": 0.13333333333333364,
          "0-150ms": 0.3714285714285714,
          "150-450ms": 0.5268656716417913,
          "photo_id": 0
         },
         {
          "-300-0ms": -3.8877192982456132,
          "0-150ms": -2.6920634920634896,
          "150-450ms": -2.8522388059701473,
          "photo_id": 0
         },
         {
          "-300-0ms": 1.6701754385964884,
          "0-150ms": 9.722222222222229,
          "150-450ms": -2.2771144278606927,
          "photo_id": 0
         },
         {
          "-300-0ms": -3.7789473684210524,
          "0-150ms": -3.3619047619047557,
          "150-450ms": -0.6014925373134331,
          "photo_id": 0
         },
         {
          "-300-0ms": -1.5473684210526342,
          "0-150ms": -1.5365079365079344,
          "150-450ms": -3.800000000000001,
          "photo_id": 0
         },
         {
          "-300-0ms": -0.8982456140350861,
          "0-150ms": 4.36666666666667,
          "150-450ms": 1.1089552238805973,
          "photo_id": 0
         },
         {
          "-300-0ms": -0.2736842105263145,
          "0-150ms": 0.5777777777777773,
          "150-450ms": 0.2592039800995027,
          "photo_id": 0
         },
         {
          "-300-0ms": -0.30175438596491394,
          "0-150ms": -3.7603174603174576,
          "150-450ms": -3.2537313432835795,
          "photo_id": 0
         },
         {
          "-300-0ms": 1.4807017543859649,
          "0-150ms": 1.1460317460317473,
          "150-450ms": 0.27263681592039796,
          "photo_id": 0
         },
         {
          "-300-0ms": -7.515789473684222,
          "0-150ms": 9.560317460317473,
          "150-450ms": -11.329850746268656,
          "photo_id": 0
         },
         {
          "-300-0ms": -1.4526315789473736,
          "0-150ms": 5.614285714285724,
          "150-450ms": -3.502487562189058,
          "photo_id": 0
         },
         {
          "-300-0ms": -0.5578947368421056,
          "0-150ms": -0.33015873015872854,
          "150-450ms": -0.7303482587064662,
          "photo_id": 0
         },
         {
          "-300-0ms": -0.6982456140350871,
          "0-150ms": -0.08571428571428515,
          "150-450ms": 0.5308457711442794,
          "photo_id": 1
         },
         {
          "-300-0ms": 4.333333333333347,
          "0-150ms": -2.80303030303031,
          "150-450ms": 1.7844827586206957,
          "photo_id": 0
         },
         {
          "-300-0ms": -0.5333333333333452,
          "0-150ms": -10.03030303030304,
          "150-450ms": -3.477011494252874,
          "photo_id": 0
         },
         {
          "-300-0ms": 3.4666666666666757,
          "0-150ms": -1.8469696969697011,
          "150-450ms": 1.3821839080459828,
          "photo_id": 0
         },
         {
          "-300-0ms": 2.5333333333333363,
          "0-150ms": 17.76969696969697,
          "150-450ms": -1.6982758620689626,
          "photo_id": 0
         },
         {
          "-300-0ms": 2.220446049250313e-16,
          "0-150ms": 3.025757575757581,
          "150-450ms": 0.9137931034482739,
          "photo_id": 0
         },
         {
          "-300-0ms": 1.4666666666666932,
          "0-150ms": 4.031818181818197,
          "150-450ms": -0.847701149425267,
          "photo_id": 0
         },
         {
          "-300-0ms": -0.4666666666666552,
          "0-150ms": 5.684848484848488,
          "150-450ms": -0.7614942528735614,
          "photo_id": 0
         },
         {
          "-300-0ms": -0.2333333333333353,
          "0-150ms": 1.3924242424242388,
          "150-450ms": -0.24712643678160728,
          "photo_id": 0
         },
         {
          "-300-0ms": 0.40000000000000074,
          "0-150ms": -1.8666666666666687,
          "150-450ms": 2.4109195402298997,
          "photo_id": 0
         },
         {
          "-300-0ms": 0.6333333333333543,
          "0-150ms": 9.403030303030294,
          "150-450ms": -2.2614942528735535,
          "photo_id": 0
         },
         {
          "-300-0ms": 1.2333333333333285,
          "0-150ms": 0.8303030303030274,
          "150-450ms": -1.4062824978585316e-15,
          "photo_id": 0
         },
         {
          "-300-0ms": -1.966666666666617,
          "0-150ms": 25.957575757575793,
          "150-450ms": -0.12068965517239942,
          "photo_id": 0
         },
         {
          "-300-0ms": 3.3999999999999946,
          "0-150ms": -0.08030303030302777,
          "150-450ms": 1.9683908045977008,
          "photo_id": 0
         },
         {
          "-300-0ms": -1.7999999999999952,
          "0-150ms": -5.536363636363629,
          "150-450ms": 1.2356321839080517,
          "photo_id": 0
         },
         {
          "-300-0ms": -2.93333333333333,
          "0-150ms": 0.5484848484848456,
          "150-450ms": 0.18678160919540146,
          "photo_id": 0
         },
         {
          "-300-0ms": 0.4666666666666774,
          "0-150ms": 29.790909090909107,
          "150-450ms": 0.045977011494255544,
          "photo_id": 0
         },
         {
          "-300-0ms": -2.0333333333333337,
          "0-150ms": -3.2454545454545447,
          "150-450ms": -0.16954022988505982,
          "photo_id": 0
         },
         {
          "-300-0ms": 1.199999999999997,
          "0-150ms": 5.628787878787876,
          "150-450ms": 1.2528735632183905,
          "photo_id": 0
         },
         {
          "-300-0ms": 0.3000000000000009,
          "0-150ms": -3.678787878787873,
          "150-450ms": 3.977011494252872,
          "photo_id": 0
         },
         {
          "-300-0ms": 1.866666666666678,
          "0-150ms": 2.9621212121212097,
          "150-450ms": 2.2499999999999925,
          "photo_id": 0
         },
         {
          "-300-0ms": -4.133333333333329,
          "0-150ms": 1.707575757575743,
          "150-450ms": -3.7672413793103625,
          "photo_id": 1
         },
         {
          "-300-0ms": 0.2000000000000084,
          "0-150ms": -2.1772727272727335,
          "150-450ms": 2.028735632183901,
          "photo_id": 1
         },
         {
          "-300-0ms": 0.4333333333333355,
          "0-150ms": 0.4575757575757591,
          "150-450ms": -0.6178160919540221,
          "photo_id": 0
         },
         {
          "-300-0ms": -0.8476190476190529,
          "0-150ms": -3.7406060606060625,
          "150-450ms": 0.7774999999999985,
          "photo_id": 0
         },
         {
          "-300-0ms": 1.1238095238095198,
          "0-150ms": -4.630303030303033,
          "150-450ms": 3.080833333333335,
          "photo_id": 0
         },
         {
          "-300-0ms": 0.324761904761905,
          "0-150ms": -0.1454545454545448,
          "150-450ms": -0.6008333333333334,
          "photo_id": 0
         },
         {
          "-300-0ms": 1.3542857142857105,
          "0-150ms": -1.0303030303030323,
          "150-450ms": 0.01833333333333077,
          "photo_id": 0
         },
         {
          "-300-0ms": 0.02476190476190446,
          "0-150ms": -0.12121212121212115,
          "150-450ms": -0.17666666666666697,
          "photo_id": 0
         },
         {
          "-300-0ms": 1.2333333333333334,
          "0-150ms": -0.48000000000000037,
          "150-450ms": 1.1866666666666659,
          "photo_id": 0
         },
         {
          "-300-0ms": -0.30952380952381064,
          "0-150ms": 1.2921212121212113,
          "150-450ms": -1.0941666666666667,
          "photo_id": 0
         },
         {
          "-300-0ms": 0.09523809523809525,
          "0-150ms": 0.06060606060606086,
          "150-450ms": -3.67357013237761e-17,
          "photo_id": 0
         },
         {
          "-300-0ms": 1.7295238095237957,
          "0-150ms": -9.57575757575758,
          "150-450ms": 1.3058333333333267,
          "photo_id": 0
         },
         {
          "-300-0ms": -0.5228571428571409,
          "0-150ms": 8.867878787878785,
          "150-450ms": 0.3458333333333344,
          "photo_id": 0
         },
         {
          "-300-0ms": -0.8209523809523872,
          "0-150ms": 10.324848484848482,
          "150-450ms": -1.457499999999998,
          "photo_id": 0
         },
         {
          "-300-0ms": -2.796190476190482,
          "0-150ms": -1.6800000000000017,
          "150-450ms": -1.6775000000000009,
          "photo_id": 0
         },
         {
          "-300-0ms": -0.21809523809523979,
          "0-150ms": 3.9587878787878776,
          "150-450ms": 0.26500000000000085,
          "photo_id": 0
         },
         {
          "-300-0ms": -0.483809523809527,
          "0-150ms": -0.6254545454545455,
          "150-450ms": 1.5050000000000001,
          "photo_id": 0
         },
         {
          "-300-0ms": 0.2571428571428572,
          "0-150ms": 0.9139393939393927,
          "150-450ms": 0.724166666666669,
          "photo_id": 0
         },
         {
          "-300-0ms": -0.32285714285714406,
          "0-150ms": 1.284848484848484,
          "150-450ms": -0.2958333333333338,
          "photo_id": 0
         },
         {
          "-300-0ms": 1.6790476190476138,
          "0-150ms": -2.9381818181818207,
          "150-450ms": 1.0241666666666667,
          "photo_id": 0
         },
         {
          "-300-0ms": -1.9504761904762036,
          "0-150ms": -1.4836363636363659,
          "150-450ms": -3.970833333333338,
          "photo_id": 0
         },
         {
          "-300-0ms": -3.351428571428581,
          "0-150ms": -0.11878787878788284,
          "150-450ms": -1.6166666666666654,
          "photo_id": 0
         },
         {
          "-300-0ms": 0.41238095238094913,
          "0-150ms": -0.24242424242424312,
          "150-450ms": 0.5416666666666637,
          "photo_id": 0
         },
         {
          "-300-0ms": -0.7066666666666722,
          "0-150ms": 0.5163636363636335,
          "150-450ms": -0.3466666666666674,
          "photo_id": 0
         },
         {
          "-300-0ms": -0.4228571428571433,
          "0-150ms": 2.179393939393938,
          "150-450ms": -0.17249999999999985,
          "photo_id": 0
         },
         {
          "-300-0ms": 0.5657142857142851,
          "0-150ms": -0.016969696969698262,
          "150-450ms": 0.195833333333334,
          "photo_id": 0
         },
         {
          "-300-0ms": -0.5476190476190582,
          "0-150ms": 5.595151515151509,
          "150-450ms": 2.2766666666666695,
          "photo_id": 0
         },
         {
          "-300-0ms": -1.4276190476190698,
          "0-150ms": 16.47030303030302,
          "150-450ms": -2.97666666666667,
          "photo_id": 0
         },
         {
          "-300-0ms": 0.4808743169398902,
          "0-150ms": -0.5480225988700566,
          "150-450ms": -0.3833333333333331,
          "photo_id": 0
         },
         {
          "-300-0ms": 0.8655737704918062,
          "0-150ms": 1.5457627118644088,
          "150-450ms": -0.18333333333333401,
          "photo_id": 0
         },
         {
          "-300-0ms": -2.5333333333333274,
          "0-150ms": 1.0022598870056552,
          "150-450ms": -2.666666666666665,
          "photo_id": 0
         },
         {
          "-300-0ms": 3.604371584699454,
          "0-150ms": -0.5774011299435017,
          "150-450ms": -1.466666666666668,
          "photo_id": 0
         },
         {
          "-300-0ms": 3.499453551912571,
          "0-150ms": 9.868926553672333,
          "150-450ms": 2.8166666666666647,
          "photo_id": 0
         },
         {
          "-300-0ms": 4.553005464480887,
          "0-150ms": -3.887005649717496,
          "150-450ms": -1.849999999999997,
          "photo_id": 0
         },
         {
          "-300-0ms": 0.24043715846994262,
          "0-150ms": -0.40677966101695295,
          "150-450ms": 1.8166666666666673,
          "photo_id": 0
         },
         {
          "-300-0ms": -0.6316939890710357,
          "0-150ms": 1.6045197740113026,
          "150-450ms": -1.2999999999999998,
          "photo_id": 0
         },
         {
          "-300-0ms": -8.052459016393408,
          "0-150ms": 20.35819209039551,
          "150-450ms": -7.066666666666666,
          "photo_id": 0
         },
         {
          "-300-0ms": 2.7715846994535673,
          "0-150ms": 4.630508474576285,
          "150-450ms": 0.21666666666666648,
          "photo_id": 1
         },
         {
          "-300-0ms": -1.7857923497267691,
          "0-150ms": 1.594350282485882,
          "150-450ms": 1.0000000000000009,
          "photo_id": 0
         },
         {
          "-300-0ms": 4.015300546448102,
          "0-150ms": 2.6858757062146945,
          "150-450ms": -2.966666666666667,
          "photo_id": 0
         },
         {
          "-300-0ms": -1.683060109289607,
          "0-150ms": 11.099435028248598,
          "150-450ms": -0.5333333333333398,
          "photo_id": 0
         },
         {
          "-300-0ms": -6.594535519125672,
          "0-150ms": 2.1954802259887054,
          "150-450ms": -4.300000000000001,
          "photo_id": 0
         },
         {
          "-300-0ms": 0.05901639344262292,
          "0-150ms": 1.0090395480226,
          "150-450ms": -0.5999999999999993,
          "photo_id": 0
         },
         {
          "-300-0ms": -0.2448087431693943,
          "0-150ms": -3.015819209039545,
          "150-450ms": -0.43333333333333307,
          "photo_id": 0
         },
         {
          "-300-0ms": -1.363934426229507,
          "0-150ms": 1.2847457627118657,
          "150-450ms": -0.33333333333333254,
          "photo_id": 0
         },
         {
          "-300-0ms": -0.3387978142076485,
          "0-150ms": -1.1841807909604511,
          "150-450ms": -1.7999999999999996,
          "photo_id": 0
         },
         {
          "-300-0ms": 2.3016393442622944,
          "0-150ms": -1.6463276836158194,
          "150-450ms": 0.35000000000000114,
          "photo_id": 0
         },
         {
          "-300-0ms": -5.064480874316936,
          "0-150ms": -3.6994350282485855,
          "150-450ms": -0.33333333333333415,
          "photo_id": 0
         },
         {
          "-300-0ms": -0.19016393442622567,
          "0-150ms": -3.7751412429378486,
          "150-450ms": -2.133333333333331,
          "photo_id": 0
         },
         {
          "-300-0ms": 1.4382513661202216,
          "0-150ms": 2.472316384180793,
          "150-450ms": -0.38333333333333486,
          "photo_id": 0
         },
         {
          "-300-0ms": 0.5857923497267755,
          "0-150ms": 3.501694915254243,
          "150-450ms": -1.4333333333333347,
          "photo_id": 0
         },
         {
          "-300-0ms": -1.2612021857923439,
          "0-150ms": -0.7016949152542383,
          "150-450ms": 3.950000000000003,
          "photo_id": 0
         },
         {
          "-300-0ms": 2.2775956284153005,
          "0-150ms": -1.7389830508474577,
          "150-450ms": 0.06666666666666775,
          "photo_id": 0
         },
         {
          "-300-0ms": -0.07868852459015836,
          "0-150ms": -5.109604519774008,
          "150-450ms": -1.3999999999999992,
          "photo_id": 0
         },
         {
          "-300-0ms": -8.124590163934402,
          "0-150ms": -2.4926553672316243,
          "150-450ms": -7.216666666666665,
          "photo_id": 1
         },
         {
          "-300-0ms": -0.6039886039886045,
          "0-150ms": 0.10256410256410319,
          "150-450ms": -0.4986737400530499,
          "photo_id": 0
         },
         {
          "-300-0ms": -0.44281644281644356,
          "0-150ms": 1.2379487179487163,
          "150-450ms": -0.48717948717948784,
          "photo_id": 0
         },
         {
          "-300-0ms": -1.98860398860399,
          "0-150ms": 3.1056410256410225,
          "150-450ms": -2.2997347480106107,
          "photo_id": 0
         },
         {
          "-300-0ms": 0.5860805860805857,
          "0-150ms": -0.5353846153846151,
          "150-450ms": 0.5022104332449172,
          "photo_id": 0
         },
         {
          "-300-0ms": 0.1969881969881956,
          "0-150ms": 7.165128205128198,
          "150-450ms": -0.24314765694076182,
          "photo_id": 0
         },
         {
          "-300-0ms": 5.994301994301995,
          "0-150ms": -1.8225641025640995,
          "150-450ms": -0.14765694076038852,
          "photo_id": 0
         },
         {
          "-300-0ms": -1.1143671143671166,
          "0-150ms": 0.23076923076923103,
          "150-450ms": -0.532272325375772,
          "photo_id": 0
         },
         {
          "-300-0ms": 3.080993080993078,
          "0-150ms": 8.8451282051282,
          "150-450ms": 5.521662245800186,
          "photo_id": 0
         },
         {
          "-300-0ms": -7.479039479039481,
          "0-150ms": 2.288205128205123,
          "150-450ms": -2.5190097259062796,
          "photo_id": 0
         },
         {
          "-300-0ms": -8.070818070818078,
          "0-150ms": 3.7866666666666493,
          "150-450ms": -7.519009725906283,
          "photo_id": 0
         },
         {
          "-300-0ms": 1.3691493691493681,
          "0-150ms": -2.175384615384614,
          "150-450ms": -0.27674624226348365,
          "photo_id": 0
         },
         {
          "-300-0ms": -0.1400081400081402,
          "0-150ms": -1.541538461538462,
          "150-450ms": -1.2590627763041558,
          "photo_id": 0
         },
         {
          "-300-0ms": 0.14000814000813702,
          "0-150ms": -7.698461538461536,
          "150-450ms": 0.42793987621573787,
          "photo_id": 1
         },
         {
          "-300-0ms": -3.8095238095238106,
          "0-150ms": -0.6553846153846163,
          "150-450ms": -2.286472148541116,
          "photo_id": 0
         },
         {
          "-300-0ms": -4.091168091168093,
          "0-150ms": -2.640000000000002,
          "150-450ms": -3.48187444739169,
          "photo_id": 0
         },
         {
          "-300-0ms": -0.14000814000814046,
          "0-150ms": -0.31076923076923074,
          "150-450ms": -0.07869142351900867,
          "photo_id": 0
         },
         {
          "-300-0ms": -1.3813593813593812,
          "0-150ms": -2.5558974358974362,
          "150-450ms": -1.1706454465075156,
          "photo_id": 0
         },
         {
          "-300-0ms": 0.43361860873381125,
          "0-150ms": 3.3954599761051347,
          "150-450ms": 0.2804417320546303,
          "photo_id": 0
         },
         {
          "-300-0ms": -3.3364055299539266,
          "0-150ms": -6.512544802867384,
          "150-450ms": -1.790177274048253,
          "photo_id": 0
         },
         {
          "-300-0ms": -0.6662277814351558,
          "0-150ms": -0.07048984468339425,
          "150-450ms": 0.7070619006102864,
          "photo_id": 0
         },
         {
          "-300-0ms": -0.4441518542901047,
          "0-150ms": 4.247311827956987,
          "150-450ms": 0.2560302237721581,
          "photo_id": 0
         },
         {
          "-300-0ms": 0.2571867456660077,
          "0-150ms": 0.13022700119474276,
          "150-450ms": 0.061900610287706846,
          "photo_id": 0
         },
         {
          "-300-0ms": -0.7864823348694365,
          "0-150ms": -1.8876941457586653,
          "150-450ms": 0.6428363847718631,
          "photo_id": 0
         },
         {
          "-300-0ms": -0.6899275839368043,
          "0-150ms": 1.9964157706093186,
          "150-450ms": 3.0293519325777374,
          "photo_id": 0
         },
         {
          "-300-0ms": -1.101601931095019,
          "0-150ms": 0.9605734767025084,
          "150-450ms": -0.1705899447834933,
          "photo_id": 0
         },
         {
          "-300-0ms": -1.754663155584818,
          "0-150ms": -2.189964157706092,
          "150-450ms": -0.33769253124091964,
          "photo_id": 0
         },
         {
          "-300-0ms": 0.8944481018213647,
          "0-150ms": 9.089605734767007,
          "150-450ms": -4.11711711711713,
          "photo_id": 1
         },
         {
          "-300-0ms": -1.5536537195523399,
          "0-150ms": 2.335722819593786,
          "150-450ms": 1.4027898866608515,
          "photo_id": 0
         },
         {
          "-300-0ms": -1.3447443493526459,
          "0-150ms": 8.068100358422937,
          "150-450ms": 0.8538215634989816,
          "photo_id": 0
         },
         {
          "-300-0ms": -0.04301075268817304,
          "0-150ms": 0.9653524492234152,
          "150-450ms": 0.6666666666666656,
          "photo_id": 0
         },
         {
          "-300-0ms": -2.063638358569236,
          "0-150ms": 0.25209080047789395,
          "150-450ms": 0.7634408602150516,
          "photo_id": 0
         },
         {
          "-300-0ms": 0.09216589861751179,
          "0-150ms": 0.06929510155316428,
          "150-450ms": -0.6480674222609714,
          "photo_id": 0
         },
         {
          "-300-0ms": -2.5973228000877806,
          "0-150ms": 3.1170848267622433,
          "150-450ms": 0.7602441150828216,
          "photo_id": 0
         },
         {
          "-300-0ms": -0.08953258722843994,
          "0-150ms": -0.21146953405017999,
          "150-450ms": -0.24295263004940484,
          "photo_id": 0
         },
         {
          "-300-0ms": -0.3230195303928051,
          "0-150ms": 8.126642771804061,
          "150-450ms": 1.4245858761987769,
          "photo_id": 0
         },
         {
          "-300-0ms": 0.42308536317752904,
          "0-150ms": 2.1123058542413378,
          "150-450ms": 0.13077593722754977,
          "photo_id": 0
         },
         {
          "-300-0ms": -3.0634189159534917,
          "0-150ms": -1.8255675029868639,
          "150-450ms": 0.8782330717814514,
          "photo_id": 1
         },
         {
          "-300-0ms": -0.6767610269914431,
          "0-150ms": -1.7562724014336908,
          "150-450ms": -0.45480964835803467,
          "photo_id": 0
         },
         {
          "-300-0ms": 0.7048496818082062,
          "0-150ms": 3.863799283154121,
          "150-450ms": 0.4789305434466718,
          "photo_id": 0
         },
         {
          "-300-0ms": 2.8141321044546768,
          "0-150ms": 7.187574671445627,
          "150-450ms": 2.8692240627724375,
          "photo_id": 1
         },
         {
          "-300-0ms": -0.5336844415185439,
          "0-150ms": -0.2688172043010753,
          "150-450ms": -0.3583260680034874,
          "photo_id": 0
         },
         {
          "-300-0ms": -0.7768268597761718,
          "0-150ms": 4.199522102747908,
          "150-450ms": 0.26474861958732643,
          "photo_id": 0
         },
         {
          "-300-0ms": -1.0603467193328955,
          "0-150ms": 1.4910394265232971,
          "150-450ms": 0.36355710549258863,
          "photo_id": 0
         },
         {
          "-300-0ms": 0.11748251748251849,
          "0-150ms": 0.3649831649831659,
          "150-450ms": 0.15034965034965028,
          "photo_id": 0
         },
         {
          "-300-0ms": 2.5249417249417316,
          "0-150ms": 24.468686868686888,
          "150-450ms": -1.1107226107226074,
          "photo_id": 0
         },
         {
          "-300-0ms": 0.6881118881118846,
          "0-150ms": 2.099663299663305,
          "150-450ms": 1.7420357420357462,
          "photo_id": 0
         },
         {
          "-300-0ms": -0.4531468531468475,
          "0-150ms": 12.802693602693617,
          "150-450ms": -2.700077700077699,
          "photo_id": 0
         },
         {
          "-300-0ms": -0.24677544677544747,
          "0-150ms": -2.1723905723905674,
          "150-450ms": -1.2016317016316993,
          "photo_id": 0
         },
         {
          "-300-0ms": 0.2318570318570304,
          "0-150ms": 0.9373737373737386,
          "150-450ms": -0.030303030303029787,
          "photo_id": 0
         },
         {
          "-300-0ms": -4.432012432012434,
          "0-150ms": 0.2505050505050704,
          "150-450ms": -4.557886557886549,
          "photo_id": 0
         },
         {
          "-300-0ms": 2.600155400155407,
          "0-150ms": 5.633670033670055,
          "150-450ms": -1.939393939393938,
          "photo_id": 0
         },
         {
          "-300-0ms": -0.13240093240093276,
          "0-150ms": 0.4969696969696992,
          "150-450ms": -0.7789432789432755,
          "photo_id": 0
         },
         {
          "-300-0ms": 0.08578088578088498,
          "0-150ms": -0.01616161616161604,
          "150-450ms": 1.1017871017871024,
          "photo_id": 0
         },
         {
          "-300-0ms": -1.9300699300699276,
          "0-150ms": 6.490235690235703,
          "150-450ms": -5.9848484848484835,
          "photo_id": 1
         },
         {
          "-300-0ms": 0.8714840714840745,
          "0-150ms": 1.7831649831649898,
          "150-450ms": -1.074980574980572,
          "photo_id": 0
         },
         {
          "-300-0ms": -1.0697746697746668,
          "0-150ms": -0.30437710437709936,
          "150-450ms": -2.4809634809634793,
          "photo_id": 1
         },
         {
          "-300-0ms": -2.1619269619269583,
          "0-150ms": 2.795959595959602,
          "150-450ms": -2.944055944055943,
          "photo_id": 0
         },
         {
          "-300-0ms": -0.41274281274280983,
          "0-150ms": 0.5265993265993334,
          "150-450ms": -3.217948717948714,
          "photo_id": 0
         },
         {
          "-300-0ms": -0.27785547785547804,
          "0-150ms": 0.04848484848485025,
          "150-450ms": -1.389665889665889,
          "photo_id": 0
         },
         {
          "-300-0ms": -0.4413364413364387,
          "0-150ms": 5.358922558922565,
          "150-450ms": -0.30885780885780856,
          "photo_id": 0
         },
         {
          "-300-0ms": 0.6191142191142208,
          "0-150ms": -1.9582491582491557,
          "150-450ms": -0.3088578088578075,
          "photo_id": 0
         },
         {
          "-300-0ms": -0.04473304473304642,
          "0-150ms": -1.12424740010947,
          "150-450ms": -0.1619047619047615,
          "photo_id": 0
         },
         {
          "-300-0ms": 0.1832611832611831,
          "0-150ms": 1.8981937602627286,
          "150-450ms": 0.10793650793651051,
          "photo_id": 0
         },
         {
          "-300-0ms": -1.7373737373737408,
          "0-150ms": 4.484948002189387,
          "150-450ms": -0.6000000000000001,
          "photo_id": 0
         },
         {
          "-300-0ms": 6.12698412698411,
          "0-150ms": 21.980295566502488,
          "150-450ms": -0.8507936507936446,
          "photo_id": 0
         },
         {
          "-300-0ms": 0.6435786435786437,
          "0-150ms": -0.0733442802408351,
          "150-450ms": -0.19047619047618972,
          "photo_id": 0
         },
         {
          "-300-0ms": 1.7835497835497813,
          "0-150ms": 2.6316365626710456,
          "150-450ms": -2.4444444444444398,
          "photo_id": 0
         },
         {
          "-300-0ms": 0.46897546897547016,
          "0-150ms": -0.19923371647509938,
          "150-450ms": -0.04761904761904776,
          "photo_id": 0
         },
         {
          "-300-0ms": 1.854711255978399e-17,
          "0-150ms": 0.1839080459770117,
          "150-450ms": -5.047904536327335e-16,
          "photo_id": 0
         },
         {
          "-300-0ms": -0.34920634920635035,
          "0-150ms": -0.20361247947455116,
          "150-450ms": -0.39047619047619153,
          "photo_id": 0
         },
         {
          "-300-0ms": -0.037518037518037846,
          "0-150ms": 1.2063492063492074,
          "150-450ms": -0.18095238095237964,
          "photo_id": 0
         },
         {
          "-300-0ms": 3.203463203463199,
          "0-150ms": 8.178434592227694,
          "150-450ms": 0.904761904761906,
          "photo_id": 1
         },
         {
          "-300-0ms": -0.7907647907647911,
          "0-150ms": -0.21674876847290603,
          "150-450ms": 0.5142857142857147,
          "photo_id": 0
         },
         {
          "-300-0ms": 0.18759018759018628,
          "0-150ms": 1.899288451012585,
          "150-450ms": 1.238095238095237,
          "photo_id": 0
         },
         {
          "-300-0ms": 2.4473304473304456,
          "0-150ms": 1.7963875205254503,
          "150-450ms": 0.8285714285714282,
          "photo_id": 0
         },
         {
          "-300-0ms": 3.7821067821067786,
          "0-150ms": -1.494252873563217,
          "150-450ms": 1.7396825396825422,
          "photo_id": 0
         },
         {
          "-300-0ms": -2.6493506493506627,
          "0-150ms": 14.688560481663956,
          "150-450ms": -3.6952380952380994,
          "photo_id": 0
         },
         {
          "-300-0ms": 1.3852813852813812,
          "0-150ms": -0.6458675424192739,
          "150-450ms": -0.01587301587301999,
          "photo_id": 0
         },
         {
          "-300-0ms": 1.0346320346320328,
          "0-150ms": -1.2501368363437326,
          "150-450ms": 1.2666666666666664,
          "photo_id": 0
         },
         {
          "-300-0ms": 1.227994227994228,
          "0-150ms": 0.16201423097974843,
          "150-450ms": 1.596825396825398,
          "photo_id": 0
         },
         {
          "-300-0ms": 0.886002886002891,
          "0-150ms": 0.3929939792008781,
          "150-450ms": 0.15238095238095373,
          "photo_id": 0
         },
         {
          "-300-0ms": 0.46608946608946544,
          "0-150ms": 0.005473453749315775,
          "150-450ms": -0.38095238095238243,
          "photo_id": 0
         },
         {
          "-300-0ms": -2.227272727272727,
          "0-150ms": -6.4444444444444295,
          "150-450ms": -3.017241379310344,
          "photo_id": 0
         },
         {
          "-300-0ms": 0.43939393939394034,
          "0-150ms": -0.49444444444444136,
          "150-450ms": 0.9942528735632181,
          "photo_id": 0
         },
         {
          "-300-0ms": 1.3787878787878824,
          "0-150ms": 2.072222222222217,
          "150-450ms": 4.6178160919540225,
          "photo_id": 0
         },
         {
          "-300-0ms": 4.000000000000003,
          "0-150ms": 8.144444444444437,
          "150-450ms": 2.3735632183908084,
          "photo_id": 0
         },
         {
          "-300-0ms": -4.030303030303021,
          "0-150ms": -7.733333333333312,
          "150-450ms": 5.49425287356322,
          "photo_id": 0
         },
         {
          "-300-0ms": -0.36363636363636126,
          "0-150ms": -1.2555555555555533,
          "150-450ms": -0.8908045977011505,
          "photo_id": 0
         },
         {
          "-300-0ms": -0.8333333333333351,
          "0-150ms": -0.8722222222222191,
          "150-450ms": 0.25574712643678177,
          "photo_id": 0
         },
         {
          "-300-0ms": 3.787878787878794,
          "0-150ms": -4.344444444444432,
          "150-450ms": 0.31896551724137967,
          "photo_id": 0
         },
         {
          "-300-0ms": 1.6515151515151547,
          "0-150ms": 0.4333333333333331,
          "150-450ms": 0.3362068965517229,
          "photo_id": 0
         },
         {
          "-300-0ms": 0.24242424242424299,
          "0-150ms": 1.3111111111111098,
          "150-450ms": -1.974137931034481,
          "photo_id": 0
         },
         {
          "-300-0ms": 1.2727272727272732,
          "0-150ms": 0.23888888888888826,
          "150-450ms": 0.4252873563218393,
          "photo_id": 0
         },
         {
          "-300-0ms": 3.2424242424242435,
          "0-150ms": 7.461111111111102,
          "150-450ms": 0.48850574712643596,
          "photo_id": 0
         },
         {
          "-300-0ms": -3.1060606060605784,
          "0-150ms": 12.516666666666675,
          "150-450ms": -5.738505747126428,
          "photo_id": 0
         },
         {
          "-300-0ms": 1.2878787878787914,
          "0-150ms": 5.311111111111111,
          "150-450ms": -2.3735632183908044,
          "photo_id": 0
         },
         {
          "-300-0ms": 0.9848484848484826,
          "0-150ms": 3.2888888888888883,
          "150-450ms": -0.5545977011494253,
          "photo_id": 0
         },
         {
          "-300-0ms": -2.3030303030302925,
          "0-150ms": 12.838888888888876,
          "150-450ms": 0.8304597701149398,
          "photo_id": 1
         },
         {
          "-300-0ms": 4.1515151515151585,
          "0-150ms": -2.3499999999999965,
          "150-450ms": -1.3132183908045947,
          "photo_id": 0
         },
         {
          "-300-0ms": 2.5606060606060628,
          "0-150ms": 10.788888888888877,
          "150-450ms": 0.03735632183908274,
          "photo_id": 0
         },
         {
          "-300-0ms": -0.04545454545454523,
          "0-150ms": -0.6833333333333326,
          "150-450ms": -0.7385057471264362,
          "photo_id": 0
         },
         {
          "-300-0ms": 0.6818181818181831,
          "0-150ms": 4.533333333333325,
          "150-450ms": 1.0862068965517249,
          "photo_id": 0
         },
         {
          "-300-0ms": -1.5909090909090884,
          "0-150ms": -2.5666666666666624,
          "150-450ms": -3.143678160919542,
          "photo_id": 0
         },
         {
          "-300-0ms": 5.242424242424253,
          "0-150ms": 4.266666666666669,
          "150-450ms": 0.6666666666666651,
          "photo_id": 0
         },
         {
          "-300-0ms": -2.6515151515151523,
          "0-150ms": 2.611111111111111,
          "150-450ms": -2.03448275862069,
          "photo_id": 0
         },
         {
          "-300-0ms": 0.7121212121212137,
          "0-150ms": 3.255555555555555,
          "150-450ms": 1.1120689655172422,
          "photo_id": 0
         },
         {
          "-300-0ms": 1.0793650793650753,
          "0-150ms": 2.299999999999996,
          "150-450ms": -0.30714285714285805,
          "photo_id": 0
         },
         {
          "-300-0ms": 1.0793650793650802,
          "0-150ms": -1.3793650793650807,
          "150-450ms": 0.016666666666667718,
          "photo_id": 0
         },
         {
          "-300-0ms": -1.7142857142857142,
          "0-150ms": -3.012698412698407,
          "150-450ms": -3.516666666666662,
          "photo_id": 0
         },
         {
          "-300-0ms": -1.0793650793650789,
          "0-150ms": 3.3682539682539656,
          "150-450ms": -0.4238095238095216,
          "photo_id": 0
         },
         {
          "-300-0ms": -1.1746031746031749,
          "0-150ms": 0.8174603174603169,
          "150-450ms": -0.1904761904761897,
          "photo_id": 0
         },
         {
          "-300-0ms": -1.079365079365077,
          "0-150ms": -0.7301587301587286,
          "150-450ms": -0.9452380952380963,
          "photo_id": 0
         },
         {
          "-300-0ms": -5.174603174603168,
          "0-150ms": 18.514285714285695,
          "150-450ms": -10.46190476190475,
          "photo_id": 0
         },
         {
          "-300-0ms": -0.4444444444444439,
          "0-150ms": 2.9841269841269824,
          "150-450ms": -0.1380952380952376,
          "photo_id": 0
         },
         {
          "-300-0ms": -1.8730158730158701,
          "0-150ms": 3.323809523809523,
          "150-450ms": -0.3857142857142813,
          "photo_id": 0
         },
         {
          "-300-0ms": -7.714285714285715,
          "0-150ms": 14.5031746031746,
          "150-450ms": -3.5928571428571345,
          "photo_id": 1
         },
         {
          "-300-0ms": -1.3015873015873123,
          "0-150ms": 14.26507936507935,
          "150-450ms": -0.1904761904761869,
          "photo_id": 0
         },
         {
          "-300-0ms": -6.126984126984129,
          "0-150ms": 16.14126984126983,
          "150-450ms": -2.0833333333333215,
          "photo_id": 0
         },
         {
          "-300-0ms": -6.539682539682526,
          "0-150ms": 17.450793650793656,
          "150-450ms": -2.8428571428571323,
          "photo_id": 0
         },
         {
          "-300-0ms": 1.2380952380952501,
          "0-150ms": 4.639682539682539,
          "150-450ms": 0.8857142857142932,
          "photo_id": 0
         },
         {
          "-300-0ms": 0.22222222222222374,
          "0-150ms": 0.4333333333333343,
          "150-450ms": 0.4571428571428576,
          "photo_id": 0
         },
         {
          "-300-0ms": -8.952380952380954,
          "0-150ms": -4.503174603174599,
          "150-450ms": -2.6785714285714284,
          "photo_id": 0
         },
         {
          "-300-0ms": 2.3492063492063475,
          "0-150ms": -2.4412698412698384,
          "150-450ms": 0.6404761904761922,
          "photo_id": 0
         },
         {
          "-300-0ms": 0.1587301587301505,
          "0-150ms": 4.9603174603174605,
          "150-450ms": -1.433333333333332,
          "photo_id": 0
         },
         {
          "-300-0ms": 0.38095238095238737,
          "0-150ms": 6.593650793650799,
          "150-450ms": -2.9166666666666607,
          "photo_id": 0
         },
         {
          "-300-0ms": -1.3015873015872967,
          "0-150ms": 14.43174603174603,
          "150-450ms": -3.435714285714278,
          "photo_id": 0
         },
         {
          "-300-0ms": -0.38095238095237677,
          "0-150ms": 12.142857142857139,
          "150-450ms": -0.30714285714285183,
          "photo_id": 0
         },
         {
          "-300-0ms": -0.06349206349206245,
          "0-150ms": 1.953968253968257,
          "150-450ms": 0.6452380952380964,
          "photo_id": 0
         },
         {
          "-300-0ms": -4.645014245014242,
          "0-150ms": 8.14233385661957,
          "150-450ms": -3.9435897435897496,
          "photo_id": 0
         },
         {
          "-300-0ms": 1.8849002849002858,
          "0-150ms": -0.14652014652014703,
          "150-450ms": 1.1794871794871804,
          "photo_id": 0
         },
         {
          "-300-0ms": -3.1088319088319065,
          "0-150ms": -2.8341182626896946,
          "150-450ms": -2.532478632478633,
          "photo_id": 0
         },
         {
          "-300-0ms": 1.226210826210831,
          "0-150ms": -6.048142333856622,
          "150-450ms": 2.1273504273504282,
          "photo_id": 0
         },
         {
          "-300-0ms": -0.26438746438747257,
          "0-150ms": 7.517530088958662,
          "150-450ms": -2.25726495726496,
          "photo_id": 0
         },
         {
          "-300-0ms": 1.5999999999999968,
          "0-150ms": 0.8016745159602302,
          "150-450ms": 0.9196581196581173,
          "photo_id": 0
         },
         {
          "-300-0ms": 0.23703703703703663,
          "0-150ms": 0.08163265306122448,
          "150-450ms": 0.19316239316239256,
          "photo_id": 0
         },
         {
          "-300-0ms": 0.7042735042735032,
          "0-150ms": -0.6038723181580326,
          "150-450ms": 0.013675213675212544,
          "photo_id": 0
         },
         {
          "-300-0ms": -2.229235173818725e-17,
          "0-150ms": 6.32196462044006e-17,
          "150-450ms": 0.16666666666666588,
          "photo_id": 0
         },
         {
          "-300-0ms": 2.140170940170943,
          "0-150ms": -5.211930926216644,
          "150-450ms": 1.329059829059831,
          "photo_id": 0
         },
         {
          "-300-0ms": -1.3219373219373185,
          "0-150ms": -2.727367870225015,
          "150-450ms": -0.35726495726495155,
          "photo_id": 0
         },
         {
          "-300-0ms": -0.24615384615384847,
          "0-150ms": 0.4897959183673459,
          "150-450ms": -0.20085470085470256,
          "photo_id": 0
         },
         {
          "-300-0ms": 1.3356125356125335,
          "0-150ms": 1.3657770800627949,
          "150-450ms": 3.0427350427350426,
          "photo_id": 0
         },
         {
          "-300-0ms": -2.4615384615384603,
          "0-150ms": 0.5975928833071694,
          "150-450ms": -1.0478632478632506,
          "photo_id": 0
         },
         {
          "-300-0ms": 0,
          "0-150ms": 8.145767028369689e-17,
          "150-450ms": 0,
          "photo_id": 0
         },
         {
          "-300-0ms": -1.5566951566951532,
          "0-150ms": -0.25431711145996944,
          "150-450ms": 4.494017094017093,
          "photo_id": 0
         },
         {
          "-300-0ms": 5.062108262108259,
          "0-150ms": 9.672422815279957,
          "150-450ms": 2.549572649572649,
          "photo_id": 0
         },
         {
          "-300-0ms": -3.4871794871794806,
          "0-150ms": -1.6420722135007875,
          "150-450ms": -0.40854700854700976,
          "photo_id": 0
         },
         {
          "-300-0ms": -1.192022792022792,
          "0-150ms": -0.8707482993197297,
          "150-450ms": 0.23504273504273365,
          "photo_id": 0
         },
         {
          "-300-0ms": -0.7521367521367543,
          "0-150ms": -0.6080586080586116,
          "150-450ms": -0.7222222222222237,
          "photo_id": 0
         },
         {
          "-300-0ms": -0.6222222222222208,
          "0-150ms": -1.5028780743066463,
          "150-450ms": -2.6384615384615366,
          "photo_id": 0
         },
         {
          "-300-0ms": 4.050142450142458,
          "0-150ms": -4.0879120879120885,
          "150-450ms": 1.2829059829059877,
          "photo_id": 0
         },
         {
          "-300-0ms": 0.19373219373219297,
          "0-150ms": 0.05651491365777118,
          "150-450ms": 0.03760683760683783,
          "photo_id": 0
         },
         {
          "-300-0ms": 1.8324786324786322,
          "0-150ms": 0.9419152276295111,
          "150-450ms": 2.5700854700854676,
          "photo_id": 0
         },
         {
          "-300-0ms": -0.20284900284900179,
          "0-150ms": 0.5494505494505496,
          "150-450ms": 0.5991452991452976,
          "photo_id": 0
         },
         {
          "-300-0ms": -0.1527065527065544,
          "0-150ms": -2.148613291470435,
          "150-450ms": 2.0136752136752114,
          "photo_id": 0
         },
         {
          "-300-0ms": 0.5863991081382395,
          "0-150ms": -2.353623188405797,
          "150-450ms": 3.3311036789297668,
          "photo_id": 0
         },
         {
          "-300-0ms": 2.9007803790412514,
          "0-150ms": -4.343961352657009,
          "150-450ms": 0.9832775919732347,
          "photo_id": 1
         },
         {
          "-300-0ms": -0.17614269788182937,
          "0-150ms": -0.5101449275362293,
          "150-450ms": -1.5741360089186174,
          "photo_id": 0
         },
         {
          "-300-0ms": 4.4838350055741385,
          "0-150ms": 0.3909822866344581,
          "150-450ms": 10.167224080267554,
          "photo_id": 0
         },
         {
          "-300-0ms": -0.9264214046822756,
          "0-150ms": 1.2367149758454137,
          "150-450ms": -1.2775919732441472,
          "photo_id": 0
         },
         {
          "-300-0ms": -1.202898550724638,
          "0-150ms": -0.8322061191626414,
          "150-450ms": -0.6778149386845058,
          "photo_id": 1
         },
         {
          "-300-0ms": 1.8249721293199592,
          "0-150ms": 13.657326892109507,
          "150-450ms": -0.37904124860647315,
          "photo_id": 0
         },
         {
          "-300-0ms": -0.4147157190635456,
          "0-150ms": 11.99613526570049,
          "150-450ms": -0.21850613154960996,
          "photo_id": 0
         },
         {
          "-300-0ms": 4.017837235228545,
          "0-150ms": 0.40257648953301534,
          "150-450ms": 1.335562987736898,
          "photo_id": 0
         },
         {
          "-300-0ms": 0.051282051282051246,
          "0-150ms": 0.02962962962962966,
          "150-450ms": 0.05128205128205124,
          "photo_id": 0
         },
         {
          "-300-0ms": -0.13154960981047892,
          "0-150ms": -0.8927536231884069,
          "150-450ms": -0.07580824972129392,
          "photo_id": 0
         },
         {
          "-300-0ms": 13.25306577480491,
          "0-150ms": 7.108534621578097,
          "150-450ms": 0.3901895206243033,
          "photo_id": 0
         },
         {
          "-300-0ms": -4.397993311036791,
          "0-150ms": -1.893075684380032,
          "150-450ms": -2.7937569676700114,
          "photo_id": 0
         },
         {
          "-300-0ms": -0.12820512820513022,
          "0-150ms": -0.11529790660225502,
          "150-450ms": -0.5284280936454849,
          "photo_id": 0
         },
         {
          "-300-0ms": 0.7179487179487184,
          "0-150ms": 0.3851851851851844,
          "150-450ms": 0.4191750278706783,
          "photo_id": 0
         },
         {
          "-300-0ms": 1.2842809364548504,
          "0-150ms": 0.7175523349436435,
          "150-450ms": 0.8227424749163893,
          "photo_id": 0
         },
         {
          "-300-0ms": -0.7603121516164973,
          "0-150ms": 2.017391304347827,
          "150-450ms": -0.5373467112597526,
          "photo_id": 0
         },
         {
          "-300-0ms": -2.8138238573021215,
          "0-150ms": -0.23639291465378773,
          "150-450ms": 0.4860646599777061,
          "photo_id": 0
         },
         {
          "-300-0ms": 0.6131549609810455,
          "0-150ms": -0.8070853462157818,
          "150-450ms": 2.098104793756965,
          "photo_id": 0
         },
         {
          "-300-0ms": 0.10702341137123746,
          "0-150ms": 1.0621578099838966,
          "150-450ms": -0.11594202898551298,
          "photo_id": 0
         },
         {
          "-300-0ms": 3.4871794871794948,
          "0-150ms": 10.620933977455728,
          "150-450ms": -2.5306577480490517,
          "photo_id": 0
         },
         {
          "-300-0ms": 0.6332218506131562,
          "0-150ms": -0.13204508856682706,
          "150-450ms": -1.5585284280936456,
          "photo_id": 0
         },
         {
          "-300-0ms": -1.8517279821627657,
          "0-150ms": -3.105958132045091,
          "150-450ms": -0.3322185061315528,
          "photo_id": 0
         },
         {
          "-300-0ms": 1.8862876254180634,
          "0-150ms": -0.9668276972624792,
          "150-450ms": 1.3935340022296525,
          "photo_id": 0
         },
         {
          "-300-0ms": 1.1616499442586388,
          "0-150ms": -2.7091787439613504,
          "150-450ms": 0.6086956521739182,
          "photo_id": 0
         },
         {
          "-300-0ms": -1.0066889632107037,
          "0-150ms": 6.3143317230273786,
          "150-450ms": -1.0055741360089203,
          "photo_id": 0
         },
         {
          "-300-0ms": -1.947603121516165,
          "0-150ms": 0.17648953301127326,
          "150-450ms": -0.15607580824972334,
          "photo_id": 0
         },
         {
          "-300-0ms": 1.5418060200668897,
          "0-150ms": 3.9510466988727893,
          "150-450ms": 2.813823857302118,
          "photo_id": 0
         },
         {
          "-300-0ms": 16.297658862876272,
          "0-150ms": -0.5481481481481526,
          "150-450ms": 8.488294314381266,
          "photo_id": 0
         },
         {
          "-300-0ms": 0.6845039018952054,
          "0-150ms": 0.5442834138486324,
          "150-450ms": 0.731326644370125,
          "photo_id": 0
         },
         {
          "-300-0ms": 0.8193979933110369,
          "0-150ms": 0.9971014492753612,
          "150-450ms": -0.11817168338907486,
          "photo_id": 0
         },
         {
          "-300-0ms": 0.3851851851851853,
          "0-150ms": -3.2719060523938617,
          "150-450ms": -3.1198257080610055,
          "photo_id": 0
         },
         {
          "-300-0ms": 0.07407407407407195,
          "0-150ms": -1.2836495031616988,
          "150-450ms": -0.3050108932461871,
          "photo_id": 0
         },
         {
          "-300-0ms": 1.5407407407407394,
          "0-150ms": 0.8039747064137326,
          "150-450ms": 1.1394335511982576,
          "photo_id": 0
         },
         {
          "-300-0ms": 1.185185185185184,
          "0-150ms": -0.48328816621499743,
          "150-450ms": 0.7995642701525049,
          "photo_id": 0
         },
         {
          "-300-0ms": 0.5925925925925934,
          "0-150ms": 0.08672086720867143,
          "150-450ms": -0.7124183006535955,
          "photo_id": 0
         },
         {
          "-300-0ms": 1.288888888888885,
          "0-150ms": -0.0027100271002724976,
          "150-450ms": 1.6013071895424804,
          "photo_id": 0
         },
         {
          "-300-0ms": 1.9555555555555537,
          "0-150ms": 3.634146341463414,
          "150-450ms": 0.38779956427015233,
          "photo_id": 0
         },
         {
          "-300-0ms": 0.7851851851851775,
          "0-150ms": 8.31797651309847,
          "150-450ms": 0.4204793028322436,
          "photo_id": 0
         },
         {
          "-300-0ms": 0.17777777777777734,
          "0-150ms": -0.2538392050587174,
          "150-450ms": 0.7058823529411766,
          "photo_id": 0
         },
         {
          "-300-0ms": 6.414814814814811,
          "0-150ms": 2.8581752484191543,
          "150-450ms": -0.8104575163398714,
          "photo_id": 0
         },
         {
          "-300-0ms": 1.3481481481481465,
          "0-150ms": 1.8852755194218591,
          "150-450ms": -0.46840958605664545,
          "photo_id": 0
         },
         {
          "-300-0ms": -0.08888888888888948,
          "0-150ms": 1.6323396567299027,
          "150-450ms": -1.80392156862745,
          "photo_id": 0
         },
         {
          "-300-0ms": 0.77037037037037,
          "0-150ms": 0.5492321589882574,
          "150-450ms": 0.4161220043572982,
          "photo_id": 0
         },
         {
          "-300-0ms": -4.8592592592592565,
          "0-150ms": -4.9087624209575464,
          "150-450ms": 1.1895424836601345,
          "photo_id": 0
         },
         {
          "-300-0ms": -0.4444444444444442,
          "0-150ms": -0.10840108401083999,
          "150-450ms": -1.2440087145969498,
          "photo_id": 0
         },
         {
          "-300-0ms": -0.1777777777777807,
          "0-150ms": 0.07949412827461573,
          "150-450ms": 1.0849673202614378,
          "photo_id": 0
         },
         {
          "-300-0ms": 2.3703703703703716,
          "0-150ms": 0.2213188798554655,
          "150-450ms": 0.7254901960784306,
          "photo_id": 0
         },
         {
          "-300-0ms": -1.8962962962962964,
          "0-150ms": -1.1336946702800363,
          "150-450ms": -2.3137254901960778,
          "photo_id": 1
         },
         {
          "-300-0ms": 2.355555555555554,
          "0-150ms": 1.0460704607046065,
          "150-450ms": 2.3376906318082793,
          "photo_id": 0
         },
         {
          "-300-0ms": 2.2518518518518533,
          "0-150ms": -4.129177958446253,
          "150-450ms": 1.6209150326797384,
          "photo_id": 0
         },
         {
          "-300-0ms": 5.9407407407407335,
          "0-150ms": 13.532971996386642,
          "150-450ms": 0.8801742919389941,
          "photo_id": 0
         },
         {
          "-300-0ms": -1.6296296296296278,
          "0-150ms": 3.8979223125564606,
          "150-450ms": -5.636165577342047,
          "photo_id": 0
         },
         {
          "-300-0ms": 0.22222222222222213,
          "0-150ms": 2.3152664859981953,
          "150-450ms": 0.27886710239651374,
          "photo_id": 0
         },
         {
          "-300-0ms": 0.4592592592592572,
          "0-150ms": 0.5618789521228555,
          "150-450ms": 0.0501089324618725,
          "photo_id": 0
         },
         {
          "-300-0ms": 0.4210526315789465,
          "0-150ms": 0.22535211267605124,
          "150-450ms": 1.1942554799697678,
          "photo_id": 0
         },
         {
          "-300-0ms": -1.2163742690058454,
          "0-150ms": 0.7678664580073011,
          "150-450ms": -1.467876039304605,
          "photo_id": 0
         },
         {
          "-300-0ms": 0.21052631578947356,
          "0-150ms": 0.046948356807511575,
          "150-450ms": -0.006046863189721494,
          "photo_id": 0
         },
         {
          "-300-0ms": -2.736842105263156,
          "0-150ms": -1.5148669796557128,
          "150-450ms": 1.632653061224494,
          "photo_id": 0
         },
         {
          "-300-0ms": -2.666666666666663,
          "0-150ms": 0.4872196139801854,
          "150-450ms": -0.8888888888888881,
          "photo_id": 0
         },
         {
          "-300-0ms": 0.0623781676413265,
          "0-150ms": 1.4407929055816402,
          "150-450ms": 0.05139833711262328,
          "photo_id": 0
         },
         {
          "-300-0ms": 0.031189083820668023,
          "0-150ms": 0.7574334898278616,
          "150-450ms": -0.6969009826152632,
          "photo_id": 0
         },
         {
          "-300-0ms": 2.035087719298232,
          "0-150ms": -3.937402190923322,
          "150-450ms": 4.238851095993952,
          "photo_id": 1
         },
         {
          "-300-0ms": -0.1637426900584924,
          "0-150ms": 0.4444444444444436,
          "150-450ms": 2.069538926681783,
          "photo_id": 0
         },
         {
          "-300-0ms": 0.24951267056530094,
          "0-150ms": 0.8325508607198756,
          "150-450ms": 0.32653061224489893,
          "photo_id": 0
         },
         {
          "-300-0ms": -2.198830409356724,
          "0-150ms": 1.739175795513831,
          "150-450ms": -0.5275888133031034,
          "photo_id": 0
         },
         {
          "-300-0ms": -2.9707602339181225,
          "0-150ms": -1.6202399582681217,
          "150-450ms": -0.3159486016628849,
          "photo_id": 0
         },
         {
          "-300-0ms": 2.643274853801172,
          "0-150ms": 0.4569640062597921,
          "150-450ms": -0.049886621315194356,
          "photo_id": 0
         },
         {
          "-300-0ms": 1.9571150097466,
          "0-150ms": 21.771517996870134,
          "150-450ms": -7.560090702947828,
          "photo_id": 1
         },
         {
          "-300-0ms": 0.3040935672514604,
          "0-150ms": 0.26291079812206536,
          "150-450ms": 0.5170068027210867,
          "photo_id": 0
         },
         {
          "-300-0ms": 8.226120857699813,
          "0-150ms": 31.929055816379783,
          "150-450ms": 2.9886621315192765,
          "photo_id": 0
         },
         {
          "-300-0ms": -3.695906432748521,
          "0-150ms": 6.825247782994272,
          "150-450ms": -2.840513983371116,
          "photo_id": 0
         },
         {
          "-300-0ms": -0.24951267056530027,
          "0-150ms": 1.0349504434011472,
          "150-450ms": 0.22071050642479384,
          "photo_id": 0
         },
         {
          "-300-0ms": -0.304093567251462,
          "0-150ms": -0.616588419405322,
          "150-450ms": -0.4157218442932728,
          "photo_id": 0
         },
         {
          "-300-0ms": -0.6081871345029227,
          "0-150ms": 0.7344809598330718,
          "150-450ms": -0.8934240362811788,
          "photo_id": 0
         },
         {
          "-300-0ms": -2.8819047619047624,
          "0-150ms": -1.8952380952380945,
          "150-450ms": 0.9600000000000009,
          "photo_id": 0
         },
         {
          "-300-0ms": -4.498095238095231,
          "0-150ms": 10.337142857142856,
          "150-450ms": -1.69333333333333,
          "photo_id": 0
         },
         {
          "-300-0ms": 2.527619047619043,
          "0-150ms": -1.3619047619047613,
          "150-450ms": 0.5095238095238078,
          "photo_id": 0
         },
         {
          "-300-0ms": 2.4676190476190314,
          "0-150ms": 50.40571428571426,
          "150-450ms": -3.853333333333328,
          "photo_id": 0
         },
         {
          "-300-0ms": 1.5485714285714243,
          "0-150ms": -0.5923809523809503,
          "150-450ms": 1.3942857142857121,
          "photo_id": 0
         },
         {
          "-300-0ms": 1.6457142857142806,
          "0-150ms": 1.4076190476190487,
          "150-450ms": -2.167619047619049,
          "photo_id": 0
         },
         {
          "-300-0ms": 0.897142857142856,
          "0-150ms": -1.5390476190476174,
          "150-450ms": 0.4561904761904767,
          "photo_id": 0
         },
         {
          "-300-0ms": -1.8590476190476182,
          "0-150ms": -0.08190476190476155,
          "150-450ms": -0.34190476190476166,
          "photo_id": 0
         },
         {
          "-300-0ms": 1.7304761904761892,
          "0-150ms": -0.08380952380952315,
          "150-450ms": -0.3019047619047626,
          "photo_id": 0
         },
         {
          "-300-0ms": -0.48476190476190517,
          "0-150ms": 0.08571428571428534,
          "150-450ms": 0.6114285714285713,
          "photo_id": 0
         },
         {
          "-300-0ms": 3.5638095238095047,
          "0-150ms": 16.539047619047608,
          "150-450ms": 1.8752380952380954,
          "photo_id": 0
         },
         {
          "-300-0ms": -0.5914285714285707,
          "0-150ms": -0.7828571428571425,
          "150-450ms": -0.43714285714285595,
          "photo_id": 0
         },
         {
          "-300-0ms": -2.47047619047619,
          "0-150ms": 1.8514285714285708,
          "150-450ms": -1.14,
          "photo_id": 0
         },
         {
          "-300-0ms": -2.4752380952380966,
          "0-150ms": 3.9295238095238094,
          "150-450ms": -0.042857142857144204,
          "photo_id": 0
         },
         {
          "-300-0ms": 5.369523809523799,
          "0-150ms": -4.148571428571424,
          "150-450ms": -1.5914285714285716,
          "photo_id": 0
         },
         {
          "-300-0ms": -0.9514285714285732,
          "0-150ms": 1.1942857142857142,
          "150-450ms": 0.0809523809523802,
          "photo_id": 0
         },
         {
          "-300-0ms": -0.23333333333335085,
          "0-150ms": -1.8790123456790138,
          "150-450ms": -3.907317073170742,
          "photo_id": 0
         },
         {
          "-300-0ms": -2.605555555555594,
          "0-150ms": 11.276543209876559,
          "150-450ms": 3.5788617886178695,
          "photo_id": 1
         },
         {
          "-300-0ms": -2.2833333333333488,
          "0-150ms": -4.681481481481507,
          "150-450ms": -6.3138211382114084,
          "photo_id": 0
         },
         {
          "-300-0ms": 0.11111111111111395,
          "0-150ms": 1.3768527760903057e-15,
          "150-450ms": 0.5772357723577204,
          "photo_id": 0
         },
         {
          "-300-0ms": -0.11666666666666485,
          "0-150ms": -0.4000000000000013,
          "150-450ms": -0.024390243902436926,
          "photo_id": 0
         },
         {
          "-300-0ms": 0.3333333333333357,
          "0-150ms": 5.74074074074075,
          "150-450ms": 0.3203252032520291,
          "photo_id": 0
         },
         {
          "-300-0ms": 0.5611111111111052,
          "0-150ms": -0.5111111111111196,
          "150-450ms": -2.804215536603162e-15,
          "photo_id": 0
         },
         {
          "-300-0ms": -0.16666666666667165,
          "0-150ms": 2.22222222222223,
          "150-450ms": -0.3902439024390245,
          "photo_id": 0
         },
         {
          "-300-0ms": -0.4555555555555613,
          "0-150ms": 17.622222222222273,
          "150-450ms": -0.07967479674797111,
          "photo_id": 0
         },
         {
          "-300-0ms": 1.966666666666663,
          "0-150ms": 13.654320987654364,
          "150-450ms": -0.43252032520325817,
          "photo_id": 0
         },
         {
          "-300-0ms": -0.622222222222221,
          "0-150ms": -1.264197530864193,
          "150-450ms": 2.881300813008112,
          "photo_id": 0
         },
         {
          "-300-0ms": 0.17777777777778092,
          "0-150ms": 2.9111111111111234,
          "150-450ms": 0.24227642276422456,
          "photo_id": 0
         },
         {
          "-300-0ms": -2.31111111111112,
          "0-150ms": -2.9827160493827143,
          "150-450ms": -0.2959349593495902,
          "photo_id": 0
         },
         {
          "-300-0ms": -1.677777777777781,
          "0-150ms": -2.730864197530881,
          "150-450ms": 0.06829268292683806,
          "photo_id": 0
         },
         {
          "-300-0ms": -0.6611111111111185,
          "0-150ms": 5.701234567901245,
          "150-450ms": -0.29430894308943045,
          "photo_id": 0
         },
         {
          "-300-0ms": -0.36111111111111377,
          "0-150ms": 0.8493827160493873,
          "150-450ms": -0.4926829268292679,
          "photo_id": 0
         },
         {
          "-300-0ms": -0.08333333333333708,
          "0-150ms": 3.861728395061743,
          "150-450ms": 1.8747967479674825,
          "photo_id": 0
         },
         {
          "-300-0ms": -1.3388888888889021,
          "0-150ms": 2.2543209876543315,
          "150-450ms": 0.03739837398374091,
          "photo_id": 0
         },
         {
          "-300-0ms": -2.654358974358967,
          "0-150ms": -3.836630036630037,
          "150-450ms": -2.8827838827838783,
          "photo_id": 0
         },
         {
          "-300-0ms": -0.4615384615384606,
          "0-150ms": 0.13699633699633787,
          "150-450ms": -0.34065934065934084,
          "photo_id": 0
         },
         {
          "-300-0ms": -0.6953846153846168,
          "0-150ms": 14.910622710622706,
          "150-450ms": 2.4029304029304073,
          "photo_id": 1
         },
         {
          "-300-0ms": 0.44512820512820533,
          "0-150ms": 0.1487179487179466,
          "150-450ms": -0.06959706959706817,
          "photo_id": 0
         },
         {
          "-300-0ms": 0.26461538461538403,
          "0-150ms": 2.708424908424908,
          "150-450ms": 0.4285714285714288,
          "photo_id": 0
         },
         {
          "-300-0ms": 0.9538461538461527,
          "0-150ms": 0.5758241758241761,
          "150-450ms": 0.21978021978021967,
          "photo_id": 0
         },
         {
          "-300-0ms": 2.13333333333333,
          "0-150ms": 4.115018315018317,
          "150-450ms": -0.1904761904761898,
          "photo_id": 0
         },
         {
          "-300-0ms": 0.436923076923077,
          "0-150ms": 2.0527472527472495,
          "150-450ms": -0.36630036630036544,
          "photo_id": 0
         },
         {
          "-300-0ms": -0.06358974358974304,
          "0-150ms": 1.5245421245421262,
          "150-450ms": -1.0805860805860805,
          "photo_id": 0
         },
         {
          "-300-0ms": 0.2399999999999994,
          "0-150ms": 0.047619047619047596,
          "150-450ms": -1.3155019438114713e-16,
          "photo_id": 0
         },
         {
          "-300-0ms": -0.5046153846153825,
          "0-150ms": -2.73260073260073,
          "150-450ms": 0.10256410256410263,
          "photo_id": 0
         },
         {
          "-300-0ms": -1.3907692307692294,
          "0-150ms": -1.1721611721611715,
          "150-450ms": -0.6117216117216118,
          "photo_id": 0
         },
         {
          "-300-0ms": -0.5353846153846148,
          "0-150ms": 0.03076923076923097,
          "150-450ms": -1.0256410256410255,
          "photo_id": 0
         },
         {
          "-300-0ms": -0.16410256410256388,
          "0-150ms": 0.46373626373626414,
          "150-450ms": -1.1794871794871795,
          "photo_id": 0
         },
         {
          "-300-0ms": -1.31487179487179,
          "0-150ms": -0.5150183150183143,
          "150-450ms": 0.32600732600732796,
          "photo_id": 0
         },
         {
          "-300-0ms": 1.5507692307692265,
          "0-150ms": 4.048351648351644,
          "150-450ms": 2.567765567765566,
          "photo_id": 0
         },
         {
          "-300-0ms": 10.549743589743574,
          "0-150ms": 45.631501831501815,
          "150-450ms": 2.282051282051291,
          "photo_id": 0
         },
         {
          "-300-0ms": 1.4194871794871757,
          "0-150ms": 9.345054945054937,
          "150-450ms": 0.9999999999999999,
          "photo_id": 0
         },
         {
          "-300-0ms": 0.8820512820512799,
          "0-150ms": 1.2666666666666655,
          "150-450ms": -0.14652014652014697,
          "photo_id": 0
         },
         {
          "-300-0ms": -6.171185539606584,
          "0-150ms": -3.552487776819089,
          "150-450ms": -0.8109161793372452,
          "photo_id": 0
         },
         {
          "-300-0ms": -4.59330143540665,
          "0-150ms": 30.356629278113356,
          "150-450ms": 1.1721897335932405,
          "photo_id": 0
         },
         {
          "-300-0ms": -0.3072833599149362,
          "0-150ms": -0.7845844118492957,
          "150-450ms": -0.8304093567251457,
          "photo_id": 0
         },
         {
          "-300-0ms": 1.7884104199893678,
          "0-150ms": 2.422778257118214,
          "150-450ms": -4.946718648473035,
          "photo_id": 0
         },
         {
          "-300-0ms": 1.077086656034026,
          "0-150ms": -1.0463042853034212,
          "150-450ms": -0.10851202079272143,
          "photo_id": 0
         },
         {
          "-300-0ms": -1.2323232323232307,
          "0-150ms": -0.12999712395743315,
          "150-450ms": 1.0318388564002616,
          "photo_id": 0
         },
         {
          "-300-0ms": 0.7729930887825649,
          "0-150ms": 1.1561691113028487,
          "150-450ms": -0.168940870695256,
          "photo_id": 0
         },
         {
          "-300-0ms": 2.0659223817118604,
          "0-150ms": 11.07506471095774,
          "150-450ms": -1.9122807017543912,
          "photo_id": 0
         },
         {
          "-300-0ms": 0.5178096757044092,
          "0-150ms": 1.1797526603393778,
          "150-450ms": 2.057829759584154,
          "photo_id": 0
         },
         {
          "-300-0ms": 0.7910685805422698,
          "0-150ms": -0.47569744032211786,
          "150-450ms": 0.6744639376218395,
          "photo_id": 0
         },
         {
          "-300-0ms": -1.1727804359383232,
          "0-150ms": 18.68449813057236,
          "150-450ms": -1.730994152046786,
          "photo_id": 0
         },
         {
          "-300-0ms": 0.015948963317386006,
          "0-150ms": 4.370434282427386,
          "150-450ms": -0.7342430149447715,
          "photo_id": 0
         },
         {
          "-300-0ms": -1.6608187134502905,
          "0-150ms": -0.33764739718147485,
          "150-450ms": -0.7115009746588684,
          "photo_id": 0
         },
         {
          "-300-0ms": 3.1323763955342883,
          "0-150ms": 5.597929249352897,
          "150-450ms": 0.2936972059779077,
          "photo_id": 0
         },
         {
          "-300-0ms": -2.145667198298773,
          "0-150ms": 3.480586712683353,
          "150-450ms": 0.5367121507472394,
          "photo_id": 0
         },
         {
          "-300-0ms": -1.2852564102564108,
          "0-150ms": -1.4756671899529026,
          "150-450ms": -1.0736670736670741,
          "photo_id": 0
         },
         {
          "-300-0ms": -0.33974358974358876,
          "0-150ms": -0.15175300889586432,
          "150-450ms": 0.0919820919820951,
          "photo_id": 0
         },
         {
          "-300-0ms": -2.5128205128205146,
          "0-150ms": 2.8749345892202993,
          "150-450ms": -2.260480260480261,
          "photo_id": 0
         },
         {
          "-300-0ms": -1.6442307692307707,
          "0-150ms": 0.35792778649922047,
          "150-450ms": -1.2942612942612952,
          "photo_id": 0
         },
         {
          "-300-0ms": -4.746794871794857,
          "0-150ms": 34.01151229722654,
          "150-450ms": -1.2714692714692635,
          "photo_id": 0
         },
         {
          "-300-0ms": 4.358974358974355,
          "0-150ms": -0.9000523286237572,
          "150-450ms": 0.911680911680914,
          "photo_id": 0
         },
         {
          "-300-0ms": -0.06089743589743457,
          "0-150ms": -0.5306122448979568,
          "150-450ms": -0.7846967846967844,
          "photo_id": 0
         },
         {
          "-300-0ms": -4.016025641025629,
          "0-150ms": -6.694924123495524,
          "150-450ms": -2.2271062271062227,
          "photo_id": 0
         },
         {
          "-300-0ms": 3.7884615384615317,
          "0-150ms": -1.792778649921507,
          "150-450ms": 2.2474562474562463,
          "photo_id": 0
         },
         {
          "-300-0ms": -0.0256410256410227,
          "0-150ms": -0.25745682888539956,
          "150-450ms": -0.568172568172567,
          "photo_id": 0
         },
         {
          "-300-0ms": 30.487179487179514,
          "0-150ms": 77.34693877551017,
          "150-450ms": -0.3215303215303103,
          "photo_id": 0
         },
         {
          "-300-0ms": 0.5416666666666697,
          "0-150ms": 0.5578231292517081,
          "150-450ms": 0.1546601546601587,
          "photo_id": 0
         },
         {
          "-300-0ms": -1.3782051282051284,
          "0-150ms": -0.9387755102040779,
          "150-450ms": -0.06674806674806587,
          "photo_id": 0
         },
         {
          "-300-0ms": 2.3589743589743595,
          "0-150ms": 0.24489795918367527,
          "150-450ms": 0.18640618640618797,
          "photo_id": 0
         },
         {
          "-300-0ms": 3.3653846153846163,
          "0-150ms": 2.142333856619569,
          "150-450ms": 0.02930402930402994,
          "photo_id": 0
         },
         {
          "-300-0ms": 1.2756410256410315,
          "0-150ms": -1.3469387755102014,
          "150-450ms": -0.6862026862026854,
          "photo_id": 0
         },
         {
          "-300-0ms": -3.9743589743589722,
          "0-150ms": 0.06279434850863817,
          "150-450ms": 0.3736263736263746,
          "photo_id": 0
         },
         {
          "-300-0ms": -1.2788461538461517,
          "0-150ms": 1.4264782836211394,
          "150-450ms": -0.5714285714285718,
          "photo_id": 0
         },
         {
          "-300-0ms": 0.9229024943310665,
          "0-150ms": -0.740041928721174,
          "150-450ms": 0.5105485232067505,
          "photo_id": 0
         },
         {
          "-300-0ms": -0.09523809523809505,
          "0-150ms": -0.25052410901467553,
          "150-450ms": 0.14486638537271423,
          "photo_id": 0
         },
         {
          "-300-0ms": -0.5578231292516959,
          "0-150ms": -1.262054507337526,
          "150-450ms": 0.2496483825597761,
          "photo_id": 0
         },
         {
          "-300-0ms": 0.3333333333333324,
          "0-150ms": 0.8427672955974833,
          "150-450ms": 0.07383966244725658,
          "photo_id": 0
         },
         {
          "-300-0ms": 1.913832199546487,
          "0-150ms": 6.402515723270434,
          "150-450ms": -0.7454289732770748,
          "photo_id": 0
         },
         {
          "-300-0ms": 0.2176870748299328,
          "0-150ms": 4.506857401743639e-17,
          "150-450ms": 0.6315049226441627,
          "photo_id": 0
         },
         {
          "-300-0ms": 0.045351473922907025,
          "0-150ms": 35.19706498951778,
          "150-450ms": 0.2264416315049249,
          "photo_id": 0
         },
         {
          "-300-0ms": -0.7392290249433092,
          "0-150ms": -1.3039832285115365,
          "150-450ms": 0.4803094233474001,
          "photo_id": 0
         },
         {
          "-300-0ms": -0.46031746031746046,
          "0-150ms": 7.637316561844859,
          "150-450ms": 0.6765119549929642,
          "photo_id": 0
         },
         {
          "-300-0ms": -1.1360544217687079,
          "0-150ms": 0.40356394129978995,
          "150-450ms": -0.7271448663853732,
          "photo_id": 0
         },
         {
          "-300-0ms": -0.12925170068027172,
          "0-150ms": 0.17610062893081815,
          "150-450ms": 1.6251758087201107,
          "photo_id": 0
         },
         {
          "-300-0ms": 0.7777777777777751,
          "0-150ms": -8.113207547169809,
          "150-450ms": -5.437412095639943,
          "photo_id": 0
         },
         {
          "-300-0ms": 4.784580498866212,
          "0-150ms": -3.1121593291404612,
          "150-450ms": 1.737693389592123,
          "photo_id": 0
         },
         {
          "-300-0ms": 0.7165532879818558,
          "0-150ms": 2.4339622641509373,
          "150-450ms": -0.18143459915612514,
          "photo_id": 1
         },
         {
          "-300-0ms": 5.988662131519255,
          "0-150ms": 55.53144654088046,
          "150-450ms": -4.504219409282714,
          "photo_id": 0
         },
         {
          "-300-0ms": -0.01587301587301304,
          "0-150ms": -0.27358490566037535,
          "150-450ms": 0.537974683544303,
          "photo_id": 0
         },
         {
          "-300-0ms": -1.451247165532881,
          "0-150ms": -0.5000000000000013,
          "150-450ms": 0.07454289732770746,
          "photo_id": 0
         },
         {
          "-300-0ms": 1.0612244897959202,
          "0-150ms": 0.3522012578616356,
          "150-450ms": 0.841772151898735,
          "photo_id": 0
         },
         {
          "-300-0ms": -0.2857142857142822,
          "0-150ms": 0.45178197064989384,
          "150-450ms": -1.3073136427566803,
          "photo_id": 0
         },
         {
          "-300-0ms": 0.6802721088435373,
          "0-150ms": -0.6257861635220119,
          "150-450ms": 1.6399437412095634,
          "photo_id": 0
         },
         {
          "-300-0ms": -1.7596371882086148,
          "0-150ms": 2.5387840670859507,
          "150-450ms": -1.3699015471167373,
          "photo_id": 0
         },
         {
          "-300-0ms": -4.353741496598636,
          "0-150ms": 3.703354297693913,
          "150-450ms": -1.2271448663853726,
          "photo_id": 0
         },
         {
          "-300-0ms": 0.5668934240362811,
          "0-150ms": -0.27777777777777785,
          "150-450ms": 0.28410689170182785,
          "photo_id": 0
         },
         {
          "-300-0ms": -0.15151515151515507,
          "0-150ms": 2.6707616707616695,
          "150-450ms": -0.3163091590057869,
          "photo_id": 0
         },
         {
          "-300-0ms": -0.07575757575757824,
          "0-150ms": -1.3439803439803397,
          "150-450ms": -0.9417773237997906,
          "photo_id": 0
         },
         {
          "-300-0ms": -1.8787878787878671,
          "0-150ms": -1.9631449631449582,
          "150-450ms": -3.1807967313585124,
          "photo_id": 0
         },
         {
          "-300-0ms": -0.8636363636363581,
          "0-150ms": 0.6445536445536438,
          "150-450ms": -0.0017024174327504905,
          "photo_id": 0
         },
         {
          "-300-0ms": 0.015151515151515046,
          "0-150ms": -0.3775593775593755,
          "150-450ms": -0.792986040177046,
          "photo_id": 0
         },
         {
          "-300-0ms": 0.28787878787879406,
          "0-150ms": 0.4832104832104798,
          "150-450ms": 1.2488934286687117,
          "photo_id": 0
         },
         {
          "-300-0ms": -0.015151515151514805,
          "0-150ms": 0.4742014742014679,
          "150-450ms": 0.4770173646578126,
          "photo_id": 0
         },
         {
          "-300-0ms": -1.4696969696969753,
          "0-150ms": 8.534807534807479,
          "150-450ms": -0.13278855975485168,
          "photo_id": 0
         },
         {
          "-300-0ms": -3.3030303030302264,
          "0-150ms": 6.692055692055697,
          "150-450ms": -0.554307116104849,
          "photo_id": 1
         },
         {
          "-300-0ms": -1.742424242424203,
          "0-150ms": -1.7297297297297165,
          "150-450ms": -0.9731018045624613,
          "photo_id": 0
         },
         {
          "-300-0ms": -3.696969696969663,
          "0-150ms": 12.846027846027818,
          "150-450ms": -2.18658495062988,
          "photo_id": 0
         },
         {
          "-300-0ms": 1.2121212121212124,
          "0-150ms": 0.6912366912366897,
          "150-450ms": -0.013278855975484373,
          "photo_id": 0
         },
         {
          "-300-0ms": -8.378787878787838,
          "0-150ms": -2.9352989352988974,
          "150-450ms": -4.080354102825998,
          "photo_id": 0
         },
         {
          "-300-0ms": 5.0757575757575415,
          "0-150ms": 9.452907452907438,
          "150-450ms": 4.8219271365338505,
          "photo_id": 0
         },
         {
          "-300-0ms": -3.515151515151482,
          "0-150ms": 7.210483210483211,
          "150-450ms": 0.5512427647259248,
          "photo_id": 0
         },
         {
          "-300-0ms": 0.5151515151514955,
          "0-150ms": 0.4406224406224339,
          "150-450ms": 1.1171263193734917,
          "photo_id": 0
         },
         {
          "-300-0ms": 1.5454545454545443,
          "0-150ms": -0.5782145782145803,
          "150-450ms": 1.175008512087154,
          "photo_id": 0
         },
         {
          "-300-0ms": -1.1212121212120978,
          "0-150ms": 5.004095004094991,
          "150-450ms": 0.17773237997956692,
          "photo_id": 0
         },
         {
          "-300-0ms": 1.106060606060598,
          "0-150ms": 0.46109746109745275,
          "150-450ms": 1.4256043581886326,
          "photo_id": 0
         },
         {
          "-300-0ms": 0.18181818181818332,
          "0-150ms": 1.1588861588861523,
          "150-450ms": 0.2747701736465767,
          "photo_id": 0
         },
         {
          "-300-0ms": 0.1666666666666763,
          "0-150ms": -1.5708435708435664,
          "150-450ms": 0.5989104528430486,
          "photo_id": 0
         },
         {
          "-300-0ms": 1.4393939393939343,
          "0-150ms": 6.381654381654371,
          "150-450ms": 0.7184201566223992,
          "photo_id": 0
         },
         {
          "-300-0ms": -2.409090909090847,
          "0-150ms": 5.994266994267012,
          "150-450ms": -2.364317330609439,
          "photo_id": 0
         },
         {
          "-300-0ms": -0.5303030303030286,
          "0-150ms": -1.5790335790335697,
          "150-450ms": -0.5182158665304717,
          "photo_id": 1
         },
         {
          "-300-0ms": -0.1666666666666633,
          "0-150ms": -0.3832923832923809,
          "150-450ms": -0.5869935308137505,
          "photo_id": 0
         },
         {
          "-300-0ms": -5.916666666666674,
          "0-150ms": 13.583333333333321,
          "150-450ms": -1.2681372549019765,
          "photo_id": 0
         },
         {
          "-300-0ms": 0.1111111111111096,
          "0-150ms": 0.8333333333333343,
          "150-450ms": 0.13774509803921528,
          "photo_id": 0
         },
         {
          "-300-0ms": 1.5277777777777786,
          "0-150ms": -0.03333333333333555,
          "150-450ms": 0.8058823529411782,
          "photo_id": 0
         },
         {
          "-300-0ms": -0.888888888888895,
          "0-150ms": 11.77499999999999,
          "150-450ms": -1.229411764705884,
          "photo_id": 0
         },
         {
          "-300-0ms": 0.3055555555555555,
          "0-150ms": 0.9333333333333328,
          "150-450ms": -0.15098039215686188,
          "photo_id": 0
         },
         {
          "-300-0ms": 0.9722222222222214,
          "0-150ms": -0.11666666666666758,
          "150-450ms": 0.2906862745098035,
          "photo_id": 0
         },
         {
          "-300-0ms": 0.2777777777777785,
          "0-150ms": -0.20000000000000004,
          "150-450ms": -0.20294117647058785,
          "photo_id": 0
         },
         {
          "-300-0ms": -0.1944444444444456,
          "0-150ms": -0.2583333333333313,
          "150-450ms": -0.5980392156862709,
          "photo_id": 0
         },
         {
          "-300-0ms": -2.027777777777778,
          "0-150ms": -4.149999999999997,
          "150-450ms": 1.6882352941176457,
          "photo_id": 0
         },
         {
          "-300-0ms": 1.0555555555555547,
          "0-150ms": -0.49166666666666675,
          "150-450ms": 0.9651960784313717,
          "photo_id": 0
         },
         {
          "-300-0ms": 0.08333333333333387,
          "0-150ms": -1.8499999999999994,
          "150-450ms": 0.473529411764706,
          "photo_id": 0
         },
         {
          "-300-0ms": 7.80555555555555,
          "0-150ms": -1.1916666666666704,
          "150-450ms": 3.6995098039215732,
          "photo_id": 0
         },
         {
          "-300-0ms": 1.3055555555555582,
          "0-150ms": 0.366666666666667,
          "150-450ms": 2.637745098039209,
          "photo_id": 0
         },
         {
          "-300-0ms": 0.027777777777778918,
          "0-150ms": -0.10833333333333216,
          "150-450ms": 0.27254901960784356,
          "photo_id": 0
         },
         {
          "-300-0ms": -2.11111111111111,
          "0-150ms": 3.0583333333333282,
          "150-450ms": -0.7754901960784308,
          "photo_id": 0
         },
         {
          "-300-0ms": 0.4444444444444427,
          "0-150ms": 11.149999999999983,
          "150-450ms": -1.1872549019607848,
          "photo_id": 0
         },
         {
          "-300-0ms": 0.08333333333333359,
          "0-150ms": -0.5500000000000002,
          "150-450ms": -0.13431372549019574,
          "photo_id": 0
         },
         {
          "-300-0ms": -4.86111111111111,
          "0-150ms": 1.8250000000000004,
          "150-450ms": -0.16470588235294073,
          "photo_id": 0
         },
         {
          "-300-0ms": 3.888888888888886,
          "0-150ms": 4.958333333333328,
          "150-450ms": 2.337745098039211,
          "photo_id": 0
         },
         {
          "-300-0ms": 1.694444444444444,
          "0-150ms": 6.374999999999992,
          "150-450ms": 6.62205882352941,
          "photo_id": 0
         },
         {
          "-300-0ms": 1.472222222222219,
          "0-150ms": 1.0416666666666663,
          "150-450ms": 0.8549019607843116,
          "photo_id": 0
         },
         {
          "-300-0ms": 6.333333333333332,
          "0-150ms": 0.07499999999997946,
          "150-450ms": -2.8960784313725507,
          "photo_id": 0
         },
         {
          "-300-0ms": 1.8611111111111125,
          "0-150ms": -2.6833333333333322,
          "150-450ms": -0.5308823529411754,
          "photo_id": 0
         },
         {
          "-300-0ms": -1.3333333333333324,
          "0-150ms": -1.3166666666666669,
          "150-450ms": -0.3475490196078444,
          "photo_id": 0
         },
         {
          "-300-0ms": 1.1388888888888886,
          "0-150ms": -0.3083333333333346,
          "150-450ms": -1.6034313725490188,
          "photo_id": 0
         },
         {
          "-300-0ms": -2.3055555555555602,
          "0-150ms": 2.883333333333326,
          "150-450ms": -2.2789215686274553,
          "photo_id": 0
         },
         {
          "-300-0ms": -1.4444444444444453,
          "0-150ms": -0.20000000000000387,
          "150-450ms": 0.22303921568627505,
          "photo_id": 0
         },
         {
          "-300-0ms": 0.3333333333333331,
          "0-150ms": 3.4083333333333337,
          "150-450ms": 0.03431372549019346,
          "photo_id": 0
         },
         {
          "-300-0ms": 0.6259259259259387,
          "0-150ms": 3.129353233830851,
          "150-450ms": -0.31324200913240513,
          "photo_id": 0
         },
         {
          "-300-0ms": -6.222222222222289,
          "0-150ms": 7.231343283582148,
          "150-450ms": -8.636529680365316,
          "photo_id": 0
         },
         {
          "-300-0ms": 0.04444444444444077,
          "0-150ms": 2.7597014925372996,
          "150-450ms": 0.28310502283104877,
          "photo_id": 0
         },
         {
          "-300-0ms": 4.229629629629619,
          "0-150ms": 5.742786069651712,
          "150-450ms": 8.28173515981729,
          "photo_id": 0
         },
         {
          "-300-0ms": -6.700000000000009,
          "0-150ms": 3.9029850746268964,
          "150-450ms": -2.985388127853876,
          "photo_id": 0
         },
         {
          "-300-0ms": -0.681481481481466,
          "0-150ms": -0.33582089552238487,
          "150-450ms": -0.3634703196346918,
          "photo_id": 0
         },
         {
          "-300-0ms": 2.200000000000072,
          "0-150ms": -0.9636815920397431,
          "150-450ms": -0.46255707762556547,
          "photo_id": 0
         },
         {
          "-300-0ms": -3.711111111111119,
          "0-150ms": -1.7621890547263535,
          "150-450ms": -0.47168949771689633,
          "photo_id": 0
         },
         {
          "-300-0ms": 0.5740740740740712,
          "0-150ms": 0.04228855721392669,
          "150-450ms": 0.4109589041095852,
          "photo_id": 0
         },
         {
          "-300-0ms": -0.9222222222222456,
          "0-150ms": -10.163681592039723,
          "150-450ms": -1.0831050228310566,
          "photo_id": 0
         },
         {
          "-300-0ms": 1.0592592592592422,
          "0-150ms": -0.11492537313432698,
          "150-450ms": 0.14155251141553177,
          "photo_id": 0
         },
         {
          "-300-0ms": 0.8703703703703717,
          "0-150ms": 3.645273631840775,
          "150-450ms": 0.35890410958903446,
          "photo_id": 0
         },
         {
          "-300-0ms": 2.596296296296296,
          "0-150ms": -1.128855721393025,
          "150-450ms": 0.7675799086758004,
          "photo_id": 0
         },
         {
          "-300-0ms": -0.6666666666666664,
          "0-150ms": -0.6417910447761054,
          "150-450ms": -3.428310502283082,
          "photo_id": 0
         },
         {
          "-300-0ms": -1.5629629629629715,
          "0-150ms": 7.810447761194003,
          "150-450ms": -0.5356164383561638,
          "photo_id": 0
         },
         {
          "-300-0ms": -6.662962962962933,
          "0-150ms": -6.381094527363115,
          "150-450ms": -6.342922374429172,
          "photo_id": 0
         },
         {
          "-300-0ms": 0.3221850613154814,
          "0-150ms": 3.897170462387859,
          "150-450ms": -0.21404682274247433,
          "photo_id": 0
         },
         {
          "-300-0ms": -0.21627647714605025,
          "0-150ms": 1.9296066252588018,
          "150-450ms": 0.5169082125603877,
          "photo_id": 0
         },
         {
          "-300-0ms": 0.11817168338907662,
          "0-150ms": 0.23947550034506546,
          "150-450ms": 0.4188034188034227,
          "photo_id": 0
         },
         {
          "-300-0ms": -0.20847268673356542,
          "0-150ms": 2.5928226363008995,
          "150-450ms": -0.19286510590858497,
          "photo_id": 0
         },
         {
          "-300-0ms": 0.04347826086956844,
          "0-150ms": 0.8274672187715674,
          "150-450ms": -0.3403939056112965,
          "photo_id": 0
         },
         {
          "-300-0ms": -0.6243032329988948,
          "0-150ms": 2.4768806073153957,
          "150-450ms": 0.47305834262354995,
          "photo_id": 0
         },
         {
          "-300-0ms": 0.6187290969899518,
          "0-150ms": 2.55348516218081,
          "150-450ms": 2.694537346711266,
          "photo_id": 0
         },
         {
          "-300-0ms": 0.2519509476031158,
          "0-150ms": -0.825396825396829,
          "150-450ms": 0.09810479375696464,
          "photo_id": 0
         },
         {
          "-300-0ms": 0.2597547380156085,
          "0-150ms": -1.4237405106970338,
          "150-450ms": 0.20884429580081484,
          "photo_id": 0
         },
         {
          "-300-0ms": 0.057971014492757815,
          "0-150ms": 0.7681159420289858,
          "150-450ms": 0.09476031215161547,
          "photo_id": 0
         },
         {
          "-300-0ms": -0.49386845039024996,
          "0-150ms": 52.48654244306429,
          "150-450ms": 1.6425120772946782,
          "photo_id": 0
         },
         {
          "-300-0ms": -0.3010033444816016,
          "0-150ms": 0.015873015873013114,
          "150-450ms": 2.5930880713489386,
          "photo_id": 0
         },
         {
          "-300-0ms": -0.438127090301006,
          "0-150ms": 0.0531400966183578,
          "150-450ms": -0.3745819397993317,
          "photo_id": 0
         },
         {
          "-300-0ms": 0.1806020066889765,
          "0-150ms": 1.506556245686679,
          "150-450ms": 0.12225938312894254,
          "photo_id": 0
         },
         {
          "-300-0ms": -0.05462653288735512,
          "0-150ms": -4.5804002760524725,
          "150-450ms": -2.316610925306598,
          "photo_id": 0
         },
         {
          "-300-0ms": -0.25752508361204923,
          "0-150ms": -1.1249137336093868,
          "150-450ms": -0.6737272389446313,
          "photo_id": 0
         },
         {
          "-300-0ms": 0.3723522853957663,
          "0-150ms": 0.21601104209799651,
          "150-450ms": 0.6674098848011857,
          "photo_id": 0
         },
         {
          "-300-0ms": -1.860646599776995,
          "0-150ms": 11.079365079365099,
          "150-450ms": -2.4002229654403697,
          "photo_id": 0
         },
         {
          "-300-0ms": -0.28428093645484837,
          "0-150ms": -0.6501035196687379,
          "150-450ms": -0.5180230397621716,
          "photo_id": 0
         },
         {
          "-300-0ms": 0.0780379041248588,
          "0-150ms": 2.5859213250517628,
          "150-450ms": 1.3359345968041572,
          "photo_id": 0
         },
         {
          "-300-0ms": 0.3957636566332241,
          "0-150ms": 0.180124223602484,
          "150-450ms": -0.26941657376440203,
          "photo_id": 0
         },
         {
          "-300-0ms": 1.3177257525083532,
          "0-150ms": -0.07039337474119955,
          "150-450ms": 0.9628390932738743,
          "photo_id": 0
         },
         {
          "-300-0ms": 0.2185061315496124,
          "0-150ms": 1.4237405106970338,
          "150-450ms": -0.09067261241174546,
          "photo_id": 0
         },
         {
          "-300-0ms": -0.9152731326644364,
          "0-150ms": -0.6093857832988272,
          "150-450ms": -0.5020438498699378,
          "photo_id": 0
         },
         {
          "-300-0ms": 0.02675585284282452,
          "0-150ms": 8.535541752933076,
          "150-450ms": 0.16499442586398724,
          "photo_id": 0
         },
         {
          "-300-0ms": -1.9083490269930747,
          "0-150ms": 3.964387464387467,
          "150-450ms": -2.2150537634408387,
          "photo_id": 0
         },
         {
          "-300-0ms": 1.2944130571249255,
          "0-150ms": 3.6196581196581206,
          "150-450ms": 0.9462365591397862,
          "photo_id": 0
         },
         {
          "-300-0ms": -0.14814814814814628,
          "0-150ms": 2.658119658119659,
          "150-450ms": -0.9534050179211446,
          "photo_id": 0
         },
         {
          "-300-0ms": -0.08411801632139453,
          "0-150ms": 11.22222222222222,
          "150-450ms": 0.7694145758661987,
          "photo_id": 0
         },
         {
          "-300-0ms": 0.06026365348399374,
          "0-150ms": 0.5997150997151005,
          "150-450ms": 0.3464755077658311,
          "photo_id": 0
         },
         {
          "-300-0ms": -1.119899560577525,
          "0-150ms": -0.8105413105413136,
          "150-450ms": -3.18279569892473,
          "photo_id": 0
         },
         {
          "-300-0ms": -0.1155053358443181,
          "0-150ms": 0.3974358974358972,
          "150-450ms": -0.013142174432497456,
          "photo_id": 0
         },
         {
          "-300-0ms": -1.5317011927181408,
          "0-150ms": 3.6623931623931676,
          "150-450ms": -0.5758661887694146,
          "photo_id": 0
         },
         {
          "-300-0ms": -0.6290018832391722,
          "0-150ms": -1.2564102564102586,
          "150-450ms": 0.8387096774193594,
          "photo_id": 0
         },
         {
          "-300-0ms": 0.7319522912743217,
          "0-150ms": 1.7920227920227971,
          "150-450ms": -0.7156511350059728,
          "photo_id": 0
         },
         {
          "-300-0ms": -2.4745762711864274,
          "0-150ms": 7.810541310541314,
          "150-450ms": -0.5890083632019089,
          "photo_id": 0
         },
         {
          "-300-0ms": -0.11927181418707004,
          "0-150ms": -2.20797720797721,
          "150-450ms": 1.8470728793309439,
          "photo_id": 0
         },
         {
          "-300-0ms": 0.3640929064657919,
          "0-150ms": 0.4045584045584036,
          "150-450ms": -0.16965352449223228,
          "photo_id": 0
         },
         {
          "-300-0ms": 1.2981795354676706,
          "0-150ms": -0.45014245014245,
          "150-450ms": -0.38590203106332005,
          "photo_id": 0
         },
         {
          "-300-0ms": -8.527306967984929,
          "0-150ms": 3.410256410256407,
          "150-450ms": -11.750298685782539,
          "photo_id": 0
         },
         {
          "-300-0ms": 3.3270558694287673,
          "0-150ms": 44.192307692307715,
          "150-450ms": -2.6117084826762116,
          "photo_id": 0
         },
         {
          "-300-0ms": -1.529190207156309,
          "0-150ms": -1.1652421652421658,
          "150-450ms": 0.9976105137395472,
          "photo_id": 0
         },
         {
          "-300-0ms": 1.1776522284996904,
          "0-150ms": 0.18518518518518604,
          "150-450ms": 1.1397849462365601,
          "photo_id": 0
         },
         {
          "-300-0ms": -0.37162586315128715,
          "0-150ms": 0.44586894586894604,
          "150-450ms": 0.18518518518518756,
          "photo_id": 0
         },
         {
          "-300-0ms": -10.34526051475203,
          "0-150ms": 5.168091168091178,
          "150-450ms": -7.434886499402611,
          "photo_id": 0
         },
         {
          "-300-0ms": -2.7696170747018165,
          "0-150ms": 7.5256410256410255,
          "150-450ms": -3.2270011947431225,
          "photo_id": 0
         },
         {
          "-300-0ms": -4.085373509102331,
          "0-150ms": 3.800569800569796,
          "150-450ms": -4.126642771804062,
          "photo_id": 0
         },
         {
          "-300-0ms": 1.5950062421972564,
          "0-150ms": 5.905982905982899,
          "150-450ms": 1.5939736346516016,
          "photo_id": 0
         },
         {
          "-300-0ms": 0.9982521847690368,
          "0-150ms": 3.1658119658119612,
          "150-450ms": 1.7943502824858737,
          "photo_id": 0
         },
         {
          "-300-0ms": 1.3568039950062432,
          "0-150ms": 4.218803418803415,
          "150-450ms": 2.563841807909601,
          "photo_id": 0
         },
         {
          "-300-0ms": -1.1550561797752819,
          "0-150ms": 2.6290598290598264,
          "150-450ms": 0.024858757062146946,
          "photo_id": 0
         },
         {
          "-300-0ms": -3.792759051186005,
          "0-150ms": 18.304273504273493,
          "150-450ms": 2.255367231638423,
          "photo_id": 0
         },
         {
          "-300-0ms": -0.0259675405742813,
          "0-150ms": 1.0410256410256418,
          "150-450ms": -0.04670433145009362,
          "photo_id": 0
         },
         {
          "-300-0ms": 0.3690387016229706,
          "0-150ms": -0.8683760683760674,
          "150-450ms": -0.9047080979284355,
          "photo_id": 0
         },
         {
          "-300-0ms": 0.5912609238451912,
          "0-150ms": -0.10940170940170824,
          "150-450ms": -0.12278719397363524,
          "photo_id": 0
         },
         {
          "-300-0ms": 0.4019975031210992,
          "0-150ms": -0.9811965811965807,
          "150-450ms": 1.1450094161958568,
          "photo_id": 0
         },
         {
          "-300-0ms": -0.20224719101123625,
          "0-150ms": -0.16923076923076927,
          "150-450ms": 0.2787193973634647,
          "photo_id": 0
         },
         {
          "-300-0ms": -0.8684144818976259,
          "0-150ms": 5.796581196581194,
          "150-450ms": 0.5013182674199618,
          "photo_id": 0
         },
         {
          "-300-0ms": -0.1887640449438204,
          "0-150ms": -0.11111111111111044,
          "150-450ms": 0.1694915254237285,
          "photo_id": 0
         },
         {
          "-300-0ms": -0.760049937578028,
          "0-150ms": -0.8683760683760688,
          "150-450ms": 0.1378531073446323,
          "photo_id": 0
         },
         {
          "-300-0ms": 1.2774032459425764,
          "0-150ms": 5.348717948717944,
          "150-450ms": -0.4056497175141253,
          "photo_id": 0
         },
         {
          "-300-0ms": 2.9258426966292164,
          "0-150ms": 4.189743589743586,
          "150-450ms": 0.2983050847457618,
          "photo_id": 0
         },
         {
          "-300-0ms": -5.081148564294632,
          "0-150ms": 6.437606837606826,
          "150-450ms": -2.2256120527306984,
          "photo_id": 0
         },
         {
          "-300-0ms": -0.3390761548064897,
          "0-150ms": -0.8923076923076936,
          "150-450ms": 1.323540489642185,
          "photo_id": 0
         },
         {
          "-300-0ms": 0.21523096129837846,
          "0-150ms": 1.4239316239316222,
          "150-450ms": 0.578907721280603,
          "photo_id": 0
         },
         {
          "-300-0ms": -1.8616729088639243,
          "0-150ms": 2.3230769230769215,
          "150-450ms": 4.41468926553672,
          "photo_id": 0
         },
         {
          "-300-0ms": 0.05742821473158546,
          "0-150ms": -0.41880341880341887,
          "150-450ms": 0.8271186440677963,
          "photo_id": 0
         },
         {
          "-300-0ms": -1.2933832709113593,
          "0-150ms": -0.9299145299145293,
          "150-450ms": 1.1487758945386048,
          "photo_id": 0
         },
         {
          "-300-0ms": 0.8409488139825232,
          "0-150ms": 1.8427350427350409,
          "150-450ms": 0.67909604519774,
          "photo_id": 0
         },
         {
          "-300-0ms": 0.3510611735330847,
          "0-150ms": 10.941880341880326,
          "150-450ms": -0.3013182674199656,
          "photo_id": 0
         },
         {
          "-300-0ms": -1.1831831831831952,
          "0-150ms": -8.944444444444455,
          "150-450ms": 2.4222222222222087,
          "photo_id": 0
         },
         {
          "-300-0ms": 2.8108108108108065,
          "0-150ms": -0.18627450980391505,
          "150-450ms": 7.422222222222221,
          "photo_id": 0
         },
         {
          "-300-0ms": 1.5135135135135196,
          "0-150ms": 0.33333333333333753,
          "150-450ms": 4.93333333333334,
          "photo_id": 0
         },
         {
          "-300-0ms": 0.40240240240241265,
          "0-150ms": 5.091503267973855,
          "150-450ms": 5.033333333333345,
          "photo_id": 0
         },
         {
          "-300-0ms": 6.858858858858852,
          "0-150ms": -8.93464052287581,
          "150-450ms": -6.533333333333361,
          "photo_id": 0
         },
         {
          "-300-0ms": 6.498498498498538,
          "0-150ms": 13.64052287581699,
          "150-450ms": 4.244444444444448,
          "photo_id": 0
         },
         {
          "-300-0ms": 4.624624624624631,
          "0-150ms": 2.055555555555545,
          "150-450ms": -0.3111111111111035,
          "photo_id": 0
         },
         {
          "-300-0ms": -3.765765765765749,
          "0-150ms": 8.950980392156863,
          "150-450ms": 0.288888888888893,
          "photo_id": 0
         },
         {
          "-300-0ms": 2.1081081081081106,
          "0-150ms": -0.24183006535949092,
          "150-450ms": 2.0555555555555522,
          "photo_id": 0
         },
         {
          "-300-0ms": -9.897897897897888,
          "0-150ms": -6.947712418300662,
          "150-450ms": 0.09999999999999236,
          "photo_id": 0
         },
         {
          "-300-0ms": -2.4324324324324347,
          "0-150ms": -4.019607843137247,
          "150-450ms": 1.711111111111115,
          "photo_id": 0
         },
         {
          "-300-0ms": 1.4054054054054106,
          "0-150ms": 2.235294117647063,
          "150-450ms": 2.099999999999992,
          "photo_id": 0
         },
         {
          "-300-0ms": -0.37237237237237525,
          "0-150ms": 0.6209150326797374,
          "150-450ms": 0.5111111111111076,
          "photo_id": 0
         },
         {
          "-300-0ms": -8.204204204204197,
          "0-150ms": -4.287581699346396,
          "150-450ms": -0.16666666666667626,
          "photo_id": 0
         },
         {
          "-300-0ms": 0.23423423423423242,
          "0-150ms": 0.12745098039215538,
          "150-450ms": 2.811111111111105,
          "photo_id": 0
         },
         {
          "-300-0ms": 0.46846846846846996,
          "0-150ms": 0.4215686274509796,
          "150-450ms": 0.5222222222222223,
          "photo_id": 0
         },
         {
          "-300-0ms": -20.81081081081079,
          "0-150ms": 0.39215686274511175,
          "150-450ms": -7.833333333333333,
          "photo_id": 0
         },
         {
          "-300-0ms": 1.927927927927933,
          "0-150ms": 1.6437908496732139,
          "150-450ms": 3.366666666666669,
          "photo_id": 0
         },
         {
          "-300-0ms": 4.5285285285285175,
          "0-150ms": 0.16993464052288618,
          "150-450ms": -3.799999999999992,
          "photo_id": 0
         },
         {
          "-300-0ms": 2.1261261261261475,
          "0-150ms": 9.078431372549026,
          "150-450ms": 3.6000000000000014,
          "photo_id": 0
         },
         {
          "-300-0ms": 5.069069069069093,
          "0-150ms": 3.5196078431372655,
          "150-450ms": 9.611111111111105,
          "photo_id": 0
         },
         {
          "-300-0ms": 0.79879879879879,
          "0-150ms": 2.604575163398706,
          "150-450ms": -0.18888888888888675,
          "photo_id": 0
         },
         {
          "-300-0ms": 2.4622222222222248,
          "0-150ms": -1.4525252525252552,
          "150-450ms": 0.2814814814814808,
          "photo_id": 0
         },
         {
          "-300-0ms": 0.2755555555555591,
          "0-150ms": 0.6181818181818242,
          "150-450ms": 3.251851851851852,
          "photo_id": 0
         },
         {
          "-300-0ms": 0.5777777777777863,
          "0-150ms": 6.943434343434352,
          "150-450ms": 0.8666666666666694,
          "photo_id": 0
         },
         {
          "-300-0ms": 0.6577777777777856,
          "0-150ms": 3.0222222222222235,
          "150-450ms": 0.3111111111111113,
          "photo_id": 0
         },
         {
          "-300-0ms": -0.204444444444442,
          "0-150ms": -2.644444444444447,
          "150-450ms": 1.629629629629636,
          "photo_id": 0
         },
         {
          "-300-0ms": 1.182222222222223,
          "0-150ms": 0.177777777777777,
          "150-450ms": -0.05185185185185117,
          "photo_id": 0
         },
         {
          "-300-0ms": 3.7955555555555787,
          "0-150ms": -1.1676767676767772,
          "150-450ms": -3.0444444444444465,
          "photo_id": 0
         },
         {
          "-300-0ms": 0.12444444444444469,
          "0-150ms": -8.944346396713947e-17,
          "150-450ms": 1.0814814814814822,
          "photo_id": 0
         },
         {
          "-300-0ms": 0.14222222222222233,
          "0-150ms": -0.0181818181818183,
          "150-450ms": -0.08148148148148242,
          "photo_id": 0
         },
         {
          "-300-0ms": -0.6400000000000007,
          "0-150ms": -0.7333333333333337,
          "150-450ms": 1.4666666666666661,
          "photo_id": 0
         },
         {
          "-300-0ms": 2.035555555555558,
          "0-150ms": -0.37979797979798063,
          "150-450ms": 1.2222222222222237,
          "photo_id": 0
         },
         {
          "-300-0ms": -0.6222222222222197,
          "0-150ms": -2.254545454545462,
          "150-450ms": -4.48148148148148,
          "photo_id": 0
         },
         {
          "-300-0ms": -1.3333333333333302,
          "0-150ms": 1.6969696969696952,
          "150-450ms": 0.177777777777778,
          "photo_id": 0
         },
         {
          "-300-0ms": 0.648888888888891,
          "0-150ms": 1.4808080808080806,
          "150-450ms": 1.0518518518518498,
          "photo_id": 0
         },
         {
          "-300-0ms": 2.8266666666666738,
          "0-150ms": 4.323232323232323,
          "150-450ms": -2.5037037037037035,
          "photo_id": 0
         },
         {
          "-300-0ms": 0.6044444444444487,
          "0-150ms": 1.6343434343434344,
          "150-450ms": 1.1555555555555574,
          "photo_id": 0
         },
         {
          "-300-0ms": -0.11555555555554993,
          "0-150ms": 0.626262626262625,
          "150-450ms": -3.9481481481481553,
          "photo_id": 0
         },
         {
          "-300-0ms": 0.1422222222222184,
          "0-150ms": 1.8505050505050342,
          "150-450ms": -4.5777777777777935,
          "photo_id": 0
         },
         {
          "-300-0ms": -0.7111111111111087,
          "0-150ms": -0.4787878787878765,
          "150-450ms": 1.5703703703703733,
          "photo_id": 0
         },
         {
          "-300-0ms": -0.6133333333333183,
          "0-150ms": -3.4686868686868824,
          "150-450ms": -0.14074074074074044,
          "photo_id": 0
         },
         {
          "-300-0ms": -0.9569892473118286,
          "0-150ms": 1.136044176706828,
          "150-450ms": 0.9828767123287675,
          "photo_id": 0
         },
         {
          "-300-0ms": -0.1845878136200734,
          "0-150ms": 3.127008032128513,
          "150-450ms": 0.15525114155250969,
          "photo_id": 0
         },
         {
          "-300-0ms": 0.2517921146953422,
          "0-150ms": 15.178212851405627,
          "150-450ms": 3.8224885844748875,
          "photo_id": 0
         },
         {
          "-300-0ms": 0.23655913978494492,
          "0-150ms": -0.08132530120481957,
          "150-450ms": 0.16780821917808109,
          "photo_id": 0
         },
         {
          "-300-0ms": 0.19265232974910362,
          "0-150ms": -1.1305220883534137,
          "150-450ms": 0.2985159817351593,
          "photo_id": 0
         },
         {
          "-300-0ms": 0.9390681003584215,
          "0-150ms": -1.1490963855421665,
          "150-450ms": -0.06906392694063848,
          "photo_id": 0
         },
         {
          "-300-0ms": 0.2320788530465959,
          "0-150ms": 12.644578313253014,
          "150-450ms": 3.5861872146118725,
          "photo_id": 0
         },
         {
          "-300-0ms": 1.3198924731182753,
          "0-150ms": 4.906626506024099,
          "150-450ms": -3.2762557077625583,
          "photo_id": 0
         },
         {
          "-300-0ms": -2.322580645161296,
          "0-150ms": 3.5321285140562266,
          "150-450ms": 3.4355022831050257,
          "photo_id": 0
         },
         {
          "-300-0ms": -0.5313620071684608,
          "0-150ms": 4.830321285140561,
          "150-450ms": 0.27168949771689593,
          "photo_id": 0
         }
        ]
       },
       "facet": {
        "column": {
         "field": "photo_id",
         "type": "nominal"
        }
       },
       "spec": {
        "encoding": {
         "color": {
          "field": "photo_id",
          "type": "nominal"
         },
         "x": {
          "field": "0-150ms",
          "type": "quantitative"
         },
         "y": {
          "field": "150-450ms",
          "type": "quantitative"
         }
        },
        "mark": "point",
        "selection": {
         "selector004": {
          "bind": "scales",
          "encodings": [
           "x",
           "y"
          ],
          "mark": {
           "fill": "#333",
           "fillOpacity": 0.125,
           "stroke": "white"
          },
          "on": "[mousedown, window:mouseup] > window:mousemove!",
          "resolve": "global",
          "translate": "[mousedown, window:mouseup] > window:mousemove!",
          "type": "interval",
          "zoom": "wheel!"
         }
        }
       }
      },
      "text/plain": [
       "<VegaLite 2 object>"
      ]
     },
     "execution_count": 20,
     "metadata": {},
     "output_type": "execute_result"
    }
   ],
   "source": [
    "alt.Chart(data).mark_point().encode(\n",
    "    x='0-150ms',\n",
    "    y='150-450ms',\n",
    "    color='photo_id:N',\n",
    ").facet(column='photo_id:N').interactive()\n"
   ]
  },
  {
   "cell_type": "code",
   "execution_count": null,
   "metadata": {},
   "outputs": [],
   "source": []
  }
 ],
 "metadata": {
  "kernelspec": {
   "display_name": "Python 3",
   "language": "python",
   "name": "python3"
  },
  "language_info": {
   "codemirror_mode": {
    "name": "ipython",
    "version": 3
   },
   "file_extension": ".py",
   "mimetype": "text/x-python",
   "name": "python",
   "nbconvert_exporter": "python",
   "pygments_lexer": "ipython3",
   "version": "3.6.5"
  }
 },
 "nbformat": 4,
 "nbformat_minor": 2
}
